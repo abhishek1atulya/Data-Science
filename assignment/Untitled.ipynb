{
 "cells": [
  {
   "cell_type": "code",
   "execution_count": 2,
   "id": "e67c2a9c-1b3a-4d0b-afa9-255b777b06a7",
   "metadata": {},
   "outputs": [],
   "source": [
    "import pandas as pd\n",
    "df = pd.read_csv('huawei_100k_000000000000.csv')"
   ]
  },
  {
   "cell_type": "code",
   "execution_count": 3,
   "id": "c0174eac-b70e-45f4-9bc9-1866d464b533",
   "metadata": {},
   "outputs": [
    {
     "data": {
      "text/html": [
       "<div>\n",
       "<style scoped>\n",
       "    .dataframe tbody tr th:only-of-type {\n",
       "        vertical-align: middle;\n",
       "    }\n",
       "\n",
       "    .dataframe tbody tr th {\n",
       "        vertical-align: top;\n",
       "    }\n",
       "\n",
       "    .dataframe thead th {\n",
       "        text-align: right;\n",
       "    }\n",
       "</style>\n",
       "<table border=\"1\" class=\"dataframe\">\n",
       "  <thead>\n",
       "    <tr style=\"text-align: right;\">\n",
       "      <th></th>\n",
       "      <th>Vendor</th>\n",
       "      <th>Node_Name</th>\n",
       "      <th>Alarm_Name</th>\n",
       "      <th>Alarm_ID</th>\n",
       "      <th>Node_IP</th>\n",
       "      <th>Alarm_Time</th>\n",
       "      <th>Identification</th>\n",
       "      <th>Severity</th>\n",
       "      <th>Recovery</th>\n",
       "      <th>Fault</th>\n",
       "    </tr>\n",
       "  </thead>\n",
       "  <tbody>\n",
       "    <tr>\n",
       "      <th>0</th>\n",
       "      <td>Huawei IPRAN</td>\n",
       "      <td>LSK-ZM3517-ST-ANNE-MBASELA-ATN01</td>\n",
       "      <td>Link Down</td>\n",
       "      <td>3</td>\n",
       "      <td>10.20.0.1</td>\n",
       "      <td>2024-11-28 14:45:41 UTC</td>\n",
       "      <td>676544de95517151c4f7d75b</td>\n",
       "      <td>Critical</td>\n",
       "      <td>True</td>\n",
       "      <td>False</td>\n",
       "    </tr>\n",
       "    <tr>\n",
       "      <th>1</th>\n",
       "      <td>Huawei IPRAN</td>\n",
       "      <td>LSK-ZM0720-OLD-KANYAMA-ATN910D-01</td>\n",
       "      <td>Optical Fail</td>\n",
       "      <td>2505222</td>\n",
       "      <td>10.20.0.2</td>\n",
       "      <td>2024-09-08 08:19:04 UTC</td>\n",
       "      <td>676536c4f7f8e92e6b936bed</td>\n",
       "      <td>Critical</td>\n",
       "      <td>False</td>\n",
       "      <td>False</td>\n",
       "    </tr>\n",
       "    <tr>\n",
       "      <th>2</th>\n",
       "      <td>Huawei IPRAN</td>\n",
       "      <td>LSK-ZM0720-OLD-KANYAMA-ATN910D-01</td>\n",
       "      <td>BFD session down</td>\n",
       "      <td>2605066</td>\n",
       "      <td>10.20.0.2</td>\n",
       "      <td>2024-11-08 12:31:46 UTC</td>\n",
       "      <td>67653976784179638769742f</td>\n",
       "      <td>Major</td>\n",
       "      <td>False</td>\n",
       "      <td>False</td>\n",
       "    </tr>\n",
       "    <tr>\n",
       "      <th>3</th>\n",
       "      <td>Huawei IPRAN</td>\n",
       "      <td>LSK-ZM0720-OLD-KANYAMA-ATN910D-01</td>\n",
       "      <td>BFD session down</td>\n",
       "      <td>2605066</td>\n",
       "      <td>10.20.0.2</td>\n",
       "      <td>2024-11-25 12:46:51 UTC</td>\n",
       "      <td>676544e3a27b8d8ac485f389</td>\n",
       "      <td>Major</td>\n",
       "      <td>False</td>\n",
       "      <td>False</td>\n",
       "    </tr>\n",
       "    <tr>\n",
       "      <th>4</th>\n",
       "      <td>Huawei IPRAN</td>\n",
       "      <td>LSK-ZM0720-OLD-KANYAMA-ATN910D-01</td>\n",
       "      <td>BFD session down</td>\n",
       "      <td>2605066</td>\n",
       "      <td>10.20.0.2</td>\n",
       "      <td>2024-11-25 12:58:05 UTC</td>\n",
       "      <td>676544e4a27b8d8ac48643a0</td>\n",
       "      <td>Major</td>\n",
       "      <td>False</td>\n",
       "      <td>False</td>\n",
       "    </tr>\n",
       "  </tbody>\n",
       "</table>\n",
       "</div>"
      ],
      "text/plain": [
       "         Vendor                          Node_Name        Alarm_Name  \\\n",
       "0  Huawei IPRAN   LSK-ZM3517-ST-ANNE-MBASELA-ATN01         Link Down   \n",
       "1  Huawei IPRAN  LSK-ZM0720-OLD-KANYAMA-ATN910D-01      Optical Fail   \n",
       "2  Huawei IPRAN  LSK-ZM0720-OLD-KANYAMA-ATN910D-01  BFD session down   \n",
       "3  Huawei IPRAN  LSK-ZM0720-OLD-KANYAMA-ATN910D-01  BFD session down   \n",
       "4  Huawei IPRAN  LSK-ZM0720-OLD-KANYAMA-ATN910D-01  BFD session down   \n",
       "\n",
       "   Alarm_ID    Node_IP               Alarm_Time            Identification  \\\n",
       "0         3  10.20.0.1  2024-11-28 14:45:41 UTC  676544de95517151c4f7d75b   \n",
       "1   2505222  10.20.0.2  2024-09-08 08:19:04 UTC  676536c4f7f8e92e6b936bed   \n",
       "2   2605066  10.20.0.2  2024-11-08 12:31:46 UTC  67653976784179638769742f   \n",
       "3   2605066  10.20.0.2  2024-11-25 12:46:51 UTC  676544e3a27b8d8ac485f389   \n",
       "4   2605066  10.20.0.2  2024-11-25 12:58:05 UTC  676544e4a27b8d8ac48643a0   \n",
       "\n",
       "   Severity  Recovery  Fault  \n",
       "0  Critical      True  False  \n",
       "1  Critical     False  False  \n",
       "2     Major     False  False  \n",
       "3     Major     False  False  \n",
       "4     Major     False  False  "
      ]
     },
     "execution_count": 3,
     "metadata": {},
     "output_type": "execute_result"
    }
   ],
   "source": [
    "df.head()"
   ]
  },
  {
   "cell_type": "code",
   "execution_count": 4,
   "id": "94c651d4-2eeb-40d7-87b5-cb8662b3e817",
   "metadata": {},
   "outputs": [],
   "source": [
    "y = df['Alarm_Time']"
   ]
  },
  {
   "cell_type": "code",
   "execution_count": 7,
   "id": "c99b7b86-e2b8-4da4-9e77-fd85c38e8d08",
   "metadata": {},
   "outputs": [],
   "source": [
    "X = df.drop('Alarm_Time',axis=1)"
   ]
  },
  {
   "cell_type": "code",
   "execution_count": null,
   "id": "266669ac-9835-4dcd-a174-d542be8ee479",
   "metadata": {},
   "outputs": [],
   "source": []
  }
 ],
 "metadata": {
  "kernelspec": {
   "display_name": "Python 3 (ipykernel)",
   "language": "python",
   "name": "python3"
  },
  "language_info": {
   "codemirror_mode": {
    "name": "ipython",
    "version": 3
   },
   "file_extension": ".py",
   "mimetype": "text/x-python",
   "name": "python",
   "nbconvert_exporter": "python",
   "pygments_lexer": "ipython3",
   "version": "3.12.7"
  }
 },
 "nbformat": 4,
 "nbformat_minor": 5
}
