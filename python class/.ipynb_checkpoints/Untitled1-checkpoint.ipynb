{
 "cells": [
  {
   "cell_type": "code",
   "execution_count": 16,
   "id": "5bcefa96-af38-4c12-868e-35439288c457",
   "metadata": {},
   "outputs": [],
   "source": [
    "li = [1,2,2,5,3,3,7,6,6,8,8,8,8,9]\n",
    "outputlist = [1,4,5,6,7,12,32,9]\n"
   ]
  },
  {
   "cell_type": "code",
   "execution_count": 17,
   "id": "792e6cee-b7d7-46dc-900a-ba5883a66702",
   "metadata": {},
   "outputs": [
    {
     "data": {
      "text/plain": [
       "[1, 4, 5, 6, 7, 12, 32, 9]"
      ]
     },
     "execution_count": 17,
     "metadata": {},
     "output_type": "execute_result"
    }
   ],
   "source": [
    "l=[]\n",
    "j=0\n",
    "for i in range(len(li)):\n",
    "    c=1\n",
    "    if i>=j:\n",
    "        for j in range(i+1,len(li)):\n",
    "            if li[i]==li[j]:\n",
    "                c+=1\n",
    "            else:\n",
    "                l.append(c*li[i])\n",
    "                break\n",
    "                \n",
    "l.append(li.count(li[-1])*li[-1])\n",
    "l"
   ]
  },
  {
   "cell_type": "code",
   "execution_count": 27,
   "id": "d621da6d-9f7c-4834-8298-7dde0cfc518e",
   "metadata": {},
   "outputs": [
    {
     "data": {
      "text/plain": [
       "[1, 4, 5, 6, 7, 12, 32, 9]"
      ]
     },
     "execution_count": 27,
     "metadata": {},
     "output_type": "execute_result"
    }
   ],
   "source": [
    "li = [1,2,2,5,3,3,7,6,6,8,8,8,8,9]\n",
    "outputlist = [1,4,5,6,7,12,32,9]\n",
    "l=[]\n",
    "from collections import defaultdict, Counter\n",
    "c=Counter(li)\n",
    "for i, v in c.items():\n",
    "    l.append(i*v)\n",
    "l"
   ]
  },
  {
   "cell_type": "code",
   "execution_count": 24,
   "id": "7e720366-54a7-4389-8fbc-e7744a3898a5",
   "metadata": {},
   "outputs": [
    {
     "data": {
      "text/plain": [
       "Counter({8: 4, 2: 2, 3: 2, 6: 2, 1: 1, 5: 1, 7: 1, 9: 1})"
      ]
     },
     "execution_count": 24,
     "metadata": {},
     "output_type": "execute_result"
    }
   ],
   "source": [
    "Counter(li)"
   ]
  },
  {
   "cell_type": "code",
   "execution_count": 29,
   "id": "1a2580e4-68fb-437c-9f45-b2b4cbfc10e6",
   "metadata": {},
   "outputs": [
    {
     "data": {
      "text/plain": [
       "[1, 4, 6, 5, 12, 7, 32, 9]"
      ]
     },
     "execution_count": 29,
     "metadata": {},
     "output_type": "execute_result"
    }
   ],
   "source": [
    "li = [1,2,2,5,3,3,7,6,6,8,8,8,8,9]\n",
    "outputlist = [1,4,5,6,7,12,32,9]\n",
    "[i*li.count(i) for i in set(li)]"
   ]
  },
  {
   "cell_type": "code",
   "execution_count": 37,
   "id": "0ebd399e-8c77-4ec4-a96c-91f036275a98",
   "metadata": {},
   "outputs": [
    {
     "data": {
      "text/plain": [
       "4"
      ]
     },
     "execution_count": 37,
     "metadata": {},
     "output_type": "execute_result"
    }
   ],
   "source": [
    "60-56"
   ]
  },
  {
   "cell_type": "code",
   "execution_count": null,
   "id": "608315a8-5d03-4e45-8367-5b25a3d6ef05",
   "metadata": {},
   "outputs": [],
   "source": []
  }
 ],
 "metadata": {
  "kernelspec": {
   "display_name": "Python 3 (ipykernel)",
   "language": "python",
   "name": "python3"
  },
  "language_info": {
   "codemirror_mode": {
    "name": "ipython",
    "version": 3
   },
   "file_extension": ".py",
   "mimetype": "text/x-python",
   "name": "python",
   "nbconvert_exporter": "python",
   "pygments_lexer": "ipython3",
   "version": "3.12.7"
  }
 },
 "nbformat": 4,
 "nbformat_minor": 5
}
