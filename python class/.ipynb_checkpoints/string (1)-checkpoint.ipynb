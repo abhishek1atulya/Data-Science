{
 "cells": [
  {
   "cell_type": "code",
   "execution_count": null,
   "id": "3ff3baca-6968-4707-b881-a85fbec19af8",
   "metadata": {
    "scrolled": true
   },
   "outputs": [],
   "source": [
    "# type(1123456) non iterable"
   ]
  },
  {
   "cell_type": "code",
   "execution_count": null,
   "id": "650eb123-d99a-4264-8612-237acbcdec2e",
   "metadata": {
    "scrolled": true
   },
   "outputs": [],
   "source": [
    "type(12.13244)"
   ]
  },
  {
   "cell_type": "code",
   "execution_count": null,
   "id": "a5facd50-356a-4b23-8c63-f66d67df881e",
   "metadata": {},
   "outputs": [],
   "source": [
    "s= \"2,this is python class\" \n",
    "print(id(s))\n",
    "s='12345'\n",
    "print(id(s))"
   ]
  },
  {
   "cell_type": "code",
   "execution_count": null,
   "id": "2fe8b99f-050f-4fe2-9aeb-ae4a787eeed1",
   "metadata": {},
   "outputs": [],
   "source": [
    "s[1]"
   ]
  },
  {
   "cell_type": "code",
   "execution_count": null,
   "id": "80418ed4-9396-4ae3-94fd-6056909ee3ae",
   "metadata": {},
   "outputs": [],
   "source": [
    "l=['this',2,2,4.5,(1,3,4)]\n",
    "print(l,id(l))\n",
    "l[0]=12\n",
    "print(l,id(l))"
   ]
  },
  {
   "cell_type": "code",
   "execution_count": null,
   "id": "dd81b38f-808c-46b6-b49a-52d339b345d7",
   "metadata": {},
   "outputs": [],
   "source": [
    "l[0]"
   ]
  },
  {
   "cell_type": "code",
   "execution_count": null,
   "id": "96bf0dd2-f71e-4dcd-9fbe-2db4ac17663b",
   "metadata": {},
   "outputs": [],
   "source": [
    "t=('this',2,2,4.5,(1,3,4),[12,3])\n",
    "print(t,id(t))\n",
    "t[0]=12\n",
    "print(t,id(t))"
   ]
  },
  {
   "cell_type": "code",
   "execution_count": null,
   "id": "82c1e363-52ac-4d4b-9c10-f1abd2901e04",
   "metadata": {},
   "outputs": [],
   "source": [
    "d={'1':100,'2':500, 2:1, (1,2):3 }\n",
    "d['1']"
   ]
  },
  {
   "cell_type": "code",
   "execution_count": null,
   "id": "9099bca7-82ec-4b69-b16f-289ea3e2b914",
   "metadata": {},
   "outputs": [],
   "source": [
    "s={1,2,3,2,31,2,31,2,'1','1'}\n",
    "s[0]"
   ]
  },
  {
   "cell_type": "code",
   "execution_count": null,
   "id": "3e9236d3",
   "metadata": {
    "scrolled": true
   },
   "outputs": [],
   "source": [
    "help(str)"
   ]
  },
  {
   "cell_type": "code",
   "execution_count": null,
   "id": "52158048",
   "metadata": {},
   "outputs": [],
   "source": [
    "s1='string1'\n",
    "s2='String1'"
   ]
  },
  {
   "cell_type": "code",
   "execution_count": null,
   "id": "351205fd",
   "metadata": {},
   "outputs": [],
   "source": [
    "s1+s2"
   ]
  },
  {
   "cell_type": "code",
   "execution_count": null,
   "id": "f74fd048-80c8-46de-8e38-26cbb99ab567",
   "metadata": {},
   "outputs": [],
   "source": [
    "'2'.__add__('3')"
   ]
  },
  {
   "cell_type": "code",
   "execution_count": null,
   "id": "ad84dbeb-4ba7-4d80-a8dc-43d77158131f",
   "metadata": {},
   "outputs": [],
   "source": [
    "2+3"
   ]
  },
  {
   "cell_type": "code",
   "execution_count": null,
   "id": "db6fea29-09a3-4840-968e-0d03f942faba",
   "metadata": {
    "scrolled": true
   },
   "outputs": [],
   "source": [
    "'2'+'3'"
   ]
  },
  {
   "cell_type": "code",
   "execution_count": null,
   "id": "3c39d97f",
   "metadata": {},
   "outputs": [],
   "source": [
    "s1"
   ]
  },
  {
   "cell_type": "code",
   "execution_count": null,
   "id": "994c8b2d",
   "metadata": {},
   "outputs": [],
   "source": [
    "s1='string'\n",
    "'sr' in s1"
   ]
  },
  {
   "cell_type": "code",
   "execution_count": null,
   "id": "e4f63871-b71e-4e48-aef1-f602dc2bdb8a",
   "metadata": {},
   "outputs": [],
   "source": [
    "s1.__contains__('s')"
   ]
  },
  {
   "cell_type": "code",
   "execution_count": null,
   "id": "191bada3",
   "metadata": {},
   "outputs": [],
   "source": [
    "s1==s2"
   ]
  },
  {
   "cell_type": "code",
   "execution_count": null,
   "id": "d3016717",
   "metadata": {},
   "outputs": [],
   "source": [
    "s1='s'\n",
    "s2='string1'\n",
    "s1>s2"
   ]
  },
  {
   "cell_type": "code",
   "execution_count": null,
   "id": "fbb17d98-6c70-4b07-b7a5-55e635b2a185",
   "metadata": {},
   "outputs": [],
   "source": [
    "s='apple'\n",
    "s1=2\n",
    "s>s1"
   ]
  },
  {
   "cell_type": "code",
   "execution_count": null,
   "id": "31894e2a-a2d4-4513-b491-bb112f5889cb",
   "metadata": {},
   "outputs": [],
   "source": [
    "s='apple'\n",
    "s1=2\n",
    "s!=s1"
   ]
  },
  {
   "cell_type": "code",
   "execution_count": null,
   "id": "35422d45",
   "metadata": {},
   "outputs": [],
   "source": [
    "ord('1')"
   ]
  },
  {
   "cell_type": "code",
   "execution_count": null,
   "id": "571dead7",
   "metadata": {},
   "outputs": [],
   "source": [
    "s='this is pyrhon class'\n",
    "s[2]"
   ]
  },
  {
   "cell_type": "code",
   "execution_count": null,
   "id": "91c3f10a",
   "metadata": {},
   "outputs": [],
   "source": [
    "len(s)"
   ]
  },
  {
   "cell_type": "code",
   "execution_count": null,
   "id": "b6c950e9-54d5-456c-82f1-0f5e65840eb3",
   "metadata": {},
   "outputs": [],
   "source": [
    "s='0,1,2,3,4,5,6,7,8,9'\n",
    "len(s)"
   ]
  },
  {
   "cell_type": "code",
   "execution_count": null,
   "id": "e4b41d68-1ce2-48dd-a100-f6b4e13ec2e6",
   "metadata": {},
   "outputs": [],
   "source": [
    "# maximum value of index = len(s)-1\n",
    "# minimum value of index = -len(s)\n",
    "# range of index -len(s) to len(s)-1\n",
    "# indexing is used for to retrive one data"
   ]
  },
  {
   "cell_type": "code",
   "execution_count": null,
   "id": "ef35401a-ae71-4cdc-a2f6-7ab7668ff047",
   "metadata": {},
   "outputs": [],
   "source": [
    "s[-1]"
   ]
  },
  {
   "cell_type": "code",
   "execution_count": null,
   "id": "c2b8633c-0c7c-4286-a71c-bdeb5869b50f",
   "metadata": {},
   "outputs": [],
   "source": [
    "s[-21]"
   ]
  },
  {
   "cell_type": "code",
   "execution_count": null,
   "id": "0d8f894a-678f-4daf-81db-a62ef6c2ef2b",
   "metadata": {},
   "outputs": [],
   "source": [
    "s"
   ]
  },
  {
   "cell_type": "code",
   "execution_count": null,
   "id": "8ed07783-c614-47e0-81ac-d0a84dc8f5de",
   "metadata": {},
   "outputs": [],
   "source": [
    "s[len(s)-3]==s[-3]"
   ]
  },
  {
   "cell_type": "code",
   "execution_count": null,
   "id": "a13d2efc-2f08-477e-b2bf-cf2fddebcc31",
   "metadata": {},
   "outputs": [],
   "source": [
    "s"
   ]
  },
  {
   "cell_type": "code",
   "execution_count": null,
   "id": "13fb50a0-a201-4b5a-9b8b-321b1a169ad1",
   "metadata": {},
   "outputs": [],
   "source": [
    "# slicing is used for to retrive many values from the string\n",
    "s[0:5:2]"
   ]
  },
  {
   "cell_type": "code",
   "execution_count": null,
   "id": "acb364ba-32c5-4ded-827f-9bb42c04d5e8",
   "metadata": {},
   "outputs": [],
   "source": [
    "s='0123456789'"
   ]
  },
  {
   "cell_type": "code",
   "execution_count": null,
   "id": "5ca4238a-ba1d-4228-bae0-455414474c03",
   "metadata": {},
   "outputs": [],
   "source": [
    "s[2:6]"
   ]
  },
  {
   "cell_type": "code",
   "execution_count": null,
   "id": "8c83bfa0-185c-4262-813c-2fe1b00ea2a7",
   "metadata": {},
   "outputs": [],
   "source": [
    "s[-3:9]"
   ]
  },
  {
   "cell_type": "code",
   "execution_count": null,
   "id": "b6473523-adef-403f-aae7-aa3b1ac4433b",
   "metadata": {},
   "outputs": [],
   "source": [
    "s[-6:2:-2]"
   ]
  },
  {
   "cell_type": "code",
   "execution_count": null,
   "id": "922faab0-86ea-47a4-a134-b6f81e8e987b",
   "metadata": {},
   "outputs": [],
   "source": [
    "s"
   ]
  },
  {
   "cell_type": "code",
   "execution_count": null,
   "id": "7b456b7a-3c3e-4c65-969d-8ebfa9dbf0aa",
   "metadata": {},
   "outputs": [],
   "source": [
    "s[-9:9:2]"
   ]
  },
  {
   "cell_type": "code",
   "execution_count": null,
   "id": "38dc7b1b-1883-4f58-8d12-ef0990728eab",
   "metadata": {},
   "outputs": [],
   "source": [
    "s[-3:0:-1]"
   ]
  },
  {
   "cell_type": "code",
   "execution_count": null,
   "id": "1c0824b2-abe8-4561-9034-33b04fee826c",
   "metadata": {
    "scrolled": true
   },
   "outputs": [],
   "source": [
    "# locate the initial point on the string then move with the step size till the end point comes\n",
    "# if end poin does not come in the way it give the empaty string\n",
    "# default value of step size = 1\n",
    "# if step size is positive\n",
    "# default value of initial point = 0\n",
    "# default value of end point = any positive large number\n",
    "# if step size is positive\n",
    "# default value of initial point = 0\n",
    "# default value of end point = any positive large number\n",
    "# if step size is positive\n",
    "# default value of initial point = -1\n",
    "# default value of end point = any negative large number"
   ]
  },
  {
   "cell_type": "code",
   "execution_count": null,
   "id": "d8a42f98-ffba-47b4-9d5d-7c1c4ae3cf74",
   "metadata": {},
   "outputs": [],
   "source": [
    "s[::-1] #  string reversal"
   ]
  },
  {
   "cell_type": "code",
   "execution_count": null,
   "id": "37229c48-5541-4437-aa4b-a8d1274bec55",
   "metadata": {},
   "outputs": [],
   "source": [
    "s"
   ]
  },
  {
   "cell_type": "code",
   "execution_count": null,
   "id": "cfce0e57",
   "metadata": {
    "scrolled": true
   },
   "outputs": [],
   "source": [
    "s[0:4:2]"
   ]
  },
  {
   "cell_type": "code",
   "execution_count": null,
   "id": "bffdf526",
   "metadata": {},
   "outputs": [],
   "source": [
    "s[1]"
   ]
  },
  {
   "cell_type": "code",
   "execution_count": null,
   "id": "78af90e1",
   "metadata": {},
   "outputs": [],
   "source": [
    "len(s)"
   ]
  },
  {
   "cell_type": "code",
   "execution_count": null,
   "id": "d22b7263-fac7-4a2b-bb47-bd2cebe0ca2e",
   "metadata": {},
   "outputs": [],
   "source": [
    "s"
   ]
  },
  {
   "cell_type": "code",
   "execution_count": null,
   "id": "9c84a633",
   "metadata": {},
   "outputs": [],
   "source": [
    "s[0:19]"
   ]
  },
  {
   "cell_type": "code",
   "execution_count": null,
   "id": "4b131106",
   "metadata": {},
   "outputs": [],
   "source": [
    "s[19]"
   ]
  },
  {
   "cell_type": "code",
   "execution_count": null,
   "id": "521f1303",
   "metadata": {},
   "outputs": [],
   "source": [
    "s[0:21000000:2]"
   ]
  },
  {
   "cell_type": "code",
   "execution_count": null,
   "id": "8b21d2ad-1a16-442e-9eaa-5272a6d1ce6a",
   "metadata": {},
   "outputs": [],
   "source": [
    "s"
   ]
  },
  {
   "cell_type": "code",
   "execution_count": null,
   "id": "d296292a",
   "metadata": {
    "scrolled": true
   },
   "outputs": [],
   "source": [
    "# s[1:-1:-2]\n",
    "# s[2:]\n",
    "s[:2]"
   ]
  },
  {
   "cell_type": "code",
   "execution_count": null,
   "id": "710a892f",
   "metadata": {},
   "outputs": [],
   "source": [
    "s[2:]"
   ]
  },
  {
   "cell_type": "code",
   "execution_count": null,
   "id": "09d0eca8",
   "metadata": {},
   "outputs": [],
   "source": [
    "s[-2:]"
   ]
  },
  {
   "cell_type": "code",
   "execution_count": null,
   "id": "8d11f531",
   "metadata": {
    "scrolled": true
   },
   "outputs": [],
   "source": [
    "s[:2]"
   ]
  },
  {
   "cell_type": "code",
   "execution_count": null,
   "id": "612a99f0",
   "metadata": {},
   "outputs": [],
   "source": [
    "s"
   ]
  },
  {
   "cell_type": "code",
   "execution_count": null,
   "id": "efbfa12f",
   "metadata": {},
   "outputs": [],
   "source": [
    "s[0:15:-1]"
   ]
  },
  {
   "cell_type": "code",
   "execution_count": null,
   "id": "58f6e0e7",
   "metadata": {},
   "outputs": [],
   "source": [
    "s[19:0:-1]"
   ]
  },
  {
   "cell_type": "code",
   "execution_count": null,
   "id": "5907e369",
   "metadata": {},
   "outputs": [],
   "source": [
    "s[:]"
   ]
  },
  {
   "cell_type": "code",
   "execution_count": null,
   "id": "98e1d879",
   "metadata": {},
   "outputs": [],
   "source": [
    "s[::]"
   ]
  },
  {
   "cell_type": "code",
   "execution_count": null,
   "id": "9c1e05d8",
   "metadata": {},
   "outputs": [],
   "source": [
    "s[::-1]"
   ]
  },
  {
   "cell_type": "code",
   "execution_count": null,
   "id": "ff575a6c-e08d-45d6-ac19-165041e7ca52",
   "metadata": {},
   "outputs": [],
   "source": [
    "s"
   ]
  },
  {
   "cell_type": "code",
   "execution_count": null,
   "id": "d204c8cd",
   "metadata": {
    "scrolled": true
   },
   "outputs": [],
   "source": [
    "s[0:-1:-1]"
   ]
  },
  {
   "cell_type": "code",
   "execution_count": null,
   "id": "fb4395e1",
   "metadata": {},
   "outputs": [],
   "source": [
    "s[-1::-2]"
   ]
  },
  {
   "cell_type": "code",
   "execution_count": null,
   "id": "0378a946-4295-430d-a1af-a0550d5c5e09",
   "metadata": {},
   "outputs": [],
   "source": [
    "s"
   ]
  },
  {
   "cell_type": "code",
   "execution_count": null,
   "id": "cd774f39",
   "metadata": {
    "scrolled": true
   },
   "outputs": [],
   "source": [
    "s[len(s):-len(s):-2]"
   ]
  },
  {
   "cell_type": "code",
   "execution_count": null,
   "id": "6473f8f4",
   "metadata": {
    "scrolled": true
   },
   "outputs": [],
   "source": [
    "hash(s)"
   ]
  },
  {
   "cell_type": "code",
   "execution_count": null,
   "id": "ef1e73c8",
   "metadata": {},
   "outputs": [],
   "source": [
    "hash(2.5)"
   ]
  },
  {
   "cell_type": "code",
   "execution_count": null,
   "id": "74fdf61e-fe0a-4c6a-acc5-ef90bad73272",
   "metadata": {},
   "outputs": [],
   "source": [
    "id(s)"
   ]
  },
  {
   "cell_type": "code",
   "execution_count": null,
   "id": "97bf9702",
   "metadata": {},
   "outputs": [],
   "source": [
    "p=iter(s)"
   ]
  },
  {
   "cell_type": "code",
   "execution_count": null,
   "id": "b1efbcc7",
   "metadata": {},
   "outputs": [],
   "source": [
    "next(p)"
   ]
  },
  {
   "cell_type": "code",
   "execution_count": null,
   "id": "20c22d52",
   "metadata": {},
   "outputs": [],
   "source": [
    "s"
   ]
  },
  {
   "cell_type": "code",
   "execution_count": null,
   "id": "41f4b2b9",
   "metadata": {
    "scrolled": true
   },
   "outputs": [],
   "source": [
    "s.__sizeof__()"
   ]
  },
  {
   "cell_type": "code",
   "execution_count": null,
   "id": "db85a9e2",
   "metadata": {},
   "outputs": [],
   "source": [
    "size(s)"
   ]
  },
  {
   "cell_type": "code",
   "execution_count": null,
   "id": "c310294b",
   "metadata": {},
   "outputs": [],
   "source": [
    "20+20"
   ]
  },
  {
   "cell_type": "code",
   "execution_count": null,
   "id": "d85ba6bc",
   "metadata": {},
   "outputs": [],
   "source": [
    "print('sbhdueii')"
   ]
  },
  {
   "cell_type": "code",
   "execution_count": null,
   "id": "7966cddb",
   "metadata": {},
   "outputs": [],
   "source": [
    "s='string'\n",
    "s*3"
   ]
  },
  {
   "cell_type": "code",
   "execution_count": null,
   "id": "b969758d",
   "metadata": {},
   "outputs": [],
   "source": [
    "s=s*2"
   ]
  },
  {
   "cell_type": "code",
   "execution_count": null,
   "id": "2668dfa0",
   "metadata": {},
   "outputs": [],
   "source": [
    "s"
   ]
  },
  {
   "cell_type": "code",
   "execution_count": null,
   "id": "5513b635",
   "metadata": {},
   "outputs": [],
   "source": [
    "s='string'\n",
    "s*=2"
   ]
  },
  {
   "cell_type": "code",
   "execution_count": null,
   "id": "c09010ed",
   "metadata": {},
   "outputs": [],
   "source": [
    "s"
   ]
  },
  {
   "cell_type": "code",
   "execution_count": null,
   "id": "b15b9f2b-d6b7-41eb-8181-96f3e2273ec4",
   "metadata": {},
   "outputs": [],
   "source": [
    "s='a'"
   ]
  },
  {
   "cell_type": "code",
   "execution_count": null,
   "id": "99450616-af71-4d17-97f9-2d5088826a07",
   "metadata": {},
   "outputs": [],
   "source": [
    "s+=s # s=s+s"
   ]
  },
  {
   "cell_type": "code",
   "execution_count": null,
   "id": "b6128ee3-a472-48f6-8e0f-b324a236fa2f",
   "metadata": {},
   "outputs": [],
   "source": [
    "s"
   ]
  },
  {
   "cell_type": "code",
   "execution_count": null,
   "id": "f37932d9",
   "metadata": {},
   "outputs": [],
   "source": [
    "s=str()\n",
    "s"
   ]
  },
  {
   "cell_type": "code",
   "execution_count": null,
   "id": "66e10c6e-b0eb-4355-9ebd-6beff90c668e",
   "metadata": {},
   "outputs": [],
   "source": [
    "n=2"
   ]
  },
  {
   "cell_type": "code",
   "execution_count": null,
   "id": "d8e360e7-8b58-408a-993d-dc7acbf3e324",
   "metadata": {},
   "outputs": [],
   "source": [
    "n/=2 # n= n*2\n",
    "n"
   ]
  },
  {
   "cell_type": "code",
   "execution_count": null,
   "id": "7bc769e2",
   "metadata": {},
   "outputs": [],
   "source": [
    "s=''\n",
    "s"
   ]
  },
  {
   "cell_type": "code",
   "execution_count": null,
   "id": "71b4ef08",
   "metadata": {},
   "outputs": [],
   "source": [
    "r='a'"
   ]
  },
  {
   "cell_type": "code",
   "execution_count": null,
   "id": "aac034b4",
   "metadata": {},
   "outputs": [],
   "source": [
    "s+=r\n",
    "s"
   ]
  },
  {
   "cell_type": "code",
   "execution_count": null,
   "id": "650ad5c2",
   "metadata": {},
   "outputs": [],
   "source": [
    "s='string'\n",
    "s.capitalize()"
   ]
  },
  {
   "cell_type": "code",
   "execution_count": null,
   "id": "5334fa84",
   "metadata": {},
   "outputs": [],
   "source": [
    "s"
   ]
  },
  {
   "cell_type": "code",
   "execution_count": null,
   "id": "c312c5dd",
   "metadata": {},
   "outputs": [],
   "source": [
    "s1+s2"
   ]
  },
  {
   "cell_type": "code",
   "execution_count": null,
   "id": "652a4f74",
   "metadata": {},
   "outputs": [],
   "source": [
    "s1"
   ]
  },
  {
   "cell_type": "code",
   "execution_count": null,
   "id": "8a5347eb-87cf-4a62-9f02-7e13169263a4",
   "metadata": {
    "scrolled": true
   },
   "outputs": [],
   "source": [
    "help(str)"
   ]
  },
  {
   "cell_type": "code",
   "execution_count": null,
   "id": "f686fe33",
   "metadata": {
    "scrolled": true
   },
   "outputs": [],
   "source": [
    "s='this is my String'\n",
    "s.capitalize()"
   ]
  },
  {
   "cell_type": "code",
   "execution_count": null,
   "id": "980dad69-5a40-4960-8153-bdf2813b7ba2",
   "metadata": {},
   "outputs": [],
   "source": [
    "s='This iS my String'\n",
    "s.casefold()"
   ]
  },
  {
   "cell_type": "code",
   "execution_count": null,
   "id": "38248d5e",
   "metadata": {},
   "outputs": [],
   "source": [
    "# impo\n",
    "s='This is my string'\n",
    "print(len(s))\n",
    "s.center(26,'#')"
   ]
  },
  {
   "cell_type": "code",
   "execution_count": null,
   "id": "10c60956",
   "metadata": {},
   "outputs": [],
   "source": [
    "s='This is my string'\n",
    "s.rjust(20,'#')"
   ]
  },
  {
   "cell_type": "code",
   "execution_count": null,
   "id": "67d98b77",
   "metadata": {},
   "outputs": [],
   "source": [
    "s='This is my string'\n",
    "s.ljust(20,'#')"
   ]
  },
  {
   "cell_type": "code",
   "execution_count": null,
   "id": "d34fd185",
   "metadata": {},
   "outputs": [],
   "source": [
    "s='This is my string'\n",
    "s.zfill(20)"
   ]
  },
  {
   "cell_type": "code",
   "execution_count": null,
   "id": "0859fd10",
   "metadata": {},
   "outputs": [],
   "source": [
    "# impo\n",
    "s='This is my string'\n",
    "print(s.count('is'))\n",
    "print(s.count('is',0,5))\n",
    "s='isisisis'\n",
    "print(s.count('isi'))"
   ]
  },
  {
   "cell_type": "code",
   "execution_count": null,
   "id": "1fcab725-5916-4b9d-99d0-04ed7e348923",
   "metadata": {},
   "outputs": [],
   "source": [
    "s"
   ]
  },
  {
   "cell_type": "code",
   "execution_count": null,
   "id": "4c443a7b",
   "metadata": {},
   "outputs": [],
   "source": [
    "a=s.encode('utf-16')\n",
    "a"
   ]
  },
  {
   "cell_type": "code",
   "execution_count": null,
   "id": "8fcc0ca0",
   "metadata": {},
   "outputs": [],
   "source": [
    "s='This is my string'\n",
    "print(s.endswith('s'))\n",
    "print(s.endswith('s',0,7))"
   ]
  },
  {
   "cell_type": "code",
   "execution_count": null,
   "id": "a25f6b0f",
   "metadata": {},
   "outputs": [],
   "source": [
    "s='This\\t is\\t my\\t string'\n",
    "s.expandtabs(2)"
   ]
  },
  {
   "cell_type": "code",
   "execution_count": 1,
   "id": "57978d7a",
   "metadata": {},
   "outputs": [
    {
     "name": "stdout",
     "output_type": "stream",
     "text": [
      "2\n",
      "5\n"
     ]
    }
   ],
   "source": [
    "# impo\n",
    "s='This is my string'\n",
    "print(s.find('is'))\n",
    "print(s.find('is',3,7))\n"
   ]
  },
  {
   "cell_type": "code",
   "execution_count": 2,
   "id": "1d0fb5ce",
   "metadata": {},
   "outputs": [
    {
     "data": {
      "text/plain": [
       "5"
      ]
     },
     "execution_count": 2,
     "metadata": {},
     "output_type": "execute_result"
    }
   ],
   "source": [
    "# impo\n",
    "s='This is my string'\n",
    "s.index('is',3,7)"
   ]
  },
  {
   "cell_type": "code",
   "execution_count": 3,
   "id": "3c2faef5",
   "metadata": {},
   "outputs": [
    {
     "data": {
      "text/plain": [
       "-1"
      ]
     },
     "execution_count": 3,
     "metadata": {},
     "output_type": "execute_result"
    }
   ],
   "source": [
    "s='This is my string'\n",
    "s.find('z')"
   ]
  },
  {
   "cell_type": "code",
   "execution_count": 4,
   "id": "0a070e70",
   "metadata": {},
   "outputs": [
    {
     "ename": "ValueError",
     "evalue": "substring not found",
     "output_type": "error",
     "traceback": [
      "\u001b[1;31m---------------------------------------------------------------------------\u001b[0m",
      "\u001b[1;31mValueError\u001b[0m                                Traceback (most recent call last)",
      "Cell \u001b[1;32mIn[4], line 2\u001b[0m\n\u001b[0;32m      1\u001b[0m s\u001b[38;5;241m=\u001b[39m\u001b[38;5;124m'\u001b[39m\u001b[38;5;124mThis is my string\u001b[39m\u001b[38;5;124m'\u001b[39m\n\u001b[1;32m----> 2\u001b[0m s\u001b[38;5;241m.\u001b[39mindex(\u001b[38;5;124m'\u001b[39m\u001b[38;5;124mz\u001b[39m\u001b[38;5;124m'\u001b[39m)\n",
      "\u001b[1;31mValueError\u001b[0m: substring not found"
     ]
    }
   ],
   "source": [
    "# impo\n",
    "s='This is my string'\n",
    "s.index('z')"
   ]
  },
  {
   "cell_type": "code",
   "execution_count": 5,
   "id": "13a103cc",
   "metadata": {},
   "outputs": [
    {
     "data": {
      "text/plain": [
       "5"
      ]
     },
     "execution_count": 5,
     "metadata": {},
     "output_type": "execute_result"
    }
   ],
   "source": [
    "s='This is my string'\n",
    "s.rfind('is')"
   ]
  },
  {
   "cell_type": "code",
   "execution_count": 6,
   "id": "5d42ec52",
   "metadata": {},
   "outputs": [
    {
     "data": {
      "text/plain": [
       "-1"
      ]
     },
     "execution_count": 6,
     "metadata": {},
     "output_type": "execute_result"
    }
   ],
   "source": [
    "s='This is my string'\n",
    "s.rfind('z')"
   ]
  },
  {
   "cell_type": "code",
   "execution_count": 7,
   "id": "045dcec7",
   "metadata": {},
   "outputs": [
    {
     "data": {
      "text/plain": [
       "5"
      ]
     },
     "execution_count": 7,
     "metadata": {},
     "output_type": "execute_result"
    }
   ],
   "source": [
    "s='This is my string'\n",
    "s.rindex('is')"
   ]
  },
  {
   "cell_type": "code",
   "execution_count": 8,
   "id": "933db3fe",
   "metadata": {},
   "outputs": [
    {
     "ename": "ValueError",
     "evalue": "substring not found",
     "output_type": "error",
     "traceback": [
      "\u001b[1;31m---------------------------------------------------------------------------\u001b[0m",
      "\u001b[1;31mValueError\u001b[0m                                Traceback (most recent call last)",
      "Cell \u001b[1;32mIn[8], line 2\u001b[0m\n\u001b[0;32m      1\u001b[0m s\u001b[38;5;241m=\u001b[39m\u001b[38;5;124m'\u001b[39m\u001b[38;5;124mThis is my string\u001b[39m\u001b[38;5;124m'\u001b[39m\n\u001b[1;32m----> 2\u001b[0m s\u001b[38;5;241m.\u001b[39mrindex(\u001b[38;5;124m'\u001b[39m\u001b[38;5;124mz\u001b[39m\u001b[38;5;124m'\u001b[39m)\n",
      "\u001b[1;31mValueError\u001b[0m: substring not found"
     ]
    }
   ],
   "source": [
    "s='This is my string'\n",
    "s.rindex('z')"
   ]
  },
  {
   "cell_type": "code",
   "execution_count": 21,
   "id": "9bc6c23f",
   "metadata": {},
   "outputs": [
    {
     "data": {
      "text/plain": [
       "'This is 12 day of python class 2.000000 4b 21'"
      ]
     },
     "execution_count": 21,
     "metadata": {},
     "output_type": "execute_result"
    }
   ],
   "source": [
    "s= 'This is %d day of %s class %f %x %o'\n",
    "s%(12,'python',2, 75, 17)"
   ]
  },
  {
   "cell_type": "code",
   "execution_count": 12,
   "id": "b82c1b2d-45fc-4ac9-975d-7841c360a51e",
   "metadata": {},
   "outputs": [],
   "source": [
    "# 0,1,2,3,4,5,6,7,8,9,10,12,13,14,15,16,17 decimal\n",
    "# 0,1,2,3,4,5,6,7,10,11,12,13,14,15,16,17,20,21,22,23,24,25,26,27,30 octal\n",
    "# 0,1,10,11,100,101,110,111,1000,1001,1010,1011 binary\n",
    "# 0,1,2,3,4,5,6,7,8,9,a,b,c,d,e,f,10,11,12,13,14,15,16,17,18,19,1a,1b,1c,1d,1e,1f,20 hexadecimal"
   ]
  },
  {
   "cell_type": "code",
   "execution_count": 20,
   "id": "bdb36580-f3fb-4cbb-a26d-f6d79d08fc0d",
   "metadata": {},
   "outputs": [
    {
     "data": {
      "text/plain": [
       "'0o21'"
      ]
     },
     "execution_count": 20,
     "metadata": {},
     "output_type": "execute_result"
    }
   ],
   "source": [
    "oct(17)"
   ]
  },
  {
   "cell_type": "code",
   "execution_count": 16,
   "id": "9121f078-f167-48c2-8163-c48f31802c92",
   "metadata": {},
   "outputs": [
    {
     "data": {
      "text/plain": [
       "'0b1100'"
      ]
     },
     "execution_count": 16,
     "metadata": {},
     "output_type": "execute_result"
    }
   ],
   "source": [
    "bin(12)"
   ]
  },
  {
   "cell_type": "code",
   "execution_count": 18,
   "id": "8a878170-94b4-4695-a380-822193ad7f78",
   "metadata": {},
   "outputs": [
    {
     "data": {
      "text/plain": [
       "'0x4b'"
      ]
     },
     "execution_count": 18,
     "metadata": {},
     "output_type": "execute_result"
    }
   ],
   "source": [
    "hex(75)"
   ]
  },
  {
   "cell_type": "code",
   "execution_count": 22,
   "id": "908c02f7",
   "metadata": {},
   "outputs": [],
   "source": [
    "n=3\n",
    "m=3"
   ]
  },
  {
   "cell_type": "code",
   "execution_count": 23,
   "id": "ed1d74f2",
   "metadata": {},
   "outputs": [
    {
     "name": "stdout",
     "output_type": "stream",
     "text": [
      "sum of 3 + 3 = 6\n"
     ]
    }
   ],
   "source": [
    "print('sum of %d + %d = %d'%(n,m,m+n))"
   ]
  },
  {
   "cell_type": "code",
   "execution_count": 24,
   "id": "36a0d75d",
   "metadata": {},
   "outputs": [
    {
     "name": "stdout",
     "output_type": "stream",
     "text": [
      "sum of 3 and 3 is equal to 6\n"
     ]
    }
   ],
   "source": [
    "print(f'sum of {n} and {m} is equal to {m+n}')"
   ]
  },
  {
   "cell_type": "code",
   "execution_count": 26,
   "id": "d6b8a652",
   "metadata": {},
   "outputs": [
    {
     "data": {
      "text/plain": [
       "'This is 3 day of python class'"
      ]
     },
     "execution_count": 26,
     "metadata": {},
     "output_type": "execute_result"
    }
   ],
   "source": [
    "s= 'This is {} day of {} class'\n",
    "s.format(3,'python')"
   ]
  },
  {
   "cell_type": "code",
   "execution_count": 27,
   "id": "1e55730c",
   "metadata": {},
   "outputs": [
    {
     "data": {
      "text/plain": [
       "'This is python day of python 3 class'"
      ]
     },
     "execution_count": 27,
     "metadata": {},
     "output_type": "execute_result"
    }
   ],
   "source": [
    "# impo\n",
    "s= 'This is {sub} day of {sub} {} class'\n",
    "s.format(3,13,13,sub='python')"
   ]
  },
  {
   "cell_type": "code",
   "execution_count": 28,
   "id": "455f780a",
   "metadata": {},
   "outputs": [
    {
     "data": {
      "text/plain": [
       "'This is 1 day of 2 3 class'"
      ]
     },
     "execution_count": 28,
     "metadata": {},
     "output_type": "execute_result"
    }
   ],
   "source": [
    "# impo\n",
    "s= 'This is {sub1} day of {sub2} {sub3} class'\n",
    "s.format_map({'sub1':1,'sub2':2,'sub3':3})"
   ]
  },
  {
   "cell_type": "code",
   "execution_count": 30,
   "id": "ba2deb85",
   "metadata": {},
   "outputs": [
    {
     "name": "stdout",
     "output_type": "stream",
     "text": [
      "True\n",
      "False\n"
     ]
    }
   ],
   "source": [
    "# impo\n",
    "s='thisis2nddayofpythonclass'\n",
    "print(s.isalnum())\n",
    "s='thisis2  nddayofpythonclass'\n",
    "print(s.isalnum())"
   ]
  },
  {
   "cell_type": "code",
   "execution_count": 34,
   "id": "426ed522",
   "metadata": {},
   "outputs": [
    {
     "data": {
      "text/plain": [
       "True"
      ]
     },
     "execution_count": 34,
     "metadata": {},
     "output_type": "execute_result"
    }
   ],
   "source": [
    "# impo\n",
    "s='thisisdayofpythonclass'\n",
    "s.isalpha()"
   ]
  },
  {
   "cell_type": "code",
   "execution_count": 35,
   "id": "16b33401",
   "metadata": {},
   "outputs": [
    {
     "data": {
      "text/plain": [
       "False"
      ]
     },
     "execution_count": 35,
     "metadata": {},
     "output_type": "execute_result"
    }
   ],
   "source": [
    "s='あ (a), い (i), う (u), え (e), お (o),'\n",
    "s.isascii()"
   ]
  },
  {
   "cell_type": "code",
   "execution_count": 36,
   "id": "d2eee332",
   "metadata": {},
   "outputs": [
    {
     "data": {
      "text/plain": [
       "True"
      ]
     },
     "execution_count": 36,
     "metadata": {},
     "output_type": "execute_result"
    }
   ],
   "source": [
    "s='~!@#$%^&*()32se5dr6ftg8huikok-[08p9o8i654sfgc m,\\']'\n",
    "s.isascii()"
   ]
  },
  {
   "cell_type": "code",
   "execution_count": 37,
   "id": "fdc0eb92",
   "metadata": {},
   "outputs": [
    {
     "data": {
      "text/plain": [
       "False"
      ]
     },
     "execution_count": 37,
     "metadata": {},
     "output_type": "execute_result"
    }
   ],
   "source": [
    "s='1232a7d'\n",
    "s.isdecimal()"
   ]
  },
  {
   "cell_type": "code",
   "execution_count": 38,
   "id": "543344b7",
   "metadata": {},
   "outputs": [
    {
     "data": {
      "text/plain": [
       "True"
      ]
     },
     "execution_count": 38,
     "metadata": {},
     "output_type": "execute_result"
    }
   ],
   "source": [
    "s='12327'\n",
    "s.isdecimal()"
   ]
  },
  {
   "cell_type": "code",
   "execution_count": 43,
   "id": "6dff2edb",
   "metadata": {},
   "outputs": [
    {
     "data": {
      "text/plain": [
       "True"
      ]
     },
     "execution_count": 43,
     "metadata": {},
     "output_type": "execute_result"
    }
   ],
   "source": [
    "s='123456'\n",
    "s.isdigit()"
   ]
  },
  {
   "cell_type": "code",
   "execution_count": 44,
   "id": "d561bed8",
   "metadata": {},
   "outputs": [
    {
     "data": {
      "text/plain": [
       "False"
      ]
     },
     "execution_count": 44,
     "metadata": {},
     "output_type": "execute_result"
    }
   ],
   "source": [
    "# impo\n",
    "s='12327.12'\n",
    "s.isnumeric()"
   ]
  },
  {
   "cell_type": "code",
   "execution_count": 46,
   "id": "9abf430e",
   "metadata": {},
   "outputs": [
    {
     "data": {
      "text/plain": [
       "False"
      ]
     },
     "execution_count": 46,
     "metadata": {},
     "output_type": "execute_result"
    }
   ],
   "source": [
    "# it should always starts with (a-z,A-Z,_) then we can have digits(0 to 9)\n",
    "s='9c'\n",
    "s.isidentifier()"
   ]
  },
  {
   "cell_type": "code",
   "execution_count": 49,
   "id": "7f615563",
   "metadata": {},
   "outputs": [
    {
     "data": {
      "text/plain": [
       "True"
      ]
     },
     "execution_count": 49,
     "metadata": {},
     "output_type": "execute_result"
    }
   ],
   "source": [
    "s='_c'\n",
    "s.isidentifier()"
   ]
  },
  {
   "cell_type": "code",
   "execution_count": 51,
   "id": "a78da303-6f17-493e-bd04-7ff86dfd3bfe",
   "metadata": {},
   "outputs": [],
   "source": [
    "c9=12"
   ]
  },
  {
   "cell_type": "code",
   "execution_count": 52,
   "id": "6f793b1e-ff7d-4a78-9ddf-8e36527c08a3",
   "metadata": {},
   "outputs": [
    {
     "data": {
      "text/plain": [
       "True"
      ]
     },
     "execution_count": 52,
     "metadata": {},
     "output_type": "execute_result"
    }
   ],
   "source": [
    "s='c9'\n",
    "s.isidentifier()"
   ]
  },
  {
   "cell_type": "code",
   "execution_count": null,
   "id": "03935a92-b8bc-4f38-a69e-266b76c00606",
   "metadata": {},
   "outputs": [],
   "source": []
  }
 ],
 "metadata": {
  "kernelspec": {
   "display_name": "Python 3 (ipykernel)",
   "language": "python",
   "name": "python3"
  },
  "language_info": {
   "codemirror_mode": {
    "name": "ipython",
    "version": 3
   },
   "file_extension": ".py",
   "mimetype": "text/x-python",
   "name": "python",
   "nbconvert_exporter": "python",
   "pygments_lexer": "ipython3",
   "version": "3.12.7"
  }
 },
 "nbformat": 4,
 "nbformat_minor": 5
}
