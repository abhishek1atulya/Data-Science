{
 "cells": [
  {
   "cell_type": "code",
   "execution_count": 5,
   "metadata": {
    "colab": {
     "base_uri": "https://localhost:8080/"
    },
    "id": "t19_gq09KjvE",
    "outputId": "3a3c0a7a-d863-4a81-e081-22be273c9086"
   },
   "outputs": [
    {
     "name": "stdout",
     "output_type": "stream",
     "text": [
      "2.5.1+cpu\n"
     ]
    }
   ],
   "source": [
    "import torch\n",
    "print(torch.__version__)"
   ]
  },
  {
   "cell_type": "code",
   "execution_count": 6,
   "metadata": {
    "colab": {
     "base_uri": "https://localhost:8080/"
    },
    "id": "W8o-1cUl4M2x",
    "outputId": "cc5d3abc-d3f6-4568-9590-07a5bd95c4ad"
   },
   "outputs": [
    {
     "name": "stdout",
     "output_type": "stream",
     "text": [
      "GPU not available. Using CPU.\n"
     ]
    }
   ],
   "source": [
    "if torch.cuda.is_available():\n",
    "    print(\"GPU is available!\")\n",
    "    print(f\"Using GPU: {torch.cuda.get_device_name(0)}\")\n",
    "else:\n",
    "    print(\"GPU not available. Using CPU.\")"
   ]
  },
  {
   "cell_type": "markdown",
   "metadata": {
    "id": "BFcs4wpz4wlA"
   },
   "source": [
    "## Creating a Tensor"
   ]
  },
  {
   "cell_type": "code",
   "execution_count": 7,
   "metadata": {
    "id": "AYzOQK7n4nNq"
   },
   "outputs": [],
   "source": [
    "# using empty\n",
    "a = torch.empty(2,3)"
   ]
  },
  {
   "cell_type": "code",
   "execution_count": 10,
   "metadata": {},
   "outputs": [
    {
     "data": {
      "text/plain": [
       "torch.Size([2, 3])"
      ]
     },
     "execution_count": 10,
     "metadata": {},
     "output_type": "execute_result"
    }
   ],
   "source": [
    "a.shape"
   ]
  },
  {
   "cell_type": "code",
   "execution_count": 11,
   "metadata": {
    "colab": {
     "base_uri": "https://localhost:8080/"
    },
    "id": "cSOoTAZY5FR1",
    "outputId": "d85de7cd-fa8e-4e79-8a8e-e3adaa86fc5f"
   },
   "outputs": [
    {
     "data": {
      "text/plain": [
       "torch.Tensor"
      ]
     },
     "execution_count": 11,
     "metadata": {},
     "output_type": "execute_result"
    }
   ],
   "source": [
    "# check type\n",
    "type(a)"
   ]
  },
  {
   "cell_type": "code",
   "execution_count": 12,
   "metadata": {
    "colab": {
     "base_uri": "https://localhost:8080/"
    },
    "id": "LxVQPOVN47Dt",
    "outputId": "bc713dac-9dce-47a7-c099-bfdc83a2cf23"
   },
   "outputs": [
    {
     "data": {
      "text/plain": [
       "tensor([[0., 0., 0.],\n",
       "        [0., 0., 0.]])"
      ]
     },
     "execution_count": 12,
     "metadata": {},
     "output_type": "execute_result"
    }
   ],
   "source": [
    "# using zeros\n",
    "torch.zeros(2,3)"
   ]
  },
  {
   "cell_type": "code",
   "execution_count": 13,
   "metadata": {
    "colab": {
     "base_uri": "https://localhost:8080/"
    },
    "id": "U3-KPOlX48mT",
    "outputId": "c5355d7e-4975-4cd1-e1a0-e52e6ee271d2"
   },
   "outputs": [
    {
     "data": {
      "text/plain": [
       "tensor([[1., 1., 1.],\n",
       "        [1., 1., 1.]])"
      ]
     },
     "execution_count": 13,
     "metadata": {},
     "output_type": "execute_result"
    }
   ],
   "source": [
    "# using ones\n",
    "torch.ones(2,3)"
   ]
  },
  {
   "cell_type": "code",
   "execution_count": 14,
   "metadata": {
    "colab": {
     "base_uri": "https://localhost:8080/"
    },
    "id": "U_j_mRGK4-DA",
    "outputId": "557aafe1-d51f-4fbb-ecf1-37a0e5f881e5"
   },
   "outputs": [
    {
     "data": {
      "text/plain": [
       "tensor([[0.6670, 0.0081, 0.9105],\n",
       "        [0.9871, 0.1406, 0.5388]])"
      ]
     },
     "execution_count": 14,
     "metadata": {},
     "output_type": "execute_result"
    }
   ],
   "source": [
    "# using rand\n",
    "torch.rand(2,3)"
   ]
  },
  {
   "cell_type": "code",
   "execution_count": 21,
   "metadata": {
    "scrolled": true
   },
   "outputs": [
    {
     "name": "stdout",
     "output_type": "stream",
     "text": [
      "Help on module torch.random in torch:\n",
      "\n",
      "NAME\n",
      "    torch.random - # mypy: allow-untyped-defs\n",
      "\n",
      "FUNCTIONS\n",
      "    fork_rng(devices=None, enabled=True, _caller='fork_rng', _devices_kw='devices', device_type='cuda') -> Generator\n",
      "        Forks the RNG, so that when you return, the RNG is reset\n",
      "        to the state that it was previously in.\n",
      "\n",
      "        Args:\n",
      "            devices (iterable of Device IDs): devices for which to fork\n",
      "                the RNG. CPU RNG state is always forked. By default, :meth:`fork_rng` operates\n",
      "                on all devices, but will emit a warning if your machine has a lot\n",
      "                of devices, since this function will run very slowly in that case.\n",
      "                If you explicitly specify devices, this warning will be suppressed\n",
      "            enabled (bool): if ``False``, the RNG is not forked.  This is a convenience\n",
      "                argument for easily disabling the context manager without having\n",
      "                to delete it and unindent your Python code under it.\n",
      "            device_type (str): device type str, default is `cuda`. As for custom device,\n",
      "                see details in [Note: support the custom device with privateuse1]\n",
      "\n",
      "    get_rng_state() -> torch.Tensor\n",
      "        Returns the random number generator state as a `torch.ByteTensor`.\n",
      "\n",
      "        .. note:: The returned state is for the default generator on CPU only.\n",
      "\n",
      "        See also: :func:`torch.random.fork_rng`.\n",
      "\n",
      "    initial_seed() -> int\n",
      "        Returns the initial seed for generating random numbers as a\n",
      "        Python `long`.\n",
      "\n",
      "        .. note:: The returned seed is for the default generator on CPU only.\n",
      "\n",
      "    manual_seed(seed) -> torch._C.Generator\n",
      "        Sets the seed for generating random numbers on all devices. Returns a\n",
      "        `torch.Generator` object.\n",
      "\n",
      "        Args:\n",
      "            seed (int): The desired seed. Value must be within the inclusive range\n",
      "                `[-0x8000_0000_0000_0000, 0xffff_ffff_ffff_ffff]`. Otherwise, a RuntimeError\n",
      "                is raised. Negative inputs are remapped to positive values with the formula\n",
      "                `0xffff_ffff_ffff_ffff + seed`.\n",
      "\n",
      "    seed() -> int\n",
      "        Sets the seed for generating random numbers to a non-deterministic\n",
      "        random number on all devices. Returns a 64 bit number used to seed the RNG.\n",
      "\n",
      "    set_rng_state(new_state: torch.Tensor) -> None\n",
      "        Sets the random number generator state.\n",
      "\n",
      "        .. note:: This function only works for CPU. For CUDA, please use\n",
      "            :func:`torch.manual_seed`, which works for both CPU and CUDA.\n",
      "\n",
      "        Args:\n",
      "            new_state (torch.ByteTensor): The desired state\n",
      "\n",
      "DATA\n",
      "    Generator = typing.Generator\n",
      "        A generic version of collections.abc.Generator.\n",
      "\n",
      "    default_generator = <torch._C.Generator object>\n",
      "\n",
      "FILE\n",
      "    c:\\users\\tbaka\\anaconda3\\lib\\site-packages\\torch\\random.py\n",
      "\n",
      "\n"
     ]
    }
   ],
   "source": [
    "help(torch.random)"
   ]
  },
  {
   "cell_type": "code",
   "execution_count": 30,
   "metadata": {
    "colab": {
     "base_uri": "https://localhost:8080/"
    },
    "id": "lCAf-HRw5SiA",
    "outputId": "7716f89f-7e5b-420f-d142-911d659de81f"
   },
   "outputs": [
    {
     "data": {
      "text/plain": [
       "tensor([[0.0948, 0.4509, 0.9975],\n",
       "        [0.5904, 0.0789, 0.7344]])"
      ]
     },
     "execution_count": 30,
     "metadata": {},
     "output_type": "execute_result"
    }
   ],
   "source": [
    "# use of seed\n",
    "c=torch.random.seed()\n",
    "torch.rand(2,3)"
   ]
  },
  {
   "cell_type": "code",
   "execution_count": 31,
   "metadata": {
    "colab": {
     "base_uri": "https://localhost:8080/"
    },
    "id": "DvAqsoFG5UMr",
    "outputId": "78421041-53ed-4ed9-f44b-3c3d25f5eb49"
   },
   "outputs": [
    {
     "data": {
      "text/plain": [
       "tensor([[0.0948, 0.4509, 0.9975],\n",
       "        [0.5904, 0.0789, 0.7344]])"
      ]
     },
     "execution_count": 31,
     "metadata": {},
     "output_type": "execute_result"
    }
   ],
   "source": [
    "# manual_seed\n",
    "torch.manual_seed(c)\n",
    "torch.rand(2,3)"
   ]
  },
  {
   "cell_type": "code",
   "execution_count": 32,
   "metadata": {
    "colab": {
     "base_uri": "https://localhost:8080/"
    },
    "id": "96Akgtgs5Ulp",
    "outputId": "dbe6ae12-a145-4a22-c1ef-362bced7534d"
   },
   "outputs": [
    {
     "data": {
      "text/plain": [
       "tensor([[0.1117, 0.8158, 0.2626],\n",
       "        [0.4839, 0.6765, 0.7539]])"
      ]
     },
     "execution_count": 32,
     "metadata": {},
     "output_type": "execute_result"
    }
   ],
   "source": [
    "torch.manual_seed(100)\n",
    "torch.rand(2,3)"
   ]
  },
  {
   "cell_type": "code",
   "execution_count": 33,
   "metadata": {},
   "outputs": [
    {
     "data": {
      "text/plain": [
       "tensor([[0.1117, 0.8158, 0.2626],\n",
       "        [0.4839, 0.6765, 0.7539]])"
      ]
     },
     "execution_count": 33,
     "metadata": {},
     "output_type": "execute_result"
    }
   ],
   "source": [
    "torch.manual_seed(100)\n",
    "torch.rand(2,3)"
   ]
  },
  {
   "cell_type": "code",
   "execution_count": 34,
   "metadata": {
    "colab": {
     "base_uri": "https://localhost:8080/"
    },
    "id": "-YLLqcGB4_4J",
    "outputId": "5ecd81d0-ba0f-4dee-f3c3-7c1960ac3430"
   },
   "outputs": [
    {
     "data": {
      "text/plain": [
       "tensor([[1, 2, 3],\n",
       "        [4, 5, 6]])"
      ]
     },
     "execution_count": 34,
     "metadata": {},
     "output_type": "execute_result"
    }
   ],
   "source": [
    "# using tensor\n",
    "torch.tensor([[1,2,3],[4,5,6]])"
   ]
  },
  {
   "cell_type": "code",
   "execution_count": 35,
   "metadata": {
    "colab": {
     "base_uri": "https://localhost:8080/"
    },
    "id": "nLj35yxr6Qgv",
    "outputId": "963b286d-055d-4a20-9b79-6d58bfe66127"
   },
   "outputs": [
    {
     "name": "stdout",
     "output_type": "stream",
     "text": [
      "using arange -> tensor([0, 2, 4, 6, 8])\n",
      "using linspace -> tensor([ 0.0000,  1.1111,  2.2222,  3.3333,  4.4444,  5.5556,  6.6667,  7.7778,\n",
      "         8.8889, 10.0000])\n",
      "using eye -> tensor([[1., 0., 0., 0., 0.],\n",
      "        [0., 1., 0., 0., 0.],\n",
      "        [0., 0., 1., 0., 0.],\n",
      "        [0., 0., 0., 1., 0.],\n",
      "        [0., 0., 0., 0., 1.]])\n",
      "using full -> tensor([[5, 5, 5],\n",
      "        [5, 5, 5],\n",
      "        [5, 5, 5]])\n"
     ]
    }
   ],
   "source": [
    "# other ways\n",
    "\n",
    "# arange\n",
    "print(\"using arange ->\", torch.arange(0,10,2))\n",
    "\n",
    "# using linspace\n",
    "print(\"using linspace ->\", torch.linspace(0,10,10))\n",
    "\n",
    "# using eye\n",
    "print(\"using eye ->\", torch.eye(5))\n",
    "\n",
    "# using full\n",
    "print(\"using full ->\", torch.full((3, 3), 5))"
   ]
  },
  {
   "cell_type": "markdown",
   "metadata": {
    "id": "0ejaUWSkinz0"
   },
   "source": [
    "## Tensor Shapes"
   ]
  },
  {
   "cell_type": "code",
   "execution_count": 40,
   "metadata": {
    "colab": {
     "base_uri": "https://localhost:8080/"
    },
    "id": "HDrr5mQ86R4K",
    "outputId": "a8e5bd35-eb3c-4a0c-b652-e21dfa26e9b0"
   },
   "outputs": [
    {
     "data": {
      "text/plain": [
       "tensor([[1, 2, 3],\n",
       "        [4, 5, 6]])"
      ]
     },
     "execution_count": 40,
     "metadata": {},
     "output_type": "execute_result"
    }
   ],
   "source": [
    "x = torch.tensor([[1,2,3],[4,5,6]])\n",
    "x"
   ]
  },
  {
   "cell_type": "code",
   "execution_count": 41,
   "metadata": {
    "colab": {
     "base_uri": "https://localhost:8080/"
    },
    "id": "xGZhrLablBq-",
    "outputId": "a7a0c599-a75e-4a34-b032-c7d6fe5e37e6"
   },
   "outputs": [
    {
     "data": {
      "text/plain": [
       "torch.Size([2, 3])"
      ]
     },
     "execution_count": 41,
     "metadata": {},
     "output_type": "execute_result"
    }
   ],
   "source": [
    "x.shape"
   ]
  },
  {
   "cell_type": "code",
   "execution_count": 42,
   "metadata": {
    "colab": {
     "base_uri": "https://localhost:8080/"
    },
    "id": "NEQW9QhmlKXA",
    "outputId": "514e0fa0-09c6-4373-e0ce-9418d9c22f2d"
   },
   "outputs": [
    {
     "data": {
      "text/plain": [
       "tensor([[1, 1, 1],\n",
       "        [1, 1, 1]])"
      ]
     },
     "execution_count": 42,
     "metadata": {},
     "output_type": "execute_result"
    }
   ],
   "source": [
    "torch.empty_like(x)"
   ]
  },
  {
   "cell_type": "code",
   "execution_count": 43,
   "metadata": {
    "colab": {
     "base_uri": "https://localhost:8080/"
    },
    "id": "PyyKSNHTlXMU",
    "outputId": "b4e7644b-d630-4e07-df5f-6821107c968d"
   },
   "outputs": [
    {
     "data": {
      "text/plain": [
       "tensor([[0, 0, 0],\n",
       "        [0, 0, 0]])"
      ]
     },
     "execution_count": 43,
     "metadata": {},
     "output_type": "execute_result"
    }
   ],
   "source": [
    "torch.zeros_like(x)"
   ]
  },
  {
   "cell_type": "code",
   "execution_count": 44,
   "metadata": {
    "colab": {
     "base_uri": "https://localhost:8080/"
    },
    "id": "WtKV7Wxalb3l",
    "outputId": "57ce0f49-40aa-4f38-ced2-90847cc65cfa"
   },
   "outputs": [
    {
     "data": {
      "text/plain": [
       "tensor([[1, 1, 1],\n",
       "        [1, 1, 1]])"
      ]
     },
     "execution_count": 44,
     "metadata": {},
     "output_type": "execute_result"
    }
   ],
   "source": [
    "torch.ones_like(x)"
   ]
  },
  {
   "cell_type": "code",
   "execution_count": 45,
   "metadata": {
    "colab": {
     "base_uri": "https://localhost:8080/"
    },
    "id": "1WS_uk8ileyH",
    "outputId": "da2e905a-b62d-4f5d-e45f-6b570ba287e5"
   },
   "outputs": [
    {
     "data": {
      "text/plain": [
       "tensor([[0.2627, 0.0428, 0.2080],\n",
       "        [0.1180, 0.1217, 0.7356]])"
      ]
     },
     "execution_count": 45,
     "metadata": {},
     "output_type": "execute_result"
    }
   ],
   "source": [
    "torch.rand_like(x, dtype=torch.float32)"
   ]
  },
  {
   "cell_type": "markdown",
   "metadata": {
    "id": "nYM1fR5BmxIf"
   },
   "source": [
    "## Tensor Data Types"
   ]
  },
  {
   "cell_type": "code",
   "execution_count": 46,
   "metadata": {
    "colab": {
     "base_uri": "https://localhost:8080/"
    },
    "id": "Jy-rBsKSliAe",
    "outputId": "587f779c-48ec-4146-c282-e824c5163ac1"
   },
   "outputs": [
    {
     "data": {
      "text/plain": [
       "torch.int64"
      ]
     },
     "execution_count": 46,
     "metadata": {},
     "output_type": "execute_result"
    }
   ],
   "source": [
    "# find data type\n",
    "x.dtype"
   ]
  },
  {
   "cell_type": "code",
   "execution_count": 47,
   "metadata": {
    "colab": {
     "base_uri": "https://localhost:8080/"
    },
    "id": "6T2gmrujnaMA",
    "outputId": "38ba3cd1-b85f-43e0-ba9d-9b84cf5e12dd"
   },
   "outputs": [
    {
     "data": {
      "text/plain": [
       "tensor([1, 2, 3], dtype=torch.int32)"
      ]
     },
     "execution_count": 47,
     "metadata": {},
     "output_type": "execute_result"
    }
   ],
   "source": [
    "# assign data type\n",
    "torch.tensor([1.0,2.0,3.0], dtype=torch.int32)"
   ]
  },
  {
   "cell_type": "code",
   "execution_count": 48,
   "metadata": {
    "colab": {
     "base_uri": "https://localhost:8080/"
    },
    "id": "wZ8lMLsInffd",
    "outputId": "0e2841a9-a4a7-4093-fd82-9fbf9a7b5d9b"
   },
   "outputs": [
    {
     "data": {
      "text/plain": [
       "tensor([1., 2., 3.], dtype=torch.float64)"
      ]
     },
     "execution_count": 48,
     "metadata": {},
     "output_type": "execute_result"
    }
   ],
   "source": [
    "torch.tensor([1,2,3], dtype=torch.float64)"
   ]
  },
  {
   "cell_type": "code",
   "execution_count": 49,
   "metadata": {
    "colab": {
     "base_uri": "https://localhost:8080/"
    },
    "id": "WTAB-h_ing07",
    "outputId": "d2abbc1d-28db-4fda-fdd9-e5646ae4482a"
   },
   "outputs": [
    {
     "data": {
      "text/plain": [
       "tensor([[1., 2., 3.],\n",
       "        [4., 5., 6.]])"
      ]
     },
     "execution_count": 49,
     "metadata": {},
     "output_type": "execute_result"
    }
   ],
   "source": [
    "# using to()\n",
    "x.to(torch.float32)"
   ]
  },
  {
   "cell_type": "markdown",
   "metadata": {
    "id": "dLm25jhknmuQ"
   },
   "source": [
    "| **Data Type**             | **Dtype**         | **Description**                                                                                                                                                                |\n",
    "|---------------------------|-------------------|--------------------------------------------------------------------------------------------------------------------------------------------------------------------------------|\n",
    "| **32-bit Floating Point** | `torch.float32`   | Standard floating-point type used for most deep learning tasks. Provides a balance between precision and memory usage.                                                         |\n",
    "| **64-bit Floating Point** | `torch.float64`   | Double-precision floating point. Useful for high-precision numerical tasks but uses more memory.                                                                               |\n",
    "| **16-bit Floating Point** | `torch.float16`   | Half-precision floating point. Commonly used in mixed-precision training to reduce memory and computational overhead on modern GPUs.                                            |\n",
    "| **BFloat16**              | `torch.bfloat16`  | Brain floating-point format with reduced precision compared to `float16`. Used in mixed-precision training, especially on TPUs.                                                |\n",
    "| **8-bit Floating Point**  | `torch.float8`    | Ultra-low-precision floating point. Used for experimental applications and extreme memory-constrained environments (less common).                                               |\n",
    "| **8-bit Integer**         | `torch.int8`      | 8-bit signed integer. Used for quantized models to save memory and computation in inference.                                                                                   |\n",
    "| **16-bit Integer**        | `torch.int16`     | 16-bit signed integer. Useful for special numerical tasks requiring intermediate precision.                                                                                    |\n",
    "| **32-bit Integer**        | `torch.int32`     | Standard signed integer type. Commonly used for indexing and general-purpose numerical tasks.                                                                                  |\n",
    "| **64-bit Integer**        | `torch.int64`     | Long integer type. Often used for large indexing arrays or for tasks involving large numbers.                                                                                  |\n",
    "| **8-bit Unsigned Integer**| `torch.uint8`     | 8-bit unsigned integer. Commonly used for image data (e.g., pixel values between 0 and 255).                                                                                    |\n",
    "| **Boolean**               | `torch.bool`      | Boolean type, stores `True` or `False` values. Often used for masks in logical operations.                                                                                      |\n",
    "| **Complex 64**            | `torch.complex64` | Complex number type with 32-bit real and 32-bit imaginary parts. Used for scientific and signal processing tasks.                                                               |\n",
    "| **Complex 128**           | `torch.complex128`| Complex number type with 64-bit real and 64-bit imaginary parts. Offers higher precision but uses more memory.                                                                 |\n",
    "| **Quantized Integer**     | `torch.qint8`     | Quantized signed 8-bit integer. Used in quantized models for efficient inference.                                                                                              |\n",
    "| **Quantized Unsigned Integer** | `torch.quint8` | Quantized unsigned 8-bit integer. Often used for quantized tensors in image-related tasks.                                                                                     |\n"
   ]
  },
  {
   "cell_type": "markdown",
   "metadata": {
    "id": "baPoka3lqpEQ"
   },
   "source": [
    "## Mathematical operations"
   ]
  },
  {
   "cell_type": "markdown",
   "metadata": {
    "id": "wre7rSdlqsOB"
   },
   "source": [
    "### 1. Scalar operation"
   ]
  },
  {
   "cell_type": "code",
   "execution_count": 50,
   "metadata": {
    "colab": {
     "base_uri": "https://localhost:8080/"
    },
    "id": "CS69nYyanqYD",
    "outputId": "e52cb850-57ba-41d2-bb8f-96c70386362a"
   },
   "outputs": [
    {
     "data": {
      "text/plain": [
       "tensor([[0.7118, 0.7876],\n",
       "        [0.4183, 0.9014]])"
      ]
     },
     "execution_count": 50,
     "metadata": {},
     "output_type": "execute_result"
    }
   ],
   "source": [
    "x = torch.rand(2,2)\n",
    "x"
   ]
  },
  {
   "cell_type": "code",
   "execution_count": 54,
   "metadata": {
    "colab": {
     "base_uri": "https://localhost:8080/"
    },
    "id": "ztrwQq-cqyz9",
    "outputId": "8282534a-0a9e-4e66-b9af-dc606428be32"
   },
   "outputs": [
    {
     "data": {
      "text/plain": [
       "tensor([[0.5066, 0.6203],\n",
       "        [0.1750, 0.8125]])"
      ]
     },
     "execution_count": 54,
     "metadata": {},
     "output_type": "execute_result"
    }
   ],
   "source": [
    "# addition\n",
    "x + 2\n",
    "# substraction\n",
    "x - 2\n",
    "# multiplication\n",
    "x * 3\n",
    "# division\n",
    "x / 3\n",
    "# int division\n",
    "(x * 100)//3\n",
    "# mod\n",
    "((x * 100)//3)%2\n",
    "# power\n",
    "x**2"
   ]
  },
  {
   "cell_type": "markdown",
   "metadata": {
    "id": "y2n84o2ZrGcY"
   },
   "source": [
    "### 2. Element wise operation"
   ]
  },
  {
   "cell_type": "code",
   "execution_count": 55,
   "metadata": {
    "colab": {
     "base_uri": "https://localhost:8080/"
    },
    "id": "PcnbNatwq1_3",
    "outputId": "52897250-04d2-4d09-930b-10d01b59bdb0"
   },
   "outputs": [
    {
     "name": "stdout",
     "output_type": "stream",
     "text": [
      "tensor([[0.9969, 0.7565, 0.2239],\n",
      "        [0.3023, 0.1784, 0.8238]])\n",
      "tensor([[0.5557, 0.9770, 0.4440],\n",
      "        [0.9478, 0.7445, 0.4892]])\n"
     ]
    }
   ],
   "source": [
    "a = torch.rand(2,3)\n",
    "b = torch.rand(2,3)\n",
    "\n",
    "print(a)\n",
    "print(b)"
   ]
  },
  {
   "cell_type": "code",
   "execution_count": 56,
   "metadata": {
    "colab": {
     "base_uri": "https://localhost:8080/"
    },
    "id": "Qye9acabrUae",
    "outputId": "6ad12653-577a-4fd4-f3d6-cfe2adaa14af"
   },
   "outputs": [
    {
     "data": {
      "text/plain": [
       "tensor([[0.4411, 0.7565, 0.2239],\n",
       "        [0.3023, 0.1784, 0.3346]])"
      ]
     },
     "execution_count": 56,
     "metadata": {},
     "output_type": "execute_result"
    }
   ],
   "source": [
    "# add\n",
    "a + b\n",
    "# sub\n",
    "a - b\n",
    "# multiply\n",
    "a * b\n",
    "# division\n",
    "a / b\n",
    "# power\n",
    "a ** b\n",
    "# mod\n",
    "a % b"
   ]
  },
  {
   "cell_type": "code",
   "execution_count": 57,
   "metadata": {
    "id": "ftIq3-30rnhR"
   },
   "outputs": [],
   "source": [
    "c = torch.tensor([1, -2, 3, -4])"
   ]
  },
  {
   "cell_type": "code",
   "execution_count": null,
   "metadata": {
    "colab": {
     "base_uri": "https://localhost:8080/"
    },
    "id": "GHWZWPxWr4rG",
    "outputId": "2fb31653-439b-4add-9a43-78177adebb15"
   },
   "outputs": [
    {
     "data": {
      "text/plain": [
       "tensor([1, 2, 3, 4])"
      ]
     },
     "execution_count": 164,
     "metadata": {},
     "output_type": "execute_result"
    }
   ],
   "source": [
    "# abs\n",
    "torch.abs(c)"
   ]
  },
  {
   "cell_type": "code",
   "execution_count": 58,
   "metadata": {
    "colab": {
     "base_uri": "https://localhost:8080/"
    },
    "id": "kROGMVNtrtfT",
    "outputId": "c71b6037-82b1-4544-e904-25f2e90bd8ea"
   },
   "outputs": [
    {
     "data": {
      "text/plain": [
       "tensor([-1,  2, -3,  4])"
      ]
     },
     "execution_count": 58,
     "metadata": {},
     "output_type": "execute_result"
    }
   ],
   "source": [
    "# negative\n",
    "torch.neg(c)"
   ]
  },
  {
   "cell_type": "code",
   "execution_count": 59,
   "metadata": {
    "id": "U2RLWzlaryKh"
   },
   "outputs": [],
   "source": [
    "d = torch.tensor([1.9, 2.3, 3.7, 4.4])"
   ]
  },
  {
   "cell_type": "code",
   "execution_count": 60,
   "metadata": {
    "colab": {
     "base_uri": "https://localhost:8080/"
    },
    "id": "g4OrL7w9sAWF",
    "outputId": "1c38c9de-1f42-496a-c03d-b2962d45b833"
   },
   "outputs": [
    {
     "data": {
      "text/plain": [
       "tensor([2., 2., 4., 4.])"
      ]
     },
     "execution_count": 60,
     "metadata": {},
     "output_type": "execute_result"
    }
   ],
   "source": [
    "# round\n",
    "torch.round(d)"
   ]
  },
  {
   "cell_type": "code",
   "execution_count": null,
   "metadata": {
    "colab": {
     "base_uri": "https://localhost:8080/"
    },
    "id": "1fPsOYOAsEE6",
    "outputId": "c9d36cdd-4329-43f1-ec67-af4a2b5cde0e"
   },
   "outputs": [
    {
     "data": {
      "text/plain": [
       "tensor([2., 3., 4., 5.])"
      ]
     },
     "execution_count": 168,
     "metadata": {},
     "output_type": "execute_result"
    }
   ],
   "source": [
    "# ceil\n",
    "torch.ceil(d)"
   ]
  },
  {
   "cell_type": "code",
   "execution_count": 61,
   "metadata": {
    "colab": {
     "base_uri": "https://localhost:8080/"
    },
    "id": "ilT0yf1TsE6G",
    "outputId": "82af02a5-3012-40de-e172-28f00005713c"
   },
   "outputs": [
    {
     "data": {
      "text/plain": [
       "tensor([1., 2., 3., 4.])"
      ]
     },
     "execution_count": 61,
     "metadata": {},
     "output_type": "execute_result"
    }
   ],
   "source": [
    "# floor\n",
    "torch.floor(d)"
   ]
  },
  {
   "cell_type": "code",
   "execution_count": 62,
   "metadata": {
    "colab": {
     "base_uri": "https://localhost:8080/"
    },
    "id": "ZzVkY4xgsFvP",
    "outputId": "39ea96e1-2a11-46ed-a756-dee74f120e87"
   },
   "outputs": [
    {
     "data": {
      "text/plain": [
       "tensor([2.0000, 2.3000, 3.0000, 3.0000])"
      ]
     },
     "execution_count": 62,
     "metadata": {},
     "output_type": "execute_result"
    }
   ],
   "source": [
    "# clamp\n",
    "torch.clamp(d, min=2, max=3)"
   ]
  },
  {
   "cell_type": "markdown",
   "metadata": {
    "id": "4vWfG_ZmsN0J"
   },
   "source": [
    "### 3. Reduction operation"
   ]
  },
  {
   "cell_type": "code",
   "execution_count": 65,
   "metadata": {},
   "outputs": [
    {
     "data": {
      "text/plain": [
       "tensor([[9., 9., 7.],\n",
       "        [5., 9., 8.],\n",
       "        [9., 7., 9.]])"
      ]
     },
     "execution_count": 65,
     "metadata": {},
     "output_type": "execute_result"
    }
   ],
   "source": [
    "torch.randint(0,10,(3,3),dtype=torch.float32)"
   ]
  },
  {
   "cell_type": "code",
   "execution_count": 63,
   "metadata": {
    "colab": {
     "base_uri": "https://localhost:8080/"
    },
    "id": "JQBlGL52sGae",
    "outputId": "975ccb38-2c5c-471a-909c-7468ef6e1bd4"
   },
   "outputs": [
    {
     "data": {
      "text/plain": [
       "tensor([[8., 0., 7.],\n",
       "        [0., 0., 9.]])"
      ]
     },
     "execution_count": 63,
     "metadata": {},
     "output_type": "execute_result"
    }
   ],
   "source": [
    "e = torch.randint(size=(2,3), low=0, high=10, dtype=torch.float32)\n",
    "e"
   ]
  },
  {
   "cell_type": "code",
   "execution_count": 67,
   "metadata": {
    "colab": {
     "base_uri": "https://localhost:8080/"
    },
    "id": "9o8zMdUosWSs",
    "outputId": "5d02d73c-81d1-4a65-b206-13a1a3edd4e2"
   },
   "outputs": [
    {
     "name": "stdout",
     "output_type": "stream",
     "text": [
      "tensor(24.)\n",
      "tensor([ 8.,  0., 16.])\n",
      "tensor([15.,  9.])\n"
     ]
    }
   ],
   "source": [
    "# sum\n",
    "print(torch.sum(e))\n",
    "# sum along columns\n",
    "print(torch.sum(e, dim=0))\n",
    "# sum along rows\n",
    "print(torch.sum(e, dim=1))"
   ]
  },
  {
   "cell_type": "code",
   "execution_count": 68,
   "metadata": {
    "colab": {
     "base_uri": "https://localhost:8080/"
    },
    "id": "5Am6Hrdssl90",
    "outputId": "5097aa40-e353-4bc9-cabc-3270b9512c80"
   },
   "outputs": [
    {
     "data": {
      "text/plain": [
       "tensor([4., 0., 8.])"
      ]
     },
     "execution_count": 68,
     "metadata": {},
     "output_type": "execute_result"
    }
   ],
   "source": [
    "# mean\n",
    "torch.mean(e)\n",
    "# mean along col\n",
    "torch.mean(e, dim=0)"
   ]
  },
  {
   "cell_type": "code",
   "execution_count": 69,
   "metadata": {
    "colab": {
     "base_uri": "https://localhost:8080/"
    },
    "id": "wIXESOkIs8M8",
    "outputId": "b9ec3c4f-54f0-404f-9c7b-2d07deeb4909"
   },
   "outputs": [
    {
     "data": {
      "text/plain": [
       "tensor(0.)"
      ]
     },
     "execution_count": 69,
     "metadata": {},
     "output_type": "execute_result"
    }
   ],
   "source": [
    "# median\n",
    "torch.median(e)"
   ]
  },
  {
   "cell_type": "code",
   "execution_count": 70,
   "metadata": {
    "colab": {
     "base_uri": "https://localhost:8080/"
    },
    "id": "RIs7y6cysnFT",
    "outputId": "64b872e1-fc5e-4239-d040-a360138265f7"
   },
   "outputs": [
    {
     "data": {
      "text/plain": [
       "tensor(0.)"
      ]
     },
     "execution_count": 70,
     "metadata": {},
     "output_type": "execute_result"
    }
   ],
   "source": [
    "# max and min\n",
    "torch.max(e)\n",
    "torch.min(e)"
   ]
  },
  {
   "cell_type": "code",
   "execution_count": 71,
   "metadata": {
    "colab": {
     "base_uri": "https://localhost:8080/"
    },
    "id": "TIP4CUwasw4Q",
    "outputId": "a0638721-4ba6-41d9-d805-5cf6bb4189c7"
   },
   "outputs": [
    {
     "data": {
      "text/plain": [
       "tensor(0.)"
      ]
     },
     "execution_count": 71,
     "metadata": {},
     "output_type": "execute_result"
    }
   ],
   "source": [
    "# product\n",
    "torch.prod(e)"
   ]
  },
  {
   "cell_type": "code",
   "execution_count": 72,
   "metadata": {
    "colab": {
     "base_uri": "https://localhost:8080/"
    },
    "id": "BAQIjNjwsyLF",
    "outputId": "4c34a64d-25f0-4cb9-820b-b31eed16168e"
   },
   "outputs": [
    {
     "data": {
      "text/plain": [
       "tensor(4.4272)"
      ]
     },
     "execution_count": 72,
     "metadata": {},
     "output_type": "execute_result"
    }
   ],
   "source": [
    "# standard deviation\n",
    "torch.std(e)"
   ]
  },
  {
   "cell_type": "code",
   "execution_count": 73,
   "metadata": {
    "colab": {
     "base_uri": "https://localhost:8080/"
    },
    "id": "78S1Ggv_s2nC",
    "outputId": "c455e21e-d7d3-480d-bcbf-1995e77554d9"
   },
   "outputs": [
    {
     "data": {
      "text/plain": [
       "tensor(19.6000)"
      ]
     },
     "execution_count": 73,
     "metadata": {},
     "output_type": "execute_result"
    }
   ],
   "source": [
    "# variance\n",
    "torch.var(e)"
   ]
  },
  {
   "cell_type": "code",
   "execution_count": 74,
   "metadata": {
    "colab": {
     "base_uri": "https://localhost:8080/"
    },
    "id": "EOtGIsd9s3UZ",
    "outputId": "22e92510-d602-4436-8f89-287d5f8524a1"
   },
   "outputs": [
    {
     "data": {
      "text/plain": [
       "tensor(5)"
      ]
     },
     "execution_count": 74,
     "metadata": {},
     "output_type": "execute_result"
    }
   ],
   "source": [
    "# argmax\n",
    "torch.argmax(e)"
   ]
  },
  {
   "cell_type": "code",
   "execution_count": 75,
   "metadata": {
    "colab": {
     "base_uri": "https://localhost:8080/"
    },
    "id": "J23C1bwes6TL",
    "outputId": "ae4c9df1-2745-4e20-d0f6-0d9176d05a53"
   },
   "outputs": [
    {
     "data": {
      "text/plain": [
       "tensor(1)"
      ]
     },
     "execution_count": 75,
     "metadata": {},
     "output_type": "execute_result"
    }
   ],
   "source": [
    "# argmin\n",
    "torch.argmin(e)"
   ]
  },
  {
   "cell_type": "markdown",
   "metadata": {
    "id": "dw_h9fvMtLXw"
   },
   "source": [
    "### 4. Matrix operations"
   ]
  },
  {
   "cell_type": "code",
   "execution_count": 76,
   "metadata": {
    "colab": {
     "base_uri": "https://localhost:8080/"
    },
    "id": "a54MqBBQs7BJ",
    "outputId": "a712ad9d-3f40-4f83-c7c3-12adb6eef0d8"
   },
   "outputs": [
    {
     "name": "stdout",
     "output_type": "stream",
     "text": [
      "tensor([[2, 6, 7],\n",
      "        [7, 8, 3]])\n",
      "tensor([[6, 1],\n",
      "        [5, 5],\n",
      "        [0, 4]])\n"
     ]
    }
   ],
   "source": [
    "f = torch.randint(size=(2,3), low=0, high=10)\n",
    "g = torch.randint(size=(3,2), low=0, high=10)\n",
    "\n",
    "print(f)\n",
    "print(g)"
   ]
  },
  {
   "cell_type": "code",
   "execution_count": 77,
   "metadata": {
    "colab": {
     "base_uri": "https://localhost:8080/"
    },
    "id": "BqQ7sNBctWfS",
    "outputId": "b50e177c-2907-49ef-8b95-726a1c6f7873"
   },
   "outputs": [
    {
     "data": {
      "text/plain": [
       "tensor([[42, 60],\n",
       "        [82, 59]])"
      ]
     },
     "execution_count": 77,
     "metadata": {},
     "output_type": "execute_result"
    }
   ],
   "source": [
    "# matrix multiplcation\n",
    "torch.matmul(f, g)"
   ]
  },
  {
   "cell_type": "code",
   "execution_count": 78,
   "metadata": {
    "colab": {
     "base_uri": "https://localhost:8080/"
    },
    "id": "CopN1Oe5tZrD",
    "outputId": "64358f9f-f9ca-4ef2-b905-9cae273e3432"
   },
   "outputs": [
    {
     "data": {
      "text/plain": [
       "tensor(11)"
      ]
     },
     "execution_count": 78,
     "metadata": {},
     "output_type": "execute_result"
    }
   ],
   "source": [
    "vector1 = torch.tensor([1, 2])\n",
    "vector2 = torch.tensor([3, 4])\n",
    "\n",
    "# dot product\n",
    "torch.dot(vector1, vector2)"
   ]
  },
  {
   "cell_type": "code",
   "execution_count": null,
   "metadata": {
    "colab": {
     "base_uri": "https://localhost:8080/"
    },
    "id": "9Imz3Vq6ta4y",
    "outputId": "7a7ed03c-357e-4f51-c762-e619f9c15c61"
   },
   "outputs": [
    {
     "data": {
      "text/plain": [
       "tensor([[3, 7],\n",
       "        [7, 9],\n",
       "        [8, 9]])"
      ]
     },
     "execution_count": 190,
     "metadata": {},
     "output_type": "execute_result"
    }
   ],
   "source": [
    "# transpose\n",
    "torch.transpose(f, 0, 1)"
   ]
  },
  {
   "cell_type": "code",
   "execution_count": 79,
   "metadata": {
    "colab": {
     "base_uri": "https://localhost:8080/"
    },
    "id": "yEfuS9ZKtdSi",
    "outputId": "1aae67bb-44ac-4cff-f618-7daf4873b248"
   },
   "outputs": [
    {
     "data": {
      "text/plain": [
       "tensor([[3., 8., 8.],\n",
       "        [3., 3., 5.],\n",
       "        [0., 6., 4.]])"
      ]
     },
     "execution_count": 79,
     "metadata": {},
     "output_type": "execute_result"
    }
   ],
   "source": [
    "h = torch.randint(size=(3,3), low=0, high=10, dtype=torch.float32)\n",
    "h"
   ]
  },
  {
   "cell_type": "code",
   "execution_count": 80,
   "metadata": {
    "colab": {
     "base_uri": "https://localhost:8080/"
    },
    "id": "PqfUsUvttpXZ",
    "outputId": "8907e944-d660-41ff-e590-324ad1c842b7"
   },
   "outputs": [
    {
     "data": {
      "text/plain": [
       "tensor(-6.)"
      ]
     },
     "execution_count": 80,
     "metadata": {},
     "output_type": "execute_result"
    }
   ],
   "source": [
    "# determinant\n",
    "torch.det(h)"
   ]
  },
  {
   "cell_type": "code",
   "execution_count": 81,
   "metadata": {
    "colab": {
     "base_uri": "https://localhost:8080/"
    },
    "id": "X0khPormts14",
    "outputId": "e83bda9d-a427-4100-9dc6-ba2f8f15c167"
   },
   "outputs": [
    {
     "data": {
      "text/plain": [
       "tensor([[ 3.0000, -2.6667, -2.6667],\n",
       "        [ 2.0000, -2.0000, -1.5000],\n",
       "        [-3.0000,  3.0000,  2.5000]])"
      ]
     },
     "execution_count": 81,
     "metadata": {},
     "output_type": "execute_result"
    }
   ],
   "source": [
    "# inverse\n",
    "torch.inverse(h)"
   ]
  },
  {
   "cell_type": "markdown",
   "metadata": {
    "id": "-lEkBmv5t1nB"
   },
   "source": [
    "### 5. Comparison operations"
   ]
  },
  {
   "cell_type": "code",
   "execution_count": 82,
   "metadata": {
    "colab": {
     "base_uri": "https://localhost:8080/"
    },
    "id": "G89Keg-xtxUr",
    "outputId": "d5f258bd-ca39-4232-9973-e50d6512effe"
   },
   "outputs": [
    {
     "name": "stdout",
     "output_type": "stream",
     "text": [
      "tensor([[0, 8, 4],\n",
      "        [7, 2, 3]])\n",
      "tensor([[8, 5, 6],\n",
      "        [2, 9, 5]])\n"
     ]
    }
   ],
   "source": [
    "i = torch.randint(size=(2,3), low=0, high=10)\n",
    "j = torch.randint(size=(2,3), low=0, high=10)\n",
    "\n",
    "print(i)\n",
    "print(j)"
   ]
  },
  {
   "cell_type": "code",
   "execution_count": 83,
   "metadata": {
    "colab": {
     "base_uri": "https://localhost:8080/"
    },
    "id": "F5v--5uiuBWW",
    "outputId": "7080ac46-e2b8-4191-ef0c-2c695856f3b1"
   },
   "outputs": [
    {
     "data": {
      "text/plain": [
       "tensor([[True, True, True],\n",
       "        [True, True, True]])"
      ]
     },
     "execution_count": 83,
     "metadata": {},
     "output_type": "execute_result"
    }
   ],
   "source": [
    "# greater than\n",
    "i > j\n",
    "# less than\n",
    "i < j\n",
    "# equal to\n",
    "i == j\n",
    "# not equal to\n",
    "i != j\n",
    "# greater than equal to\n",
    "\n",
    "# less than equal to"
   ]
  },
  {
   "cell_type": "markdown",
   "metadata": {
    "id": "jd9JzlO1uaf3"
   },
   "source": [
    "### 6. Special functions"
   ]
  },
  {
   "cell_type": "code",
   "execution_count": 84,
   "metadata": {
    "colab": {
     "base_uri": "https://localhost:8080/"
    },
    "id": "lKU6tQpyuY0M",
    "outputId": "5c5892ad-d4a4-480c-90a7-1f6b59f1d540"
   },
   "outputs": [
    {
     "data": {
      "text/plain": [
       "tensor([[0., 4., 2.],\n",
       "        [7., 1., 1.]])"
      ]
     },
     "execution_count": 84,
     "metadata": {},
     "output_type": "execute_result"
    }
   ],
   "source": [
    "k = torch.randint(size=(2,3), low=0, high=10, dtype=torch.float32)\n",
    "k"
   ]
  },
  {
   "cell_type": "code",
   "execution_count": 85,
   "metadata": {
    "colab": {
     "base_uri": "https://localhost:8080/"
    },
    "id": "-gl1dhdVuDOE",
    "outputId": "38f7fdfa-5c4e-4d4d-e514-d9c1cb23a6a8"
   },
   "outputs": [
    {
     "data": {
      "text/plain": [
       "tensor([[  -inf, 1.3863, 0.6931],\n",
       "        [1.9459, 0.0000, 0.0000]])"
      ]
     },
     "execution_count": 85,
     "metadata": {},
     "output_type": "execute_result"
    }
   ],
   "source": [
    "# log\n",
    "torch.log(k)"
   ]
  },
  {
   "cell_type": "code",
   "execution_count": 86,
   "metadata": {
    "colab": {
     "base_uri": "https://localhost:8080/"
    },
    "id": "rQSpBdkbujck",
    "outputId": "35eb847f-c808-476d-8a95-c6ca362d7ce1"
   },
   "outputs": [
    {
     "data": {
      "text/plain": [
       "tensor([[1.0000e+00, 5.4598e+01, 7.3891e+00],\n",
       "        [1.0966e+03, 2.7183e+00, 2.7183e+00]])"
      ]
     },
     "execution_count": 86,
     "metadata": {},
     "output_type": "execute_result"
    }
   ],
   "source": [
    "# exp\n",
    "torch.exp(k)"
   ]
  },
  {
   "cell_type": "code",
   "execution_count": 87,
   "metadata": {
    "colab": {
     "base_uri": "https://localhost:8080/"
    },
    "id": "gTDfXdbVukh0",
    "outputId": "f49657ae-1d50-48bc-a190-2802d2522b18"
   },
   "outputs": [
    {
     "data": {
      "text/plain": [
       "tensor([[0.0000, 2.0000, 1.4142],\n",
       "        [2.6458, 1.0000, 1.0000]])"
      ]
     },
     "execution_count": 87,
     "metadata": {},
     "output_type": "execute_result"
    }
   ],
   "source": [
    "# sqrt\n",
    "torch.sqrt(k)"
   ]
  },
  {
   "cell_type": "code",
   "execution_count": 88,
   "metadata": {
    "colab": {
     "base_uri": "https://localhost:8080/"
    },
    "id": "d-rbMIVPunhr",
    "outputId": "61f1c546-8836-4cdd-ae92-d56f3808e443"
   },
   "outputs": [
    {
     "data": {
      "text/plain": [
       "tensor([[0.5000, 0.9820, 0.8808],\n",
       "        [0.9991, 0.7311, 0.7311]])"
      ]
     },
     "execution_count": 88,
     "metadata": {},
     "output_type": "execute_result"
    }
   ],
   "source": [
    "# sigmoid\n",
    "torch.sigmoid(k)"
   ]
  },
  {
   "cell_type": "code",
   "execution_count": 89,
   "metadata": {
    "colab": {
     "base_uri": "https://localhost:8080/"
    },
    "id": "X74chVfQusqf",
    "outputId": "c9a28553-881d-4413-97c8-b57e90d90dfb"
   },
   "outputs": [
    {
     "data": {
      "text/plain": [
       "tensor([[9.1105e-04, 9.5257e-01, 7.3106e-01],\n",
       "        [9.9909e-01, 4.7426e-02, 2.6894e-01]])"
      ]
     },
     "execution_count": 89,
     "metadata": {},
     "output_type": "execute_result"
    }
   ],
   "source": [
    "# softmax\n",
    "torch.softmax(k, dim=0)"
   ]
  },
  {
   "cell_type": "code",
   "execution_count": 90,
   "metadata": {
    "colab": {
     "base_uri": "https://localhost:8080/"
    },
    "id": "JnLG2JbyutvC",
    "outputId": "f6153aa2-11da-48f9-941a-fe227494c376"
   },
   "outputs": [
    {
     "data": {
      "text/plain": [
       "tensor([[0., 4., 2.],\n",
       "        [7., 1., 1.]])"
      ]
     },
     "execution_count": 90,
     "metadata": {},
     "output_type": "execute_result"
    }
   ],
   "source": [
    "# relu\n",
    "torch.relu(k)"
   ]
  },
  {
   "cell_type": "markdown",
   "metadata": {
    "id": "JQ7im-Mz9Mu9"
   },
   "source": [
    "## Inplace Operations"
   ]
  },
  {
   "cell_type": "code",
   "execution_count": 91,
   "metadata": {
    "colab": {
     "base_uri": "https://localhost:8080/"
    },
    "id": "mKVMTBq7uufZ",
    "outputId": "53367600-9531-4068-b174-fbec96ac5169"
   },
   "outputs": [
    {
     "name": "stdout",
     "output_type": "stream",
     "text": [
      "tensor([[0.2243, 0.8935, 0.0497],\n",
      "        [0.1780, 0.3011, 0.1893]])\n",
      "tensor([[0.9186, 0.2131, 0.3957],\n",
      "        [0.6017, 0.4234, 0.5224]])\n"
     ]
    }
   ],
   "source": [
    "m = torch.rand(2,3)\n",
    "n = torch.rand(2,3)\n",
    "\n",
    "print(m)\n",
    "print(n)"
   ]
  },
  {
   "cell_type": "code",
   "execution_count": 92,
   "metadata": {
    "colab": {
     "base_uri": "https://localhost:8080/"
    },
    "id": "HmN2o2Ge_j8h",
    "outputId": "981dc934-7feb-493e-ff08-521bf8b7a3c2"
   },
   "outputs": [
    {
     "data": {
      "text/plain": [
       "tensor([[1.1429, 1.1066, 0.4454],\n",
       "        [0.7796, 0.7245, 0.7117]])"
      ]
     },
     "execution_count": 92,
     "metadata": {},
     "output_type": "execute_result"
    }
   ],
   "source": [
    "m.add_(n)"
   ]
  },
  {
   "cell_type": "code",
   "execution_count": 93,
   "metadata": {
    "colab": {
     "base_uri": "https://localhost:8080/"
    },
    "id": "1k8bPLhgAN64",
    "outputId": "71bafa6b-0270-4d5c-95bd-7c58dd9fc9dc"
   },
   "outputs": [
    {
     "data": {
      "text/plain": [
       "tensor([[1.1429, 1.1066, 0.4454],\n",
       "        [0.7796, 0.7245, 0.7117]])"
      ]
     },
     "execution_count": 93,
     "metadata": {},
     "output_type": "execute_result"
    }
   ],
   "source": [
    "m"
   ]
  },
  {
   "cell_type": "code",
   "execution_count": 94,
   "metadata": {
    "colab": {
     "base_uri": "https://localhost:8080/"
    },
    "id": "d_pBAPcGAkHW",
    "outputId": "995ed910-5316-4cfc-ae19-024278c7cce8"
   },
   "outputs": [
    {
     "data": {
      "text/plain": [
       "tensor([[0.9186, 0.2131, 0.3957],\n",
       "        [0.6017, 0.4234, 0.5224]])"
      ]
     },
     "execution_count": 94,
     "metadata": {},
     "output_type": "execute_result"
    }
   ],
   "source": [
    "n"
   ]
  },
  {
   "cell_type": "code",
   "execution_count": 95,
   "metadata": {
    "colab": {
     "base_uri": "https://localhost:8080/"
    },
    "id": "8OhePrDbAmwh",
    "outputId": "a4fb53da-2743-4000-883c-230fb70afc68"
   },
   "outputs": [
    {
     "data": {
      "text/plain": [
       "tensor([[1.1429, 1.1066, 0.4454],\n",
       "        [0.7796, 0.7245, 0.7117]])"
      ]
     },
     "execution_count": 95,
     "metadata": {},
     "output_type": "execute_result"
    }
   ],
   "source": [
    "torch.relu(m)"
   ]
  },
  {
   "cell_type": "code",
   "execution_count": 96,
   "metadata": {
    "colab": {
     "base_uri": "https://localhost:8080/"
    },
    "id": "M_s6WQ0pAuTG",
    "outputId": "33aa41d9-ecb5-4154-fb9c-ded55fd7c9c5"
   },
   "outputs": [
    {
     "data": {
      "text/plain": [
       "tensor([[1.1429, 1.1066, 0.4454],\n",
       "        [0.7796, 0.7245, 0.7117]])"
      ]
     },
     "execution_count": 96,
     "metadata": {},
     "output_type": "execute_result"
    }
   ],
   "source": [
    "m.relu_()"
   ]
  },
  {
   "cell_type": "code",
   "execution_count": 98,
   "metadata": {},
   "outputs": [],
   "source": [
    "# relu: Use this when you need to retain the original tensor for other computations.\n",
    "# relu_: Use this when memory efficiency is crucial, and the input tensor does not need to be preserved."
   ]
  },
  {
   "cell_type": "code",
   "execution_count": 97,
   "metadata": {
    "colab": {
     "base_uri": "https://localhost:8080/"
    },
    "id": "sucQ4iPYAyqn",
    "outputId": "25f0b84f-a7e1-435b-81e4-051021f32adf"
   },
   "outputs": [
    {
     "data": {
      "text/plain": [
       "tensor([[1.1429, 1.1066, 0.4454],\n",
       "        [0.7796, 0.7245, 0.7117]])"
      ]
     },
     "execution_count": 97,
     "metadata": {},
     "output_type": "execute_result"
    }
   ],
   "source": [
    "m"
   ]
  },
  {
   "cell_type": "markdown",
   "metadata": {
    "id": "7-SgjcqnCN9P"
   },
   "source": [
    "## Copying a Tensor"
   ]
  },
  {
   "cell_type": "code",
   "execution_count": null,
   "metadata": {
    "colab": {
     "base_uri": "https://localhost:8080/"
    },
    "id": "z8SCsW7kA0jt",
    "outputId": "ba1b7a07-f2b0-420a-c34e-eaf4fc97a0ee"
   },
   "outputs": [
    {
     "data": {
      "text/plain": [
       "tensor([[0.5153, 0.9985, 0.6783],\n",
       "        [0.2776, 0.6227, 0.2982]])"
      ]
     },
     "execution_count": 240,
     "metadata": {},
     "output_type": "execute_result"
    }
   ],
   "source": [
    "a = torch.rand(2,3)\n",
    "a"
   ]
  },
  {
   "cell_type": "code",
   "execution_count": null,
   "metadata": {
    "id": "3Z0IUCnpCsCv"
   },
   "outputs": [],
   "source": [
    "b = a"
   ]
  },
  {
   "cell_type": "code",
   "execution_count": null,
   "metadata": {
    "colab": {
     "base_uri": "https://localhost:8080/"
    },
    "id": "1YNvboxaECjm",
    "outputId": "c65857ca-8cbf-4ad5-ecfc-97d62b842035"
   },
   "outputs": [
    {
     "data": {
      "text/plain": [
       "tensor([[0.5153, 0.9985, 0.6783],\n",
       "        [0.2776, 0.6227, 0.2982]])"
      ]
     },
     "execution_count": 242,
     "metadata": {},
     "output_type": "execute_result"
    }
   ],
   "source": [
    "b"
   ]
  },
  {
   "cell_type": "code",
   "execution_count": null,
   "metadata": {
    "id": "waV6eAuUEDzq"
   },
   "outputs": [],
   "source": [
    "a[0][0] = 0"
   ]
  },
  {
   "cell_type": "code",
   "execution_count": null,
   "metadata": {
    "colab": {
     "base_uri": "https://localhost:8080/"
    },
    "id": "U7u-UDXpEIgJ",
    "outputId": "e21eabdc-ae1b-489c-9d2c-f3bb35c4ab0a"
   },
   "outputs": [
    {
     "data": {
      "text/plain": [
       "tensor([[0.0000, 0.9985, 0.6783],\n",
       "        [0.2776, 0.6227, 0.2982]])"
      ]
     },
     "execution_count": 244,
     "metadata": {},
     "output_type": "execute_result"
    }
   ],
   "source": [
    "a"
   ]
  },
  {
   "cell_type": "code",
   "execution_count": null,
   "metadata": {
    "colab": {
     "base_uri": "https://localhost:8080/"
    },
    "id": "-4tihkNkEJW3",
    "outputId": "e9f91340-df5b-4c2d-f82f-4e916f9dbfe5"
   },
   "outputs": [
    {
     "data": {
      "text/plain": [
       "tensor([[0.0000, 0.9985, 0.6783],\n",
       "        [0.2776, 0.6227, 0.2982]])"
      ]
     },
     "execution_count": 245,
     "metadata": {},
     "output_type": "execute_result"
    }
   ],
   "source": [
    "b"
   ]
  },
  {
   "cell_type": "code",
   "execution_count": null,
   "metadata": {
    "colab": {
     "base_uri": "https://localhost:8080/"
    },
    "id": "m8D9GAChEL7E",
    "outputId": "95dbaef3-5cad-4c18-b1d3-28a957b97a80"
   },
   "outputs": [
    {
     "data": {
      "text/plain": [
       "134838567488544"
      ]
     },
     "execution_count": 246,
     "metadata": {},
     "output_type": "execute_result"
    }
   ],
   "source": [
    "id(a)"
   ]
  },
  {
   "cell_type": "code",
   "execution_count": null,
   "metadata": {
    "colab": {
     "base_uri": "https://localhost:8080/"
    },
    "id": "vLh7o5KUEVJS",
    "outputId": "c1417c23-5de3-4e63-d973-97c30c877e05"
   },
   "outputs": [
    {
     "data": {
      "text/plain": [
       "134838567488544"
      ]
     },
     "execution_count": 247,
     "metadata": {},
     "output_type": "execute_result"
    }
   ],
   "source": [
    "id(b)"
   ]
  },
  {
   "cell_type": "code",
   "execution_count": null,
   "metadata": {
    "id": "KWDEt8h8EW2i"
   },
   "outputs": [],
   "source": [
    "b = a.clone()"
   ]
  },
  {
   "cell_type": "code",
   "execution_count": null,
   "metadata": {
    "colab": {
     "base_uri": "https://localhost:8080/"
    },
    "id": "ndhb6dktEcov",
    "outputId": "a360800c-a260-4b80-e56d-23c326b8c005"
   },
   "outputs": [
    {
     "data": {
      "text/plain": [
       "tensor([[0.0000, 0.9985, 0.6783],\n",
       "        [0.2776, 0.6227, 0.2982]])"
      ]
     },
     "execution_count": 249,
     "metadata": {},
     "output_type": "execute_result"
    }
   ],
   "source": [
    "a"
   ]
  },
  {
   "cell_type": "code",
   "execution_count": null,
   "metadata": {
    "colab": {
     "base_uri": "https://localhost:8080/"
    },
    "id": "M1MgVSoXEd2E",
    "outputId": "e793b894-43de-47e5-de73-dc0796ddd87c"
   },
   "outputs": [
    {
     "data": {
      "text/plain": [
       "tensor([[0.0000, 0.9985, 0.6783],\n",
       "        [0.2776, 0.6227, 0.2982]])"
      ]
     },
     "execution_count": 250,
     "metadata": {},
     "output_type": "execute_result"
    }
   ],
   "source": [
    "b"
   ]
  },
  {
   "cell_type": "code",
   "execution_count": null,
   "metadata": {
    "id": "LGxrfDtTEeVI"
   },
   "outputs": [],
   "source": [
    "a[0][0] = 10"
   ]
  },
  {
   "cell_type": "code",
   "execution_count": null,
   "metadata": {
    "colab": {
     "base_uri": "https://localhost:8080/"
    },
    "id": "KoGwR1k2Eg_1",
    "outputId": "8e058949-7b18-49a9-9bd2-5522359cad6e"
   },
   "outputs": [
    {
     "data": {
      "text/plain": [
       "tensor([[10.0000,  0.9985,  0.6783],\n",
       "        [ 0.2776,  0.6227,  0.2982]])"
      ]
     },
     "execution_count": 252,
     "metadata": {},
     "output_type": "execute_result"
    }
   ],
   "source": [
    "a"
   ]
  },
  {
   "cell_type": "code",
   "execution_count": null,
   "metadata": {
    "colab": {
     "base_uri": "https://localhost:8080/"
    },
    "id": "hnmU7qDXEh_R",
    "outputId": "c9e3e770-05c5-4a58-ca42-a75e64890351"
   },
   "outputs": [
    {
     "data": {
      "text/plain": [
       "tensor([[0.0000, 0.9985, 0.6783],\n",
       "        [0.2776, 0.6227, 0.2982]])"
      ]
     },
     "execution_count": 253,
     "metadata": {},
     "output_type": "execute_result"
    }
   ],
   "source": [
    "b"
   ]
  },
  {
   "cell_type": "code",
   "execution_count": null,
   "metadata": {
    "colab": {
     "base_uri": "https://localhost:8080/"
    },
    "id": "5cy76FS5EjIz",
    "outputId": "a8bbafb3-d9ff-41f9-be9d-5f039251ddd7"
   },
   "outputs": [
    {
     "data": {
      "text/plain": [
       "134838567488544"
      ]
     },
     "execution_count": 254,
     "metadata": {},
     "output_type": "execute_result"
    }
   ],
   "source": [
    "id(a)"
   ]
  },
  {
   "cell_type": "code",
   "execution_count": null,
   "metadata": {
    "colab": {
     "base_uri": "https://localhost:8080/"
    },
    "id": "jmBkTNQ8EmP1",
    "outputId": "1fbb56ec-0e73-4ebe-ed8a-3982c06a79db"
   },
   "outputs": [
    {
     "data": {
      "text/plain": [
       "134838569581552"
      ]
     },
     "execution_count": 255,
     "metadata": {},
     "output_type": "execute_result"
    }
   ],
   "source": [
    "id(b)"
   ]
  },
  {
   "cell_type": "code",
   "execution_count": null,
   "metadata": {
    "id": "W1SwQS8jEnW2"
   },
   "outputs": [],
   "source": []
  }
 ],
 "metadata": {
  "accelerator": "GPU",
  "colab": {
   "gpuType": "T4",
   "provenance": []
  },
  "kernelspec": {
   "display_name": "Python 3 (ipykernel)",
   "language": "python",
   "name": "python3"
  },
  "language_info": {
   "codemirror_mode": {
    "name": "ipython",
    "version": 3
   },
   "file_extension": ".py",
   "mimetype": "text/x-python",
   "name": "python",
   "nbconvert_exporter": "python",
   "pygments_lexer": "ipython3",
   "version": "3.12.7"
  }
 },
 "nbformat": 4,
 "nbformat_minor": 4
}
