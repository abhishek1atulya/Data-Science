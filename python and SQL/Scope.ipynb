{
 "cells": [
  {
   "cell_type": "code",
   "execution_count": 46,
   "id": "18829ee5-810e-4e49-847c-1af31c6aa366",
   "metadata": {},
   "outputs": [],
   "source": [
    "def fun(a):\n",
    "    b=5\n",
    "    print(5)\n",
    "    return a*b"
   ]
  },
  {
   "cell_type": "code",
   "execution_count": 47,
   "id": "ef3f2bf8-14a3-4991-8b42-037acbe7a776",
   "metadata": {},
   "outputs": [
    {
     "name": "stdout",
     "output_type": "stream",
     "text": [
      "5\n"
     ]
    },
    {
     "data": {
      "text/plain": [
       "15"
      ]
     },
     "execution_count": 47,
     "metadata": {},
     "output_type": "execute_result"
    }
   ],
   "source": [
    "fun(3)"
   ]
  },
  {
   "cell_type": "code",
   "execution_count": 3,
   "id": "c359bf94-d3d4-4d98-a28f-6835b7c9a9d1",
   "metadata": {},
   "outputs": [
    {
     "ename": "NameError",
     "evalue": "name 'b' is not defined",
     "output_type": "error",
     "traceback": [
      "\u001b[1;31m---------------------------------------------------------------------------\u001b[0m",
      "\u001b[1;31mNameError\u001b[0m                                 Traceback (most recent call last)",
      "Cell \u001b[1;32mIn[3], line 1\u001b[0m\n\u001b[1;32m----> 1\u001b[0m \u001b[38;5;28mprint\u001b[39m(b)\n",
      "\u001b[1;31mNameError\u001b[0m: name 'b' is not defined"
     ]
    }
   ],
   "source": [
    "print(b)"
   ]
  },
  {
   "cell_type": "code",
   "execution_count": 5,
   "id": "171c54f5-1e03-4c4e-9061-91c217a1df4b",
   "metadata": {},
   "outputs": [
    {
     "data": {
      "text/plain": [
       "8"
      ]
     },
     "execution_count": 5,
     "metadata": {},
     "output_type": "execute_result"
    }
   ],
   "source": [
    "n=5\n",
    "n+3 # read "
   ]
  },
  {
   "cell_type": "code",
   "execution_count": 6,
   "id": "828a7ead-acd1-4b07-b147-fbaabf45d48e",
   "metadata": {},
   "outputs": [
    {
     "data": {
      "text/plain": [
       "5"
      ]
     },
     "execution_count": 6,
     "metadata": {},
     "output_type": "execute_result"
    }
   ],
   "source": [
    "n"
   ]
  },
  {
   "cell_type": "code",
   "execution_count": 7,
   "id": "4664c67e-4418-40f8-99b8-13bf95b433a6",
   "metadata": {},
   "outputs": [
    {
     "name": "stdout",
     "output_type": "stream",
     "text": [
      "5\n"
     ]
    }
   ],
   "source": [
    "print(n)"
   ]
  },
  {
   "cell_type": "code",
   "execution_count": 8,
   "id": "71b51d65-02a5-4e8b-b0fa-6be8806521af",
   "metadata": {},
   "outputs": [
    {
     "data": {
      "text/plain": [
       "5"
      ]
     },
     "execution_count": 8,
     "metadata": {},
     "output_type": "execute_result"
    }
   ],
   "source": [
    "n"
   ]
  },
  {
   "cell_type": "code",
   "execution_count": 9,
   "id": "de6cbbc2-fa41-44ba-8a5c-aa550ca9bf3b",
   "metadata": {},
   "outputs": [],
   "source": [
    "n*=2"
   ]
  },
  {
   "cell_type": "code",
   "execution_count": 10,
   "id": "1f9d70d5-125b-44a6-9426-f05f22fe079c",
   "metadata": {},
   "outputs": [
    {
     "data": {
      "text/plain": [
       "10"
      ]
     },
     "execution_count": 10,
     "metadata": {},
     "output_type": "execute_result"
    }
   ],
   "source": [
    "n"
   ]
  },
  {
   "cell_type": "code",
   "execution_count": 18,
   "id": "58e54630",
   "metadata": {},
   "outputs": [],
   "source": [
    "a=3 # globle scope\n",
    "def fun(n):\n",
    "    a+=2 # write operation is not allowed\n",
    "    return a+n"
   ]
  },
  {
   "cell_type": "code",
   "execution_count": 19,
   "id": "3ce2bdc9",
   "metadata": {},
   "outputs": [
    {
     "ename": "UnboundLocalError",
     "evalue": "cannot access local variable 'a' where it is not associated with a value",
     "output_type": "error",
     "traceback": [
      "\u001b[1;31m---------------------------------------------------------------------------\u001b[0m",
      "\u001b[1;31mUnboundLocalError\u001b[0m                         Traceback (most recent call last)",
      "Cell \u001b[1;32mIn[19], line 1\u001b[0m\n\u001b[1;32m----> 1\u001b[0m fun(\u001b[38;5;241m3\u001b[39m)\n",
      "Cell \u001b[1;32mIn[18], line 3\u001b[0m, in \u001b[0;36mfun\u001b[1;34m(n)\u001b[0m\n\u001b[0;32m      2\u001b[0m \u001b[38;5;28;01mdef\u001b[39;00m \u001b[38;5;21mfun\u001b[39m(n):\n\u001b[1;32m----> 3\u001b[0m     a\u001b[38;5;241m+\u001b[39m\u001b[38;5;241m=\u001b[39m\u001b[38;5;241m2\u001b[39m \u001b[38;5;66;03m# write operation is not allowed\u001b[39;00m\n\u001b[0;32m      4\u001b[0m     \u001b[38;5;28;01mreturn\u001b[39;00m a\u001b[38;5;241m+\u001b[39mn\n",
      "\u001b[1;31mUnboundLocalError\u001b[0m: cannot access local variable 'a' where it is not associated with a value"
     ]
    }
   ],
   "source": [
    "fun(3)"
   ]
  },
  {
   "cell_type": "code",
   "execution_count": 20,
   "id": "f07ce384-c70d-4b01-89c1-c51222fd2d2d",
   "metadata": {},
   "outputs": [
    {
     "data": {
      "text/plain": [
       "6"
      ]
     },
     "execution_count": 20,
     "metadata": {},
     "output_type": "execute_result"
    }
   ],
   "source": [
    "a=3 # globle scope\n",
    "def fun(n):\n",
    "    return a+n\n",
    "fun(3)"
   ]
  },
  {
   "cell_type": "code",
   "execution_count": 26,
   "id": "84c9f157",
   "metadata": {},
   "outputs": [],
   "source": [
    "a=3 # global variable\n",
    "def fun(n):\n",
    "    if a==n: # read operation is allowed\n",
    "        return n\n",
    "    else:\n",
    "        return n+4"
   ]
  },
  {
   "cell_type": "code",
   "execution_count": 27,
   "id": "92229ece",
   "metadata": {},
   "outputs": [
    {
     "data": {
      "text/plain": [
       "3"
      ]
     },
     "execution_count": 27,
     "metadata": {},
     "output_type": "execute_result"
    }
   ],
   "source": [
    "fun(3)"
   ]
  },
  {
   "cell_type": "code",
   "execution_count": 23,
   "id": "1f800528",
   "metadata": {},
   "outputs": [],
   "source": [
    "a=3 # global variable\n",
    "def fun(n):\n",
    "    if a==n: # read operation is allowed\n",
    "        return n+a # read operation is allowed\n",
    "    else:\n",
    "        return n+4"
   ]
  },
  {
   "cell_type": "code",
   "execution_count": 24,
   "id": "f3f6facb",
   "metadata": {},
   "outputs": [
    {
     "data": {
      "text/plain": [
       "8"
      ]
     },
     "execution_count": 24,
     "metadata": {},
     "output_type": "execute_result"
    }
   ],
   "source": [
    "fun(4)"
   ]
  },
  {
   "cell_type": "code",
   "execution_count": 28,
   "id": "1d4b5d27",
   "metadata": {},
   "outputs": [
    {
     "data": {
      "text/plain": [
       "3"
      ]
     },
     "execution_count": 28,
     "metadata": {},
     "output_type": "execute_result"
    }
   ],
   "source": [
    "fun(3)"
   ]
  },
  {
   "cell_type": "markdown",
   "id": "e0ebe168",
   "metadata": {},
   "source": [
    "#### LEGB RULE"
   ]
  },
  {
   "cell_type": "markdown",
   "id": "d08a3524",
   "metadata": {},
   "source": [
    "l=local\n",
    "\n",
    "E=Enclosing\n",
    "\n",
    "G=Global\n",
    "\n",
    "B=Built In\n"
   ]
  },
  {
   "cell_type": "code",
   "execution_count": 29,
   "id": "d5d52139",
   "metadata": {},
   "outputs": [
    {
     "name": "stdout",
     "output_type": "stream",
     "text": [
      "2\n",
      "1\n"
     ]
    }
   ],
   "source": [
    "# LEGB Rule\n",
    "a=1 # Globle Scope\n",
    "def func():\n",
    "    a=2 #Local Scope\n",
    "    print(a) # read operation is allowed\n",
    "func()\n",
    "print(a) # read operation"
   ]
  },
  {
   "cell_type": "code",
   "execution_count": 32,
   "id": "e618ac54",
   "metadata": {
    "scrolled": true
   },
   "outputs": [
    {
     "name": "stdout",
     "output_type": "stream",
     "text": [
      "5\n",
      "2\n",
      "1\n"
     ]
    }
   ],
   "source": [
    "# LEGB Rule valid only for Read Operation (inner to Outer) (outer to inner never allowed )\n",
    "q=1 # Globle Scope\n",
    "def func():\n",
    "    x=2\n",
    "    y=5\n",
    "    a=2 #Local Scope\n",
    "    d=locals()# locals creates a dictionary in the same scope\n",
    "    t=0\n",
    "    print(d['y'])\n",
    "    print(a)\n",
    "    \n",
    "func()\n",
    "print(q)\n",
    "# locals()# globals creates a dictionary only in the globle scope"
   ]
  },
  {
   "cell_type": "code",
   "execution_count": 33,
   "id": "fa94d6ff",
   "metadata": {},
   "outputs": [
    {
     "name": "stdout",
     "output_type": "stream",
     "text": [
      "2\n",
      "1\n",
      "1\n"
     ]
    }
   ],
   "source": [
    "# LEGB Rule\n",
    "a=1\n",
    "def func():\n",
    "    a=2\n",
    "    print(a)\n",
    "    print(globals()['a'])\n",
    "func()\n",
    "print(a)"
   ]
  },
  {
   "cell_type": "code",
   "execution_count": null,
   "id": "758d236d",
   "metadata": {},
   "outputs": [],
   "source": [
    "# help(list)"
   ]
  },
  {
   "cell_type": "code",
   "execution_count": 34,
   "id": "5d895543",
   "metadata": {},
   "outputs": [
    {
     "name": "stdout",
     "output_type": "stream",
     "text": [
      "1\n",
      "2\n",
      "1\n",
      "1\n"
     ]
    }
   ],
   "source": [
    "# LEGB Rule\n",
    "a=1\n",
    "def func():\n",
    "    a=2\n",
    "    print(a)\n",
    "    print(globals()['a'])\n",
    "print(locals()['a'])\n",
    "func()\n",
    "print(a)"
   ]
  },
  {
   "cell_type": "code",
   "execution_count": 35,
   "id": "83cf504c-3e90-4784-b069-13a1231db746",
   "metadata": {},
   "outputs": [
    {
     "name": "stdout",
     "output_type": "stream",
     "text": [
      "1\n",
      "2\n",
      "2\n",
      "1\n"
     ]
    }
   ],
   "source": [
    "# LEGB Rule\n",
    "a=1\n",
    "def func():\n",
    "    a=2\n",
    "    print(a)\n",
    "    print(locals()['a'])\n",
    "print(globals()['a'])\n",
    "func()\n",
    "print(a)"
   ]
  },
  {
   "cell_type": "code",
   "execution_count": 37,
   "id": "a02aaa07",
   "metadata": {},
   "outputs": [
    {
     "name": "stdout",
     "output_type": "stream",
     "text": [
      "1\n"
     ]
    },
    {
     "ename": "UnboundLocalError",
     "evalue": "cannot access local variable 'a' where it is not associated with a value",
     "output_type": "error",
     "traceback": [
      "\u001b[1;31m---------------------------------------------------------------------------\u001b[0m",
      "\u001b[1;31mUnboundLocalError\u001b[0m                         Traceback (most recent call last)",
      "Cell \u001b[1;32mIn[37], line 8\u001b[0m\n\u001b[0;32m      6\u001b[0m     \u001b[38;5;28mprint\u001b[39m(a)\n\u001b[0;32m      7\u001b[0m \u001b[38;5;28mprint\u001b[39m(a)\n\u001b[1;32m----> 8\u001b[0m func()\n",
      "Cell \u001b[1;32mIn[37], line 4\u001b[0m, in \u001b[0;36mfunc\u001b[1;34m()\u001b[0m\n\u001b[0;32m      3\u001b[0m \u001b[38;5;28;01mdef\u001b[39;00m \u001b[38;5;21mfunc\u001b[39m():\n\u001b[1;32m----> 4\u001b[0m     a\u001b[38;5;241m+\u001b[39m\u001b[38;5;241m=\u001b[39m\u001b[38;5;241m1\u001b[39m \u001b[38;5;66;03m# write operation is not allowed\u001b[39;00m\n\u001b[0;32m      5\u001b[0m     \u001b[38;5;66;03m# write operation is allowed only for same scope variables\u001b[39;00m\n\u001b[0;32m      6\u001b[0m     \u001b[38;5;28mprint\u001b[39m(a)\n",
      "\u001b[1;31mUnboundLocalError\u001b[0m: cannot access local variable 'a' where it is not associated with a value"
     ]
    }
   ],
   "source": [
    "# LEGB Rule\n",
    "a=1\n",
    "def func():\n",
    "    a+=1 # write operation is not allowed\n",
    "    # write operation is allowed only for same scope variables\n",
    "    print(a)\n",
    "print(a)\n",
    "func()"
   ]
  },
  {
   "cell_type": "code",
   "execution_count": 39,
   "id": "cccd1cb1",
   "metadata": {},
   "outputs": [
    {
     "name": "stdout",
     "output_type": "stream",
     "text": [
      "2\n",
      "{}\n",
      "2\n"
     ]
    }
   ],
   "source": [
    "# LEGB Rule\n",
    "a=1\n",
    "def func():\n",
    "    global a # global keyword allow to change the variable in another scope\n",
    "    a+=1\n",
    "    print(a)\n",
    "    print(locals())\n",
    "func()\n",
    "print(a)"
   ]
  },
  {
   "cell_type": "code",
   "execution_count": 40,
   "id": "21d52a06",
   "metadata": {},
   "outputs": [
    {
     "name": "stdout",
     "output_type": "stream",
     "text": [
      "{}\n",
      "5\n",
      "5\n"
     ]
    }
   ],
   "source": [
    "# LEGB Rule\n",
    "# a=1\n",
    "def func():\n",
    "    global x # we can also create a variable in global scope by using global keyword\n",
    "    x=5\n",
    "    print(locals())\n",
    "    print(x)\n",
    "func()\n",
    "print(x)"
   ]
  },
  {
   "cell_type": "code",
   "execution_count": 41,
   "id": "eb078cdf-c9a6-40df-9130-3df53efa4e50",
   "metadata": {},
   "outputs": [
    {
     "data": {
      "text/plain": [
       "5"
      ]
     },
     "execution_count": 41,
     "metadata": {},
     "output_type": "execute_result"
    }
   ],
   "source": [
    "x"
   ]
  },
  {
   "cell_type": "code",
   "execution_count": 43,
   "id": "a82727ea-dcfe-4d3d-bc2f-48bb3487f9ec",
   "metadata": {},
   "outputs": [],
   "source": [
    "a=5"
   ]
  },
  {
   "cell_type": "code",
   "execution_count": null,
   "id": "70b48ae6",
   "metadata": {},
   "outputs": [],
   "source": [
    "# import builtins\n",
    "# print(dir(builtins))"
   ]
  },
  {
   "cell_type": "code",
   "execution_count": 48,
   "id": "2d8a8aab",
   "metadata": {},
   "outputs": [
    {
     "name": "stdout",
     "output_type": "stream",
     "text": [
      "1\n",
      "{}\n",
      "2\n",
      "2\n"
     ]
    }
   ],
   "source": [
    "# LEGB Rule\n",
    "a=1\n",
    "def func():\n",
    "    global a\n",
    "    a+=1\n",
    "    print(locals())\n",
    "    print(globals()['a'])\n",
    "    print(a)\n",
    "print(a)\n",
    "func()"
   ]
  },
  {
   "cell_type": "code",
   "execution_count": 49,
   "id": "6d9d4e98",
   "metadata": {},
   "outputs": [
    {
     "name": "stdout",
     "output_type": "stream",
     "text": [
      "{}\n",
      "1\n",
      "1\n",
      "1\n"
     ]
    }
   ],
   "source": [
    "# LEGB Rule\n",
    "# a=1\n",
    "def func():\n",
    "    global a\n",
    "    a=1\n",
    "    print(locals())\n",
    "    print(globals()['a'])\n",
    "    print(a)\n",
    "func()\n",
    "print(a)"
   ]
  },
  {
   "cell_type": "code",
   "execution_count": 50,
   "id": "58f9c66b",
   "metadata": {},
   "outputs": [
    {
     "name": "stdout",
     "output_type": "stream",
     "text": [
      "{}\n",
      "1\n",
      "1\n"
     ]
    }
   ],
   "source": [
    "# LEGB Rule\n",
    "# a=1\n",
    "def func():\n",
    "    global m\n",
    "    m=1\n",
    "    print(locals())\n",
    "    # print(globals()['y'])\n",
    "    print(m)\n",
    "func()\n",
    "print(m)"
   ]
  },
  {
   "cell_type": "code",
   "execution_count": null,
   "id": "2e10f6ea-ba69-4015-aebd-85f5731346d5",
   "metadata": {},
   "outputs": [],
   "source": [
    "# L->E->G->B"
   ]
  },
  {
   "cell_type": "code",
   "execution_count": 52,
   "id": "7b485d1e",
   "metadata": {},
   "outputs": [
    {
     "name": "stdout",
     "output_type": "stream",
     "text": [
      "2\n",
      "2\n",
      "5\n"
     ]
    }
   ],
   "source": [
    "p=5 #globle scope\n",
    "def outer():\n",
    "    p=1 # encloging scope\n",
    "    def inner():\n",
    "        nonlocal p\n",
    "        p=2 #local scope\n",
    "        print(p)\n",
    "    inner()\n",
    "    print(p)\n",
    "outer()\n",
    "print(p)"
   ]
  },
  {
   "cell_type": "code",
   "execution_count": 54,
   "id": "988365d5-28c4-4968-9c3f-e53496a3d616",
   "metadata": {},
   "outputs": [],
   "source": [
    "p=2\n",
    "def outer():\n",
    "    p=1\n",
    "    def inner():\n",
    "        nonlocal p\n",
    "        p+=2\n",
    "        print(locals())\n",
    "        print(p)\n",
    "    inner()\n",
    "    print(p)"
   ]
  },
  {
   "cell_type": "code",
   "execution_count": 55,
   "id": "9102e77e",
   "metadata": {},
   "outputs": [
    {
     "name": "stdout",
     "output_type": "stream",
     "text": [
      "1\n",
      "{'p': 3}\n",
      "3\n",
      "2\n"
     ]
    }
   ],
   "source": [
    "p=2\n",
    "def outer():\n",
    "    p=1\n",
    "    def inner():\n",
    "        nonlocal p\n",
    "        p+=2\n",
    "        print(locals())\n",
    "        print(p)\n",
    "    print(p)\n",
    "    inner()\n",
    "outer()\n",
    "print(p)"
   ]
  },
  {
   "cell_type": "code",
   "execution_count": 56,
   "id": "d3512f5f",
   "metadata": {},
   "outputs": [
    {
     "name": "stdout",
     "output_type": "stream",
     "text": [
      "{'p': 2}\n",
      "2\n",
      "2\n",
      "2\n"
     ]
    }
   ],
   "source": [
    "p=2\n",
    "def outer():\n",
    "    p=1\n",
    "    def inner():\n",
    "        nonlocal p\n",
    "        p=2\n",
    "        print(locals())\n",
    "        print(p)\n",
    "    inner()\n",
    "    print(p)\n",
    "outer()\n",
    "print(p)"
   ]
  },
  {
   "cell_type": "code",
   "execution_count": 57,
   "id": "58ea5223",
   "metadata": {},
   "outputs": [
    {
     "name": "stdout",
     "output_type": "stream",
     "text": [
      "1\n",
      "4\n",
      "3\n"
     ]
    }
   ],
   "source": [
    "p=1\n",
    "def outer():\n",
    "    p=3\n",
    "    def inner():\n",
    "        p=4\n",
    "        print(p)\n",
    "    inner()\n",
    "    print(p)\n",
    "print(p)\n",
    "outer()"
   ]
  },
  {
   "cell_type": "code",
   "execution_count": 58,
   "id": "11ff57b1",
   "metadata": {},
   "outputs": [
    {
     "name": "stdout",
     "output_type": "stream",
     "text": [
      "1\n",
      "3\n",
      "3\n"
     ]
    }
   ],
   "source": [
    "p=1\n",
    "def outer():\n",
    "    p=3\n",
    "    def inner():\n",
    "#         p=4\n",
    "        print(p)\n",
    "    inner()\n",
    "    print(p)\n",
    "print(p)\n",
    "outer()"
   ]
  },
  {
   "cell_type": "code",
   "execution_count": null,
   "id": "9e321d90",
   "metadata": {},
   "outputs": [],
   "source": [
    "# L->E->G->B"
   ]
  },
  {
   "cell_type": "code",
   "execution_count": 59,
   "id": "1b9706a3",
   "metadata": {},
   "outputs": [
    {
     "name": "stdout",
     "output_type": "stream",
     "text": [
      "1\n",
      "1\n",
      "1\n"
     ]
    }
   ],
   "source": [
    "p=1\n",
    "def outer():\n",
    "#     p=3\n",
    "    def inner():\n",
    "#         p=4\n",
    "        print(p)\n",
    "    inner()\n",
    "    print(p)\n",
    "print(p)\n",
    "outer()"
   ]
  },
  {
   "cell_type": "code",
   "execution_count": 60,
   "id": "573ac52d",
   "metadata": {},
   "outputs": [
    {
     "name": "stdout",
     "output_type": "stream",
     "text": [
      "1\n"
     ]
    },
    {
     "ename": "UnboundLocalError",
     "evalue": "cannot access local variable 'p' where it is not associated with a value",
     "output_type": "error",
     "traceback": [
      "\u001b[1;31m---------------------------------------------------------------------------\u001b[0m",
      "\u001b[1;31mUnboundLocalError\u001b[0m                         Traceback (most recent call last)",
      "Cell \u001b[1;32mIn[60], line 10\u001b[0m\n\u001b[0;32m      8\u001b[0m     \u001b[38;5;28mprint\u001b[39m(p)\n\u001b[0;32m      9\u001b[0m \u001b[38;5;28mprint\u001b[39m(p)\n\u001b[1;32m---> 10\u001b[0m outer()\n",
      "Cell \u001b[1;32mIn[60], line 7\u001b[0m, in \u001b[0;36mouter\u001b[1;34m()\u001b[0m\n\u001b[0;32m      5\u001b[0m     p\u001b[38;5;241m+\u001b[39m\u001b[38;5;241m=\u001b[39m\u001b[38;5;241m4\u001b[39m \u001b[38;5;66;03m# write operation\u001b[39;00m\n\u001b[0;32m      6\u001b[0m     \u001b[38;5;28mprint\u001b[39m(p)\n\u001b[1;32m----> 7\u001b[0m inner()\n\u001b[0;32m      8\u001b[0m \u001b[38;5;28mprint\u001b[39m(p)\n",
      "Cell \u001b[1;32mIn[60], line 5\u001b[0m, in \u001b[0;36mouter.<locals>.inner\u001b[1;34m()\u001b[0m\n\u001b[0;32m      4\u001b[0m \u001b[38;5;28;01mdef\u001b[39;00m \u001b[38;5;21minner\u001b[39m():\n\u001b[1;32m----> 5\u001b[0m     p\u001b[38;5;241m+\u001b[39m\u001b[38;5;241m=\u001b[39m\u001b[38;5;241m4\u001b[39m \u001b[38;5;66;03m# write operation\u001b[39;00m\n\u001b[0;32m      6\u001b[0m     \u001b[38;5;28mprint\u001b[39m(p)\n",
      "\u001b[1;31mUnboundLocalError\u001b[0m: cannot access local variable 'p' where it is not associated with a value"
     ]
    }
   ],
   "source": [
    "p=1\n",
    "def outer():\n",
    "    p=3\n",
    "    def inner():\n",
    "        p+=4 # write operation\n",
    "        print(p)\n",
    "    inner()\n",
    "    print(p)\n",
    "print(p)\n",
    "outer()"
   ]
  },
  {
   "cell_type": "code",
   "execution_count": 61,
   "id": "bf066185",
   "metadata": {},
   "outputs": [
    {
     "name": "stdout",
     "output_type": "stream",
     "text": [
      "{'x': 3}\n",
      "3\n",
      "{'inner': <function outer.<locals>.inner at 0x000001AF8D7F1760>, 'x': 3}\n",
      "3\n"
     ]
    }
   ],
   "source": [
    "def outer():\n",
    "    x=1\n",
    "    def inner():\n",
    "        nonlocal x # Non local keyword allow to change \n",
    "#         the enclosing scope variable in inner scope \n",
    "#         and also create a variable in inner scope\n",
    "        x+=2\n",
    "        print(locals())\n",
    "        print(x)\n",
    "    inner()\n",
    "    print(locals())\n",
    "    print(x)\n",
    "outer()\n",
    "# print(x)"
   ]
  },
  {
   "cell_type": "code",
   "execution_count": 62,
   "id": "e7436bce",
   "metadata": {},
   "outputs": [
    {
     "name": "stdout",
     "output_type": "stream",
     "text": [
      "{'s': 2}\n",
      "2\n",
      "2\n"
     ]
    },
    {
     "ename": "NameError",
     "evalue": "name 's' is not defined",
     "output_type": "error",
     "traceback": [
      "\u001b[1;31m---------------------------------------------------------------------------\u001b[0m",
      "\u001b[1;31mNameError\u001b[0m                                 Traceback (most recent call last)",
      "Cell \u001b[1;32mIn[62], line 11\u001b[0m\n\u001b[0;32m      9\u001b[0m     \u001b[38;5;28mprint\u001b[39m(s)\n\u001b[0;32m     10\u001b[0m outer()\n\u001b[1;32m---> 11\u001b[0m \u001b[38;5;28mprint\u001b[39m(s)\n",
      "\u001b[1;31mNameError\u001b[0m: name 's' is not defined"
     ]
    }
   ],
   "source": [
    "def outer():\n",
    "    s=1\n",
    "    def inner():\n",
    "        nonlocal s\n",
    "        s+=1\n",
    "        print(locals())\n",
    "        print(s)\n",
    "    inner()\n",
    "    print(s)\n",
    "outer()\n",
    "print(s)"
   ]
  },
  {
   "cell_type": "code",
   "execution_count": 63,
   "id": "e7bd6844",
   "metadata": {},
   "outputs": [
    {
     "name": "stdout",
     "output_type": "stream",
     "text": [
      "2\n",
      "2\n"
     ]
    }
   ],
   "source": [
    "def outer():\n",
    "    p=1\n",
    "    def inner():\n",
    "        nonlocal p\n",
    "        p+=1\n",
    "        print(p)\n",
    "    inner()\n",
    "    print(p)\n",
    "outer()\n",
    "# print(p)"
   ]
  },
  {
   "cell_type": "code",
   "execution_count": null,
   "id": "d890d3f7",
   "metadata": {},
   "outputs": [],
   "source": [
    "def outer():\n",
    "    p=1\n",
    "    def inner():\n",
    "        p=2\n",
    "        print(p)\n",
    "    inner()\n",
    "    print(p)\n",
    "outer()\n",
    "# print(p)"
   ]
  },
  {
   "cell_type": "code",
   "execution_count": null,
   "id": "7387a4d1",
   "metadata": {},
   "outputs": [],
   "source": [
    "# LEGB Rule\n",
    "# a=1\n",
    "def func():\n",
    "    global t\n",
    "    t=1\n",
    "    print(locals())\n",
    "    print(globals()['t'])\n",
    "    print(t)\n",
    "func()\n",
    "print(t)"
   ]
  },
  {
   "cell_type": "code",
   "execution_count": null,
   "id": "46ffb371",
   "metadata": {},
   "outputs": [],
   "source": [
    "def outer():\n",
    "    p=1\n",
    "    def inner():\n",
    "        nonlocal p\n",
    "        p=2\n",
    "        print(p)\n",
    "        print(locals())\n",
    "    inner()\n",
    "    print(p)\n",
    "outer()\n",
    "# print(p)"
   ]
  },
  {
   "cell_type": "code",
   "execution_count": null,
   "id": "cc6eea6c",
   "metadata": {},
   "outputs": [],
   "source": []
  },
  {
   "cell_type": "code",
   "execution_count": null,
   "id": "d98f9975-140c-4854-95f1-839cf9b7401d",
   "metadata": {},
   "outputs": [],
   "source": []
  },
  {
   "cell_type": "code",
   "execution_count": null,
   "id": "7a08c6e7-24fd-4310-8c16-978a7b48001c",
   "metadata": {},
   "outputs": [],
   "source": []
  }
 ],
 "metadata": {
  "kernelspec": {
   "display_name": "Python 3 (ipykernel)",
   "language": "python",
   "name": "python3"
  },
  "language_info": {
   "codemirror_mode": {
    "name": "ipython",
    "version": 3
   },
   "file_extension": ".py",
   "mimetype": "text/x-python",
   "name": "python",
   "nbconvert_exporter": "python",
   "pygments_lexer": "ipython3",
   "version": "3.12.7"
  }
 },
 "nbformat": 4,
 "nbformat_minor": 5
}
