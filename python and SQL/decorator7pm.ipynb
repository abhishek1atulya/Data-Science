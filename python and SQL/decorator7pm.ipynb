{
 "cells": [
  {
   "cell_type": "code",
   "execution_count": 78,
   "id": "242ea553-61d2-4db5-b1a8-d31bc747629b",
   "metadata": {},
   "outputs": [],
   "source": [
    "def asdf(n):\n",
    "    return n**2"
   ]
  },
  {
   "cell_type": "code",
   "execution_count": 79,
   "id": "1b5e6723-2a6a-411e-93c7-b744d93a09e6",
   "metadata": {},
   "outputs": [
    {
     "data": {
      "text/plain": [
       "<function __main__.square(n)>"
      ]
     },
     "execution_count": 79,
     "metadata": {},
     "output_type": "execute_result"
    }
   ],
   "source": [
    "square"
   ]
  },
  {
   "cell_type": "code",
   "execution_count": 80,
   "id": "99b6a97d-87f6-403c-ad12-366d61bdf0fc",
   "metadata": {},
   "outputs": [],
   "source": [
    "def mydeco(fun):\n",
    "    def wrapper(*a,**b):\n",
    "        print(f'{fun.__name__} function is being called')\n",
    "        return fun(*a,**b) # square(8)\n",
    "    return wrapper\n",
    "    "
   ]
  },
  {
   "cell_type": "code",
   "execution_count": 81,
   "id": "56845c84-8143-4856-aaf2-ad053c7875c3",
   "metadata": {},
   "outputs": [
    {
     "name": "stdout",
     "output_type": "stream",
     "text": [
      "asdf function is being called\n"
     ]
    },
    {
     "data": {
      "text/plain": [
       "64"
      ]
     },
     "execution_count": 81,
     "metadata": {},
     "output_type": "execute_result"
    }
   ],
   "source": [
    "a=mydeco(asdf)\n",
    "a(8)"
   ]
  },
  {
   "cell_type": "code",
   "execution_count": 71,
   "id": "42e68384-0e20-4fd5-83e4-278fcc42b73b",
   "metadata": {},
   "outputs": [],
   "source": [
    "def mul(a,b,c):\n",
    "    return a*b*c"
   ]
  },
  {
   "cell_type": "code",
   "execution_count": 72,
   "id": "8e305c1e-a14f-4cd3-b74c-0fa8087d6770",
   "metadata": {},
   "outputs": [],
   "source": [
    "a= mydeco(mul)"
   ]
  },
  {
   "cell_type": "code",
   "execution_count": 73,
   "id": "2d262723-5d6a-4bdf-a6c1-0c5129a1b1c7",
   "metadata": {},
   "outputs": [
    {
     "name": "stdout",
     "output_type": "stream",
     "text": [
      "mul function is being called\n"
     ]
    },
    {
     "data": {
      "text/plain": [
       "12"
      ]
     },
     "execution_count": 73,
     "metadata": {},
     "output_type": "execute_result"
    }
   ],
   "source": [
    "a(2,2,3)"
   ]
  },
  {
   "cell_type": "code",
   "execution_count": 74,
   "id": "63c9808d-9ee3-4343-951e-6845b8f3d3d8",
   "metadata": {},
   "outputs": [],
   "source": [
    "@mydeco\n",
    "def sumup(a,s,d,f):\n",
    "    return sum([a,s,d,f])"
   ]
  },
  {
   "cell_type": "code",
   "execution_count": 75,
   "id": "98650582-af8a-45a3-b806-933a4a777717",
   "metadata": {},
   "outputs": [
    {
     "name": "stdout",
     "output_type": "stream",
     "text": [
      "sumup function is being called\n"
     ]
    },
    {
     "data": {
      "text/plain": [
       "10"
      ]
     },
     "execution_count": 75,
     "metadata": {},
     "output_type": "execute_result"
    }
   ],
   "source": [
    "sumup(1,2,3,4)"
   ]
  },
  {
   "cell_type": "code",
   "execution_count": 76,
   "id": "341ce7ff-6fd1-4d9a-b6db-219630d13177",
   "metadata": {},
   "outputs": [],
   "source": [
    "@mydeco\n",
    "def division(n,d):\n",
    "    return n/d"
   ]
  },
  {
   "cell_type": "code",
   "execution_count": 77,
   "id": "bc488adc-71fd-412c-b329-15c18f64b30e",
   "metadata": {},
   "outputs": [
    {
     "name": "stdout",
     "output_type": "stream",
     "text": [
      "division function is being called\n"
     ]
    },
    {
     "data": {
      "text/plain": [
       "0.5"
      ]
     },
     "execution_count": 77,
     "metadata": {},
     "output_type": "execute_result"
    }
   ],
   "source": [
    "division(2,4)"
   ]
  },
  {
   "cell_type": "code",
   "execution_count": 102,
   "id": "2955042b-f6d0-4fb5-8533-3c1008a61730",
   "metadata": {},
   "outputs": [],
   "source": [
    "import time\n",
    "\n",
    "\n",
    "def timer(f):\n",
    "    def wrapper(*a,**b):\n",
    "        curr = time.time()\n",
    "        print(f(*a,*b))\n",
    "        t = time.time()\n",
    "        s = t - curr\n",
    "        print(f'time taken to execute {f.__name__} is equal to {s:.8f} sec')\n",
    "    return wrapper\n",
    "            \n",
    "        "
   ]
  },
  {
   "cell_type": "code",
   "execution_count": 110,
   "id": "ed3d11e6-b915-4a20-9649-6769ba5a0b80",
   "metadata": {},
   "outputs": [],
   "source": [
    "@timer\n",
    "def prime_square(n):\n",
    "    s = int(n**(1/2))\n",
    "    for i in range(2, s+1):\n",
    "        if n%i==0:\n",
    "            return 'Not Prime'\n",
    "    return 'Prime'"
   ]
  },
  {
   "cell_type": "code",
   "execution_count": 111,
   "id": "4434f36a-f49b-456b-80f9-e49e60ba7f6f",
   "metadata": {},
   "outputs": [
    {
     "name": "stdout",
     "output_type": "stream",
     "text": [
      "Prime\n",
      "time taken to execute prime_square is equal to 0.00000000 sec\n"
     ]
    }
   ],
   "source": [
    "prime_square(100000007)"
   ]
  },
  {
   "cell_type": "code",
   "execution_count": 112,
   "id": "7bf7bb49-aef5-46b4-bdf3-4bfece4daa15",
   "metadata": {},
   "outputs": [],
   "source": [
    "@timer\n",
    "def prime(n):\n",
    "    for i in range(2, n):\n",
    "        if n%i==0:\n",
    "            return 'Not Prime'\n",
    "    return 'Prime'"
   ]
  },
  {
   "cell_type": "code",
   "execution_count": 113,
   "id": "2014e589-c11e-4828-a465-4b2ec4f2514a",
   "metadata": {},
   "outputs": [
    {
     "name": "stdout",
     "output_type": "stream",
     "text": [
      "Prime\n",
      "time taken to execute prime is equal to 10.24233961 sec\n"
     ]
    }
   ],
   "source": [
    "prime(100000007)"
   ]
  },
  {
   "cell_type": "code",
   "execution_count": 107,
   "id": "0be59a07-fc0a-4c86-8178-22a348370756",
   "metadata": {},
   "outputs": [],
   "source": [
    "def deco(f):\n",
    "    def wrapper(*a,**b):\n",
    "        return f(*a,**b).upper()\n",
    "    return wrapper"
   ]
  },
  {
   "cell_type": "code",
   "execution_count": 108,
   "id": "efaaa081-9bd0-4634-b0b5-28ac871c4948",
   "metadata": {},
   "outputs": [],
   "source": [
    "@deco\n",
    "def string(s):\n",
    "    return s"
   ]
  },
  {
   "cell_type": "code",
   "execution_count": 109,
   "id": "a3425e4c-3188-49e3-8de2-4ba92c911b39",
   "metadata": {},
   "outputs": [
    {
     "data": {
      "text/plain": [
       "'ADFTREAFH'"
      ]
     },
     "execution_count": 109,
     "metadata": {},
     "output_type": "execute_result"
    }
   ],
   "source": [
    "string('adftreAFh')"
   ]
  },
  {
   "cell_type": "code",
   "execution_count": 121,
   "id": "fed3ec00-4406-4310-ae5d-8d3d53383968",
   "metadata": {},
   "outputs": [],
   "source": [
    "def sanity_check(*a):\n",
    "    def timer(f):\n",
    "        def wrapper(*args):\n",
    "            for i,j in zip(a,args):\n",
    "                if i!=type(j):\n",
    "                    print('this is not valid argument')\n",
    "                    return\n",
    "            print('this is valid argument')\n",
    "            curr = time.time()\n",
    "            print(f(*args))\n",
    "            t = time.time()\n",
    "            s = t - curr\n",
    "            print(f'time taken to execute {f.__name__} is equal to {s:.8f} sec')\n",
    "        return wrapper\n",
    "    return timer\n",
    "        "
   ]
  },
  {
   "cell_type": "code",
   "execution_count": 122,
   "id": "7c1ab0c0-f5e6-462f-ae78-715bc5447491",
   "metadata": {},
   "outputs": [],
   "source": [
    "@sanity_check(int)\n",
    "def prime(n):\n",
    "    for i in range(2, n):\n",
    "        if n%i==0:\n",
    "            return 'Not Prime'\n",
    "    return 'Prime'"
   ]
  },
  {
   "cell_type": "code",
   "execution_count": 123,
   "id": "ed78139c-c030-4259-87dc-03bea48141a3",
   "metadata": {},
   "outputs": [
    {
     "name": "stdout",
     "output_type": "stream",
     "text": [
      "this is valid argument\n",
      "Prime\n",
      "time taken to execute prime is equal to 12.23350954 sec\n"
     ]
    }
   ],
   "source": [
    "prime(100000007)"
   ]
  },
  {
   "cell_type": "code",
   "execution_count": 128,
   "id": "e0acbee3-e448-4185-beed-ce0146f8e99b",
   "metadata": {},
   "outputs": [],
   "source": [
    "@sanity_check(list,int,str,dict)\n",
    "def asdf(l,i,s,d):\n",
    "    l.append(i)\n",
    "    l.append(s)\n",
    "    l.extend(list(d.values()))\n",
    "    return l"
   ]
  },
  {
   "cell_type": "code",
   "execution_count": 130,
   "id": "15b0e613-1592-475c-937b-9360965a3e7e",
   "metadata": {},
   "outputs": [
    {
     "name": "stdout",
     "output_type": "stream",
     "text": [
      "this is not valid argument\n"
     ]
    }
   ],
   "source": [
    "asdf([1,2,3,4,4],2.1,'asd',{1:'a','b':5})"
   ]
  },
  {
   "cell_type": "code",
   "execution_count": null,
   "id": "3423887a-f117-449f-b258-c0f035423abb",
   "metadata": {},
   "outputs": [],
   "source": []
  }
 ],
 "metadata": {
  "kernelspec": {
   "display_name": "Python 3 (ipykernel)",
   "language": "python",
   "name": "python3"
  },
  "language_info": {
   "codemirror_mode": {
    "name": "ipython",
    "version": 3
   },
   "file_extension": ".py",
   "mimetype": "text/x-python",
   "name": "python",
   "nbconvert_exporter": "python",
   "pygments_lexer": "ipython3",
   "version": "3.12.7"
  }
 },
 "nbformat": 4,
 "nbformat_minor": 5
}
