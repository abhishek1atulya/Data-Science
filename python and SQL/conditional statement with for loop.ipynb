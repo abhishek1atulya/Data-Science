{
 "cells": [
  {
   "cell_type": "code",
   "execution_count": null,
   "id": "163fc62a",
   "metadata": {},
   "outputs": [],
   "source": [
    "5>4"
   ]
  },
  {
   "cell_type": "code",
   "execution_count": 17,
   "id": "0202f9a8",
   "metadata": {},
   "outputs": [],
   "source": [
    "# if bool:\n",
    "if True:#statement\n",
    "    pass # do nothing"
   ]
  },
  {
   "cell_type": "code",
   "execution_count": 21,
   "id": "4149e828-f392-4fd3-938a-08f50514a3fd",
   "metadata": {},
   "outputs": [],
   "source": [
    "if None:\n",
    "    print('true')"
   ]
  },
  {
   "cell_type": "code",
   "execution_count": 19,
   "id": "e054fba2-c350-4d8f-9fbd-59a78835a1d7",
   "metadata": {},
   "outputs": [
    {
     "data": {
      "text/plain": [
       "True"
      ]
     },
     "execution_count": 19,
     "metadata": {},
     "output_type": "execute_result"
    }
   ],
   "source": [
    "bool(5) # for any real numbers bool is True except 0"
   ]
  },
  {
   "cell_type": "code",
   "execution_count": 15,
   "id": "11049732-f8cb-4aa6-85de-1a41868c7363",
   "metadata": {},
   "outputs": [
    {
     "data": {
      "text/plain": [
       "False"
      ]
     },
     "execution_count": 15,
     "metadata": {},
     "output_type": "execute_result"
    }
   ],
   "source": [
    "bool('') # for any empty iterable bool is false otherwise true"
   ]
  },
  {
   "cell_type": "code",
   "execution_count": 20,
   "id": "75ee0f47-5842-4186-ae5a-97d59f0f410d",
   "metadata": {},
   "outputs": [
    {
     "data": {
      "text/plain": [
       "False"
      ]
     },
     "execution_count": 20,
     "metadata": {},
     "output_type": "execute_result"
    }
   ],
   "source": [
    "bool(None)"
   ]
  },
  {
   "cell_type": "code",
   "execution_count": null,
   "id": "f090c58b",
   "metadata": {},
   "outputs": [],
   "source": [
    "5>4"
   ]
  },
  {
   "cell_type": "code",
   "execution_count": 24,
   "id": "b2afa0b6",
   "metadata": {},
   "outputs": [],
   "source": [
    "# if bool:\n",
    "if 3>4: #statement\n",
    "    print(5)"
   ]
  },
  {
   "cell_type": "code",
   "execution_count": 26,
   "id": "8625e353",
   "metadata": {},
   "outputs": [
    {
     "name": "stdout",
     "output_type": "stream",
     "text": [
      "5\n"
     ]
    }
   ],
   "source": [
    "x=5\n",
    "y=4\n",
    "# if bool:\n",
    "if x>y: #statement\n",
    "    print(x)"
   ]
  },
  {
   "cell_type": "code",
   "execution_count": 27,
   "id": "62d5ea58",
   "metadata": {},
   "outputs": [
    {
     "name": "stdout",
     "output_type": "stream",
     "text": [
      "if 5\n",
      "this is python class\n"
     ]
    }
   ],
   "source": [
    "if x>y: #statement elif always comes under the if condition\n",
    "    print('if',x)\n",
    "    print('this is python class')\n",
    "elif x>y:\n",
    "    print(y)"
   ]
  },
  {
   "cell_type": "code",
   "execution_count": 28,
   "id": "9e9a3943",
   "metadata": {},
   "outputs": [
    {
     "name": "stdout",
     "output_type": "stream",
     "text": [
      "elif 4\n",
      "this is python class\n"
     ]
    }
   ],
   "source": [
    "if x<y: #statement elif always comes under the if condition\n",
    "    print('if',x)\n",
    "    print('this is python class')\n",
    "elif x>y:\n",
    "    print('elif',y)\n",
    "    print('this is python class')"
   ]
  },
  {
   "cell_type": "code",
   "execution_count": 31,
   "id": "f35ca4dd",
   "metadata": {},
   "outputs": [
    {
     "name": "stdin",
     "output_type": "stream",
     "text": [
      " 6\n"
     ]
    },
    {
     "name": "stdout",
     "output_type": "stream",
     "text": [
      "6 is divisible by 6\n"
     ]
    }
   ],
   "source": [
    "x=int(input())\n",
    "if x%8==0:\n",
    "    print(f'{x} is divisible by 8')\n",
    "elif x%4==0:\n",
    "    print(f'{x} is divisible by 4')\n",
    "elif x%6==0:\n",
    "    print(f'{x} is divisible by 6')\n",
    "elif x%2==0:\n",
    "    print(f'{x} is divisible by 2')\n",
    "else:\n",
    "    print(f'{x} not is divisible by (2,4,8,6) ')\n",
    "# print('something')"
   ]
  },
  {
   "cell_type": "code",
   "execution_count": 34,
   "id": "11025bbb",
   "metadata": {},
   "outputs": [
    {
     "name": "stdin",
     "output_type": "stream",
     "text": [
      " 13\n"
     ]
    },
    {
     "name": "stdout",
     "output_type": "stream",
     "text": [
      "13not is divisible by (2,4,8,6) \n"
     ]
    }
   ],
   "source": [
    "x=int(input())\n",
    "if x%5==0:\n",
    "    print(f'{x} is divisible by 5')\n",
    "if x%12==0:\n",
    "    print(f'{x} is divisible by 12')\n",
    "if x%15==0:\n",
    "    print(f'{x} is divisible by 15')\n",
    "elif x%4==0:\n",
    "    print(f'{x} is divisible by 4')\n",
    "elif x%6==0:\n",
    "    print(f'{x} is divisible by 6')\n",
    "elif x%2==0:\n",
    "    print(f'{x} is divisible by 2')\n",
    "else:\n",
    "    print(f'{x}not is divisible by (2,4,8,6)')"
   ]
  },
  {
   "cell_type": "code",
   "execution_count": 36,
   "id": "039b3e20",
   "metadata": {},
   "outputs": [
    {
     "name": "stdout",
     "output_type": "stream",
     "text": [
      "1 iteration\n",
      "2 iteration\n",
      "3 iteration\n",
      "4 iteration\n",
      "5 iteration\n",
      "6 iteration\n"
     ]
    }
   ],
   "source": [
    "import time\n",
    "for a in '123456': # statement\n",
    "    time.sleep(1)\n",
    "    print(a,'iteration')"
   ]
  },
  {
   "cell_type": "code",
   "execution_count": 37,
   "id": "77cea062",
   "metadata": {},
   "outputs": [
    {
     "name": "stdout",
     "output_type": "stream",
     "text": [
      "iteration\n",
      "iteration\n",
      "iteration\n",
      "iteration\n",
      "iteration\n",
      "iteration\n"
     ]
    }
   ],
   "source": [
    "import time\n",
    "for _ in '123456': # statement\n",
    "#     time.sleep(1)\n",
    "    print('iteration')"
   ]
  },
  {
   "cell_type": "code",
   "execution_count": 38,
   "id": "8d7f0f2b",
   "metadata": {},
   "outputs": [
    {
     "data": {
      "text/plain": [
       "range(0, 4)"
      ]
     },
     "execution_count": 38,
     "metadata": {},
     "output_type": "execute_result"
    }
   ],
   "source": [
    "# iterale value\n",
    "# 'srting'\n",
    "# range(start,end,step_size)\n",
    "range(4)# 0,1,2,3"
   ]
  },
  {
   "cell_type": "code",
   "execution_count": 39,
   "id": "0a1256a4",
   "metadata": {},
   "outputs": [
    {
     "data": {
      "text/plain": [
       "[0, 1, 2, 3]"
      ]
     },
     "execution_count": 39,
     "metadata": {},
     "output_type": "execute_result"
    }
   ],
   "source": [
    "list(range(4))"
   ]
  },
  {
   "cell_type": "code",
   "execution_count": 44,
   "id": "64e2fbf6",
   "metadata": {},
   "outputs": [
    {
     "data": {
      "text/plain": [
       "[0, 1, 2, 3]"
      ]
     },
     "execution_count": 44,
     "metadata": {},
     "output_type": "execute_result"
    }
   ],
   "source": [
    "list(range(0,4)) # 0,1,2,3"
   ]
  },
  {
   "cell_type": "code",
   "execution_count": 41,
   "id": "587123c6",
   "metadata": {},
   "outputs": [
    {
     "data": {
      "text/plain": [
       "range(0, 4, 2)"
      ]
     },
     "execution_count": 41,
     "metadata": {},
     "output_type": "execute_result"
    }
   ],
   "source": [
    "range(0,4,2) # 0,1,2,3 -> 0,2"
   ]
  },
  {
   "cell_type": "code",
   "execution_count": 46,
   "id": "eb3279e2",
   "metadata": {},
   "outputs": [
    {
     "data": {
      "text/plain": [
       "[0, 2, 4, 6, 8, 10]"
      ]
     },
     "execution_count": 46,
     "metadata": {},
     "output_type": "execute_result"
    }
   ],
   "source": [
    "list(range(0,11,2))"
   ]
  },
  {
   "cell_type": "code",
   "execution_count": 48,
   "id": "29d675d8-dde3-4b7a-9a08-3c367bc91259",
   "metadata": {},
   "outputs": [
    {
     "data": {
      "text/plain": [
       "[10, 8, 6, 4, 2, 0]"
      ]
     },
     "execution_count": 48,
     "metadata": {},
     "output_type": "execute_result"
    }
   ],
   "source": [
    "list(range(10,-1,-2))"
   ]
  },
  {
   "cell_type": "code",
   "execution_count": 49,
   "id": "8301c4a4",
   "metadata": {},
   "outputs": [
    {
     "name": "stdout",
     "output_type": "stream",
     "text": [
      "0\n",
      "1\n",
      "2\n",
      "3\n",
      "4\n"
     ]
    }
   ],
   "source": [
    "for i in range(5):\n",
    "    time.sleep(1)\n",
    "    print(i)"
   ]
  },
  {
   "cell_type": "code",
   "execution_count": 50,
   "id": "fe0af040",
   "metadata": {},
   "outputs": [
    {
     "name": "stdout",
     "output_type": "stream",
     "text": [
      "1\n",
      "3\n",
      "5\n",
      "7\n",
      "9\n",
      "11\n",
      "13\n"
     ]
    }
   ],
   "source": [
    "for i in range(1,15,2):\n",
    "    time.sleep(1)\n",
    "    print(i)"
   ]
  },
  {
   "cell_type": "code",
   "execution_count": 51,
   "id": "186c4129",
   "metadata": {},
   "outputs": [
    {
     "name": "stdout",
     "output_type": "stream",
     "text": [
      "20\n",
      "18\n",
      "16\n",
      "14\n",
      "12\n",
      "10\n",
      "8\n",
      "6\n",
      "4\n",
      "2\n"
     ]
    }
   ],
   "source": [
    "for i in range(20,1,-2):\n",
    "    # time.sleep(1)\n",
    "    print(i)"
   ]
  },
  {
   "cell_type": "code",
   "execution_count": 19,
   "id": "53119cbb",
   "metadata": {},
   "outputs": [
    {
     "data": {
      "text/plain": [
       "[20, 18, 16, 14, 12, 10, 8, 6, 4, 2]"
      ]
     },
     "execution_count": 19,
     "metadata": {},
     "output_type": "execute_result"
    }
   ],
   "source": [
    "list(range(20,1,-2))"
   ]
  },
  {
   "cell_type": "code",
   "execution_count": 20,
   "id": "43db9faf",
   "metadata": {},
   "outputs": [],
   "source": [
    "# 1,2,3,4,5,6,7,8,9,10,11,12,13,14,15,16,17,18,19,20"
   ]
  },
  {
   "cell_type": "code",
   "execution_count": 52,
   "id": "e34efacd",
   "metadata": {},
   "outputs": [
    {
     "name": "stdout",
     "output_type": "stream",
     "text": [
      "0\n",
      "-1\n",
      "-2\n",
      "-3\n",
      "-4\n",
      "-5\n",
      "-6\n",
      "-7\n"
     ]
    }
   ],
   "source": [
    "for i in range(0,-15,-1):\n",
    "#     time.sleep(1)\n",
    "    print(i)\n",
    "    if i==-7:\n",
    "        break"
   ]
  },
  {
   "cell_type": "code",
   "execution_count": 53,
   "id": "a27d9707",
   "metadata": {
    "scrolled": true
   },
   "outputs": [
    {
     "name": "stdin",
     "output_type": "stream",
     "text": [
      " 3\n"
     ]
    },
    {
     "name": "stdout",
     "output_type": "stream",
     "text": [
      "3 is odd\n"
     ]
    }
   ],
   "source": [
    "i=int(input())\n",
    "if i%2==0:\n",
    "    print(f'{i} is even')\n",
    "else:\n",
    "    print(f'{i} is odd')"
   ]
  },
  {
   "cell_type": "code",
   "execution_count": 58,
   "id": "042843b4",
   "metadata": {},
   "outputs": [
    {
     "name": "stdin",
     "output_type": "stream",
     "text": [
      "Enter the number:  100000007\n"
     ]
    },
    {
     "name": "stdout",
     "output_type": "stream",
     "text": [
      "Prime\n",
      "26.306641578674316 sec\n"
     ]
    }
   ],
   "source": [
    "x=int(input('Enter the number: '))\n",
    "t = time.time()\n",
    "for i in range(2, x):\n",
    "    if x%i==0:\n",
    "        print('Not prime')\n",
    "        break\n",
    "    elif i==x-1:\n",
    "        print('Prime')\n",
    "a = time.time()\n",
    "print(a-t, 'sec')"
   ]
  },
  {
   "cell_type": "code",
   "execution_count": 61,
   "id": "fdaca477-f323-453c-8921-d4c79cb56cca",
   "metadata": {},
   "outputs": [
    {
     "name": "stdin",
     "output_type": "stream",
     "text": [
      "Enter the number:  100000007\n"
     ]
    },
    {
     "name": "stdout",
     "output_type": "stream",
     "text": [
      "Prime\n",
      "0.013367891311645508 sec\n"
     ]
    }
   ],
   "source": [
    "x=int(input('Enter the number: '))\n",
    "t = time.time()\n",
    "s= int(x**(1/2))\n",
    "for i in range(2, s+1):\n",
    "    if x%i==0:\n",
    "        print('Not prime')\n",
    "        break\n",
    "    elif i==s:\n",
    "        print('Prime')\n",
    "a = time.time()\n",
    "print(a-t, 'sec')"
   ]
  },
  {
   "cell_type": "code",
   "execution_count": 60,
   "id": "59f4d018-dd18-41c4-b949-28660959ec1d",
   "metadata": {},
   "outputs": [
    {
     "data": {
      "text/plain": [
       "4"
      ]
     },
     "execution_count": 60,
     "metadata": {},
     "output_type": "execute_result"
    }
   ],
   "source": [
    "17\n",
    "int(17**(1/2))"
   ]
  },
  {
   "cell_type": "code",
   "execution_count": null,
   "id": "8705c9ec",
   "metadata": {},
   "outputs": [],
   "source": [
    "12 [1,2,3,4,6,12]\n",
    "# 18 [1,2,3,6,9,18]\n",
    "6"
   ]
  },
  {
   "cell_type": "code",
   "execution_count": 48,
   "id": "bb79782b",
   "metadata": {},
   "outputs": [
    {
     "name": "stdout",
     "output_type": "stream",
     "text": [
      "Enter the number: 12\n",
      "Enter the number: 18\n",
      "6 is HCF\n"
     ]
    }
   ],
   "source": [
    "# find the HCF of given two numbers\n",
    "\n",
    "x1=int(input('Enter the number: '))\n",
    "x2=int(input('Enter the number: '))\n",
    "\n"
   ]
  },
  {
   "cell_type": "code",
   "execution_count": 57,
   "id": "6a36f01f",
   "metadata": {},
   "outputs": [
    {
     "name": "stdout",
     "output_type": "stream",
     "text": [
      "Enter the number: 14\n",
      "Enter the number: 15\n",
      "1 is HCF\n"
     ]
    }
   ],
   "source": [
    "# find the LCM of given two numbers\n",
    "\n",
    "x1=int(input('Enter the number: '))\n",
    "x2=int(input('Enter the number: '))\n"
   ]
  },
  {
   "cell_type": "code",
   "execution_count": 23,
   "id": "b8d2b48d",
   "metadata": {},
   "outputs": [],
   "source": [
    "# time complexity in for loop = O(n)\n",
    "# n = len(iterable)"
   ]
  },
  {
   "cell_type": "code",
   "execution_count": null,
   "id": "4bf324a7",
   "metadata": {},
   "outputs": [],
   "source": [
    "s = int(27**(1/2))\n",
    "s"
   ]
  },
  {
   "cell_type": "code",
   "execution_count": null,
   "id": "615ff298",
   "metadata": {},
   "outputs": [],
   "source": [
    "# print a piramid with * of height 5\n",
    "#     *\n",
    "#    ***\n",
    "#   *****\n",
    "#  *******\n",
    "# *********\n"
   ]
  },
  {
   "cell_type": "code",
   "execution_count": null,
   "id": "1a00f4a8",
   "metadata": {},
   "outputs": [],
   "source": [
    "# print a traingle with * of height 5\n",
    "#     *\n",
    "#    * *\n",
    "#   *   *\n",
    "#  *     *\n",
    "# * * * * *\n",
    "# s='*'\n"
   ]
  },
  {
   "cell_type": "code",
   "execution_count": 10,
   "id": "0e80d1b1",
   "metadata": {},
   "outputs": [
    {
     "name": "stdout",
     "output_type": "stream",
     "text": [
      "Enter the binary number: 1235\n",
      "Enter the binary number: 123543\n",
      "001235    123543\n"
     ]
    },
    {
     "data": {
      "text/plain": [
       "'125000'"
      ]
     },
     "execution_count": 10,
     "metadata": {},
     "output_type": "execute_result"
    }
   ],
   "source": [
    "# binary addition\n",
    "\n",
    "n1= input('Enter the binary number: ')\n",
    "n2= input('Enter the binary number: ')\n"
   ]
  },
  {
   "cell_type": "code",
   "execution_count": 19,
   "id": "778a4008",
   "metadata": {},
   "outputs": [
    {
     "data": {
      "text/plain": [
       "True"
      ]
     },
     "execution_count": 19,
     "metadata": {},
     "output_type": "execute_result"
    }
   ],
   "source": [
    "s=set([1,1,2,2,1,3,1,0,0])\n",
    "s1=set([0,0,0,1,1,3,3,3,2,2,1,1])\n",
    "s==s1"
   ]
  },
  {
   "cell_type": "code",
   "execution_count": 21,
   "id": "5ab1ca93",
   "metadata": {},
   "outputs": [
    {
     "data": {
      "text/plain": [
       "{0, 1, 2, 3}"
      ]
     },
     "execution_count": 21,
     "metadata": {},
     "output_type": "execute_result"
    }
   ],
   "source": [
    "s"
   ]
  },
  {
   "cell_type": "code",
   "execution_count": 22,
   "id": "b83ada59",
   "metadata": {},
   "outputs": [
    {
     "data": {
      "text/plain": [
       "{0, 1, 2, 3}"
      ]
     },
     "execution_count": 22,
     "metadata": {},
     "output_type": "execute_result"
    }
   ],
   "source": [
    "s1"
   ]
  },
  {
   "cell_type": "code",
   "execution_count": null,
   "id": "beb48c9d",
   "metadata": {},
   "outputs": [],
   "source": []
  }
 ],
 "metadata": {
  "kernelspec": {
   "display_name": "Python 3 (ipykernel)",
   "language": "python",
   "name": "python3"
  },
  "language_info": {
   "codemirror_mode": {
    "name": "ipython",
    "version": 3
   },
   "file_extension": ".py",
   "mimetype": "text/x-python",
   "name": "python",
   "nbconvert_exporter": "python",
   "pygments_lexer": "ipython3",
   "version": "3.12.7"
  }
 },
 "nbformat": 4,
 "nbformat_minor": 5
}
