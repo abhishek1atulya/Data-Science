{
 "cells": [
  {
   "cell_type": "code",
   "execution_count": 2,
   "id": "4e199edd-a319-44a1-9dd3-a56bc6fd053b",
   "metadata": {},
   "outputs": [
    {
     "name": "stdout",
     "output_type": "stream",
     "text": [
      "even\n"
     ]
    }
   ],
   "source": [
    "n=10\n",
    "if n%2==0:\n",
    "    print('even')\n",
    "else:\n",
    "    print('odd')"
   ]
  },
  {
   "cell_type": "code",
   "execution_count": 3,
   "id": "4cf9de70",
   "metadata": {},
   "outputs": [],
   "source": [
    "# syntex defining the function\n",
    "# returns a single output\n",
    "def even(n):\n",
    "    if n%2==0:\n",
    "        print('even')\n",
    "    else:\n",
    "        print('odd')"
   ]
  },
  {
   "cell_type": "code",
   "execution_count": 5,
   "id": "c6276431-55a4-42b4-9f81-853661ada11c",
   "metadata": {
    "scrolled": true
   },
   "outputs": [
    {
     "name": "stdout",
     "output_type": "stream",
     "text": [
      "odd\n"
     ]
    }
   ],
   "source": [
    "even(11)"
   ]
  },
  {
   "cell_type": "code",
   "execution_count": 6,
   "id": "a471ea43-4513-442a-8ec9-3a4aa572142f",
   "metadata": {},
   "outputs": [],
   "source": [
    "def fun():\n",
    "    print('anything')"
   ]
  },
  {
   "cell_type": "code",
   "execution_count": 7,
   "id": "eaf31a92-8a7c-4f2b-8d33-6b5ef8669e1d",
   "metadata": {
    "scrolled": true
   },
   "outputs": [
    {
     "name": "stdout",
     "output_type": "stream",
     "text": [
      "anything\n"
     ]
    }
   ],
   "source": [
    "fun()"
   ]
  },
  {
   "cell_type": "code",
   "execution_count": 41,
   "id": "ae631a0d-cc0a-45ea-8458-243776010151",
   "metadata": {},
   "outputs": [],
   "source": [
    "def prime(n:int):\n",
    "    if 1<n<4:\n",
    "        print('prime')\n",
    "    elif n<1:\n",
    "        print('for negative prime number are not defined')\n",
    "    else:\n",
    "        s = int(n**(1/2))\n",
    "        # print(s)\n",
    "        for i in range(2,s+1):\n",
    "            print(i)\n",
    "            if n%i==0:\n",
    "                print('Not Prime')\n",
    "                # break\n",
    "            elif i==s:\n",
    "                print('Prime')\n",
    "    "
   ]
  },
  {
   "cell_type": "code",
   "execution_count": 42,
   "id": "accbd8e5",
   "metadata": {},
   "outputs": [
    {
     "name": "stdout",
     "output_type": "stream",
     "text": [
      "2\n",
      "Not Prime\n",
      "3\n",
      "Not Prime\n",
      "4\n",
      "Not Prime\n"
     ]
    }
   ],
   "source": [
    "# calling the functions\n",
    "prime(24)"
   ]
  },
  {
   "cell_type": "code",
   "execution_count": 47,
   "id": "5d75c635-d1fb-46bf-9d33-8c9c0b71e8c2",
   "metadata": {},
   "outputs": [],
   "source": [
    "def prime(n:int):\n",
    "    if 1<n<4:\n",
    "        return 'prime'\n",
    "    elif n<1:\n",
    "        return 'for negative prime number are not defined'\n",
    "    else:\n",
    "        s = int(n**(1/2))\n",
    "        # print(s)\n",
    "        for i in range(2,s+1):\n",
    "            print(i)\n",
    "            if n%i==0:\n",
    "                return 'Not Prime'\n",
    "        return 'Prime'\n"
   ]
  },
  {
   "cell_type": "code",
   "execution_count": 48,
   "id": "90a99ce9-dd6d-4797-8514-5de75296a6bb",
   "metadata": {},
   "outputs": [
    {
     "name": "stdout",
     "output_type": "stream",
     "text": [
      "2\n",
      "3\n",
      "4\n",
      "5\n",
      "6\n"
     ]
    },
    {
     "data": {
      "text/plain": [
       "'Prime'"
      ]
     },
     "execution_count": 48,
     "metadata": {},
     "output_type": "execute_result"
    }
   ],
   "source": [
    "prime(41)"
   ]
  },
  {
   "cell_type": "code",
   "execution_count": 51,
   "id": "d051a36f",
   "metadata": {},
   "outputs": [],
   "source": [
    "def even(n):\n",
    "    if n%2==0:\n",
    "        return True\n",
    "    else:\n",
    "        return False"
   ]
  },
  {
   "cell_type": "code",
   "execution_count": 52,
   "id": "0c368a3e",
   "metadata": {},
   "outputs": [
    {
     "data": {
      "text/plain": [
       "True"
      ]
     },
     "execution_count": 52,
     "metadata": {},
     "output_type": "execute_result"
    }
   ],
   "source": [
    "even(2)"
   ]
  },
  {
   "cell_type": "code",
   "execution_count": 53,
   "id": "f5fa8035",
   "metadata": {},
   "outputs": [],
   "source": [
    "def prime(n):\n",
    "    if 1<n<4:\n",
    "        return True\n",
    "    elif n<=1:\n",
    "        return False\n",
    "    else:\n",
    "        s = int(n**(1/2))\n",
    "        for i in range(2,s+1):\n",
    "            if n%i==0:\n",
    "                return False\n",
    "        return True # return always runs ine time"
   ]
  },
  {
   "cell_type": "code",
   "execution_count": 54,
   "id": "2655b0d6-c3f7-41c8-bb41-742445ef7b64",
   "metadata": {},
   "outputs": [
    {
     "data": {
      "text/plain": [
       "True"
      ]
     },
     "execution_count": 54,
     "metadata": {},
     "output_type": "execute_result"
    }
   ],
   "source": [
    "prime(41)"
   ]
  },
  {
   "cell_type": "code",
   "execution_count": 55,
   "id": "42b20134",
   "metadata": {
    "scrolled": true
   },
   "outputs": [
    {
     "data": {
      "text/plain": [
       "False"
      ]
     },
     "execution_count": 55,
     "metadata": {},
     "output_type": "execute_result"
    }
   ],
   "source": [
    "prime(35)"
   ]
  },
  {
   "cell_type": "code",
   "execution_count": 56,
   "id": "4324a6d4-758f-4ddd-8f4b-1515f55fc61f",
   "metadata": {},
   "outputs": [],
   "source": [
    "# Home Work\n",
    "# prime using while loop\n",
    "# even\n",
    "# palindrome function\n",
    "# slection sort funtion\n",
    "# adding binary numbers funtion\n",
    "# fibbnacci series with funtion ---> fibbo(10):list"
   ]
  },
  {
   "cell_type": "code",
   "execution_count": 9,
   "id": "b7af4d81-723a-49ce-bdce-fc8cd94b2a9b",
   "metadata": {},
   "outputs": [],
   "source": [
    "def selction(l:list):\n",
    "    for i in range(len(l)):\n",
    "        for j in range(len(l)-i):\n",
    "            if l[j]>l[-i-1]:\n",
    "                l[j],l[-i-1]= l[-i-1], l[j]\n",
    "    return l"
   ]
  },
  {
   "cell_type": "code",
   "execution_count": 10,
   "id": "937d167b-6392-4e83-9052-f29cb17c3193",
   "metadata": {},
   "outputs": [
    {
     "data": {
      "text/plain": [
       "[0, 0, 1, 1, 1, 2, 3, 3, 7, 8, 9]"
      ]
     },
     "execution_count": 10,
     "metadata": {},
     "output_type": "execute_result"
    }
   ],
   "source": [
    "l=[1,0,1,3,7,9,2,8,0,1,3]\n",
    "selction(l)"
   ]
  },
  {
   "cell_type": "code",
   "execution_count": 15,
   "id": "bf979294-ba80-4785-96f7-b50b2a86f58c",
   "metadata": {},
   "outputs": [],
   "source": [
    "def add_binary(n1:str,n2:str):\n",
    "    s1 = n1.zfill(len(n2))\n",
    "    s2 = n2.zfill(len(n1))\n",
    "    s=''\n",
    "    i=-1\n",
    "    c=0\n",
    "    while i>=-len(s1):\n",
    "        f = int(s1[i]) + int(s2[i]) + c\n",
    "        a=f%2\n",
    "        s=str(a)+s\n",
    "        if f>=2:\n",
    "            c=1\n",
    "        i-=1\n",
    "    if c:\n",
    "        s= str(c)+s\n",
    "    return s"
   ]
  },
  {
   "cell_type": "code",
   "execution_count": 17,
   "id": "1f8dbc42-ce16-49a0-97a2-800d6bcb30cf",
   "metadata": {},
   "outputs": [
    {
     "data": {
      "text/plain": [
       "'10000001'"
      ]
     },
     "execution_count": 17,
     "metadata": {},
     "output_type": "execute_result"
    }
   ],
   "source": [
    "add_binary('1000','1111001')"
   ]
  },
  {
   "cell_type": "code",
   "execution_count": 21,
   "id": "ad656fe6-9aac-496e-8ba5-752bf77aac45",
   "metadata": {},
   "outputs": [],
   "source": [
    "def fibo(n:int, a:int=0, b:int=1,):\n",
    "    l = [a,b]\n",
    "    while len(l)<n:\n",
    "        l.append(l[-1]+l[-2])\n",
    "    return l"
   ]
  },
  {
   "cell_type": "code",
   "execution_count": 23,
   "id": "31087e0b-de3c-4706-9261-60b70586e7b6",
   "metadata": {},
   "outputs": [
    {
     "data": {
      "text/plain": [
       "[2, 4, 6, 10, 16, 26, 42, 68, 110, 178]"
      ]
     },
     "execution_count": 23,
     "metadata": {},
     "output_type": "execute_result"
    }
   ],
   "source": [
    "fibo(10,2,4)"
   ]
  },
  {
   "cell_type": "code",
   "execution_count": 9,
   "id": "fdf7ef52",
   "metadata": {},
   "outputs": [],
   "source": [
    "# there are four types of arguments in functions\n",
    "# 1 positional argumrnt(input)\n",
    "# 2 keyword argumrnts\n",
    "# 3 defalut arguments\n",
    "# 4 dynamic arguments"
   ]
  },
  {
   "cell_type": "code",
   "execution_count": 25,
   "id": "a10b849b",
   "metadata": {},
   "outputs": [],
   "source": [
    "def fiboo(a,b,n):\n",
    "    l=[a,b]\n",
    "    for _ in range(n-2):\n",
    "        l.append(l[-1]+l[-2])\n",
    "    return l"
   ]
  },
  {
   "cell_type": "code",
   "execution_count": 26,
   "id": "be84de30",
   "metadata": {},
   "outputs": [
    {
     "data": {
      "text/plain": [
       "[0, 1, 1, 2, 3, 5, 8, 13, 21, 34]"
      ]
     },
     "execution_count": 26,
     "metadata": {},
     "output_type": "execute_result"
    }
   ],
   "source": [
    "fiboo(0,1,10) #positional argumrnt(input)"
   ]
  },
  {
   "cell_type": "code",
   "execution_count": 27,
   "id": "310f7245",
   "metadata": {},
   "outputs": [
    {
     "data": {
      "text/plain": [
       "[0, 1, 1, 2, 3, 5, 8, 13, 21, 34]"
      ]
     },
     "execution_count": 27,
     "metadata": {},
     "output_type": "execute_result"
    }
   ],
   "source": [
    "fiboo(a=0,b=1,n=10) #keyword argumrnts"
   ]
  },
  {
   "cell_type": "code",
   "execution_count": 28,
   "id": "a8e38e4a",
   "metadata": {},
   "outputs": [
    {
     "data": {
      "text/plain": [
       "[0, 1, 1, 2, 3, 5, 8, 13, 21, 34]"
      ]
     },
     "execution_count": 28,
     "metadata": {},
     "output_type": "execute_result"
    }
   ],
   "source": [
    "fiboo(b=1,a=0,n=10) #keyword argumrnts"
   ]
  },
  {
   "cell_type": "code",
   "execution_count": 30,
   "id": "90fc0a23",
   "metadata": {},
   "outputs": [
    {
     "ename": "SyntaxError",
     "evalue": "positional argument follows keyword argument (1376751023.py, line 1)",
     "output_type": "error",
     "traceback": [
      "\u001b[1;36m  Cell \u001b[1;32mIn[30], line 1\u001b[1;36m\u001b[0m\n\u001b[1;33m    fiboo(b=1, 0 ,n=10) #positional argument follows keyword argument\u001b[0m\n\u001b[1;37m                      ^\u001b[0m\n\u001b[1;31mSyntaxError\u001b[0m\u001b[1;31m:\u001b[0m positional argument follows keyword argument\n"
     ]
    }
   ],
   "source": [
    "fiboo(b=1, 0 ,n=10) #positional argument follows keyword argument"
   ]
  },
  {
   "cell_type": "code",
   "execution_count": 31,
   "id": "13909cd5",
   "metadata": {},
   "outputs": [
    {
     "data": {
      "text/plain": [
       "[0, 1, 1, 2, 3, 5, 8, 13, 21, 34]"
      ]
     },
     "execution_count": 31,
     "metadata": {},
     "output_type": "execute_result"
    }
   ],
   "source": [
    "fiboo(0,b=1,n=10)"
   ]
  },
  {
   "cell_type": "code",
   "execution_count": 32,
   "id": "138deed9",
   "metadata": {},
   "outputs": [
    {
     "ename": "TypeError",
     "evalue": "fiboo() got multiple values for argument 'a'",
     "output_type": "error",
     "traceback": [
      "\u001b[1;31m---------------------------------------------------------------------------\u001b[0m",
      "\u001b[1;31mTypeError\u001b[0m                                 Traceback (most recent call last)",
      "Cell \u001b[1;32mIn[32], line 1\u001b[0m\n\u001b[1;32m----> 1\u001b[0m fiboo(\u001b[38;5;241m0\u001b[39m,a\u001b[38;5;241m=\u001b[39m\u001b[38;5;241m1\u001b[39m,n\u001b[38;5;241m=\u001b[39m\u001b[38;5;241m10\u001b[39m)\n",
      "\u001b[1;31mTypeError\u001b[0m: fiboo() got multiple values for argument 'a'"
     ]
    }
   ],
   "source": [
    "fiboo(0,a=1,n=10)"
   ]
  },
  {
   "cell_type": "code",
   "execution_count": 33,
   "id": "c3afda5f",
   "metadata": {},
   "outputs": [
    {
     "data": {
      "text/plain": [
       "[0, 1, 1, 2, 3, 5, 8, 13, 21, 34]"
      ]
     },
     "execution_count": 33,
     "metadata": {},
     "output_type": "execute_result"
    }
   ],
   "source": [
    "fiboo(0,n=10,b=1)"
   ]
  },
  {
   "cell_type": "code",
   "execution_count": 34,
   "id": "a8a5371d",
   "metadata": {},
   "outputs": [],
   "source": [
    "def fiboo(a,b,n=10):\n",
    "    l=[a,b]\n",
    "    for _ in range(n-2):\n",
    "        l.append(l[-1]+l[-2])\n",
    "    return l"
   ]
  },
  {
   "cell_type": "code",
   "execution_count": 35,
   "id": "2df5e7f9",
   "metadata": {},
   "outputs": [
    {
     "data": {
      "text/plain": [
       "[0, 1, 1, 2, 3, 5, 8, 13, 21, 34]"
      ]
     },
     "execution_count": 35,
     "metadata": {},
     "output_type": "execute_result"
    }
   ],
   "source": [
    "fiboo(0,1)"
   ]
  },
  {
   "cell_type": "code",
   "execution_count": 36,
   "id": "8a73fd3b",
   "metadata": {},
   "outputs": [
    {
     "data": {
      "text/plain": [
       "[0, 1, 1, 2, 3, 5, 8, 13, 21, 34, 55, 89]"
      ]
     },
     "execution_count": 36,
     "metadata": {},
     "output_type": "execute_result"
    }
   ],
   "source": [
    "fiboo(0,1,12)"
   ]
  },
  {
   "cell_type": "code",
   "execution_count": 37,
   "id": "8a22bbaa",
   "metadata": {},
   "outputs": [
    {
     "data": {
      "text/plain": [
       "[0, 1, 1, 2, 3, 5, 8, 13, 21, 34]"
      ]
     },
     "execution_count": 37,
     "metadata": {},
     "output_type": "execute_result"
    }
   ],
   "source": [
    "fiboo(0,1)"
   ]
  },
  {
   "cell_type": "code",
   "execution_count": 38,
   "id": "57b5fcef",
   "metadata": {},
   "outputs": [],
   "source": [
    "def cost(*var):\n",
    "    print(var)"
   ]
  },
  {
   "cell_type": "code",
   "execution_count": 39,
   "id": "577f2163",
   "metadata": {},
   "outputs": [
    {
     "name": "stdout",
     "output_type": "stream",
     "text": [
      "(1, 2, 3, 4, 5, 6, 7, 8, 9, 0, 10)\n"
     ]
    }
   ],
   "source": [
    "cost(1,2,3,4,5,6,7,8,9,0,10)"
   ]
  },
  {
   "cell_type": "code",
   "execution_count": 43,
   "id": "2fd4028b-fd22-41e6-816f-f513e8ab032f",
   "metadata": {},
   "outputs": [],
   "source": [
    "def addition(*args): # positional dynamic argument\n",
    "    s=0\n",
    "    for i in args:\n",
    "        s+=i\n",
    "    return s"
   ]
  },
  {
   "cell_type": "code",
   "execution_count": 44,
   "id": "716854f4-a729-4a79-975a-b6ecfdb0415b",
   "metadata": {},
   "outputs": [
    {
     "data": {
      "text/plain": [
       "239"
      ]
     },
     "execution_count": 44,
     "metadata": {},
     "output_type": "execute_result"
    }
   ],
   "source": [
    "addition(1,0,1,13,2,45,56,23,39,13,34,12)"
   ]
  },
  {
   "cell_type": "code",
   "execution_count": 45,
   "id": "911f6cab",
   "metadata": {},
   "outputs": [],
   "source": [
    "def cost(**variable): #keyword dynamic arguments\n",
    "    print(variable)"
   ]
  },
  {
   "cell_type": "code",
   "execution_count": 46,
   "id": "dcfe0793",
   "metadata": {},
   "outputs": [
    {
     "name": "stdout",
     "output_type": "stream",
     "text": [
      "{'auto': 10, 'sabji': 100, 'rent': 5000, 'metro': 100}\n"
     ]
    }
   ],
   "source": [
    "cost(auto=10,sabji=100,rent=5000,metro=100)"
   ]
  },
  {
   "cell_type": "code",
   "execution_count": 49,
   "id": "360f7106",
   "metadata": {},
   "outputs": [],
   "source": [
    "def add(**kwargs):\n",
    "    s=0\n",
    "    for i in kwargs.values():\n",
    "        s+=i\n",
    "    return s\n"
   ]
  },
  {
   "cell_type": "code",
   "execution_count": 50,
   "id": "cba6efc8-2b2a-4332-ab57-62904352c01b",
   "metadata": {},
   "outputs": [
    {
     "data": {
      "text/plain": [
       "5210"
      ]
     },
     "execution_count": 50,
     "metadata": {},
     "output_type": "execute_result"
    }
   ],
   "source": [
    "add(auto=10,sabji=100,rent=5000,metro=100)"
   ]
  },
  {
   "cell_type": "code",
   "execution_count": null,
   "id": "357f8532-4cba-47b1-9f30-22fee4b0fa07",
   "metadata": {},
   "outputs": [],
   "source": []
  }
 ],
 "metadata": {
  "kernelspec": {
   "display_name": "Python 3 (ipykernel)",
   "language": "python",
   "name": "python3"
  },
  "language_info": {
   "codemirror_mode": {
    "name": "ipython",
    "version": 3
   },
   "file_extension": ".py",
   "mimetype": "text/x-python",
   "name": "python",
   "nbconvert_exporter": "python",
   "pygments_lexer": "ipython3",
   "version": "3.12.7"
  }
 },
 "nbformat": 4,
 "nbformat_minor": 5
}
