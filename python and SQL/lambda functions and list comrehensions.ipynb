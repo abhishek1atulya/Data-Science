{
 "cells": [
  {
   "cell_type": "code",
   "execution_count": null,
   "id": "9c75b18e",
   "metadata": {},
   "outputs": [],
   "source": [
    "def fun(a,b):\n",
    "    pass\n",
    "    return 1"
   ]
  },
  {
   "cell_type": "code",
   "execution_count": null,
   "id": "6231f8c8-febb-40a8-92f7-f5e6379897a4",
   "metadata": {},
   "outputs": [],
   "source": [
    "print('something') if False else print('nothing')"
   ]
  },
  {
   "cell_type": "code",
   "execution_count": null,
   "id": "7e6c24d6-0324-48f7-94b9-7e9a0a8111cc",
   "metadata": {},
   "outputs": [],
   "source": [
    "if True:\n",
    "    print(a)\n",
    "    a\n",
    "else:\n",
    "    print(a)"
   ]
  },
  {
   "cell_type": "code",
   "execution_count": null,
   "id": "3ef06223-4ab0-4c59-a4c5-1e7f02b5da63",
   "metadata": {},
   "outputs": [],
   "source": [
    "l = []\n",
    "l.append(1) if False else  l.append(2)\n",
    "l"
   ]
  },
  {
   "cell_type": "code",
   "execution_count": null,
   "id": "83377c2e",
   "metadata": {},
   "outputs": [],
   "source": [
    "# syntext\n",
    "# a funtion withput name\n",
    "# lambda input: result/expression condional statement always use else\n",
    "(lambda a,b : print('maximum') if a>b else b)(8,4)"
   ]
  },
  {
   "cell_type": "code",
   "execution_count": null,
   "id": "013f55c3-18a9-4306-8650-2ef65ac959e5",
   "metadata": {},
   "outputs": [],
   "source": [
    "l = [1,2,3,7,5,8,2,14,56,9,10,12]\n",
    "list(filter(lambda a: True if a%2==0 else False, l))"
   ]
  },
  {
   "cell_type": "code",
   "execution_count": null,
   "id": "0f1aeb0e",
   "metadata": {
    "scrolled": true
   },
   "outputs": [],
   "source": [
    "f(8,4)"
   ]
  },
  {
   "cell_type": "code",
   "execution_count": null,
   "id": "babc4ac3",
   "metadata": {},
   "outputs": [],
   "source": [
    "(lambda a: True if a%2==0 else False)(6)"
   ]
  },
  {
   "cell_type": "code",
   "execution_count": null,
   "id": "550ec44c",
   "metadata": {},
   "outputs": [],
   "source": [
    "even(7)"
   ]
  },
  {
   "cell_type": "code",
   "execution_count": null,
   "id": "ef2b584d-eda4-48e7-9604-def6e3b4a3f9",
   "metadata": {},
   "outputs": [],
   "source": [
    "l = [1,2,3,4,5,6,7,10]\n",
    "list(filter(lambda a: True if a>2 else False, l))"
   ]
  },
  {
   "cell_type": "code",
   "execution_count": null,
   "id": "7b407ee3-1079-4ebf-a06f-447fc5f4488a",
   "metadata": {
    "scrolled": true
   },
   "outputs": [],
   "source": [
    "(lambda a: a**2)(2)"
   ]
  },
  {
   "cell_type": "code",
   "execution_count": null,
   "id": "e0fb69bf",
   "metadata": {},
   "outputs": [],
   "source": [
    "# sorted(l,key=fun)\n",
    "l=[(1,'one'), (3,'Three'),(2,'two'),(54,'fiftyfour'), (6,'six'), (789,'seveneightynine')]\n",
    "# sort the aboe list by len of the string \n",
    "# output-->\n",
    "# [(1,'one'),(2,'two'),(6,'six'), (3,'Three'),(54,'fiftyfour'), (789,'seveneightynine')]\n",
    "sorted(l, key = lambda a: len(a[1]))"
   ]
  },
  {
   "cell_type": "markdown",
   "id": "8851dda9",
   "metadata": {},
   "source": [
    "use map,filter,sorted,lambda,input,string\n",
    "\n",
    "\n",
    "create a lambda function to calculate the square of a number and use it with map function to get the square of the numbers"
   ]
  },
  {
   "cell_type": "code",
   "execution_count": null,
   "id": "649f5029",
   "metadata": {},
   "outputs": [],
   "source": [
    "l= [1,2,3,4,5,6,7]\n",
    "list(map(lambda a: a**2, l))"
   ]
  },
  {
   "cell_type": "code",
   "execution_count": 4,
   "id": "da4088d4",
   "metadata": {
    "scrolled": true
   },
   "outputs": [
    {
     "data": {
      "text/plain": [
       "[{'name': 'ankit', 'age': 20},\n",
       " {'name': 'sahshi', 'age': 24},\n",
       " {'name': 'aditi', 'age': 25},\n",
       " {'name': 'sam', 'age': 30},\n",
       " {'name': 'amit', 'age': 35},\n",
       " {'name': 'jocky', 'age': 45},\n",
       " {'name': 'john', 'age': 50}]"
      ]
     },
     "execution_count": 4,
     "metadata": {},
     "output_type": "execute_result"
    }
   ],
   "source": [
    "\n",
    "ld=[{'name':'john', 'age':50},\n",
    "    {'name':'sam', 'age':30},\n",
    "    {'name':'jocky', 'age':45},\n",
    "    {'name':'ankit', 'age':20},\n",
    "    {'name':'amit', 'age':35},\n",
    "    {'name':'aditi', 'age':25},\n",
    "    {'name':'sahshi', 'age':24}]\n",
    "# output-->\n",
    "# [\n",
    "# {'name':'ankit', 'age':20},\n",
    "# {'name':'sahshi', 'age':24},\n",
    "# {'name':'aditi', 'age':25},\n",
    "# {'name':'sam', 'age':30},\n",
    "# {'name':'amit', 'age':35},\n",
    "# {'name':'jocky', 'age':45},\n",
    "# {'name':'john', 'age':50}\n",
    "# ]\n",
    "sorted(ld, key = lambda a: a['age'])"
   ]
  },
  {
   "cell_type": "code",
   "execution_count": 6,
   "id": "b9b4eaf2",
   "metadata": {},
   "outputs": [
    {
     "data": {
      "text/plain": [
       "[{'name': 'sam', 'age': 30},\n",
       " {'name': 'amit', 'age': 35},\n",
       " {'name': 'jocky', 'age': 45},\n",
       " {'name': 'john', 'age': 50}]"
      ]
     },
     "execution_count": 6,
     "metadata": {},
     "output_type": "execute_result"
    }
   ],
   "source": [
    "ld=[{'name':'john', 'age':50},\n",
    "    {'name':'sam', 'age':30},\n",
    "    {'name':'jocky', 'age':45},\n",
    "    {'name':'ankit', 'age':20},\n",
    "    {'name':'amit', 'age':35},\n",
    "    {'name':'aditi', 'age':25},\n",
    "    {'name':'sahshi', 'age':24}]\n",
    "\n",
    "sorted(list(filter(lambda a: a['age']>25, ld)), key = lambda a: a['age'])"
   ]
  },
  {
   "cell_type": "code",
   "execution_count": 7,
   "id": "bb04bbfd",
   "metadata": {
    "scrolled": true
   },
   "outputs": [
    {
     "data": {
      "text/plain": [
       "[0, 6, 12, 18, 24, 30, 36, 42, 48]"
      ]
     },
     "execution_count": 7,
     "metadata": {},
     "output_type": "execute_result"
    }
   ],
   "source": [
    "# list comprehension\n",
    "# syntex\n",
    "# [result/expression for loop condional statement]\n",
    "[ i for i in range(50) if i%3==0 and i%6==0]"
   ]
  },
  {
   "cell_type": "code",
   "execution_count": 8,
   "id": "7c27eabb-cf59-48b6-9a03-b24560b9a486",
   "metadata": {},
   "outputs": [
    {
     "data": {
      "text/plain": [
       "[0, 6, 12, 18, 24, 30, 36, 42, 48]"
      ]
     },
     "execution_count": 8,
     "metadata": {},
     "output_type": "execute_result"
    }
   ],
   "source": [
    "l=[]\n",
    "for i in range(50):\n",
    "    if i%3 ==0 and i%6==0:\n",
    "        l.append(i)\n",
    "l"
   ]
  },
  {
   "cell_type": "code",
   "execution_count": 9,
   "id": "c2cab99f-c8fc-4e33-8041-e6bca8cddcc2",
   "metadata": {},
   "outputs": [
    {
     "data": {
      "text/plain": [
       "[0, 7, 14, 21, 28, 35, 42, 49]"
      ]
     },
     "execution_count": 9,
     "metadata": {},
     "output_type": "execute_result"
    }
   ],
   "source": [
    "[i for i in range(50) if i%7==0]"
   ]
  },
  {
   "cell_type": "code",
   "execution_count": 10,
   "id": "28c50f9a",
   "metadata": {},
   "outputs": [
    {
     "data": {
      "text/plain": [
       "[0, 2, 4, 6, 8, 10, 12, 14, 16, 18]"
      ]
     },
     "execution_count": 10,
     "metadata": {},
     "output_type": "execute_result"
    }
   ],
   "source": [
    "l=[]\n",
    "for i in range(20):\n",
    "    if i%2==0:\n",
    "        l.append(i)\n",
    "\n",
    "l"
   ]
  },
  {
   "cell_type": "code",
   "execution_count": 11,
   "id": "05812c16",
   "metadata": {},
   "outputs": [
    {
     "data": {
      "text/plain": [
       "[2, 3, 5, 7, 11, 13, 17, 19, 23, 29, 31, 37, 41, 43, 47]"
      ]
     },
     "execution_count": 11,
     "metadata": {},
     "output_type": "execute_result"
    }
   ],
   "source": [
    "def prime(n):\n",
    "    if n==2 or n==3:\n",
    "        return True\n",
    "    s=int(n**(1/2))\n",
    "    for i in range(2,s+1):\n",
    "        if n%i==0:\n",
    "            return False\n",
    "    return True\n",
    "[i for i in range(2,50) if prime(i)]"
   ]
  },
  {
   "cell_type": "code",
   "execution_count": 17,
   "id": "d8ce982f",
   "metadata": {},
   "outputs": [
    {
     "data": {
      "text/plain": [
       "[[1, 4, 0, 5], [2, 5, 9, 6], [3, 6, 8, 7]]"
      ]
     },
     "execution_count": 17,
     "metadata": {},
     "output_type": "execute_result"
    }
   ],
   "source": [
    "# matrix transpose\n",
    "l=[[1,2,3],[4,5,6],[0,9,8],[5,6,7]]\n",
    "\n",
    "# l[0][0],l[1][0],l[2][0],l[3][0]\n",
    "# output-->\n",
    "# [\n",
    "#     [1,4,0,5],\n",
    "#     [2,5,9,6],\n",
    "#     [3,6,8,7]\n",
    "# ]\n",
    "# [[],[],[]]\n",
    "[[l[j][i] for j in range(len(l))] for i in range(len(l[0]))]"
   ]
  },
  {
   "cell_type": "code",
   "execution_count": 18,
   "id": "2e065316-1219-48e4-9e4d-78d76917dda9",
   "metadata": {},
   "outputs": [
    {
     "data": {
      "text/plain": [
       "[[1, 4, 0, 5], [2, 5, 9, 6], [3, 6, 8, 7]]"
      ]
     },
     "execution_count": 18,
     "metadata": {},
     "output_type": "execute_result"
    }
   ],
   "source": [
    "m=[]\n",
    "for i in range(len(l[0])):\n",
    "    a=[]\n",
    "    for j in range(len(l)):\n",
    "        a.append(l[j][i])\n",
    "    m.append(a)\n",
    "m"
   ]
  },
  {
   "cell_type": "code",
   "execution_count": null,
   "id": "6e21ab61",
   "metadata": {},
   "outputs": [],
   "source": [
    "# pythagorial triplets\n",
    "# a**2+b**2=c**2 (a,b,c)\n",
    "# ex- [(3,4,5),(6,8,10),(5,12,13)]"
   ]
  },
  {
   "cell_type": "code",
   "execution_count": 22,
   "id": "4e3e7274",
   "metadata": {},
   "outputs": [
    {
     "name": "stdout",
     "output_type": "stream",
     "text": [
      "(3, 4, 5)  (5, 12, 13)  (6, 8, 10)  (8, 15, 17)  (9, 12, 15)  (12, 16, 20)  "
     ]
    }
   ],
   "source": [
    "for a in range(1,25):\n",
    "    for b in range(a+1,25):\n",
    "        for c in range(b+1,25):\n",
    "            if a**2+b**2==c**2:\n",
    "                print((a,b,c), end='  ' )"
   ]
  },
  {
   "cell_type": "code",
   "execution_count": 20,
   "id": "1d505aa0",
   "metadata": {},
   "outputs": [
    {
     "data": {
      "text/plain": [
       "[(3, 4, 5), (5, 12, 13), (6, 8, 10), (8, 15, 17), (9, 12, 15), (12, 16, 20)]"
      ]
     },
     "execution_count": 20,
     "metadata": {},
     "output_type": "execute_result"
    }
   ],
   "source": [
    "[(a,b,c) for a in range(1,25)  for b in range(a+1,25) for c in range(b+1,25) if a**2+b**2==c**2]"
   ]
  },
  {
   "cell_type": "code",
   "execution_count": null,
   "id": "3eadb203",
   "metadata": {},
   "outputs": [],
   "source": [
    "# use only two lines of code \n",
    "# take input from users in form of '1 one 2 two 3 three 4 four 5 five 6 six 7 seven 8 eight'\n",
    "# first take the input and split it and then by using list comprehentsion start paring\n",
    "# filter the even number pair\n",
    "# square the numbers\n",
    "# output: [(4, 'two'), (16, 'four'), (36, 'six'), (64,'eight')]"
   ]
  },
  {
   "cell_type": "code",
   "execution_count": 28,
   "id": "581cb3eb-d3ab-4a36-8cdf-2af22602fd1b",
   "metadata": {
    "scrolled": true
   },
   "outputs": [
    {
     "name": "stdin",
     "output_type": "stream",
     "text": [
      " 1 one 2 two 3 three 4 four 5 five 6 six 7 seven 8 eight\n"
     ]
    },
    {
     "data": {
      "text/plain": [
       "['1',\n",
       " 'one',\n",
       " '2',\n",
       " 'two',\n",
       " '3',\n",
       " 'three',\n",
       " '4',\n",
       " 'four',\n",
       " '5',\n",
       " 'five',\n",
       " '6',\n",
       " 'six',\n",
       " '7',\n",
       " 'seven',\n",
       " '8',\n",
       " 'eight']"
      ]
     },
     "execution_count": 28,
     "metadata": {},
     "output_type": "execute_result"
    }
   ],
   "source": [
    "l = input().split()\n",
    "l"
   ]
  },
  {
   "cell_type": "code",
   "execution_count": 32,
   "id": "b6b5528e-f1ff-4183-8a40-4dd8d9afe584",
   "metadata": {
    "scrolled": true
   },
   "outputs": [
    {
     "name": "stdin",
     "output_type": "stream",
     "text": [
      " 1 one 2 two 3 three 4 four 5 five 6 six 7 seven 8 eight\n"
     ]
    },
    {
     "data": {
      "text/plain": [
       "[(4, 'two'), (16, 'four'), (36, 'six'), (64, 'eight')]"
      ]
     },
     "execution_count": 32,
     "metadata": {},
     "output_type": "execute_result"
    }
   ],
   "source": [
    "l = input().split()\n",
    "list(map(lambda t: (t[0]**2,t[1]) , list(filter(lambda t: t[0]%2==0 , [(int(l[i]),l[i+1]) for i in range(0,len(n),2)]))))"
   ]
  },
  {
   "cell_type": "code",
   "execution_count": null,
   "id": "aecd1ee6-3ef1-47eb-bcb7-ffb412d44569",
   "metadata": {},
   "outputs": [],
   "source": []
  }
 ],
 "metadata": {
  "kernelspec": {
   "display_name": "Python 3 (ipykernel)",
   "language": "python",
   "name": "python3"
  },
  "language_info": {
   "codemirror_mode": {
    "name": "ipython",
    "version": 3
   },
   "file_extension": ".py",
   "mimetype": "text/x-python",
   "name": "python",
   "nbconvert_exporter": "python",
   "pygments_lexer": "ipython3",
   "version": "3.12.7"
  }
 },
 "nbformat": 4,
 "nbformat_minor": 5
}
