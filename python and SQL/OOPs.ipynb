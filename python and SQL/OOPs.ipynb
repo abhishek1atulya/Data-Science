{
 "cells": [
  {
   "cell_type": "code",
   "execution_count": 13,
   "id": "d42984d8",
   "metadata": {},
   "outputs": [],
   "source": [
    "class Back:\n",
    "    def __init__(self,cost,sn,no=4): #constructor\n",
    "        self.cost= cost\n",
    "        print('constructor is being called')\n",
    "        print(self.cost)"
   ]
  },
  {
   "cell_type": "code",
   "execution_count": 15,
   "id": "a650b0ea-4d3c-4326-913d-012600ff8180",
   "metadata": {},
   "outputs": [
    {
     "name": "stdout",
     "output_type": "stream",
     "text": [
      "constructor is being called\n",
      "500\n"
     ]
    },
    {
     "data": {
      "text/plain": [
       "<__main__.Back at 0x1b47a8d4dd0>"
      ]
     },
     "execution_count": 15,
     "metadata": {},
     "output_type": "execute_result"
    }
   ],
   "source": [
    "Back(500,1)"
   ]
  },
  {
   "cell_type": "code",
   "execution_count": 31,
   "id": "781cfafb",
   "metadata": {},
   "outputs": [],
   "source": [
    "class Hashback:\n",
    "    def __init__(self,cost,sn,no=4): #constructor\n",
    "        self.cost= cost\n",
    "        print(self.cost)\n",
    "        print(id(self))\n",
    "    def model(self):\n",
    "        print('this is hashback')"
   ]
  },
  {
   "cell_type": "code",
   "execution_count": 32,
   "id": "e378c555",
   "metadata": {},
   "outputs": [
    {
     "name": "stdout",
     "output_type": "stream",
     "text": [
      "10000\n",
      "1696730068256\n"
     ]
    }
   ],
   "source": [
    "a=Hashback(10000,'be 6e')"
   ]
  },
  {
   "cell_type": "code",
   "execution_count": 30,
   "id": "f07742e5",
   "metadata": {},
   "outputs": [
    {
     "data": {
      "text/plain": [
       "1696757171152"
      ]
     },
     "execution_count": 30,
     "metadata": {},
     "output_type": "execute_result"
    }
   ],
   "source": [
    "id(a)"
   ]
  },
  {
   "cell_type": "code",
   "execution_count": 33,
   "id": "43729630",
   "metadata": {},
   "outputs": [
    {
     "name": "stdout",
     "output_type": "stream",
     "text": [
      "this is hashback\n"
     ]
    }
   ],
   "source": [
    "a.model()"
   ]
  },
  {
   "cell_type": "code",
   "execution_count": 124,
   "id": "aba0a4c5",
   "metadata": {},
   "outputs": [],
   "source": [
    "class Atm:\n",
    "#     class variable\n",
    "    counter=0\n",
    "    __cash=100000000\n",
    "    def __init__(self):\n",
    "        self.balance = 0 # intance variable\n",
    "        self.pin = ''\n",
    "        self.statement=[]\n",
    "        Atm.counter+=1\n",
    "        self.c=Atm.counter\n",
    "#         self.menu()\n",
    "    def menu(self):\n",
    "        n = input(\n",
    "            '''\n",
    "            Enter 1 to set pin\n",
    "            Enter 2 to deposit\n",
    "            Enter 3 to withdraw\n",
    "            Enter 4 to check balance\n",
    "            Enter 5 to access mini statement\n",
    "            Enter any otherthing to exit\n",
    "        ''')\n",
    "        if n=='1':\n",
    "            self.set_pin()\n",
    "        elif n=='2':\n",
    "            self.deposit()\n",
    "        elif n=='3':\n",
    "            self.withdraw()\n",
    "        elif n=='4':\n",
    "            self.check_balance()\n",
    "        elif n=='5':\n",
    "            self.mini_statement()\n",
    "        else:\n",
    "            print('have a good day')\n",
    "\n",
    "    def set_pin(self):\n",
    "        self.pin=input('enter your pin: ')\n",
    "        print('Pin set successfully')\n",
    "        self.menu()\n",
    "    def deposit(self,c=0):\n",
    "        s = input('enter your pin: ')\n",
    "        if s==self.pin:\n",
    "            n = int(input('enter the amount: '))\n",
    "            self.balance+=n\n",
    "            print('Amount Deposit successfull')\n",
    "            self.statement.append({'deposited :':n})\n",
    "            self.menu()\n",
    "        else:\n",
    "            print(' Worng pin please retry ')\n",
    "            c+=1\n",
    "            if c<3:\n",
    "                self.deposit(c)\n",
    "    def withdraw(self,c=0):\n",
    "        s = input('enter your pin: ')\n",
    "        if s==self.pin:\n",
    "            n = int(input('enter the amount: '))\n",
    "            if n<=self.balance:\n",
    "                self.balance-=n\n",
    "                print('Amount withdraw successfully')\n",
    "                self.statement.append({'withdrawal :':n})\n",
    "                self.menu()\n",
    "            else:\n",
    "                print('insuffient balance please retry ')\n",
    "                c+=1\n",
    "                if c<3:\n",
    "                    self.withdraw(c)\n",
    "                else:\n",
    "                    self.menu()\n",
    "        else:\n",
    "            print(' Worng pin please retry ')\n",
    "            c+=1\n",
    "            if c<3:\n",
    "                self.withdraw(c)\n",
    "            else:\n",
    "                self.menu()\n",
    "    def check_balance(self,c=0):\n",
    "        s = input('enter your pin: ')\n",
    "        if s==self.pin:\n",
    "            print('your account balance is: ',self.balance)\n",
    "            self.menu()\n",
    "        else:\n",
    "            print(' Worng pin please retry ')\n",
    "            c+=1\n",
    "            if c<3:\n",
    "                self.check_balance(c)\n",
    "    def mini_statement(self,c=0):\n",
    "        s = input('enter your pin: ')\n",
    "        if s==self.pin:\n",
    "            print('your account statements: ',self.statement[-3:])\n",
    "            self.menu()\n",
    "        else:\n",
    "            print(' Worng pin please retry ')\n",
    "            c+=1\n",
    "            if c<3:\n",
    "                self.mini_statement(c)\n",
    "    @classmethod\n",
    "    def get_counter(cls):\n",
    "        return cls.counter\n",
    "    @staticmethod\n",
    "    def expiry(year):\n",
    "        if year<2000:\n",
    "            print('this is out dated')\n",
    "        else:\n",
    "            print('this is usefull')"
   ]
  },
  {
   "cell_type": "code",
   "execution_count": 125,
   "id": "da56e324",
   "metadata": {},
   "outputs": [],
   "source": [
    "a=Atm()"
   ]
  },
  {
   "cell_type": "code",
   "execution_count": 128,
   "id": "92413549",
   "metadata": {},
   "outputs": [
    {
     "data": {
      "text/plain": [
       "1"
      ]
     },
     "execution_count": 128,
     "metadata": {},
     "output_type": "execute_result"
    }
   ],
   "source": [
    "Atm.counter"
   ]
  },
  {
   "cell_type": "code",
   "execution_count": 131,
   "id": "6a433e9b",
   "metadata": {},
   "outputs": [
    {
     "data": {
      "text/plain": [
       "100000000"
      ]
     },
     "execution_count": 131,
     "metadata": {},
     "output_type": "execute_result"
    }
   ],
   "source": [
    "a._Atm__cash"
   ]
  },
  {
   "cell_type": "code",
   "execution_count": 132,
   "id": "6d34729d",
   "metadata": {},
   "outputs": [
    {
     "data": {
      "text/plain": [
       "2"
      ]
     },
     "execution_count": 132,
     "metadata": {},
     "output_type": "execute_result"
    }
   ],
   "source": [
    "b=Atm()\n",
    "Atm.counter"
   ]
  },
  {
   "cell_type": "code",
   "execution_count": 133,
   "id": "c6daac8e",
   "metadata": {},
   "outputs": [
    {
     "data": {
      "text/plain": [
       "3"
      ]
     },
     "execution_count": 133,
     "metadata": {},
     "output_type": "execute_result"
    }
   ],
   "source": [
    "c=Atm()\n",
    "Atm.counter"
   ]
  },
  {
   "cell_type": "code",
   "execution_count": 134,
   "id": "9dba1aea",
   "metadata": {},
   "outputs": [
    {
     "data": {
      "text/plain": [
       "3"
      ]
     },
     "execution_count": 134,
     "metadata": {},
     "output_type": "execute_result"
    }
   ],
   "source": [
    "a.counter"
   ]
  },
  {
   "cell_type": "code",
   "execution_count": 135,
   "id": "c642cf5c",
   "metadata": {},
   "outputs": [
    {
     "data": {
      "text/plain": [
       "3"
      ]
     },
     "execution_count": 135,
     "metadata": {},
     "output_type": "execute_result"
    }
   ],
   "source": [
    "b.counter"
   ]
  },
  {
   "cell_type": "code",
   "execution_count": 136,
   "id": "5aa52fc1",
   "metadata": {},
   "outputs": [
    {
     "data": {
      "text/plain": [
       "3"
      ]
     },
     "execution_count": 136,
     "metadata": {},
     "output_type": "execute_result"
    }
   ],
   "source": [
    "c.counter"
   ]
  },
  {
   "cell_type": "code",
   "execution_count": 137,
   "id": "ef926c6c",
   "metadata": {},
   "outputs": [
    {
     "data": {
      "text/plain": [
       "1"
      ]
     },
     "execution_count": 137,
     "metadata": {},
     "output_type": "execute_result"
    }
   ],
   "source": [
    "a.c"
   ]
  },
  {
   "cell_type": "code",
   "execution_count": 138,
   "id": "959d3673",
   "metadata": {},
   "outputs": [
    {
     "data": {
      "text/plain": [
       "2"
      ]
     },
     "execution_count": 138,
     "metadata": {},
     "output_type": "execute_result"
    }
   ],
   "source": [
    "b.c"
   ]
  },
  {
   "cell_type": "code",
   "execution_count": 139,
   "id": "ee976eba",
   "metadata": {},
   "outputs": [
    {
     "data": {
      "text/plain": [
       "3"
      ]
     },
     "execution_count": 139,
     "metadata": {},
     "output_type": "execute_result"
    }
   ],
   "source": [
    "c.c"
   ]
  },
  {
   "cell_type": "code",
   "execution_count": 140,
   "id": "bfbe5f15",
   "metadata": {},
   "outputs": [
    {
     "data": {
      "text/plain": [
       "3"
      ]
     },
     "execution_count": 140,
     "metadata": {},
     "output_type": "execute_result"
    }
   ],
   "source": [
    "a.get_counter()"
   ]
  },
  {
   "cell_type": "code",
   "execution_count": 141,
   "id": "3beb39ab",
   "metadata": {},
   "outputs": [
    {
     "data": {
      "text/plain": [
       "3"
      ]
     },
     "execution_count": 141,
     "metadata": {},
     "output_type": "execute_result"
    }
   ],
   "source": [
    "Atm.get_counter()"
   ]
  },
  {
   "cell_type": "code",
   "execution_count": 142,
   "id": "45607031",
   "metadata": {},
   "outputs": [
    {
     "name": "stdout",
     "output_type": "stream",
     "text": [
      "this is usefull\n"
     ]
    }
   ],
   "source": [
    "Atm.expiry(2013)"
   ]
  },
  {
   "cell_type": "code",
   "execution_count": 143,
   "id": "7e12b2b0",
   "metadata": {},
   "outputs": [
    {
     "name": "stdout",
     "output_type": "stream",
     "text": [
      "this is usefull\n"
     ]
    }
   ],
   "source": [
    "a.expiry(2001)"
   ]
  },
  {
   "cell_type": "code",
   "execution_count": 144,
   "id": "50708ffa",
   "metadata": {},
   "outputs": [
    {
     "ename": "NameError",
     "evalue": "name 'expiry' is not defined",
     "output_type": "error",
     "traceback": [
      "\u001b[1;31m---------------------------------------------------------------------------\u001b[0m",
      "\u001b[1;31mNameError\u001b[0m                                 Traceback (most recent call last)",
      "Cell \u001b[1;32mIn[144], line 1\u001b[0m\n\u001b[1;32m----> 1\u001b[0m \u001b[43mexpiry\u001b[49m(\u001b[38;5;241m2001\u001b[39m)\n",
      "\u001b[1;31mNameError\u001b[0m: name 'expiry' is not defined"
     ]
    }
   ],
   "source": [
    "expiry(2001)"
   ]
  },
  {
   "cell_type": "code",
   "execution_count": 147,
   "id": "92f92c07",
   "metadata": {
    "scrolled": true
   },
   "outputs": [
    {
     "data": {
      "text/plain": [
       "100000000"
      ]
     },
     "execution_count": 147,
     "metadata": {},
     "output_type": "execute_result"
    }
   ],
   "source": [
    "Atm._Atm__cash"
   ]
  },
  {
   "cell_type": "code",
   "execution_count": 148,
   "id": "d4b5a9f5",
   "metadata": {},
   "outputs": [
    {
     "data": {
      "text/plain": [
       "100000000"
      ]
     },
     "execution_count": 148,
     "metadata": {},
     "output_type": "execute_result"
    }
   ],
   "source": [
    "a._Atm__cash"
   ]
  },
  {
   "cell_type": "code",
   "execution_count": null,
   "id": "d52b2825",
   "metadata": {},
   "outputs": [],
   "source": [
    "# a.check_balance()"
   ]
  },
  {
   "cell_type": "code",
   "execution_count": 67,
   "id": "ecc98c0c",
   "metadata": {},
   "outputs": [
    {
     "data": {
      "text/plain": [
       "0"
      ]
     },
     "execution_count": 67,
     "metadata": {},
     "output_type": "execute_result"
    }
   ],
   "source": [
    "a.balance"
   ]
  },
  {
   "cell_type": "code",
   "execution_count": 5,
   "id": "2e671144",
   "metadata": {},
   "outputs": [
    {
     "data": {
      "text/plain": [
       "'1234'"
      ]
     },
     "execution_count": 5,
     "metadata": {},
     "output_type": "execute_result"
    }
   ],
   "source": [
    "a."
   ]
  },
  {
   "cell_type": "code",
   "execution_count": 68,
   "id": "7f38afd7",
   "metadata": {},
   "outputs": [],
   "source": [
    "a.balance=10"
   ]
  },
  {
   "cell_type": "code",
   "execution_count": null,
   "id": "b0d7d264",
   "metadata": {},
   "outputs": [],
   "source": [
    "a.check_balance()"
   ]
  },
  {
   "cell_type": "code",
   "execution_count": 69,
   "id": "cc266a26",
   "metadata": {},
   "outputs": [
    {
     "data": {
      "text/plain": [
       "100000000"
      ]
     },
     "execution_count": 69,
     "metadata": {},
     "output_type": "execute_result"
    }
   ],
   "source": [
    "a.cash"
   ]
  },
  {
   "cell_type": "code",
   "execution_count": 70,
   "id": "cd90496d",
   "metadata": {},
   "outputs": [],
   "source": [
    "Atm.cash=5000000"
   ]
  },
  {
   "cell_type": "code",
   "execution_count": 71,
   "id": "b5ca924f",
   "metadata": {},
   "outputs": [
    {
     "data": {
      "text/plain": [
       "5000000"
      ]
     },
     "execution_count": 71,
     "metadata": {},
     "output_type": "execute_result"
    }
   ],
   "source": [
    "a.cash"
   ]
  },
  {
   "cell_type": "code",
   "execution_count": 72,
   "id": "1a38b77e",
   "metadata": {},
   "outputs": [],
   "source": [
    "a.cash=7000000"
   ]
  },
  {
   "cell_type": "code",
   "execution_count": 73,
   "id": "fde25d41",
   "metadata": {},
   "outputs": [
    {
     "data": {
      "text/plain": [
       "7000000"
      ]
     },
     "execution_count": 73,
     "metadata": {},
     "output_type": "execute_result"
    }
   ],
   "source": [
    "a.cash"
   ]
  },
  {
   "cell_type": "code",
   "execution_count": 74,
   "id": "6c2664ea",
   "metadata": {},
   "outputs": [
    {
     "data": {
      "text/plain": [
       "5000000"
      ]
     },
     "execution_count": 74,
     "metadata": {},
     "output_type": "execute_result"
    }
   ],
   "source": [
    "Atm.cash"
   ]
  },
  {
   "cell_type": "code",
   "execution_count": 75,
   "id": "012e951d",
   "metadata": {},
   "outputs": [],
   "source": [
    "b=Atm()"
   ]
  },
  {
   "cell_type": "code",
   "execution_count": 76,
   "id": "324324bf",
   "metadata": {},
   "outputs": [
    {
     "data": {
      "text/plain": [
       "5000000"
      ]
     },
     "execution_count": 76,
     "metadata": {},
     "output_type": "execute_result"
    }
   ],
   "source": [
    "b.cash"
   ]
  },
  {
   "cell_type": "code",
   "execution_count": 77,
   "id": "454afad2",
   "metadata": {},
   "outputs": [
    {
     "data": {
      "text/plain": [
       "7000000"
      ]
     },
     "execution_count": 77,
     "metadata": {},
     "output_type": "execute_result"
    }
   ],
   "source": [
    "a.cash"
   ]
  },
  {
   "cell_type": "code",
   "execution_count": 78,
   "id": "721b5c93",
   "metadata": {},
   "outputs": [
    {
     "data": {
      "text/plain": [
       "1696769971808"
      ]
     },
     "execution_count": 78,
     "metadata": {},
     "output_type": "execute_result"
    }
   ],
   "source": [
    "id(a)"
   ]
  },
  {
   "cell_type": "code",
   "execution_count": 79,
   "id": "14baf7dd",
   "metadata": {},
   "outputs": [
    {
     "data": {
      "text/plain": [
       "1696769968496"
      ]
     },
     "execution_count": 79,
     "metadata": {},
     "output_type": "execute_result"
    }
   ],
   "source": [
    "id(b)"
   ]
  },
  {
   "cell_type": "code",
   "execution_count": 10,
   "id": "4a133fed",
   "metadata": {},
   "outputs": [],
   "source": [
    "# encapsulation\n",
    "class Atm:\n",
    "#     class variable\n",
    "    cash=100000000\n",
    "    def __init__(self):\n",
    "        self.__balance = 0 # intance variable\n",
    "        self.__pin = ''\n",
    "        self.statement=[]\n",
    "        self.menu()\n",
    "    def menu(self):\n",
    "        n = input(\n",
    "            '''\n",
    "            Enter 1 to set __pin\n",
    "            Enter 2 to deposit\n",
    "            Enter 3 to withdraw\n",
    "            Enter 4 to check balance\n",
    "            Enter 5 to access mini statement\n",
    "            Enter any otherthing to exit\n",
    "        ''')\n",
    "        if n=='1':\n",
    "            self.set_pin()\n",
    "        elif n=='2':\n",
    "            self.deposit()\n",
    "        elif n=='3':\n",
    "            self.withdraw()\n",
    "        elif n=='4':\n",
    "            self.check_balance()\n",
    "        elif n=='5':\n",
    "            self.mini_statement()\n",
    "        else:\n",
    "            print('have a good day')\n",
    "\n",
    "    def set___pin(self):\n",
    "        self.__pin=input('enter you pin: ')\n",
    "        print('__pin set successfully')\n",
    "        self.menu()\n",
    "    def deposit(self,c=0):\n",
    "        s = input('enter you pin: ')\n",
    "        if s==self.__pin:\n",
    "            n = int(input('enter the amount: '))\n",
    "            self.__balance+=n\n",
    "            print('Amount Deposit successfull')\n",
    "            self.statement.append({'deposited :':n})\n",
    "            self.menu()\n",
    "        else:\n",
    "            print(' Worng __pin please retry ')\n",
    "            c+=1\n",
    "            if c<3:\n",
    "                self.deposit(c)\n",
    "    def withdraw(self,c=0):\n",
    "        s = input('enter you pin: ')\n",
    "        if s==self.__pin:\n",
    "            n = int(input('enter the amount: '))\n",
    "            if n<=self.__balance:\n",
    "                self.__balance-=n\n",
    "                print('Amount withdraw successfully')\n",
    "                self.statement.append({'withdrawal :':n})\n",
    "                self.menu()\n",
    "            else:\n",
    "                print('insuffient balance please retry ')\n",
    "                c+=1\n",
    "                if c<3:\n",
    "                    self.withdraw(c)\n",
    "                else:\n",
    "                    self.menu()\n",
    "        else:\n",
    "            print(' Worng __pin please retry ')\n",
    "            c+=1\n",
    "            if c<3:\n",
    "                self.withdraw(c)\n",
    "            else:\n",
    "                self.menu()\n",
    "    def check_balance(self,c=0):\n",
    "        s = input('enter you pin: ')\n",
    "        if s==self.__pin:\n",
    "            print('your account balance is: ',self.__balance)\n",
    "            self.menu()\n",
    "        else:\n",
    "            print(' Worng __pin please retry ')\n",
    "            c+=1\n",
    "            if c<3:\n",
    "                self.check_balance(c)\n",
    "    def mini_statement(self,c=0):\n",
    "        s = input('enter you pin: ')\n",
    "        if s==self.__pin:\n",
    "            print('your account statements: ',self.statement[-3:])\n",
    "            self.menu()\n",
    "        else:\n",
    "            print(' Worng __pin please retry ')\n",
    "            c+=1\n",
    "            if c<3:\n",
    "                self.mini_statement(c)"
   ]
  },
  {
   "cell_type": "code",
   "execution_count": 11,
   "id": "81bc65f3",
   "metadata": {},
   "outputs": [
    {
     "name": "stdout",
     "output_type": "stream",
     "text": [
      "\n",
      "            Enter 1 to set __pin\n",
      "            Enter 2 to deposit\n",
      "            Enter 3 to withdraw\n",
      "            Enter 4 to check balance\n",
      "            Enter 5 to access mini statement\n",
      "            Enter any otherthing to exit\n",
      "        0\n",
      "have a good day\n"
     ]
    }
   ],
   "source": [
    "a=Atm()"
   ]
  },
  {
   "cell_type": "code",
   "execution_count": 9,
   "id": "0731bea8",
   "metadata": {},
   "outputs": [
    {
     "data": {
      "text/plain": [
       "0"
      ]
     },
     "execution_count": 9,
     "metadata": {},
     "output_type": "execute_result"
    }
   ],
   "source": [
    "a._Atm__balance"
   ]
  },
  {
   "cell_type": "code",
   "execution_count": 14,
   "id": "7364443a",
   "metadata": {},
   "outputs": [
    {
     "data": {
      "text/plain": [
       "''"
      ]
     },
     "execution_count": 14,
     "metadata": {},
     "output_type": "execute_result"
    }
   ],
   "source": [
    "a._Atm__pin"
   ]
  },
  {
   "cell_type": "code",
   "execution_count": 122,
   "id": "09e2d986",
   "metadata": {},
   "outputs": [],
   "source": [
    "# magic methods\n",
    "class Fraction:\n",
    "    def __init__(self,n,d):\n",
    "        self.n=n\n",
    "        self.d=d\n",
    "        hc = self.hcf(n,d)\n",
    "        self.n = n//hc\n",
    "        self.d = d//hc\n",
    "        if self.d==1:\n",
    "            print(self.n)\n",
    "        else:\n",
    "            print(f'{self.n}/{self.d}')\n",
    "    \n",
    "    def __add__(self,f):\n",
    "        print('adding')\n",
    "        temp_n = self.n*f.d+self.d*f.n\n",
    "        temp_d = self.d*f.d\n",
    "#         hc = self.hcf(temp_d,temp_n)\n",
    "#         temp_d//=hc\n",
    "#         temp_n//=hc\n",
    "        return Fraction(temp_n,temp_d)\n",
    "    def __str__(self):\n",
    "        if self.d==1:\n",
    "            return f'{self.n}'\n",
    "        else:\n",
    "            return f'{self.n}/{self.d}'\n",
    "    def __sub__(self,f):\n",
    "        print('substracting...')\n",
    "        temp_n = (self.n*f.d)-(self.d*f.n)\n",
    "        temp_d = self.d*f.d\n",
    "        return Fraction(temp_n,temp_d)\n",
    "    def __truediv__(self,f):\n",
    "        print('dividing...')\n",
    "        temp_n = self.n*f.d\n",
    "        temp_d = self.d*f.n\n",
    "        return Fraction(temp_n, temp_d)\n",
    "    def __mul__(self,f):\n",
    "        print('multiplying...')\n",
    "        temp_n = (self.n*f.n)\n",
    "        temp_d = self.d*f.d\n",
    "        return Fraction(temp_n, temp_d)\n",
    "    \n",
    "    def hcf(self,n,d):\n",
    "        HCF = 1\n",
    "        minimum = abs(min(self.n ,self.d))\n",
    "        c = int(minimum ** (1/2))\n",
    "        for i in range(2,c+1):\n",
    "            if minimum % i == 0 :\n",
    "                temp = minimum // i\n",
    "                if max(n,d)%temp == 0:\n",
    "                    HCF = temp\n",
    "                    break\n",
    "        return HCF"
   ]
  },
  {
   "cell_type": "code",
   "execution_count": null,
   "id": "3b8a56a7",
   "metadata": {},
   "outputs": [],
   "source": []
  },
  {
   "cell_type": "code",
   "execution_count": 123,
   "id": "f22ec48f",
   "metadata": {
    "scrolled": true
   },
   "outputs": [
    {
     "name": "stdout",
     "output_type": "stream",
     "text": [
      "2/3\n"
     ]
    }
   ],
   "source": [
    "a=Fraction(12,18)"
   ]
  },
  {
   "cell_type": "code",
   "execution_count": null,
   "id": "8908a20d",
   "metadata": {},
   "outputs": [],
   "source": [
    "a."
   ]
  },
  {
   "cell_type": "code",
   "execution_count": 18,
   "id": "96d5053a",
   "metadata": {},
   "outputs": [
    {
     "name": "stdout",
     "output_type": "stream",
     "text": [
      "3/2\n"
     ]
    }
   ],
   "source": [
    "b=Fraction(21,14)"
   ]
  },
  {
   "cell_type": "code",
   "execution_count": 19,
   "id": "a3f520e1",
   "metadata": {},
   "outputs": [
    {
     "name": "stdout",
     "output_type": "stream",
     "text": [
      "dividing...\n",
      "4/9\n"
     ]
    },
    {
     "data": {
      "text/plain": [
       "<__main__.Fraction at 0x21cc6310340>"
      ]
     },
     "execution_count": 19,
     "metadata": {},
     "output_type": "execute_result"
    }
   ],
   "source": [
    "a/b"
   ]
  },
  {
   "cell_type": "code",
   "execution_count": 20,
   "id": "0b02e86f",
   "metadata": {},
   "outputs": [
    {
     "name": "stdout",
     "output_type": "stream",
     "text": [
      "2/3\n"
     ]
    }
   ],
   "source": [
    "print(a)"
   ]
  },
  {
   "cell_type": "code",
   "execution_count": 21,
   "id": "6f8a63ef",
   "metadata": {},
   "outputs": [
    {
     "name": "stdout",
     "output_type": "stream",
     "text": [
      "3/2\n"
     ]
    }
   ],
   "source": [
    "print(b)"
   ]
  },
  {
   "cell_type": "code",
   "execution_count": 22,
   "id": "fd2146ed",
   "metadata": {},
   "outputs": [
    {
     "name": "stdout",
     "output_type": "stream",
     "text": [
      "adding\n",
      "13/6\n"
     ]
    },
    {
     "data": {
      "text/plain": [
       "<__main__.Fraction at 0x21cc6313760>"
      ]
     },
     "execution_count": 22,
     "metadata": {},
     "output_type": "execute_result"
    }
   ],
   "source": [
    "a+b"
   ]
  },
  {
   "cell_type": "code",
   "execution_count": 23,
   "id": "d747ee2d",
   "metadata": {},
   "outputs": [
    {
     "name": "stdout",
     "output_type": "stream",
     "text": [
      "adding\n",
      "13/6\n"
     ]
    },
    {
     "data": {
      "text/plain": [
       "<__main__.Fraction at 0x21cc6313850>"
      ]
     },
     "execution_count": 23,
     "metadata": {},
     "output_type": "execute_result"
    }
   ],
   "source": [
    "a.__add__(b)"
   ]
  },
  {
   "cell_type": "code",
   "execution_count": 24,
   "id": "aada0b00",
   "metadata": {},
   "outputs": [
    {
     "data": {
      "text/plain": [
       "'123098'"
      ]
     },
     "execution_count": 24,
     "metadata": {},
     "output_type": "execute_result"
    }
   ],
   "source": [
    "str(123).__add__('098')"
   ]
  },
  {
   "cell_type": "code",
   "execution_count": 25,
   "id": "f87941e3",
   "metadata": {},
   "outputs": [
    {
     "name": "stdout",
     "output_type": "stream",
     "text": [
      "substracting...\n",
      "-5/6\n"
     ]
    },
    {
     "data": {
      "text/plain": [
       "<__main__.Fraction at 0x21cc6311660>"
      ]
     },
     "execution_count": 25,
     "metadata": {},
     "output_type": "execute_result"
    }
   ],
   "source": [
    "a-b"
   ]
  },
  {
   "cell_type": "code",
   "execution_count": 26,
   "id": "355c83d9",
   "metadata": {},
   "outputs": [
    {
     "name": "stdout",
     "output_type": "stream",
     "text": [
      "dividing...\n",
      "4/9\n"
     ]
    },
    {
     "data": {
      "text/plain": [
       "<__main__.Fraction at 0x21cc6311600>"
      ]
     },
     "execution_count": 26,
     "metadata": {},
     "output_type": "execute_result"
    }
   ],
   "source": [
    "a/b"
   ]
  },
  {
   "cell_type": "code",
   "execution_count": 27,
   "id": "dc38d1ef",
   "metadata": {},
   "outputs": [
    {
     "name": "stdout",
     "output_type": "stream",
     "text": [
      "multiplying...\n",
      "2/2\n"
     ]
    },
    {
     "data": {
      "text/plain": [
       "<__main__.Fraction at 0x21cc6311900>"
      ]
     },
     "execution_count": 27,
     "metadata": {},
     "output_type": "execute_result"
    }
   ],
   "source": [
    "a*b"
   ]
  },
  {
   "cell_type": "code",
   "execution_count": 28,
   "id": "2f32f906",
   "metadata": {},
   "outputs": [],
   "source": [
    "def hcf(n, d):\n",
    "        while d != 0:\n",
    "            n, d = d, n % d\n",
    "        return abs(n)"
   ]
  },
  {
   "cell_type": "code",
   "execution_count": 30,
   "id": "2068b049",
   "metadata": {},
   "outputs": [
    {
     "name": "stdout",
     "output_type": "stream",
     "text": [
      "56 7\n",
      "7 0\n"
     ]
    },
    {
     "data": {
      "text/plain": [
       "7"
      ]
     },
     "execution_count": 30,
     "metadata": {},
     "output_type": "execute_result"
    }
   ],
   "source": [
    "hcf(7,56)"
   ]
  },
  {
   "cell_type": "code",
   "execution_count": 31,
   "id": "e45c09a0",
   "metadata": {},
   "outputs": [
    {
     "data": {
      "text/plain": [
       "12"
      ]
     },
     "execution_count": 31,
     "metadata": {},
     "output_type": "execute_result"
    }
   ],
   "source": [
    "12%13"
   ]
  },
  {
   "cell_type": "code",
   "execution_count": 59,
   "id": "13fbb246",
   "metadata": {},
   "outputs": [
    {
     "name": "stdout",
     "output_type": "stream",
     "text": [
      "City: Noida, State: UP, PIN Code: 201009\n",
      "Name: Manish, Gender: M, Address: City: Noida, State: UP, PIN Code: 201009\n"
     ]
    }
   ],
   "source": [
    "class Address:\n",
    "    def __init__(self, city, state, pin_code):\n",
    "        self.city = city\n",
    "        self.state = state\n",
    "        self.pin_code = pin_code\n",
    "        \n",
    "    def change_pin(self, new_pin):\n",
    "        self.pin_code = new_pin\n",
    "\n",
    "    def change_address(self, new_city, new_state, new_pin_code):\n",
    "        self.city = new_city\n",
    "        self.state = new_state\n",
    "        self.pin_code = new_pin_code\n",
    "\n",
    "    def __str__(self):\n",
    "        return f\"City: {self.city}, State: {self.state}, PIN Code: {self.pin_code}\"\n",
    "\n",
    "\n",
    "class Customer:\n",
    "    def __init__(self, name, gender, address):\n",
    "        self.name = name\n",
    "        self.gender = gender\n",
    "        self.address = address\n",
    "\n",
    "    def update(self, new_name, new_gender, new_city, new_state, new_pin_code):\n",
    "        self.name = new_name\n",
    "        self.gender = new_gender\n",
    "        self.address.change_address(new_city, new_state, new_pin_code)\n",
    "\n",
    "    def __str__(self):\n",
    "        return f\"Name: {self.name}, Gender: {self.gender}, Address: {self.address}\"\n",
    "\n",
    "\n",
    "# Usage\n",
    "add = Address('Noida', 'UP', 201009)\n",
    "cus = Customer('Manish', 'M', add)\n",
    "print(add)\n",
    "print(cus)"
   ]
  },
  {
   "cell_type": "code",
   "execution_count": 60,
   "id": "31585cde",
   "metadata": {},
   "outputs": [
    {
     "name": "stdout",
     "output_type": "stream",
     "text": [
      "Name: Amit, Gender: NA, Address: City: ghaziabad, State: UP, PIN Code: 200106\n"
     ]
    }
   ],
   "source": [
    "cus.update('Amit', 'NA','ghaziabad', 'UP',200106)\n",
    "print(cus)"
   ]
  },
  {
   "cell_type": "code",
   "execution_count": 61,
   "id": "122771a0",
   "metadata": {},
   "outputs": [
    {
     "name": "stdout",
     "output_type": "stream",
     "text": [
      "City: ghaziabad, State: UP, PIN Code: 200106\n"
     ]
    }
   ],
   "source": [
    "print(add)"
   ]
  },
  {
   "cell_type": "code",
   "execution_count": 62,
   "id": "7bb81df0",
   "metadata": {},
   "outputs": [
    {
     "ename": "AttributeError",
     "evalue": "type object 'Address' has no attribute 'city'",
     "output_type": "error",
     "traceback": [
      "\u001b[1;31m---------------------------------------------------------------------------\u001b[0m",
      "\u001b[1;31mAttributeError\u001b[0m                            Traceback (most recent call last)",
      "Cell \u001b[1;32mIn[62], line 1\u001b[0m\n\u001b[1;32m----> 1\u001b[0m \u001b[43mAddress\u001b[49m\u001b[38;5;241;43m.\u001b[39;49m\u001b[43mcity\u001b[49m\n",
      "\u001b[1;31mAttributeError\u001b[0m: type object 'Address' has no attribute 'city'"
     ]
    }
   ],
   "source": [
    "Address.city"
   ]
  },
  {
   "cell_type": "markdown",
   "id": "1ea9be27",
   "metadata": {},
   "source": [
    "# Inheritance"
   ]
  },
  {
   "cell_type": "code",
   "execution_count": 76,
   "id": "81d81977",
   "metadata": {},
   "outputs": [],
   "source": [
    "class Parent:\n",
    "    __p=12\n",
    "    def __init__(self,name):\n",
    "        self.name=name\n",
    "        print('my parent name is ', self.name)\n",
    "    def age(self,age):\n",
    "        print('my Parent age is ', age)\n",
    "        \n",
    "class Child(Parent):\n",
    "    def __init__(self,name):\n",
    "        self.name=name\n",
    "        print('my child name is ', self.name)\n",
    "    def age(self,year):\n",
    "        print('Child date of birth is ', year)\n",
    "    def intro(self,name):\n",
    "        print('my child name is', name)"
   ]
  },
  {
   "cell_type": "code",
   "execution_count": 67,
   "id": "bd57452a",
   "metadata": {},
   "outputs": [
    {
     "name": "stdout",
     "output_type": "stream",
     "text": [
      "my child name is  mohit\n"
     ]
    }
   ],
   "source": [
    "c= Child('mohit')"
   ]
  },
  {
   "cell_type": "code",
   "execution_count": 68,
   "id": "8271256a",
   "metadata": {},
   "outputs": [
    {
     "name": "stdout",
     "output_type": "stream",
     "text": [
      "Child date of birth is  30\n"
     ]
    }
   ],
   "source": [
    "c.age(30)"
   ]
  },
  {
   "cell_type": "code",
   "execution_count": 53,
   "id": "bf6e71ca",
   "metadata": {},
   "outputs": [
    {
     "name": "stdout",
     "output_type": "stream",
     "text": [
      "my child name is golu\n"
     ]
    }
   ],
   "source": [
    "c.intro('golu')"
   ]
  },
  {
   "cell_type": "code",
   "execution_count": 85,
   "id": "7b28c9f6",
   "metadata": {},
   "outputs": [],
   "source": [
    "class Child(Parent):\n",
    "    def __init__(self,name,parent):\n",
    "        super().__init__(parent)\n",
    "        print(super().p)\n",
    "        self.name=name\n",
    "        print('my name is ', self.name)\n",
    "    def age(self,age):\n",
    "        print('my Parent age is ', age)\n",
    "    def age(self,year):\n",
    "        super().age(year)\n",
    "        print('my datie of birth is ', year)\n",
    "    def intro(self,name):\n",
    "        print('my name is', name)"
   ]
  },
  {
   "cell_type": "code",
   "execution_count": 86,
   "id": "5de0c3b8",
   "metadata": {},
   "outputs": [
    {
     "name": "stdout",
     "output_type": "stream",
     "text": [
      "my parent name is  father\n"
     ]
    },
    {
     "ename": "AttributeError",
     "evalue": "'super' object has no attribute 'p'",
     "output_type": "error",
     "traceback": [
      "\u001b[1;31m---------------------------------------------------------------------------\u001b[0m",
      "\u001b[1;31mAttributeError\u001b[0m                            Traceback (most recent call last)",
      "Cell \u001b[1;32mIn[86], line 1\u001b[0m\n\u001b[1;32m----> 1\u001b[0m c\u001b[38;5;241m=\u001b[39m\u001b[43mChild\u001b[49m\u001b[43m(\u001b[49m\u001b[38;5;124;43m'\u001b[39;49m\u001b[38;5;124;43mmohit\u001b[39;49m\u001b[38;5;124;43m'\u001b[39;49m\u001b[43m,\u001b[49m\u001b[38;5;124;43m'\u001b[39;49m\u001b[38;5;124;43mfather\u001b[39;49m\u001b[38;5;124;43m'\u001b[39;49m\u001b[43m)\u001b[49m\n",
      "Cell \u001b[1;32mIn[85], line 4\u001b[0m, in \u001b[0;36mChild.__init__\u001b[1;34m(self, name, parent)\u001b[0m\n\u001b[0;32m      2\u001b[0m \u001b[38;5;28;01mdef\u001b[39;00m \u001b[38;5;21m__init__\u001b[39m(\u001b[38;5;28mself\u001b[39m,name,parent):\n\u001b[0;32m      3\u001b[0m     \u001b[38;5;28msuper\u001b[39m()\u001b[38;5;241m.\u001b[39m\u001b[38;5;21m__init__\u001b[39m(parent)\n\u001b[1;32m----> 4\u001b[0m     \u001b[38;5;28mprint\u001b[39m(\u001b[38;5;28;43msuper\u001b[39;49m\u001b[43m(\u001b[49m\u001b[43m)\u001b[49m\u001b[38;5;241;43m.\u001b[39;49m\u001b[43mp\u001b[49m)\n\u001b[0;32m      5\u001b[0m     \u001b[38;5;28mself\u001b[39m\u001b[38;5;241m.\u001b[39mname\u001b[38;5;241m=\u001b[39mname\n\u001b[0;32m      6\u001b[0m     \u001b[38;5;28mprint\u001b[39m(\u001b[38;5;124m'\u001b[39m\u001b[38;5;124mmy name is \u001b[39m\u001b[38;5;124m'\u001b[39m, \u001b[38;5;28mself\u001b[39m\u001b[38;5;241m.\u001b[39mname)\n",
      "\u001b[1;31mAttributeError\u001b[0m: 'super' object has no attribute 'p'"
     ]
    }
   ],
   "source": [
    "c=Child('mohit','father')"
   ]
  },
  {
   "cell_type": "code",
   "execution_count": 87,
   "id": "46c244c8",
   "metadata": {},
   "outputs": [
    {
     "name": "stdout",
     "output_type": "stream",
     "text": [
      "my Parent age is  200\n",
      "my datie of birth is  200\n"
     ]
    }
   ],
   "source": [
    "c.age(200)"
   ]
  },
  {
   "cell_type": "code",
   "execution_count": 170,
   "id": "98effb3e",
   "metadata": {},
   "outputs": [],
   "source": [
    "class God:\n",
    "    def __init__(self):\n",
    "        print('god')\n",
    "    def age(self,year):\n",
    "        print('God Age',year)\n",
    "class GrandFather(God):\n",
    "    gc=1\n",
    "    def __init__(self,na,ag):\n",
    "        self.na=na\n",
    "        self.ag=ag\n",
    "        print('Grandfather name ', self.na)\n",
    "    def age(self,ag):\n",
    "        print('Grandfather age', ag)\n",
    "class Parent(God):\n",
    "    def __init__(self,na,ag):\n",
    "        self.na=na\n",
    "        self.ag=ag\n",
    "        print('parent name ', self.na)\n",
    "    pc=2\n",
    "    def age(self,ag):\n",
    "        super().age(ag)\n",
    "        print('parent age ', ag)\n",
    "        \n",
    "class Child(Parent,GrandFather):\n",
    "    cc=3\n",
    "    def __init__(self,name,age,na,ag):\n",
    "        super().__init__(na,ag)\n",
    "        self.name=name\n",
    "        print('my child name is ', self.name)\n",
    "    def age(self,year):\n",
    "        print('child age', year)\n",
    "        super().age(year)\n",
    "    def intro(self,name):\n",
    "        print('my name is', name)\n",
    "    "
   ]
  },
  {
   "cell_type": "code",
   "execution_count": 171,
   "id": "ffe79274",
   "metadata": {
    "scrolled": true
   },
   "outputs": [
    {
     "name": "stdout",
     "output_type": "stream",
     "text": [
      "parent name  grand\n",
      "my child name is  mohit\n"
     ]
    }
   ],
   "source": [
    "c=Child('mohit',3000,'grand',30)"
   ]
  },
  {
   "cell_type": "code",
   "execution_count": 172,
   "id": "3526b66a",
   "metadata": {},
   "outputs": [
    {
     "data": {
      "text/plain": [
       "1"
      ]
     },
     "execution_count": 172,
     "metadata": {},
     "output_type": "execute_result"
    }
   ],
   "source": [
    "c.gc"
   ]
  },
  {
   "cell_type": "code",
   "execution_count": 173,
   "id": "db52e927",
   "metadata": {},
   "outputs": [
    {
     "name": "stdout",
     "output_type": "stream",
     "text": [
      "child age 200\n",
      "Grandfather age 200\n",
      "parent age  200\n"
     ]
    }
   ],
   "source": [
    "c.age(200)"
   ]
  },
  {
   "cell_type": "code",
   "execution_count": 174,
   "id": "0cc679af",
   "metadata": {},
   "outputs": [
    {
     "name": "stdout",
     "output_type": "stream",
     "text": [
      "Grandfather name  name\n"
     ]
    }
   ],
   "source": [
    "g=GrandFather('name',200)"
   ]
  },
  {
   "cell_type": "code",
   "execution_count": 129,
   "id": "8726b08a",
   "metadata": {},
   "outputs": [
    {
     "data": {
      "text/plain": [
       "1"
      ]
     },
     "execution_count": 129,
     "metadata": {},
     "output_type": "execute_result"
    }
   ],
   "source": [
    "GrandFather.gc"
   ]
  },
  {
   "cell_type": "code",
   "execution_count": 102,
   "id": "b305bdda",
   "metadata": {
    "scrolled": true
   },
   "outputs": [
    {
     "name": "stdout",
     "output_type": "stream",
     "text": [
      "child age 200\n",
      "parent age  200\n"
     ]
    }
   ],
   "source": [
    "c.age(200)"
   ]
  },
  {
   "cell_type": "code",
   "execution_count": 103,
   "id": "e7fcd454",
   "metadata": {},
   "outputs": [
    {
     "name": "stdout",
     "output_type": "stream",
     "text": [
      "Grandfather name  n\n",
      "my parent name is  n\n",
      "1\n"
     ]
    }
   ],
   "source": [
    "c=Child('n',12)"
   ]
  },
  {
   "cell_type": "code",
   "execution_count": 104,
   "id": "3ce387cf",
   "metadata": {},
   "outputs": [],
   "source": [
    "# __gc\n",
    "# _ClassName__gc"
   ]
  },
  {
   "cell_type": "code",
   "execution_count": 105,
   "id": "ba18720b",
   "metadata": {},
   "outputs": [],
   "source": [
    "class A:\n",
    "    def m1(self):\n",
    "        return 20\n",
    "class B(A):\n",
    "    def m1(self):\n",
    "        return 30\n",
    "    def m2(self):\n",
    "        return 40\n",
    "class C(B):\n",
    "    def m2(self):\n",
    "        return 20"
   ]
  },
  {
   "cell_type": "code",
   "execution_count": 106,
   "id": "ae011545",
   "metadata": {},
   "outputs": [
    {
     "name": "stdout",
     "output_type": "stream",
     "text": [
      "70\n"
     ]
    }
   ],
   "source": [
    "obj1=A()\n",
    "obj2=B()\n",
    "obj3=C()\n",
    "print(obj1.m1()+obj3.m1()+obj3.m2())"
   ]
  },
  {
   "cell_type": "code",
   "execution_count": 107,
   "id": "23e62efb",
   "metadata": {},
   "outputs": [
    {
     "name": "stdout",
     "output_type": "stream",
     "text": [
      "70\n"
     ]
    }
   ],
   "source": [
    "# Multihead Inheritance\n",
    "class A:\n",
    "    def m1(self):\n",
    "        return 20\n",
    "class B(A):\n",
    "    def m1(self):\n",
    "        val=super().m1()+30\n",
    "        return val\n",
    "class C(B):\n",
    "    def m1(self):\n",
    "        val=super().m1()+20\n",
    "        return val\n",
    "obj = C()\n",
    "print(obj.m1())"
   ]
  },
  {
   "cell_type": "code",
   "execution_count": 108,
   "id": "76c435fc",
   "metadata": {},
   "outputs": [
    {
     "name": "stdout",
     "output_type": "stream",
     "text": [
      "50\n"
     ]
    }
   ],
   "source": [
    "# Hierarchical Inheritance\n",
    "class B:\n",
    "    def m1(self):\n",
    "        val=30\n",
    "        return val\n",
    "class C(B):\n",
    "    def m1(self):\n",
    "        val=super().m1()+20\n",
    "        return val\n",
    "class D(B):\n",
    "    def m1(self):\n",
    "        val=super().m1()+20\n",
    "        return val\n",
    "obj = C()\n",
    "print(obj.m1())"
   ]
  },
  {
   "cell_type": "code",
   "execution_count": 109,
   "id": "b7624d95",
   "metadata": {},
   "outputs": [
    {
     "name": "stdout",
     "output_type": "stream",
     "text": [
      "3\n",
      "10\n"
     ]
    }
   ],
   "source": [
    "# Mutiple inheritance\n",
    "class A:\n",
    "    def m1(self):\n",
    "        val1=10\n",
    "        return val1\n",
    "class B:\n",
    "    v=3\n",
    "    def m1(self):\n",
    "        val2=20\n",
    "        return val2\n",
    "class C(A,B):\n",
    "    def m3(self):\n",
    "        val3=super().m1()\n",
    "        print(super().v)\n",
    "        return val3\n",
    "obj = C()\n",
    "print(obj.m3())"
   ]
  },
  {
   "cell_type": "code",
   "execution_count": 110,
   "id": "6b490661",
   "metadata": {},
   "outputs": [
    {
     "name": "stdout",
     "output_type": "stream",
     "text": [
      "10\n"
     ]
    }
   ],
   "source": [
    "print(obj.m1())"
   ]
  },
  {
   "cell_type": "code",
   "execution_count": 112,
   "id": "ce18185c",
   "metadata": {},
   "outputs": [
    {
     "name": "stdout",
     "output_type": "stream",
     "text": [
      "60\n"
     ]
    }
   ],
   "source": [
    "class X:\n",
    "    def calc(self):\n",
    "        return 10\n",
    "\n",
    "class Y(X):\n",
    "    def calc(self):\n",
    "        val = super().calc() + 20\n",
    "        return val\n",
    "\n",
    "class Z(Y):\n",
    "    def calc(self):\n",
    "        val = super().calc() * 2\n",
    "        return val\n",
    "\n",
    "obj = Z()\n",
    "print(obj.calc())\n"
   ]
  },
  {
   "cell_type": "code",
   "execution_count": 113,
   "id": "76e26af5",
   "metadata": {},
   "outputs": [
    {
     "name": "stdout",
     "output_type": "stream",
     "text": [
      "Class P and Class R\n"
     ]
    }
   ],
   "source": [
    "class P:\n",
    "    def show(self):\n",
    "        return \"Class P\"\n",
    "\n",
    "class Q:\n",
    "    def show(self):\n",
    "        return \"Class Q\"\n",
    "\n",
    "class R(P, Q):\n",
    "    def show(self):\n",
    "        val = super().show() + \" and Class R\"\n",
    "        return val\n",
    "\n",
    "obj = R()\n",
    "print(obj.show())\n"
   ]
  },
  {
   "cell_type": "code",
   "execution_count": 175,
   "id": "963099ef",
   "metadata": {},
   "outputs": [
    {
     "name": "stdout",
     "output_type": "stream",
     "text": [
      "A -> E -> D -> C -> B -> F\n"
     ]
    }
   ],
   "source": [
    "class A:\n",
    "    def display(self):\n",
    "        return \"A\"\n",
    "\n",
    "class B(A):\n",
    "    def display(self):\n",
    "        return super().display() + \" -> B\"\n",
    "\n",
    "class C(A):\n",
    "    def display(self):\n",
    "        return super().display() + \" -> C\"\n",
    "\n",
    "class D(A):\n",
    "    def display(self):\n",
    "        return super().display() + \" -> D\"\n",
    "    \n",
    "class E(A):\n",
    "    def display(self):\n",
    "        return super().display() + \" -> E\"\n",
    "    \n",
    "class F(B,C,D,E):    \n",
    "    def display(self):\n",
    "        return super().display() + \" -> F\"\n",
    "\n",
    "obj = F()\n",
    "print(obj.display())\n"
   ]
  },
  {
   "cell_type": "code",
   "execution_count": 176,
   "id": "5cfaeb17",
   "metadata": {},
   "outputs": [
    {
     "name": "stdout",
     "output_type": "stream",
     "text": [
      "Parent1 Constructor\n",
      "Child Constructor\n"
     ]
    }
   ],
   "source": [
    "class Parent1:\n",
    "    def __init__(self):\n",
    "        print(\"Parent1 Constructor\")\n",
    "\n",
    "class Parent2:\n",
    "    def __init__(self):\n",
    "        print(\"Parent2 Constructor\")\n",
    "\n",
    "class Child(Parent1, Parent2):\n",
    "    def __init__(self):\n",
    "        super().__init__()\n",
    "        print(\"Child Constructor\")\n",
    "\n",
    "obj = Child()\n"
   ]
  },
  {
   "cell_type": "code",
   "execution_count": 177,
   "id": "e16b72ba",
   "metadata": {},
   "outputs": [
    {
     "name": "stdout",
     "output_type": "stream",
     "text": [
      "78.5\n",
      "24\n"
     ]
    }
   ],
   "source": [
    "class Shape:\n",
    "    def area(self):\n",
    "        return 0\n",
    "\n",
    "class Circle(Shape):\n",
    "    def area(self, radius):\n",
    "        return 3.14 * radius * radius\n",
    "\n",
    "class Rectangle(Shape):\n",
    "    def area(self, length, breadth):\n",
    "        return length * breadth\n",
    "\n",
    "circle = Circle()\n",
    "rectangle = Rectangle()\n",
    "print(circle.area(5))  # Circle area\n",
    "print(rectangle.area(4, 6))  # Rectangle area\n"
   ]
  },
  {
   "cell_type": "code",
   "execution_count": 4,
   "id": "4c6d23b5",
   "metadata": {},
   "outputs": [],
   "source": [
    "def area(r=None,l=None,b=None):\n",
    "    if r:\n",
    "        return f'area of circle: {3.14*r*r}'\n",
    "    elif l and b:\n",
    "        return f'area of rectangle: {l*b}'"
   ]
  },
  {
   "cell_type": "code",
   "execution_count": 5,
   "id": "d9076307",
   "metadata": {},
   "outputs": [
    {
     "data": {
      "text/plain": [
       "'area of circle: 12.56'"
      ]
     },
     "execution_count": 5,
     "metadata": {},
     "output_type": "execute_result"
    }
   ],
   "source": [
    "area(r=2)"
   ]
  },
  {
   "cell_type": "code",
   "execution_count": 6,
   "id": "002b9887",
   "metadata": {},
   "outputs": [
    {
     "data": {
      "text/plain": [
       "'area of rectangle: 6'"
      ]
     },
     "execution_count": 6,
     "metadata": {},
     "output_type": "execute_result"
    }
   ],
   "source": [
    "area(l=2,b=3)"
   ]
  },
  {
   "cell_type": "code",
   "execution_count": 7,
   "id": "aad44c94",
   "metadata": {},
   "outputs": [
    {
     "data": {
      "text/plain": [
       "5"
      ]
     },
     "execution_count": 7,
     "metadata": {},
     "output_type": "execute_result"
    }
   ],
   "source": [
    "a=2\n",
    "a=5\n",
    "a"
   ]
  },
  {
   "cell_type": "code",
   "execution_count": null,
   "id": "79701f6d",
   "metadata": {},
   "outputs": [],
   "source": []
  }
 ],
 "metadata": {
  "kernelspec": {
   "display_name": "Python 3 (ipykernel)",
   "language": "python",
   "name": "python3"
  },
  "language_info": {
   "codemirror_mode": {
    "name": "ipython",
    "version": 3
   },
   "file_extension": ".py",
   "mimetype": "text/x-python",
   "name": "python",
   "nbconvert_exporter": "python",
   "pygments_lexer": "ipython3",
   "version": "3.12.7"
  }
 },
 "nbformat": 4,
 "nbformat_minor": 5
}
