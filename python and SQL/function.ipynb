{
 "cells": [
  {
   "cell_type": "code",
   "execution_count": 1,
   "id": "54ede44d",
   "metadata": {},
   "outputs": [
    {
     "name": "stdout",
     "output_type": "stream",
     "text": [
      "hello\n"
     ]
    }
   ],
   "source": [
    "# print('hello') built in function\n",
    "# syntex\n",
    "# def function_name(input1,input2):\n",
    "#     some line of code"
   ]
  },
  {
   "cell_type": "code",
   "execution_count": 14,
   "id": "9e46195f",
   "metadata": {},
   "outputs": [],
   "source": [
    "def prime(n):\n",
    "    if n==2 or n==3:\n",
    "        return True\n",
    "#         print('True')\n",
    "    print('something')\n",
    "    "
   ]
  },
  {
   "cell_type": "code",
   "execution_count": 15,
   "id": "13e82219",
   "metadata": {},
   "outputs": [
    {
     "data": {
      "text/plain": [
       "True"
      ]
     },
     "execution_count": 15,
     "metadata": {},
     "output_type": "execute_result"
    }
   ],
   "source": [
    "prime(2)"
   ]
  },
  {
   "cell_type": "code",
   "execution_count": 19,
   "id": "0a4f0c77",
   "metadata": {},
   "outputs": [],
   "source": [
    "def prime(n):\n",
    "    if n==2 or n==3:\n",
    "        print('True')\n",
    "        return True\n",
    "    print('something')"
   ]
  },
  {
   "cell_type": "code",
   "execution_count": 20,
   "id": "8d92e424",
   "metadata": {},
   "outputs": [
    {
     "name": "stdout",
     "output_type": "stream",
     "text": [
      "True\n"
     ]
    },
    {
     "data": {
      "text/plain": [
       "True"
      ]
     },
     "execution_count": 20,
     "metadata": {},
     "output_type": "execute_result"
    }
   ],
   "source": [
    "prime(3)"
   ]
  },
  {
   "cell_type": "code",
   "execution_count": 28,
   "id": "3041c673",
   "metadata": {},
   "outputs": [],
   "source": [
    "def prime(n):\n",
    "    if n==2 or n==3:\n",
    "        return True\n",
    "    s=int(n**(1/2))\n",
    "    for i in range(2,s+1):\n",
    "        if n%i==0:\n",
    "            return False\n",
    "    return True"
   ]
  },
  {
   "cell_type": "code",
   "execution_count": 29,
   "id": "782b8c60",
   "metadata": {},
   "outputs": [
    {
     "data": {
      "text/plain": [
       "True"
      ]
     },
     "execution_count": 29,
     "metadata": {},
     "output_type": "execute_result"
    }
   ],
   "source": [
    "prime(97)"
   ]
  },
  {
   "cell_type": "code",
   "execution_count": 30,
   "id": "f13a38eb",
   "metadata": {},
   "outputs": [
    {
     "data": {
      "text/plain": [
       "4"
      ]
     },
     "execution_count": 30,
     "metadata": {},
     "output_type": "execute_result"
    }
   ],
   "source": [
    "int(17**(1/2))"
   ]
  },
  {
   "cell_type": "code",
   "execution_count": 27,
   "id": "0dee450c",
   "metadata": {},
   "outputs": [
    {
     "data": {
      "text/plain": [
       "[2]"
      ]
     },
     "execution_count": 27,
     "metadata": {},
     "output_type": "execute_result"
    }
   ],
   "source": [
    "list(range(2,3))"
   ]
  },
  {
   "cell_type": "code",
   "execution_count": 39,
   "id": "2b0c7c76",
   "metadata": {},
   "outputs": [],
   "source": [
    "def prime(n):\n",
    "    if n==2 or n==3:\n",
    "        return True\n",
    "    s=int(n**(1/2))\n",
    "    i=2\n",
    "    print('s==',s)\n",
    "    while i<=s:\n",
    "        print(i)\n",
    "        if n%i==0:\n",
    "            print('code stoped at i =', i)\n",
    "            return False\n",
    "        i+=1\n",
    "    return True"
   ]
  },
  {
   "cell_type": "code",
   "execution_count": 40,
   "id": "e5b5d8cd",
   "metadata": {},
   "outputs": [
    {
     "name": "stdout",
     "output_type": "stream",
     "text": [
      "s== 5\n",
      "2\n",
      "3\n",
      "4\n",
      "5\n",
      "code stoped at i = 5\n"
     ]
    },
    {
     "data": {
      "text/plain": [
       "False"
      ]
     },
     "execution_count": 40,
     "metadata": {},
     "output_type": "execute_result"
    }
   ],
   "source": [
    "prime(35)"
   ]
  },
  {
   "cell_type": "code",
   "execution_count": 41,
   "id": "87e8b460",
   "metadata": {},
   "outputs": [],
   "source": [
    "def prime(n):\n",
    "    if n==2 or n==3:\n",
    "        return True\n",
    "    s=int(n**(1/2))\n",
    "    i=2\n",
    "    print('s==',s)\n",
    "    while True:\n",
    "        print(i)\n",
    "        if n%i==0:\n",
    "            print('code stoped at i =', i)\n",
    "            return False\n",
    "        if i==s:\n",
    "            break\n",
    "        i+=1\n",
    "    return True"
   ]
  },
  {
   "cell_type": "code",
   "execution_count": 42,
   "id": "759882e8",
   "metadata": {},
   "outputs": [
    {
     "name": "stdout",
     "output_type": "stream",
     "text": [
      "s== 5\n",
      "2\n",
      "3\n",
      "4\n",
      "5\n"
     ]
    },
    {
     "data": {
      "text/plain": [
       "True"
      ]
     },
     "execution_count": 42,
     "metadata": {},
     "output_type": "execute_result"
    }
   ],
   "source": [
    "prime(29)"
   ]
  },
  {
   "cell_type": "code",
   "execution_count": 45,
   "id": "4bfc01e8",
   "metadata": {},
   "outputs": [],
   "source": [
    "def prime(n):\n",
    "    if n==2 or n==3:\n",
    "        return True\n",
    "    s=int(n**(1/2))\n",
    "    i=2\n",
    "    print('s==',s)\n",
    "    flag=True\n",
    "    while flag:\n",
    "        print(i)\n",
    "        if n%i==0:\n",
    "            print('code stoped at i =', i)\n",
    "            return False\n",
    "        if i==s:\n",
    "            flag=False\n",
    "        i+=1\n",
    "    return True"
   ]
  },
  {
   "cell_type": "code",
   "execution_count": 46,
   "id": "8dfc4472",
   "metadata": {},
   "outputs": [
    {
     "name": "stdout",
     "output_type": "stream",
     "text": [
      "s== 5\n",
      "2\n",
      "3\n",
      "4\n",
      "5\n"
     ]
    },
    {
     "data": {
      "text/plain": [
       "True"
      ]
     },
     "execution_count": 46,
     "metadata": {},
     "output_type": "execute_result"
    }
   ],
   "source": [
    "prime(29)"
   ]
  },
  {
   "cell_type": "code",
   "execution_count": 68,
   "id": "f50fae41",
   "metadata": {},
   "outputs": [
    {
     "data": {
      "text/plain": [
       "[0, 1, 1, 2, 3, 5, 8, 13, 21, 34, 55, 89, 144, 233, 377]"
      ]
     },
     "execution_count": 68,
     "metadata": {},
     "output_type": "execute_result"
    }
   ],
   "source": [
    "# fibbonacci series\n",
    "# 0,1,1,2,3,5,8,13,21,34\n",
    "def fibbo(a,b,n):\n",
    "    l=[a,b]\n",
    "    for _ in range(n-2):\n",
    "        l.append(l[-1]+l[-2])\n",
    "    return l\n",
    "fibbo(0,1,15)"
   ]
  },
  {
   "cell_type": "code",
   "execution_count": 69,
   "id": "79babda4",
   "metadata": {},
   "outputs": [],
   "source": [
    "# use while loop with condtion for the above code\n"
   ]
  },
  {
   "cell_type": "code",
   "execution_count": 70,
   "id": "fb87442e",
   "metadata": {},
   "outputs": [
    {
     "name": "stdout",
     "output_type": "stream",
     "text": [
      "0 1 1 2 3 5 8 13 21 34 55 89 144 233 377 "
     ]
    }
   ],
   "source": [
    "# fibbonacci series\n",
    "# 0,1,1,2,3,5,8,13,21,34\n",
    "def fibbo(a,b,n):\n",
    "    print(a,b,end=' ')\n",
    "    for _ in range(n-2):\n",
    "        c=a+b\n",
    "        print(c,end=' ')\n",
    "        a=b\n",
    "        b=c\n",
    "fibbo(0,1,15)"
   ]
  },
  {
   "cell_type": "code",
   "execution_count": 71,
   "id": "6d3976bd",
   "metadata": {},
   "outputs": [],
   "source": [
    "# use while loop with break for the above code\n"
   ]
  },
  {
   "cell_type": "code",
   "execution_count": 72,
   "id": "152095f4",
   "metadata": {},
   "outputs": [
    {
     "name": "stdout",
     "output_type": "stream",
     "text": [
      "0 1 1 2 4 8 16 32 64 128 256 512 1024 2048 4096 "
     ]
    }
   ],
   "source": [
    "# fibbonacci series\n",
    "# 0,1,1,2,3,5,8,13,21,34\n",
    "def fibbo(a,b,n):\n",
    "    print(a,b,end=' ')\n",
    "    for _ in range(n-2):\n",
    "        c=a+b\n",
    "        print(c,end=' ')\n",
    "        b=c\n",
    "        a=b\n",
    "fibbo(0,1,15)"
   ]
  },
  {
   "cell_type": "code",
   "execution_count": 73,
   "id": "f3afdf86",
   "metadata": {},
   "outputs": [],
   "source": [
    "# use while loop with flag for the above code\n"
   ]
  },
  {
   "cell_type": "code",
   "execution_count": 74,
   "id": "f5a2563f",
   "metadata": {},
   "outputs": [
    {
     "name": "stdout",
     "output_type": "stream",
     "text": [
      "0 1 1 2 3 5 8 13 21 34 55 89 144 233 377 "
     ]
    }
   ],
   "source": [
    "# fibbonacci series\n",
    "# 0,1,1,2,3,5,8,13,21,34\n",
    "def fibbo(a,b,n):\n",
    "    print(a,b,end=' ')\n",
    "    for _ in range(n-2):\n",
    "        print(a+b,end=' ')\n",
    "        a,b=b,a+b\n",
    "fibbo(0,1,15)"
   ]
  },
  {
   "cell_type": "code",
   "execution_count": 75,
   "id": "72d25dad",
   "metadata": {},
   "outputs": [],
   "source": [
    "# use while loop for the above code\n"
   ]
  },
  {
   "cell_type": "code",
   "execution_count": 76,
   "id": "b4665eb5",
   "metadata": {},
   "outputs": [
    {
     "name": "stdout",
     "output_type": "stream",
     "text": [
      "0 1 1 2 3 5 8 13 21 34 55 89 144 233 377 "
     ]
    }
   ],
   "source": [
    "# fibbonacci series\n",
    "# 0,1,1,2,3,5,8,13,21,34\n",
    "def fibbo(a,b,n):\n",
    "    print(a,b,end=' ')\n",
    "    for _ in range(n-2):\n",
    "        print(a+b,end=' ')\n",
    "        b,a=a+b,b\n",
    "fibbo(0,1,15)"
   ]
  },
  {
   "cell_type": "code",
   "execution_count": 78,
   "id": "cb6edfa0",
   "metadata": {
    "scrolled": true
   },
   "outputs": [
    {
     "data": {
      "text/plain": [
       "range(1, 10)"
      ]
     },
     "execution_count": 78,
     "metadata": {},
     "output_type": "execute_result"
    }
   ],
   "source": [
    "# use while loop for the above code\n",
    "range(1,10)"
   ]
  },
  {
   "cell_type": "code",
   "execution_count": 113,
   "id": "c2ea3c6a",
   "metadata": {},
   "outputs": [
    {
     "data": {
      "text/plain": [
       "<generator object fibbo at 0x000001D06384FAE0>"
      ]
     },
     "execution_count": 113,
     "metadata": {},
     "output_type": "execute_result"
    }
   ],
   "source": [
    "# generator\n",
    "def fibbo(a,b,n):\n",
    "    for _ in range(n):\n",
    "        yield a\n",
    "        a,b=b,a+b\n",
    "p=fibbo(0,1,5)\n",
    "p"
   ]
  },
  {
   "cell_type": "code",
   "execution_count": 119,
   "id": "393766c8",
   "metadata": {},
   "outputs": [
    {
     "ename": "StopIteration",
     "evalue": "",
     "output_type": "error",
     "traceback": [
      "\u001b[1;31m---------------------------------------------------------------------------\u001b[0m",
      "\u001b[1;31mStopIteration\u001b[0m                             Traceback (most recent call last)",
      "Cell \u001b[1;32mIn[119], line 1\u001b[0m\n\u001b[1;32m----> 1\u001b[0m \u001b[38;5;28;43mnext\u001b[39;49m\u001b[43m(\u001b[49m\u001b[43mp\u001b[49m\u001b[43m)\u001b[49m\n",
      "\u001b[1;31mStopIteration\u001b[0m: "
     ]
    }
   ],
   "source": [
    "next(p)"
   ]
  },
  {
   "cell_type": "code",
   "execution_count": 92,
   "id": "2bb8ab59",
   "metadata": {},
   "outputs": [
    {
     "data": {
      "text/plain": [
       "1994534481232"
      ]
     },
     "execution_count": 92,
     "metadata": {},
     "output_type": "execute_result"
    }
   ],
   "source": [
    "int('000001D06384ED50',base=16)"
   ]
  },
  {
   "cell_type": "code",
   "execution_count": 93,
   "id": "d3db311e",
   "metadata": {},
   "outputs": [
    {
     "data": {
      "text/plain": [
       "1994534481232"
      ]
     },
     "execution_count": 93,
     "metadata": {},
     "output_type": "execute_result"
    }
   ],
   "source": [
    "id(p)"
   ]
  },
  {
   "cell_type": "code",
   "execution_count": 90,
   "id": "e1ec8062",
   "metadata": {},
   "outputs": [],
   "source": [
    "# p=iter([1,2,3,4,5])"
   ]
  },
  {
   "cell_type": "code",
   "execution_count": 120,
   "id": "1c09a2b4",
   "metadata": {},
   "outputs": [],
   "source": [
    "# Functions Arguments\n",
    "# 1) positional Argumrnt\n",
    "# 2) keyword argument\n",
    "# 3) default argument\n",
    "# 4) dynamic argument"
   ]
  },
  {
   "cell_type": "code",
   "execution_count": 121,
   "id": "b7805d9d",
   "metadata": {},
   "outputs": [
    {
     "name": "stdout",
     "output_type": "stream",
     "text": [
      "0 1 1 2 3 5 8 13 21 34 55 89 144 233 377 "
     ]
    }
   ],
   "source": [
    "def fibbo(a,b,n):\n",
    "    print(a,b,end=' ')\n",
    "    for _ in range(n-2):\n",
    "        print(a+b,end=' ')\n",
    "        b,a=a+b,b\n",
    "fibbo(0,1,15) # positional Argumrnt (maping)"
   ]
  },
  {
   "cell_type": "code",
   "execution_count": 122,
   "id": "b3093e69",
   "metadata": {},
   "outputs": [
    {
     "name": "stdout",
     "output_type": "stream",
     "text": [
      "0 1 1 2 3 5 8 13 21 34 55 89 144 233 377 "
     ]
    }
   ],
   "source": [
    "def fibbo(a,b,n):\n",
    "    print(a,b,end=' ')\n",
    "    for _ in range(n-2):\n",
    "        print(a+b,end=' ')\n",
    "        b,a=a+b,b\n",
    "fibbo(a=0,b=1,n=15) # keyword Argumrnt"
   ]
  },
  {
   "cell_type": "code",
   "execution_count": 124,
   "id": "da9c80d5",
   "metadata": {},
   "outputs": [
    {
     "name": "stdout",
     "output_type": "stream",
     "text": [
      "0 1 1 2 3 5 8 13 21 34 55 89 144 233 377 "
     ]
    }
   ],
   "source": [
    "fibbo(n=15,b=1,a=0)"
   ]
  },
  {
   "cell_type": "code",
   "execution_count": 125,
   "id": "3e4e8d27",
   "metadata": {},
   "outputs": [
    {
     "name": "stdout",
     "output_type": "stream",
     "text": [
      "0 1 1 2 3 5 8 13 21 34 55 89 144 233 377 "
     ]
    }
   ],
   "source": [
    "fibbo(0,1,n=15)"
   ]
  },
  {
   "cell_type": "code",
   "execution_count": 126,
   "id": "5acc39d0",
   "metadata": {},
   "outputs": [
    {
     "ename": "SyntaxError",
     "evalue": "positional argument follows keyword argument (4275386926.py, line 1)",
     "output_type": "error",
     "traceback": [
      "\u001b[1;36m  Cell \u001b[1;32mIn[126], line 1\u001b[1;36m\u001b[0m\n\u001b[1;33m    fibbo(a=0,1,n=15)\u001b[0m\n\u001b[1;37m                    ^\u001b[0m\n\u001b[1;31mSyntaxError\u001b[0m\u001b[1;31m:\u001b[0m positional argument follows keyword argument\n"
     ]
    }
   ],
   "source": [
    "fibbo(a=0,1,n=15) #positional argument follows keyword argument\n"
   ]
  },
  {
   "cell_type": "code",
   "execution_count": 127,
   "id": "15be167b",
   "metadata": {},
   "outputs": [
    {
     "ename": "TypeError",
     "evalue": "fibbo() got multiple values for argument 'a'",
     "output_type": "error",
     "traceback": [
      "\u001b[1;31m---------------------------------------------------------------------------\u001b[0m",
      "\u001b[1;31mTypeError\u001b[0m                                 Traceback (most recent call last)",
      "Cell \u001b[1;32mIn[127], line 1\u001b[0m\n\u001b[1;32m----> 1\u001b[0m \u001b[43mfibbo\u001b[49m\u001b[43m(\u001b[49m\u001b[38;5;241;43m1\u001b[39;49m\u001b[43m,\u001b[49m\u001b[43ma\u001b[49m\u001b[38;5;241;43m=\u001b[39;49m\u001b[38;5;241;43m0\u001b[39;49m\u001b[43m,\u001b[49m\u001b[43mn\u001b[49m\u001b[38;5;241;43m=\u001b[39;49m\u001b[38;5;241;43m15\u001b[39;49m\u001b[43m)\u001b[49m\n",
      "\u001b[1;31mTypeError\u001b[0m: fibbo() got multiple values for argument 'a'"
     ]
    }
   ],
   "source": [
    "fibbo(1,a=0,n=15) "
   ]
  },
  {
   "cell_type": "code",
   "execution_count": 128,
   "id": "7675839d",
   "metadata": {},
   "outputs": [
    {
     "name": "stdout",
     "output_type": "stream",
     "text": [
      "0 1 1 2 3 5 8 13 21 34 "
     ]
    }
   ],
   "source": [
    "# 3) default argument\n",
    "def fibbo(a,b,n=10):\n",
    "    print(a,b,end=' ')\n",
    "    for _ in range(n-2):\n",
    "        print(a+b,end=' ')\n",
    "        b,a=a+b,b\n",
    "fibbo(a=0,b=1)"
   ]
  },
  {
   "cell_type": "code",
   "execution_count": 133,
   "id": "9cea8088",
   "metadata": {},
   "outputs": [
    {
     "name": "stdout",
     "output_type": "stream",
     "text": [
      "0 1 1 2 3 5 8 13 21 34 55 89 144 233 377 "
     ]
    }
   ],
   "source": [
    "fibbo(a=0,b=1,n=15)"
   ]
  },
  {
   "cell_type": "code",
   "execution_count": 147,
   "id": "4221a432",
   "metadata": {},
   "outputs": [],
   "source": [
    "# 4) dynamic argument\n",
    "# positional dynamic\n",
    "def fun(*args):\n",
    "    s=0\n",
    "    for i in args:\n",
    "        s+=i\n",
    "    return s"
   ]
  },
  {
   "cell_type": "code",
   "execution_count": 148,
   "id": "999eeec5",
   "metadata": {},
   "outputs": [
    {
     "data": {
      "text/plain": [
       "10"
      ]
     },
     "execution_count": 148,
     "metadata": {},
     "output_type": "execute_result"
    }
   ],
   "source": [
    "fun(1,2,3,4)"
   ]
  },
  {
   "cell_type": "code",
   "execution_count": 149,
   "id": "edbcccab",
   "metadata": {},
   "outputs": [],
   "source": [
    "# 4) dynamic argument\n",
    "# keyword dynamic\n",
    "def fun(**kwargs):\n",
    "    print(kwargs)"
   ]
  },
  {
   "cell_type": "code",
   "execution_count": 150,
   "id": "4eb6ab44",
   "metadata": {},
   "outputs": [
    {
     "name": "stdout",
     "output_type": "stream",
     "text": [
      "{'a': 3, 'b': 14, 'c': 13, 'd': 5, 'e': 9, 'f': 10, 'g': 90}\n"
     ]
    }
   ],
   "source": [
    "fun(a=3,b=14,c=13,d=5,e=9,f=10,g=90)"
   ]
  },
  {
   "cell_type": "code",
   "execution_count": 152,
   "id": "cb8a3267",
   "metadata": {},
   "outputs": [
    {
     "data": {
      "text/plain": [
       "[(0, 10), (1, 2), (2, 14), (3, 15), (4, 16), (5, 17), (6, 14)]"
      ]
     },
     "execution_count": 152,
     "metadata": {},
     "output_type": "execute_result"
    }
   ],
   "source": [
    "list(enumerate([10,2,14,15,16,17,14]))"
   ]
  },
  {
   "cell_type": "code",
   "execution_count": null,
   "id": "9b39fff4",
   "metadata": {},
   "outputs": [],
   "source": []
  }
 ],
 "metadata": {
  "kernelspec": {
   "display_name": "Python 3 (ipykernel)",
   "language": "python",
   "name": "python3"
  },
  "language_info": {
   "codemirror_mode": {
    "name": "ipython",
    "version": 3
   },
   "file_extension": ".py",
   "mimetype": "text/x-python",
   "name": "python",
   "nbconvert_exporter": "python",
   "pygments_lexer": "ipython3",
   "version": "3.12.7"
  }
 },
 "nbformat": 4,
 "nbformat_minor": 5
}
