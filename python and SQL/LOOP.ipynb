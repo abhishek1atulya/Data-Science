{
 "cells": [
  {
   "cell_type": "code",
   "execution_count": 1,
   "id": "25692a75",
   "metadata": {},
   "outputs": [],
   "source": [
    "# syntex\n",
    "# for variable_name in iterale_value/generator:\n",
    "#     some line of code\n",
    "#     1 line code\n",
    "#     2nd line code\n",
    "#     if variable ==5:\n",
    "#          break"
   ]
  },
  {
   "cell_type": "code",
   "execution_count": 2,
   "id": "53710cfb",
   "metadata": {},
   "outputs": [
    {
     "data": {
      "text/plain": [
       "[0, 1, 2, 3, 4, 5, 6, 7, 8, 9]"
      ]
     },
     "execution_count": 2,
     "metadata": {},
     "output_type": "execute_result"
    }
   ],
   "source": [
    "range(10)"
   ]
  },
  {
   "cell_type": "code",
   "execution_count": null,
   "id": "b4afc3aa",
   "metadata": {},
   "outputs": [],
   "source": [
    "l=[0, 1, 2, 3, 4, 5, 6, 7, 8, 9]"
   ]
  },
  {
   "cell_type": "code",
   "execution_count": 2,
   "id": "a14fa000",
   "metadata": {},
   "outputs": [
    {
     "name": "stdout",
     "output_type": "stream",
     "text": [
      "enter the number: 2000000011\n",
      "this is prime\n"
     ]
    }
   ],
   "source": [
    "# prime number\n",
    "n = int(input('enter the number: '))\n",
    "if 1<n<=3 or n==5:\n",
    "    print('this is prime')\n",
    "elif n==4 or n<=1:\n",
    "    print('not prime')\n",
    "if n>0:\n",
    "    s = int(n**(1/2))+1\n",
    "for i in range(2,s+1):\n",
    "    if n%i==0:\n",
    "        print('this is not prime')\n",
    "        break\n",
    "    elif i==s:\n",
    "        print('this is prime')\n",
    "        break"
   ]
  },
  {
   "cell_type": "code",
   "execution_count": 3,
   "id": "32cb20d2",
   "metadata": {},
   "outputs": [
    {
     "data": {
      "text/plain": [
       "2000000011"
      ]
     },
     "execution_count": 3,
     "metadata": {},
     "output_type": "execute_result"
    }
   ],
   "source": [
    "2000000011"
   ]
  },
  {
   "cell_type": "code",
   "execution_count": 4,
   "id": "08826ef3",
   "metadata": {},
   "outputs": [
    {
     "data": {
      "text/plain": [
       "15.5"
      ]
     },
     "execution_count": 4,
     "metadata": {},
     "output_type": "execute_result"
    }
   ],
   "source": [
    "31/2"
   ]
  },
  {
   "cell_type": "code",
   "execution_count": 5,
   "id": "b3ef824d",
   "metadata": {},
   "outputs": [
    {
     "data": {
      "text/plain": [
       "10.333333333333334"
      ]
     },
     "execution_count": 5,
     "metadata": {},
     "output_type": "execute_result"
    }
   ],
   "source": [
    "31/3"
   ]
  },
  {
   "cell_type": "code",
   "execution_count": 6,
   "id": "f7a42b97",
   "metadata": {},
   "outputs": [
    {
     "data": {
      "text/plain": [
       "7.75"
      ]
     },
     "execution_count": 6,
     "metadata": {},
     "output_type": "execute_result"
    }
   ],
   "source": [
    "31/4"
   ]
  },
  {
   "cell_type": "code",
   "execution_count": 7,
   "id": "75425167",
   "metadata": {},
   "outputs": [
    {
     "data": {
      "text/plain": [
       "6.2"
      ]
     },
     "execution_count": 7,
     "metadata": {},
     "output_type": "execute_result"
    }
   ],
   "source": [
    "31/5"
   ]
  },
  {
   "cell_type": "code",
   "execution_count": 8,
   "id": "9696141d",
   "metadata": {},
   "outputs": [
    {
     "data": {
      "text/plain": [
       "3.875"
      ]
     },
     "execution_count": 8,
     "metadata": {},
     "output_type": "execute_result"
    }
   ],
   "source": [
    "31/8"
   ]
  },
  {
   "cell_type": "code",
   "execution_count": 9,
   "id": "2ec3c4bb",
   "metadata": {},
   "outputs": [
    {
     "data": {
      "text/plain": [
       "(2, 3, 4, 5, 6)"
      ]
     },
     "execution_count": 9,
     "metadata": {},
     "output_type": "execute_result"
    }
   ],
   "source": [
    "2,3,4,5,6"
   ]
  },
  {
   "cell_type": "code",
   "execution_count": 10,
   "id": "16e1ffb5",
   "metadata": {},
   "outputs": [
    {
     "data": {
      "text/plain": [
       "6"
      ]
     },
     "execution_count": 10,
     "metadata": {},
     "output_type": "execute_result"
    }
   ],
   "source": [
    "int(31**(1/2))+1"
   ]
  },
  {
   "cell_type": "code",
   "execution_count": 11,
   "id": "824ad6ae",
   "metadata": {},
   "outputs": [],
   "source": [
    "# find if the numer is odd or even \n",
    "# find the 2nd smallest factor of a number which is grater than 1\n",
    "# ex1 - 15 - 1,3,5,15 -> 3\n",
    "# ex2 - 35 - 1,5,7,35 -> 5\n",
    "# ex3 - 24 - 1,2,3,4,6,8,24 -> 2"
   ]
  },
  {
   "cell_type": "code",
   "execution_count": 13,
   "id": "ec507873",
   "metadata": {},
   "outputs": [
    {
     "name": "stdout",
     "output_type": "stream",
     "text": [
      "Enter the number: 23\n",
      "odd\n"
     ]
    }
   ],
   "source": [
    "# find if the numer is odd or even\n",
    "n = int(input('Enter the number: '))\n",
    "if n%2==0:\n",
    "    print('even')\n",
    "else:\n",
    "    print('odd')"
   ]
  },
  {
   "cell_type": "code",
   "execution_count": 27,
   "id": "d9b463e8",
   "metadata": {},
   "outputs": [
    {
     "name": "stdout",
     "output_type": "stream",
     "text": [
      "enter the number: 35\n",
      "number is not prime, smallest divisor is: 5\n"
     ]
    }
   ],
   "source": [
    "# find the 2nd smallest factor of a number which is grater than 1\n",
    "# ex1 - 15 - 1,3,5,15 -> 3\n",
    "# ex2 - 35 - 1,5,7,35 -> 5\n",
    "# ex3 - 24 - 1,2,3,4,6,8,24 -> 2\n",
    "# ex4 - 17 - 1,17, - 'prime'\n",
    "\n",
    "n = int(input('enter the number: '))\n",
    "if 1<n<=3:\n",
    "    print('this is prime')\n",
    "elif n>0:\n",
    "    s = int(n**(1/2))+1\n",
    "print(s)\n",
    "for i in range(2,s+1):\n",
    "    print(i)\n",
    "    if n%i==0:\n",
    "        print('number is not prime, smallest divisor is:', i)\n",
    "        break\n",
    "    elif i==s:\n",
    "        print('this is prime')\n",
    "        break"
   ]
  },
  {
   "cell_type": "code",
   "execution_count": 26,
   "id": "dcb0c7c6",
   "metadata": {},
   "outputs": [
    {
     "data": {
      "text/plain": [
       "5"
      ]
     },
     "execution_count": 26,
     "metadata": {},
     "output_type": "execute_result"
    }
   ],
   "source": [
    "int(35**(1/2))"
   ]
  },
  {
   "cell_type": "code",
   "execution_count": null,
   "id": "16ed4a65",
   "metadata": {},
   "outputs": [],
   "source": [
    "2,3,4,5,6,7"
   ]
  },
  {
   "cell_type": "code",
   "execution_count": 46,
   "id": "b5f9edc4",
   "metadata": {},
   "outputs": [
    {
     "name": "stdout",
     "output_type": "stream",
     "text": [
      "True\n",
      "nothing\n",
      "True\n"
     ]
    },
    {
     "data": {
      "text/plain": [
       "NoneType"
      ]
     },
     "execution_count": 46,
     "metadata": {},
     "output_type": "execute_result"
    }
   ],
   "source": [
    "def oddeven(v):\n",
    "    if v%2==0:\n",
    "        print(True)\n",
    "    else:\n",
    "        print(False)\n",
    "if oddeven(4): #--> True , False\n",
    "    print('something')\n",
    "else:\n",
    "    print('nothing')\n",
    "type(oddeven(4))"
   ]
  },
  {
   "cell_type": "code",
   "execution_count": 44,
   "id": "791d25dc",
   "metadata": {},
   "outputs": [
    {
     "name": "stdout",
     "output_type": "stream",
     "text": [
      "True\n"
     ]
    },
    {
     "data": {
      "text/plain": [
       "NoneType"
      ]
     },
     "execution_count": 44,
     "metadata": {},
     "output_type": "execute_result"
    }
   ],
   "source": []
  },
  {
   "cell_type": "code",
   "execution_count": 45,
   "id": "492ba0a6",
   "metadata": {},
   "outputs": [
    {
     "name": "stdout",
     "output_type": "stream",
     "text": [
      "something\n"
     ]
    },
    {
     "data": {
      "text/plain": [
       "bool"
      ]
     },
     "execution_count": 45,
     "metadata": {},
     "output_type": "execute_result"
    }
   ],
   "source": [
    "def oddeven(v):\n",
    "    if v%2==0:\n",
    "        return True\n",
    "    else:\n",
    "        return False\n",
    "if oddeven(4): #--> True , False\n",
    "    print('something')\n",
    "else:\n",
    "    print('nothing')\n",
    "type(oddeven(4))"
   ]
  },
  {
   "cell_type": "code",
   "execution_count": 80,
   "id": "5f798127",
   "metadata": {},
   "outputs": [],
   "source": [
    "def prime(n): # defining the function\n",
    "    if 1<n<=3:\n",
    "        return True\n",
    "    elif n<1:\n",
    "        return False, 'not prime'\n",
    "    s = int(n**(1/2))+1\n",
    "    for i in range(2,s+1):\n",
    "        if n%i==0:\n",
    "            return False\n",
    "    return True"
   ]
  },
  {
   "cell_type": "code",
   "execution_count": 81,
   "id": "506bd2b7",
   "metadata": {},
   "outputs": [
    {
     "data": {
      "text/plain": [
       "(False, 'not prime')"
      ]
     },
     "execution_count": 81,
     "metadata": {},
     "output_type": "execute_result"
    }
   ],
   "source": [
    "prime(-4) # calling the function"
   ]
  },
  {
   "cell_type": "code",
   "execution_count": 82,
   "id": "3415238a",
   "metadata": {},
   "outputs": [
    {
     "data": {
      "text/plain": [
       "True"
      ]
     },
     "execution_count": 82,
     "metadata": {},
     "output_type": "execute_result"
    }
   ],
   "source": [
    "prime(2000000011)"
   ]
  },
  {
   "cell_type": "code",
   "execution_count": 79,
   "id": "ae5044ad",
   "metadata": {},
   "outputs": [
    {
     "data": {
      "text/plain": [
       "44721.35967297953"
      ]
     },
     "execution_count": 79,
     "metadata": {},
     "output_type": "execute_result"
    }
   ],
   "source": [
    "2000000011**(1/2)"
   ]
  },
  {
   "cell_type": "code",
   "execution_count": null,
   "id": "b7656b52",
   "metadata": {},
   "outputs": [],
   "source": [
    "44721+1"
   ]
  },
  {
   "cell_type": "code",
   "execution_count": 84,
   "id": "54adf69d",
   "metadata": {},
   "outputs": [
    {
     "data": {
      "text/plain": [
       "1"
      ]
     },
     "execution_count": 84,
     "metadata": {},
     "output_type": "execute_result"
    }
   ],
   "source": [
    "'banana'.count('ana')"
   ]
  },
  {
   "cell_type": "code",
   "execution_count": null,
   "id": "fb59a140",
   "metadata": {},
   "outputs": [],
   "source": []
  },
  {
   "cell_type": "code",
   "execution_count": 4,
   "id": "c874981f",
   "metadata": {},
   "outputs": [],
   "source": [
    "def minion_game(string):\n",
    "    # your code goes here\n",
    "    cv=0\n",
    "    cc=0\n",
    "    vowel = ('A','E','I','O','U')\n",
    "    lv=[]\n",
    "    lc=[]\n",
    "    for i in range(len(string)):\n",
    "        if string[i:].startswith(vowel):\n",
    "            for j in range(i+1,len(string)+1):\n",
    "                w=string[i:j]\n",
    "                if w not in lv:\n",
    "                    lv.append(w)\n",
    "                    ind=-1\n",
    "                    for k in range(len(string)):\n",
    "                        if w in string[ind+1:]:\n",
    "                            ind=string.find(w,ind+1)\n",
    "                            cv+=1\n",
    "                        else:\n",
    "                            break\n",
    "\n",
    "        else:\n",
    "            for j in range(i+1,len(string)+1):\n",
    "                w=string[i:j]\n",
    "                print(w)\n",
    "                if w not in lc:\n",
    "                    lc.append(w)\n",
    "                    ind=-1\n",
    "                    for k in range(len(string)):\n",
    "                        if w in string[ind+1:]:\n",
    "                            ind = string.find(w,ind+1)\n",
    "                            cc+=1\n",
    "                        else:\n",
    "                            break\n",
    "    if  cc>cv :\n",
    "         print('Stuart',cc)\n",
    "    else:\n",
    "        print('Kevin',cv)          \n",
    "    \n"
   ]
  },
  {
   "cell_type": "code",
   "execution_count": 5,
   "id": "7b9c9e90",
   "metadata": {},
   "outputs": [
    {
     "name": "stdout",
     "output_type": "stream",
     "text": [
      "B\n",
      "BA\n",
      "BAN\n",
      "BANA\n",
      "BANAN\n",
      "BANANA\n",
      "N\n",
      "NA\n",
      "NAN\n",
      "NANA\n",
      "N\n",
      "NA\n",
      "Stuart 12\n"
     ]
    }
   ],
   "source": [
    "minion_game('BANANA')"
   ]
  },
  {
   "cell_type": "code",
   "execution_count": 6,
   "id": "f5ecc963",
   "metadata": {},
   "outputs": [],
   "source": [
    "def minion_game(string):\n",
    "    # your code goes here\n",
    "    cv=0\n",
    "    cc=0\n",
    "    vowel = ('A','E','I','O','U')\n",
    "    lv=[]\n",
    "    lc=[]\n",
    "    for i in range(len(string)):\n",
    "        if string[i:].startswith(vowel):\n",
    "            for j in range(i+1,len(string)+1):\n",
    "                w=string[i:j]\n",
    "                if w not in lv:\n",
    "                    lv.append(w)\n",
    "                    cv+=1\n",
    "                    ind=string.find(w,i+1)\n",
    "                    while ind!=-1:\n",
    "                        cv+=1\n",
    "                        ind=string.find(w,ind+1)\n",
    "\n",
    "        else:\n",
    "            for j in range(i+1,len(string)+1):\n",
    "                w=string[i:j]\n",
    "#                 print(w)\n",
    "                if w not in lc:\n",
    "                    lc.append(w)\n",
    "                    cc+=1\n",
    "                    ind=string.find(w,i+1)\n",
    "                    while ind!=-1:\n",
    "                        cc+=1\n",
    "                        ind=string.find(w,ind+1)\n",
    "    if  cc>cv :\n",
    "         print('Stuart',cc)\n",
    "    else:\n",
    "        print('Kevin',cv)          \n",
    "    \n"
   ]
  },
  {
   "cell_type": "code",
   "execution_count": null,
   "id": "5800503f",
   "metadata": {},
   "outputs": [],
   "source": []
  },
  {
   "cell_type": "code",
   "execution_count": 7,
   "id": "f1fcface",
   "metadata": {
    "scrolled": true
   },
   "outputs": [
    {
     "name": "stdout",
     "output_type": "stream",
     "text": [
      "Stuart 12\n"
     ]
    }
   ],
   "source": [
    "minion_game('BANANA')"
   ]
  },
  {
   "cell_type": "code",
   "execution_count": 165,
   "id": "5d29dcc9",
   "metadata": {},
   "outputs": [],
   "source": [
    "def minion_game(string):\n",
    "    # your code goes here\n",
    "    s=set(string)\n",
    "    cv=0\n",
    "    cc=0\n",
    "    vowel = ('A','E','I','O','U')\n",
    "    lv=set()\n",
    "    lc=[]\n",
    "    n=len(string)\n",
    "    ind=0\n",
    "    for i in s:\n",
    "        if i in vowel and string.startswith(i):\n",
    "            "
   ]
  },
  {
   "cell_type": "code",
   "execution_count": 173,
   "id": "38c55adc",
   "metadata": {},
   "outputs": [
    {
     "name": "stdout",
     "output_type": "stream",
     "text": [
      "12 6\n",
      "Stuart 12\n"
     ]
    }
   ],
   "source": [
    "minion_game('BANANA')"
   ]
  },
  {
   "cell_type": "code",
   "execution_count": null,
   "id": "b13ef7a4",
   "metadata": {},
   "outputs": [],
   "source": [
    "if string[i:].startswith(vowel):\n",
    "    l=[string[i:j] for j in range(i+1,len(string)+1)]\n",
    "    lv.extend(l)\n",
    "    lv=list(set(lv))\n",
    "    cv+=n+1-i\n",
    "    for w in l:\n",
    "        if w not in lv:\n",
    "            lv.append(w)\n",
    "            ind=string.find(w,i+1)\n",
    "            while ind!=-1:\n",
    "                cv+=1\n",
    "                ind=string.find(w,ind+1)"
   ]
  },
  {
   "cell_type": "code",
   "execution_count": 1,
   "id": "acf4b1db",
   "metadata": {},
   "outputs": [],
   "source": [
    "def minion_game(string):\n",
    "    # your code goes here\n",
    "    s=set(string)\n",
    "    print(s)\n",
    "    cv=0\n",
    "    cc=0\n",
    "    vowel = ('A','E','I','O','U')\n",
    "    n=len(string)\n",
    "    for ele in s:\n",
    "        ind=string.find(ele)\n",
    "        c=string.count(ele)\n",
    "        for _ in range(c):\n",
    "            if ele in vowel:\n",
    "                cv+=n-ind\n",
    "            else:\n",
    "                cc+=n-ind \n",
    "            ind=string.find(ele,ind+1)  \n",
    "    if  cc>cv :\n",
    "         print('Stuart',cc)\n",
    "    elif cc==cv:\n",
    "        print('Draw')\n",
    "    else:\n",
    "        print('Kevin',cv)"
   ]
  },
  {
   "cell_type": "code",
   "execution_count": 2,
   "id": "b6524285",
   "metadata": {},
   "outputs": [
    {
     "name": "stdout",
     "output_type": "stream",
     "text": [
      "{'N', 'S', 'A'}\n",
      "1\n",
      "5 0\n",
      "5\n",
      "6 0\n",
      "0\n",
      "6 6\n",
      "Draw\n"
     ]
    }
   ],
   "source": [
    "minion_game('ANANAS')"
   ]
  },
  {
   "cell_type": "code",
   "execution_count": 3,
   "id": "1da01f1e",
   "metadata": {},
   "outputs": [
    {
     "name": "stdout",
     "output_type": "stream",
     "text": [
      "{'N', 'B', 'A'}\n",
      "2\n",
      "4 0\n",
      "0\n",
      "10 0\n",
      "1\n",
      "10 5\n",
      "Stuart 10\n"
     ]
    }
   ],
   "source": [
    "minion_game('BANANA')"
   ]
  },
  {
   "cell_type": "code",
   "execution_count": 8,
   "id": "f09ccced",
   "metadata": {},
   "outputs": [
    {
     "data": {
      "text/plain": [
       "[1, 12, 3, 4, 5, 3, 1, 2, 3, 5]"
      ]
     },
     "execution_count": 8,
     "metadata": {},
     "output_type": "execute_result"
    }
   ],
   "source": [
    "list((1,12,3,4,5,3,1,2,3,5))"
   ]
  },
  {
   "cell_type": "code",
   "execution_count": 22,
   "id": "70662e6b",
   "metadata": {},
   "outputs": [
    {
     "data": {
      "text/plain": [
       "{1, 2, 3, 4, 5, 12}"
      ]
     },
     "execution_count": 22,
     "metadata": {},
     "output_type": "execute_result"
    }
   ],
   "source": [
    "set((1,12,3,4,5,3,1,2,3,5))"
   ]
  },
  {
   "cell_type": "code",
   "execution_count": 18,
   "id": "ac630dc7",
   "metadata": {},
   "outputs": [
    {
     "data": {
      "text/plain": [
       "{'a', 'b', 'n'}"
      ]
     },
     "execution_count": 18,
     "metadata": {},
     "output_type": "execute_result"
    }
   ],
   "source": [
    "s=set('banana')\n",
    "s"
   ]
  },
  {
   "cell_type": "code",
   "execution_count": 23,
   "id": "d29a089a",
   "metadata": {},
   "outputs": [
    {
     "ename": "TypeError",
     "evalue": "'set' object is not subscriptable",
     "output_type": "error",
     "traceback": [
      "\u001b[1;31m---------------------------------------------------------------------------\u001b[0m",
      "\u001b[1;31mTypeError\u001b[0m                                 Traceback (most recent call last)",
      "Cell \u001b[1;32mIn[23], line 1\u001b[0m\n\u001b[1;32m----> 1\u001b[0m \u001b[43ms\u001b[49m\u001b[43m[\u001b[49m\u001b[38;5;241;43m1\u001b[39;49m\u001b[43m]\u001b[49m\n",
      "\u001b[1;31mTypeError\u001b[0m: 'set' object is not subscriptable"
     ]
    }
   ],
   "source": [
    "s[1]"
   ]
  },
  {
   "cell_type": "code",
   "execution_count": 26,
   "id": "1d788ce9",
   "metadata": {},
   "outputs": [],
   "source": [
    "d={'a':2, 'b':10, 'n':1}"
   ]
  },
  {
   "cell_type": "code",
   "execution_count": 27,
   "id": "8831230d",
   "metadata": {},
   "outputs": [
    {
     "data": {
      "text/plain": [
       "2"
      ]
     },
     "execution_count": 27,
     "metadata": {},
     "output_type": "execute_result"
    }
   ],
   "source": [
    "d['a']"
   ]
  },
  {
   "cell_type": "code",
   "execution_count": 28,
   "id": "d32e6163",
   "metadata": {},
   "outputs": [
    {
     "name": "stdout",
     "output_type": "stream",
     "text": [
      "n\n",
      "a\n",
      "b\n"
     ]
    }
   ],
   "source": [
    "for a in s:\n",
    "    print(a)"
   ]
  },
  {
   "cell_type": "code",
   "execution_count": 30,
   "id": "08d7b9cb",
   "metadata": {},
   "outputs": [],
   "source": [
    "p=iter(s)"
   ]
  },
  {
   "cell_type": "code",
   "execution_count": 33,
   "id": "8e320662",
   "metadata": {},
   "outputs": [
    {
     "data": {
      "text/plain": [
       "'b'"
      ]
     },
     "execution_count": 33,
     "metadata": {},
     "output_type": "execute_result"
    }
   ],
   "source": [
    "next(p)"
   ]
  },
  {
   "cell_type": "code",
   "execution_count": null,
   "id": "70e5cdc4",
   "metadata": {},
   "outputs": [],
   "source": []
  }
 ],
 "metadata": {
  "kernelspec": {
   "display_name": "Python 3 (ipykernel)",
   "language": "python",
   "name": "python3"
  },
  "language_info": {
   "codemirror_mode": {
    "name": "ipython",
    "version": 3
   },
   "file_extension": ".py",
   "mimetype": "text/x-python",
   "name": "python",
   "nbconvert_exporter": "python",
   "pygments_lexer": "ipython3",
   "version": "3.10.9"
  }
 },
 "nbformat": 4,
 "nbformat_minor": 5
}
