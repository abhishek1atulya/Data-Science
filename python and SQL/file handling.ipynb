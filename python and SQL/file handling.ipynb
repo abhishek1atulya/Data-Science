{
 "cells": [
  {
   "cell_type": "code",
   "execution_count": 74,
   "id": "ab352388-4a3e-4977-b5eb-3b31d1ecd10d",
   "metadata": {},
   "outputs": [],
   "source": [
    "# open\n",
    "f = open(r'C:\\Users\\tbaka\\python.txt','w') "
   ]
  },
  {
   "cell_type": "code",
   "execution_count": 75,
   "id": "98cf6a67-9e41-4898-857c-0005a4338c36",
   "metadata": {},
   "outputs": [
    {
     "data": {
      "text/plain": [
       "20"
      ]
     },
     "execution_count": 75,
     "metadata": {},
     "output_type": "execute_result"
    }
   ],
   "source": [
    "f.write('this is my 1st line\\n')"
   ]
  },
  {
   "cell_type": "code",
   "execution_count": 76,
   "id": "6be20f73-edac-4031-937a-9a468328b517",
   "metadata": {},
   "outputs": [
    {
     "data": {
      "text/plain": [
       "20"
      ]
     },
     "execution_count": 76,
     "metadata": {},
     "output_type": "execute_result"
    }
   ],
   "source": [
    "f.write('this is my 2nd line\\n')"
   ]
  },
  {
   "cell_type": "code",
   "execution_count": 77,
   "id": "caa70097-90e1-4d8a-a43a-e74c34b10112",
   "metadata": {},
   "outputs": [],
   "source": [
    "f.writelines(['this is my 3rd line \\n', \n",
    "              'this is my 4th line \\n', \n",
    "              'this is my 5th line \\n', \n",
    "              'this is my 6th line \\n' ])"
   ]
  },
  {
   "cell_type": "code",
   "execution_count": 78,
   "id": "ca813570-fa3d-4007-b92e-5fc24773ec03",
   "metadata": {},
   "outputs": [],
   "source": [
    "f.close()"
   ]
  },
  {
   "cell_type": "code",
   "execution_count": 79,
   "id": "972add53-e87b-41bb-a86e-b4f97247d3b8",
   "metadata": {},
   "outputs": [
    {
     "ename": "ValueError",
     "evalue": "I/O operation on closed file.",
     "output_type": "error",
     "traceback": [
      "\u001b[1;31m---------------------------------------------------------------------------\u001b[0m",
      "\u001b[1;31mValueError\u001b[0m                                Traceback (most recent call last)",
      "Cell \u001b[1;32mIn[79], line 1\u001b[0m\n\u001b[1;32m----> 1\u001b[0m f\u001b[38;5;241m.\u001b[39mwrite(\u001b[38;5;124m'\u001b[39m\u001b[38;5;124mthis is file\u001b[39m\u001b[38;5;124m'\u001b[39m)\n",
      "\u001b[1;31mValueError\u001b[0m: I/O operation on closed file."
     ]
    }
   ],
   "source": [
    "f.write('this is file')"
   ]
  },
  {
   "cell_type": "code",
   "execution_count": 20,
   "id": "ebf1ba8b-b929-4419-abd5-09e69e9af294",
   "metadata": {},
   "outputs": [],
   "source": [
    "f = open('python.txt','w') "
   ]
  },
  {
   "cell_type": "code",
   "execution_count": 21,
   "id": "d3e8667c-1256-4577-beab-1d6387dd8545",
   "metadata": {},
   "outputs": [],
   "source": [
    "# f.close()"
   ]
  },
  {
   "cell_type": "code",
   "execution_count": 80,
   "id": "e68a9da3-762b-4195-a60f-7e51f1435466",
   "metadata": {},
   "outputs": [
    {
     "data": {
      "text/plain": [
       "'this is my 1st line\\n'"
      ]
     },
     "execution_count": 80,
     "metadata": {},
     "output_type": "execute_result"
    }
   ],
   "source": [
    "f = open(r'C:\\Users\\tbaka\\python.txt','r')\n",
    "f.read(20)"
   ]
  },
  {
   "cell_type": "code",
   "execution_count": 81,
   "id": "5da769ff-2b5b-4f55-8f89-c810a6a7549f",
   "metadata": {},
   "outputs": [
    {
     "data": {
      "text/plain": [
       "'this is my 2nd line\\n'"
      ]
     },
     "execution_count": 81,
     "metadata": {},
     "output_type": "execute_result"
    }
   ],
   "source": [
    "f.read(20)"
   ]
  },
  {
   "cell_type": "code",
   "execution_count": 82,
   "id": "c5fedd65-eefa-4c9f-91c4-fd658c766548",
   "metadata": {},
   "outputs": [
    {
     "data": {
      "text/plain": [
       "'this is my'"
      ]
     },
     "execution_count": 82,
     "metadata": {},
     "output_type": "execute_result"
    }
   ],
   "source": [
    "f.read(10)"
   ]
  },
  {
   "cell_type": "code",
   "execution_count": 83,
   "id": "ae910e0c-b30d-4889-977a-ee4c2087db41",
   "metadata": {},
   "outputs": [
    {
     "data": {
      "text/plain": [
       "' 3rd line \\nthis is my 4th line'"
      ]
     },
     "execution_count": 83,
     "metadata": {},
     "output_type": "execute_result"
    }
   ],
   "source": [
    "f.read(30)"
   ]
  },
  {
   "cell_type": "code",
   "execution_count": 87,
   "id": "72893feb-006a-4f83-bf72-1224ba424c04",
   "metadata": {},
   "outputs": [
    {
     "data": {
      "text/plain": [
       "['this is my 1st line\\n', 'this is my 2nd line\\n']"
      ]
     },
     "execution_count": 87,
     "metadata": {},
     "output_type": "execute_result"
    }
   ],
   "source": [
    "f = open(r'C:\\Users\\tbaka\\python.txt','r')\n",
    "f.readlines(21)"
   ]
  },
  {
   "cell_type": "code",
   "execution_count": 88,
   "id": "c138af12-2aaf-40c0-8993-c561a9d8d39e",
   "metadata": {
    "scrolled": true
   },
   "outputs": [
    {
     "data": {
      "text/plain": [
       "'this is my'"
      ]
     },
     "execution_count": 88,
     "metadata": {},
     "output_type": "execute_result"
    }
   ],
   "source": [
    "f.read(10)"
   ]
  },
  {
   "cell_type": "code",
   "execution_count": 89,
   "id": "9bfd0e11-adcb-4e38-8845-aebc9b198e20",
   "metadata": {},
   "outputs": [
    {
     "data": {
      "text/plain": [
       "' 3rd line \\nthis is m'"
      ]
     },
     "execution_count": 89,
     "metadata": {},
     "output_type": "execute_result"
    }
   ],
   "source": [
    "f.read(20)"
   ]
  },
  {
   "cell_type": "code",
   "execution_count": 90,
   "id": "07e0fca5-2059-488c-8049-26ce63c294e4",
   "metadata": {},
   "outputs": [
    {
     "data": {
      "text/plain": [
       "'y 4th line \\nthis is my 5th line \\nthis is my 6th line \\n'"
      ]
     },
     "execution_count": 90,
     "metadata": {},
     "output_type": "execute_result"
    }
   ],
   "source": [
    "f.read()"
   ]
  },
  {
   "cell_type": "code",
   "execution_count": 91,
   "id": "96ca7f34-a97b-4432-ad60-8853602f82c3",
   "metadata": {},
   "outputs": [
    {
     "data": {
      "text/plain": [
       "''"
      ]
     },
     "execution_count": 91,
     "metadata": {},
     "output_type": "execute_result"
    }
   ],
   "source": [
    "f.read()"
   ]
  },
  {
   "cell_type": "code",
   "execution_count": 92,
   "id": "d48972e2-3232-45ed-942e-c2f0f8a9faa4",
   "metadata": {},
   "outputs": [],
   "source": [
    "f.close()"
   ]
  },
  {
   "cell_type": "code",
   "execution_count": 93,
   "id": "454034d1-fd70-4e49-818f-b3f358fe4414",
   "metadata": {},
   "outputs": [
    {
     "name": "stdout",
     "output_type": "stream",
     "text": [
      "this is my 1st line\n",
      "\n",
      "['this is my 2nd line\\n', 'this is my 3rd line \\n', 'this is my 4th line \\n']\n"
     ]
    }
   ],
   "source": [
    "# f = open('file.txt','r')\n",
    "with open(r'C:\\Users\\tbaka\\python.txt', 'r') as f:\n",
    "    print(f.read(20))\n",
    "    print(f.readlines(60))\n",
    "    f.close()"
   ]
  },
  {
   "cell_type": "code",
   "execution_count": 94,
   "id": "1b9d805d-c8a7-405f-bf50-3045c22b3c34",
   "metadata": {},
   "outputs": [],
   "source": [
    "with open(r'C:\\Users\\tbaka\\python.txt', 'a') as f:\n",
    "    f.write('this is my 7th line \\n')\n",
    "    f.close()"
   ]
  },
  {
   "cell_type": "code",
   "execution_count": 95,
   "id": "81ca1c0b-c0d2-427e-9356-e2ef2e1947ea",
   "metadata": {},
   "outputs": [
    {
     "name": "stdout",
     "output_type": "stream",
     "text": [
      "this is my 1st line\n",
      "this is my 2nd line\n",
      "this is my 3rd line \n",
      "this is my 4th line \n",
      "this is my 5th line \n",
      "this is my 6th line \n",
      "this is my 7th line \n",
      "\n"
     ]
    }
   ],
   "source": [
    "with open(r'C:\\Users\\tbaka\\python.txt', 'r') as f:\n",
    "    print(f.read())"
   ]
  },
  {
   "cell_type": "code",
   "execution_count": 96,
   "id": "97c94283-b3a2-4f67-b7a4-bc9149e9ac37",
   "metadata": {},
   "outputs": [
    {
     "name": "stdout",
     "output_type": "stream",
     "text": [
      "this is my 1st line\n",
      "this is my 2nd line\n",
      "this is my 3rd line \n",
      "this is my 4th line \n",
      "this is my 5th line \n",
      "this is my 6th line \n",
      "this is my 7th line \n",
      "\n"
     ]
    }
   ],
   "source": [
    "with open(r'C:\\Users\\tbaka\\python.txt', 'r+') as f:\n",
    "    r= f.read()\n",
    "    print(r)\n",
    "    f.write('this is my 8th line \\n')\n",
    "    f.close()"
   ]
  },
  {
   "cell_type": "code",
   "execution_count": 97,
   "id": "2763457e-6275-4c91-8e48-2c6cc374c14f",
   "metadata": {},
   "outputs": [
    {
     "name": "stdout",
     "output_type": "stream",
     "text": [
      "this is my 1st line\n",
      "this is my 2nd line\n",
      "this is my 3rd line \n",
      "this is my 4th line \n",
      "this is my 5th line \n",
      "this is my 6th line \n",
      "this is my 7th line \n",
      "this is my 8th line \n",
      "\n"
     ]
    }
   ],
   "source": [
    "with open(r'C:\\Users\\tbaka\\python.txt', 'r+') as f:\n",
    "    r= f.read()\n",
    "    print(r)"
   ]
  },
  {
   "cell_type": "code",
   "execution_count": null,
   "id": "d70ae609-66d8-44ca-be01-836825dbaef6",
   "metadata": {},
   "outputs": [],
   "source": []
  }
 ],
 "metadata": {
  "kernelspec": {
   "display_name": "Python 3 (ipykernel)",
   "language": "python",
   "name": "python3"
  },
  "language_info": {
   "codemirror_mode": {
    "name": "ipython",
    "version": 3
   },
   "file_extension": ".py",
   "mimetype": "text/x-python",
   "name": "python",
   "nbconvert_exporter": "python",
   "pygments_lexer": "ipython3",
   "version": "3.12.7"
  }
 },
 "nbformat": 4,
 "nbformat_minor": 5
}
