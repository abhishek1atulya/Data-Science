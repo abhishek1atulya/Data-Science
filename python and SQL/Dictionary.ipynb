{
 "cells": [
  {
   "cell_type": "code",
   "execution_count": 3,
   "id": "97b76079",
   "metadata": {},
   "outputs": [
    {
     "data": {
      "text/plain": [
       "13"
      ]
     },
     "execution_count": 3,
     "metadata": {},
     "output_type": "execute_result"
    }
   ],
   "source": [
    "d={'a':1, (1,2,3):11, 2:23, 2.3:78, 'a':13}\n",
    "d['a']"
   ]
  },
  {
   "cell_type": "code",
   "execution_count": 5,
   "id": "1ab219dd-e4fe-4d1a-a402-56befbfdbc26",
   "metadata": {},
   "outputs": [],
   "source": [
    "# key should be unique if the key is not unique then it will be updated with the latest element\n",
    "# key should also be hashable or immutable\n",
    "# value coulfd be anything"
   ]
  },
  {
   "cell_type": "code",
   "execution_count": 4,
   "id": "c94c5d7e-6e49-4847-9290-a4628a709c1d",
   "metadata": {},
   "outputs": [
    {
     "ename": "TypeError",
     "evalue": "unhashable type: 'list'",
     "output_type": "error",
     "traceback": [
      "\u001b[1;31m---------------------------------------------------------------------------\u001b[0m",
      "\u001b[1;31mTypeError\u001b[0m                                 Traceback (most recent call last)",
      "Cell \u001b[1;32mIn[4], line 1\u001b[0m\n\u001b[1;32m----> 1\u001b[0m d\u001b[38;5;241m=\u001b[39m{\u001b[38;5;124m'\u001b[39m\u001b[38;5;124ma\u001b[39m\u001b[38;5;124m'\u001b[39m:\u001b[38;5;241m1\u001b[39m, (\u001b[38;5;241m1\u001b[39m,\u001b[38;5;241m2\u001b[39m,\u001b[38;5;241m3\u001b[39m):\u001b[38;5;241m11\u001b[39m, \u001b[38;5;241m2\u001b[39m:\u001b[38;5;241m23\u001b[39m, \u001b[38;5;241m2.3\u001b[39m:\u001b[38;5;241m78\u001b[39m, \u001b[38;5;124m'\u001b[39m\u001b[38;5;124ma\u001b[39m\u001b[38;5;124m'\u001b[39m:\u001b[38;5;241m13\u001b[39m, [\u001b[38;5;241m1\u001b[39m,\u001b[38;5;241m2\u001b[39m,\u001b[38;5;241m3\u001b[39m]:\u001b[38;5;241m12\u001b[39m}\n\u001b[0;32m      2\u001b[0m d[\u001b[38;5;124m'\u001b[39m\u001b[38;5;124ma\u001b[39m\u001b[38;5;124m'\u001b[39m]\n",
      "\u001b[1;31mTypeError\u001b[0m: unhashable type: 'list'"
     ]
    }
   ],
   "source": [
    "d={'a':1, (1,2,3):11, 2:23, 2.3:78, 'a':13, [1,2,3]:12}\n",
    "d['a']"
   ]
  },
  {
   "cell_type": "code",
   "execution_count": 6,
   "id": "3feb0f8a",
   "metadata": {},
   "outputs": [
    {
     "data": {
      "text/plain": [
       "-5691459184618668879"
      ]
     },
     "execution_count": 6,
     "metadata": {},
     "output_type": "execute_result"
    }
   ],
   "source": [
    "hash('a')"
   ]
  },
  {
   "cell_type": "code",
   "execution_count": 7,
   "id": "2c5eb6a0",
   "metadata": {},
   "outputs": [
    {
     "data": {
      "text/plain": [
       "529344067295497451"
      ]
     },
     "execution_count": 7,
     "metadata": {},
     "output_type": "execute_result"
    }
   ],
   "source": [
    "hash((1,2,3))"
   ]
  },
  {
   "cell_type": "code",
   "execution_count": 8,
   "id": "8fcfcb4e",
   "metadata": {
    "scrolled": true
   },
   "outputs": [
    {
     "ename": "TypeError",
     "evalue": "unhashable type: 'list'",
     "output_type": "error",
     "traceback": [
      "\u001b[1;31m---------------------------------------------------------------------------\u001b[0m",
      "\u001b[1;31mTypeError\u001b[0m                                 Traceback (most recent call last)",
      "Cell \u001b[1;32mIn[8], line 1\u001b[0m\n\u001b[1;32m----> 1\u001b[0m \u001b[38;5;28mhash\u001b[39m([\u001b[38;5;241m1\u001b[39m,\u001b[38;5;241m2\u001b[39m,\u001b[38;5;241m3\u001b[39m])\n",
      "\u001b[1;31mTypeError\u001b[0m: unhashable type: 'list'"
     ]
    }
   ],
   "source": [
    "hash([1,2,3])"
   ]
  },
  {
   "cell_type": "code",
   "execution_count": 13,
   "id": "a015b7f2-9165-4599-935f-529d09ace2c9",
   "metadata": {},
   "outputs": [
    {
     "data": {
      "text/plain": [
       "-108"
      ]
     },
     "execution_count": 13,
     "metadata": {},
     "output_type": "execute_result"
    }
   ],
   "source": [
    "hash(-108)"
   ]
  },
  {
   "cell_type": "code",
   "execution_count": 14,
   "id": "35e3c5f6-ea4a-4f62-8c52-fad25d4ba185",
   "metadata": {},
   "outputs": [
    {
     "data": {
      "text/plain": [
       "691752902764107778"
      ]
     },
     "execution_count": 14,
     "metadata": {},
     "output_type": "execute_result"
    }
   ],
   "source": [
    "hash(2.3)"
   ]
  },
  {
   "cell_type": "code",
   "execution_count": 15,
   "id": "b5e57e7f",
   "metadata": {},
   "outputs": [],
   "source": [
    "d={'a':1,(1,2,3):11,2:23,2.3:78}"
   ]
  },
  {
   "cell_type": "code",
   "execution_count": 16,
   "id": "8d8f6dd3",
   "metadata": {},
   "outputs": [
    {
     "data": {
      "text/plain": [
       "1"
      ]
     },
     "execution_count": 16,
     "metadata": {},
     "output_type": "execute_result"
    }
   ],
   "source": [
    "d['a']"
   ]
  },
  {
   "cell_type": "code",
   "execution_count": 17,
   "id": "76003ea6-92ab-4cfe-97d7-85f13d56a801",
   "metadata": {},
   "outputs": [
    {
     "data": {
      "text/plain": [
       "-5691459184618668879"
      ]
     },
     "execution_count": 17,
     "metadata": {},
     "output_type": "execute_result"
    }
   ],
   "source": [
    "hash('a')"
   ]
  },
  {
   "cell_type": "code",
   "execution_count": 19,
   "id": "e57a45e5-b0ee-40b1-bf1f-c5858065bbbe",
   "metadata": {},
   "outputs": [
    {
     "data": {
      "text/plain": [
       "-1079773166191280977"
      ]
     },
     "execution_count": 19,
     "metadata": {},
     "output_type": "execute_result"
    }
   ],
   "source": [
    "hash(-5691459184618668879)"
   ]
  },
  {
   "cell_type": "code",
   "execution_count": 18,
   "id": "0f3e82c1",
   "metadata": {},
   "outputs": [
    {
     "ename": "KeyError",
     "evalue": "-5691459184618668879",
     "output_type": "error",
     "traceback": [
      "\u001b[1;31m---------------------------------------------------------------------------\u001b[0m",
      "\u001b[1;31mKeyError\u001b[0m                                  Traceback (most recent call last)",
      "Cell \u001b[1;32mIn[18], line 1\u001b[0m\n\u001b[1;32m----> 1\u001b[0m d[\u001b[38;5;241m-\u001b[39m\u001b[38;5;241m5691459184618668879\u001b[39m]\n",
      "\u001b[1;31mKeyError\u001b[0m: -5691459184618668879"
     ]
    }
   ],
   "source": [
    "d[-5691459184618668879]"
   ]
  },
  {
   "cell_type": "code",
   "execution_count": null,
   "id": "f7221629",
   "metadata": {},
   "outputs": [],
   "source": [
    "# key should be immutable datatype or it should be hashable \n",
    "# immutable datatypes are hashalbe\n",
    "# key should be always unique\n",
    "# value can be anything\n",
    "# unorderd collections of elements\n",
    "# it's mutable data type"
   ]
  },
  {
   "cell_type": "code",
   "execution_count": 20,
   "id": "74b608a8-75aa-45d5-a85b-48e8d1c4df75",
   "metadata": {},
   "outputs": [
    {
     "data": {
      "text/plain": [
       "{'a': 12, (1, 2, 3): 11, 2: 10, 2.3: 78}"
      ]
     },
     "execution_count": 20,
     "metadata": {},
     "output_type": "execute_result"
    }
   ],
   "source": [
    "d={'a':1, (1,2,3):11, 2:23, 2.3:78, 'a':12, 2:10}\n",
    "d"
   ]
  },
  {
   "cell_type": "code",
   "execution_count": 21,
   "id": "9b198c50-4df5-4141-82cd-c1544db47d5a",
   "metadata": {},
   "outputs": [
    {
     "data": {
      "text/plain": [
       "True"
      ]
     },
     "execution_count": 21,
     "metadata": {},
     "output_type": "execute_result"
    }
   ],
   "source": [
    "d={'a': 12, (1, 2, 3): 11, 2: 10, 2.3: 78}\n",
    "d1={ 2: 10, 'a': 12,  2.3: 78, (1, 2, 3): 11}\n",
    "d==d1"
   ]
  },
  {
   "cell_type": "code",
   "execution_count": 22,
   "id": "9bbf8023-e179-465b-a54a-55f8a259f2b9",
   "metadata": {},
   "outputs": [
    {
     "data": {
      "text/plain": [
       "False"
      ]
     },
     "execution_count": 22,
     "metadata": {},
     "output_type": "execute_result"
    }
   ],
   "source": [
    "l=[1,2]\n",
    "l1=[2,1]\n",
    "l==l1"
   ]
  },
  {
   "cell_type": "code",
   "execution_count": null,
   "id": "bd026fae-9951-4678-abc8-b07717a6872a",
   "metadata": {},
   "outputs": [],
   "source": [
    "# dict()"
   ]
  },
  {
   "cell_type": "code",
   "execution_count": 23,
   "id": "c4568a62-b745-4633-a49d-aef680484d0d",
   "metadata": {},
   "outputs": [
    {
     "data": {
      "text/plain": [
       "'asdfgh'"
      ]
     },
     "execution_count": 23,
     "metadata": {},
     "output_type": "execute_result"
    }
   ],
   "source": [
    "# s=''\n",
    "s=str()\n",
    "s='asdfgh'\n",
    "s = str('asdfgh')\n",
    "s"
   ]
  },
  {
   "cell_type": "code",
   "execution_count": 24,
   "id": "3ca153cd-251d-4404-817b-43c54684faf6",
   "metadata": {},
   "outputs": [
    {
     "name": "stdout",
     "output_type": "stream",
     "text": [
      "[]\n",
      "[]\n",
      "[1, 2, 3, 4, 5]\n",
      "[1, 2, 3, 4, 4]\n",
      "['1', '2', '3', '4']\n",
      "[1]\n"
     ]
    }
   ],
   "source": [
    "l=[]\n",
    "print(l)\n",
    "l=list()\n",
    "print(l)\n",
    "l=[1,2,3,4,5]\n",
    "print(l)\n",
    "l=list((1,2,3,4,4))\n",
    "print(l)\n",
    "l=list('1234')\n",
    "print(l)\n",
    "l=[]\n",
    "l.append(1)\n",
    "print(l)"
   ]
  },
  {
   "cell_type": "code",
   "execution_count": 27,
   "id": "8dfae6bc-7457-4ee9-9e61-a97e2e43443d",
   "metadata": {},
   "outputs": [
    {
     "name": "stdout",
     "output_type": "stream",
     "text": [
      "{}\n",
      "{}\n",
      "{1: 12, 'a': 2, 'b': 3}\n",
      "{'a': 1, 'b': 2}\n",
      "{'a': 1, 'b': 2}\n",
      "{'a': 50}\n"
     ]
    }
   ],
   "source": [
    "d={}\n",
    "print(d)\n",
    "d=dict()\n",
    "print(d)\n",
    "d={1:12,'a':2,'b':3}\n",
    "print(d)\n",
    "d= dict([('a',1),('b',2)])\n",
    "print(d)\n",
    "d= dict((['a',1],['b',2]))\n",
    "print(d)\n",
    "d={}\n",
    "d['a']=20\n",
    "d['a']=50\n",
    "print(d)"
   ]
  },
  {
   "cell_type": "code",
   "execution_count": 28,
   "id": "d2270e37",
   "metadata": {},
   "outputs": [
    {
     "name": "stdout",
     "output_type": "stream",
     "text": [
      "['s', 't', 'r', 'i', 'n', 'g']\n"
     ]
    }
   ],
   "source": [
    "l=[]\n",
    "l=list()\n",
    "l=list('string')\n",
    "print(l)"
   ]
  },
  {
   "cell_type": "code",
   "execution_count": 32,
   "id": "00968ea4",
   "metadata": {},
   "outputs": [
    {
     "name": "stdout",
     "output_type": "stream",
     "text": [
      "a\n",
      "1\n",
      "3\n",
      "('b', 2, 5)\n",
      "('c', 3, 6)\n",
      "('d', 4, 5)\n"
     ]
    }
   ],
   "source": [
    "L=['a',1,3,('b',2,5),('c',3,6),('d',4,5)]\n",
    "for a in L:\n",
    "    print(a)"
   ]
  },
  {
   "cell_type": "code",
   "execution_count": 33,
   "id": "dadf6392",
   "metadata": {},
   "outputs": [
    {
     "name": "stdout",
     "output_type": "stream",
     "text": [
      "a 1 3\n",
      "b 2 5\n",
      "c 3 6\n",
      "d 4 5\n"
     ]
    }
   ],
   "source": [
    "L=[('a',1,3),('b',2,5),('c',3,6),('d',4,5)]\n",
    "for a,b,c in L:\n",
    "    print(a,b,c)"
   ]
  },
  {
   "cell_type": "code",
   "execution_count": 34,
   "id": "a6e2e07c",
   "metadata": {},
   "outputs": [],
   "source": [
    "a,b,c = 'a',1,3"
   ]
  },
  {
   "cell_type": "code",
   "execution_count": 35,
   "id": "9050a532",
   "metadata": {},
   "outputs": [
    {
     "data": {
      "text/plain": [
       "'a'"
      ]
     },
     "execution_count": 35,
     "metadata": {},
     "output_type": "execute_result"
    }
   ],
   "source": [
    "a"
   ]
  },
  {
   "cell_type": "code",
   "execution_count": 36,
   "id": "86be9362",
   "metadata": {},
   "outputs": [
    {
     "data": {
      "text/plain": [
       "1"
      ]
     },
     "execution_count": 36,
     "metadata": {},
     "output_type": "execute_result"
    }
   ],
   "source": [
    "b"
   ]
  },
  {
   "cell_type": "code",
   "execution_count": 37,
   "id": "216c3865",
   "metadata": {},
   "outputs": [
    {
     "data": {
      "text/plain": [
       "3"
      ]
     },
     "execution_count": 37,
     "metadata": {},
     "output_type": "execute_result"
    }
   ],
   "source": [
    "c"
   ]
  },
  {
   "cell_type": "code",
   "execution_count": 38,
   "id": "1394467f-b44c-4705-9312-560a67678f44",
   "metadata": {},
   "outputs": [],
   "source": [
    "a,b,c,d,e = (1,2,3,4,5)"
   ]
  },
  {
   "cell_type": "code",
   "execution_count": 39,
   "id": "54683c8c-068f-4d96-85db-7debeecb08c3",
   "metadata": {},
   "outputs": [
    {
     "data": {
      "text/plain": [
       "1"
      ]
     },
     "execution_count": 39,
     "metadata": {},
     "output_type": "execute_result"
    }
   ],
   "source": [
    "a"
   ]
  },
  {
   "cell_type": "code",
   "execution_count": 40,
   "id": "97549e1f-b485-4a22-bc41-d372bb7a5d42",
   "metadata": {},
   "outputs": [
    {
     "data": {
      "text/plain": [
       "2"
      ]
     },
     "execution_count": 40,
     "metadata": {},
     "output_type": "execute_result"
    }
   ],
   "source": [
    "b"
   ]
  },
  {
   "cell_type": "code",
   "execution_count": 41,
   "id": "cb2e3530",
   "metadata": {},
   "outputs": [
    {
     "data": {
      "text/plain": [
       "{'1': 12}"
      ]
     },
     "execution_count": 41,
     "metadata": {},
     "output_type": "execute_result"
    }
   ],
   "source": [
    "d={}\n",
    "d['1']=12\n",
    "d"
   ]
  },
  {
   "cell_type": "code",
   "execution_count": 42,
   "id": "3c540c12",
   "metadata": {},
   "outputs": [
    {
     "name": "stdout",
     "output_type": "stream",
     "text": [
      "{'a': 1, 'b': 2, 'c': 3, 'd': 4}\n"
     ]
    }
   ],
   "source": [
    "z = {}\n",
    "for k, v in [('a',1),('b',2),('c',3),('d',4)]:\n",
    "    z[k] = v\n",
    "print(z)"
   ]
  },
  {
   "cell_type": "code",
   "execution_count": 43,
   "id": "52e456e1",
   "metadata": {},
   "outputs": [
    {
     "data": {
      "text/plain": [
       "{}"
      ]
     },
     "execution_count": 43,
     "metadata": {},
     "output_type": "execute_result"
    }
   ],
   "source": [
    "d={}\n",
    "# d=dict()\n",
    "d"
   ]
  },
  {
   "cell_type": "code",
   "execution_count": 44,
   "id": "e0775040",
   "metadata": {},
   "outputs": [
    {
     "name": "stdout",
     "output_type": "stream",
     "text": [
      "{'a': 1, 'b': 2, 'c': 3, 'd': 4}\n"
     ]
    }
   ],
   "source": [
    "d=dict([('a',1),('b',2),('c',3),('d',4)])\n",
    "print(d)"
   ]
  },
  {
   "cell_type": "code",
   "execution_count": 45,
   "id": "b05e80db",
   "metadata": {},
   "outputs": [
    {
     "data": {
      "text/plain": [
       "True"
      ]
     },
     "execution_count": 45,
     "metadata": {},
     "output_type": "execute_result"
    }
   ],
   "source": [
    "'a' in d # always search for keys"
   ]
  },
  {
   "cell_type": "code",
   "execution_count": 46,
   "id": "2a9e9601",
   "metadata": {},
   "outputs": [
    {
     "data": {
      "text/plain": [
       "False"
      ]
     },
     "execution_count": 46,
     "metadata": {},
     "output_type": "execute_result"
    }
   ],
   "source": [
    "1 in d # not for the value"
   ]
  },
  {
   "cell_type": "code",
   "execution_count": 47,
   "id": "f75d43e9",
   "metadata": {},
   "outputs": [
    {
     "name": "stdout",
     "output_type": "stream",
     "text": [
      "{'a': 'string', 'b': [1, 2, 3], 'c': 3, 'd': 3}\n",
      "{'b': [1, 2, 3], 'c': 3, 'd': 3}\n"
     ]
    }
   ],
   "source": [
    "d={'a': 'string', 'b': 2, 'c': 3, 'd': 3,'b':[1,2,3]}\n",
    "print(d)\n",
    "del d['a']\n",
    "print(d)"
   ]
  },
  {
   "cell_type": "code",
   "execution_count": 48,
   "id": "07cbdd50",
   "metadata": {},
   "outputs": [
    {
     "name": "stdout",
     "output_type": "stream",
     "text": [
      "{'a': 'string', 'b': [1, 2, 3], 'c': 3, 'd': 3}\n",
      "{'b': [1, 2, 3], 'c': 3, 'd': 3, 'a': 'string'}\n"
     ]
    },
    {
     "data": {
      "text/plain": [
       "True"
      ]
     },
     "execution_count": 48,
     "metadata": {},
     "output_type": "execute_result"
    }
   ],
   "source": [
    "d={'a': 'string', 'b':2,'b': [1, 2, 3], 'c': 3, 'd': 3}\n",
    "print(d)\n",
    "b={'b': [1, 2, 3], 'c': 3, 'd': 3,'a': 'string'}\n",
    "print(b)\n",
    "b==d"
   ]
  },
  {
   "cell_type": "code",
   "execution_count": 49,
   "id": "b745572c",
   "metadata": {},
   "outputs": [
    {
     "name": "stdout",
     "output_type": "stream",
     "text": [
      "{'a': 'string', 'b': [1, 2, 3], 'c': 3, 'd': 3}\n",
      "{'b': 2, 'c': 3, 'd': 3, 'a': 'string'}\n"
     ]
    },
    {
     "data": {
      "text/plain": [
       "False"
      ]
     },
     "execution_count": 49,
     "metadata": {},
     "output_type": "execute_result"
    }
   ],
   "source": [
    "d={'a': 'string', 'b':2,'b': [1, 2, 3], 'c': 3, 'd': 3}\n",
    "print(d)\n",
    "b={'b': [1, 2, 3], 'c': 3, 'd': 3,'a': 'string','b':2}\n",
    "print(b)\n",
    "b==d"
   ]
  },
  {
   "cell_type": "code",
   "execution_count": 50,
   "id": "4e27e969",
   "metadata": {
    "scrolled": true
   },
   "outputs": [
    {
     "ename": "TypeError",
     "evalue": "'<' not supported between instances of 'dict' and 'dict'",
     "output_type": "error",
     "traceback": [
      "\u001b[1;31m---------------------------------------------------------------------------\u001b[0m",
      "\u001b[1;31mTypeError\u001b[0m                                 Traceback (most recent call last)",
      "Cell \u001b[1;32mIn[50], line 3\u001b[0m\n\u001b[0;32m      1\u001b[0m d\u001b[38;5;241m=\u001b[39m{\u001b[38;5;124m'\u001b[39m\u001b[38;5;124ma\u001b[39m\u001b[38;5;124m'\u001b[39m: \u001b[38;5;124m'\u001b[39m\u001b[38;5;124mstring\u001b[39m\u001b[38;5;124m'\u001b[39m, \u001b[38;5;124m'\u001b[39m\u001b[38;5;124mb\u001b[39m\u001b[38;5;124m'\u001b[39m:\u001b[38;5;241m2\u001b[39m,\u001b[38;5;124m'\u001b[39m\u001b[38;5;124mb\u001b[39m\u001b[38;5;124m'\u001b[39m: [\u001b[38;5;241m1\u001b[39m, \u001b[38;5;241m2\u001b[39m, \u001b[38;5;241m3\u001b[39m], \u001b[38;5;124m'\u001b[39m\u001b[38;5;124mc\u001b[39m\u001b[38;5;124m'\u001b[39m: \u001b[38;5;241m3\u001b[39m, \u001b[38;5;124m'\u001b[39m\u001b[38;5;124md\u001b[39m\u001b[38;5;124m'\u001b[39m: \u001b[38;5;241m3\u001b[39m}\n\u001b[0;32m      2\u001b[0m b\u001b[38;5;241m=\u001b[39m{\u001b[38;5;124m'\u001b[39m\u001b[38;5;124mb\u001b[39m\u001b[38;5;124m'\u001b[39m: [\u001b[38;5;241m1\u001b[39m, \u001b[38;5;241m2\u001b[39m, \u001b[38;5;241m3\u001b[39m], \u001b[38;5;124m'\u001b[39m\u001b[38;5;124mc\u001b[39m\u001b[38;5;124m'\u001b[39m: \u001b[38;5;241m3\u001b[39m, \u001b[38;5;124m'\u001b[39m\u001b[38;5;124md\u001b[39m\u001b[38;5;124m'\u001b[39m: \u001b[38;5;241m3\u001b[39m,\u001b[38;5;124m'\u001b[39m\u001b[38;5;124ma\u001b[39m\u001b[38;5;124m'\u001b[39m: \u001b[38;5;124m'\u001b[39m\u001b[38;5;124mstring\u001b[39m\u001b[38;5;124m'\u001b[39m,\u001b[38;5;124m'\u001b[39m\u001b[38;5;124me\u001b[39m\u001b[38;5;124m'\u001b[39m:\u001b[38;5;241m6\u001b[39m}\n\u001b[1;32m----> 3\u001b[0m b\u001b[38;5;241m<\u001b[39md\n",
      "\u001b[1;31mTypeError\u001b[0m: '<' not supported between instances of 'dict' and 'dict'"
     ]
    }
   ],
   "source": [
    "d={'a': 'string', 'b':2,'b': [1, 2, 3], 'c': 3, 'd': 3}\n",
    "b={'b': [1, 2, 3], 'c': 3, 'd': 3,'a': 'string','e':6}\n",
    "b<d"
   ]
  },
  {
   "cell_type": "code",
   "execution_count": 51,
   "id": "7a4983b3",
   "metadata": {},
   "outputs": [
    {
     "name": "stdout",
     "output_type": "stream",
     "text": [
      "a\n",
      "b\n",
      "c\n",
      "d\n"
     ]
    }
   ],
   "source": [
    "d={'a': 'string', 'b':2,'b': [1, 2, 3], 'c': 3, 'd': 3}\n",
    "for i in d:\n",
    "    print(i)"
   ]
  },
  {
   "cell_type": "code",
   "execution_count": 52,
   "id": "20a74084",
   "metadata": {},
   "outputs": [
    {
     "data": {
      "text/plain": [
       "{'a': 'string', 'b': [1, 2, 3], 'c': 3, 'd': 3}"
      ]
     },
     "execution_count": 52,
     "metadata": {},
     "output_type": "execute_result"
    }
   ],
   "source": [
    "d"
   ]
  },
  {
   "cell_type": "code",
   "execution_count": 53,
   "id": "c1c4001c",
   "metadata": {},
   "outputs": [
    {
     "name": "stdout",
     "output_type": "stream",
     "text": [
      "{'a': 'string', 'b': [1, 2, 3], 'c': 16, 'd': 3, 'h': 15, 'e': 'STRING', 'f': (1, 2, 9), 'g': 10}\n",
      "{'a': 'string', 'b': [1, 2, 3], 'c': 3, 'd': 3}\n"
     ]
    }
   ],
   "source": [
    "d1={'a': 'string', 'b': [1, 2, 3], 'c': 3, 'd': 3}\n",
    "d2={'h':15,'e': 'STRING', 'f': (1, 2, 9), 'c': 16, 'g': 10}\n",
    "print(d1|d2) # union {'a': 'string', 'b': [1, 2, 3], 'c': 3, 'd': 3,'h':15,'e': 'STRING', 'f': (1, 2, 9), 'c': 16, 'g': 10}\n",
    "print(d1)"
   ]
  },
  {
   "cell_type": "code",
   "execution_count": 54,
   "id": "e4d89405",
   "metadata": {},
   "outputs": [
    {
     "name": "stdout",
     "output_type": "stream",
     "text": [
      "h\n",
      "e\n",
      "f\n",
      "c\n",
      "g\n"
     ]
    }
   ],
   "source": [
    "for i in d2:\n",
    "    print(i)"
   ]
  },
  {
   "cell_type": "code",
   "execution_count": 55,
   "id": "bec3d085",
   "metadata": {},
   "outputs": [
    {
     "name": "stdout",
     "output_type": "stream",
     "text": [
      "{'a': 'string', 'b': [1, 2, 3], 'c': 16, 'd': 3, 'h': 15, 'e': 'STRING', 'f': (1, 2, 9), 'g': 10}\n"
     ]
    }
   ],
   "source": [
    "d1|=d2 # d1=d1|d2\n",
    "print(d1)"
   ]
  },
  {
   "cell_type": "code",
   "execution_count": 56,
   "id": "5dfe0b2b",
   "metadata": {},
   "outputs": [
    {
     "name": "stdout",
     "output_type": "stream",
     "text": [
      "{'a': 'string', 'b': [1, 2, 3], 'c': 16, 'd': 3, 'h': 15, 'e': 'STRING', 'f': (1, 2, 9), 'g': 10}\n"
     ]
    }
   ],
   "source": [
    "print(d1)"
   ]
  },
  {
   "cell_type": "code",
   "execution_count": 57,
   "id": "0ddd0733",
   "metadata": {},
   "outputs": [
    {
     "data": {
      "text/plain": [
       "8"
      ]
     },
     "execution_count": 57,
     "metadata": {},
     "output_type": "execute_result"
    }
   ],
   "source": [
    "len(d1)"
   ]
  },
  {
   "cell_type": "code",
   "execution_count": 59,
   "id": "f72541a2",
   "metadata": {},
   "outputs": [
    {
     "name": "stdout",
     "output_type": "stream",
     "text": [
      "{'a': 'string', 'b': [1, 2, 3], 'c': 16, 'd': 3, 'e': 'STRING', 'f': (1, 2, 9), 'g': 10}\n"
     ]
    }
   ],
   "source": [
    "d1={'a': 'string', 'b': [1, 2, 3], 'c': 3, 'd': 3}\n",
    "d2={'e': 'STRING', 'f': (1, 2, 9), 'c': 16, 'g': 10}\n",
    "# {'a': 'string', 'b': [1, 2, 3], 'c': 3, 'd': 3,'e': 'STRING', 'f': (1, 2, 9), 'c': 16, 'g': 10}\n",
    "print(d1|d2)"
   ]
  },
  {
   "cell_type": "code",
   "execution_count": 60,
   "id": "f495d781",
   "metadata": {},
   "outputs": [
    {
     "data": {
      "text/plain": [
       "{'a': 'string',\n",
       " 'b': [1, 2, 3],\n",
       " 'c': 16,\n",
       " 'd': 3,\n",
       " 'e': 'STRING',\n",
       " 'f': (1, 2, 9),\n",
       " 'g': 10}"
      ]
     },
     "execution_count": 60,
     "metadata": {},
     "output_type": "execute_result"
    }
   ],
   "source": [
    "d1|=d2 # d1= d1|d2\n",
    "d1"
   ]
  },
  {
   "cell_type": "code",
   "execution_count": 61,
   "id": "d6eba456-7cff-49e7-be84-be65862450ad",
   "metadata": {},
   "outputs": [
    {
     "name": "stdout",
     "output_type": "stream",
     "text": [
      "a\n",
      "b\n",
      "c\n",
      "d\n",
      "e\n",
      "f\n",
      "g\n"
     ]
    }
   ],
   "source": [
    "for i in d1:\n",
    "    print(i)"
   ]
  },
  {
   "cell_type": "code",
   "execution_count": 62,
   "id": "68b9f00f",
   "metadata": {},
   "outputs": [
    {
     "name": "stdout",
     "output_type": "stream",
     "text": [
      "g\n",
      "f\n",
      "e\n",
      "d\n",
      "c\n",
      "b\n",
      "a\n"
     ]
    }
   ],
   "source": [
    "for i in reversed(d1):\n",
    "    print(i)"
   ]
  },
  {
   "cell_type": "code",
   "execution_count": 63,
   "id": "b406a8c3",
   "metadata": {},
   "outputs": [
    {
     "data": {
      "text/plain": [
       "'g'"
      ]
     },
     "execution_count": 63,
     "metadata": {},
     "output_type": "execute_result"
    }
   ],
   "source": [
    "p=reversed(d1)\n",
    "next(p)"
   ]
  },
  {
   "cell_type": "code",
   "execution_count": 65,
   "id": "8835a409",
   "metadata": {},
   "outputs": [
    {
     "data": {
      "text/plain": [
       "'e'"
      ]
     },
     "execution_count": 65,
     "metadata": {},
     "output_type": "execute_result"
    }
   ],
   "source": [
    "next(p)"
   ]
  },
  {
   "cell_type": "code",
   "execution_count": 67,
   "id": "a8fad308",
   "metadata": {},
   "outputs": [],
   "source": [
    "dict1 = {'a': 1, 'b': 2}"
   ]
  },
  {
   "cell_type": "code",
   "execution_count": 68,
   "id": "280bd240",
   "metadata": {},
   "outputs": [
    {
     "data": {
      "text/plain": [
       "{'a': 12, 'b': 22, 'c': 20}"
      ]
     },
     "execution_count": 68,
     "metadata": {},
     "output_type": "execute_result"
    }
   ],
   "source": [
    "dict1['a']=12\n",
    "dict1['b']=22\n",
    "dict1['c']=20\n",
    "dict1"
   ]
  },
  {
   "cell_type": "code",
   "execution_count": 69,
   "id": "88c45277-d9f4-4eac-a7f5-4b73c3fe09a9",
   "metadata": {},
   "outputs": [
    {
     "data": {
      "text/plain": [
       "{'a': 5, 'b': 22, 'c': 20}"
      ]
     },
     "execution_count": 69,
     "metadata": {},
     "output_type": "execute_result"
    }
   ],
   "source": [
    "dict1.__setitem__('a',5)\n",
    "dict1"
   ]
  },
  {
   "cell_type": "code",
   "execution_count": 70,
   "id": "4c67d557",
   "metadata": {},
   "outputs": [
    {
     "name": "stdout",
     "output_type": "stream",
     "text": [
      "{'a': 4, 'b': 6, 'c': 3}\n"
     ]
    }
   ],
   "source": [
    "d = {'a':1,'b':2,'c':3,'a':4,'b':6}\n",
    "print(d)"
   ]
  },
  {
   "cell_type": "code",
   "execution_count": 71,
   "id": "bf03a9c9",
   "metadata": {},
   "outputs": [
    {
     "data": {
      "text/plain": [
       "3"
      ]
     },
     "execution_count": 71,
     "metadata": {},
     "output_type": "execute_result"
    }
   ],
   "source": [
    "len(d)"
   ]
  },
  {
   "cell_type": "code",
   "execution_count": 73,
   "id": "4ce36dc3-b3a4-45cf-a4e3-fe17d364d46c",
   "metadata": {},
   "outputs": [
    {
     "name": "stdout",
     "output_type": "stream",
     "text": [
      "{'a': 1, 'b': 2, 'c': 3, 'd': 4}\n",
      "my_dict: {'a': 20, 'b': 2, 'c': 3, 'd': 4} d1: {'a': 20, 'b': 2, 'c': 3, 'd': 4}\n",
      "{'a': 20, 'b': 2, 'c': 3, 'd': 4}\n",
      "my_dict: {'a': 500, 'b': 2, 'c': 3, 'd': 4} d1: {'a': 20, 'b': 2, 'c': 3, 'd': 4}\n"
     ]
    }
   ],
   "source": [
    "my_dict = {'a':1,'b': 2,'c':3,'d':4}\n",
    "d1 = my_dict\n",
    "print(d1)\n",
    "my_dict['a']=20\n",
    "print('my_dict:', my_dict,'d1:', d1)\n",
    "d1 = my_dict.copy()\n",
    "print(d1)\n",
    "my_dict['a']=500\n",
    "print('my_dict:', my_dict,'d1:', d1)"
   ]
  },
  {
   "cell_type": "code",
   "execution_count": 74,
   "id": "97182e1c-89be-431d-b7e7-17a27987c70c",
   "metadata": {},
   "outputs": [
    {
     "name": "stdout",
     "output_type": "stream",
     "text": [
      "{}\n"
     ]
    }
   ],
   "source": [
    "my_dict = {'a':1,'b': 2,'c':3,'d':4}\n",
    "my_dict.clear()\n",
    "print(my_dict)"
   ]
  },
  {
   "cell_type": "code",
   "execution_count": 78,
   "id": "f55df9eb-fa61-4b17-a13a-f5080504170a",
   "metadata": {},
   "outputs": [
    {
     "name": "stdout",
     "output_type": "stream",
     "text": [
      "dict_keys(['a', 'b', 'c', 'd'])\n",
      "['a', 'b', 'c', 'd']\n"
     ]
    }
   ],
   "source": [
    "d = {'a':1,'b': 2,'c':3,'d':4}\n",
    "print(d.keys())\n",
    "print(list(d.keys()))"
   ]
  },
  {
   "cell_type": "code",
   "execution_count": 77,
   "id": "4e6d0c76-7ae2-41f2-a005-b47c8e414b24",
   "metadata": {},
   "outputs": [
    {
     "name": "stdout",
     "output_type": "stream",
     "text": [
      "a\n",
      "b\n",
      "c\n",
      "d\n"
     ]
    }
   ],
   "source": [
    "for i in d.keys():\n",
    "    print(i)"
   ]
  },
  {
   "cell_type": "code",
   "execution_count": 79,
   "id": "965d91c9-a120-448e-b9df-d9e4eca8f477",
   "metadata": {},
   "outputs": [
    {
     "name": "stdout",
     "output_type": "stream",
     "text": [
      "dict_values([1, 2, 3, 4])\n",
      "[1, 2, 3, 4]\n"
     ]
    }
   ],
   "source": [
    "my_dict = {'a':1,'b': 2,'c':3,'d':4}\n",
    "print(my_dict.values())\n",
    "print(list(my_dict.values()))"
   ]
  },
  {
   "cell_type": "code",
   "execution_count": 94,
   "id": "732bfb2e",
   "metadata": {},
   "outputs": [
    {
     "name": "stdout",
     "output_type": "stream",
     "text": [
      "1\n",
      "1\n",
      "None\n",
      "10\n",
      "None\n",
      "1\n",
      "{'a': 1, 'b': 2, 'c': 3, 'd': 4}\n",
      "dict_items([('a', 1), ('b', 2), ('c', 3), ('d', 4)])\n",
      "1\n",
      "{'b': 2, 'c': 3, 'd': 4}\n",
      "('d', 4)\n",
      "{'b': 2, 'c': 3}\n",
      "5\n",
      "{'b': 2, 'c': 3, 'e': 5}\n",
      "2\n",
      "{'b': 2, 'c': 3, 'e': 5}\n",
      "None\n",
      "{'b': 2, 'c': 3, 'e': 5, 'f': None}\n",
      "9\n",
      "{'b': 2, 'c': 3, 'e': 5, 'f': None, 'h': 9}\n",
      "dict_items([('b', 2), ('c', 3), ('e', 5), ('f', None), ('h', 9)])\n"
     ]
    }
   ],
   "source": [
    "my_dict = {'a':1,'b': 2,'c':3,'d':4}\n",
    "print(my_dict.get('a')) # 1\n",
    "print(my_dict['a'])\n",
    "print(my_dict.get('e')) #None\n",
    "# print(my_dict['e'])# it will give the key error\n",
    "print(my_dict.get('e', 10)) #10\n",
    "print(my_dict.get('e'))\n",
    "print(my_dict.get('a', 10)) # 1\n",
    "print(my_dict) #{'a':1,'b': 2,'c':3,'d':4}\n",
    "print(my_dict.items()) #dict_items([('a', 1), ('b', 2), ('c', 3), ('d', 4)])\n",
    "print(my_dict.pop('a')) # 1\n",
    "print(my_dict) # {'b': 2, 'c': 3, 'd': 4}\n",
    "print(my_dict.popitem()) # ('d',4)\n",
    "print(my_dict) # {'b': 2, 'c': 3}\n",
    "print(my_dict.setdefault('e',5)) #5\n",
    "print(my_dict) # {'b': 2, 'c': 3, 'e': 5, }\n",
    "print(my_dict.setdefault('b',5)) #2\n",
    "print(my_dict) # {'b': 2, 'c': 3, 'e': 5, }\n",
    "print(my_dict.setdefault('f'))# None\n",
    "print(my_dict) # {'b': 2, 'c': 3, 'e': 5,'f': None}\n",
    "print(my_dict.setdefault('h',9)) #9\n",
    "print(my_dict)# {'b': 2, 'c': 3, 'e': 5, 'f': None, 'h': 9}\n",
    "print(my_dict.items()) #dict_items([('b', 2), ('c', 3), ('e', 5), ('f', None), ('h', 9)])"
   ]
  },
  {
   "cell_type": "code",
   "execution_count": 95,
   "id": "91cd89de-6875-4e86-868f-d8bc3de2b9e4",
   "metadata": {},
   "outputs": [
    {
     "name": "stdout",
     "output_type": "stream",
     "text": [
      "b 2\n",
      "c 3\n",
      "e 5\n",
      "f None\n",
      "h 9\n"
     ]
    }
   ],
   "source": [
    "for k,v in my_dict.items():\n",
    "    print(k,v)"
   ]
  },
  {
   "cell_type": "code",
   "execution_count": 97,
   "id": "ad7fd91b-c713-42a6-aeed-bc2a1a6efe43",
   "metadata": {},
   "outputs": [
    {
     "data": {
      "text/plain": [
       "{'b': 2, 'c': 3, 'e': 5, 'f': None, 'h': 9}"
      ]
     },
     "execution_count": 97,
     "metadata": {},
     "output_type": "execute_result"
    }
   ],
   "source": [
    "my_dict"
   ]
  },
  {
   "cell_type": "code",
   "execution_count": 96,
   "id": "fba82e81",
   "metadata": {},
   "outputs": [
    {
     "data": {
      "text/plain": [
       "5"
      ]
     },
     "execution_count": 96,
     "metadata": {},
     "output_type": "execute_result"
    }
   ],
   "source": [
    "my_dict['e']"
   ]
  },
  {
   "cell_type": "code",
   "execution_count": 99,
   "id": "9ea7b729",
   "metadata": {
    "scrolled": true
   },
   "outputs": [
    {
     "name": "stdout",
     "output_type": "stream",
     "text": [
      "{'a': 5, 'b': 3, 'e': 13, 'c': 4}\n",
      "{'b': 3, 'c': 4, 'a': 5}\n",
      "{'a': 1, 'b': 3, 'c': 4}\n",
      "{'a': 1, 'b': 3, 'c': 4, 'd': 5}\n"
     ]
    }
   ],
   "source": [
    "my_dict = {'a': 1, 'b': 2,'e':13}\n",
    "other_dict = {'b': 3, 'c': 4,'a':5}\n",
    "# {'a': 1, 'b': 2,'e':13, 'b': 3, 'c': 4,'a':5}\n",
    "my_dict.update(other_dict)\n",
    "print(my_dict)  \n",
    "print(other_dict)  \n",
    "my_dict = {'a': 1, 'b': 2}\n",
    "my_dict.update([('b', 3), ('c', 4)])\n",
    "print(my_dict) \n",
    "my_dict.update([('d', 5)])\n",
    "print(my_dict)"
   ]
  },
  {
   "cell_type": "code",
   "execution_count": null,
   "id": "58aca87b-c957-41df-8d46-cac13272d81b",
   "metadata": {},
   "outputs": [],
   "source": [
    "# |="
   ]
  },
  {
   "cell_type": "code",
   "execution_count": null,
   "id": "75aa581a",
   "metadata": {},
   "outputs": [],
   "source": [
    "for a, b in my_dict.items():\n",
    "    print(a,b)"
   ]
  }
 ],
 "metadata": {
  "kernelspec": {
   "display_name": "Python 3 (ipykernel)",
   "language": "python",
   "name": "python3"
  },
  "language_info": {
   "codemirror_mode": {
    "name": "ipython",
    "version": 3
   },
   "file_extension": ".py",
   "mimetype": "text/x-python",
   "name": "python",
   "nbconvert_exporter": "python",
   "pygments_lexer": "ipython3",
   "version": "3.12.7"
  }
 },
 "nbformat": 4,
 "nbformat_minor": 5
}
