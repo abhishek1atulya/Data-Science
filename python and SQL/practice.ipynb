{
 "cells": [
  {
   "cell_type": "code",
   "execution_count": 3,
   "id": "0a4b3bb2",
   "metadata": {},
   "outputs": [],
   "source": [
    "def longest(s):\n",
    "    temp=''\n",
    "    m=0\n",
    "    for i in s:\n",
    "        if i not in temp:\n",
    "            temp+=i\n",
    "        else:\n",
    "            temp= temp[temp.index(i)+1:]+i\n",
    "        if len(temp)>m:\n",
    "                m=len(temp)\n",
    "    return m"
   ]
  },
  {
   "cell_type": "code",
   "execution_count": 4,
   "id": "3688d625",
   "metadata": {},
   "outputs": [
    {
     "data": {
      "text/plain": [
       "3"
      ]
     },
     "execution_count": 4,
     "metadata": {},
     "output_type": "execute_result"
    }
   ],
   "source": [
    "longest('pwwkew')"
   ]
  },
  {
   "cell_type": "code",
   "execution_count": 7,
   "id": "1a760402",
   "metadata": {},
   "outputs": [
    {
     "name": "stdout",
     "output_type": "stream",
     "text": [
      "1 2\n",
      "2 2\n"
     ]
    }
   ],
   "source": [
    "a,b = 1,2\n",
    "print(a,b)\n",
    "a=b\n",
    "b=a\n",
    "print(a,b)"
   ]
  },
  {
   "cell_type": "code",
   "execution_count": 8,
   "id": "fcfd8283",
   "metadata": {},
   "outputs": [
    {
     "name": "stdout",
     "output_type": "stream",
     "text": [
      "1 2\n",
      "2 1\n"
     ]
    }
   ],
   "source": [
    "a,b = 1,2\n",
    "print(a,b)\n",
    "a,b=b,a\n",
    "print(a,b)"
   ]
  },
  {
   "cell_type": "code",
   "execution_count": 9,
   "id": "cbc4d6c9",
   "metadata": {},
   "outputs": [
    {
     "data": {
      "text/plain": [
       "[1, 2, 3, 4, 4, 5, 5, 5, 6, 6, 6, 7, 7, 7, 8, 9, 10, 10, 11, 13]"
      ]
     },
     "execution_count": 9,
     "metadata": {},
     "output_type": "execute_result"
    }
   ],
   "source": [
    "# merge sort\n",
    "# (m+n)//2\n",
    "l1=[1,2,3,4,5,5,6,7,7]\n",
    "l2=[4,5,6,6,7,8,9,10,10,11,13]\n",
    "i=0\n",
    "j=0\n",
    "l=[]\n",
    "flag=True\n",
    "while flag:\n",
    "    if l1[i]<l2[j]:\n",
    "        l.append(l1[i])\n",
    "        i+=1\n",
    "    else:\n",
    "        l.append(l2[j])\n",
    "        j+=1\n",
    "    if i==len(l1):\n",
    "        l.extend(l2[j:]) \n",
    "        flag=False\n",
    "    elif j==len(l2):\n",
    "        l.extend(l1[i:]) \n",
    "        flag=False\n",
    "l"
   ]
  },
  {
   "cell_type": "code",
   "execution_count": 15,
   "id": "c326eaeb",
   "metadata": {},
   "outputs": [],
   "source": [
    "def medien(l1,l2):\n",
    "    i=0\n",
    "    j=0\n",
    "    l=[]\n",
    "    n=(len(l1)+len(l2))//2\n",
    "    flag=True\n",
    "    while flag and len(l)<=n+1:\n",
    "        if l1[i]<l2[j]:\n",
    "            l.append(l1[i])\n",
    "            i+=1\n",
    "        else:\n",
    "            l.append(l2[j])\n",
    "            j+=1\n",
    "        if i==len(l1):\n",
    "            l.extend(l2[j:]) \n",
    "            flag=False\n",
    "        elif j==len(l2):\n",
    "            l.extend(l1[i:]) \n",
    "            flag=False\n",
    "    if n%2==0:\n",
    "        return(l[n-1]+l[n])/2\n",
    "    else:\n",
    "        return l[n]"
   ]
  },
  {
   "cell_type": "code",
   "execution_count": 16,
   "id": "bbfd35d1",
   "metadata": {},
   "outputs": [
    {
     "data": {
      "text/plain": [
       "6.0"
      ]
     },
     "execution_count": 16,
     "metadata": {},
     "output_type": "execute_result"
    }
   ],
   "source": [
    "l1=[1,2,3,4,5,5,6,7,7]\n",
    "l2=[4,5,6,6,7,8,9,10,10,11,13]\n",
    "medien(l1,l2)"
   ]
  },
  {
   "cell_type": "code",
   "execution_count": 13,
   "id": "96acc0b9",
   "metadata": {},
   "outputs": [
    {
     "data": {
      "text/plain": [
       "'12'"
      ]
     },
     "execution_count": 13,
     "metadata": {},
     "output_type": "execute_result"
    }
   ],
   "source": [
    "str(1).__add__('2')"
   ]
  },
  {
   "cell_type": "code",
   "execution_count": null,
   "id": "08d1981c",
   "metadata": {},
   "outputs": [],
   "source": []
  }
 ],
 "metadata": {
  "kernelspec": {
   "display_name": "Python 3 (ipykernel)",
   "language": "python",
   "name": "python3"
  },
  "language_info": {
   "codemirror_mode": {
    "name": "ipython",
    "version": 3
   },
   "file_extension": ".py",
   "mimetype": "text/x-python",
   "name": "python",
   "nbconvert_exporter": "python",
   "pygments_lexer": "ipython3",
   "version": "3.10.9"
  }
 },
 "nbformat": 4,
 "nbformat_minor": 5
}
