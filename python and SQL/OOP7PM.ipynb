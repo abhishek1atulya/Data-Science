{
 "cells": [
  {
   "cell_type": "code",
   "execution_count": 34,
   "id": "001c86aa-278f-4231-b300-442aebcdc8e6",
   "metadata": {},
   "outputs": [],
   "source": [
    "class Vehical:\n",
    "    c=0\n",
    "    def __init__(self,s):\n",
    "        print('id of self: ', id(self))\n",
    "        print(f'this is {s}') \n",
    "    def run(self):\n",
    "        print('this can run')\n",
    "    def wheels(self):\n",
    "        print('it will have wheels')\n",
    "    def abcd():\n",
    "        print('this is non living things')"
   ]
  },
  {
   "cell_type": "code",
   "execution_count": 46,
   "id": "88c6bf1c-c5e6-48c4-87f0-f99202f0d147",
   "metadata": {},
   "outputs": [],
   "source": [
    "# whenever you call any method by using object of a class the value of object automatically passes within the function \n",
    "# that's why we do not need to pass the value of self separately\n",
    "# whenever you call any method by using class name then you have to pass all the arguments of that function including self \n",
    "# if self is used as a variable name"
   ]
  },
  {
   "cell_type": "code",
   "execution_count": 35,
   "id": "ec1061a6-37df-4638-9aed-dca2c95327de",
   "metadata": {},
   "outputs": [
    {
     "data": {
      "text/plain": [
       "0"
      ]
     },
     "execution_count": 35,
     "metadata": {},
     "output_type": "execute_result"
    }
   ],
   "source": [
    "Vehical.c"
   ]
  },
  {
   "cell_type": "code",
   "execution_count": 47,
   "id": "899b7cbf-fd61-4e90-a5d9-3d6bb3c4cebc",
   "metadata": {
    "scrolled": true
   },
   "outputs": [
    {
     "name": "stdout",
     "output_type": "stream",
     "text": [
      "id of self:  1783235524848\n",
      "this is bike\n"
     ]
    }
   ],
   "source": [
    "bike = Vehical('bike')"
   ]
  },
  {
   "cell_type": "code",
   "execution_count": 48,
   "id": "4660f8a0-9a8c-415a-94c7-2b2a766a30ed",
   "metadata": {},
   "outputs": [
    {
     "data": {
      "text/plain": [
       "1783235524848"
      ]
     },
     "execution_count": 48,
     "metadata": {},
     "output_type": "execute_result"
    }
   ],
   "source": [
    "id(bike)"
   ]
  },
  {
   "cell_type": "code",
   "execution_count": 36,
   "id": "dc0dbd56-a717-406e-9366-7a7cbe1f4cb2",
   "metadata": {
    "scrolled": true
   },
   "outputs": [
    {
     "name": "stdout",
     "output_type": "stream",
     "text": [
      "this can run\n"
     ]
    }
   ],
   "source": [
    "bike.run()"
   ]
  },
  {
   "cell_type": "code",
   "execution_count": 40,
   "id": "0ad9ab13-dd88-42de-9efd-0a343caac390",
   "metadata": {},
   "outputs": [
    {
     "name": "stdout",
     "output_type": "stream",
     "text": [
      "it will have wheels\n"
     ]
    }
   ],
   "source": [
    "Vehical.wheels(11)"
   ]
  },
  {
   "cell_type": "code",
   "execution_count": 34,
   "id": "7021b07e-73e3-4e1c-88be-ca7247d0eac9",
   "metadata": {},
   "outputs": [
    {
     "name": "stdout",
     "output_type": "stream",
     "text": [
      "this is non living things\n"
     ]
    }
   ],
   "source": [
    "Vehical.abcd()"
   ]
  },
  {
   "cell_type": "code",
   "execution_count": 38,
   "id": "8e627990-90b2-416f-adba-42ddcf8115f2",
   "metadata": {},
   "outputs": [
    {
     "name": "stdout",
     "output_type": "stream",
     "text": [
      "this is Scorpio\n"
     ]
    }
   ],
   "source": [
    "lorry = Vehical('Scorpio')"
   ]
  },
  {
   "cell_type": "code",
   "execution_count": 33,
   "id": "6dae9a72-7898-40b5-91d0-d2fbd7a9e542",
   "metadata": {
    "scrolled": true
   },
   "outputs": [
    {
     "ename": "TypeError",
     "evalue": "Vehical.abcd() takes 0 positional arguments but 1 was given",
     "output_type": "error",
     "traceback": [
      "\u001b[1;31m---------------------------------------------------------------------------\u001b[0m",
      "\u001b[1;31mTypeError\u001b[0m                                 Traceback (most recent call last)",
      "Cell \u001b[1;32mIn[33], line 1\u001b[0m\n\u001b[1;32m----> 1\u001b[0m bike\u001b[38;5;241m.\u001b[39mabcd()\n",
      "\u001b[1;31mTypeError\u001b[0m: Vehical.abcd() takes 0 positional arguments but 1 was given"
     ]
    }
   ],
   "source": [
    "bike.abcd()"
   ]
  },
  {
   "cell_type": "code",
   "execution_count": 35,
   "id": "a3414253-4b8e-43d0-865a-387456623646",
   "metadata": {},
   "outputs": [
    {
     "name": "stdout",
     "output_type": "stream",
     "text": [
      "this can run\n"
     ]
    }
   ],
   "source": [
    "bike.run()"
   ]
  },
  {
   "cell_type": "code",
   "execution_count": 27,
   "id": "23831008-adcf-4576-b317-f18117c78642",
   "metadata": {},
   "outputs": [
    {
     "name": "stdout",
     "output_type": "stream",
     "text": [
      "this is car\n"
     ]
    }
   ],
   "source": [
    "car = Vehical('car')"
   ]
  },
  {
   "cell_type": "code",
   "execution_count": 28,
   "id": "9d98ac9f-99ca-47c9-91e4-525e44311200",
   "metadata": {},
   "outputs": [
    {
     "name": "stdout",
     "output_type": "stream",
     "text": [
      "this can run\n"
     ]
    }
   ],
   "source": [
    "car.run()"
   ]
  },
  {
   "cell_type": "code",
   "execution_count": 29,
   "id": "e3eab730-3010-4b42-9429-8e9dd65c7284",
   "metadata": {},
   "outputs": [
    {
     "name": "stdout",
     "output_type": "stream",
     "text": [
      "it will have wheels\n"
     ]
    }
   ],
   "source": [
    "car.wheels()"
   ]
  },
  {
   "cell_type": "code",
   "execution_count": 3,
   "id": "14a96064-1e32-4621-a118-35d6f98fbb36",
   "metadata": {},
   "outputs": [],
   "source": [
    "d = {123: [1234, 5000], 451: [4321, 10000], 120: [9876, 50000], 100: [7890, 100000]}"
   ]
  },
  {
   "cell_type": "code",
   "execution_count": 61,
   "id": "35f81983-2a00-4712-8000-d40184534024",
   "metadata": {},
   "outputs": [],
   "source": [
    "class Atm:\n",
    "    __counter = 0\n",
    "    def __init__(self,card_number:int):\n",
    "        Atm.__counter+=1\n",
    "        self.card = card_number # instance variable\n",
    "        self.__balance = d.get(card_number)[1] # instance variable ( incapsulated variable )\n",
    "        self.__pin = d.get(card_number)[0] # instance variable  ( incapsulated variable )\n",
    "        # print('balance:',self.balance, 'pin:', self.pin)\n",
    "        c=0\n",
    "        while True:\n",
    "            p = int(input('Enter your pin: '))\n",
    "            if p == self.__pin:\n",
    "                self.__menu()\n",
    "                break\n",
    "            elif c>2:\n",
    "                print('Your account is blocked for 24 hours')\n",
    "                break\n",
    "            else:\n",
    "                print('Wrong Pin Please Enter the correct Pin')\n",
    "            c+=1\n",
    "    def __menu(self):\n",
    "        n = int(input('''\n",
    "            Enter 1 withdraw the amount: \n",
    "            Enter 2 to deposit the amount:\n",
    "            Enter 3 to check the balance\n",
    "            Enter 4 to change the pin\n",
    "            '''))\n",
    "        if n ==1:\n",
    "            self.__withdraw()\n",
    "        elif n== 3:\n",
    "            self.__check_balance()\n",
    "        elif n==2:\n",
    "            self.__deposit()\n",
    "        elif n==4:\n",
    "            self.__change_pin()\n",
    "        else:\n",
    "            print('Thank you')\n",
    "            \n",
    "    def __withdraw(self):\n",
    "        amount = int(input('Enter the Amount: '))\n",
    "        fetched_amount = d.get(self.card)[1]\n",
    "        if amount <= fetched_amount:\n",
    "            d.get(self.card)[1]-=amount\n",
    "            print('Amount withdrwal successful ')\n",
    "        else:\n",
    "            print(\"Insuffient Balance\")\n",
    "        self.__menu()\n",
    "    def __check_balance(self):\n",
    "        print('Your account balance is: ', d.get(self.card)[1])\n",
    "        self.__menu()\n",
    "    def __deposit(self):\n",
    "        amount = int(input('Enter the Amount: '))\n",
    "        d.get(self.card)[1] += amount\n",
    "        print('Amount deposit successful ')\n",
    "        self.__menu()\n",
    "    def __change_pin(self):\n",
    "        n = int(input('Enter your old pin: '))\n",
    "        if n== self.__pin:\n",
    "            n = int(input('Enter your new pin: '))\n",
    "            d.get(self.card)[0]=n\n",
    "        else:\n",
    "            print('Incorrect Pin')\n",
    "        self.__menu()"
   ]
  },
  {
   "cell_type": "code",
   "execution_count": 62,
   "id": "40c5a060-9e43-4bb5-a1f8-4c08cd483e16",
   "metadata": {},
   "outputs": [
    {
     "name": "stdin",
     "output_type": "stream",
     "text": [
      "Enter your pin:  1234\n",
      "\n",
      "            Enter 1 withdraw the amount: \n",
      "            Enter 2 to deposit the amount:\n",
      "            Enter 3 to check the balance\n",
      "            Enter 4 to change the pin\n",
      "             0\n"
     ]
    },
    {
     "name": "stdout",
     "output_type": "stream",
     "text": [
      "Thank you\n"
     ]
    }
   ],
   "source": [
    "a =  Atm(451)"
   ]
  },
  {
   "cell_type": "code",
   "execution_count": 27,
   "id": "6cf3be17-258b-4c2d-9e8d-423599e473ce",
   "metadata": {},
   "outputs": [
    {
     "data": {
      "text/plain": [
       "12000"
      ]
     },
     "execution_count": 27,
     "metadata": {},
     "output_type": "execute_result"
    }
   ],
   "source": [
    "# a.__balance \n",
    "# -> _Atm__balance\n",
    "a._Atm__balance"
   ]
  },
  {
   "cell_type": "code",
   "execution_count": 28,
   "id": "9e1fdd5d-f2ba-4a6a-a7d9-dd062952136c",
   "metadata": {},
   "outputs": [
    {
     "data": {
      "text/plain": [
       "1234"
      ]
     },
     "execution_count": 28,
     "metadata": {},
     "output_type": "execute_result"
    }
   ],
   "source": [
    "a._Atm__pin"
   ]
  },
  {
   "cell_type": "code",
   "execution_count": 38,
   "id": "cd05f2d3-b003-4d5e-9c79-0bd19bcd88b9",
   "metadata": {},
   "outputs": [
    {
     "name": "stdin",
     "output_type": "stream",
     "text": [
      "Enter your pin:  1234\n",
      "\n",
      "            Enter 1 withdraw the amount: \n",
      "            Enter 2 to deposit the amount:\n",
      "            Enter 3 to check the balance\n",
      "            Enter 4 to change the pin\n",
      "             0\n"
     ]
    },
    {
     "name": "stdout",
     "output_type": "stream",
     "text": [
      "Thank you\n"
     ]
    }
   ],
   "source": [
    "b= Atm(123)"
   ]
  },
  {
   "cell_type": "code",
   "execution_count": 50,
   "id": "267dfba6-d4e0-4b68-a709-8b0cef807c15",
   "metadata": {},
   "outputs": [
    {
     "data": {
      "text/plain": [
       "1"
      ]
     },
     "execution_count": 50,
     "metadata": {},
     "output_type": "execute_result"
    }
   ],
   "source": [
    "a._Atm__counter"
   ]
  },
  {
   "cell_type": "code",
   "execution_count": 40,
   "id": "cc5d9e09-41f5-4fdd-931d-5de57c469ad9",
   "metadata": {},
   "outputs": [
    {
     "data": {
      "text/plain": [
       "2"
      ]
     },
     "execution_count": 40,
     "metadata": {},
     "output_type": "execute_result"
    }
   ],
   "source": [
    "Atm.counter"
   ]
  },
  {
   "cell_type": "code",
   "execution_count": 41,
   "id": "73d00407-0d42-433d-87de-fdc9cc795209",
   "metadata": {},
   "outputs": [
    {
     "name": "stdin",
     "output_type": "stream",
     "text": [
      "Enter your pin:  9876\n",
      "\n",
      "            Enter 1 withdraw the amount: \n",
      "            Enter 2 to deposit the amount:\n",
      "            Enter 3 to check the balance\n",
      "            Enter 4 to change the pin\n",
      "             0\n"
     ]
    },
    {
     "name": "stdout",
     "output_type": "stream",
     "text": [
      "Thank you\n"
     ]
    }
   ],
   "source": [
    "c= Atm(120)"
   ]
  },
  {
   "cell_type": "code",
   "execution_count": 42,
   "id": "94f9d9cb-e816-4c87-942d-f738f5fe838d",
   "metadata": {},
   "outputs": [
    {
     "data": {
      "text/plain": [
       "3"
      ]
     },
     "execution_count": 42,
     "metadata": {},
     "output_type": "execute_result"
    }
   ],
   "source": [
    "Atm.counter"
   ]
  },
  {
   "cell_type": "code",
   "execution_count": 52,
   "id": "6b4928a0-5220-4de9-a171-07cad5d7c957",
   "metadata": {},
   "outputs": [
    {
     "data": {
      "text/plain": [
       "[__main__.Atm, object]"
      ]
     },
     "execution_count": 52,
     "metadata": {},
     "output_type": "execute_result"
    }
   ],
   "source": [
    "Atm.mro()"
   ]
  },
  {
   "cell_type": "code",
   "execution_count": 53,
   "id": "a1a3711b-9097-479e-bf47-fe427ee448fd",
   "metadata": {},
   "outputs": [
    {
     "data": {
      "text/plain": [
       "451"
      ]
     },
     "execution_count": 53,
     "metadata": {},
     "output_type": "execute_result"
    }
   ],
   "source": [
    "a.card"
   ]
  },
  {
   "cell_type": "code",
   "execution_count": 54,
   "id": "9a8b1bec-27fb-4dea-8d66-471a23adfaec",
   "metadata": {},
   "outputs": [
    {
     "name": "stdin",
     "output_type": "stream",
     "text": [
      "\n",
      "            Enter 1 withdraw the amount: \n",
      "            Enter 2 to deposit the amount:\n",
      "            Enter 3 to check the balance\n",
      "            Enter 4 to change the pin\n",
      "             0\n"
     ]
    },
    {
     "name": "stdout",
     "output_type": "stream",
     "text": [
      "Thank you\n"
     ]
    }
   ],
   "source": [
    "a.menu()"
   ]
  },
  {
   "cell_type": "code",
   "execution_count": 58,
   "id": "df386997-be07-42d0-b336-fa46e447fd20",
   "metadata": {},
   "outputs": [
    {
     "ename": "AttributeError",
     "evalue": "'Atm' object has no attribute 'check_balance'",
     "output_type": "error",
     "traceback": [
      "\u001b[1;31m---------------------------------------------------------------------------\u001b[0m",
      "\u001b[1;31mAttributeError\u001b[0m                            Traceback (most recent call last)",
      "Cell \u001b[1;32mIn[58], line 1\u001b[0m\n\u001b[1;32m----> 1\u001b[0m a\u001b[38;5;241m.\u001b[39mcheck_balance()\n",
      "\u001b[1;31mAttributeError\u001b[0m: 'Atm' object has no attribute 'check_balance'"
     ]
    }
   ],
   "source": [
    "a."
   ]
  },
  {
   "cell_type": "code",
   "execution_count": 63,
   "id": "1e6ebb6c-460b-4224-b8bf-9d428c6dbb14",
   "metadata": {},
   "outputs": [
    {
     "data": {
      "text/plain": [
       "451"
      ]
     },
     "execution_count": 63,
     "metadata": {},
     "output_type": "execute_result"
    }
   ],
   "source": [
    "a.card"
   ]
  },
  {
   "cell_type": "code",
   "execution_count": 33,
   "id": "aac9106b-12f8-429f-8fd6-0ed2b38972d1",
   "metadata": {},
   "outputs": [],
   "source": [
    "class Plastic:\n",
    "    bp=150 # class/static variable\n",
    "    def __init__(self,a,v):\n",
    "        self.a = a # instance variable/ Object variable\n",
    "        self.b = v\n",
    "        print(f'this is a {a}')\n",
    "    def __add__(self, i):\n",
    "        pass\n",
    "    def __mul__(self,s):\n",
    "        print('anything')"
   ]
  },
  {
   "cell_type": "code",
   "execution_count": 34,
   "id": "98c31e32-658d-4486-b691-bcd9a016864f",
   "metadata": {},
   "outputs": [
    {
     "name": "stdout",
     "output_type": "stream",
     "text": [
      "this is a bootle\n"
     ]
    }
   ],
   "source": [
    "bot = Plastic('bootle',1)"
   ]
  },
  {
   "cell_type": "code",
   "execution_count": 35,
   "id": "2a5c6edc-7e2d-4f28-9ad5-0da64c4dc9ca",
   "metadata": {},
   "outputs": [],
   "source": [
    "bot+1"
   ]
  },
  {
   "cell_type": "code",
   "execution_count": 36,
   "id": "9738ef23-530b-4b5f-a23c-7672089025ca",
   "metadata": {},
   "outputs": [
    {
     "name": "stdout",
     "output_type": "stream",
     "text": [
      "anything\n"
     ]
    }
   ],
   "source": [
    "bot*1"
   ]
  },
  {
   "cell_type": "code",
   "execution_count": 7,
   "id": "e9c7aa70-ffcf-4c53-b69c-27fde135bb68",
   "metadata": {},
   "outputs": [
    {
     "data": {
      "text/plain": [
       "'bootle'"
      ]
     },
     "execution_count": 7,
     "metadata": {},
     "output_type": "execute_result"
    }
   ],
   "source": [
    "bot.a"
   ]
  },
  {
   "cell_type": "code",
   "execution_count": 8,
   "id": "93ae7af1-95a1-4876-9889-6cb7d1769f6b",
   "metadata": {},
   "outputs": [
    {
     "data": {
      "text/plain": [
       "1"
      ]
     },
     "execution_count": 8,
     "metadata": {},
     "output_type": "execute_result"
    }
   ],
   "source": [
    "bot.b"
   ]
  },
  {
   "cell_type": "code",
   "execution_count": 9,
   "id": "33017917-c628-470a-a362-fab7c97ee5db",
   "metadata": {
    "scrolled": true
   },
   "outputs": [
    {
     "data": {
      "text/plain": [
       "150"
      ]
     },
     "execution_count": 9,
     "metadata": {},
     "output_type": "execute_result"
    }
   ],
   "source": [
    "Plastic.bp"
   ]
  },
  {
   "cell_type": "code",
   "execution_count": 10,
   "id": "cb5d1580-10fb-46a7-ab9a-3478da0bacd7",
   "metadata": {},
   "outputs": [
    {
     "data": {
      "text/plain": [
       "150"
      ]
     },
     "execution_count": 10,
     "metadata": {},
     "output_type": "execute_result"
    }
   ],
   "source": [
    "bot.bp"
   ]
  },
  {
   "cell_type": "code",
   "execution_count": 11,
   "id": "5dd35257-dbb3-4bcb-ab2f-787c40285b4f",
   "metadata": {
    "scrolled": true
   },
   "outputs": [
    {
     "ename": "AttributeError",
     "evalue": "type object 'Plastic' has no attribute 'a'",
     "output_type": "error",
     "traceback": [
      "\u001b[1;31m---------------------------------------------------------------------------\u001b[0m",
      "\u001b[1;31mAttributeError\u001b[0m                            Traceback (most recent call last)",
      "Cell \u001b[1;32mIn[11], line 1\u001b[0m\n\u001b[1;32m----> 1\u001b[0m Plastic\u001b[38;5;241m.\u001b[39ma\n",
      "\u001b[1;31mAttributeError\u001b[0m: type object 'Plastic' has no attribute 'a'"
     ]
    }
   ],
   "source": [
    "Plastic.a"
   ]
  },
  {
   "cell_type": "code",
   "execution_count": 12,
   "id": "64f7b058-71f1-4cff-8f59-12881cbebfe8",
   "metadata": {},
   "outputs": [],
   "source": [
    "Plastic.bp=300"
   ]
  },
  {
   "cell_type": "code",
   "execution_count": 13,
   "id": "fa401f29-e0c1-4347-8d98-9cb0420f7b6d",
   "metadata": {},
   "outputs": [
    {
     "data": {
      "text/plain": [
       "300"
      ]
     },
     "execution_count": 13,
     "metadata": {},
     "output_type": "execute_result"
    }
   ],
   "source": [
    "bot.bp"
   ]
  },
  {
   "cell_type": "code",
   "execution_count": 14,
   "id": "66b5cb48-7777-48b6-9d9f-fbac67ad3968",
   "metadata": {},
   "outputs": [],
   "source": [
    "bot.bp=200"
   ]
  },
  {
   "cell_type": "code",
   "execution_count": 15,
   "id": "12127fb3-d746-4ecf-a935-5484e6a37be2",
   "metadata": {},
   "outputs": [
    {
     "data": {
      "text/plain": [
       "200"
      ]
     },
     "execution_count": 15,
     "metadata": {},
     "output_type": "execute_result"
    }
   ],
   "source": [
    "bot.bp"
   ]
  },
  {
   "cell_type": "code",
   "execution_count": 16,
   "id": "95986cef-482a-4412-8195-7d4650634536",
   "metadata": {},
   "outputs": [
    {
     "data": {
      "text/plain": [
       "300"
      ]
     },
     "execution_count": 16,
     "metadata": {},
     "output_type": "execute_result"
    }
   ],
   "source": [
    "Plastic.bp"
   ]
  },
  {
   "cell_type": "code",
   "execution_count": 17,
   "id": "7a61b84c-0e09-48f5-9a09-6f9a334c0568",
   "metadata": {},
   "outputs": [],
   "source": [
    "Plastic.bp=350"
   ]
  },
  {
   "cell_type": "code",
   "execution_count": 18,
   "id": "2e294a72-20ef-4906-bf98-bd56f02dbf8c",
   "metadata": {},
   "outputs": [
    {
     "data": {
      "text/plain": [
       "200"
      ]
     },
     "execution_count": 18,
     "metadata": {},
     "output_type": "execute_result"
    }
   ],
   "source": [
    "bot.bp"
   ]
  },
  {
   "cell_type": "code",
   "execution_count": 146,
   "id": "cea5290c-ffa3-4638-a75f-7311e868068c",
   "metadata": {},
   "outputs": [],
   "source": [
    "class Fraction:\n",
    "    def __init__(self,n,d=1):\n",
    "        self.n = n\n",
    "        self.d = d\n",
    "    def __str__(self):\n",
    "        return f'{self.n}/{self.d}' \n",
    "    def __add__(self,a):\n",
    "        if isinstance(a, Fraction):\n",
    "            new_n = self.n*a.d + self.d*a.n\n",
    "            new_d = self.d*a.d\n",
    "            return Fraction(new_n,new_d)\n",
    "        else:\n",
    "            a =  Fraction(a)\n",
    "            new_n = self.n*a.d + self.d*a.n\n",
    "            new_d = self.d*a.d\n",
    "            return Fraction(new_n,new_d)\n",
    "    def __mul__(self,f):\n",
    "        if isinstance(f,Fraction):\n",
    "            new_n = self.n*f.n\n",
    "            new_d = self.d*f.d\n",
    "            return Fraction(new_n,new_d)\n",
    "        else:\n",
    "            f = Fraction(f)\n",
    "            new_n = self.n*f.n\n",
    "            new_d = self.d*f.d\n",
    "            return Fraction(new_n,new_d)\n",
    "    def __sub__(self,f):\n",
    "        pass\n",
    "    def __truediv__(self,f):\n",
    "        pass"
   ]
  },
  {
   "cell_type": "code",
   "execution_count": 147,
   "id": "551e7416-fc5e-4714-bcdf-1444f1323714",
   "metadata": {},
   "outputs": [],
   "source": [
    "x= Fraction(2,3)\n"
   ]
  },
  {
   "cell_type": "code",
   "execution_count": 148,
   "id": "7d629229-0ac0-4210-a427-7c265a3b8f0a",
   "metadata": {},
   "outputs": [
    {
     "name": "stdout",
     "output_type": "stream",
     "text": [
      "2/3\n"
     ]
    }
   ],
   "source": [
    "print(x)"
   ]
  },
  {
   "cell_type": "code",
   "execution_count": 149,
   "id": "caff7cd1-a228-4633-91ec-1762f17e86ec",
   "metadata": {},
   "outputs": [
    {
     "name": "stdout",
     "output_type": "stream",
     "text": [
      "1/2\n"
     ]
    },
    {
     "data": {
      "text/plain": [
       "2"
      ]
     },
     "execution_count": 149,
     "metadata": {},
     "output_type": "execute_result"
    }
   ],
   "source": [
    "y = Fraction(1,2)\n",
    "print(y)\n",
    "Fraction(1,2).d"
   ]
  },
  {
   "cell_type": "code",
   "execution_count": 150,
   "id": "5f4d8296-2046-426c-a90f-2b3733c97ab0",
   "metadata": {},
   "outputs": [
    {
     "name": "stdout",
     "output_type": "stream",
     "text": [
      "7/6\n"
     ]
    }
   ],
   "source": [
    "print(x+y)"
   ]
  },
  {
   "cell_type": "code",
   "execution_count": 151,
   "id": "c06d7968-fd14-452f-9db0-374a381c4825",
   "metadata": {},
   "outputs": [
    {
     "name": "stdout",
     "output_type": "stream",
     "text": [
      "8/3\n"
     ]
    }
   ],
   "source": [
    "print(x+2)"
   ]
  },
  {
   "cell_type": "code",
   "execution_count": 152,
   "id": "52301cfc-ab6d-43d0-9b71-2fc620e5e57e",
   "metadata": {},
   "outputs": [
    {
     "name": "stdout",
     "output_type": "stream",
     "text": [
      "2/6\n"
     ]
    }
   ],
   "source": [
    "print(x*y)"
   ]
  },
  {
   "cell_type": "code",
   "execution_count": 153,
   "id": "42699189-f7a7-4246-80a3-a0f8b14c694e",
   "metadata": {},
   "outputs": [
    {
     "name": "stdout",
     "output_type": "stream",
     "text": [
      "4/3\n"
     ]
    }
   ],
   "source": [
    "print(x*2)"
   ]
  },
  {
   "cell_type": "code",
   "execution_count": 154,
   "id": "1d36589d-adf2-4cf2-b1c5-f5b908be8e49",
   "metadata": {},
   "outputs": [],
   "source": [
    "class Baloon:\n",
    "    def __init__(self,v):\n",
    "        self.volume = v\n",
    "    def __add__(self,b):\n",
    "        return self.volume + b.volume"
   ]
  },
  {
   "cell_type": "code",
   "execution_count": 155,
   "id": "76711ffc-926d-4da9-b237-b530e11c5ad3",
   "metadata": {},
   "outputs": [
    {
     "data": {
      "text/plain": [
       "3"
      ]
     },
     "execution_count": 155,
     "metadata": {},
     "output_type": "execute_result"
    }
   ],
   "source": [
    "Baloon(1)+Baloon(2)"
   ]
  },
  {
   "cell_type": "code",
   "execution_count": 8,
   "id": "e792d141-ba63-424c-9412-65ca1d4eef7b",
   "metadata": {},
   "outputs": [],
   "source": [
    "# Agreegation\n",
    "class Address:\n",
    "    def __init__(self, pin, city, state):\n",
    "        self.pin = pin\n",
    "        self.city = city\n",
    "        self.state = state\n",
    "        print('this is current address')\n",
    "\n",
    "    def change_address(self,new_pin, new_city, new_state):\n",
    "        self.pin = new_pin\n",
    "        self.city = new_city\n",
    "        self.state = new_state\n",
    "        print('address changed successfully')\n",
    "        \n",
    "class Emplyoyee:\n",
    "    def __init__(self,name, add, department):\n",
    "        self.name= name\n",
    "        self.add = add\n",
    "        self.department= department\n",
    "\n",
    "    def change_profile(self, new_name, new_department, new_pin, new_city, new_state):\n",
    "        self.name = new_name\n",
    "        self.department = new_department\n",
    "        self.add.change_address(new_pin, new_city, new_state)\n",
    "        print('new_profile created')"
   ]
  },
  {
   "cell_type": "code",
   "execution_count": 9,
   "id": "a2bbb53a-de77-4358-a3d1-d1c85ccac3bd",
   "metadata": {},
   "outputs": [
    {
     "name": "stdout",
     "output_type": "stream",
     "text": [
      "this is current address\n"
     ]
    }
   ],
   "source": [
    "Add = Address(201009, 'Noida', 'UP')"
   ]
  },
  {
   "cell_type": "code",
   "execution_count": 15,
   "id": "df056372-3e80-4c1f-8875-4f0fabc8906f",
   "metadata": {},
   "outputs": [
    {
     "data": {
      "text/plain": [
       "<__main__.Address at 0x29559b5ad20>"
      ]
     },
     "execution_count": 15,
     "metadata": {},
     "output_type": "execute_result"
    }
   ],
   "source": [
    "Add"
   ]
  },
  {
   "cell_type": "code",
   "execution_count": 10,
   "id": "cc4e49bd-0a05-4967-bf6f-f4a2e95892d0",
   "metadata": {},
   "outputs": [
    {
     "data": {
      "text/plain": [
       "'Noida'"
      ]
     },
     "execution_count": 10,
     "metadata": {},
     "output_type": "execute_result"
    }
   ],
   "source": [
    "Add.city"
   ]
  },
  {
   "cell_type": "code",
   "execution_count": 11,
   "id": "ff072ed7-ff57-4600-a517-31babbb30a23",
   "metadata": {},
   "outputs": [
    {
     "data": {
      "text/plain": [
       "'UP'"
      ]
     },
     "execution_count": 11,
     "metadata": {},
     "output_type": "execute_result"
    }
   ],
   "source": [
    "Add.state"
   ]
  },
  {
   "cell_type": "code",
   "execution_count": 12,
   "id": "e835d00f-e593-4817-a6e2-7d3bd869b0d3",
   "metadata": {},
   "outputs": [],
   "source": [
    "emp = Emplyoyee('Ananad', Add, 'Student')"
   ]
  },
  {
   "cell_type": "code",
   "execution_count": 13,
   "id": "56ad8987-35f4-4e32-90d2-a7e24fa0460e",
   "metadata": {},
   "outputs": [
    {
     "data": {
      "text/plain": [
       "'Ananad'"
      ]
     },
     "execution_count": 13,
     "metadata": {},
     "output_type": "execute_result"
    }
   ],
   "source": [
    "emp.name"
   ]
  },
  {
   "cell_type": "code",
   "execution_count": 16,
   "id": "b10741be-ef8f-4231-9809-55c3ffe50520",
   "metadata": {},
   "outputs": [
    {
     "data": {
      "text/plain": [
       "'Noida'"
      ]
     },
     "execution_count": 16,
     "metadata": {},
     "output_type": "execute_result"
    }
   ],
   "source": [
    "emp.add.city"
   ]
  },
  {
   "cell_type": "code",
   "execution_count": 17,
   "id": "893b5bf6-51e0-43f5-8a8f-402731e9f870",
   "metadata": {},
   "outputs": [
    {
     "data": {
      "text/plain": [
       "201009"
      ]
     },
     "execution_count": 17,
     "metadata": {},
     "output_type": "execute_result"
    }
   ],
   "source": [
    "emp.add.pin"
   ]
  },
  {
   "cell_type": "code",
   "execution_count": 18,
   "id": "875c48d1-e73d-4986-b20b-4267e5a36900",
   "metadata": {},
   "outputs": [
    {
     "name": "stdout",
     "output_type": "stream",
     "text": [
      "address changed successfully\n",
      "new_profile created\n"
     ]
    }
   ],
   "source": [
    "emp.change_profile('Indu','chemical engineer', 100109, 'Ghaziabad', 'UP')"
   ]
  },
  {
   "cell_type": "code",
   "execution_count": 19,
   "id": "009b59d1-b5a2-4380-a625-f3fc952ccdd1",
   "metadata": {},
   "outputs": [
    {
     "data": {
      "text/plain": [
       "'Indu'"
      ]
     },
     "execution_count": 19,
     "metadata": {},
     "output_type": "execute_result"
    }
   ],
   "source": [
    "emp.name"
   ]
  },
  {
   "cell_type": "code",
   "execution_count": 20,
   "id": "1aaa99b4-7bdd-4c0d-b7a5-eb8f357cdc72",
   "metadata": {},
   "outputs": [
    {
     "data": {
      "text/plain": [
       "100109"
      ]
     },
     "execution_count": 20,
     "metadata": {},
     "output_type": "execute_result"
    }
   ],
   "source": [
    "emp.add.pin"
   ]
  },
  {
   "cell_type": "code",
   "execution_count": 21,
   "id": "d68d9ae3-bf0d-47bf-8904-558c21922230",
   "metadata": {},
   "outputs": [
    {
     "data": {
      "text/plain": [
       "'Ghaziabad'"
      ]
     },
     "execution_count": 21,
     "metadata": {},
     "output_type": "execute_result"
    }
   ],
   "source": [
    "Add.city"
   ]
  },
  {
   "cell_type": "code",
   "execution_count": 55,
   "id": "05c16a52-8500-4b7c-98eb-3c59b8797799",
   "metadata": {},
   "outputs": [],
   "source": [
    "class Phone: # parent class\n",
    "    def __init__(self, brand, price, model): # constructor\n",
    "        self.brand = brand\n",
    "        self.price = price\n",
    "        self.model = model\n",
    "        print('this is the constructor of parent class')\n",
    "        print('Brand: ', brand, 'price: ', price,'model :', model )\n",
    "    def call(self):\n",
    "        print('voice calling')\n",
    "\n",
    "    def message(self):\n",
    "        print('message')\n",
    "\n",
    "    def network(self):\n",
    "        if self.model>3:\n",
    "            print('this supports 3g')\n",
    "        else:\n",
    "            print('it support 2g')"
   ]
  },
  {
   "cell_type": "code",
   "execution_count": 56,
   "id": "47dbe7b3-2ea9-494b-9798-12ce661ddf8a",
   "metadata": {},
   "outputs": [],
   "source": [
    "class Smartphone(Phone): # child class\n",
    "    pass\n"
   ]
  },
  {
   "cell_type": "code",
   "execution_count": 57,
   "id": "d06afe77-9aba-4f51-ad44-236efc5dafca",
   "metadata": {},
   "outputs": [
    {
     "name": "stdout",
     "output_type": "stream",
     "text": [
      "this is the constructor of parent class\n",
      "Brand:  Apple price:  30000 model : 2\n"
     ]
    }
   ],
   "source": [
    "s = Smartphone('Apple', 30000, 2)"
   ]
  },
  {
   "cell_type": "code",
   "execution_count": 58,
   "id": "a4ae5152-1946-4f81-b9f9-53d81c0da505",
   "metadata": {},
   "outputs": [
    {
     "name": "stdout",
     "output_type": "stream",
     "text": [
      "voice calling\n"
     ]
    }
   ],
   "source": [
    "s.call()"
   ]
  },
  {
   "cell_type": "code",
   "execution_count": 59,
   "id": "0db05c3d-f9d0-4451-83ed-2725e1aacf47",
   "metadata": {},
   "outputs": [
    {
     "name": "stdout",
     "output_type": "stream",
     "text": [
      "message\n"
     ]
    }
   ],
   "source": [
    "s.message()"
   ]
  },
  {
   "cell_type": "code",
   "execution_count": 60,
   "id": "89266dde-4775-4ac8-b95a-07c43d2ee01a",
   "metadata": {},
   "outputs": [
    {
     "name": "stdout",
     "output_type": "stream",
     "text": [
      "it support 2g\n"
     ]
    }
   ],
   "source": [
    "s.network()"
   ]
  },
  {
   "cell_type": "code",
   "execution_count": 61,
   "id": "be2217bf-9127-4c43-ac0a-7c06ce34e786",
   "metadata": {},
   "outputs": [],
   "source": [
    "class Smartphone(Phone): # child class\n",
    "    def __init__(self, brand, price, model, camera):\n",
    "        self.camera = camera\n",
    "        print('this is the constructor of child class')\n"
   ]
  },
  {
   "cell_type": "code",
   "execution_count": 62,
   "id": "ff4e75e6-a9eb-443d-b2c0-56c6ae0ec94c",
   "metadata": {},
   "outputs": [
    {
     "name": "stdout",
     "output_type": "stream",
     "text": [
      "this is the constructor of child class\n"
     ]
    }
   ],
   "source": [
    "s = Smartphone('Apple', 30000, 2, '13MP')"
   ]
  },
  {
   "cell_type": "code",
   "execution_count": 63,
   "id": "036ad942-4c64-460b-9f99-c298966434cf",
   "metadata": {},
   "outputs": [
    {
     "name": "stdout",
     "output_type": "stream",
     "text": [
      "voice calling\n"
     ]
    }
   ],
   "source": [
    "s.call()"
   ]
  },
  {
   "cell_type": "code",
   "execution_count": 64,
   "id": "584f6189-80c9-4516-9811-48796586c175",
   "metadata": {},
   "outputs": [
    {
     "name": "stdout",
     "output_type": "stream",
     "text": [
      "message\n"
     ]
    }
   ],
   "source": [
    "s.message()"
   ]
  },
  {
   "cell_type": "code",
   "execution_count": 65,
   "id": "43f7037f-3add-467e-81a3-fc5df9f34606",
   "metadata": {},
   "outputs": [
    {
     "ename": "AttributeError",
     "evalue": "'Smartphone' object has no attribute 'model'",
     "output_type": "error",
     "traceback": [
      "\u001b[1;31m---------------------------------------------------------------------------\u001b[0m",
      "\u001b[1;31mAttributeError\u001b[0m                            Traceback (most recent call last)",
      "Cell \u001b[1;32mIn[65], line 1\u001b[0m\n\u001b[1;32m----> 1\u001b[0m s\u001b[38;5;241m.\u001b[39mnetwork()\n",
      "Cell \u001b[1;32mIn[55], line 15\u001b[0m, in \u001b[0;36mPhone.network\u001b[1;34m(self)\u001b[0m\n\u001b[0;32m     14\u001b[0m \u001b[38;5;28;01mdef\u001b[39;00m \u001b[38;5;21mnetwork\u001b[39m(\u001b[38;5;28mself\u001b[39m):\n\u001b[1;32m---> 15\u001b[0m     \u001b[38;5;28;01mif\u001b[39;00m \u001b[38;5;28mself\u001b[39m\u001b[38;5;241m.\u001b[39mmodel\u001b[38;5;241m>\u001b[39m\u001b[38;5;241m3\u001b[39m:\n\u001b[0;32m     16\u001b[0m         \u001b[38;5;28mprint\u001b[39m(\u001b[38;5;124m'\u001b[39m\u001b[38;5;124mthis supports 3g\u001b[39m\u001b[38;5;124m'\u001b[39m)\n\u001b[0;32m     17\u001b[0m     \u001b[38;5;28;01melse\u001b[39;00m:\n",
      "\u001b[1;31mAttributeError\u001b[0m: 'Smartphone' object has no attribute 'model'"
     ]
    }
   ],
   "source": [
    "s.network()"
   ]
  },
  {
   "cell_type": "code",
   "execution_count": 73,
   "id": "32af6388-2dc7-4c0f-854f-7937e09e8af7",
   "metadata": {},
   "outputs": [],
   "source": [
    "class Smartphone(Phone): # child class\n",
    "    def __init__(self, brand, price, model, camera):\n",
    "        super().__init__(brand, price, model)\n",
    "        self.camera = camera\n",
    "        print('this is the constructor of child class')\n",
    "    def call(self):\n",
    "        super().call()\n",
    "        print('video calling')\n",
    "\n",
    "    def dualsim(self):\n",
    "        print('it supports dual sim')"
   ]
  },
  {
   "cell_type": "code",
   "execution_count": 74,
   "id": "8b3375b6-75ee-47dd-be8e-52e87ff6cda1",
   "metadata": {},
   "outputs": [
    {
     "name": "stdout",
     "output_type": "stream",
     "text": [
      "this is the constructor of parent class\n",
      "Brand:  Apple price:  30000 model : 2\n",
      "this is the constructor of child class\n"
     ]
    }
   ],
   "source": [
    "s = Smartphone('Apple', 30000, 2, '13MP')"
   ]
  },
  {
   "cell_type": "code",
   "execution_count": 75,
   "id": "c98e683f-d1d4-4609-ac66-f6265bcfc7a7",
   "metadata": {},
   "outputs": [
    {
     "name": "stdout",
     "output_type": "stream",
     "text": [
      "it support 2g\n"
     ]
    }
   ],
   "source": [
    "s.network()"
   ]
  },
  {
   "cell_type": "code",
   "execution_count": 76,
   "id": "11bea25c-31d1-4957-af0e-a28b4d787e31",
   "metadata": {},
   "outputs": [
    {
     "name": "stdout",
     "output_type": "stream",
     "text": [
      "voice calling\n",
      "video calling\n"
     ]
    }
   ],
   "source": [
    "s.call()"
   ]
  },
  {
   "cell_type": "code",
   "execution_count": 77,
   "id": "4ec6a8d1-3b4a-4611-9688-0a7ee49364c3",
   "metadata": {},
   "outputs": [],
   "source": [
    "class A:\n",
    "    def m1(self):\n",
    "        return 20\n",
    "class B(A):\n",
    "    def m1(self):\n",
    "        return 30\n",
    "    def m2(self):\n",
    "        return 40\n",
    "class C(B):\n",
    "    def m2(self):\n",
    "        return 20"
   ]
  },
  {
   "cell_type": "code",
   "execution_count": 78,
   "id": "53cccaad-979f-4f58-88c1-ca19e954ea67",
   "metadata": {},
   "outputs": [
    {
     "name": "stdout",
     "output_type": "stream",
     "text": [
      "70\n"
     ]
    }
   ],
   "source": [
    "obj1=A()\n",
    "obj2=B()\n",
    "obj3=C()\n",
    "print(obj1.m1()+obj3.m1()+obj3.m2()) # 20 + 30 + 20"
   ]
  },
  {
   "cell_type": "code",
   "execution_count": 79,
   "id": "0b2b2e0f-d7e2-432e-8dd0-b3ed2538a3d5",
   "metadata": {},
   "outputs": [
    {
     "name": "stdout",
     "output_type": "stream",
     "text": [
      "70\n"
     ]
    }
   ],
   "source": [
    "# Multihead Inheritance\n",
    "class A:\n",
    "    def m1(self):\n",
    "        return 20\n",
    "class B(A):\n",
    "    def m1(self):\n",
    "        val=super().m1()+30\n",
    "        return val\n",
    "class C(B):\n",
    "    def m1(self):\n",
    "        val=super().m1()+20\n",
    "        return val\n",
    "obj = C()\n",
    "print(obj.m1())"
   ]
  },
  {
   "cell_type": "code",
   "execution_count": 80,
   "id": "05170783-c32a-4dc6-9d0a-68a7ebf9f3b6",
   "metadata": {},
   "outputs": [
    {
     "name": "stdout",
     "output_type": "stream",
     "text": [
      "50\n"
     ]
    }
   ],
   "source": [
    "# Hierarchical Inheritance\n",
    "class B:\n",
    "    def m1(self):\n",
    "        val=30\n",
    "        return val\n",
    "class C(B):\n",
    "    def m1(self):\n",
    "        val=super().m1()+20\n",
    "        return val\n",
    "class D(B):\n",
    "    def m1(self):\n",
    "        val=super().m1()+20\n",
    "        return val\n",
    "obj = C()\n",
    "print(obj.m1())"
   ]
  },
  {
   "cell_type": "code",
   "execution_count": 82,
   "id": "d6bc66ee-2ce0-4893-a3d2-8c236a90f22f",
   "metadata": {},
   "outputs": [
    {
     "name": "stdout",
     "output_type": "stream",
     "text": [
      "3\n"
     ]
    },
    {
     "data": {
      "text/plain": [
       "10"
      ]
     },
     "execution_count": 82,
     "metadata": {},
     "output_type": "execute_result"
    }
   ],
   "source": [
    "# Mutiple inheritance\n",
    "class A:\n",
    "    def m1(self):\n",
    "        val1=10\n",
    "        return val1\n",
    "class B:\n",
    "    v=3\n",
    "    def m1(self):\n",
    "        val2=20\n",
    "        return val2\n",
    "class C(A,B):\n",
    "    def m3(self):\n",
    "        val3=super().m1()\n",
    "        print(super().v)\n",
    "        return val3\n",
    "obj = C()\n",
    "obj.m3()"
   ]
  },
  {
   "cell_type": "code",
   "execution_count": 83,
   "id": "b0f4748f-ba38-419a-b212-df3b79460778",
   "metadata": {},
   "outputs": [
    {
     "name": "stdout",
     "output_type": "stream",
     "text": [
      "60\n"
     ]
    }
   ],
   "source": [
    "class X:\n",
    "    def calc(self):\n",
    "        return 10\n",
    "\n",
    "class Y(X):\n",
    "    def calc(self):\n",
    "        val = super().calc() + 20\n",
    "        return val\n",
    "\n",
    "class Z(Y):\n",
    "    def calc(self):\n",
    "        val = super().calc() * 2\n",
    "        return val\n",
    "\n",
    "obj = Z()\n",
    "print(obj.calc())\n"
   ]
  },
  {
   "cell_type": "code",
   "execution_count": 86,
   "id": "ccb3a416-e0cb-451b-9801-8fa31595a287",
   "metadata": {},
   "outputs": [
    {
     "name": "stdout",
     "output_type": "stream",
     "text": [
      "Class P and Class R\n"
     ]
    }
   ],
   "source": [
    "class P:\n",
    "    def show(self):\n",
    "        return \"Class P\"\n",
    "\n",
    "class Q:\n",
    "    def show(self):\n",
    "        return \"Class Q\"\n",
    "\n",
    "class R(P, Q):\n",
    "    def show(self):\n",
    "        val = super().show() + \" and Class R\"\n",
    "        return val\n",
    "\n",
    "obj = R()\n",
    "print(obj.show())\n"
   ]
  },
  {
   "cell_type": "code",
   "execution_count": 88,
   "id": "b9972029-3855-4c93-b192-3d8b48e2f68a",
   "metadata": {},
   "outputs": [
    {
     "name": "stdout",
     "output_type": "stream",
     "text": [
      "A -> E -> D -> C -> B -> F\n"
     ]
    }
   ],
   "source": [
    "class A:\n",
    "    def display(self):\n",
    "        return \"A\"\n",
    "\n",
    "class B(A):\n",
    "    def display(self):\n",
    "        return super().display() + \" -> B\"\n",
    "\n",
    "class C(A):\n",
    "    def display(self):\n",
    "        return super().display() + \" -> C\"\n",
    "\n",
    "class D(A):\n",
    "    def display(self):\n",
    "        return super().display() + \" -> D\"\n",
    "    \n",
    "class E(A):\n",
    "    def display(self):\n",
    "        return super().display() + \" -> E\"\n",
    "    \n",
    "class F(B,C,D,E):    \n",
    "    def display(self):\n",
    "        return super().display() + \" -> F\"\n",
    "\n",
    "obj = F()\n",
    "print(obj.display())\n"
   ]
  },
  {
   "cell_type": "code",
   "execution_count": 142,
   "id": "202c12d5-dc11-4504-afa6-b380bf87f521",
   "metadata": {},
   "outputs": [
    {
     "name": "stdout",
     "output_type": "stream",
     "text": [
      "Parent1 Constructor\n",
      "Child Constructor\n"
     ]
    }
   ],
   "source": [
    "class Parent1:\n",
    "    def __init__(self):\n",
    "        print(\"Parent1 Constructor\")\n",
    "    pass\n",
    "\n",
    "class Parent2:\n",
    "    def __init__(self):\n",
    "        print(\"Parent2 Constructor\")\n",
    "\n",
    "class Child(Parent1, Parent2):\n",
    "    def __init__(self):\n",
    "        super().__init__()\n",
    "        print(\"Child Constructor\")\n",
    "\n",
    "obj = Child()\n"
   ]
  },
  {
   "cell_type": "code",
   "execution_count": 144,
   "id": "80252489-abfd-4195-a5e0-356777a7bb6f",
   "metadata": {},
   "outputs": [
    {
     "name": "stdout",
     "output_type": "stream",
     "text": [
      "78.5\n",
      "Rectangle\n",
      "None\n"
     ]
    }
   ],
   "source": [
    "# method_overridding\n",
    "class Shape:\n",
    "    def area(self):\n",
    "        return 0\n",
    "\n",
    "class Circle(Shape):\n",
    "    def area(self, radius):\n",
    "        return 3.14 * radius * radius\n",
    "\n",
    "class Rectangle(Shape):\n",
    "    def area(self, length, width):\n",
    "        return length * width\n",
    "\n",
    "    def area(self):\n",
    "        print('Rectangle')\n",
    "\n",
    "circle = Circle()\n",
    "rectangle = Rectangle()\n",
    "print(circle.area(5))  # Circle area\n",
    "print(rectangle.area())  # Rectangle area\n"
   ]
  },
  {
   "cell_type": "code",
   "execution_count": 147,
   "id": "039cc246-995c-4925-a0d7-02dd7d6a5975",
   "metadata": {},
   "outputs": [
    {
     "name": "stdout",
     "output_type": "stream",
     "text": [
      "78.5\n",
      "24\n",
      "rectangle\n"
     ]
    }
   ],
   "source": [
    "class Shape:\n",
    "    def area(self):\n",
    "        return 0\n",
    "\n",
    "class Circle(Shape):\n",
    "    def area(self, radius):\n",
    "        return 3.14 * radius * radius\n",
    "\n",
    "class Rectangle(Shape):\n",
    "    def area(self, length=0, width=0): # method oveloading\n",
    "        if length and width:\n",
    "            return length * width\n",
    "        else:\n",
    "            return 'rectangle'\n",
    "    \n",
    "\n",
    "\n",
    "circle = Circle()\n",
    "rectangle = Rectangle()\n",
    "print(circle.area(5))  # Circle area\n",
    "print(rectangle.area(4, 6))  # Rectangle area\n",
    "print(rectangle.area())"
   ]
  },
  {
   "cell_type": "code",
   "execution_count": 175,
   "id": "63c93866-47e5-4e58-8590-eaf0a46cc745",
   "metadata": {},
   "outputs": [],
   "source": [
    "class A:\n",
    "    c=0 # class variable\n",
    "    def __init__(self,a):\n",
    "        self.a = a #instance variable\n",
    "        print('constructor')\n",
    "\n",
    "    @staticmethod\n",
    "    def fun():\n",
    "        print('this is static method')\n",
    "\n",
    "    @classmethod\n",
    "    def fun1(cls):\n",
    "        print(cls.c)"
   ]
  },
  {
   "cell_type": "code",
   "execution_count": 176,
   "id": "f6a5324a-012b-46af-a10c-bd0ddf93a5fa",
   "metadata": {},
   "outputs": [
    {
     "name": "stdout",
     "output_type": "stream",
     "text": [
      "constructor\n"
     ]
    }
   ],
   "source": [
    "a = A(2)"
   ]
  },
  {
   "cell_type": "code",
   "execution_count": 177,
   "id": "9009a559-cc6d-43b1-b229-ae70aa96662b",
   "metadata": {},
   "outputs": [
    {
     "name": "stdout",
     "output_type": "stream",
     "text": [
      "this is static method\n"
     ]
    }
   ],
   "source": [
    "a.fun()"
   ]
  },
  {
   "cell_type": "code",
   "execution_count": 178,
   "id": "39caca54-b496-4599-b4cb-fe821a3f8fda",
   "metadata": {},
   "outputs": [
    {
     "name": "stdout",
     "output_type": "stream",
     "text": [
      "this is static method\n"
     ]
    }
   ],
   "source": [
    "A.fun()"
   ]
  },
  {
   "cell_type": "code",
   "execution_count": 179,
   "id": "ae2c91aa-ba97-4df3-84df-d3b0fa1b25ca",
   "metadata": {},
   "outputs": [
    {
     "name": "stdout",
     "output_type": "stream",
     "text": [
      "0\n"
     ]
    }
   ],
   "source": [
    "a.fun1()"
   ]
  },
  {
   "cell_type": "code",
   "execution_count": 180,
   "id": "5632671f-b445-4f87-af91-5bed738b7218",
   "metadata": {},
   "outputs": [
    {
     "name": "stdout",
     "output_type": "stream",
     "text": [
      "0\n"
     ]
    }
   ],
   "source": [
    "A.fun1()"
   ]
  },
  {
   "cell_type": "code",
   "execution_count": 121,
   "id": "81560639-165d-4c6a-8d2f-3a8882422b59",
   "metadata": {},
   "outputs": [],
   "source": [
    "from abc import ABC, abstractmethod"
   ]
  },
  {
   "cell_type": "code",
   "execution_count": 184,
   "id": "b9d86b5b-6bf6-46cd-a77a-a8385f5cdd95",
   "metadata": {},
   "outputs": [],
   "source": [
    "class C(ABC):\n",
    "    @abstractmethod\n",
    "    def area(a,b):\n",
    "        pass\n",
    "    @abstractmethod\n",
    "    def fun(v):\n",
    "        pass"
   ]
  },
  {
   "cell_type": "code",
   "execution_count": 191,
   "id": "e259736e-dc8d-4660-a567-3ddb007d4fad",
   "metadata": {},
   "outputs": [],
   "source": [
    "class D(C):\n",
    "    def area(self,a,b):\n",
    "        return a+b\n",
    "    def fun(v):\n",
    "        print('abstractclass')\n",
    "    def m():\n",
    "        print('any function')"
   ]
  },
  {
   "cell_type": "code",
   "execution_count": 193,
   "id": "21c87c82-249d-4e81-a4b7-5a10f7ce8a2b",
   "metadata": {},
   "outputs": [
    {
     "data": {
      "text/plain": [
       "<__main__.D at 0x2955b438e00>"
      ]
     },
     "execution_count": 193,
     "metadata": {},
     "output_type": "execute_result"
    }
   ],
   "source": [
    "D()"
   ]
  },
  {
   "cell_type": "code",
   "execution_count": null,
   "id": "5beecbe3-e0a5-4ba2-8d89-faa63c0e43ae",
   "metadata": {},
   "outputs": [],
   "source": []
  },
  {
   "cell_type": "code",
   "execution_count": null,
   "id": "d6d91e3c-b061-4375-a066-cffad8fb72b9",
   "metadata": {},
   "outputs": [],
   "source": []
  }
 ],
 "metadata": {
  "kernelspec": {
   "display_name": "Python 3 (ipykernel)",
   "language": "python",
   "name": "python3"
  },
  "language_info": {
   "codemirror_mode": {
    "name": "ipython",
    "version": 3
   },
   "file_extension": ".py",
   "mimetype": "text/x-python",
   "name": "python",
   "nbconvert_exporter": "python",
   "pygments_lexer": "ipython3",
   "version": "3.12.7"
  }
 },
 "nbformat": 4,
 "nbformat_minor": 5
}
