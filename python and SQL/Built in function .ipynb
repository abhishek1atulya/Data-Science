{
 "cells": [
  {
   "cell_type": "code",
   "execution_count": 2,
   "id": "34dffd0d-464e-4b42-b372-4b3e0d6285d4",
   "metadata": {},
   "outputs": [
    {
     "name": "stdout",
     "output_type": "stream",
     "text": [
      "123\n"
     ]
    }
   ],
   "source": [
    "# async\n",
    "# await\n",
    "t = print('123')"
   ]
  },
  {
   "cell_type": "code",
   "execution_count": 5,
   "id": "d03b8bc1-32d3-4084-9138-8d5a493b5383",
   "metadata": {},
   "outputs": [
    {
     "data": {
      "text/plain": [
       "NoneType"
      ]
     },
     "execution_count": 5,
     "metadata": {},
     "output_type": "execute_result"
    }
   ],
   "source": [
    "type(t)"
   ]
  },
  {
   "cell_type": "code",
   "execution_count": 39,
   "id": "955cf080",
   "metadata": {},
   "outputs": [
    {
     "data": {
      "text/plain": [
       "123"
      ]
     },
     "execution_count": 39,
     "metadata": {},
     "output_type": "execute_result"
    }
   ],
   "source": [
    "abs(-123)"
   ]
  },
  {
   "cell_type": "code",
   "execution_count": 40,
   "id": "c7306346-4ad7-4443-86ea-04d1d2170b49",
   "metadata": {},
   "outputs": [
    {
     "name": "stdout",
     "output_type": "stream",
     "text": [
      "hello\n",
      "hello\n"
     ]
    }
   ],
   "source": [
    "if None:\n",
    "    print('hello')\n",
    "if 0:\n",
    "    print('hello') \n",
    "if []:\n",
    "    print('hello')\n",
    "if ():\n",
    "    print('hello')\n",
    "if 1:\n",
    "    print('hello')\n",
    "if [1]:\n",
    "    print('hello')"
   ]
  },
  {
   "cell_type": "code",
   "execution_count": 43,
   "id": "a3e1c9a4-1f09-43e2-92d0-252216c65407",
   "metadata": {},
   "outputs": [
    {
     "data": {
      "text/plain": [
       "False"
      ]
     },
     "execution_count": 43,
     "metadata": {},
     "output_type": "execute_result"
    }
   ],
   "source": [
    "bool(None)"
   ]
  },
  {
   "cell_type": "code",
   "execution_count": 44,
   "id": "c5d26429-6853-44cd-9c6d-83bc87fcd9dd",
   "metadata": {},
   "outputs": [
    {
     "data": {
      "text/plain": [
       "False"
      ]
     },
     "execution_count": 44,
     "metadata": {},
     "output_type": "execute_result"
    }
   ],
   "source": [
    "bool(0)"
   ]
  },
  {
   "cell_type": "code",
   "execution_count": 45,
   "id": "09a6a2aa-7347-467d-bafe-15a49fd92e8b",
   "metadata": {},
   "outputs": [
    {
     "data": {
      "text/plain": [
       "False"
      ]
     },
     "execution_count": 45,
     "metadata": {},
     "output_type": "execute_result"
    }
   ],
   "source": [
    "bool([])"
   ]
  },
  {
   "cell_type": "code",
   "execution_count": 46,
   "id": "df0c009d-f527-4e23-9c84-09a0069a6d18",
   "metadata": {},
   "outputs": [
    {
     "data": {
      "text/plain": [
       "False"
      ]
     },
     "execution_count": 46,
     "metadata": {},
     "output_type": "execute_result"
    }
   ],
   "source": [
    "bool(())"
   ]
  },
  {
   "cell_type": "code",
   "execution_count": 47,
   "id": "d90a91c2-2b8b-4d27-9bfa-912be55b8dde",
   "metadata": {},
   "outputs": [
    {
     "data": {
      "text/plain": [
       "False"
      ]
     },
     "execution_count": 47,
     "metadata": {},
     "output_type": "execute_result"
    }
   ],
   "source": [
    "bool('')"
   ]
  },
  {
   "cell_type": "code",
   "execution_count": 50,
   "id": "fc46a0ff-18a2-4ef0-b248-d552e7b5c0c0",
   "metadata": {},
   "outputs": [
    {
     "data": {
      "text/plain": [
       "True"
      ]
     },
     "execution_count": 50,
     "metadata": {},
     "output_type": "execute_result"
    }
   ],
   "source": [
    "bool(1)"
   ]
  },
  {
   "cell_type": "code",
   "execution_count": 51,
   "id": "c7cacc77",
   "metadata": {
    "scrolled": true
   },
   "outputs": [
    {
     "data": {
      "text/plain": [
       "False"
      ]
     },
     "execution_count": 51,
     "metadata": {},
     "output_type": "execute_result"
    }
   ],
   "source": [
    "all([1,1,None])"
   ]
  },
  {
   "cell_type": "code",
   "execution_count": 52,
   "id": "35ca5b0c",
   "metadata": {},
   "outputs": [
    {
     "data": {
      "text/plain": [
       "True"
      ]
     },
     "execution_count": 52,
     "metadata": {},
     "output_type": "execute_result"
    }
   ],
   "source": [
    "all([1,1])"
   ]
  },
  {
   "cell_type": "code",
   "execution_count": 53,
   "id": "6841bff5",
   "metadata": {},
   "outputs": [
    {
     "data": {
      "text/plain": [
       "False"
      ]
     },
     "execution_count": 53,
     "metadata": {},
     "output_type": "execute_result"
    }
   ],
   "source": [
    "all([True, False,True, True])"
   ]
  },
  {
   "cell_type": "code",
   "execution_count": 54,
   "id": "bfb78be6",
   "metadata": {},
   "outputs": [
    {
     "data": {
      "text/plain": [
       "True"
      ]
     },
     "execution_count": 54,
     "metadata": {},
     "output_type": "execute_result"
    }
   ],
   "source": [
    "all([True, True,True, True])"
   ]
  },
  {
   "cell_type": "code",
   "execution_count": 55,
   "id": "f2aa70a8",
   "metadata": {},
   "outputs": [
    {
     "data": {
      "text/plain": [
       "True"
      ]
     },
     "execution_count": 55,
     "metadata": {},
     "output_type": "execute_result"
    }
   ],
   "source": [
    "any([True, False,True, True])"
   ]
  },
  {
   "cell_type": "code",
   "execution_count": 57,
   "id": "85b9f032",
   "metadata": {},
   "outputs": [
    {
     "data": {
      "text/plain": [
       "False"
      ]
     },
     "execution_count": 57,
     "metadata": {},
     "output_type": "execute_result"
    }
   ],
   "source": [
    "any([False, False,False, False])"
   ]
  },
  {
   "cell_type": "code",
   "execution_count": 58,
   "id": "ad017453",
   "metadata": {},
   "outputs": [
    {
     "data": {
      "text/plain": [
       "True"
      ]
     },
     "execution_count": 58,
     "metadata": {},
     "output_type": "execute_result"
    }
   ],
   "source": [
    "any([False, False,False, True])"
   ]
  },
  {
   "cell_type": "code",
   "execution_count": 59,
   "id": "d0bab859",
   "metadata": {},
   "outputs": [
    {
     "data": {
      "text/plain": [
       "True"
      ]
     },
     "execution_count": 59,
     "metadata": {},
     "output_type": "execute_result"
    }
   ],
   "source": [
    "any([1,2,3,None])"
   ]
  },
  {
   "cell_type": "code",
   "execution_count": 60,
   "id": "cf471719",
   "metadata": {},
   "outputs": [
    {
     "data": {
      "text/plain": [
       "False"
      ]
     },
     "execution_count": 60,
     "metadata": {},
     "output_type": "execute_result"
    }
   ],
   "source": [
    "any([None,None,None,None])"
   ]
  },
  {
   "cell_type": "code",
   "execution_count": 61,
   "id": "d33fd45c",
   "metadata": {},
   "outputs": [
    {
     "data": {
      "text/plain": [
       "True"
      ]
     },
     "execution_count": 61,
     "metadata": {},
     "output_type": "execute_result"
    }
   ],
   "source": [
    "any([None,None,None,None,1])"
   ]
  },
  {
   "cell_type": "code",
   "execution_count": 62,
   "id": "5448a949",
   "metadata": {},
   "outputs": [
    {
     "data": {
      "text/plain": [
       "'1234'"
      ]
     },
     "execution_count": 62,
     "metadata": {},
     "output_type": "execute_result"
    }
   ],
   "source": [
    "ascii(1234)"
   ]
  },
  {
   "cell_type": "code",
   "execution_count": 67,
   "id": "aecd1d2b",
   "metadata": {},
   "outputs": [
    {
     "data": {
      "text/plain": [
       "\"(1234, 12, '123')\""
      ]
     },
     "execution_count": 67,
     "metadata": {},
     "output_type": "execute_result"
    }
   ],
   "source": [
    "ascii((1234,12,'123'))"
   ]
  },
  {
   "cell_type": "code",
   "execution_count": 68,
   "id": "4fdb7503",
   "metadata": {},
   "outputs": [
    {
     "data": {
      "text/plain": [
       "'0b1100'"
      ]
     },
     "execution_count": 68,
     "metadata": {},
     "output_type": "execute_result"
    }
   ],
   "source": [
    "bin(12)"
   ]
  },
  {
   "cell_type": "code",
   "execution_count": 69,
   "id": "636be0b5",
   "metadata": {},
   "outputs": [
    {
     "data": {
      "text/plain": [
       "'0xc'"
      ]
     },
     "execution_count": 69,
     "metadata": {},
     "output_type": "execute_result"
    }
   ],
   "source": [
    "hex(12)\n",
    "0123456789abcdef"
   ]
  },
  {
   "cell_type": "code",
   "execution_count": 70,
   "id": "56fcce12",
   "metadata": {},
   "outputs": [
    {
     "data": {
      "text/plain": [
       "'0o14'"
      ]
     },
     "execution_count": 70,
     "metadata": {},
     "output_type": "execute_result"
    }
   ],
   "source": [
    "oct(12)"
   ]
  },
  {
   "cell_type": "code",
   "execution_count": 72,
   "id": "cba74ab9",
   "metadata": {},
   "outputs": [
    {
     "data": {
      "text/plain": [
       "1100"
      ]
     },
     "execution_count": 72,
     "metadata": {},
     "output_type": "execute_result"
    }
   ],
   "source": [
    "int('1100')"
   ]
  },
  {
   "cell_type": "code",
   "execution_count": 73,
   "id": "2a96109b",
   "metadata": {},
   "outputs": [
    {
     "data": {
      "text/plain": [
       "12"
      ]
     },
     "execution_count": 73,
     "metadata": {},
     "output_type": "execute_result"
    }
   ],
   "source": [
    "int('1100',base=2)"
   ]
  },
  {
   "cell_type": "code",
   "execution_count": 74,
   "id": "cefceea4",
   "metadata": {},
   "outputs": [
    {
     "data": {
      "text/plain": [
       "12"
      ]
     },
     "execution_count": 74,
     "metadata": {},
     "output_type": "execute_result"
    }
   ],
   "source": [
    "int('c',base=16)"
   ]
  },
  {
   "cell_type": "code",
   "execution_count": 75,
   "id": "c3c55d80",
   "metadata": {},
   "outputs": [
    {
     "data": {
      "text/plain": [
       "12"
      ]
     },
     "execution_count": 75,
     "metadata": {},
     "output_type": "execute_result"
    }
   ],
   "source": [
    "int('14',base=8)"
   ]
  },
  {
   "cell_type": "code",
   "execution_count": 76,
   "id": "ae4413c4",
   "metadata": {},
   "outputs": [
    {
     "data": {
      "text/plain": [
       "67"
      ]
     },
     "execution_count": 76,
     "metadata": {},
     "output_type": "execute_result"
    }
   ],
   "source": [
    "ord('C')"
   ]
  },
  {
   "cell_type": "code",
   "execution_count": 77,
   "id": "cfe36808",
   "metadata": {},
   "outputs": [
    {
     "data": {
      "text/plain": [
       "'C'"
      ]
     },
     "execution_count": 77,
     "metadata": {},
     "output_type": "execute_result"
    }
   ],
   "source": [
    "chr(67)"
   ]
  },
  {
   "cell_type": "code",
   "execution_count": 78,
   "id": "635c930d",
   "metadata": {
    "scrolled": true
   },
   "outputs": [
    {
     "data": {
      "text/plain": [
       "3"
      ]
     },
     "execution_count": 78,
     "metadata": {},
     "output_type": "execute_result"
    }
   ],
   "source": [
    "len([1,2,3])"
   ]
  },
  {
   "cell_type": "code",
   "execution_count": 84,
   "id": "82e08898-e1fe-47f6-9761-31209c53eb18",
   "metadata": {
    "scrolled": true
   },
   "outputs": [
    {
     "data": {
      "text/plain": [
       "['ArithmeticError',\n",
       " 'AssertionError',\n",
       " 'AttributeError',\n",
       " 'BaseException',\n",
       " 'BaseExceptionGroup',\n",
       " 'BlockingIOError',\n",
       " 'BrokenPipeError',\n",
       " 'BufferError',\n",
       " 'BytesWarning',\n",
       " 'ChildProcessError',\n",
       " 'ConnectionAbortedError',\n",
       " 'ConnectionError',\n",
       " 'ConnectionRefusedError',\n",
       " 'ConnectionResetError',\n",
       " 'DeprecationWarning',\n",
       " 'EOFError',\n",
       " 'Ellipsis',\n",
       " 'EncodingWarning',\n",
       " 'EnvironmentError',\n",
       " 'Exception',\n",
       " 'ExceptionGroup',\n",
       " 'False',\n",
       " 'FileExistsError',\n",
       " 'FileNotFoundError',\n",
       " 'FloatingPointError',\n",
       " 'FutureWarning',\n",
       " 'GeneratorExit',\n",
       " 'IOError',\n",
       " 'ImportError',\n",
       " 'ImportWarning',\n",
       " 'IndentationError',\n",
       " 'IndexError',\n",
       " 'InterruptedError',\n",
       " 'IsADirectoryError',\n",
       " 'KeyError',\n",
       " 'KeyboardInterrupt',\n",
       " 'LookupError',\n",
       " 'MemoryError',\n",
       " 'ModuleNotFoundError',\n",
       " 'NameError',\n",
       " 'None',\n",
       " 'NotADirectoryError',\n",
       " 'NotImplemented',\n",
       " 'NotImplementedError',\n",
       " 'OSError',\n",
       " 'OverflowError',\n",
       " 'PendingDeprecationWarning',\n",
       " 'PermissionError',\n",
       " 'ProcessLookupError',\n",
       " 'RecursionError',\n",
       " 'ReferenceError',\n",
       " 'ResourceWarning',\n",
       " 'RuntimeError',\n",
       " 'RuntimeWarning',\n",
       " 'StopAsyncIteration',\n",
       " 'StopIteration',\n",
       " 'SyntaxError',\n",
       " 'SyntaxWarning',\n",
       " 'SystemError',\n",
       " 'SystemExit',\n",
       " 'TabError',\n",
       " 'TimeoutError',\n",
       " 'True',\n",
       " 'TypeError',\n",
       " 'UnboundLocalError',\n",
       " 'UnicodeDecodeError',\n",
       " 'UnicodeEncodeError',\n",
       " 'UnicodeError',\n",
       " 'UnicodeTranslateError',\n",
       " 'UnicodeWarning',\n",
       " 'UserWarning',\n",
       " 'ValueError',\n",
       " 'Warning',\n",
       " 'WindowsError',\n",
       " 'ZeroDivisionError',\n",
       " '__IPYTHON__',\n",
       " '__build_class__',\n",
       " '__debug__',\n",
       " '__doc__',\n",
       " '__import__',\n",
       " '__loader__',\n",
       " '__name__',\n",
       " '__package__',\n",
       " '__spec__',\n",
       " 'abs',\n",
       " 'aiter',\n",
       " 'all',\n",
       " 'anext',\n",
       " 'any',\n",
       " 'ascii',\n",
       " 'bin',\n",
       " 'bool',\n",
       " 'breakpoint',\n",
       " 'bytearray',\n",
       " 'bytes',\n",
       " 'callable',\n",
       " 'chr',\n",
       " 'classmethod',\n",
       " 'compile',\n",
       " 'complex',\n",
       " 'copyright',\n",
       " 'credits',\n",
       " 'delattr',\n",
       " 'dict',\n",
       " 'dir',\n",
       " 'display',\n",
       " 'divmod',\n",
       " 'enumerate',\n",
       " 'eval',\n",
       " 'exec',\n",
       " 'execfile',\n",
       " 'filter',\n",
       " 'float',\n",
       " 'format',\n",
       " 'frozenset',\n",
       " 'get_ipython',\n",
       " 'getattr',\n",
       " 'globals',\n",
       " 'hasattr',\n",
       " 'hash',\n",
       " 'help',\n",
       " 'hex',\n",
       " 'id',\n",
       " 'input',\n",
       " 'int',\n",
       " 'isinstance',\n",
       " 'issubclass',\n",
       " 'iter',\n",
       " 'len',\n",
       " 'license',\n",
       " 'list',\n",
       " 'locals',\n",
       " 'map',\n",
       " 'max',\n",
       " 'memoryview',\n",
       " 'min',\n",
       " 'next',\n",
       " 'object',\n",
       " 'oct',\n",
       " 'open',\n",
       " 'ord',\n",
       " 'pow',\n",
       " 'print',\n",
       " 'property',\n",
       " 'range',\n",
       " 'repr',\n",
       " 'reversed',\n",
       " 'round',\n",
       " 'runfile',\n",
       " 'set',\n",
       " 'setattr',\n",
       " 'slice',\n",
       " 'sorted',\n",
       " 'staticmethod',\n",
       " 'str',\n",
       " 'sum',\n",
       " 'super',\n",
       " 'tuple',\n",
       " 'type',\n",
       " 'vars',\n",
       " 'zip']"
      ]
     },
     "execution_count": 84,
     "metadata": {},
     "output_type": "execute_result"
    }
   ],
   "source": [
    "import builtins as b\n",
    "dir(b)"
   ]
  },
  {
   "cell_type": "code",
   "execution_count": 88,
   "id": "fe75b942-7bbd-438e-a2bf-4fd3efef1587",
   "metadata": {},
   "outputs": [],
   "source": [
    "def dandr(n,d):\n",
    "    a=n//d\n",
    "    b=n%d\n",
    "    return a,b"
   ]
  },
  {
   "cell_type": "code",
   "execution_count": null,
   "id": "bc54c934-880f-424f-a76d-8ca6f54e07df",
   "metadata": {
    "scrolled": true
   },
   "outputs": [],
   "source": [
    "p=range(10)"
   ]
  },
  {
   "cell_type": "code",
   "execution_count": 89,
   "id": "ad9b3a23-f891-4f0c-81be-9a60d453de24",
   "metadata": {},
   "outputs": [
    {
     "data": {
      "text/plain": [
       "(2, 3)"
      ]
     },
     "execution_count": 89,
     "metadata": {},
     "output_type": "execute_result"
    }
   ],
   "source": [
    "dandr(15,6)"
   ]
  },
  {
   "cell_type": "code",
   "execution_count": 90,
   "id": "2144c466-9848-41cf-83a4-83e82aef36c1",
   "metadata": {},
   "outputs": [
    {
     "data": {
      "text/plain": [
       "(1, 2, 3, 4)"
      ]
     },
     "execution_count": 90,
     "metadata": {},
     "output_type": "execute_result"
    }
   ],
   "source": [
    "1,2,3,4"
   ]
  },
  {
   "cell_type": "code",
   "execution_count": 87,
   "id": "b699f8df",
   "metadata": {},
   "outputs": [
    {
     "data": {
      "text/plain": [
       "(2, 3)"
      ]
     },
     "execution_count": 87,
     "metadata": {},
     "output_type": "execute_result"
    }
   ],
   "source": [
    "divmod(15,6)"
   ]
  },
  {
   "cell_type": "code",
   "execution_count": 85,
   "id": "828d1745",
   "metadata": {},
   "outputs": [
    {
     "data": {
      "text/plain": [
       "2"
      ]
     },
     "execution_count": 85,
     "metadata": {},
     "output_type": "execute_result"
    }
   ],
   "source": [
    "15//6"
   ]
  },
  {
   "cell_type": "code",
   "execution_count": 86,
   "id": "0320e13a",
   "metadata": {},
   "outputs": [
    {
     "data": {
      "text/plain": [
       "3"
      ]
     },
     "execution_count": 86,
     "metadata": {},
     "output_type": "execute_result"
    }
   ],
   "source": [
    "15%6"
   ]
  },
  {
   "cell_type": "code",
   "execution_count": 92,
   "id": "fff32abc-f6b4-4e21-b6d7-59b1ee8dfbd5",
   "metadata": {},
   "outputs": [
    {
     "data": {
      "text/plain": [
       "<list_iterator at 0x26316726d40>"
      ]
     },
     "execution_count": 92,
     "metadata": {},
     "output_type": "execute_result"
    }
   ],
   "source": [
    "i = iter([1,2,3,4,5])\n",
    "i"
   ]
  },
  {
   "cell_type": "code",
   "execution_count": 97,
   "id": "ee057800-9aaf-48c8-8c9b-2002d7dc0adf",
   "metadata": {},
   "outputs": [
    {
     "data": {
      "text/plain": [
       "4"
      ]
     },
     "execution_count": 97,
     "metadata": {},
     "output_type": "execute_result"
    }
   ],
   "source": [
    "next(i)"
   ]
  },
  {
   "cell_type": "code",
   "execution_count": 93,
   "id": "fde39186-792d-41f8-8db2-4eeb41fb72e8",
   "metadata": {},
   "outputs": [
    {
     "data": {
      "text/plain": [
       "5"
      ]
     },
     "execution_count": 93,
     "metadata": {},
     "output_type": "execute_result"
    }
   ],
   "source": [
    "n = len([1,2,3,4,5])\n",
    "n"
   ]
  },
  {
   "cell_type": "code",
   "execution_count": 91,
   "id": "25cb2339",
   "metadata": {},
   "outputs": [
    {
     "data": {
      "text/plain": [
       "<enumerate at 0x26317641350>"
      ]
     },
     "execution_count": 91,
     "metadata": {},
     "output_type": "execute_result"
    }
   ],
   "source": [
    "a=enumerate([10,20,30,40,50])\n",
    "a"
   ]
  },
  {
   "cell_type": "code",
   "execution_count": 100,
   "id": "17a46435-f2dc-420d-b22e-ca7e45ecc9b6",
   "metadata": {},
   "outputs": [
    {
     "data": {
      "text/plain": [
       "(2, 30)"
      ]
     },
     "execution_count": 100,
     "metadata": {},
     "output_type": "execute_result"
    }
   ],
   "source": [
    "next(a)"
   ]
  },
  {
   "cell_type": "code",
   "execution_count": 101,
   "id": "b807000f",
   "metadata": {},
   "outputs": [
    {
     "data": {
      "text/plain": [
       "((3, 40), (4, 50))"
      ]
     },
     "execution_count": 101,
     "metadata": {},
     "output_type": "execute_result"
    }
   ],
   "source": [
    "tuple(a)"
   ]
  },
  {
   "cell_type": "code",
   "execution_count": 102,
   "id": "a2dabb67",
   "metadata": {},
   "outputs": [
    {
     "data": {
      "text/plain": [
       "[]"
      ]
     },
     "execution_count": 102,
     "metadata": {},
     "output_type": "execute_result"
    }
   ],
   "source": [
    "list(a)"
   ]
  },
  {
   "cell_type": "code",
   "execution_count": 103,
   "id": "a5c86a81-1ebd-4901-9c27-c201dfc429ca",
   "metadata": {},
   "outputs": [
    {
     "data": {
      "text/plain": [
       "range(0, 10)"
      ]
     },
     "execution_count": 103,
     "metadata": {},
     "output_type": "execute_result"
    }
   ],
   "source": [
    "range(10)"
   ]
  },
  {
   "cell_type": "code",
   "execution_count": 104,
   "id": "0b00aff7-933a-4a18-bf9d-179d76bbc871",
   "metadata": {},
   "outputs": [
    {
     "data": {
      "text/plain": [
       "[0, 1, 2, 3, 4, 5, 6, 7, 8, 9]"
      ]
     },
     "execution_count": 104,
     "metadata": {},
     "output_type": "execute_result"
    }
   ],
   "source": [
    "list(range(10))"
   ]
  },
  {
   "cell_type": "code",
   "execution_count": 109,
   "id": "e7b3efec",
   "metadata": {},
   "outputs": [
    {
     "data": {
      "text/plain": [
       "[(0, 10), (1, 20), (2, 30), (3, 40), (4, 50)]"
      ]
     },
     "execution_count": 109,
     "metadata": {},
     "output_type": "execute_result"
    }
   ],
   "source": [
    "a=enumerate([10,20,30,40,50])\n",
    "list(a)"
   ]
  },
  {
   "cell_type": "code",
   "execution_count": 106,
   "id": "75a51f9a",
   "metadata": {
    "scrolled": true
   },
   "outputs": [
    {
     "data": {
      "text/plain": [
       "()"
      ]
     },
     "execution_count": 106,
     "metadata": {},
     "output_type": "execute_result"
    }
   ],
   "source": [
    "tuple(a)"
   ]
  },
  {
   "cell_type": "code",
   "execution_count": 111,
   "id": "fd5e1202-ee25-4d96-be1c-eb1a1c4fd3bb",
   "metadata": {},
   "outputs": [
    {
     "data": {
      "text/plain": [
       "1"
      ]
     },
     "execution_count": 111,
     "metadata": {},
     "output_type": "execute_result"
    }
   ],
   "source": [
    "a,b,c,d,e = [1,2,3,4,5]\n",
    "a"
   ]
  },
  {
   "cell_type": "code",
   "execution_count": 107,
   "id": "69ba8ebf",
   "metadata": {},
   "outputs": [
    {
     "name": "stdout",
     "output_type": "stream",
     "text": [
      "0 12\n",
      "1 13\n",
      "2 17\n",
      "3 30\n",
      "4 20\n",
      "5 14\n"
     ]
    }
   ],
   "source": [
    "l=[12,13,17,30,20,14]\n",
    "for i,v in enumerate(l):\n",
    "    print(i,v)"
   ]
  },
  {
   "cell_type": "code",
   "execution_count": 110,
   "id": "ae26a029-6651-4580-8191-8e8c010d48c6",
   "metadata": {},
   "outputs": [
    {
     "data": {
      "text/plain": [
       "{0: 12, 1: 13, 2: 17, 3: 30, 4: 20, 5: 14}"
      ]
     },
     "execution_count": 110,
     "metadata": {},
     "output_type": "execute_result"
    }
   ],
   "source": [
    "l=[12,13,17,30,20,14]\n",
    "dict(enumerate(l))"
   ]
  },
  {
   "cell_type": "code",
   "execution_count": 119,
   "id": "f94a5e95",
   "metadata": {},
   "outputs": [
    {
     "data": {
      "text/plain": [
       "<zip at 0x263176242c0>"
      ]
     },
     "execution_count": 119,
     "metadata": {},
     "output_type": "execute_result"
    }
   ],
   "source": [
    "l=[12,13,17,30,20,14]\n",
    "l1=[15,10,18,40,80,24]\n",
    "l2=[11,14,1,3,2,1]\n",
    "a=zip(l,l1,l2)\n",
    "a"
   ]
  },
  {
   "cell_type": "code",
   "execution_count": 120,
   "id": "b76f18fc",
   "metadata": {
    "scrolled": true
   },
   "outputs": [
    {
     "data": {
      "text/plain": [
       "[(12, 15, 11),\n",
       " (13, 10, 14),\n",
       " (17, 18, 1),\n",
       " (30, 40, 3),\n",
       " (20, 80, 2),\n",
       " (14, 24, 1)]"
      ]
     },
     "execution_count": 120,
     "metadata": {},
     "output_type": "execute_result"
    }
   ],
   "source": [
    "list(a)"
   ]
  },
  {
   "cell_type": "code",
   "execution_count": 121,
   "id": "b8c82309",
   "metadata": {
    "scrolled": true
   },
   "outputs": [
    {
     "data": {
      "text/plain": [
       "()"
      ]
     },
     "execution_count": 121,
     "metadata": {},
     "output_type": "execute_result"
    }
   ],
   "source": [
    "tuple(a)"
   ]
  },
  {
   "cell_type": "code",
   "execution_count": 122,
   "id": "b225bb39",
   "metadata": {},
   "outputs": [
    {
     "data": {
      "text/plain": [
       "((12, 15, 11),\n",
       " (13, 10, 14),\n",
       " (17, 18, 1),\n",
       " (30, 40, 3),\n",
       " (20, 80, 2),\n",
       " (14, 24, 1))"
      ]
     },
     "execution_count": 122,
     "metadata": {},
     "output_type": "execute_result"
    }
   ],
   "source": [
    "l=[12,13,17,30,20,14]\n",
    "l1=[15,10,18,40,80,24]\n",
    "l2=[11,14,1,3,2,1]\n",
    "a=zip(l,l1,l2)\n",
    "tuple(a)"
   ]
  },
  {
   "cell_type": "code",
   "execution_count": 123,
   "id": "0af82c35",
   "metadata": {},
   "outputs": [
    {
     "name": "stdout",
     "output_type": "stream",
     "text": [
      "12 15 11\n",
      "13 10 14\n",
      "17 18 1\n",
      "30 40 3\n",
      "20 80 2\n",
      "14 24 1\n"
     ]
    }
   ],
   "source": [
    "l=[12,13,17,30,20,14]\n",
    "l1=[15,10,18,40,80,24]\n",
    "l2=[11,14,1,3,2,1]\n",
    "for i,v,k in zip(l,l1,l2):\n",
    "    print(i,v,k)"
   ]
  },
  {
   "cell_type": "code",
   "execution_count": null,
   "id": "96ad3df4-ad06-4dea-af39-9e2aae49e4e4",
   "metadata": {},
   "outputs": [],
   "source": [
    "# def list()"
   ]
  },
  {
   "cell_type": "code",
   "execution_count": 125,
   "id": "fe397ba5",
   "metadata": {},
   "outputs": [
    {
     "data": {
      "text/plain": [
       "11"
      ]
     },
     "execution_count": 125,
     "metadata": {},
     "output_type": "execute_result"
    }
   ],
   "source": [
    "eval('3**2+7+10-15')"
   ]
  },
  {
   "cell_type": "code",
   "execution_count": 126,
   "id": "7993cfa5",
   "metadata": {},
   "outputs": [
    {
     "data": {
      "text/plain": [
       "8.0"
      ]
     },
     "execution_count": 126,
     "metadata": {},
     "output_type": "execute_result"
    }
   ],
   "source": [
    "eval('(x+1)**2*y/z',{'x':1,'y':2,'z':1})"
   ]
  },
  {
   "cell_type": "code",
   "execution_count": 128,
   "id": "5905db6a-7198-442b-a98c-6fa5754df7fc",
   "metadata": {},
   "outputs": [
    {
     "data": {
      "text/plain": [
       "4"
      ]
     },
     "execution_count": 128,
     "metadata": {},
     "output_type": "execute_result"
    }
   ],
   "source": [
    "eval('x**2+2*x+1', {'x':1})"
   ]
  },
  {
   "cell_type": "code",
   "execution_count": 130,
   "id": "2abb6931-acd4-4190-bab4-827b75ee9ce0",
   "metadata": {},
   "outputs": [],
   "source": [
    "a=12"
   ]
  },
  {
   "cell_type": "code",
   "execution_count": 132,
   "id": "6ea62f8b",
   "metadata": {
    "scrolled": true
   },
   "outputs": [
    {
     "data": {
      "text/plain": [
       "12"
      ]
     },
     "execution_count": 132,
     "metadata": {},
     "output_type": "execute_result"
    }
   ],
   "source": [
    "globals()['a']"
   ]
  },
  {
   "cell_type": "code",
   "execution_count": 134,
   "id": "3957dddb",
   "metadata": {},
   "outputs": [
    {
     "data": {
      "text/plain": [
       "1.3"
      ]
     },
     "execution_count": 134,
     "metadata": {},
     "output_type": "execute_result"
    }
   ],
   "source": [
    "round(1.29635,1)"
   ]
  },
  {
   "cell_type": "code",
   "execution_count": 1,
   "id": "0d5ab64f",
   "metadata": {},
   "outputs": [],
   "source": [
    "def even(n):\n",
    "    if n%2==0:\n",
    "        return True\n",
    "    return False"
   ]
  },
  {
   "cell_type": "code",
   "execution_count": 3,
   "id": "16fda590",
   "metadata": {},
   "outputs": [
    {
     "data": {
      "text/plain": [
       "[12, 30, 20, 14]"
      ]
     },
     "execution_count": 3,
     "metadata": {},
     "output_type": "execute_result"
    }
   ],
   "source": [
    "# filter(fun,iterable)\n",
    "l=[12,13,17,30,20,14]\n",
    "a=filter(even,l)\n",
    "list(a)"
   ]
  },
  {
   "cell_type": "code",
   "execution_count": 4,
   "id": "687a1cec",
   "metadata": {},
   "outputs": [
    {
     "data": {
      "text/plain": [
       "()"
      ]
     },
     "execution_count": 4,
     "metadata": {},
     "output_type": "execute_result"
    }
   ],
   "source": [
    "tuple(a)"
   ]
  },
  {
   "cell_type": "code",
   "execution_count": 1,
   "id": "0544f2b0",
   "metadata": {},
   "outputs": [],
   "source": [
    "def prime(n):\n",
    "    if n==2 or n==3:\n",
    "        return True\n",
    "    s=int(n**(1/2))\n",
    "    i=2\n",
    "    while True:\n",
    "        if n%i==0:\n",
    "            return False\n",
    "        if i==s:\n",
    "            break\n",
    "        i+=1\n",
    "    return True"
   ]
  },
  {
   "cell_type": "code",
   "execution_count": 2,
   "id": "2adc39e0",
   "metadata": {},
   "outputs": [
    {
     "data": {
      "text/plain": [
       "<filter at 0x1dd24dbb100>"
      ]
     },
     "execution_count": 2,
     "metadata": {},
     "output_type": "execute_result"
    }
   ],
   "source": [
    "a=filter(prime,range(2,50))\n",
    "# list(a)\\\n",
    "a"
   ]
  },
  {
   "cell_type": "code",
   "execution_count": 18,
   "id": "0b216503-ad68-45d9-80c2-ad8cb38ed04b",
   "metadata": {},
   "outputs": [
    {
     "data": {
      "text/plain": [
       "2049317777664"
      ]
     },
     "execution_count": 18,
     "metadata": {},
     "output_type": "execute_result"
    }
   ],
   "source": [
    "id(a)"
   ]
  },
  {
   "cell_type": "code",
   "execution_count": null,
   "id": "f715a4df-bb52-4980-8d8b-c0a94e6be27e",
   "metadata": {},
   "outputs": [],
   "source": [
    "0,1,10,11,100,101,110,111\n",
    "0,1,2,3,4,5,6,7,8,9,10,11,12,\n",
    "0,1,2,3,4,5,6,7,8,9,a,b,c,d,e,f,10,11,"
   ]
  },
  {
   "cell_type": "code",
   "execution_count": 9,
   "id": "2e496b1f-7f18-4a91-a45c-6f9f776918cc",
   "metadata": {},
   "outputs": [
    {
     "data": {
      "text/plain": [
       "160"
      ]
     },
     "execution_count": 9,
     "metadata": {},
     "output_type": "execute_result"
    }
   ],
   "source": [
    "# 132\n",
    "# 2+10*3+100*1\n",
    "0*16**(0)+ 10*16**(1)"
   ]
  },
  {
   "cell_type": "code",
   "execution_count": 20,
   "id": "6c33b57d-1844-425c-82e7-4363c0f53c5f",
   "metadata": {},
   "outputs": [],
   "source": [
    "def intr(s:str, base:int):\n",
    "    r=0\n",
    "    j=0\n",
    "    d={'0':0,'1':1,'2':2,'3':3,'4':4,'5':5,'6':6,'7':7,'8':8,'9':9,'a':10,'b':11,'c':12,'d':13,'e':14,'f':15}\n",
    "    for i in s[::-1]:\n",
    "        r += d.get(i)*pow(base,j)\n",
    "        j+=1\n",
    "    return r"
   ]
  },
  {
   "cell_type": "code",
   "execution_count": 22,
   "id": "7b95c395-9050-4318-9743-75ffbfbe044a",
   "metadata": {},
   "outputs": [
    {
     "data": {
      "text/plain": [
       "True"
      ]
     },
     "execution_count": 22,
     "metadata": {},
     "output_type": "execute_result"
    }
   ],
   "source": [
    "intr('1dd24dbb100',base = 16)==2049317777664"
   ]
  },
  {
   "cell_type": "code",
   "execution_count": 17,
   "id": "44b66db9-8c31-4ba3-848e-acfb628b23d5",
   "metadata": {
    "scrolled": true
   },
   "outputs": [
    {
     "data": {
      "text/plain": [
       "3"
      ]
     },
     "execution_count": 17,
     "metadata": {},
     "output_type": "execute_result"
    }
   ],
   "source": [
    "int('11',base = 2)"
   ]
  },
  {
   "cell_type": "code",
   "execution_count": 7,
   "id": "40a37143-418c-4005-aa33-52eed794f0ed",
   "metadata": {},
   "outputs": [],
   "source": [
    "# generate all the numbers between 2 to 50 that is divisible by 3, 4 and 7 \n",
    "# generate all the numbers between 2 to 50 that is divisible by 3 or 4 or 7 "
   ]
  },
  {
   "cell_type": "code",
   "execution_count": 9,
   "id": "e02b846d",
   "metadata": {},
   "outputs": [
    {
     "data": {
      "text/plain": [
       "False"
      ]
     },
     "execution_count": 9,
     "metadata": {},
     "output_type": "execute_result"
    }
   ],
   "source": [
    "isinstance([1,2,3],dict)"
   ]
  },
  {
   "cell_type": "code",
   "execution_count": 8,
   "id": "3ce82237",
   "metadata": {},
   "outputs": [
    {
     "data": {
      "text/plain": [
       "True"
      ]
     },
     "execution_count": 8,
     "metadata": {},
     "output_type": "execute_result"
    }
   ],
   "source": [
    "isinstance([1,2,3],list)"
   ]
  },
  {
   "cell_type": "code",
   "execution_count": 11,
   "id": "b396b18e",
   "metadata": {},
   "outputs": [],
   "source": [
    "def even(n):\n",
    "    if n%2==0:\n",
    "        return f'{n} even'\n",
    "    return f'{n} odd'"
   ]
  },
  {
   "cell_type": "code",
   "execution_count": 12,
   "id": "4d4ef155",
   "metadata": {},
   "outputs": [
    {
     "data": {
      "text/plain": [
       "['12 even', '13 odd', '17 odd', '30 even', '20 even', '14 even']"
      ]
     },
     "execution_count": 12,
     "metadata": {},
     "output_type": "execute_result"
    }
   ],
   "source": [
    "# map(fun,iterable)\n",
    "l=[12,13,17,30,20,14]\n",
    "a=map(even, l)\n",
    "list(a)"
   ]
  },
  {
   "cell_type": "code",
   "execution_count": 21,
   "id": "135832c5-1b1a-4c66-8d7a-e8c0f97c4c70",
   "metadata": {},
   "outputs": [
    {
     "name": "stdin",
     "output_type": "stream",
     "text": [
      " 12 13 45 90\n"
     ]
    }
   ],
   "source": [
    "l = list(map(int, input().split(' ')))"
   ]
  },
  {
   "cell_type": "code",
   "execution_count": 28,
   "id": "6bc0cb84-e4aa-4e6a-bdc9-53e41ce70741",
   "metadata": {},
   "outputs": [
    {
     "name": "stdin",
     "output_type": "stream",
     "text": [
      " 12 13 45 90\n"
     ]
    },
    {
     "data": {
      "text/plain": [
       "[12, 13, 45, 90]"
      ]
     },
     "execution_count": 28,
     "metadata": {},
     "output_type": "execute_result"
    }
   ],
   "source": [
    "l = list(map(int, input().split()))\n",
    "l"
   ]
  },
  {
   "cell_type": "code",
   "execution_count": 16,
   "id": "99b4db0f-918a-42bc-a2e5-24692cee1fe1",
   "metadata": {},
   "outputs": [
    {
     "data": {
      "text/plain": [
       "['12', '13', '45', '90']"
      ]
     },
     "execution_count": 16,
     "metadata": {},
     "output_type": "execute_result"
    }
   ],
   "source": [
    "'12 13 45 90'.split(' ')"
   ]
  },
  {
   "cell_type": "code",
   "execution_count": 29,
   "id": "a479a767",
   "metadata": {},
   "outputs": [
    {
     "name": "stdin",
     "output_type": "stream",
     "text": [
      "please enter the number with comma separeted:  12,34,45,67,90\n"
     ]
    },
    {
     "data": {
      "text/plain": [
       "(12, 34, 45, 67, 90)"
      ]
     },
     "execution_count": 29,
     "metadata": {},
     "output_type": "execute_result"
    }
   ],
   "source": [
    "n= tuple(map(int,input('please enter the number with comma separeted: ').split(',')))\n",
    "n"
   ]
  },
  {
   "cell_type": "markdown",
   "id": "28cce2e3",
   "metadata": {},
   "source": [
    "write a one line expression to make a list by taking space separated value from the user in form of integer"
   ]
  },
  {
   "cell_type": "code",
   "execution_count": 24,
   "id": "1ad5b32d-0b92-4fa8-a390-cd63b127f839",
   "metadata": {},
   "outputs": [],
   "source": [
    "# help(zip)"
   ]
  },
  {
   "cell_type": "code",
   "execution_count": 5,
   "id": "52d49a40-3c37-4ca0-b1df-07c23e693682",
   "metadata": {
    "scrolled": true
   },
   "outputs": [
    {
     "name": "stdout",
     "output_type": "stream",
     "text": [
      "Help on built-in function max in module builtins:\n",
      "\n",
      "max(...)\n",
      "    max(iterable, *[, default=obj, key=func]) -> value\n",
      "    max(arg1, arg2, *args, *[, key=func]) -> value\n",
      "\n",
      "    With a single iterable argument, return its biggest item. The\n",
      "    default keyword-only argument specifies an object to return if\n",
      "    the provided iterable is empty.\n",
      "    With two or more arguments, return the largest argument.\n",
      "\n"
     ]
    }
   ],
   "source": [
    "help(max)"
   ]
  },
  {
   "cell_type": "code",
   "execution_count": 34,
   "id": "98e97345-3db4-47f4-9ee4-ac2473bbca8e",
   "metadata": {},
   "outputs": [
    {
     "data": {
      "text/plain": [
       "'three'"
      ]
     },
     "execution_count": 34,
     "metadata": {},
     "output_type": "execute_result"
    }
   ],
   "source": [
    "l =['one', 'two', 'three', 'four','five']\n",
    "# {'one':3 , 'two':3, 'three':5 ,'four':4,'five':4}\n",
    "max(l, key= len)"
   ]
  },
  {
   "cell_type": "code",
   "execution_count": 61,
   "id": "a0983336-b235-438a-b7ed-31d925af0d26",
   "metadata": {},
   "outputs": [],
   "source": [
    "def fun(d:dict):\n",
    "    print()\n",
    "    v = d.values()\n",
    "    l = list(v)\n",
    "    print(l)\n",
    "    return l[0]"
   ]
  },
  {
   "cell_type": "code",
   "execution_count": 62,
   "id": "4d331a32-c437-4caf-aadc-a600aee40387",
   "metadata": {},
   "outputs": [
    {
     "data": {
      "text/plain": [
       "dict_values([4])"
      ]
     },
     "execution_count": 62,
     "metadata": {},
     "output_type": "execute_result"
    }
   ],
   "source": [
    "{'indu':4}.values()"
   ]
  },
  {
   "cell_type": "code",
   "execution_count": 63,
   "id": "888e5ac5-7a03-43a6-8c39-46f19aaec0e3",
   "metadata": {},
   "outputs": [
    {
     "name": "stdout",
     "output_type": "stream",
     "text": [
      "\n",
      "[14]\n",
      "\n",
      "[1]\n",
      "\n",
      "[3]\n",
      "\n",
      "[0]\n"
     ]
    },
    {
     "data": {
      "text/plain": [
       "{'indu': 14}"
      ]
     },
     "execution_count": 63,
     "metadata": {},
     "output_type": "execute_result"
    }
   ],
   "source": [
    "l = [{'indu':14}, {'idrish':1},{'anand':3}, {'abhishek':0}]\n",
    "max(l, key = fun)"
   ]
  },
  {
   "cell_type": "code",
   "execution_count": 64,
   "id": "c6328584",
   "metadata": {},
   "outputs": [
    {
     "data": {
      "text/plain": [
       "1"
      ]
     },
     "execution_count": 64,
     "metadata": {},
     "output_type": "execute_result"
    }
   ],
   "source": [
    "min([1, 2, 3, 54, 6, 789, 90, 13])"
   ]
  },
  {
   "cell_type": "code",
   "execution_count": 66,
   "id": "9d87bda9",
   "metadata": {},
   "outputs": [
    {
     "data": {
      "text/plain": [
       "9"
      ]
     },
     "execution_count": 66,
     "metadata": {},
     "output_type": "execute_result"
    }
   ],
   "source": [
    "3**2"
   ]
  },
  {
   "cell_type": "code",
   "execution_count": 65,
   "id": "5a985729",
   "metadata": {},
   "outputs": [
    {
     "data": {
      "text/plain": [
       "9"
      ]
     },
     "execution_count": 65,
     "metadata": {},
     "output_type": "execute_result"
    }
   ],
   "source": [
    "pow(3,2)"
   ]
  },
  {
   "cell_type": "code",
   "execution_count": 67,
   "id": "87f56ec8",
   "metadata": {},
   "outputs": [
    {
     "data": {
      "text/plain": [
       "[2, 54, 789, 13]"
      ]
     },
     "execution_count": 67,
     "metadata": {},
     "output_type": "execute_result"
    }
   ],
   "source": [
    "l=[1, 2, 3, 54, 6, 789, 90, 13]\n",
    "l[1:8:2]"
   ]
  },
  {
   "cell_type": "code",
   "execution_count": 68,
   "id": "837bd6e3",
   "metadata": {},
   "outputs": [
    {
     "data": {
      "text/plain": [
       "[2, 54, 789, 13]"
      ]
     },
     "execution_count": 68,
     "metadata": {},
     "output_type": "execute_result"
    }
   ],
   "source": [
    "l[slice(1,8,2)]"
   ]
  },
  {
   "cell_type": "code",
   "execution_count": 70,
   "id": "df3876c2",
   "metadata": {},
   "outputs": [
    {
     "data": {
      "text/plain": [
       "12"
      ]
     },
     "execution_count": 70,
     "metadata": {},
     "output_type": "execute_result"
    }
   ],
   "source": [
    "l=[1, 2, 3, 1, 0, 5]\n",
    "sum(l,start= 5)"
   ]
  },
  {
   "cell_type": "code",
   "execution_count": 22,
   "id": "d0f9e014-5c0b-4a73-95ee-2eea907aca57",
   "metadata": {},
   "outputs": [
    {
     "name": "stdout",
     "output_type": "stream",
     "text": [
      "Help on built-in function sum in module builtins:\n",
      "\n",
      "sum(iterable, /, start=0)\n",
      "    Return the sum of a 'start' value (default: 0) plus an iterable of numbers\n",
      "\n",
      "    When the iterable is empty, return the start value.\n",
      "    This function is intended specifically for use with numeric values and may\n",
      "    reject non-numeric types.\n",
      "\n"
     ]
    }
   ],
   "source": [
    "help(sum)"
   ]
  },
  {
   "cell_type": "code",
   "execution_count": 3,
   "id": "7b4730cd",
   "metadata": {},
   "outputs": [
    {
     "data": {
      "text/plain": [
       "[1, 2, 3, 6, 13, 54, 90, 789]"
      ]
     },
     "execution_count": 3,
     "metadata": {},
     "output_type": "execute_result"
    }
   ],
   "source": [
    "l=[1,90, 2, 3, 54, 6, 789,13]\n",
    "sorted(l)"
   ]
  },
  {
   "cell_type": "code",
   "execution_count": 4,
   "id": "74bf0cc2-29d6-4d87-91e1-8a65835810e0",
   "metadata": {},
   "outputs": [
    {
     "data": {
      "text/plain": [
       "[1, 90, 2, 3, 54, 6, 789, 13]"
      ]
     },
     "execution_count": 4,
     "metadata": {},
     "output_type": "execute_result"
    }
   ],
   "source": [
    "l"
   ]
  },
  {
   "cell_type": "code",
   "execution_count": 5,
   "id": "1316d657",
   "metadata": {},
   "outputs": [],
   "source": [
    "l=[1, 2, 3, 54, 6, 789, 90, 13]\n",
    "l.sort()"
   ]
  },
  {
   "cell_type": "code",
   "execution_count": 6,
   "id": "e9b64996-e790-46a4-9ed3-df10cf3ecd61",
   "metadata": {},
   "outputs": [
    {
     "data": {
      "text/plain": [
       "[1, 2, 3, 6, 13, 54, 90, 789]"
      ]
     },
     "execution_count": 6,
     "metadata": {},
     "output_type": "execute_result"
    }
   ],
   "source": [
    "l"
   ]
  },
  {
   "cell_type": "code",
   "execution_count": 7,
   "id": "93f781f9",
   "metadata": {},
   "outputs": [
    {
     "data": {
      "text/plain": [
       "[789, 90, 54, 13, 6, 3, 2, 1]"
      ]
     },
     "execution_count": 7,
     "metadata": {},
     "output_type": "execute_result"
    }
   ],
   "source": [
    "l=[1, 2, 3, 54, 6, 789, 90, 13]\n",
    "sorted(l,reverse=True)"
   ]
  },
  {
   "cell_type": "code",
   "execution_count": 8,
   "id": "f93d12aa",
   "metadata": {},
   "outputs": [
    {
     "data": {
      "text/plain": [
       "[789, 90, 54, 13, 6, 3, 2, 1]"
      ]
     },
     "execution_count": 8,
     "metadata": {},
     "output_type": "execute_result"
    }
   ],
   "source": [
    "l=[1, 2, 3, 54, 6, 789, 90, 13]\n",
    "l.sort(reverse=True)\n",
    "l"
   ]
  },
  {
   "cell_type": "code",
   "execution_count": 10,
   "id": "90914ea7",
   "metadata": {},
   "outputs": [],
   "source": [
    "# sorted(l,key=fun)\n",
    "l=[(1,'one'), (3,'Three'),(2,'two'),(54,'fiftyfour'), (6,'six'), (789,'seveneightynine')]\n"
   ]
  },
  {
   "cell_type": "code",
   "execution_count": 11,
   "id": "7468a9ea",
   "metadata": {},
   "outputs": [
    {
     "data": {
      "text/plain": [
       "[(1, 'one'),\n",
       " (2, 'two'),\n",
       " (6, 'six'),\n",
       " (3, 'Three'),\n",
       " (54, 'fiftyfour'),\n",
       " (789, 'seveneightynine')]"
      ]
     },
     "execution_count": 11,
     "metadata": {},
     "output_type": "execute_result"
    }
   ],
   "source": [
    "def fun(t):\n",
    "    return len(t[1])\n",
    "sorted(l, key = fun)"
   ]
  },
  {
   "cell_type": "code",
   "execution_count": 34,
   "id": "657aaeac",
   "metadata": {},
   "outputs": [],
   "source": [
    "# --1,3,2,54,6,789\n",
    "# --1,2,3,6,54,789"
   ]
  },
  {
   "cell_type": "code",
   "execution_count": 13,
   "id": "9d2c5784",
   "metadata": {},
   "outputs": [
    {
     "data": {
      "text/plain": [
       "[(1, 'one'),\n",
       " (2, 'two'),\n",
       " (6, 'six'),\n",
       " (3, 'Three'),\n",
       " (54, 'fiftyfour'),\n",
       " (789, 'seveneightynine')]"
      ]
     },
     "execution_count": 13,
     "metadata": {},
     "output_type": "execute_result"
    }
   ],
   "source": [
    "sorted(l,key=fun)"
   ]
  },
  {
   "cell_type": "code",
   "execution_count": 11,
   "id": "0ccbc7e5-adfe-4258-a211-cd94be4be250",
   "metadata": {},
   "outputs": [
    {
     "name": "stdout",
     "output_type": "stream",
     "text": [
      "((0, '1'), (1, '2'), (2, '3'), (3, '4'))\n"
     ]
    }
   ],
   "source": [
    "p=enumerate('1234')\n",
    "t=tuple(p)\n",
    "print(t)"
   ]
  },
  {
   "cell_type": "code",
   "execution_count": 10,
   "id": "3334e63e-092d-4346-85c8-3a4a03855eb6",
   "metadata": {},
   "outputs": [
    {
     "data": {
      "text/plain": [
       "()"
      ]
     },
     "execution_count": 10,
     "metadata": {},
     "output_type": "execute_result"
    }
   ],
   "source": [
    "tuple(p)"
   ]
  },
  {
   "cell_type": "code",
   "execution_count": 4,
   "id": "9fdee19e-2f16-4a63-8c55-9a0469e0b5fc",
   "metadata": {},
   "outputs": [
    {
     "data": {
      "text/plain": [
       "['1', '2', '3', '4']"
      ]
     },
     "execution_count": 4,
     "metadata": {},
     "output_type": "execute_result"
    }
   ],
   "source": [
    "list('1234')"
   ]
  },
  {
   "cell_type": "code",
   "execution_count": 12,
   "id": "6d050944-ae08-435d-ac92-eb90aa80a9f9",
   "metadata": {},
   "outputs": [],
   "source": [
    "l=['shubham', 'siddharth', 'abhishek']"
   ]
  },
  {
   "cell_type": "code",
   "execution_count": 17,
   "id": "9c9ef82a-acf8-40fa-aafd-f821ba7dc40d",
   "metadata": {},
   "outputs": [
    {
     "name": "stdout",
     "output_type": "stream",
     "text": [
      "[7, 9, 8]\n",
      "[]\n"
     ]
    }
   ],
   "source": [
    "p=map(len,l)\n",
    "print(list(p))\n",
    "print(list(p))"
   ]
  },
  {
   "cell_type": "code",
   "execution_count": 105,
   "id": "4616aadc-b447-4f20-a917-29343b4e0282",
   "metadata": {},
   "outputs": [],
   "source": [
    "def prime(t):\n",
    "    for n in range(5,t):\n",
    "        c=1\n",
    "        s=int(n**(1/2))\n",
    "        for i in range(2,s+1):\n",
    "            if n%i==0:\n",
    "                # print(\"not_prime\")\n",
    "                c=0\n",
    "                break\n",
    "        if c:\n",
    "            # print('prime')        \n",
    "            yield n\n",
    "        # else:\n",
    "            # yield n"
   ]
  },
  {
   "cell_type": "code",
   "execution_count": 106,
   "id": "f7e71ade-1bb3-4b67-b842-b4a181b193ec",
   "metadata": {},
   "outputs": [],
   "source": [
    "p=prime(50)"
   ]
  },
  {
   "cell_type": "code",
   "execution_count": 107,
   "id": "c43a12ce-92f7-4836-88dc-f6275458c858",
   "metadata": {},
   "outputs": [
    {
     "data": {
      "text/plain": [
       "5"
      ]
     },
     "execution_count": 107,
     "metadata": {},
     "output_type": "execute_result"
    }
   ],
   "source": [
    "next(p)"
   ]
  },
  {
   "cell_type": "code",
   "execution_count": 109,
   "id": "d1612e4d-871a-42b1-b689-acf8b0eeff35",
   "metadata": {},
   "outputs": [
    {
     "data": {
      "text/plain": [
       "(7, 11, 13, 17, 19, 23, 29, 31, 37, 41, 43, 47)"
      ]
     },
     "execution_count": 109,
     "metadata": {},
     "output_type": "execute_result"
    }
   ],
   "source": [
    "tuple(p)"
   ]
  },
  {
   "cell_type": "code",
   "execution_count": 103,
   "id": "a852b249-9074-48f1-b48d-29a766cacc14",
   "metadata": {},
   "outputs": [
    {
     "data": {
      "text/plain": [
       "[7, 11, 13, 17, 19, 23, 29, 31, 37, 41, 43, 47]"
      ]
     },
     "execution_count": 103,
     "metadata": {},
     "output_type": "execute_result"
    }
   ],
   "source": [
    "list(p)"
   ]
  },
  {
   "cell_type": "code",
   "execution_count": 110,
   "id": "a71328d7-aa52-44e7-bae9-198ea2f78d2d",
   "metadata": {},
   "outputs": [
    {
     "data": {
      "text/plain": [
       "range(0, 10)"
      ]
     },
     "execution_count": 110,
     "metadata": {},
     "output_type": "execute_result"
    }
   ],
   "source": [
    "range(10)"
   ]
  },
  {
   "cell_type": "code",
   "execution_count": 111,
   "id": "ea7ff137-d1bf-4eb9-9293-a70d522d63c7",
   "metadata": {},
   "outputs": [
    {
     "data": {
      "text/plain": [
       "[0, 1, 2, 3, 4, 5, 6, 7, 8, 9]"
      ]
     },
     "execution_count": 111,
     "metadata": {},
     "output_type": "execute_result"
    }
   ],
   "source": [
    "list(range(10))"
   ]
  },
  {
   "cell_type": "code",
   "execution_count": 112,
   "id": "1fc4d0dc-c865-4ba5-978f-5cda495bc983",
   "metadata": {},
   "outputs": [
    {
     "data": {
      "text/plain": [
       "'range(0, 10)'"
      ]
     },
     "execution_count": 112,
     "metadata": {},
     "output_type": "execute_result"
    }
   ],
   "source": [
    "str(range(10))"
   ]
  },
  {
   "cell_type": "code",
   "execution_count": 113,
   "id": "a8c3f31c-cbaf-42be-bbce-7be4b55b85ff",
   "metadata": {},
   "outputs": [
    {
     "data": {
      "text/plain": [
       "5"
      ]
     },
     "execution_count": 113,
     "metadata": {},
     "output_type": "execute_result"
    }
   ],
   "source": [
    "3 and 5"
   ]
  },
  {
   "cell_type": "code",
   "execution_count": 114,
   "id": "1be105a7-7ae5-42a6-8417-fdcd9c71a228",
   "metadata": {},
   "outputs": [
    {
     "data": {
      "text/plain": [
       "3"
      ]
     },
     "execution_count": 114,
     "metadata": {},
     "output_type": "execute_result"
    }
   ],
   "source": [
    "3 or 5"
   ]
  },
  {
   "cell_type": "code",
   "execution_count": 115,
   "id": "0ccd8f2a-d73f-402e-bd04-275d6283b1c4",
   "metadata": {},
   "outputs": [],
   "source": [
    "import numpy as np\n",
    "import pandas as pd"
   ]
  },
  {
   "cell_type": "code",
   "execution_count": 116,
   "id": "4315fc1f-8e7f-4601-9853-2cba959add4f",
   "metadata": {},
   "outputs": [],
   "source": [
    "a = np.arange(10)"
   ]
  },
  {
   "cell_type": "code",
   "execution_count": 117,
   "id": "646b6a8d-ee4d-46a3-926d-5dc03e4b3dda",
   "metadata": {},
   "outputs": [],
   "source": [
    "s = pd.Series(a)"
   ]
  },
  {
   "cell_type": "code",
   "execution_count": 118,
   "id": "3b140e3a-1751-4628-b0fd-6aaec5b1a5ec",
   "metadata": {},
   "outputs": [
    {
     "data": {
      "text/plain": [
       "array([0, 1, 2, 3, 4, 5, 6, 7, 8, 9])"
      ]
     },
     "execution_count": 118,
     "metadata": {},
     "output_type": "execute_result"
    }
   ],
   "source": [
    "a"
   ]
  },
  {
   "cell_type": "code",
   "execution_count": 119,
   "id": "cb22f4f9-56f3-4c06-89dd-a5d76c5d2da8",
   "metadata": {},
   "outputs": [
    {
     "data": {
      "text/plain": [
       "0    0\n",
       "1    1\n",
       "2    2\n",
       "3    3\n",
       "4    4\n",
       "5    5\n",
       "6    6\n",
       "7    7\n",
       "8    8\n",
       "9    9\n",
       "dtype: int32"
      ]
     },
     "execution_count": 119,
     "metadata": {},
     "output_type": "execute_result"
    }
   ],
   "source": [
    "s"
   ]
  },
  {
   "cell_type": "code",
   "execution_count": 121,
   "id": "541075a8-ead4-468e-b17e-8266444bd123",
   "metadata": {},
   "outputs": [],
   "source": [
    "s[0]=9"
   ]
  },
  {
   "cell_type": "code",
   "execution_count": 122,
   "id": "e39f5bfd-e738-4d9c-9025-fbac62d9abcc",
   "metadata": {},
   "outputs": [
    {
     "data": {
      "text/plain": [
       "0    9\n",
       "1    1\n",
       "2    2\n",
       "3    3\n",
       "4    4\n",
       "5    5\n",
       "6    6\n",
       "7    7\n",
       "8    8\n",
       "9    9\n",
       "dtype: int32"
      ]
     },
     "execution_count": 122,
     "metadata": {},
     "output_type": "execute_result"
    }
   ],
   "source": [
    "s"
   ]
  },
  {
   "cell_type": "code",
   "execution_count": 123,
   "id": "a222fd7e-fc42-4ded-a87f-308035b40305",
   "metadata": {},
   "outputs": [
    {
     "data": {
      "text/plain": [
       "array([9, 1, 2, 3, 4, 5, 6, 7, 8, 9])"
      ]
     },
     "execution_count": 123,
     "metadata": {},
     "output_type": "execute_result"
    }
   ],
   "source": [
    "a"
   ]
  },
  {
   "cell_type": "code",
   "execution_count": 124,
   "id": "a6670c91-e007-440e-a8ec-ef8ce8f7f09a",
   "metadata": {},
   "outputs": [],
   "source": [
    "l =[1,2,3,4,5,6]"
   ]
  },
  {
   "cell_type": "code",
   "execution_count": 125,
   "id": "e1d057a8-bd8e-44ff-ac86-588fdd498260",
   "metadata": {},
   "outputs": [],
   "source": [
    "s= pd.Series(l)"
   ]
  },
  {
   "cell_type": "code",
   "execution_count": 126,
   "id": "fab464db-1458-41b1-ad4e-7d03cde66f29",
   "metadata": {},
   "outputs": [
    {
     "data": {
      "text/plain": [
       "0    1\n",
       "1    2\n",
       "2    3\n",
       "3    4\n",
       "4    5\n",
       "5    6\n",
       "dtype: int64"
      ]
     },
     "execution_count": 126,
     "metadata": {},
     "output_type": "execute_result"
    }
   ],
   "source": [
    "s"
   ]
  },
  {
   "cell_type": "code",
   "execution_count": 127,
   "id": "46a93a1f-71c2-4c6d-9cd3-ae6939d813d0",
   "metadata": {},
   "outputs": [],
   "source": [
    "s[0]=10"
   ]
  },
  {
   "cell_type": "code",
   "execution_count": 128,
   "id": "2e63c562-4765-45cd-a055-d3f1447e0a70",
   "metadata": {},
   "outputs": [
    {
     "data": {
      "text/plain": [
       "0    10\n",
       "1     2\n",
       "2     3\n",
       "3     4\n",
       "4     5\n",
       "5     6\n",
       "dtype: int64"
      ]
     },
     "execution_count": 128,
     "metadata": {},
     "output_type": "execute_result"
    }
   ],
   "source": [
    "s"
   ]
  },
  {
   "cell_type": "code",
   "execution_count": 129,
   "id": "ec15a665-b2e7-43ba-96ef-7c7eae7b4097",
   "metadata": {},
   "outputs": [
    {
     "data": {
      "text/plain": [
       "[1, 2, 3, 4, 5, 6]"
      ]
     },
     "execution_count": 129,
     "metadata": {},
     "output_type": "execute_result"
    }
   ],
   "source": [
    "l"
   ]
  },
  {
   "cell_type": "code",
   "execution_count": null,
   "id": "1a3216da-8b15-45e7-9e8f-7715460a3354",
   "metadata": {},
   "outputs": [],
   "source": []
  }
 ],
 "metadata": {
  "kernelspec": {
   "display_name": "Python 3 (ipykernel)",
   "language": "python",
   "name": "python3"
  },
  "language_info": {
   "codemirror_mode": {
    "name": "ipython",
    "version": 3
   },
   "file_extension": ".py",
   "mimetype": "text/x-python",
   "name": "python",
   "nbconvert_exporter": "python",
   "pygments_lexer": "ipython3",
   "version": "3.12.7"
  }
 },
 "nbformat": 4,
 "nbformat_minor": 5
}
