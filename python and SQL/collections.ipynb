{
 "cells": [
  {
   "cell_type": "code",
   "execution_count": 1,
   "id": "73208364-a082-4294-bdc4-120a6085f465",
   "metadata": {},
   "outputs": [],
   "source": [
    "import collections"
   ]
  },
  {
   "cell_type": "code",
   "execution_count": 3,
   "id": "2e595e33-65a5-464a-a828-2d95982f82c6",
   "metadata": {
    "scrolled": true
   },
   "outputs": [
    {
     "data": {
      "text/plain": [
       "['ChainMap',\n",
       " 'Counter',\n",
       " 'OrderedDict',\n",
       " 'UserDict',\n",
       " 'UserList',\n",
       " 'UserString',\n",
       " '_Link',\n",
       " '_OrderedDictItemsView',\n",
       " '_OrderedDictKeysView',\n",
       " '_OrderedDictValuesView',\n",
       " '__all__',\n",
       " '__builtins__',\n",
       " '__cached__',\n",
       " '__doc__',\n",
       " '__file__',\n",
       " '__loader__',\n",
       " '__name__',\n",
       " '__package__',\n",
       " '__path__',\n",
       " '__spec__',\n",
       " '_chain',\n",
       " '_collections_abc',\n",
       " '_count_elements',\n",
       " '_deque_iterator',\n",
       " '_eq',\n",
       " '_iskeyword',\n",
       " '_itemgetter',\n",
       " '_proxy',\n",
       " '_recursive_repr',\n",
       " '_repeat',\n",
       " '_starmap',\n",
       " '_sys',\n",
       " '_tuplegetter',\n",
       " 'abc',\n",
       " 'defaultdict',\n",
       " 'deque',\n",
       " 'namedtuple']"
      ]
     },
     "execution_count": 3,
     "metadata": {},
     "output_type": "execute_result"
    }
   ],
   "source": [
    "dir(collections)"
   ]
  },
  {
   "cell_type": "code",
   "execution_count": 4,
   "id": "aa5aa47b-ccf9-4461-9b33-05adad1dc5de",
   "metadata": {
    "id": "aa5aa47b-ccf9-4461-9b33-05adad1dc5de"
   },
   "outputs": [],
   "source": [
    "from collections import namedtuple"
   ]
  },
  {
   "cell_type": "code",
   "execution_count": 7,
   "id": "fcc508fd-a0a6-43b6-9e6d-0a157f231140",
   "metadata": {
    "id": "fcc508fd-a0a6-43b6-9e6d-0a157f231140"
   },
   "outputs": [],
   "source": [
    "#x = (12, 3)"
   ]
  },
  {
   "cell_type": "code",
   "execution_count": 9,
   "id": "9a8d42d8-db34-4c39-a121-2d10add1d803",
   "metadata": {
    "id": "9a8d42d8-db34-4c39-a121-2d10add1d803"
   },
   "outputs": [],
   "source": [
    "Point = namedtuple(\"Point\", ['x', 'y', 'z'])\n",
    "\n",
    "## namedtuple(\"Point\", 'x, y, z'.split(','))"
   ]
  },
  {
   "cell_type": "code",
   "execution_count": 11,
   "id": "8404016e-ffa9-4d9f-8330-67062aafdca7",
   "metadata": {
    "id": "8404016e-ffa9-4d9f-8330-67062aafdca7"
   },
   "outputs": [],
   "source": [
    "p = Point(1, 2, 3)"
   ]
  },
  {
   "cell_type": "code",
   "execution_count": 13,
   "id": "b5b5cc93-d0e8-4c4e-a7dc-a0dd1ad7bbb5",
   "metadata": {
    "id": "b5b5cc93-d0e8-4c4e-a7dc-a0dd1ad7bbb5",
    "outputId": "eb098b78-e023-4e22-a2e5-b3915e7a6791"
   },
   "outputs": [
    {
     "data": {
      "text/plain": [
       "1"
      ]
     },
     "execution_count": 13,
     "metadata": {},
     "output_type": "execute_result"
    }
   ],
   "source": [
    "p.x"
   ]
  },
  {
   "cell_type": "code",
   "execution_count": 15,
   "id": "84dfc084-9ca3-4bcf-a372-331723363d01",
   "metadata": {
    "id": "84dfc084-9ca3-4bcf-a372-331723363d01",
    "outputId": "fc8c2e0d-b687-44ad-dbd4-796289e37387"
   },
   "outputs": [
    {
     "data": {
      "text/plain": [
       "2"
      ]
     },
     "execution_count": 15,
     "metadata": {},
     "output_type": "execute_result"
    }
   ],
   "source": [
    "p.y"
   ]
  },
  {
   "cell_type": "code",
   "execution_count": 17,
   "id": "fb3ad1ee-4354-4d21-9c62-ff90bfbe0896",
   "metadata": {
    "id": "fb3ad1ee-4354-4d21-9c62-ff90bfbe0896",
    "outputId": "f1029df7-cd01-4912-aad1-d45faf6f331b"
   },
   "outputs": [
    {
     "data": {
      "text/plain": [
       "3"
      ]
     },
     "execution_count": 17,
     "metadata": {},
     "output_type": "execute_result"
    }
   ],
   "source": [
    "p.z"
   ]
  },
  {
   "cell_type": "code",
   "execution_count": 19,
   "id": "284ec421-2f63-496f-930d-c3255535d2c6",
   "metadata": {
    "id": "284ec421-2f63-496f-930d-c3255535d2c6",
    "outputId": "59c76867-a2df-44f9-b24b-774bcc4aae66"
   },
   "outputs": [
    {
     "name": "stdout",
     "output_type": "stream",
     "text": [
      "1\n",
      "2\n",
      "3\n"
     ]
    }
   ],
   "source": [
    "for i in p:\n",
    "    print(i)"
   ]
  },
  {
   "cell_type": "code",
   "execution_count": 21,
   "id": "fc62398b-6e4f-42ea-a0e9-0646d37becde",
   "metadata": {
    "id": "fc62398b-6e4f-42ea-a0e9-0646d37becde",
    "outputId": "620321cd-b975-4c1c-e005-c30e2d8a58dd",
    "scrolled": true
   },
   "outputs": [
    {
     "data": {
      "text/plain": [
       "['__add__',\n",
       " '__class__',\n",
       " '__class_getitem__',\n",
       " '__contains__',\n",
       " '__delattr__',\n",
       " '__dir__',\n",
       " '__doc__',\n",
       " '__eq__',\n",
       " '__format__',\n",
       " '__ge__',\n",
       " '__getattribute__',\n",
       " '__getitem__',\n",
       " '__getnewargs__',\n",
       " '__getstate__',\n",
       " '__gt__',\n",
       " '__hash__',\n",
       " '__init__',\n",
       " '__init_subclass__',\n",
       " '__iter__',\n",
       " '__le__',\n",
       " '__len__',\n",
       " '__lt__',\n",
       " '__match_args__',\n",
       " '__module__',\n",
       " '__mul__',\n",
       " '__ne__',\n",
       " '__new__',\n",
       " '__reduce__',\n",
       " '__reduce_ex__',\n",
       " '__repr__',\n",
       " '__rmul__',\n",
       " '__setattr__',\n",
       " '__sizeof__',\n",
       " '__slots__',\n",
       " '__str__',\n",
       " '__subclasshook__',\n",
       " '_asdict',\n",
       " '_field_defaults',\n",
       " '_fields',\n",
       " '_make',\n",
       " '_replace',\n",
       " 'count',\n",
       " 'index',\n",
       " 'x',\n",
       " 'y',\n",
       " 'z']"
      ]
     },
     "execution_count": 21,
     "metadata": {},
     "output_type": "execute_result"
    }
   ],
   "source": [
    "dir(p)"
   ]
  },
  {
   "cell_type": "code",
   "execution_count": 23,
   "id": "ea386932-6412-4dd6-a9d6-09cee1516ed7",
   "metadata": {
    "id": "ea386932-6412-4dd6-a9d6-09cee1516ed7",
    "outputId": "cfbd3a7d-7965-41a6-b94a-71b62be4e337"
   },
   "outputs": [
    {
     "data": {
      "text/plain": [
       "{'x': 1, 'y': 2, 'z': 3}"
      ]
     },
     "execution_count": 23,
     "metadata": {},
     "output_type": "execute_result"
    }
   ],
   "source": [
    "p._asdict()"
   ]
  },
  {
   "cell_type": "code",
   "execution_count": 25,
   "id": "6f14e678-aab7-4f69-8741-250745a5113f",
   "metadata": {
    "id": "6f14e678-aab7-4f69-8741-250745a5113f",
    "outputId": "4049eb5a-c476-4ab8-d368-987f98b91b82"
   },
   "outputs": [
    {
     "data": {
      "text/plain": [
       "('x', 'y', 'z')"
      ]
     },
     "execution_count": 25,
     "metadata": {},
     "output_type": "execute_result"
    }
   ],
   "source": [
    "p._fields"
   ]
  },
  {
   "cell_type": "code",
   "execution_count": 27,
   "id": "76f77dad-67d7-4e68-8d62-9a075d46d6c0",
   "metadata": {},
   "outputs": [
    {
     "name": "stdout",
     "output_type": "stream",
     "text": [
      "Help on method _make in module collections:\n",
      "\n",
      "_make(iterable) class method of __main__.Point\n",
      "    Make a new Point object from a sequence or iterable\n",
      "\n"
     ]
    }
   ],
   "source": [
    "help(p._make)"
   ]
  },
  {
   "cell_type": "code",
   "execution_count": 29,
   "id": "29dd05d4-2e26-41fd-a655-ebaa9a751926",
   "metadata": {
    "id": "29dd05d4-2e26-41fd-a655-ebaa9a751926",
    "outputId": "f5516408-702d-46ad-fa94-5c111c3c381d"
   },
   "outputs": [
    {
     "data": {
      "text/plain": [
       "Point(x=1, y=10, z=5)"
      ]
     },
     "execution_count": 29,
     "metadata": {},
     "output_type": "execute_result"
    }
   ],
   "source": [
    "p._make((1,10,5))"
   ]
  },
  {
   "cell_type": "code",
   "execution_count": 31,
   "id": "dc0bb360-2251-41b8-90df-45db472c6954",
   "metadata": {
    "id": "dc0bb360-2251-41b8-90df-45db472c6954"
   },
   "outputs": [],
   "source": [
    "s = p._replace(x=100)"
   ]
  },
  {
   "cell_type": "code",
   "execution_count": 33,
   "id": "2464d712-01a1-4ced-8bd4-a1aeff97c011",
   "metadata": {
    "id": "2464d712-01a1-4ced-8bd4-a1aeff97c011",
    "outputId": "4cb6ef6c-11f3-4b85-c9e1-112b00f9871d"
   },
   "outputs": [
    {
     "data": {
      "text/plain": [
       "Point(x=1, y=2, z=3)"
      ]
     },
     "execution_count": 33,
     "metadata": {},
     "output_type": "execute_result"
    }
   ],
   "source": [
    "p"
   ]
  },
  {
   "cell_type": "code",
   "execution_count": 37,
   "id": "95c0c310-e18d-4e75-9263-94979eaa016f",
   "metadata": {
    "id": "95c0c310-e18d-4e75-9263-94979eaa016f",
    "outputId": "d24a4c64-cfe6-4940-f5bb-97d1ac0148d0"
   },
   "outputs": [
    {
     "data": {
      "text/plain": [
       "Point(x=1, y=2, z=3)"
      ]
     },
     "execution_count": 37,
     "metadata": {},
     "output_type": "execute_result"
    }
   ],
   "source": [
    "p"
   ]
  },
  {
   "cell_type": "code",
   "execution_count": 35,
   "id": "b8f8cff7-b049-4f89-949a-b0ae19ced414",
   "metadata": {
    "id": "b8f8cff7-b049-4f89-949a-b0ae19ced414",
    "outputId": "83b44607-6130-4aa0-a98b-9228a9dc5957"
   },
   "outputs": [
    {
     "data": {
      "text/plain": [
       "Point(x=100, y=2, z=3)"
      ]
     },
     "execution_count": 35,
     "metadata": {},
     "output_type": "execute_result"
    }
   ],
   "source": [
    "s"
   ]
  },
  {
   "cell_type": "code",
   "execution_count": 39,
   "id": "c85f056f-48fe-43c6-88d6-539d0ec0d342",
   "metadata": {
    "id": "c85f056f-48fe-43c6-88d6-539d0ec0d342",
    "outputId": "c751d78e-7bad-48fe-811e-4004f580f0d2"
   },
   "outputs": [
    {
     "data": {
      "text/plain": [
       "3054592057856"
      ]
     },
     "execution_count": 39,
     "metadata": {},
     "output_type": "execute_result"
    }
   ],
   "source": [
    "id(p)"
   ]
  },
  {
   "cell_type": "code",
   "execution_count": 41,
   "id": "ecf18472-7e97-4112-bc9d-51f3a2d3648f",
   "metadata": {
    "id": "ecf18472-7e97-4112-bc9d-51f3a2d3648f",
    "outputId": "c770cb6f-9573-42d6-a47c-60264db6e6e4"
   },
   "outputs": [
    {
     "data": {
      "text/plain": [
       "3054592218576"
      ]
     },
     "execution_count": 41,
     "metadata": {},
     "output_type": "execute_result"
    }
   ],
   "source": [
    "id(s)"
   ]
  },
  {
   "cell_type": "code",
   "execution_count": null,
   "id": "60cb8a6a-3ac5-48ab-b70e-7dc61224b859",
   "metadata": {
    "id": "60cb8a6a-3ac5-48ab-b70e-7dc61224b859"
   },
   "outputs": [],
   "source": [
    "#### M1 , M2, M3 , M4 , M5"
   ]
  },
  {
   "cell_type": "code",
   "execution_count": null,
   "id": "ae7bdd81-1043-4895-8f4a-f3fe5877a33e",
   "metadata": {
    "id": "ae7bdd81-1043-4895-8f4a-f3fe5877a33e"
   },
   "outputs": [],
   "source": [
    "## stack, queue, deque"
   ]
  },
  {
   "cell_type": "code",
   "execution_count": 43,
   "id": "925e7f30-5e59-4d3b-90e6-a8d873d7affd",
   "metadata": {
    "id": "925e7f30-5e59-4d3b-90e6-a8d873d7affd",
    "scrolled": true
   },
   "outputs": [
    {
     "data": {
      "text/plain": [
       "['__add__',\n",
       " '__class__',\n",
       " '__class_getitem__',\n",
       " '__contains__',\n",
       " '__copy__',\n",
       " '__delattr__',\n",
       " '__delitem__',\n",
       " '__dir__',\n",
       " '__doc__',\n",
       " '__eq__',\n",
       " '__format__',\n",
       " '__ge__',\n",
       " '__getattribute__',\n",
       " '__getitem__',\n",
       " '__getstate__',\n",
       " '__gt__',\n",
       " '__hash__',\n",
       " '__iadd__',\n",
       " '__imul__',\n",
       " '__init__',\n",
       " '__init_subclass__',\n",
       " '__iter__',\n",
       " '__le__',\n",
       " '__len__',\n",
       " '__lt__',\n",
       " '__module__',\n",
       " '__mul__',\n",
       " '__ne__',\n",
       " '__new__',\n",
       " '__reduce__',\n",
       " '__reduce_ex__',\n",
       " '__repr__',\n",
       " '__reversed__',\n",
       " '__rmul__',\n",
       " '__setattr__',\n",
       " '__setitem__',\n",
       " '__sizeof__',\n",
       " '__str__',\n",
       " '__subclasshook__',\n",
       " 'append',\n",
       " 'appendleft',\n",
       " 'clear',\n",
       " 'copy',\n",
       " 'count',\n",
       " 'extend',\n",
       " 'extendleft',\n",
       " 'index',\n",
       " 'insert',\n",
       " 'maxlen',\n",
       " 'pop',\n",
       " 'popleft',\n",
       " 'remove',\n",
       " 'reverse',\n",
       " 'rotate']"
      ]
     },
     "execution_count": 43,
     "metadata": {},
     "output_type": "execute_result"
    }
   ],
   "source": [
    "from collections import deque\n",
    "dir(deque)"
   ]
  },
  {
   "cell_type": "code",
   "execution_count": 45,
   "id": "22ecd68a-d6a2-4f84-8aaf-a42fdc199ab6",
   "metadata": {
    "id": "22ecd68a-d6a2-4f84-8aaf-a42fdc199ab6"
   },
   "outputs": [],
   "source": [
    "x = deque([1, 10, 9, 0, 7, 8, 11])"
   ]
  },
  {
   "cell_type": "code",
   "execution_count": 47,
   "id": "7c035cc5-881d-4249-8f64-ec13d3efe65b",
   "metadata": {
    "id": "7c035cc5-881d-4249-8f64-ec13d3efe65b",
    "outputId": "73d9219f-c05d-4648-a2c3-2bae495b61c7"
   },
   "outputs": [
    {
     "data": {
      "text/plain": [
       "deque([1, 10, 9, 0, 7, 8, 11])"
      ]
     },
     "execution_count": 47,
     "metadata": {},
     "output_type": "execute_result"
    }
   ],
   "source": [
    "x"
   ]
  },
  {
   "cell_type": "code",
   "execution_count": 49,
   "id": "52806934-3701-4ca7-9208-3c62865f645c",
   "metadata": {
    "id": "52806934-3701-4ca7-9208-3c62865f645c",
    "outputId": "fc038e16-53b1-479e-d10e-85d133fabb52"
   },
   "outputs": [
    {
     "data": {
      "text/plain": [
       "1"
      ]
     },
     "execution_count": 49,
     "metadata": {},
     "output_type": "execute_result"
    }
   ],
   "source": [
    "x[0]"
   ]
  },
  {
   "cell_type": "code",
   "execution_count": 51,
   "id": "f5a1b0af-64f5-42d1-87f2-421bbc771b84",
   "metadata": {
    "id": "f5a1b0af-64f5-42d1-87f2-421bbc771b84",
    "outputId": "8b6217d8-9b8d-4ba9-e32b-65067daa67fa"
   },
   "outputs": [
    {
     "data": {
      "text/plain": [
       "11"
      ]
     },
     "execution_count": 51,
     "metadata": {},
     "output_type": "execute_result"
    }
   ],
   "source": [
    "x[-1]"
   ]
  },
  {
   "cell_type": "code",
   "execution_count": 53,
   "id": "ce33f01a-623f-445c-99f0-61f4cc85de0d",
   "metadata": {
    "id": "ce33f01a-623f-445c-99f0-61f4cc85de0d",
    "outputId": "f967b29f-6362-471a-adcc-6f3ae02b0c9f"
   },
   "outputs": [
    {
     "data": {
      "text/plain": [
       "11"
      ]
     },
     "execution_count": 53,
     "metadata": {},
     "output_type": "execute_result"
    }
   ],
   "source": [
    "x.pop()"
   ]
  },
  {
   "cell_type": "code",
   "execution_count": 55,
   "id": "d0866a22-6b21-49e4-ae85-7967a6ceb6cf",
   "metadata": {
    "id": "d0866a22-6b21-49e4-ae85-7967a6ceb6cf",
    "outputId": "c3776bb8-2413-4e9b-f5d4-a01e26049b2f"
   },
   "outputs": [
    {
     "data": {
      "text/plain": [
       "deque([1, 10, 9, 0, 7, 8])"
      ]
     },
     "execution_count": 55,
     "metadata": {},
     "output_type": "execute_result"
    }
   ],
   "source": [
    "x"
   ]
  },
  {
   "cell_type": "code",
   "execution_count": 57,
   "id": "564c38b2-e8aa-41f8-b719-99519c217843",
   "metadata": {
    "id": "564c38b2-e8aa-41f8-b719-99519c217843",
    "outputId": "46487a16-9861-4055-dd68-f1a41f9a1b88"
   },
   "outputs": [
    {
     "data": {
      "text/plain": [
       "1"
      ]
     },
     "execution_count": 57,
     "metadata": {},
     "output_type": "execute_result"
    }
   ],
   "source": [
    "x.popleft()"
   ]
  },
  {
   "cell_type": "code",
   "execution_count": 59,
   "id": "a18de276-b237-4779-90f4-4be29f974e90",
   "metadata": {
    "id": "a18de276-b237-4779-90f4-4be29f974e90",
    "outputId": "fee70b8f-b364-41c7-fa3b-e073473f7b5c"
   },
   "outputs": [
    {
     "data": {
      "text/plain": [
       "deque([10, 9, 0, 7, 8])"
      ]
     },
     "execution_count": 59,
     "metadata": {},
     "output_type": "execute_result"
    }
   ],
   "source": [
    "x"
   ]
  },
  {
   "cell_type": "code",
   "execution_count": 63,
   "id": "85909b4b-cdd5-4f5b-824e-7db3af187c42",
   "metadata": {
    "id": "85909b4b-cdd5-4f5b-824e-7db3af187c42"
   },
   "outputs": [],
   "source": [
    "x.rotate(2)"
   ]
  },
  {
   "cell_type": "code",
   "execution_count": 65,
   "id": "0398bebf-5d65-49ce-a5b2-a48a5fd2ce71",
   "metadata": {
    "id": "0398bebf-5d65-49ce-a5b2-a48a5fd2ce71",
    "outputId": "20cf5504-0977-48d6-ec7c-432ee32a4ddf"
   },
   "outputs": [
    {
     "data": {
      "text/plain": [
       "deque([7, 8, 10, 9, 0])"
      ]
     },
     "execution_count": 65,
     "metadata": {},
     "output_type": "execute_result"
    }
   ],
   "source": [
    "x"
   ]
  },
  {
   "cell_type": "code",
   "execution_count": 67,
   "id": "f71bfed5-594f-4d60-8d6a-c4e1e611631f",
   "metadata": {
    "id": "f71bfed5-594f-4d60-8d6a-c4e1e611631f",
    "outputId": "7fd9b78a-bd11-4f95-d246-56a75357b83b"
   },
   "outputs": [
    {
     "data": {
      "text/plain": [
       "deque([7, 8, 10, 9, 0])"
      ]
     },
     "execution_count": 67,
     "metadata": {},
     "output_type": "execute_result"
    }
   ],
   "source": [
    "x"
   ]
  },
  {
   "cell_type": "code",
   "execution_count": 77,
   "id": "126771ca-1313-4aa6-abb4-a92d41f5682d",
   "metadata": {
    "id": "126771ca-1313-4aa6-abb4-a92d41f5682d"
   },
   "outputs": [],
   "source": [
    "from collections import ChainMap"
   ]
  },
  {
   "cell_type": "code",
   "execution_count": 79,
   "id": "43b97f83-23d4-4426-8818-f47ef1555b51",
   "metadata": {
    "id": "43b97f83-23d4-4426-8818-f47ef1555b51"
   },
   "outputs": [],
   "source": [
    "x = {\"a\" : 10, \"b\" : 20}\n",
    "y = {\"c\" : 30, \"d\" : 89}"
   ]
  },
  {
   "cell_type": "code",
   "execution_count": 81,
   "id": "07bb4a8d-22c6-4bd4-ae41-d6bf25699ff6",
   "metadata": {
    "id": "07bb4a8d-22c6-4bd4-ae41-d6bf25699ff6",
    "outputId": "5c46eef5-3641-46c3-84d6-22827da68910"
   },
   "outputs": [
    {
     "data": {
      "text/plain": [
       "{'a': 10, 'b': 20}"
      ]
     },
     "execution_count": 81,
     "metadata": {},
     "output_type": "execute_result"
    }
   ],
   "source": [
    "x"
   ]
  },
  {
   "cell_type": "code",
   "execution_count": 83,
   "id": "359c843d-a07b-4ea3-b4b0-b99c4b06c53a",
   "metadata": {
    "id": "359c843d-a07b-4ea3-b4b0-b99c4b06c53a",
    "outputId": "9649c6ac-d23c-443d-ba38-cf5b4d71d722"
   },
   "outputs": [
    {
     "data": {
      "text/plain": [
       "{'c': 30, 'd': 89}"
      ]
     },
     "execution_count": 83,
     "metadata": {},
     "output_type": "execute_result"
    }
   ],
   "source": [
    "y"
   ]
  },
  {
   "cell_type": "code",
   "execution_count": 85,
   "id": "b3e4342e-103a-4bc9-851b-b27b2f8e08cb",
   "metadata": {
    "id": "b3e4342e-103a-4bc9-851b-b27b2f8e08cb"
   },
   "outputs": [],
   "source": [
    "cmap = ChainMap(x, y)"
   ]
  },
  {
   "cell_type": "code",
   "execution_count": 87,
   "id": "abd16285-88f8-4daf-b834-1fdb8acbc60a",
   "metadata": {
    "id": "abd16285-88f8-4daf-b834-1fdb8acbc60a",
    "outputId": "852e8f33-5c50-4699-b712-e8053747b903"
   },
   "outputs": [
    {
     "data": {
      "text/plain": [
       "ChainMap({'a': 10, 'b': 20}, {'c': 30, 'd': 89})"
      ]
     },
     "execution_count": 87,
     "metadata": {},
     "output_type": "execute_result"
    }
   ],
   "source": [
    "cmap"
   ]
  },
  {
   "cell_type": "code",
   "execution_count": 89,
   "id": "5134fa3c-1bbc-47bc-a7fb-3d11b3b4ca05",
   "metadata": {
    "id": "5134fa3c-1bbc-47bc-a7fb-3d11b3b4ca05",
    "outputId": "5162e99c-a15f-4966-97d8-4083d067e4b3"
   },
   "outputs": [
    {
     "data": {
      "text/plain": [
       "10"
      ]
     },
     "execution_count": 89,
     "metadata": {},
     "output_type": "execute_result"
    }
   ],
   "source": [
    "cmap['a']"
   ]
  },
  {
   "cell_type": "code",
   "execution_count": 91,
   "id": "2f15fc67-8eb0-4ced-9227-36dc280bad17",
   "metadata": {
    "id": "2f15fc67-8eb0-4ced-9227-36dc280bad17",
    "outputId": "f6479e47-b1c9-40fc-d6b5-c1e7579d983e"
   },
   "outputs": [
    {
     "data": {
      "text/plain": [
       "30"
      ]
     },
     "execution_count": 91,
     "metadata": {},
     "output_type": "execute_result"
    }
   ],
   "source": [
    "cmap['c']"
   ]
  },
  {
   "cell_type": "code",
   "execution_count": 93,
   "id": "aeb57181-1423-4047-ba4b-469bb4140685",
   "metadata": {
    "id": "aeb57181-1423-4047-ba4b-469bb4140685"
   },
   "outputs": [],
   "source": [
    "x = {\"a\" : 10, \"b\" : 20}\n",
    "y = {\"a\" : 30, \"d\" : 89}"
   ]
  },
  {
   "cell_type": "code",
   "execution_count": 95,
   "id": "7c5c3ad2-6161-4275-80f2-76705ba4cd38",
   "metadata": {
    "id": "7c5c3ad2-6161-4275-80f2-76705ba4cd38"
   },
   "outputs": [],
   "source": [
    "cmap2 = ChainMap(x, y)"
   ]
  },
  {
   "cell_type": "code",
   "execution_count": 97,
   "id": "25dc490c-0716-45ab-a25a-81796ed756a6",
   "metadata": {
    "id": "25dc490c-0716-45ab-a25a-81796ed756a6",
    "outputId": "b9d74625-2943-4759-ccac-f379ffa5f154"
   },
   "outputs": [
    {
     "data": {
      "text/plain": [
       "ChainMap({'a': 10, 'b': 20}, {'a': 30, 'd': 89})"
      ]
     },
     "execution_count": 97,
     "metadata": {},
     "output_type": "execute_result"
    }
   ],
   "source": [
    "cmap2"
   ]
  },
  {
   "cell_type": "code",
   "execution_count": 99,
   "id": "5ce4d82e-4d5c-4dce-8cca-1555a854d79b",
   "metadata": {
    "id": "5ce4d82e-4d5c-4dce-8cca-1555a854d79b",
    "outputId": "67cc6ca4-fa9a-4378-cbee-dc828ce769a4"
   },
   "outputs": [
    {
     "data": {
      "text/plain": [
       "10"
      ]
     },
     "execution_count": 99,
     "metadata": {},
     "output_type": "execute_result"
    }
   ],
   "source": [
    "cmap2['a']"
   ]
  },
  {
   "cell_type": "code",
   "execution_count": 107,
   "id": "5d8f2c1e-a62d-41a1-88ce-1cdb8c8f2052",
   "metadata": {
    "id": "5d8f2c1e-a62d-41a1-88ce-1cdb8c8f2052",
    "outputId": "db1c2d15-3d1f-419d-97fa-4a0693f2c3f4"
   },
   "outputs": [
    {
     "data": {
      "text/plain": [
       "30"
      ]
     },
     "execution_count": 107,
     "metadata": {},
     "output_type": "execute_result"
    }
   ],
   "source": [
    "cmap2.maps[1]['a']"
   ]
  },
  {
   "cell_type": "code",
   "execution_count": 109,
   "id": "998e36a5-477f-40fc-8898-76ff4689fac6",
   "metadata": {
    "id": "998e36a5-477f-40fc-8898-76ff4689fac6"
   },
   "outputs": [],
   "source": [
    "cmap2['a'] = 100"
   ]
  },
  {
   "cell_type": "code",
   "execution_count": 111,
   "id": "0a3f46e1-2523-43bf-afb1-149953c84b38",
   "metadata": {
    "id": "0a3f46e1-2523-43bf-afb1-149953c84b38",
    "outputId": "c59ebbaa-4372-401d-805c-f7c956153a00"
   },
   "outputs": [
    {
     "data": {
      "text/plain": [
       "ChainMap({'a': 100, 'b': 20}, {'a': 30, 'd': 89})"
      ]
     },
     "execution_count": 111,
     "metadata": {},
     "output_type": "execute_result"
    }
   ],
   "source": [
    "cmap2"
   ]
  },
  {
   "cell_type": "code",
   "execution_count": 113,
   "id": "d3f8e880-8dbb-46f7-8b55-cd488d321738",
   "metadata": {
    "id": "d3f8e880-8dbb-46f7-8b55-cd488d321738"
   },
   "outputs": [],
   "source": [
    "cmap2['c'] = 101"
   ]
  },
  {
   "cell_type": "code",
   "execution_count": 115,
   "id": "3e6bc968-a838-4ead-9f84-0980bc1066f9",
   "metadata": {
    "id": "3e6bc968-a838-4ead-9f84-0980bc1066f9",
    "outputId": "abe89904-5ac5-4f23-f70d-56ba0f6efaa8"
   },
   "outputs": [
    {
     "data": {
      "text/plain": [
       "ChainMap({'a': 100, 'b': 20, 'c': 101}, {'a': 30, 'd': 89})"
      ]
     },
     "execution_count": 115,
     "metadata": {},
     "output_type": "execute_result"
    }
   ],
   "source": [
    "cmap2"
   ]
  },
  {
   "cell_type": "code",
   "execution_count": 117,
   "id": "5ed2c02a-dfc8-4788-88ad-1c76914cba03",
   "metadata": {
    "id": "5ed2c02a-dfc8-4788-88ad-1c76914cba03"
   },
   "outputs": [],
   "source": [
    "cmap3 = ChainMap({}, x)"
   ]
  },
  {
   "cell_type": "code",
   "execution_count": 119,
   "id": "b267b244-d40a-4be8-8a59-1c035fff6350",
   "metadata": {
    "id": "b267b244-d40a-4be8-8a59-1c035fff6350",
    "outputId": "58f9606f-9404-4e9b-a2d4-c92867c333f2"
   },
   "outputs": [
    {
     "data": {
      "text/plain": [
       "ChainMap({}, {'a': 100, 'b': 20, 'c': 101})"
      ]
     },
     "execution_count": 119,
     "metadata": {},
     "output_type": "execute_result"
    }
   ],
   "source": [
    "cmap3"
   ]
  },
  {
   "cell_type": "code",
   "execution_count": 121,
   "id": "d315ba3d-c865-4c2b-8dbd-ba8438c1535f",
   "metadata": {
    "id": "d315ba3d-c865-4c2b-8dbd-ba8438c1535f"
   },
   "outputs": [],
   "source": [
    "cmap3['a'] = 101"
   ]
  },
  {
   "cell_type": "code",
   "execution_count": 123,
   "id": "3f0b0cf4-2a71-409f-9389-62f647bdc6b3",
   "metadata": {
    "id": "3f0b0cf4-2a71-409f-9389-62f647bdc6b3",
    "outputId": "7af4d2d5-e142-4073-fbd0-4550b54cbdaa"
   },
   "outputs": [
    {
     "data": {
      "text/plain": [
       "ChainMap({'a': 101}, {'a': 100, 'b': 20, 'c': 101})"
      ]
     },
     "execution_count": 123,
     "metadata": {},
     "output_type": "execute_result"
    }
   ],
   "source": [
    "cmap3"
   ]
  },
  {
   "cell_type": "code",
   "execution_count": 125,
   "id": "18eb2998-509e-4c05-a1f9-26bbb08420b7",
   "metadata": {
    "id": "18eb2998-509e-4c05-a1f9-26bbb08420b7"
   },
   "outputs": [],
   "source": [
    "cmap3.maps[1]['a'] = 1000"
   ]
  },
  {
   "cell_type": "code",
   "execution_count": 127,
   "id": "73d1a3c0-fd0b-432b-a5d0-a563591fb142",
   "metadata": {
    "id": "73d1a3c0-fd0b-432b-a5d0-a563591fb142",
    "outputId": "76c7a8ba-f73b-4bf8-80d8-cb13841df554"
   },
   "outputs": [
    {
     "data": {
      "text/plain": [
       "ChainMap({'a': 101}, {'a': 1000, 'b': 20, 'c': 101})"
      ]
     },
     "execution_count": 127,
     "metadata": {},
     "output_type": "execute_result"
    }
   ],
   "source": [
    "cmap3"
   ]
  },
  {
   "cell_type": "code",
   "execution_count": 129,
   "id": "c0e3118d-a58f-4608-a5b0-331a37baba24",
   "metadata": {
    "id": "c0e3118d-a58f-4608-a5b0-331a37baba24",
    "outputId": "fddb25b9-b1ff-4fa6-81cd-d99a02330039",
    "scrolled": true
   },
   "outputs": [
    {
     "data": {
      "text/plain": [
       "['_MutableMapping__marker',\n",
       " '__abstractmethods__',\n",
       " '__bool__',\n",
       " '__class__',\n",
       " '__class_getitem__',\n",
       " '__contains__',\n",
       " '__copy__',\n",
       " '__delattr__',\n",
       " '__delitem__',\n",
       " '__dict__',\n",
       " '__dir__',\n",
       " '__doc__',\n",
       " '__eq__',\n",
       " '__format__',\n",
       " '__ge__',\n",
       " '__getattribute__',\n",
       " '__getitem__',\n",
       " '__getstate__',\n",
       " '__gt__',\n",
       " '__hash__',\n",
       " '__init__',\n",
       " '__init_subclass__',\n",
       " '__ior__',\n",
       " '__iter__',\n",
       " '__le__',\n",
       " '__len__',\n",
       " '__lt__',\n",
       " '__missing__',\n",
       " '__module__',\n",
       " '__ne__',\n",
       " '__new__',\n",
       " '__or__',\n",
       " '__reduce__',\n",
       " '__reduce_ex__',\n",
       " '__repr__',\n",
       " '__reversed__',\n",
       " '__ror__',\n",
       " '__setattr__',\n",
       " '__setitem__',\n",
       " '__sizeof__',\n",
       " '__slots__',\n",
       " '__str__',\n",
       " '__subclasshook__',\n",
       " '__weakref__',\n",
       " '_abc_impl',\n",
       " 'clear',\n",
       " 'copy',\n",
       " 'fromkeys',\n",
       " 'get',\n",
       " 'items',\n",
       " 'keys',\n",
       " 'maps',\n",
       " 'new_child',\n",
       " 'parents',\n",
       " 'pop',\n",
       " 'popitem',\n",
       " 'setdefault',\n",
       " 'update',\n",
       " 'values']"
      ]
     },
     "execution_count": 129,
     "metadata": {},
     "output_type": "execute_result"
    }
   ],
   "source": [
    "dir(cmap3)"
   ]
  },
  {
   "cell_type": "code",
   "execution_count": 131,
   "id": "e644dfd1-d000-4abe-a3cb-2f5555b5af84",
   "metadata": {
    "id": "e644dfd1-d000-4abe-a3cb-2f5555b5af84"
   },
   "outputs": [],
   "source": [
    "cmap4 = cmap3.new_child({'k': 5})"
   ]
  },
  {
   "cell_type": "code",
   "execution_count": 133,
   "id": "56096ee0-b8d5-41b1-9b50-f0cd4b9e4da8",
   "metadata": {
    "id": "56096ee0-b8d5-41b1-9b50-f0cd4b9e4da8",
    "outputId": "914143fb-47ec-4ccc-a1da-a6f6ebed0638"
   },
   "outputs": [
    {
     "data": {
      "text/plain": [
       "ChainMap({'a': 101}, {'a': 1000, 'b': 20, 'c': 101})"
      ]
     },
     "execution_count": 133,
     "metadata": {},
     "output_type": "execute_result"
    }
   ],
   "source": [
    "cmap3"
   ]
  },
  {
   "cell_type": "code",
   "execution_count": 135,
   "id": "4270699c-480e-4fd9-a552-25050494a75f",
   "metadata": {
    "id": "4270699c-480e-4fd9-a552-25050494a75f",
    "outputId": "d8bc68af-3ce3-48a3-e509-b9362fb98f41"
   },
   "outputs": [
    {
     "data": {
      "text/plain": [
       "ChainMap({'k': 5}, {'a': 101}, {'a': 1000, 'b': 20, 'c': 101})"
      ]
     },
     "execution_count": 135,
     "metadata": {},
     "output_type": "execute_result"
    }
   ],
   "source": [
    "cmap4"
   ]
  },
  {
   "cell_type": "code",
   "execution_count": 137,
   "id": "86f6878c-bb93-4f92-b9de-cb611ea3ae98",
   "metadata": {
    "id": "86f6878c-bb93-4f92-b9de-cb611ea3ae98",
    "outputId": "97df1637-e8f2-43f3-efc9-b2e7cf164d53"
   },
   "outputs": [
    {
     "data": {
      "text/plain": [
       "ChainMap({'a': 101}, {'a': 1000, 'b': 20, 'c': 101})"
      ]
     },
     "execution_count": 137,
     "metadata": {},
     "output_type": "execute_result"
    }
   ],
   "source": [
    "cmap4.parents"
   ]
  },
  {
   "cell_type": "code",
   "execution_count": 139,
   "id": "ad07a030-e54b-4770-8c98-67a27c31489d",
   "metadata": {
    "id": "ad07a030-e54b-4770-8c98-67a27c31489d"
   },
   "outputs": [],
   "source": [
    "cmap4.update({'a': 102})"
   ]
  },
  {
   "cell_type": "code",
   "execution_count": 141,
   "id": "2fe55ccb-dc9f-43fc-83b3-dd9587e485e9",
   "metadata": {
    "id": "2fe55ccb-dc9f-43fc-83b3-dd9587e485e9",
    "outputId": "bda96aec-edb0-4d3b-bae7-455cba5c9f5a"
   },
   "outputs": [
    {
     "data": {
      "text/plain": [
       "ChainMap({'k': 5, 'a': 102}, {'a': 101}, {'a': 1000, 'b': 20, 'c': 101})"
      ]
     },
     "execution_count": 141,
     "metadata": {},
     "output_type": "execute_result"
    }
   ],
   "source": [
    "cmap4"
   ]
  },
  {
   "cell_type": "code",
   "execution_count": 143,
   "id": "31d1252b-4534-40f4-9cd1-69408c5f8855",
   "metadata": {
    "id": "31d1252b-4534-40f4-9cd1-69408c5f8855"
   },
   "outputs": [],
   "source": [
    "cmap4.update({'a': 105})"
   ]
  },
  {
   "cell_type": "code",
   "execution_count": 145,
   "id": "a3eeb7a2-7eec-4a6a-be43-d6e1a4cc2ae6",
   "metadata": {
    "id": "a3eeb7a2-7eec-4a6a-be43-d6e1a4cc2ae6",
    "outputId": "0a652a00-de56-4b9a-96e4-0e2c25e0aa48"
   },
   "outputs": [
    {
     "data": {
      "text/plain": [
       "ChainMap({'k': 5, 'a': 105}, {'a': 101}, {'a': 1000, 'b': 20, 'c': 101})"
      ]
     },
     "execution_count": 145,
     "metadata": {},
     "output_type": "execute_result"
    }
   ],
   "source": [
    "cmap4"
   ]
  },
  {
   "cell_type": "code",
   "execution_count": 147,
   "id": "2cc55ee2-e3e2-42ff-bb2a-e316e220bc38",
   "metadata": {
    "id": "2cc55ee2-e3e2-42ff-bb2a-e316e220bc38"
   },
   "outputs": [],
   "source": [
    "from collections import defaultdict, Counter"
   ]
  },
  {
   "cell_type": "code",
   "execution_count": 193,
   "id": "90ede1a0-608f-4522-afbc-38429381f2ed",
   "metadata": {
    "id": "90ede1a0-608f-4522-afbc-38429381f2ed"
   },
   "outputs": [],
   "source": [
    "x = [1,1,1,2,2,2,2,2,1,1,3,3,4,4,9,9,9]"
   ]
  },
  {
   "cell_type": "code",
   "execution_count": 195,
   "id": "bf8ce5b9-cb76-4210-9cbd-4325c15fd52c",
   "metadata": {
    "id": "bf8ce5b9-cb76-4210-9cbd-4325c15fd52c"
   },
   "outputs": [],
   "source": [
    "cx = Counter(x)"
   ]
  },
  {
   "cell_type": "code",
   "execution_count": 197,
   "id": "0ab82865-cacd-4e75-8bf0-00acfdc283bf",
   "metadata": {
    "id": "0ab82865-cacd-4e75-8bf0-00acfdc283bf",
    "outputId": "c4074e44-e636-4fe8-ec86-f00c670d7726"
   },
   "outputs": [
    {
     "data": {
      "text/plain": [
       "Counter({1: 5, 2: 5, 9: 3, 3: 2, 4: 2})"
      ]
     },
     "execution_count": 197,
     "metadata": {},
     "output_type": "execute_result"
    }
   ],
   "source": [
    "cx"
   ]
  },
  {
   "cell_type": "code",
   "execution_count": 199,
   "id": "1efe3002-7f85-4d55-b78a-83a61a0d737e",
   "metadata": {
    "id": "1efe3002-7f85-4d55-b78a-83a61a0d737e",
    "outputId": "4581f531-be57-4980-9419-8a71ec0b6856"
   },
   "outputs": [
    {
     "data": {
      "text/plain": [
       "{1: 5, 2: 5, 3: 2, 4: 2, 9: 3}"
      ]
     },
     "execution_count": 199,
     "metadata": {},
     "output_type": "execute_result"
    }
   ],
   "source": [
    "dict(cx)"
   ]
  },
  {
   "cell_type": "code",
   "execution_count": 201,
   "id": "25a40cec-5119-4188-b1d4-ce911e66c873",
   "metadata": {},
   "outputs": [
    {
     "data": {
      "text/plain": [
       "(1, 2, 3, 4, 9)"
      ]
     },
     "execution_count": 201,
     "metadata": {},
     "output_type": "execute_result"
    }
   ],
   "source": [
    "tuple(cx)"
   ]
  },
  {
   "cell_type": "code",
   "execution_count": 203,
   "id": "3570f654-a2e0-4342-81b1-36294520119e",
   "metadata": {
    "id": "3570f654-a2e0-4342-81b1-36294520119e",
    "outputId": "7c115bee-02a4-4339-e8c5-d993c6361ba1"
   },
   "outputs": [
    {
     "data": {
      "text/plain": [
       "((1, 5), (2, 5), (3, 2), (4, 2), (9, 3))"
      ]
     },
     "execution_count": 203,
     "metadata": {},
     "output_type": "execute_result"
    }
   ],
   "source": [
    "tuple(cx.items())"
   ]
  },
  {
   "cell_type": "code",
   "execution_count": 205,
   "id": "cd1496b3-ed51-42c5-85f4-583acac5be8d",
   "metadata": {
    "id": "cd1496b3-ed51-42c5-85f4-583acac5be8d",
    "outputId": "c36ab3c6-d5ad-40b9-9f3a-f00668c6d07c"
   },
   "outputs": [
    {
     "data": {
      "text/plain": [
       "[(1, 5), (2, 5), (9, 3), (3, 2)]"
      ]
     },
     "execution_count": 205,
     "metadata": {},
     "output_type": "execute_result"
    }
   ],
   "source": [
    "cx.most_common(4)"
   ]
  },
  {
   "cell_type": "code",
   "execution_count": 207,
   "id": "be54af8d-1c2c-4f3c-8fb0-c8ae087ba7ae",
   "metadata": {
    "id": "be54af8d-1c2c-4f3c-8fb0-c8ae087ba7ae"
   },
   "outputs": [],
   "source": [
    "y = [1,1,4,4,4,4, 8,8]"
   ]
  },
  {
   "cell_type": "code",
   "execution_count": 209,
   "id": "2bb9379f-1574-4bac-8311-70f06b8950df",
   "metadata": {
    "id": "2bb9379f-1574-4bac-8311-70f06b8950df"
   },
   "outputs": [],
   "source": [
    "cy = Counter(y)"
   ]
  },
  {
   "cell_type": "code",
   "execution_count": 211,
   "id": "83bd6a2a-d9a3-4f49-b834-dd67aabe8445",
   "metadata": {
    "id": "83bd6a2a-d9a3-4f49-b834-dd67aabe8445",
    "outputId": "310b846f-109e-4f82-b85b-ae59cadf2089"
   },
   "outputs": [
    {
     "data": {
      "text/plain": [
       "Counter({4: 4, 1: 2, 8: 2})"
      ]
     },
     "execution_count": 211,
     "metadata": {},
     "output_type": "execute_result"
    }
   ],
   "source": [
    "cy"
   ]
  },
  {
   "cell_type": "code",
   "execution_count": 213,
   "id": "cc628c6e-0362-4b22-b1f7-c89a9cf6becd",
   "metadata": {
    "id": "cc628c6e-0362-4b22-b1f7-c89a9cf6becd",
    "outputId": "1076edce-880f-462a-962e-bda654322525"
   },
   "outputs": [
    {
     "data": {
      "text/plain": [
       "Counter({1: 5, 2: 5, 9: 3, 3: 2, 4: 2})"
      ]
     },
     "execution_count": 213,
     "metadata": {},
     "output_type": "execute_result"
    }
   ],
   "source": [
    "cx"
   ]
  },
  {
   "cell_type": "code",
   "execution_count": 215,
   "id": "7aeb8286-d734-444a-8968-3960de566d6a",
   "metadata": {
    "id": "7aeb8286-d734-444a-8968-3960de566d6a"
   },
   "outputs": [
    {
     "data": {
      "text/plain": [
       "Counter({2: 5, 1: 3, 9: 3, 3: 2, 4: -2, 8: -2})"
      ]
     },
     "execution_count": 215,
     "metadata": {},
     "output_type": "execute_result"
    }
   ],
   "source": [
    "cx.subtract(cy)\n",
    "cx"
   ]
  },
  {
   "cell_type": "code",
   "execution_count": 219,
   "id": "55ac3dc4-7607-485d-8d7d-6cee85a541b4",
   "metadata": {},
   "outputs": [
    {
     "data": {
      "text/plain": [
       "Counter({2: 5, 1: 3, 9: 3, 3: 2})"
      ]
     },
     "execution_count": 219,
     "metadata": {},
     "output_type": "execute_result"
    }
   ],
   "source": [
    "x = [1,1,1,2,2,2,2,2,1,1,3,3,4,4,9,9,9]\n",
    "cx = Counter(x)\n",
    "y = [1,1,4,4,4,4, 8,8]\n",
    "cy= Counter(y)\n",
    "cx-cy"
   ]
  },
  {
   "cell_type": "code",
   "execution_count": 221,
   "id": "fb954168-f6d1-42f0-9a63-79a26d89fbe1",
   "metadata": {
    "id": "fb954168-f6d1-42f0-9a63-79a26d89fbe1",
    "outputId": "2be10d80-a833-4347-d155-49559c2ec58c"
   },
   "outputs": [
    {
     "data": {
      "text/plain": [
       "[(1, 5), (2, 5), (3, 2), (4, 2), (9, 3)]"
      ]
     },
     "execution_count": 221,
     "metadata": {},
     "output_type": "execute_result"
    }
   ],
   "source": [
    "list(cx.items())"
   ]
  },
  {
   "cell_type": "code",
   "execution_count": 223,
   "id": "0e42d60e-9c64-48c7-a177-645328ad3607",
   "metadata": {
    "id": "0e42d60e-9c64-48c7-a177-645328ad3607"
   },
   "outputs": [],
   "source": [
    "c1 = Counter({1: 10, 2:4})\n",
    "c2 = Counter({1:6, 2:5, 3:2})"
   ]
  },
  {
   "cell_type": "code",
   "execution_count": 225,
   "id": "da08422e-d7fd-4161-a050-ab8045ca5680",
   "metadata": {
    "id": "da08422e-d7fd-4161-a050-ab8045ca5680"
   },
   "outputs": [],
   "source": [
    "c1.subtract(c2)"
   ]
  },
  {
   "cell_type": "code",
   "execution_count": 227,
   "id": "3db3e173-83ef-455c-838e-e5b97ae6dd43",
   "metadata": {
    "id": "3db3e173-83ef-455c-838e-e5b97ae6dd43",
    "outputId": "71ce3858-3af0-40c1-90e7-b8bb2aa10c69"
   },
   "outputs": [
    {
     "data": {
      "text/plain": [
       "Counter({1: 4, 2: -1, 3: -2})"
      ]
     },
     "execution_count": 227,
     "metadata": {},
     "output_type": "execute_result"
    }
   ],
   "source": [
    "c1"
   ]
  },
  {
   "cell_type": "code",
   "execution_count": 233,
   "id": "30973756-dd21-41bb-9d17-1c409209f5c1",
   "metadata": {
    "id": "30973756-dd21-41bb-9d17-1c409209f5c1"
   },
   "outputs": [],
   "source": [
    "x = ['B yadav', 'Rajkumar yadav', 'Mukesh khanna', 'Mahesh singh',\n",
    "     'Rajeev pandey', 'Ranjeeta Khanna', 'Rameez khan', 'Suryoday singh']"
   ]
  },
  {
   "cell_type": "code",
   "execution_count": 235,
   "id": "98b244f3-6d27-42db-8977-bd9e3d010d5f",
   "metadata": {
    "id": "98b244f3-6d27-42db-8977-bd9e3d010d5f",
    "outputId": "a1653b75-df30-4860-ade2-49d8f798f9a1"
   },
   "outputs": [
    {
     "data": {
      "text/plain": [
       "{'yadav': ['B', 'Rajkumar'], 'singh': ['Mahesh', 'Suryoday']}"
      ]
     },
     "execution_count": 235,
     "metadata": {},
     "output_type": "execute_result"
    }
   ],
   "source": [
    "{'yadav': ['B', 'Rajkumar'],\n",
    "'singh': ['Mahesh', 'Suryoday']}"
   ]
  },
  {
   "cell_type": "code",
   "execution_count": 237,
   "id": "36bedffd-f264-4618-822b-bb98cf42bb8e",
   "metadata": {
    "id": "36bedffd-f264-4618-822b-bb98cf42bb8e"
   },
   "outputs": [],
   "source": [
    "d = {}\n",
    "for item in x:\n",
    "    first, last = item.split(' ')\n",
    "    last = last.lower()\n",
    "    if last not in d.keys():\n",
    "        d[last] = [first]\n",
    "    else:\n",
    "        d[last] = d[last] + [first]"
   ]
  },
  {
   "cell_type": "code",
   "execution_count": 239,
   "id": "ea46a616-b03e-40bb-a764-44fc571b027c",
   "metadata": {
    "id": "ea46a616-b03e-40bb-a764-44fc571b027c",
    "outputId": "a4c8dec0-1996-4a1b-9e8e-60849bb8f089"
   },
   "outputs": [
    {
     "data": {
      "text/plain": [
       "{'yadav': ['B', 'Rajkumar'],\n",
       " 'khanna': ['Mukesh', 'Ranjeeta'],\n",
       " 'singh': ['Mahesh', 'Suryoday'],\n",
       " 'pandey': ['Rajeev'],\n",
       " 'khan': ['Rameez']}"
      ]
     },
     "execution_count": 239,
     "metadata": {},
     "output_type": "execute_result"
    }
   ],
   "source": [
    "d"
   ]
  },
  {
   "cell_type": "code",
   "execution_count": 241,
   "id": "8e9a38f6-a0d5-45f2-ac32-da3436adaf32",
   "metadata": {
    "id": "8e9a38f6-a0d5-45f2-ac32-da3436adaf32"
   },
   "outputs": [],
   "source": [
    "dd = defaultdict(list)"
   ]
  },
  {
   "cell_type": "code",
   "execution_count": 243,
   "id": "7090b9a4-abcb-4177-ad9c-ce251046d941",
   "metadata": {
    "id": "7090b9a4-abcb-4177-ad9c-ce251046d941",
    "outputId": "91492aa5-3711-48e1-943f-0db8dfcf7dc0"
   },
   "outputs": [
    {
     "data": {
      "text/plain": [
       "defaultdict(list, {})"
      ]
     },
     "execution_count": 243,
     "metadata": {},
     "output_type": "execute_result"
    }
   ],
   "source": [
    "dd"
   ]
  },
  {
   "cell_type": "code",
   "execution_count": 245,
   "id": "c546dc70-de3d-4b85-a6b3-f0f8be142048",
   "metadata": {
    "id": "c546dc70-de3d-4b85-a6b3-f0f8be142048"
   },
   "outputs": [],
   "source": [
    "for item in x:\n",
    "    first, last = item.split(' ')\n",
    "    last = last.lower()\n",
    "    dd[last].append(first)\n"
   ]
  },
  {
   "cell_type": "code",
   "execution_count": 247,
   "id": "eb0c853d-7baf-4821-9c7b-f2d44d9e12a0",
   "metadata": {
    "id": "eb0c853d-7baf-4821-9c7b-f2d44d9e12a0",
    "outputId": "9f8a38f9-f715-4553-b978-2acf8f781b8f"
   },
   "outputs": [
    {
     "data": {
      "text/plain": [
       "defaultdict(list,\n",
       "            {'yadav': ['B', 'Rajkumar'],\n",
       "             'khanna': ['Mukesh', 'Ranjeeta'],\n",
       "             'singh': ['Mahesh', 'Suryoday'],\n",
       "             'pandey': ['Rajeev'],\n",
       "             'khan': ['Rameez']})"
      ]
     },
     "execution_count": 247,
     "metadata": {},
     "output_type": "execute_result"
    }
   ],
   "source": [
    "dd"
   ]
  },
  {
   "cell_type": "code",
   "execution_count": 255,
   "id": "e3ea9121-59b0-4369-9437-037bf486297d",
   "metadata": {},
   "outputs": [],
   "source": [
    "import math"
   ]
  },
  {
   "cell_type": "code",
   "execution_count": 257,
   "id": "345d91bb-4bae-4ad1-9010-6b038d0c2888",
   "metadata": {
    "scrolled": true
   },
   "outputs": [
    {
     "name": "stdout",
     "output_type": "stream",
     "text": [
      "Help on built-in module math:\n",
      "\n",
      "NAME\n",
      "    math\n",
      "\n",
      "DESCRIPTION\n",
      "    This module provides access to the mathematical functions\n",
      "    defined by the C standard.\n",
      "\n",
      "FUNCTIONS\n",
      "    acos(x, /)\n",
      "        Return the arc cosine (measured in radians) of x.\n",
      "\n",
      "        The result is between 0 and pi.\n",
      "\n",
      "    acosh(x, /)\n",
      "        Return the inverse hyperbolic cosine of x.\n",
      "\n",
      "    asin(x, /)\n",
      "        Return the arc sine (measured in radians) of x.\n",
      "\n",
      "        The result is between -pi/2 and pi/2.\n",
      "\n",
      "    asinh(x, /)\n",
      "        Return the inverse hyperbolic sine of x.\n",
      "\n",
      "    atan(x, /)\n",
      "        Return the arc tangent (measured in radians) of x.\n",
      "\n",
      "        The result is between -pi/2 and pi/2.\n",
      "\n",
      "    atan2(y, x, /)\n",
      "        Return the arc tangent (measured in radians) of y/x.\n",
      "\n",
      "        Unlike atan(y/x), the signs of both x and y are considered.\n",
      "\n",
      "    atanh(x, /)\n",
      "        Return the inverse hyperbolic tangent of x.\n",
      "\n",
      "    cbrt(x, /)\n",
      "        Return the cube root of x.\n",
      "\n",
      "    ceil(x, /)\n",
      "        Return the ceiling of x as an Integral.\n",
      "\n",
      "        This is the smallest integer >= x.\n",
      "\n",
      "    comb(n, k, /)\n",
      "        Number of ways to choose k items from n items without repetition and without order.\n",
      "\n",
      "        Evaluates to n! / (k! * (n - k)!) when k <= n and evaluates\n",
      "        to zero when k > n.\n",
      "\n",
      "        Also called the binomial coefficient because it is equivalent\n",
      "        to the coefficient of k-th term in polynomial expansion of the\n",
      "        expression (1 + x)**n.\n",
      "\n",
      "        Raises TypeError if either of the arguments are not integers.\n",
      "        Raises ValueError if either of the arguments are negative.\n",
      "\n",
      "    copysign(x, y, /)\n",
      "        Return a float with the magnitude (absolute value) of x but the sign of y.\n",
      "\n",
      "        On platforms that support signed zeros, copysign(1.0, -0.0)\n",
      "        returns -1.0.\n",
      "\n",
      "    cos(x, /)\n",
      "        Return the cosine of x (measured in radians).\n",
      "\n",
      "    cosh(x, /)\n",
      "        Return the hyperbolic cosine of x.\n",
      "\n",
      "    degrees(x, /)\n",
      "        Convert angle x from radians to degrees.\n",
      "\n",
      "    dist(p, q, /)\n",
      "        Return the Euclidean distance between two points p and q.\n",
      "\n",
      "        The points should be specified as sequences (or iterables) of\n",
      "        coordinates.  Both inputs must have the same dimension.\n",
      "\n",
      "        Roughly equivalent to:\n",
      "            sqrt(sum((px - qx) ** 2.0 for px, qx in zip(p, q)))\n",
      "\n",
      "    erf(x, /)\n",
      "        Error function at x.\n",
      "\n",
      "    erfc(x, /)\n",
      "        Complementary error function at x.\n",
      "\n",
      "    exp(x, /)\n",
      "        Return e raised to the power of x.\n",
      "\n",
      "    exp2(x, /)\n",
      "        Return 2 raised to the power of x.\n",
      "\n",
      "    expm1(x, /)\n",
      "        Return exp(x)-1.\n",
      "\n",
      "        This function avoids the loss of precision involved in the direct evaluation of exp(x)-1 for small x.\n",
      "\n",
      "    fabs(x, /)\n",
      "        Return the absolute value of the float x.\n",
      "\n",
      "    factorial(n, /)\n",
      "        Find n!.\n",
      "\n",
      "        Raise a ValueError if x is negative or non-integral.\n",
      "\n",
      "    floor(x, /)\n",
      "        Return the floor of x as an Integral.\n",
      "\n",
      "        This is the largest integer <= x.\n",
      "\n",
      "    fmod(x, y, /)\n",
      "        Return fmod(x, y), according to platform C.\n",
      "\n",
      "        x % y may differ.\n",
      "\n",
      "    frexp(x, /)\n",
      "        Return the mantissa and exponent of x, as pair (m, e).\n",
      "\n",
      "        m is a float and e is an int, such that x = m * 2.**e.\n",
      "        If x is 0, m and e are both 0.  Else 0.5 <= abs(m) < 1.0.\n",
      "\n",
      "    fsum(seq, /)\n",
      "        Return an accurate floating-point sum of values in the iterable seq.\n",
      "\n",
      "        Assumes IEEE-754 floating-point arithmetic.\n",
      "\n",
      "    gamma(x, /)\n",
      "        Gamma function at x.\n",
      "\n",
      "    gcd(*integers)\n",
      "        Greatest Common Divisor.\n",
      "\n",
      "    hypot(...)\n",
      "        hypot(*coordinates) -> value\n",
      "\n",
      "        Multidimensional Euclidean distance from the origin to a point.\n",
      "\n",
      "        Roughly equivalent to:\n",
      "            sqrt(sum(x**2 for x in coordinates))\n",
      "\n",
      "        For a two dimensional point (x, y), gives the hypotenuse\n",
      "        using the Pythagorean theorem:  sqrt(x*x + y*y).\n",
      "\n",
      "        For example, the hypotenuse of a 3/4/5 right triangle is:\n",
      "\n",
      "            >>> hypot(3.0, 4.0)\n",
      "            5.0\n",
      "\n",
      "    isclose(a, b, *, rel_tol=1e-09, abs_tol=0.0)\n",
      "        Determine whether two floating-point numbers are close in value.\n",
      "\n",
      "          rel_tol\n",
      "            maximum difference for being considered \"close\", relative to the\n",
      "            magnitude of the input values\n",
      "          abs_tol\n",
      "            maximum difference for being considered \"close\", regardless of the\n",
      "            magnitude of the input values\n",
      "\n",
      "        Return True if a is close in value to b, and False otherwise.\n",
      "\n",
      "        For the values to be considered close, the difference between them\n",
      "        must be smaller than at least one of the tolerances.\n",
      "\n",
      "        -inf, inf and NaN behave similarly to the IEEE 754 Standard.  That\n",
      "        is, NaN is not close to anything, even itself.  inf and -inf are\n",
      "        only close to themselves.\n",
      "\n",
      "    isfinite(x, /)\n",
      "        Return True if x is neither an infinity nor a NaN, and False otherwise.\n",
      "\n",
      "    isinf(x, /)\n",
      "        Return True if x is a positive or negative infinity, and False otherwise.\n",
      "\n",
      "    isnan(x, /)\n",
      "        Return True if x is a NaN (not a number), and False otherwise.\n",
      "\n",
      "    isqrt(n, /)\n",
      "        Return the integer part of the square root of the input.\n",
      "\n",
      "    lcm(*integers)\n",
      "        Least Common Multiple.\n",
      "\n",
      "    ldexp(x, i, /)\n",
      "        Return x * (2**i).\n",
      "\n",
      "        This is essentially the inverse of frexp().\n",
      "\n",
      "    lgamma(x, /)\n",
      "        Natural logarithm of absolute value of Gamma function at x.\n",
      "\n",
      "    log(...)\n",
      "        log(x, [base=math.e])\n",
      "        Return the logarithm of x to the given base.\n",
      "\n",
      "        If the base is not specified, returns the natural logarithm (base e) of x.\n",
      "\n",
      "    log10(x, /)\n",
      "        Return the base 10 logarithm of x.\n",
      "\n",
      "    log1p(x, /)\n",
      "        Return the natural logarithm of 1+x (base e).\n",
      "\n",
      "        The result is computed in a way which is accurate for x near zero.\n",
      "\n",
      "    log2(x, /)\n",
      "        Return the base 2 logarithm of x.\n",
      "\n",
      "    modf(x, /)\n",
      "        Return the fractional and integer parts of x.\n",
      "\n",
      "        Both results carry the sign of x and are floats.\n",
      "\n",
      "    nextafter(x, y, /, *, steps=None)\n",
      "        Return the floating-point value the given number of steps after x towards y.\n",
      "\n",
      "        If steps is not specified or is None, it defaults to 1.\n",
      "\n",
      "        Raises a TypeError, if x or y is not a double, or if steps is not an integer.\n",
      "        Raises ValueError if steps is negative.\n",
      "\n",
      "    perm(n, k=None, /)\n",
      "        Number of ways to choose k items from n items without repetition and with order.\n",
      "\n",
      "        Evaluates to n! / (n - k)! when k <= n and evaluates\n",
      "        to zero when k > n.\n",
      "\n",
      "        If k is not specified or is None, then k defaults to n\n",
      "        and the function returns n!.\n",
      "\n",
      "        Raises TypeError if either of the arguments are not integers.\n",
      "        Raises ValueError if either of the arguments are negative.\n",
      "\n",
      "    pow(x, y, /)\n",
      "        Return x**y (x to the power of y).\n",
      "\n",
      "    prod(iterable, /, *, start=1)\n",
      "        Calculate the product of all the elements in the input iterable.\n",
      "\n",
      "        The default start value for the product is 1.\n",
      "\n",
      "        When the iterable is empty, return the start value.  This function is\n",
      "        intended specifically for use with numeric values and may reject\n",
      "        non-numeric types.\n",
      "\n",
      "    radians(x, /)\n",
      "        Convert angle x from degrees to radians.\n",
      "\n",
      "    remainder(x, y, /)\n",
      "        Difference between x and the closest integer multiple of y.\n",
      "\n",
      "        Return x - n*y where n*y is the closest integer multiple of y.\n",
      "        In the case where x is exactly halfway between two multiples of\n",
      "        y, the nearest even value of n is used. The result is always exact.\n",
      "\n",
      "    sin(x, /)\n",
      "        Return the sine of x (measured in radians).\n",
      "\n",
      "    sinh(x, /)\n",
      "        Return the hyperbolic sine of x.\n",
      "\n",
      "    sqrt(x, /)\n",
      "        Return the square root of x.\n",
      "\n",
      "    sumprod(p, q, /)\n",
      "        Return the sum of products of values from two iterables p and q.\n",
      "\n",
      "        Roughly equivalent to:\n",
      "\n",
      "            sum(itertools.starmap(operator.mul, zip(p, q, strict=True)))\n",
      "\n",
      "        For float and mixed int/float inputs, the intermediate products\n",
      "        and sums are computed with extended precision.\n",
      "\n",
      "    tan(x, /)\n",
      "        Return the tangent of x (measured in radians).\n",
      "\n",
      "    tanh(x, /)\n",
      "        Return the hyperbolic tangent of x.\n",
      "\n",
      "    trunc(x, /)\n",
      "        Truncates the Real x to the nearest Integral toward 0.\n",
      "\n",
      "        Uses the __trunc__ magic method.\n",
      "\n",
      "    ulp(x, /)\n",
      "        Return the value of the least significant bit of the float x.\n",
      "\n",
      "DATA\n",
      "    e = 2.718281828459045\n",
      "    inf = inf\n",
      "    nan = nan\n",
      "    pi = 3.141592653589793\n",
      "    tau = 6.283185307179586\n",
      "\n",
      "FILE\n",
      "    (built-in)\n",
      "\n",
      "\n"
     ]
    }
   ],
   "source": [
    "help(math)"
   ]
  },
  {
   "cell_type": "code",
   "execution_count": 261,
   "id": "522e8d8e-a250-4814-85be-3feea12c31d6",
   "metadata": {},
   "outputs": [
    {
     "data": {
      "text/plain": [
       "120"
      ]
     },
     "execution_count": 261,
     "metadata": {},
     "output_type": "execute_result"
    }
   ],
   "source": [
    "math.factorial(5)"
   ]
  },
  {
   "cell_type": "code",
   "execution_count": 263,
   "id": "058e4375-6941-432a-ab4f-07bd6a080c0d",
   "metadata": {},
   "outputs": [
    {
     "data": {
      "text/plain": [
       "1"
      ]
     },
     "execution_count": 263,
     "metadata": {},
     "output_type": "execute_result"
    }
   ],
   "source": [
    "math.floor(1.9)"
   ]
  },
  {
   "cell_type": "code",
   "execution_count": 273,
   "id": "53f3e44d-5c19-4e5c-8e92-05529d39285f",
   "metadata": {},
   "outputs": [
    {
     "data": {
      "text/plain": [
       "0.0"
      ]
     },
     "execution_count": 273,
     "metadata": {},
     "output_type": "execute_result"
    }
   ],
   "source": [
    "math.fmod(9,3)"
   ]
  },
  {
   "cell_type": "code",
   "execution_count": 275,
   "id": "833c5f0b-f67f-45a7-b774-9f8d181024b3",
   "metadata": {},
   "outputs": [
    {
     "data": {
      "text/plain": [
       "17.4234"
      ]
     },
     "execution_count": 275,
     "metadata": {},
     "output_type": "execute_result"
    }
   ],
   "source": [
    "math.fsum([1,2.3,5,9.1234])"
   ]
  },
  {
   "cell_type": "code",
   "execution_count": 277,
   "id": "e23077c7-6a17-4140-b5c8-0b79f997daec",
   "metadata": {},
   "outputs": [
    {
     "data": {
      "text/plain": [
       "3"
      ]
     },
     "execution_count": 277,
     "metadata": {},
     "output_type": "execute_result"
    }
   ],
   "source": [
    "math.comb(3,1)"
   ]
  },
  {
   "cell_type": "code",
   "execution_count": null,
   "id": "da5990fb-c1c2-463a-8d07-4be567d8755b",
   "metadata": {},
   "outputs": [],
   "source": []
  }
 ],
 "metadata": {
  "colab": {
   "provenance": []
  },
  "kernelspec": {
   "display_name": "Python 3 (ipykernel)",
   "language": "python",
   "name": "python3"
  },
  "language_info": {
   "codemirror_mode": {
    "name": "ipython",
    "version": 3
   },
   "file_extension": ".py",
   "mimetype": "text/x-python",
   "name": "python",
   "nbconvert_exporter": "python",
   "pygments_lexer": "ipython3",
   "version": "3.12.7"
  }
 },
 "nbformat": 4,
 "nbformat_minor": 5
}
