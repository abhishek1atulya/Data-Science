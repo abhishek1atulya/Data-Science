{
 "cells": [
  {
   "cell_type": "code",
   "execution_count": 1,
   "id": "22f0f96f",
   "metadata": {},
   "outputs": [],
   "source": [
    "# syntext\n",
    "# while bool:\n",
    "#     lines of code"
   ]
  },
  {
   "cell_type": "code",
   "execution_count": 4,
   "id": "43c30268",
   "metadata": {},
   "outputs": [
    {
     "ename": "KeyboardInterrupt",
     "evalue": "",
     "output_type": "error",
     "traceback": [
      "\u001b[1;31m---------------------------------------------------------------------------\u001b[0m",
      "\u001b[1;31mKeyboardInterrupt\u001b[0m                         Traceback (most recent call last)",
      "Cell \u001b[1;32mIn[4], line 1\u001b[0m\n\u001b[1;32m----> 1\u001b[0m \u001b[38;5;28;01mwhile\u001b[39;00m \u001b[38;5;28;01mTrue\u001b[39;00m:\n\u001b[0;32m      2\u001b[0m     \u001b[38;5;28;01mpass\u001b[39;00m\n",
      "\u001b[1;31mKeyboardInterrupt\u001b[0m: "
     ]
    }
   ],
   "source": [
    "while True: \n",
    "    pass\n",
    "#     2nd line\n",
    "#     3rd line\n"
   ]
  },
  {
   "cell_type": "code",
   "execution_count": 5,
   "id": "33cefac7",
   "metadata": {},
   "outputs": [],
   "source": [
    "while False:\n",
    "    pass"
   ]
  },
  {
   "cell_type": "code",
   "execution_count": 7,
   "id": "0a69d14f",
   "metadata": {},
   "outputs": [
    {
     "name": "stdout",
     "output_type": "stream",
     "text": [
      "0\n",
      "1\n",
      "2\n",
      "3\n",
      "4\n",
      "5\n"
     ]
    }
   ],
   "source": [
    "i=0\n",
    "while True:\n",
    "    print(i)\n",
    "    if i==5:\n",
    "        break # to break the loop\n",
    "    i+=1"
   ]
  },
  {
   "cell_type": "code",
   "execution_count": 8,
   "id": "01765cc4",
   "metadata": {},
   "outputs": [
    {
     "name": "stdout",
     "output_type": "stream",
     "text": [
      "0\n",
      "1\n",
      "2\n",
      "3\n",
      "4\n"
     ]
    }
   ],
   "source": [
    "i=0\n",
    "while i<5:\n",
    "    print(i)\n",
    "    i+=1"
   ]
  },
  {
   "cell_type": "code",
   "execution_count": 9,
   "id": "82099a61",
   "metadata": {},
   "outputs": [
    {
     "name": "stdout",
     "output_type": "stream",
     "text": [
      "0\n",
      "1\n",
      "2\n",
      "3\n",
      "4\n"
     ]
    }
   ],
   "source": [
    "i=0\n",
    "flag=True\n",
    "while flag:\n",
    "    print(i)\n",
    "    if i==4:\n",
    "        flag=False\n",
    "    i+=1"
   ]
  },
  {
   "cell_type": "code",
   "execution_count": 1,
   "id": "59beb023",
   "metadata": {},
   "outputs": [
    {
     "name": "stdout",
     "output_type": "stream",
     "text": [
      "[0, 1, 1, 2, 3, 5, 8, 13, 21, 34, 55, 89, 144, 233, 377]\n"
     ]
    }
   ],
   "source": [
    "# fibonacci series\n",
    "# 0,1,1,2,3,5,8,13,21,34,55\n",
    "# 15\n",
    "a=0\n",
    "b=1\n",
    "l=[a,b]\n",
    "counter=0\n",
    "while counter<13:\n",
    "    c=a+b\n",
    "    l.append(c)\n",
    "    a=b\n",
    "    b=c\n",
    "    counter+=1\n",
    "print(l)"
   ]
  },
  {
   "cell_type": "code",
   "execution_count": 1,
   "id": "c4752ec0",
   "metadata": {},
   "outputs": [
    {
     "name": "stdout",
     "output_type": "stream",
     "text": [
      "[0, 1, 1, 2, 3, 5, 8, 13, 21, 34]\n"
     ]
    }
   ],
   "source": [
    "# implement the same logic with for loop\n",
    "a=0\n",
    "b=1\n",
    "l=[a,b]\n",
    "for _ in range(8):\n",
    "    c=a+b\n",
    "    l.append(c)\n",
    "    a=b\n",
    "    b=c\n",
    "print(l)"
   ]
  },
  {
   "cell_type": "code",
   "execution_count": 8,
   "id": "58df2394",
   "metadata": {},
   "outputs": [
    {
     "name": "stdout",
     "output_type": "stream",
     "text": [
      "[0, 1, 1, 2, 4, 8, 16, 32, 64, 128]\n"
     ]
    }
   ],
   "source": [
    "# implement the same logic with for loop\n",
    "a=0\n",
    "b=1\n",
    "l=[a,b]\n",
    "for _ in range(8):\n",
    "    c=a+b\n",
    "    l.append(c)\n",
    "    b=c\n",
    "    a=b\n",
    "print(l)"
   ]
  },
  {
   "cell_type": "code",
   "execution_count": 9,
   "id": "7aa1a6ca",
   "metadata": {},
   "outputs": [
    {
     "name": "stdout",
     "output_type": "stream",
     "text": [
      "[0, 1, 1, 2, 3, 5, 8, 13, 21, 34]\n"
     ]
    }
   ],
   "source": [
    "# implement the same logic with for loop\n",
    "a=0\n",
    "b=1\n",
    "l=[a,b]\n",
    "for _ in range(8):\n",
    "    a,b = b,a+b\n",
    "    l.append(b)\n",
    "print(l)"
   ]
  },
  {
   "cell_type": "code",
   "execution_count": 10,
   "id": "6ac3fae9",
   "metadata": {},
   "outputs": [
    {
     "name": "stdout",
     "output_type": "stream",
     "text": [
      "[0, 1, 1, 2, 3, 5, 8, 13, 21, 34]\n"
     ]
    }
   ],
   "source": [
    "# implement the same logic with for loop\n",
    "a=0\n",
    "b=1\n",
    "l=[a,b]\n",
    "for _ in range(8):\n",
    "    b,a= a+b,b\n",
    "    l.append(b)\n",
    "print(l)"
   ]
  },
  {
   "cell_type": "code",
   "execution_count": 11,
   "id": "653e3ce0",
   "metadata": {},
   "outputs": [
    {
     "name": "stdout",
     "output_type": "stream",
     "text": [
      "0\n",
      "1\n",
      "2\n",
      "3\n",
      "4\n",
      "5\n",
      "6\n",
      "7\n",
      "8\n",
      "9\n",
      "[0, 1, 1, 2, 3, 5, 8, 13, 21, 34]\n"
     ]
    }
   ],
   "source": [
    "a=0\n",
    "b=1\n",
    "l=[a,b]\n",
    "c=0\n",
    "for i in l:\n",
    "    if len(l)<10:\n",
    "        b,a= a+b,b\n",
    "        l.append(b)\n",
    "    print(c)\n",
    "    c+=1\n",
    "print(l)\n"
   ]
  },
  {
   "cell_type": "code",
   "execution_count": 12,
   "id": "e4d33015",
   "metadata": {},
   "outputs": [
    {
     "name": "stdout",
     "output_type": "stream",
     "text": [
      "[0, 1, 1, 2, 3, 5, 8, 13, 21, 34]\n"
     ]
    }
   ],
   "source": [
    "a=0\n",
    "b=1\n",
    "l=[a,b]\n",
    "for _ in range(8):\n",
    "    l.append(l[-1]+l[-2])\n",
    "print(l)"
   ]
  },
  {
   "cell_type": "code",
   "execution_count": 4,
   "id": "de984284",
   "metadata": {
    "scrolled": true
   },
   "outputs": [
    {
     "name": "stdout",
     "output_type": "stream",
     "text": [
      "12345654321\n",
      "this is palindrome\n"
     ]
    }
   ],
   "source": [
    "# '12344321' :- palindrome\n",
    "# 'asdfdfdsa' :- palindrome\n",
    "# step -1\n",
    "# take input from user\n",
    "# step 2\n",
    "# retrive first and last value from the string\n",
    "s = input()\n",
    "i=0\n",
    "j=-1\n",
    "n=len(s)//2\n",
    "while i<=n:\n",
    "    if s[i]==s[j]:\n",
    "        i+=1\n",
    "        j-=1\n",
    "    else:\n",
    "        print('this is not palindrome')\n",
    "        break\n",
    "    if i==n:\n",
    "        print('this is palindrome')\n",
    "        break"
   ]
  },
  {
   "cell_type": "code",
   "execution_count": 9,
   "id": "437cd6b1",
   "metadata": {},
   "outputs": [],
   "source": [
    "# implement the same logic using forloop"
   ]
  },
  {
   "cell_type": "code",
   "execution_count": 8,
   "id": "8c07442c",
   "metadata": {},
   "outputs": [
    {
     "name": "stdout",
     "output_type": "stream",
     "text": [
      "asdfghjkkjhgfdsa\n",
      "palindrome\n"
     ]
    }
   ],
   "source": [
    "s=input()\n",
    "if s==s[::-1]:\n",
    "    print('palindrome')\n",
    "else:\n",
    "    print('this is not palindrome')"
   ]
  },
  {
   "cell_type": "code",
   "execution_count": null,
   "id": "cd603f4a",
   "metadata": {},
   "outputs": [],
   "source": []
  }
 ],
 "metadata": {
  "kernelspec": {
   "display_name": "Python 3 (ipykernel)",
   "language": "python",
   "name": "python3"
  },
  "language_info": {
   "codemirror_mode": {
    "name": "ipython",
    "version": 3
   },
   "file_extension": ".py",
   "mimetype": "text/x-python",
   "name": "python",
   "nbconvert_exporter": "python",
   "pygments_lexer": "ipython3",
   "version": "3.12.7"
  }
 },
 "nbformat": 4,
 "nbformat_minor": 5
}
