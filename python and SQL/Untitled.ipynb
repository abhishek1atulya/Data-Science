{
 "cells": [
  {
   "cell_type": "code",
   "execution_count": null,
   "id": "72a4db38-39a9-43c0-884e-cee4f54bdf9f",
   "metadata": {},
   "outputs": [],
   "source": [
    "# # selection sort\n",
    "# l= [1,12,65,7,8,90,2,1,0,1,3,56,7,2,3,4,0,2,3,4]\n",
    "# [1,12,65,7,8,90,2,1,0,1,3,56,7,2,3,4,0,2,3,4]\n",
    "# [1,4,65,7,8,90,2,1,0,1,3,56,7,2,3,4,0,2,3,12]\n",
    "# [1,4,12,7,8,90,2,1,0,1,3,56,7,2,3,4,0,2,3,65]\n",
    "# [1,4,12,7,8,90,2,1,0,1,3,56,7,2,3,4,0,2,3,65]\n",
    "# [1,4,12,7,8,90,2,1,0,1,3,56,7,2,3,4,0,2,3,65]\n",
    "# [1,4,12,7,8,65,2,1,0,1,3,56,7,2,3,4,0,2,3,90]\n",
    "# [1,4,12,7,8,65,2,1,0,1,3,56,7,2,3,4,0,2,3,90]\n",
    "# # 2'nd iterarion\n",
    "# [1,4,12,7,8,65,2,1,0,1,3,56,7,2,3,4,0,2,3,90]\n",
    "# [1,3,12,7,8,65,2,1,0,1,3,56,7,2,3,4,0,2,4,90]\n",
    "# [1,3,4,7,8,65,2,1,0,1,3,56,7,2,3,4,0,2,12,90]\n",
    "# [1,3,4,7,8,65,2,1,0,1,3,56,7,2,3,4,0,2,12,90]\n",
    "# [1,3,4,7,8,12,2,1,0,1,3,56,7,2,3,4,0,2,65,90]\n",
    "# 3'rd iteration\n"
   ]
  },
  {
   "cell_type": "code",
   "execution_count": 1,
   "id": "a14c199a-c689-4560-ab01-803e05b97875",
   "metadata": {},
   "outputs": [
    {
     "name": "stdout",
     "output_type": "stream",
     "text": [
      "[0, 0, 0, 1, 1, 2, 2, 2, 3, 3, 3, 4, 4, 4, 5, 5, 7, 9, 12, 12, 32, 42, 98]\n"
     ]
    }
   ],
   "source": [
    "l= [2,3,4,0,2,3,4,12,98,12,32,3,42,5,1,7,4,0,1,0,5,9,2]\n",
    "for i in range(-1,-len(l)-1,-1):\n",
    "    for j in range(len(l)+i):\n",
    "        if l[j]>l[i]:\n",
    "            l[i],l[j] = l[j],l[i]\n",
    "print(l)   "
   ]
  },
  {
   "cell_type": "code",
   "execution_count": 2,
   "id": "081cd5c1-6433-409a-80d2-8d673e7d482d",
   "metadata": {},
   "outputs": [],
   "source": [
    "# bubble sort\n",
    "l=[1,2,4,3,6,12,7,2,0,1]\n",
    "# [1,2,4,3,6,12,7,2,0,1]\n",
    "# [1,2,4,3,6,12,7,2,0,1]\n",
    "# swap\n",
    "# [1,2,3,4,6,12,7,2,0,1]\n",
    "# [1,2,3,4,6,12,7,2,0,1]\n",
    "# [1,2,3,4,6,12,7,2,0,1]\n",
    "# swap\n",
    "# [1,2,3,4,6,7,12,2,0,1]\n",
    "# [1,2,3,4,6,7,2,12,0,1]\n",
    "# [1,2,3,4,6,7,2,0,12,1]\n",
    "# [1,2,3,4,6,7,2,0,1,12]\n"
   ]
  },
  {
   "cell_type": "code",
   "execution_count": 3,
   "id": "0cb225ff-408d-4f80-b5fc-f34a934dfaa7",
   "metadata": {},
   "outputs": [
    {
     "name": "stdout",
     "output_type": "stream",
     "text": [
      "[1, 2, 3, 4, 6, 7, 2, 0, 1, 12]\n",
      "[1, 2, 3, 4, 6, 2, 0, 1, 7, 12]\n",
      "[1, 2, 3, 4, 2, 0, 1, 6, 7, 12]\n",
      "[1, 2, 3, 2, 0, 1, 4, 6, 7, 12]\n",
      "[1, 2, 2, 0, 1, 3, 4, 6, 7, 12]\n",
      "[1, 2, 0, 1, 2, 3, 4, 6, 7, 12]\n",
      "[1, 0, 1, 2, 2, 3, 4, 6, 7, 12]\n",
      "[0, 1, 1, 2, 2, 3, 4, 6, 7, 12]\n",
      "[0, 1, 1, 2, 2, 3, 4, 6, 7, 12]\n",
      "[0, 1, 1, 2, 2, 3, 4, 6, 7, 12]\n"
     ]
    },
    {
     "data": {
      "text/plain": [
       "[0, 1, 1, 2, 2, 3, 4, 6, 7, 12]"
      ]
     },
     "execution_count": 3,
     "metadata": {},
     "output_type": "execute_result"
    }
   ],
   "source": [
    "l=[1,2,4,3,6,12,7,2,0,1]\n",
    "for _ in range(len(l)):\n",
    "    for i in range(len(l)-1):\n",
    "        if l[i]>l[i+1]:\n",
    "            l[i],l[i+1]=l[i+1],l[i]\n",
    "    print(l)\n",
    "l"
   ]
  },
  {
   "cell_type": "code",
   "execution_count": null,
   "id": "61adea67-4c2d-4622-87b4-c4440c391bf7",
   "metadata": {},
   "outputs": [],
   "source": [
    "# 1->----------------- n\n",
    "# 2->------------------- n\n",
    "# 3->--------------------n\n",
    "# -\n",
    "# -\n",
    "# -\n",
    "# -\n",
    "# n->----------------n\n",
    "# n*(n-1)\n"
   ]
  },
  {
   "cell_type": "code",
   "execution_count": 4,
   "id": "bfc395b0-c3b7-492f-9b88-7dd13072bedc",
   "metadata": {},
   "outputs": [
    {
     "data": {
      "text/plain": [
       "[1, 2, 3, 4, 5, 6, 1, 3, 5, 6, 7, 8, 9, 10]"
      ]
     },
     "execution_count": 4,
     "metadata": {},
     "output_type": "execute_result"
    }
   ],
   "source": [
    "# l1=[1,2,3,4,5,6]\n",
    "# l2=[1,3,5,6,7,8,9,10]\n",
    "# l1.extend(l2)\n",
    "# l=[]\n",
    "# for i in l1:\n",
    "#     for j in l2:\n",
    "#         if i<=j:\n",
    "#             l.append(i)\n",
    "    "
   ]
  },
  {
   "cell_type": "code",
   "execution_count": null,
   "id": "4758a3d3-5866-4b4f-8e56-829f1919ce6c",
   "metadata": {},
   "outputs": [],
   "source": []
  }
 ],
 "metadata": {
  "kernelspec": {
   "display_name": "Python 3 (ipykernel)",
   "language": "python",
   "name": "python3"
  },
  "language_info": {
   "codemirror_mode": {
    "name": "ipython",
    "version": 3
   },
   "file_extension": ".py",
   "mimetype": "text/x-python",
   "name": "python",
   "nbconvert_exporter": "python",
   "pygments_lexer": "ipython3",
   "version": "3.12.7"
  }
 },
 "nbformat": 4,
 "nbformat_minor": 5
}
