{
 "cells": [
  {
   "cell_type": "markdown",
   "id": "ee2fd37a",
   "metadata": {},
   "source": [
    "Decorators\n",
    "\n",
    "A decorator in python is a function that receive another function as input and adds some functionality(dacortion) to and it returns it\n",
    "\n",
    "this can happen only because python functions are 1st class citizens\n",
    "\n",
    "there the 2 types of decorators available in python \n",
    "\n",
    "1) Built in decorator like @staticmethod, @classmethod, @abstractmethod and @property etc\n",
    "\n",
    "2) User defined decorators that we programmers can create according to our needs"
   ]
  },
  {
   "cell_type": "code",
   "execution_count": null,
   "id": "95dc4f14-366f-4016-91ab-89a7c18244f1",
   "metadata": {},
   "outputs": [],
   "source": []
  },
  {
   "cell_type": "code",
   "execution_count": null,
   "id": "84628c36-a38e-4307-9aac-21eb19774605",
   "metadata": {},
   "outputs": [],
   "source": [
    "# map(fun,l)\n",
    "# l=[1,2,3,4]"
   ]
  },
  {
   "cell_type": "code",
   "execution_count": null,
   "id": "e59bd45d-4716-4dea-9a2e-40bce2989728",
   "metadata": {},
   "outputs": [],
   "source": [
    "def upper(s):\n",
    "    return s.upper()"
   ]
  },
  {
   "cell_type": "code",
   "execution_count": null,
   "id": "9c48843d-a19f-4c1e-bd2a-6fc4e4cf67c0",
   "metadata": {},
   "outputs": [],
   "source": [
    "upper('asdfghjk')"
   ]
  },
  {
   "cell_type": "code",
   "execution_count": null,
   "id": "04fba456-fcf6-48d7-94ed-fbeda9e4a7d7",
   "metadata": {},
   "outputs": [],
   "source": [
    "def deco(fun):\n",
    "    def wrapper(*a,**b):\n",
    "        s = fun(*a)\n",
    "        a=''\n",
    "        for v in s:\n",
    "            if v in 'AEIOU':\n",
    "                a+=v\n",
    "        return a\n",
    "    return wrapper"
   ]
  },
  {
   "cell_type": "code",
   "execution_count": null,
   "id": "d7c19f42-a71a-4717-8a45-78368c681545",
   "metadata": {},
   "outputs": [],
   "source": [
    "f= deco(upper)"
   ]
  },
  {
   "cell_type": "code",
   "execution_count": null,
   "id": "1c974de7-e3db-42f2-b8c5-ab6779bb7ce9",
   "metadata": {},
   "outputs": [],
   "source": [
    "f('asdfghjqwertyui')"
   ]
  },
  {
   "cell_type": "code",
   "execution_count": null,
   "id": "6e356bdf-779a-4965-a18b-fbc9c8b32e79",
   "metadata": {},
   "outputs": [],
   "source": [
    "@deco\n",
    "def upper(s):\n",
    "    return s.upper()"
   ]
  },
  {
   "cell_type": "code",
   "execution_count": null,
   "id": "33c7ee16-28de-4d06-a7ba-7b79dde56e4d",
   "metadata": {},
   "outputs": [],
   "source": [
    "upper('asiuescbnjki')"
   ]
  },
  {
   "cell_type": "code",
   "execution_count": null,
   "id": "0e02a64c",
   "metadata": {},
   "outputs": [],
   "source": [
    "def square(num):\n",
    "    num+=1\n",
    "    return num**2\n",
    "print(id(square))\n",
    "square(5)"
   ]
  },
  {
   "cell_type": "code",
   "execution_count": null,
   "id": "a6fe19f4-10e7-480a-8636-69196c549bd7",
   "metadata": {},
   "outputs": [],
   "source": [
    "# define a decorator which print the functions name before calling the function"
   ]
  },
  {
   "cell_type": "code",
   "execution_count": null,
   "id": "5040c134-fabf-4668-9d7d-08524d0fb67a",
   "metadata": {},
   "outputs": [],
   "source": [
    "def decorator(f,a,c):\n",
    "    def wrapper():\n",
    "       nonlocal c\n",
    "       c+=1\n",
    "       print(f'{f.__name__} is being called',c)\n",
    "       return f(a)\n",
    "    return wrapper"
   ]
  },
  {
   "cell_type": "code",
   "execution_count": null,
   "id": "59c85583",
   "metadata": {
    "scrolled": true
   },
   "outputs": [],
   "source": [
    "a=decorator(square,5,1)"
   ]
  },
  {
   "cell_type": "code",
   "execution_count": null,
   "id": "67705616-e9e5-48f1-8441-55713fb58843",
   "metadata": {},
   "outputs": [],
   "source": [
    "a()"
   ]
  },
  {
   "cell_type": "code",
   "execution_count": null,
   "id": "550e9154-6385-40c8-8781-43d4195ab6b7",
   "metadata": {},
   "outputs": [],
   "source": [
    "def decorator(fun):\n",
    "    def wrapper(*a,**b):\n",
    "       print(f'{fun.__name__} is being called')\n",
    "       return fun(*a,**b)\n",
    "    return wrapper"
   ]
  },
  {
   "cell_type": "code",
   "execution_count": null,
   "id": "56e62a32-d72c-4459-94d4-da557bede622",
   "metadata": {},
   "outputs": [],
   "source": [
    "@decorator\n",
    "def mul(a,b):\n",
    "    return a*b"
   ]
  },
  {
   "cell_type": "code",
   "execution_count": null,
   "id": "59cb2ddd",
   "metadata": {
    "scrolled": true
   },
   "outputs": [],
   "source": [
    "mul(2,3)"
   ]
  },
  {
   "cell_type": "code",
   "execution_count": null,
   "id": "fbbc79e4-2d40-4ecf-8838-1e8b43190659",
   "metadata": {},
   "outputs": [],
   "source": [
    "@decorator\n",
    "def mul(a,b,c,d,f):\n",
    "    return a*b*c*d*f"
   ]
  },
  {
   "cell_type": "code",
   "execution_count": null,
   "id": "eabc8f1e",
   "metadata": {
    "scrolled": true
   },
   "outputs": [],
   "source": [
    "mul(1,2,3,4,5)"
   ]
  },
  {
   "cell_type": "code",
   "execution_count": null,
   "id": "4637d5b4",
   "metadata": {},
   "outputs": [],
   "source": [
    "def mydeco(func): #outer Function\n",
    "    def wraper(*num): #inner Function\n",
    "        print('adding some functionality before the function')\n",
    "        print(func(*num))\n",
    "        print('adding some functionality after the function')\n",
    "    return wraper"
   ]
  },
  {
   "cell_type": "code",
   "execution_count": null,
   "id": "8afd9808",
   "metadata": {
    "scrolled": true
   },
   "outputs": [],
   "source": [
    "def fun(n):\n",
    "    print(n)"
   ]
  },
  {
   "cell_type": "code",
   "execution_count": null,
   "id": "b5a40393",
   "metadata": {},
   "outputs": [],
   "source": [
    "fun(12)"
   ]
  },
  {
   "cell_type": "code",
   "execution_count": null,
   "id": "d85e8856",
   "metadata": {},
   "outputs": [],
   "source": [
    "a=mydeco(fun) # returns a function\n",
    "# a()\n",
    "a(12)"
   ]
  },
  {
   "cell_type": "code",
   "execution_count": null,
   "id": "e751b1fe",
   "metadata": {},
   "outputs": [],
   "source": [
    "def mydeco(fun):\n",
    "    def wrapper(*a,**b):\n",
    "        print('before the function')\n",
    "        print(fun(*a,**b))\n",
    "        print('after the fucntion')\n",
    "    return wrapper"
   ]
  },
  {
   "cell_type": "code",
   "execution_count": null,
   "id": "07acd3fc",
   "metadata": {},
   "outputs": [],
   "source": [
    "@mydeco\n",
    "def dfgh(n,l,a):\n",
    "    return n*l*a"
   ]
  },
  {
   "cell_type": "code",
   "execution_count": null,
   "id": "17ad8f5f-d4ae-4e13-aad6-015cd04f033b",
   "metadata": {},
   "outputs": [],
   "source": [
    "dfgh(1,2,4)"
   ]
  },
  {
   "cell_type": "code",
   "execution_count": null,
   "id": "b7cbc791",
   "metadata": {
    "scrolled": true
   },
   "outputs": [],
   "source": [
    "a=mydeco(dfgh)\n",
    "a(1,2,3)\n",
    "# mydeco(dfgh)(1,2,3)"
   ]
  },
  {
   "cell_type": "code",
   "execution_count": null,
   "id": "62cbaffe-b9fa-41d0-9273-698de94eed50",
   "metadata": {},
   "outputs": [],
   "source": [
    "import time\n",
    "def timer(fun):\n",
    "    def wrapper(*a,**b):\n",
    "        curr = time.time()\n",
    "        print(fun(*a,**b))\n",
    "        after= time.time()\n",
    "        t= after-curr\n",
    "        print(f'time taken to run {fun.__name__} is equal to {t}')\n",
    "    return wrapper     "
   ]
  },
  {
   "cell_type": "code",
   "execution_count": null,
   "id": "cdce659e",
   "metadata": {},
   "outputs": [],
   "source": [
    "def decor(a,b):\n",
    "    def mydecor(func):\n",
    "        def wrapper(*ar,**kr):\n",
    "            print(f'my functions is {func.__name__} and it has two arguments {a} and {b}')\n",
    "            func(*ar,*kr)\n",
    "            print('display after the function execution')\n",
    "        return wrapper\n",
    "    return mydecor\n",
    "@decor(1,2)\n",
    "def sq(a,b):\n",
    "    return a**b\n",
    "sq(5,2)"
   ]
  },
  {
   "cell_type": "code",
   "execution_count": 2,
   "id": "a1a82850",
   "metadata": {},
   "outputs": [
    {
     "name": "stdout",
     "output_type": "stream",
     "text": [
      "True\n",
      "time taken to execute the function prime is equal to 1.0025773\n"
     ]
    }
   ],
   "source": [
    "import time\n",
    "\n",
    "def timer(func):\n",
    "    def wraper(*a,**b):\n",
    "        s=time.time()\n",
    "        print(func(*a,**b))\n",
    "        t=time.time()\n",
    "        print(f'time taken to execute the function {func.__name__} is equal to {(t-s):.7f}')\n",
    "    return wraper\n",
    "@timer\n",
    "def prime(n):\n",
    "    time.sleep(1)\n",
    "    if n<4:\n",
    "        return True\n",
    "    s=int(n**(1/2))\n",
    "    for i in range(2,s+1):\n",
    "        if n%i==0:\n",
    "            return False\n",
    "    return True\n",
    "prime(10000169)"
   ]
  },
  {
   "cell_type": "code",
   "execution_count": null,
   "id": "3264138d",
   "metadata": {},
   "outputs": [],
   "source": [
    "@timer\n",
    "def prime(n):\n",
    "    time.sleep(1)\n",
    "    if n<4:\n",
    "        return True\n",
    "#     s=int(n**(1/2))\n",
    "    for i in range(2,n):\n",
    "        if n%i==0:\n",
    "            return False\n",
    "    return True\n",
    "prime(10000169)"
   ]
  },
  {
   "cell_type": "code",
   "execution_count": null,
   "id": "3429468b",
   "metadata": {},
   "outputs": [],
   "source": [
    "@timer\n",
    "def bubble_sort(l):\n",
    "    time.sleep(1)\n",
    "    for i in range(len(l)):\n",
    "#         m=l[i]\n",
    "        for j in range(i+1,len(l)):\n",
    "            if l[i]>l[j]:\n",
    "                l[i],l[j]=l[j],l[i]\n",
    "#         print(l)\n",
    "    return l"
   ]
  },
  {
   "cell_type": "code",
   "execution_count": null,
   "id": "1fe56dfe",
   "metadata": {},
   "outputs": [],
   "source": [
    "l=[1,19,13,14,12,16,14,1,13,1,18,19,19,20,23,34,63,2,42,0,15]\n",
    "\n",
    "bubble_sort(l)"
   ]
  },
  {
   "cell_type": "code",
   "execution_count": null,
   "id": "824cdf2b",
   "metadata": {},
   "outputs": [],
   "source": [
    "@timer\n",
    "def bubble_sort(l):\n",
    "    time.sleep(1)\n",
    "    for i in range(len(l)):\n",
    "        for j in range(len(l)-1):\n",
    "            if l[j]>l[j+1]:\n",
    "                l[j],l[j+1]=l[j+1],l[j]\n",
    "#         print(l)\n",
    "    return l"
   ]
  },
  {
   "cell_type": "code",
   "execution_count": null,
   "id": "87f50545",
   "metadata": {},
   "outputs": [],
   "source": [
    "l=[1,19,13,14,12,16,14,1,13,1,18,19,19,20,23,34,63,2,42,0,15]\n",
    "bubble_sort(l)"
   ]
  },
  {
   "cell_type": "code",
   "execution_count": 5,
   "id": "ed10e108",
   "metadata": {},
   "outputs": [],
   "source": [
    "def sanity_check(*args):\n",
    "    def decorator(fun):\n",
    "        def wrapper(*a):\n",
    "            for i, v in zip(args,a):\n",
    "                if i!=type(v):\n",
    "                    print('data type is not valid')\n",
    "                    return\n",
    "            print('data type is valid')\n",
    "            return fun(*a)\n",
    "        return wrapper\n",
    "    return decorator                 "
   ]
  },
  {
   "cell_type": "code",
   "execution_count": null,
   "id": "db3babc5",
   "metadata": {},
   "outputs": [],
   "source": []
  },
  {
   "cell_type": "code",
   "execution_count": null,
   "id": "d2d089d9",
   "metadata": {},
   "outputs": [],
   "source": [
    "bubble_sort(1234)"
   ]
  },
  {
   "cell_type": "code",
   "execution_count": 6,
   "id": "79a1f884",
   "metadata": {},
   "outputs": [],
   "source": [
    "@sanity_check(list,int,float,str)\n",
    "def fun(l,i,f,s):\n",
    "    print(l,i,f,s)"
   ]
  },
  {
   "cell_type": "code",
   "execution_count": 8,
   "id": "abaa635a-7a73-4da7-9527-098e73ead83f",
   "metadata": {},
   "outputs": [
    {
     "name": "stdout",
     "output_type": "stream",
     "text": [
      "data type is not valid\n"
     ]
    }
   ],
   "source": [
    "fun([1,2,3],8,2,'asdf')"
   ]
  },
  {
   "cell_type": "code",
   "execution_count": 4,
   "id": "5d7ace15-8bfa-4b67-b354-0ec797e9cd0a",
   "metadata": {},
   "outputs": [
    {
     "name": "stdout",
     "output_type": "stream",
     "text": [
      "(1, 12, 4, 6, 7, 8, 8)\n"
     ]
    }
   ],
   "source": [
    "fun(1,12,4,6,7,8,8)"
   ]
  },
  {
   "cell_type": "code",
   "execution_count": 9,
   "id": "322f642c-e193-4691-b9f3-0d0e9332efe6",
   "metadata": {},
   "outputs": [],
   "source": [
    "def minion_game(string):\n",
    "    vowel = 'AEIOU'\n",
    "    n = len(string)\n",
    "    s=0\n",
    "    k=0\n",
    "    for i,v in enumerate(string):\n",
    "        if v in vowel:\n",
    "            k+=n-i\n",
    "        else:\n",
    "            s+=n-i\n",
    "    if s>k:\n",
    "        print('Stuart',s)\n",
    "    elif s==k:\n",
    "        print(\"Draw\")\n",
    "    else:\n",
    "        print('Kewin',k)"
   ]
  },
  {
   "cell_type": "code",
   "execution_count": 10,
   "id": "69e2e8bf-4e99-4b2a-9669-8eec3b0dbc4b",
   "metadata": {},
   "outputs": [
    {
     "name": "stdout",
     "output_type": "stream",
     "text": [
      "Kewin 12\n"
     ]
    }
   ],
   "source": [
    "minion_game('ANANAS')"
   ]
  },
  {
   "cell_type": "code",
   "execution_count": null,
   "id": "87f7154a-1e3a-4c84-82de-2eaef426c4c5",
   "metadata": {},
   "outputs": [],
   "source": []
  }
 ],
 "metadata": {
  "kernelspec": {
   "display_name": "Python 3 (ipykernel)",
   "language": "python",
   "name": "python3"
  },
  "language_info": {
   "codemirror_mode": {
    "name": "ipython",
    "version": 3
   },
   "file_extension": ".py",
   "mimetype": "text/x-python",
   "name": "python",
   "nbconvert_exporter": "python",
   "pygments_lexer": "ipython3",
   "version": "3.12.7"
  }
 },
 "nbformat": 4,
 "nbformat_minor": 5
}
