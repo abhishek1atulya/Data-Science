{
 "cells": [
  {
   "cell_type": "code",
   "execution_count": 10,
   "id": "27f452f6-5f6d-48fb-a24f-992e2587d643",
   "metadata": {},
   "outputs": [],
   "source": [
    "import time\n",
    "def timer(fun):\n",
    "    def wrapper(*a):\n",
    "        bt=time.time()\n",
    "        print(fun(*a))\n",
    "        at=time.time()\n",
    "        print(f'time to run the {fun.__name__} is {at-bt:.4f}sec')\n",
    "    return wrapper\n",
    "    "
   ]
  },
  {
   "cell_type": "code",
   "execution_count": 12,
   "id": "55af1f39-b159-430f-b65d-8ce0fed2140c",
   "metadata": {},
   "outputs": [],
   "source": [
    "@timer\n",
    "def bubble_sort(l):\n",
    "    time.sleep(1)\n",
    "    for i in range(len(l)):\n",
    "        for j in range(len(l)-1):\n",
    "            if l[j]>l[j+1]:\n",
    "                l[j],l[j+1]=l[j+1],l[j]\n",
    "#         print(l)\n",
    "    return l"
   ]
  },
  {
   "cell_type": "code",
   "execution_count": 14,
   "id": "bd2bbb8a-5030-4356-86f8-00de43bacb2b",
   "metadata": {},
   "outputs": [
    {
     "name": "stdout",
     "output_type": "stream",
     "text": [
      "[0, 1, 1, 1, 2, 12, 13, 13, 14, 14, 15, 16, 18, 19, 19, 19, 20, 23, 34, 42, 63]\n",
      "time to run the bubble_sort is 1.0008sec\n"
     ]
    }
   ],
   "source": [
    "l=[1,19,13,14,12,16,14,1,13,1,18,19,19,20,23,34,63,2,42,0,15]\n",
    "bubble_sort(l)"
   ]
  },
  {
   "cell_type": "code",
   "execution_count": 16,
   "id": "21a3931b-04aa-4d47-add9-1f950f09ee90",
   "metadata": {},
   "outputs": [
    {
     "name": "stdout",
     "output_type": "stream",
     "text": [
      "[0, 0, 1, 1, 1, 1, 1, 1, 2, 2, 12, 12, 13, 13, 13, 13, 14, 14, 14, 14, 15, 15, 16, 16, 18, 18, 19, 19, 19, 19, 19, 19, 20, 20, 23, 23, 34, 34, 42, 42, 63, 63]\n",
      "time to run the bubble_sort is 1.0012sec\n"
     ]
    }
   ],
   "source": [
    "l=[1,19,13,14,12,16,14,1,13,1,18,19,19,20,23,34,63,2,42,0,15,1,19,13,14,12,16,14,1,13,1,18,19,19,20,23,34,63,2,42,0,15]\n",
    "bubble_sort(l)"
   ]
  },
  {
   "cell_type": "code",
   "execution_count": 18,
   "id": "85ab4b0e-26b4-4e96-aef0-d06f1c2afa00",
   "metadata": {},
   "outputs": [],
   "source": [
    "@timer\n",
    "def prime(n):\n",
    "    time.sleep(1)\n",
    "    if n<4:\n",
    "        return True\n",
    "    s=int(n**(1/2))\n",
    "    for i in range(2,s+1):\n",
    "        if n%i==0:\n",
    "            return False\n",
    "    return True"
   ]
  },
  {
   "cell_type": "code",
   "execution_count": 20,
   "id": "2102f188-91ec-4ce3-9163-b8de59117360",
   "metadata": {},
   "outputs": [
    {
     "name": "stdout",
     "output_type": "stream",
     "text": [
      "True\n",
      "time to run the prime is 1.0005sec\n"
     ]
    }
   ],
   "source": [
    "prime(10000169)"
   ]
  },
  {
   "cell_type": "code",
   "execution_count": 22,
   "id": "08585839-232b-487e-8efc-78fac4689377",
   "metadata": {},
   "outputs": [],
   "source": [
    "@timer\n",
    "def prime(n):\n",
    "    time.sleep(1)\n",
    "    if n<4:\n",
    "        return True\n",
    "    for i in range(2,n):\n",
    "        if n%i==0:\n",
    "            return False\n",
    "    return True"
   ]
  },
  {
   "cell_type": "code",
   "execution_count": 28,
   "id": "87a450b2-f47d-44c0-9c0d-896cabb3df0f",
   "metadata": {},
   "outputs": [
    {
     "name": "stdout",
     "output_type": "stream",
     "text": [
      "True\n",
      "time to run the prime is 2.4008sec\n"
     ]
    }
   ],
   "source": [
    "prime(10000169)"
   ]
  },
  {
   "cell_type": "code",
   "execution_count": 36,
   "id": "0f547bf7-3a69-451d-9036-70bbed822557",
   "metadata": {},
   "outputs": [],
   "source": [
    "def sanity_check(*a):\n",
    "    def decorator(fun):\n",
    "        def wrapper(*arg):\n",
    "            for i , j in zip(a,arg):\n",
    "                if type(j)!=i:\n",
    "                    print(f'{fun.__name__ } is not defind for the {type(j).__name__}')\n",
    "                    return \n",
    "            print('Valid Input')\n",
    "            return fun(*arg)\n",
    "        return wrapper\n",
    "    return decorator "
   ]
  },
  {
   "cell_type": "code",
   "execution_count": 38,
   "id": "6c595bb2-33f9-492a-871f-8eb75ed4416c",
   "metadata": {},
   "outputs": [],
   "source": [
    "@sanity_check(int)\n",
    "def prime(n):\n",
    "    time.sleep(1)\n",
    "    if n<4:\n",
    "        return True\n",
    "    s=int(n**(1/2))\n",
    "    for i in range(2,s+1):\n",
    "        if n%i==0:\n",
    "            return False\n",
    "    return True"
   ]
  },
  {
   "cell_type": "code",
   "execution_count": 42,
   "id": "c714f018-4dd8-4b8e-8f0c-8015a7245669",
   "metadata": {},
   "outputs": [
    {
     "name": "stdout",
     "output_type": "stream",
     "text": [
      "prime is not defind for the str\n"
     ]
    }
   ],
   "source": [
    "prime(\"10000169\")"
   ]
  },
  {
   "cell_type": "code",
   "execution_count": null,
   "id": "127e1fdd-1b60-4f8d-a6b1-e536b014b626",
   "metadata": {},
   "outputs": [],
   "source": []
  }
 ],
 "metadata": {
  "kernelspec": {
   "display_name": "Python 3 (ipykernel)",
   "language": "python",
   "name": "python3"
  },
  "language_info": {
   "codemirror_mode": {
    "name": "ipython",
    "version": 3
   },
   "file_extension": ".py",
   "mimetype": "text/x-python",
   "name": "python",
   "nbconvert_exporter": "python",
   "pygments_lexer": "ipython3",
   "version": "3.12.7"
  }
 },
 "nbformat": 4,
 "nbformat_minor": 5
}
