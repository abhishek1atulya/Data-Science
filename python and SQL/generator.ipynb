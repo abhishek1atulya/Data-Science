{
 "cells": [
  {
   "cell_type": "code",
   "execution_count": 13,
   "id": "fad8ab13-c23a-4158-977b-c640c8dc9206",
   "metadata": {},
   "outputs": [],
   "source": [
    "def fun(n):\n",
    "    for i in range(n):\n",
    "        yield i"
   ]
  },
  {
   "cell_type": "code",
   "execution_count": 14,
   "id": "004f2f79-e4c9-48ed-8a7e-e4e5bb5208db",
   "metadata": {},
   "outputs": [
    {
     "data": {
      "text/plain": [
       "<generator object fun at 0x000001F4D1BE3D30>"
      ]
     },
     "execution_count": 14,
     "metadata": {},
     "output_type": "execute_result"
    }
   ],
   "source": [
    "p=fun(10)\n",
    "p"
   ]
  },
  {
   "cell_type": "code",
   "execution_count": 11,
   "id": "76be986b-7a0c-4ba7-8798-9d366d2f9a63",
   "metadata": {},
   "outputs": [
    {
     "ename": "TypeError",
     "evalue": "'int' object is not an iterator",
     "output_type": "error",
     "traceback": [
      "\u001b[1;31m---------------------------------------------------------------------------\u001b[0m",
      "\u001b[1;31mTypeError\u001b[0m                                 Traceback (most recent call last)",
      "Cell \u001b[1;32mIn[11], line 1\u001b[0m\n\u001b[1;32m----> 1\u001b[0m \u001b[38;5;28mnext\u001b[39m(p)\n",
      "\u001b[1;31mTypeError\u001b[0m: 'int' object is not an iterator"
     ]
    }
   ],
   "source": [
    "next(p)"
   ]
  },
  {
   "cell_type": "code",
   "execution_count": 13,
   "id": "8c6a7a7f-0884-4719-85bc-b52db0ac6227",
   "metadata": {},
   "outputs": [
    {
     "data": {
      "text/plain": [
       "[0, 1, 2, 3, 4, 5, 6, 7, 8, 9]"
      ]
     },
     "execution_count": 13,
     "metadata": {},
     "output_type": "execute_result"
    }
   ],
   "source": [
    "list(fun(10))"
   ]
  },
  {
   "cell_type": "code",
   "execution_count": 1,
   "id": "67ab8c28-a27f-40ba-b45d-b02b112722b5",
   "metadata": {},
   "outputs": [],
   "source": [
    "def prime(n):\n",
    "    for i in range(2,n):\n",
    "        c=True\n",
    "        if i==2 or i==3:\n",
    "            yield  i\n",
    "        elif i>3:\n",
    "            s=int(i**(1/2))+1\n",
    "            for j in range(2,s):\n",
    "                if i%j==0:\n",
    "                    c=False\n",
    "                    break\n",
    "            if c:\n",
    "                yield i"
   ]
  },
  {
   "cell_type": "code",
   "execution_count": 21,
   "id": "a60cfca6-cf65-4120-8bd8-35366aadc398",
   "metadata": {
    "scrolled": true
   },
   "outputs": [
    {
     "name": "stdout",
     "output_type": "stream",
     "text": [
      "2\n",
      "3\n",
      "5\n",
      "7\n",
      "11\n",
      "13\n",
      "17\n",
      "19\n"
     ]
    }
   ],
   "source": [
    "for i in prime(20):\n",
    "    print(i)"
   ]
  },
  {
   "cell_type": "code",
   "execution_count": 23,
   "id": "5de7390c-4185-4fc9-ab59-06656b734610",
   "metadata": {},
   "outputs": [],
   "source": [
    "# even number upto n\n",
    "def even(n):\n",
    "    for i in range(n+1):\n",
    "        if i%2==0:\n",
    "            yield i"
   ]
  },
  {
   "cell_type": "code",
   "execution_count": 25,
   "id": "ed6d0166-a08e-4c47-8ec6-cd481d8d7674",
   "metadata": {},
   "outputs": [
    {
     "data": {
      "text/plain": [
       "[0, 2, 4, 6, 8, 10, 12, 14, 16, 18, 20, 22, 24, 26, 28, 30]"
      ]
     },
     "execution_count": 25,
     "metadata": {},
     "output_type": "execute_result"
    }
   ],
   "source": [
    "list(even(30))"
   ]
  },
  {
   "cell_type": "code",
   "execution_count": null,
   "id": "99dd3a1b-f0b9-4d4a-8bf2-ff24fbe92463",
   "metadata": {},
   "outputs": [],
   "source": []
  }
 ],
 "metadata": {
  "kernelspec": {
   "display_name": "Python 3 (ipykernel)",
   "language": "python",
   "name": "python3"
  },
  "language_info": {
   "codemirror_mode": {
    "name": "ipython",
    "version": 3
   },
   "file_extension": ".py",
   "mimetype": "text/x-python",
   "name": "python",
   "nbconvert_exporter": "python",
   "pygments_lexer": "ipython3",
   "version": "3.12.7"
  }
 },
 "nbformat": 4,
 "nbformat_minor": 5
}
