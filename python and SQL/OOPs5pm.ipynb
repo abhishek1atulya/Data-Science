{
 "cells": [
  {
   "cell_type": "code",
   "execution_count": 9,
   "id": "82ef6e6c-554c-4e48-9e6d-3fb60f5755d5",
   "metadata": {},
   "outputs": [],
   "source": [
    "class Vehical:\n",
    "    # def __init__(self):\n",
    "        \n",
    "    def wheels():\n",
    "        print('it has wheels')\n",
    "    def handle():\n",
    "        print('it has handle')\n",
    "    def speed(min_speed):\n",
    "        print(f'it can run with {min_speed}km/h speed')"
   ]
  },
  {
   "cell_type": "code",
   "execution_count": 10,
   "id": "49f8755f-4645-4807-b7a6-57fbff9662d3",
   "metadata": {},
   "outputs": [
    {
     "name": "stdout",
     "output_type": "stream",
     "text": [
      "it has wheels\n"
     ]
    }
   ],
   "source": [
    "Vehical.wheels()"
   ]
  },
  {
   "cell_type": "code",
   "execution_count": 11,
   "id": "4103620c-2fa5-4e2e-acd0-455bd19ea677",
   "metadata": {},
   "outputs": [
    {
     "name": "stdout",
     "output_type": "stream",
     "text": [
      "it has handle\n"
     ]
    }
   ],
   "source": [
    "Vehical.handle()"
   ]
  },
  {
   "cell_type": "code",
   "execution_count": 12,
   "id": "3dd05f6d-a3ec-4880-8c9d-c33ac59237e9",
   "metadata": {},
   "outputs": [
    {
     "name": "stdout",
     "output_type": "stream",
     "text": [
      "it can run with 10km/h speed\n"
     ]
    }
   ],
   "source": [
    "Vehical.speed(10)"
   ]
  },
  {
   "cell_type": "code",
   "execution_count": 13,
   "id": "78a55e95-d93f-482a-82ea-6ed7322b163c",
   "metadata": {},
   "outputs": [],
   "source": [
    "a= Vehical()"
   ]
  },
  {
   "cell_type": "code",
   "execution_count": 14,
   "id": "719ec592-617b-481b-a926-2e8b767c43c6",
   "metadata": {},
   "outputs": [
    {
     "ename": "TypeError",
     "evalue": "Vehical.handle() takes 0 positional arguments but 1 was given",
     "output_type": "error",
     "traceback": [
      "\u001b[1;31m---------------------------------------------------------------------------\u001b[0m",
      "\u001b[1;31mTypeError\u001b[0m                                 Traceback (most recent call last)",
      "Cell \u001b[1;32mIn[14], line 1\u001b[0m\n\u001b[1;32m----> 1\u001b[0m a\u001b[38;5;241m.\u001b[39mhandle()\n",
      "\u001b[1;31mTypeError\u001b[0m: Vehical.handle() takes 0 positional arguments but 1 was given"
     ]
    }
   ],
   "source": [
    "a.handle()"
   ]
  },
  {
   "cell_type": "code",
   "execution_count": 54,
   "id": "e9963b73-c6d6-4f47-8cc8-faa3490eb4a3",
   "metadata": {},
   "outputs": [],
   "source": [
    "class Vehical:\n",
    "    def __init__(self,a,b):\n",
    "        self.example =a # instance variable\n",
    "        self.no_wheels = b # instance variable\n",
    "        print(f'{a} is type of Vehical')\n",
    "        self.wheels()\n",
    "        \n",
    "    def wheels(self):\n",
    "        print(f'it has {self.no_wheels} wheels')\n",
    "    def handle():\n",
    "        print('it has handle')\n",
    "    def speed(self,min_speed):\n",
    "        print(f'it can run with {min_speed}km/h speed')"
   ]
  },
  {
   "cell_type": "code",
   "execution_count": 58,
   "id": "6d76aaf3-4c96-42ec-a5fb-6c2f99a5e556",
   "metadata": {},
   "outputs": [
    {
     "name": "stdout",
     "output_type": "stream",
     "text": [
      "bike is type of Vehical\n",
      "it has 2 wheels\n"
     ]
    }
   ],
   "source": [
    "bike= Vehical('bike',2)"
   ]
  },
  {
   "cell_type": "code",
   "execution_count": 59,
   "id": "ed819584-6feb-4e92-86ae-f32ca71d879d",
   "metadata": {},
   "outputs": [
    {
     "data": {
      "text/plain": [
       "'bike'"
      ]
     },
     "execution_count": 59,
     "metadata": {},
     "output_type": "execute_result"
    }
   ],
   "source": [
    "bike.example"
   ]
  },
  {
   "cell_type": "code",
   "execution_count": 60,
   "id": "2d74e0bc-5805-4cfa-95e6-c006d39303e0",
   "metadata": {
    "scrolled": true
   },
   "outputs": [
    {
     "name": "stdout",
     "output_type": "stream",
     "text": [
      "car is type of Vehical\n",
      "it has 4 wheels\n"
     ]
    }
   ],
   "source": [
    "car = Vehical('car',4)"
   ]
  },
  {
   "cell_type": "code",
   "execution_count": 61,
   "id": "f9fd5734-51a0-4521-9e33-8ef60fdf149e",
   "metadata": {},
   "outputs": [
    {
     "name": "stdout",
     "output_type": "stream",
     "text": [
      "it has 2 wheels\n"
     ]
    }
   ],
   "source": [
    "bike.wheels()"
   ]
  },
  {
   "cell_type": "code",
   "execution_count": 64,
   "id": "d05f54c1-2861-4e0e-a17d-684ebcd0f20c",
   "metadata": {},
   "outputs": [
    {
     "data": {
      "text/plain": [
       "2"
      ]
     },
     "execution_count": 64,
     "metadata": {},
     "output_type": "execute_result"
    }
   ],
   "source": [
    "bike.no_wheels"
   ]
  },
  {
   "cell_type": "code",
   "execution_count": 62,
   "id": "946e7d57-5390-4e15-adbd-07f3a79a2a66",
   "metadata": {
    "scrolled": true
   },
   "outputs": [
    {
     "name": "stdout",
     "output_type": "stream",
     "text": [
      "it has 4 wheels\n"
     ]
    }
   ],
   "source": [
    "car.wheels()"
   ]
  },
  {
   "cell_type": "code",
   "execution_count": 63,
   "id": "1372eff3-eced-4167-bbbc-e06271da3429",
   "metadata": {},
   "outputs": [
    {
     "ename": "TypeError",
     "evalue": "Vehical.handle() takes 0 positional arguments but 1 was given",
     "output_type": "error",
     "traceback": [
      "\u001b[1;31m---------------------------------------------------------------------------\u001b[0m",
      "\u001b[1;31mTypeError\u001b[0m                                 Traceback (most recent call last)",
      "Cell \u001b[1;32mIn[63], line 1\u001b[0m\n\u001b[1;32m----> 1\u001b[0m bike\u001b[38;5;241m.\u001b[39mhandle()\n",
      "\u001b[1;31mTypeError\u001b[0m: Vehical.handle() takes 0 positional arguments but 1 was given"
     ]
    }
   ],
   "source": [
    "bike.handle()"
   ]
  },
  {
   "cell_type": "code",
   "execution_count": 37,
   "id": "5703a905-c629-4cde-a381-4c6f9300c799",
   "metadata": {},
   "outputs": [
    {
     "name": "stdout",
     "output_type": "stream",
     "text": [
      "it has handle\n"
     ]
    }
   ],
   "source": [
    "Vehical.handle()"
   ]
  },
  {
   "cell_type": "code",
   "execution_count": 38,
   "id": "d309fa2d-19ea-4bce-9055-36f450535ba9",
   "metadata": {},
   "outputs": [
    {
     "ename": "TypeError",
     "evalue": "Vehical.wheels() missing 1 required positional argument: 'self'",
     "output_type": "error",
     "traceback": [
      "\u001b[1;31m---------------------------------------------------------------------------\u001b[0m",
      "\u001b[1;31mTypeError\u001b[0m                                 Traceback (most recent call last)",
      "Cell \u001b[1;32mIn[38], line 1\u001b[0m\n\u001b[1;32m----> 1\u001b[0m Vehical\u001b[38;5;241m.\u001b[39mwheels()\n",
      "\u001b[1;31mTypeError\u001b[0m: Vehical.wheels() missing 1 required positional argument: 'self'"
     ]
    }
   ],
   "source": [
    "Vehical.wheels()"
   ]
  },
  {
   "cell_type": "code",
   "execution_count": 39,
   "id": "9b09325b-6a6d-4c5b-a790-4264e6cdacac",
   "metadata": {},
   "outputs": [
    {
     "name": "stdout",
     "output_type": "stream",
     "text": [
      "it has wheels\n"
     ]
    }
   ],
   "source": [
    "Vehical.wheels(12)"
   ]
  },
  {
   "cell_type": "code",
   "execution_count": 3,
   "id": "0d8fe12f-4d1f-4cfa-b268-485e4569c9dc",
   "metadata": {},
   "outputs": [],
   "source": [
    "d = {123: [1234, 50000], 908:[6789, 10000]}"
   ]
  },
  {
   "cell_type": "code",
   "execution_count": 31,
   "id": "9f10317d-f3dd-496d-9cea-8b95b8e19f3e",
   "metadata": {},
   "outputs": [],
   "source": [
    "class Atm:\n",
    "    counter=0 # class/static varible\n",
    "    def __init__(self,card):\n",
    "        Atm.counter+=1\n",
    "        self.__card= card # instance variable\n",
    "        self.c=0\n",
    "        # while True:\n",
    "        #     self.__pin = int(input('Enter your pin: '))\n",
    "        #     if self.__pin == d.get(card)[0]:\n",
    "        #         self.__menu()\n",
    "        #         break\n",
    "        #     elif c>2:\n",
    "        #         print('your card is blocked for 24 hours ')\n",
    "        #         break\n",
    "        #     else:\n",
    "        #         print('Incorrect pin\\nplease enter the correct pin')\n",
    "        #     c+=1\n",
    "    def __menu(self):\n",
    "        n = int(input('''\n",
    "        Enter 1 to withdraw the amount\n",
    "        Enter 2 to deposit the amount\n",
    "        Enter 3 to check your balance\n",
    "        Enter 4 to change your pin\n",
    "        Enter anything to Exit: '''))\n",
    "        if n==1:\n",
    "            self.withdraw()\n",
    "        if n==3:\n",
    "            self.check_balance()\n",
    "    def withdraw(self):\n",
    "        amount = int(input('Enter the anount: '))\n",
    "        fetched_amount = d.get(self.__card)[1]\n",
    "        if amount < fetched_amount:\n",
    "            d.get(self.__card)[1]-=amount\n",
    "            print('amount withdrwal succesful')\n",
    "        else:\n",
    "            print('Insufficient Balance')\n",
    "        self.__menu()\n",
    "    def check_balance(self):\n",
    "        print(f'Your account balance is {d.get(self.__card)[1]}')\n",
    "        self.__menu()"
   ]
  },
  {
   "cell_type": "code",
   "execution_count": 32,
   "id": "b8ecca37-99e2-455e-b2c7-6809e9ed60b9",
   "metadata": {},
   "outputs": [],
   "source": [
    "a = Atm(123)"
   ]
  },
  {
   "cell_type": "code",
   "execution_count": 33,
   "id": "646055a4-80ed-404e-b86f-2426837fe048",
   "metadata": {},
   "outputs": [
    {
     "data": {
      "text/plain": [
       "1"
      ]
     },
     "execution_count": 33,
     "metadata": {},
     "output_type": "execute_result"
    }
   ],
   "source": [
    "Atm.counter"
   ]
  },
  {
   "cell_type": "code",
   "execution_count": 34,
   "id": "a2812dc1-3118-4555-85a9-737692febe66",
   "metadata": {},
   "outputs": [
    {
     "data": {
      "text/plain": [
       "1"
      ]
     },
     "execution_count": 34,
     "metadata": {},
     "output_type": "execute_result"
    }
   ],
   "source": [
    "a.counter"
   ]
  },
  {
   "cell_type": "code",
   "execution_count": 35,
   "id": "c2fda9ca-8046-44fe-bb51-f24ee9ab60c3",
   "metadata": {},
   "outputs": [
    {
     "data": {
      "text/plain": [
       "0"
      ]
     },
     "execution_count": 35,
     "metadata": {},
     "output_type": "execute_result"
    }
   ],
   "source": [
    "a.c"
   ]
  },
  {
   "cell_type": "code",
   "execution_count": 36,
   "id": "57eb4a9b-6890-44eb-a732-f208dd381722",
   "metadata": {},
   "outputs": [
    {
     "ename": "AttributeError",
     "evalue": "type object 'Atm' has no attribute 'c'",
     "output_type": "error",
     "traceback": [
      "\u001b[1;31m---------------------------------------------------------------------------\u001b[0m",
      "\u001b[1;31mAttributeError\u001b[0m                            Traceback (most recent call last)",
      "Cell \u001b[1;32mIn[36], line 1\u001b[0m\n\u001b[1;32m----> 1\u001b[0m Atm\u001b[38;5;241m.\u001b[39mc\n",
      "\u001b[1;31mAttributeError\u001b[0m: type object 'Atm' has no attribute 'c'"
     ]
    }
   ],
   "source": [
    "Atm.c"
   ]
  },
  {
   "cell_type": "code",
   "execution_count": 75,
   "id": "606506da-6bf9-4055-8e84-0bcc3108f87a",
   "metadata": {},
   "outputs": [],
   "source": [
    "class Plastic:\n",
    "    bp = 150\n",
    "    def __init__(self,a,v):\n",
    "        self.a = a\n",
    "        self.v = v\n",
    "        print(f'this is a {a}')"
   ]
  },
  {
   "cell_type": "code",
   "execution_count": 76,
   "id": "ecdaf7b2-d330-42b1-a244-6ab8bf173362",
   "metadata": {},
   "outputs": [
    {
     "data": {
      "text/plain": [
       "150"
      ]
     },
     "execution_count": 76,
     "metadata": {},
     "output_type": "execute_result"
    }
   ],
   "source": [
    "Plastic.bp"
   ]
  },
  {
   "cell_type": "code",
   "execution_count": 77,
   "id": "e68b549d-a00f-4559-beb6-9325327f7c33",
   "metadata": {},
   "outputs": [
    {
     "name": "stdout",
     "output_type": "stream",
     "text": [
      "this is a bootle\n"
     ]
    }
   ],
   "source": [
    "bottle = Plastic('bootle',1)"
   ]
  },
  {
   "cell_type": "code",
   "execution_count": 78,
   "id": "14cc6d25-9ed2-42ba-98cf-7f50ca950034",
   "metadata": {},
   "outputs": [
    {
     "ename": "AttributeError",
     "evalue": "type object 'Plastic' has no attribute 'a'",
     "output_type": "error",
     "traceback": [
      "\u001b[1;31m---------------------------------------------------------------------------\u001b[0m",
      "\u001b[1;31mAttributeError\u001b[0m                            Traceback (most recent call last)",
      "Cell \u001b[1;32mIn[78], line 1\u001b[0m\n\u001b[1;32m----> 1\u001b[0m Plastic\u001b[38;5;241m.\u001b[39ma\n",
      "\u001b[1;31mAttributeError\u001b[0m: type object 'Plastic' has no attribute 'a'"
     ]
    }
   ],
   "source": [
    "Plastic.a"
   ]
  },
  {
   "cell_type": "code",
   "execution_count": 79,
   "id": "61480345-d056-4cbd-8470-0600ec280d62",
   "metadata": {},
   "outputs": [
    {
     "data": {
      "text/plain": [
       "150"
      ]
     },
     "execution_count": 79,
     "metadata": {},
     "output_type": "execute_result"
    }
   ],
   "source": [
    "bottle.bp"
   ]
  },
  {
   "cell_type": "code",
   "execution_count": 80,
   "id": "b6289d35-a065-4205-8bf7-b17fc3a114e7",
   "metadata": {},
   "outputs": [],
   "source": [
    "bottle.v=5"
   ]
  },
  {
   "cell_type": "code",
   "execution_count": 81,
   "id": "cb51e2a3-f1a0-479c-8261-cbbeff7ebea6",
   "metadata": {},
   "outputs": [
    {
     "data": {
      "text/plain": [
       "5"
      ]
     },
     "execution_count": 81,
     "metadata": {},
     "output_type": "execute_result"
    }
   ],
   "source": [
    "bottle.v"
   ]
  },
  {
   "cell_type": "code",
   "execution_count": 82,
   "id": "193ca1cd-2552-4acf-b945-ae7643287d62",
   "metadata": {},
   "outputs": [],
   "source": [
    "# bottle.bp = 200"
   ]
  },
  {
   "cell_type": "code",
   "execution_count": 83,
   "id": "9514e68d-8249-4901-80a0-0788c35a8fbf",
   "metadata": {},
   "outputs": [
    {
     "data": {
      "text/plain": [
       "150"
      ]
     },
     "execution_count": 83,
     "metadata": {},
     "output_type": "execute_result"
    }
   ],
   "source": [
    "bottle.bp"
   ]
  },
  {
   "cell_type": "code",
   "execution_count": 84,
   "id": "ff465a4e-01ef-44ab-a03f-f1ba0dbd48ab",
   "metadata": {},
   "outputs": [
    {
     "data": {
      "text/plain": [
       "150"
      ]
     },
     "execution_count": 84,
     "metadata": {},
     "output_type": "execute_result"
    }
   ],
   "source": [
    "Plastic.bp"
   ]
  },
  {
   "cell_type": "code",
   "execution_count": 85,
   "id": "851ad9ca-814a-4360-964a-3884945650a2",
   "metadata": {},
   "outputs": [],
   "source": [
    "Plastic.bp=300"
   ]
  },
  {
   "cell_type": "code",
   "execution_count": 86,
   "id": "aae9a854-b500-4a11-b982-6dda219073c7",
   "metadata": {},
   "outputs": [
    {
     "data": {
      "text/plain": [
       "300"
      ]
     },
     "execution_count": 86,
     "metadata": {},
     "output_type": "execute_result"
    }
   ],
   "source": [
    "bottle.bp"
   ]
  },
  {
   "cell_type": "code",
   "execution_count": 87,
   "id": "e19c6bc7-be17-4e15-a929-200457ea3fa8",
   "metadata": {},
   "outputs": [],
   "source": [
    "# bottle.bp=200"
   ]
  },
  {
   "cell_type": "code",
   "execution_count": 88,
   "id": "b08a5271-745a-4177-a1ba-5ee4cb8605af",
   "metadata": {},
   "outputs": [],
   "source": [
    "bottle+1"
   ]
  },
  {
   "cell_type": "code",
   "execution_count": 1,
   "id": "ac238f39-139b-401d-9f12-4dc3cc167413",
   "metadata": {},
   "outputs": [],
   "source": [
    "class Fraction:\n",
    "    def __init__(self,n,d=1):\n",
    "        self.d = d\n",
    "        self.n = n\n",
    "        print(f'{n}/{d}')\n",
    "    def __add__(self,f):\n",
    "        if isinstance(f, Fraction):\n",
    "            new_n = self.n*f.d + self.d*f.n\n",
    "            new_d = self.d*f.d\n",
    "            return Fraction(new_n,new_d)\n",
    "        else:\n",
    "            f = Fraction(f)\n",
    "            new_n = self.n*f.d + self.d*f.n\n",
    "            new_d = self.d*f.d\n",
    "            return Fraction(new_n,new_d)\n",
    "    def __sub__(self):\n",
    "        print('substraction')\n",
    "    def __mul__(self,f):\n",
    "        pass\n",
    "    def __truediv__(self,f):\n",
    "        pass\n",
    "    def __str__(self):\n",
    "        return f'{self.n}/{self.d}'\n",
    "    \n",
    "    def lcm(self,l): \n",
    "        mi = min(l)\n",
    "        mx = max(l)\n",
    "        a=mx\n",
    "        i=2\n",
    "        while True:\n",
    "            f=0\n",
    "            for e in l:\n",
    "                if mx%e!=0:\n",
    "                    mx= a*i\n",
    "                    i+=1\n",
    "                    f=1\n",
    "                    break\n",
    "            if f:\n",
    "                pass\n",
    "            else:\n",
    "                return mx\n",
    "            \n",
    "        "
   ]
  },
  {
   "cell_type": "code",
   "execution_count": 2,
   "id": "da91ef72-96be-4647-9e90-7839c90fbbfa",
   "metadata": {},
   "outputs": [
    {
     "name": "stdout",
     "output_type": "stream",
     "text": [
      "5/4\n"
     ]
    }
   ],
   "source": [
    "a= Fraction(5,4)"
   ]
  },
  {
   "cell_type": "code",
   "execution_count": 5,
   "id": "ebceebc0-9ac0-496e-80ab-5e4d7c7503bc",
   "metadata": {},
   "outputs": [
    {
     "data": {
      "text/plain": [
       "360"
      ]
     },
     "execution_count": 5,
     "metadata": {},
     "output_type": "execute_result"
    }
   ],
   "source": [
    "a.lcm([12,18,24,30])"
   ]
  },
  {
   "cell_type": "code",
   "execution_count": 62,
   "id": "a3037428-bd81-43b2-a20d-6bfc5ce564cb",
   "metadata": {
    "scrolled": true
   },
   "outputs": [
    {
     "name": "stdout",
     "output_type": "stream",
     "text": [
      "5/4\n"
     ]
    }
   ],
   "source": [
    "print(a)"
   ]
  },
  {
   "cell_type": "code",
   "execution_count": 63,
   "id": "3d292fb7-b09f-481f-b74d-4bbe6f26dd2c",
   "metadata": {},
   "outputs": [
    {
     "name": "stdout",
     "output_type": "stream",
     "text": [
      "2/1\n"
     ]
    }
   ],
   "source": [
    "b = Fraction(2)"
   ]
  },
  {
   "cell_type": "code",
   "execution_count": 51,
   "id": "38920f28-6dfc-4814-9856-b486185bc515",
   "metadata": {},
   "outputs": [
    {
     "name": "stdout",
     "output_type": "stream",
     "text": [
      "13/4\n"
     ]
    },
    {
     "data": {
      "text/plain": [
       "<__main__.Fraction at 0x22e8abb01d0>"
      ]
     },
     "execution_count": 51,
     "metadata": {},
     "output_type": "execute_result"
    }
   ],
   "source": [
    "a+b"
   ]
  },
  {
   "cell_type": "code",
   "execution_count": 55,
   "id": "8a90e401-d99e-4c17-8a39-069f72037c13",
   "metadata": {
    "scrolled": true
   },
   "outputs": [
    {
     "name": "stdout",
     "output_type": "stream",
     "text": [
      "<__main__.Fraction object at 0x0000022E8ABB1400>\n"
     ]
    }
   ],
   "source": [
    "print(a)"
   ]
  },
  {
   "cell_type": "code",
   "execution_count": 53,
   "id": "b8e25362-dfbf-4c7a-867c-dec8cc61b099",
   "metadata": {},
   "outputs": [
    {
     "data": {
      "text/plain": [
       "3"
      ]
     },
     "execution_count": 53,
     "metadata": {},
     "output_type": "execute_result"
    }
   ],
   "source": [
    "b.d"
   ]
  },
  {
   "cell_type": "code",
   "execution_count": 54,
   "id": "9d19993c-fb1d-4b63-9f85-6e30fcfc4643",
   "metadata": {
    "scrolled": true
   },
   "outputs": [
    {
     "name": "stdout",
     "output_type": "stream",
     "text": [
      "2/1\n",
      "13/4\n"
     ]
    },
    {
     "data": {
      "text/plain": [
       "<__main__.Fraction at 0x22e8abc8260>"
      ]
     },
     "execution_count": 54,
     "metadata": {},
     "output_type": "execute_result"
    }
   ],
   "source": [
    "a+2"
   ]
  },
  {
   "cell_type": "code",
   "execution_count": 6,
   "id": "68051b30-8cba-4096-b2f5-670470db2426",
   "metadata": {},
   "outputs": [],
   "source": [
    "class Address:\n",
    "    def __init__(self, pin, city, state):\n",
    "        self.pin = pin\n",
    "        self.city = city\n",
    "        self.state = state\n",
    "        self.cache=[[self.pin,self.state, self.city]]\n",
    "        print('this is current address')\n",
    "\n",
    "    def change_address(self,new_pin, new_city, new_state):\n",
    "        self.pin = new_pin\n",
    "        self.city = new_city\n",
    "        self.state = new_state\n",
    "        self.cache.append([self.pin,self.state, self.city])\n",
    "        print('address changed successfully')\n",
    "class Emplyoyee:\n",
    "    def __init__(self,name, add, department):\n",
    "        self.name= name\n",
    "        self.add = add\n",
    "        self.department= department\n",
    "\n",
    "    def change_profile(self, new_name, new_department, new_pin, new_city, new_state):\n",
    "        self.name = new_name\n",
    "        self.department = new_department\n",
    "        self.add.change_address(new_pin, new_city, new_state)\n",
    "        print('new_profile created')"
   ]
  },
  {
   "cell_type": "code",
   "execution_count": 7,
   "id": "1ae1dd00-9cf1-4ac8-af3c-682a168da302",
   "metadata": {},
   "outputs": [
    {
     "name": "stdout",
     "output_type": "stream",
     "text": [
      "this is current address\n"
     ]
    }
   ],
   "source": [
    "Add = Address(202009, 'Noida', 'UP')"
   ]
  },
  {
   "cell_type": "code",
   "execution_count": 9,
   "id": "e9a20601-22d5-4a7f-9bde-ca01f183f480",
   "metadata": {},
   "outputs": [
    {
     "data": {
      "text/plain": [
       "'Noida'"
      ]
     },
     "execution_count": 9,
     "metadata": {},
     "output_type": "execute_result"
    }
   ],
   "source": [
    "Add.city"
   ]
  },
  {
   "cell_type": "code",
   "execution_count": 10,
   "id": "65cf74ee-2fb2-49f2-92c5-9065b9bd7159",
   "metadata": {},
   "outputs": [
    {
     "data": {
      "text/plain": [
       "202009"
      ]
     },
     "execution_count": 10,
     "metadata": {},
     "output_type": "execute_result"
    }
   ],
   "source": [
    "Add.pin"
   ]
  },
  {
   "cell_type": "code",
   "execution_count": 11,
   "id": "8677412f-c7c9-4349-8424-0690917d0933",
   "metadata": {},
   "outputs": [],
   "source": [
    "emp = Emplyoyee('Nitish', Add, 'Trainer')"
   ]
  },
  {
   "cell_type": "code",
   "execution_count": 12,
   "id": "89b6772d-ab36-4e90-8fcd-50b82137a79b",
   "metadata": {},
   "outputs": [
    {
     "name": "stdout",
     "output_type": "stream",
     "text": [
      "address changed successfully\n",
      "new_profile created\n"
     ]
    }
   ],
   "source": [
    "emp.change_profile('Sunil','politics',100200, 'eelctronic_city','Delhi')"
   ]
  },
  {
   "cell_type": "code",
   "execution_count": 13,
   "id": "be335e7f-565e-43a8-ab11-309e14989c5d",
   "metadata": {},
   "outputs": [
    {
     "data": {
      "text/plain": [
       "100200"
      ]
     },
     "execution_count": 13,
     "metadata": {},
     "output_type": "execute_result"
    }
   ],
   "source": [
    "Add.pin"
   ]
  },
  {
   "cell_type": "code",
   "execution_count": 14,
   "id": "2a15744b-6753-4c17-a9e3-0a59d025ac11",
   "metadata": {},
   "outputs": [],
   "source": [
    "# inheritance"
   ]
  },
  {
   "cell_type": "code",
   "execution_count": 15,
   "id": "a21b9a0f-a8bb-4c36-81a8-a1c48d998ec5",
   "metadata": {},
   "outputs": [],
   "source": [
    "class Parent:\n",
    "    def __init__(self, name, age, occupation):\n",
    "        self.name = name\n",
    "        self. age= age\n",
    "        self.occupation = occupation\n",
    "        print(' this is parent class ')\n",
    "    def income(self, v):\n",
    "        print(f'my parent income is {v}')\n",
    "    def education(self, degree):\n",
    "        print(f'my parent degree is {degree}')"
   ]
  },
  {
   "cell_type": "code",
   "execution_count": 16,
   "id": "28c09182-f24c-4b60-905e-2b1486928eed",
   "metadata": {},
   "outputs": [],
   "source": [
    "class Child(Parent):\n",
    "    pass"
   ]
  },
  {
   "cell_type": "code",
   "execution_count": 18,
   "id": "8b668008-b617-4c9e-8a8d-370cab9ef30b",
   "metadata": {},
   "outputs": [
    {
     "name": "stdout",
     "output_type": "stream",
     "text": [
      " this is parent class \n"
     ]
    }
   ],
   "source": [
    "c = Child('Ramesh', 55, 'Farmer')"
   ]
  },
  {
   "cell_type": "code",
   "execution_count": 19,
   "id": "b5c500ac-d37f-44de-a92e-6a884f632aec",
   "metadata": {},
   "outputs": [
    {
     "name": "stdout",
     "output_type": "stream",
     "text": [
      "my parent income is 20000\n"
     ]
    }
   ],
   "source": [
    "c.income(20000)"
   ]
  },
  {
   "cell_type": "code",
   "execution_count": 20,
   "id": "53bf2faf-ad76-424e-8c4b-a73e44becac0",
   "metadata": {},
   "outputs": [
    {
     "name": "stdout",
     "output_type": "stream",
     "text": [
      "my parent degree is BSC\n"
     ]
    }
   ],
   "source": [
    "c.education('BSC')"
   ]
  },
  {
   "cell_type": "code",
   "execution_count": 21,
   "id": "c2c7628e-21ea-4141-90f7-114e62973609",
   "metadata": {},
   "outputs": [],
   "source": [
    "class Child(Parent):\n",
    "    def __init__(self, name, age):\n",
    "        self.name = name\n",
    "        self.age= age\n",
    "        print('Name: ', self.name, 'Age: ', self.age)"
   ]
  },
  {
   "cell_type": "code",
   "execution_count": 24,
   "id": "0104cd89-b4c8-456a-bccc-53a8982a644f",
   "metadata": {},
   "outputs": [
    {
     "name": "stdout",
     "output_type": "stream",
     "text": [
      "Name:  Sunil Age:  35\n"
     ]
    }
   ],
   "source": [
    "c = Child('Sunil',35)"
   ]
  },
  {
   "cell_type": "code",
   "execution_count": 118,
   "id": "6097f10e-f268-4950-b855-684e1c291c24",
   "metadata": {},
   "outputs": [],
   "source": [
    "class Phone:\n",
    "    c=0\n",
    "    def __init__(self, brand, price, year, model):\n",
    "        self.brand = brand\n",
    "        self.price = price\n",
    "        self.year = year\n",
    "        self.model = model\n",
    "        print('Brand: ', brand, 'price: ', price, 'year : ', year, 'model :', model )\n",
    "\n",
    "    def call(self):\n",
    "        print('calling')\n",
    "    def message(self):\n",
    "        print('message')\n",
    "\n",
    "    def network(self):\n",
    "        if int(self.model[1:])> 2:\n",
    "            print('this supports 3g')\n",
    "        else:\n",
    "            print('2g')"
   ]
  },
  {
   "cell_type": "code",
   "execution_count": 119,
   "id": "e04ee861-d77b-47ee-9cd1-e3071b8cfe22",
   "metadata": {},
   "outputs": [],
   "source": [
    "class Smartphone(Phone):\n",
    "    pass"
   ]
  },
  {
   "cell_type": "code",
   "execution_count": 120,
   "id": "b506063d-cb35-4f3e-8251-7f3463e1f25d",
   "metadata": {},
   "outputs": [
    {
     "name": "stdout",
     "output_type": "stream",
     "text": [
      "Brand:  Apple price:  50000 year :  2010 model : I3\n"
     ]
    }
   ],
   "source": [
    "s = Smartphone('Apple', 50000, 2010, 'I3')"
   ]
  },
  {
   "cell_type": "code",
   "execution_count": 121,
   "id": "20c0e4ce-708e-44a4-9787-3743f8244172",
   "metadata": {},
   "outputs": [
    {
     "name": "stdout",
     "output_type": "stream",
     "text": [
      "this supports 3g\n"
     ]
    }
   ],
   "source": [
    "s.network()"
   ]
  },
  {
   "cell_type": "code",
   "execution_count": 122,
   "id": "65f0fccf-ebfc-4d83-87c9-31da71b16aac",
   "metadata": {},
   "outputs": [],
   "source": [
    "class Smartphone(Phone):\n",
    "    def __init__(self, brand, price, year, model, camera):\n",
    "        super().__init__(brand, price, year, model)\n",
    "        self.camera = camera\n",
    "        print(super().c)"
   ]
  },
  {
   "cell_type": "code",
   "execution_count": 123,
   "id": "861c9020-34d0-4dac-b44e-6564f9369034",
   "metadata": {},
   "outputs": [
    {
     "name": "stdout",
     "output_type": "stream",
     "text": [
      "Brand:  Apple price:  50000 year :  2010 model : I3\n",
      "0\n"
     ]
    }
   ],
   "source": [
    "s= Smartphone('Apple', 50000, 2010, 'I3','13MP')"
   ]
  },
  {
   "cell_type": "code",
   "execution_count": 124,
   "id": "c7b6c53e-0941-4571-ba3d-c40e8ac700f5",
   "metadata": {},
   "outputs": [
    {
     "name": "stdout",
     "output_type": "stream",
     "text": [
      "this supports 3g\n"
     ]
    }
   ],
   "source": [
    "s.network()"
   ]
  },
  {
   "cell_type": "code",
   "execution_count": 125,
   "id": "9261f440-860e-41f5-9c3d-aeedbcc5da7c",
   "metadata": {},
   "outputs": [
    {
     "name": "stdout",
     "output_type": "stream",
     "text": [
      "calling\n"
     ]
    }
   ],
   "source": [
    "s.call()"
   ]
  },
  {
   "cell_type": "code",
   "execution_count": 126,
   "id": "7e467667-8b74-4814-a5ad-e963ec68c475",
   "metadata": {},
   "outputs": [],
   "source": [
    "class Smartphone(Phone):\n",
    "    def __init__(self, brand, price, year, model, camera):\n",
    "        super().__init__(brand, price, year, model)\n",
    "        self.camera = camera\n",
    "    def call(self):\n",
    "        super().call()\n",
    "        print('voice call and video call')"
   ]
  },
  {
   "cell_type": "code",
   "execution_count": 127,
   "id": "a1cc70df-4733-44f2-9a8f-b0d60986fb9f",
   "metadata": {},
   "outputs": [
    {
     "name": "stdout",
     "output_type": "stream",
     "text": [
      "Brand:  Apple price:  50000 year :  2010 model : I3\n"
     ]
    }
   ],
   "source": [
    "s = Smartphone('Apple', 50000, 2010, 'I3','13MP')"
   ]
  },
  {
   "cell_type": "code",
   "execution_count": 128,
   "id": "2f0e974e-10c7-4c3a-8dbe-6960af3000e3",
   "metadata": {},
   "outputs": [
    {
     "name": "stdout",
     "output_type": "stream",
     "text": [
      "calling\n",
      "voice call and video call\n"
     ]
    }
   ],
   "source": [
    "s.call()"
   ]
  },
  {
   "cell_type": "code",
   "execution_count": 130,
   "id": "23abe010-9e64-4c45-b9bb-e7411c8d3887",
   "metadata": {},
   "outputs": [
    {
     "data": {
      "text/plain": [
       "0"
      ]
     },
     "execution_count": 130,
     "metadata": {},
     "output_type": "execute_result"
    }
   ],
   "source": [
    "s.c"
   ]
  },
  {
   "cell_type": "code",
   "execution_count": 131,
   "id": "e8a5614c-8512-431d-a7f1-feea85114b67",
   "metadata": {},
   "outputs": [
    {
     "name": "stdout",
     "output_type": "stream",
     "text": [
      "70\n"
     ]
    }
   ],
   "source": [
    "class A:\n",
    "    def m1(self):\n",
    "        return 20\n",
    "class B(A):\n",
    "    def m1(self):\n",
    "        return 30\n",
    "    def m2(self):\n",
    "        return 40\n",
    "class C(B):\n",
    "    def m2(self):\n",
    "        return 20\n",
    "\n",
    "obj1=A()\n",
    "obj2=B()\n",
    "obj3=C()\n",
    "print(obj1.m1()+obj3.m1()+obj3.m2()) "
   ]
  },
  {
   "cell_type": "code",
   "execution_count": 132,
   "id": "80514353-3032-4baf-9a27-8203cab12953",
   "metadata": {},
   "outputs": [
    {
     "name": "stdout",
     "output_type": "stream",
     "text": [
      "70\n"
     ]
    }
   ],
   "source": [
    "# Multihead Inheritance\n",
    "class A:\n",
    "    def m1(self):\n",
    "        return 20\n",
    "class B(A):\n",
    "    def m1(self):\n",
    "        val=super().m1()+30\n",
    "        return val\n",
    "class C(B):\n",
    "    def m1(self):\n",
    "        val=super().m1()+20\n",
    "        return val\n",
    "obj = C()\n",
    "print(obj.m1())"
   ]
  },
  {
   "cell_type": "code",
   "execution_count": 133,
   "id": "105e4fb6-67c4-4f11-8556-ad1255df46e4",
   "metadata": {},
   "outputs": [
    {
     "name": "stdout",
     "output_type": "stream",
     "text": [
      "50\n"
     ]
    }
   ],
   "source": [
    "# Hierarchical Inheritance\n",
    "class B:\n",
    "    def m1(self):\n",
    "        val=30\n",
    "        return val\n",
    "class C(B):\n",
    "    def m1(self):\n",
    "        val=super().m1()+20\n",
    "        return val\n",
    "class D(B):\n",
    "    def m1(self):\n",
    "        val=super().m1()+20\n",
    "        return val\n",
    "obj = C()\n",
    "print(obj.m1())"
   ]
  },
  {
   "cell_type": "code",
   "execution_count": 134,
   "id": "ac7237ea-e040-4029-a75b-252466c50831",
   "metadata": {},
   "outputs": [
    {
     "name": "stdout",
     "output_type": "stream",
     "text": [
      "3\n"
     ]
    },
    {
     "data": {
      "text/plain": [
       "10"
      ]
     },
     "execution_count": 134,
     "metadata": {},
     "output_type": "execute_result"
    }
   ],
   "source": [
    "# Mutiple inheritance\n",
    "class A:\n",
    "    def m1(self):\n",
    "        val1=10\n",
    "        return val1\n",
    "class B:\n",
    "    v=3\n",
    "    def m1(self):\n",
    "        val2=20\n",
    "        return val2\n",
    "class C(A,B):\n",
    "    def m3(self):\n",
    "        val3=super().m1()\n",
    "        print(super().v)\n",
    "        return val3\n",
    "obj = C()\n",
    "obj.m3()"
   ]
  },
  {
   "cell_type": "code",
   "execution_count": 135,
   "id": "f89e493b-e7b3-4c43-816a-67a9a61bc05c",
   "metadata": {},
   "outputs": [
    {
     "name": "stdout",
     "output_type": "stream",
     "text": [
      "60\n"
     ]
    }
   ],
   "source": [
    "class X:\n",
    "    def calc(self):\n",
    "        return 10\n",
    "\n",
    "class Y(X):\n",
    "    def calc(self):\n",
    "        val = super().calc() + 20\n",
    "        return val\n",
    "\n",
    "class Z(Y):\n",
    "    def calc(self):\n",
    "        val = super().calc() * 2\n",
    "        return val\n",
    "\n",
    "obj = Z()\n",
    "print(obj.calc())\n"
   ]
  },
  {
   "cell_type": "code",
   "execution_count": 136,
   "id": "dc1ebe99-4992-48cb-9d53-65d07c524385",
   "metadata": {},
   "outputs": [
    {
     "name": "stdout",
     "output_type": "stream",
     "text": [
      "Class P and Class R\n"
     ]
    }
   ],
   "source": [
    "class P:\n",
    "    def show(self):\n",
    "        return \"Class P\"\n",
    "\n",
    "class Q:\n",
    "    def show(self):\n",
    "        return \"Class Q\"\n",
    "\n",
    "class R(P, Q):\n",
    "    def show(self):\n",
    "        val = super().show() + \" and Class R\"\n",
    "        return val\n",
    "\n",
    "obj = R()\n",
    "print(obj.show())\n"
   ]
  },
  {
   "cell_type": "code",
   "execution_count": 137,
   "id": "4f8c028e-39f2-4a37-b942-eaa43519d9b7",
   "metadata": {},
   "outputs": [
    {
     "name": "stdout",
     "output_type": "stream",
     "text": [
      "A -> E -> D -> C -> B -> F\n"
     ]
    }
   ],
   "source": [
    "class A:\n",
    "    def display(self):\n",
    "        return \"A\"\n",
    "\n",
    "class B(A):\n",
    "    def display(self):\n",
    "        return super().display() + \" -> B\"\n",
    "\n",
    "class C(A):\n",
    "    def display(self):\n",
    "        return super().display() + \" -> C\"\n",
    "\n",
    "class D(A):\n",
    "    def display(self):\n",
    "        return super().display() + \" -> D\"\n",
    "    \n",
    "class E(A):\n",
    "    def display(self):\n",
    "        return super().display() + \" -> E\"\n",
    "    \n",
    "class F(B,C,D,E):    \n",
    "    def display(self):\n",
    "        return super().display() + \" -> F\"\n",
    "\n",
    "obj = F()\n",
    "print(obj.display())\n"
   ]
  },
  {
   "cell_type": "code",
   "execution_count": 141,
   "id": "603cdac8-ef08-425f-8a6d-0304f8c2c211",
   "metadata": {},
   "outputs": [
    {
     "name": "stdout",
     "output_type": "stream",
     "text": [
      "Parent2 Constructor\n",
      "Child Constructor\n"
     ]
    }
   ],
   "source": [
    "class Parent1:\n",
    "    def __init__(self):\n",
    "        print(\"Parent1 Constructor\")\n",
    "    # pass\n",
    "    # a=1\n",
    "\n",
    "class Parent2:\n",
    "    def __init__(self):\n",
    "        print(\"Parent2 Constructor\")\n",
    "\n",
    "class Child(Parent1, Parent2):\n",
    "    def __init__(self):\n",
    "        super().__init__()\n",
    "        print(\"Child Constructor\")\n",
    "\n",
    "obj = Child()\n"
   ]
  },
  {
   "cell_type": "code",
   "execution_count": null,
   "id": "101b59e4-f5c7-45e7-ac54-1fc26d2b1b66",
   "metadata": {},
   "outputs": [],
   "source": [
    "class Shape:\n",
    "    def area(self):\n",
    "        return 0\n",
    "\n",
    "class Circle(Shape):\n",
    "    def area(self, radius):\n",
    "        return 3.14 * radius * radius\n",
    "\n",
    "class Rectangle(Shape):\n",
    "    def area(self, length, breadth):\n",
    "        return length * breadth\n",
    "\n",
    "circle = Circle()\n",
    "rectangle = Rectangle()\n",
    "print(circle.area(5))  # Circle area\n",
    "print(rectangle.area(4, 6))  # Rectangle area\n"
   ]
  },
  {
   "cell_type": "code",
   "execution_count": null,
   "id": "f514bdf2-e730-4d21-bd87-043226e68ef8",
   "metadata": {},
   "outputs": [],
   "source": []
  },
  {
   "cell_type": "code",
   "execution_count": null,
   "id": "2cebc3d5-8af8-41f7-b74a-a9aabded87b4",
   "metadata": {},
   "outputs": [],
   "source": []
  },
  {
   "cell_type": "code",
   "execution_count": null,
   "id": "c5fd1d58-84c9-4c46-9df3-d5fa9874d291",
   "metadata": {},
   "outputs": [],
   "source": []
  },
  {
   "cell_type": "code",
   "execution_count": null,
   "id": "3e6b3707-9053-4b8a-a0df-ecdb3a7dda27",
   "metadata": {},
   "outputs": [],
   "source": []
  },
  {
   "cell_type": "code",
   "execution_count": null,
   "id": "34053154-b9b3-4f58-898c-b4451fb53f8e",
   "metadata": {},
   "outputs": [],
   "source": []
  },
  {
   "cell_type": "code",
   "execution_count": null,
   "id": "fe5aeac3-0a0a-42e8-9872-1cc8bde9bcef",
   "metadata": {},
   "outputs": [],
   "source": []
  }
 ],
 "metadata": {
  "kernelspec": {
   "display_name": "Python 3 (ipykernel)",
   "language": "python",
   "name": "python3"
  },
  "language_info": {
   "codemirror_mode": {
    "name": "ipython",
    "version": 3
   },
   "file_extension": ".py",
   "mimetype": "text/x-python",
   "name": "python",
   "nbconvert_exporter": "python",
   "pygments_lexer": "ipython3",
   "version": "3.12.7"
  }
 },
 "nbformat": 4,
 "nbformat_minor": 5
}
