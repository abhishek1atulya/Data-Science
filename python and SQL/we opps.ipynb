{
 "cells": [
  {
   "cell_type": "code",
   "execution_count": 111,
   "id": "8111a5ac-324f-4864-bbb4-2c84a89ea1bd",
   "metadata": {},
   "outputs": [],
   "source": [
    "class Back:\n",
    "    def __init__(self,cost,sn,no=4): #constructor\n",
    "        self.price = cost # instance variable, object variable\n",
    "        print(id(self))\n",
    "        # self.s=sn\n",
    "        print('constructor is being called')\n",
    "        print(self.price,sn)\n",
    "    def fun(self):\n",
    "        print(self.price)\n",
    "        print(self.s)\n",
    "        print('something')\n",
    "        "
   ]
  },
  {
   "cell_type": "code",
   "execution_count": 113,
   "id": "614d4052-99ca-45ae-8ca7-cbec4bec515a",
   "metadata": {
    "scrolled": true
   },
   "outputs": [
    {
     "name": "stdout",
     "output_type": "stream",
     "text": [
      "2353689014640\n",
      "constructor is being called\n",
      "500 12\n"
     ]
    }
   ],
   "source": [
    "a=Back(500,12)"
   ]
  },
  {
   "cell_type": "code",
   "execution_count": 105,
   "id": "d9f08d12-4b98-49c6-8b83-c7c15fa9fd06",
   "metadata": {},
   "outputs": [
    {
     "data": {
      "text/plain": [
       "2353688991632"
      ]
     },
     "execution_count": 105,
     "metadata": {},
     "output_type": "execute_result"
    }
   ],
   "source": [
    "id(a)"
   ]
  },
  {
   "cell_type": "code",
   "execution_count": 107,
   "id": "683f527a-0d7a-4a66-87c1-bae11d3602df",
   "metadata": {},
   "outputs": [
    {
     "data": {
      "text/plain": [
       "500"
      ]
     },
     "execution_count": 107,
     "metadata": {},
     "output_type": "execute_result"
    }
   ],
   "source": [
    "a.price"
   ]
  },
  {
   "cell_type": "code",
   "execution_count": 109,
   "id": "d2c5b401-1dcf-480c-a96a-d6733ed4458d",
   "metadata": {},
   "outputs": [
    {
     "name": "stdout",
     "output_type": "stream",
     "text": [
      "500\n",
      "12\n",
      "something\n"
     ]
    }
   ],
   "source": [
    "a.fun()"
   ]
  },
  {
   "cell_type": "code",
   "execution_count": 157,
   "id": "fb87dbb0-6ae4-4bbc-90b0-7763e4d00fe9",
   "metadata": {},
   "outputs": [],
   "source": [
    "class Atm:\n",
    "    def __init__(self):\n",
    "        self.balence=0\n",
    "        self.pin=''\n",
    "        self.menu()\n",
    "    def menu(self):\n",
    "        n = input('''\n",
    "        enter 1 to create your pin\n",
    "        enter 2 to deposit\n",
    "        enter 3 to withdraw\n",
    "        enter 4 to check balance\n",
    "        enter anything other than above to exit\n",
    "        ''')\n",
    "        if n=='1':\n",
    "            self.change_pin()\n",
    "        elif n=='2':\n",
    "            self.deposit()\n",
    "        elif n=='3':\n",
    "            self.withdraw()\n",
    "        elif n=='4':\n",
    "            self.check_balance()\n",
    "        else:\n",
    "            print('Exited')\n",
    "    def change_pin(self):\n",
    "        v = input('enter your pin: ')\n",
    "        self.pin=v\n",
    "        print('pin set successfully')\n",
    "        self.menu()\n",
    "    def deposit(self,c=1):\n",
    "        n = input('enter your pin: ')\n",
    "        c+=1\n",
    "        if n==self.pin:\n",
    "            s = int(input('Enter the amount: '))\n",
    "            self.balence+=s\n",
    "            print('amount deposit successfull')\n",
    "            self.menu()\n",
    "        else:\n",
    "            if c>3:\n",
    "                print('please choose different options: ')\n",
    "                self.menu()\n",
    "            else:\n",
    "                print('Invalid pin please retry')\n",
    "                self.deposit(c)\n",
    "    def withdraw(self):\n",
    "        n = input('enter your pin: ')\n",
    "        c+=1\n",
    "        if n==self.pin:\n",
    "            s = int(input('Enter the amount: '))\n",
    "            self.balence-=s\n",
    "            print('amount withdrawal successfull')\n",
    "            self.menu()\n",
    "        else:\n",
    "            if c>3:\n",
    "                print('please choose different options: ')\n",
    "                self.menu()\n",
    "            else:\n",
    "                print('Invalid pin please retry')\n",
    "                self.withdraw(c)\n",
    "    def check_balance(self):\n",
    "        n = input('enter your pin: ')\n",
    "        c+=1\n",
    "        if n==self.pin:\n",
    "            print('your account balance is : ', self.balance)\n",
    "            self.menu()\n",
    "        else:\n",
    "            if c>3:\n",
    "                print('please choose different options: ')\n",
    "                self.menu()\n",
    "            else:\n",
    "                print('Invalid pin please retry')\n",
    "                self.check_balance(c)"
   ]
  },
  {
   "cell_type": "code",
   "execution_count": null,
   "id": "6f8868e0-6ff7-421b-b5ba-f2b60057a3ba",
   "metadata": {},
   "outputs": [],
   "source": [
    "# transaction_details functions"
   ]
  },
  {
   "cell_type": "code",
   "execution_count": 153,
   "id": "1723f532-961d-4471-9d07-d884e8af2d7f",
   "metadata": {
    "scrolled": true
   },
   "outputs": [
    {
     "name": "stdin",
     "output_type": "stream",
     "text": [
      "\n",
      "        enter 1 to create your pin\n",
      "        enter 2 to deposit\n",
      "        enter 3 to withdraw\n",
      "        enter 4 to check balance\n",
      "        enter anything other than above to exit\n",
      "         1\n",
      "enter your pin:  1234\n"
     ]
    },
    {
     "name": "stdout",
     "output_type": "stream",
     "text": [
      "pin set successfully\n"
     ]
    },
    {
     "name": "stdin",
     "output_type": "stream",
     "text": [
      "\n",
      "        enter 1 to create your pin\n",
      "        enter 2 to deposit\n",
      "        enter 3 to withdraw\n",
      "        enter 4 to check balance\n",
      "        enter anything other than above to exit\n",
      "         2\n",
      "enter your pin:  123\n"
     ]
    },
    {
     "name": "stdout",
     "output_type": "stream",
     "text": [
      "Invalid pin please retry\n"
     ]
    },
    {
     "name": "stdin",
     "output_type": "stream",
     "text": [
      "enter your pin:  123\n"
     ]
    },
    {
     "name": "stdout",
     "output_type": "stream",
     "text": [
      "Invalid pin please retry\n"
     ]
    },
    {
     "name": "stdin",
     "output_type": "stream",
     "text": [
      "enter your pin:  123\n"
     ]
    },
    {
     "name": "stdout",
     "output_type": "stream",
     "text": [
      "please choose different options: \n"
     ]
    },
    {
     "name": "stdin",
     "output_type": "stream",
     "text": [
      "\n",
      "        enter 1 to create your pin\n",
      "        enter 2 to deposit\n",
      "        enter 3 to withdraw\n",
      "        enter 4 to check balance\n",
      "        enter anything other than above to exit\n",
      "         0\n"
     ]
    },
    {
     "name": "stdout",
     "output_type": "stream",
     "text": [
      "Exited\n"
     ]
    }
   ],
   "source": [
    "a=Atm()"
   ]
  },
  {
   "cell_type": "code",
   "execution_count": 123,
   "id": "4e76412e-13f0-47c0-bcce-ec8745825939",
   "metadata": {},
   "outputs": [
    {
     "data": {
      "text/plain": [
       "'1234'"
      ]
     },
     "execution_count": 123,
     "metadata": {},
     "output_type": "execute_result"
    }
   ],
   "source": [
    "a.pin"
   ]
  },
  {
   "cell_type": "code",
   "execution_count": 1,
   "id": "4a07f2c6-b8e4-427b-883f-867077f56376",
   "metadata": {},
   "outputs": [],
   "source": [
    "# static methos , class methods, class variable, instance variable, encapulation, agreegation"
   ]
  },
  {
   "cell_type": "code",
   "execution_count": 79,
   "id": "6224bde4-ac0d-444e-a896-e51bca8c6395",
   "metadata": {},
   "outputs": [],
   "source": [
    "# class variable, instance variable\n",
    "class Car:\n",
    "    no_w = 4 # class variable\n",
    "    count = 0 # class variable\n",
    "    def __init__(self,type1,price,year):\n",
    "        self.ty = type1 # instance Variable\n",
    "        self.price= price # instance Variable\n",
    "        self.year= year # instance Variable\n",
    "        Car.count += 1\n",
    "        print('this is my car')\n",
    "        "
   ]
  },
  {
   "cell_type": "code",
   "execution_count": 81,
   "id": "b2455874-8af6-4a5d-aa95-02f09d8a70af",
   "metadata": {},
   "outputs": [
    {
     "name": "stdout",
     "output_type": "stream",
     "text": [
      "this is my car\n"
     ]
    }
   ],
   "source": [
    "s = Car('SUV',2000000, 2020)"
   ]
  },
  {
   "cell_type": "code",
   "execution_count": 83,
   "id": "e35c3020-307e-472d-8e31-87642068c704",
   "metadata": {},
   "outputs": [
    {
     "data": {
      "text/plain": [
       "'SUV'"
      ]
     },
     "execution_count": 83,
     "metadata": {},
     "output_type": "execute_result"
    }
   ],
   "source": [
    "s.ty"
   ]
  },
  {
   "cell_type": "code",
   "execution_count": 85,
   "id": "5bbea27b-583a-4347-a4df-1854460779c5",
   "metadata": {},
   "outputs": [
    {
     "data": {
      "text/plain": [
       "2000000"
      ]
     },
     "execution_count": 85,
     "metadata": {},
     "output_type": "execute_result"
    }
   ],
   "source": [
    "s.price"
   ]
  },
  {
   "cell_type": "code",
   "execution_count": 87,
   "id": "4cdf66c5-7338-4339-8b63-d87ae2a77b31",
   "metadata": {},
   "outputs": [
    {
     "data": {
      "text/plain": [
       "2020"
      ]
     },
     "execution_count": 87,
     "metadata": {},
     "output_type": "execute_result"
    }
   ],
   "source": [
    "s.year"
   ]
  },
  {
   "cell_type": "code",
   "execution_count": 89,
   "id": "f67f0049-0938-41d2-be23-b7cd185f1f08",
   "metadata": {},
   "outputs": [
    {
     "ename": "AttributeError",
     "evalue": "type object 'Car' has no attribute 'ty'",
     "output_type": "error",
     "traceback": [
      "\u001b[1;31m---------------------------------------------------------------------------\u001b[0m",
      "\u001b[1;31mAttributeError\u001b[0m                            Traceback (most recent call last)",
      "Cell \u001b[1;32mIn[89], line 1\u001b[0m\n\u001b[1;32m----> 1\u001b[0m Car\u001b[38;5;241m.\u001b[39mty\n",
      "\u001b[1;31mAttributeError\u001b[0m: type object 'Car' has no attribute 'ty'"
     ]
    }
   ],
   "source": [
    "Car.ty"
   ]
  },
  {
   "cell_type": "code",
   "execution_count": 91,
   "id": "6f33ecd5-c21b-440d-b3bd-646fdd68d985",
   "metadata": {},
   "outputs": [
    {
     "data": {
      "text/plain": [
       "1"
      ]
     },
     "execution_count": 91,
     "metadata": {},
     "output_type": "execute_result"
    }
   ],
   "source": [
    "Car.count"
   ]
  },
  {
   "cell_type": "code",
   "execution_count": 93,
   "id": "d01c2249-93a0-4e9b-a8ca-48a020d29618",
   "metadata": {},
   "outputs": [
    {
     "data": {
      "text/plain": [
       "4"
      ]
     },
     "execution_count": 93,
     "metadata": {},
     "output_type": "execute_result"
    }
   ],
   "source": [
    "s.no_w"
   ]
  },
  {
   "cell_type": "code",
   "execution_count": 95,
   "id": "c6b9f70d-5ddc-4b17-83e7-753884d60eb0",
   "metadata": {},
   "outputs": [],
   "source": [
    "s.no_w+=1"
   ]
  },
  {
   "cell_type": "code",
   "execution_count": 97,
   "id": "77b84436-2400-4fb2-9417-bb13bcd5921e",
   "metadata": {},
   "outputs": [
    {
     "data": {
      "text/plain": [
       "5"
      ]
     },
     "execution_count": 97,
     "metadata": {},
     "output_type": "execute_result"
    }
   ],
   "source": [
    "s.no_w"
   ]
  },
  {
   "cell_type": "code",
   "execution_count": 99,
   "id": "d89df8bf-dd6a-43ac-9d5a-4587a1247afe",
   "metadata": {},
   "outputs": [
    {
     "data": {
      "text/plain": [
       "1"
      ]
     },
     "execution_count": 99,
     "metadata": {},
     "output_type": "execute_result"
    }
   ],
   "source": [
    "Car.count"
   ]
  },
  {
   "cell_type": "code",
   "execution_count": 101,
   "id": "d091916a-ff98-4730-9b09-24ab47313bf4",
   "metadata": {},
   "outputs": [
    {
     "data": {
      "text/plain": [
       "4"
      ]
     },
     "execution_count": 101,
     "metadata": {},
     "output_type": "execute_result"
    }
   ],
   "source": [
    "Car.no_w"
   ]
  },
  {
   "cell_type": "code",
   "execution_count": 103,
   "id": "2f4f9f1d-b4e8-4846-b802-f4e242cdfe5c",
   "metadata": {},
   "outputs": [
    {
     "name": "stdout",
     "output_type": "stream",
     "text": [
      "this is my car\n"
     ]
    }
   ],
   "source": [
    "s1 = Car('sedan', 1200000, 2023)"
   ]
  },
  {
   "cell_type": "code",
   "execution_count": 105,
   "id": "7094a288-e5be-4b0e-a1a0-2fb4347f1609",
   "metadata": {},
   "outputs": [
    {
     "data": {
      "text/plain": [
       "2"
      ]
     },
     "execution_count": 105,
     "metadata": {},
     "output_type": "execute_result"
    }
   ],
   "source": [
    "Car.count"
   ]
  },
  {
   "cell_type": "code",
   "execution_count": 107,
   "id": "8df89e93-bee8-48bd-b45d-a021f1800449",
   "metadata": {},
   "outputs": [
    {
     "data": {
      "text/plain": [
       "2"
      ]
     },
     "execution_count": 107,
     "metadata": {},
     "output_type": "execute_result"
    }
   ],
   "source": [
    "s1.count"
   ]
  },
  {
   "cell_type": "code",
   "execution_count": 109,
   "id": "f0144c95-4253-492e-b2a1-6528cba697f8",
   "metadata": {},
   "outputs": [
    {
     "data": {
      "text/plain": [
       "2"
      ]
     },
     "execution_count": 109,
     "metadata": {},
     "output_type": "execute_result"
    }
   ],
   "source": [
    "s.count"
   ]
  },
  {
   "cell_type": "code",
   "execution_count": 147,
   "id": "f8a217c3-c98d-4caf-95f9-8c06e5c06cf0",
   "metadata": {},
   "outputs": [],
   "source": [
    "# encapulation\n",
    "class Car:\n",
    "    no_w = 4 # class variable\n",
    "    __count = 0 # class variable\n",
    "    def __init__(self,type1,price,year):\n",
    "        self.ty = type1 # instance Variable\n",
    "        self.price= price # instance Variable\n",
    "        self.year= year # instance Variable\n",
    "        self.__tech = 'Be 6e'\n",
    "        Car.__count += 1\n",
    "        self.model = 'electric'\n",
    "        print('this is my car')       "
   ]
  },
  {
   "cell_type": "code",
   "execution_count": 149,
   "id": "065a8513-47aa-4cd7-a7db-553e8e660665",
   "metadata": {},
   "outputs": [
    {
     "ename": "AttributeError",
     "evalue": "type object 'Car' has no attribute '__count'",
     "output_type": "error",
     "traceback": [
      "\u001b[1;31m---------------------------------------------------------------------------\u001b[0m",
      "\u001b[1;31mAttributeError\u001b[0m                            Traceback (most recent call last)",
      "Cell \u001b[1;32mIn[149], line 1\u001b[0m\n\u001b[1;32m----> 1\u001b[0m Car\u001b[38;5;241m.\u001b[39m__count\n",
      "\u001b[1;31mAttributeError\u001b[0m: type object 'Car' has no attribute '__count'"
     ]
    }
   ],
   "source": [
    "Car.__count"
   ]
  },
  {
   "cell_type": "code",
   "execution_count": 151,
   "id": "642b51b5-bd6a-4a74-ad5e-3855e7a1f233",
   "metadata": {},
   "outputs": [
    {
     "name": "stdout",
     "output_type": "stream",
     "text": [
      "this is my car\n"
     ]
    }
   ],
   "source": [
    "s = Car('Thar', 2000000, 2023)"
   ]
  },
  {
   "cell_type": "code",
   "execution_count": 153,
   "id": "6e938485-177d-415e-aae0-06b66c50981f",
   "metadata": {},
   "outputs": [
    {
     "ename": "AttributeError",
     "evalue": "'Car' object has no attribute '__count'",
     "output_type": "error",
     "traceback": [
      "\u001b[1;31m---------------------------------------------------------------------------\u001b[0m",
      "\u001b[1;31mAttributeError\u001b[0m                            Traceback (most recent call last)",
      "Cell \u001b[1;32mIn[153], line 1\u001b[0m\n\u001b[1;32m----> 1\u001b[0m s\u001b[38;5;241m.\u001b[39m__count\n",
      "\u001b[1;31mAttributeError\u001b[0m: 'Car' object has no attribute '__count'"
     ]
    }
   ],
   "source": [
    "s.__count"
   ]
  },
  {
   "cell_type": "code",
   "execution_count": 155,
   "id": "eec1722d-90d5-4bc7-b05f-4bbf160118e0",
   "metadata": {},
   "outputs": [
    {
     "data": {
      "text/plain": [
       "1"
      ]
     },
     "execution_count": 155,
     "metadata": {},
     "output_type": "execute_result"
    }
   ],
   "source": [
    "s._Car__count"
   ]
  },
  {
   "cell_type": "code",
   "execution_count": 158,
   "id": "148b34a3-acf4-4471-94ab-ce69191dfb8f",
   "metadata": {},
   "outputs": [
    {
     "data": {
      "text/plain": [
       "'electric'"
      ]
     },
     "execution_count": 158,
     "metadata": {},
     "output_type": "execute_result"
    }
   ],
   "source": [
    "s.model"
   ]
  },
  {
   "cell_type": "code",
   "execution_count": 160,
   "id": "1072f726-52df-47c3-a2cf-23d6001dfde8",
   "metadata": {},
   "outputs": [
    {
     "data": {
      "text/plain": [
       "'Be 6e'"
      ]
     },
     "execution_count": 160,
     "metadata": {},
     "output_type": "execute_result"
    }
   ],
   "source": [
    "s._Car__tech"
   ]
  },
  {
   "cell_type": "code",
   "execution_count": 186,
   "id": "4eb10227-ae7a-407d-8499-903804ff5de8",
   "metadata": {},
   "outputs": [],
   "source": [
    "# static methos , class methods\n",
    "class Car:\n",
    "    no_w = 4 # class variable\n",
    "    __count = 0 # class variable\n",
    "    def __init__(self,model,price,year):\n",
    "        self.model = model # instance Variable\n",
    "        self.price= price # instance Variable\n",
    "        self.year= year # instance Variable\n",
    "        self.__tech = 'Be 6e'\n",
    "        Car.__count += 1\n",
    "        self.ty = 'electric'\n",
    "        print(f'my car is {self.model}')\n",
    "    def maxspeed(self):\n",
    "        if self.model == 'thar':\n",
    "            return '150 km/h'\n",
    "    @staticmethod       \n",
    "    def found_date():\n",
    "        return '2 October 1945'\n",
    "    @classmethod\n",
    "    def vehical_type(cls, c):\n",
    "        if cls.__count>c:\n",
    "            return 'excilent'\n",
    "        else:\n",
    "            return 'fair'"
   ]
  },
  {
   "cell_type": "code",
   "execution_count": 188,
   "id": "0c467b38-62ce-4aab-a140-181e43a4093b",
   "metadata": {},
   "outputs": [
    {
     "name": "stdout",
     "output_type": "stream",
     "text": [
      "my car is thar\n"
     ]
    }
   ],
   "source": [
    "s= Car('thar', 1500000, 2023 )"
   ]
  },
  {
   "cell_type": "code",
   "execution_count": 190,
   "id": "e8246adc-535e-4062-bf44-18ecfc415b25",
   "metadata": {},
   "outputs": [
    {
     "data": {
      "text/plain": [
       "'150 km/h'"
      ]
     },
     "execution_count": 190,
     "metadata": {},
     "output_type": "execute_result"
    }
   ],
   "source": [
    "s.maxspeed()"
   ]
  },
  {
   "cell_type": "code",
   "execution_count": 192,
   "id": "b7036ec2-a279-42db-8662-f44cd988bca3",
   "metadata": {},
   "outputs": [
    {
     "data": {
      "text/plain": [
       "'2 October 1945'"
      ]
     },
     "execution_count": 192,
     "metadata": {},
     "output_type": "execute_result"
    }
   ],
   "source": [
    "Car.found_date()"
   ]
  },
  {
   "cell_type": "code",
   "execution_count": 194,
   "id": "212b51f9-5578-4548-9aaa-a4e32ec49d97",
   "metadata": {},
   "outputs": [
    {
     "data": {
      "text/plain": [
       "'2 October 1945'"
      ]
     },
     "execution_count": 194,
     "metadata": {},
     "output_type": "execute_result"
    }
   ],
   "source": [
    "s.found_date()"
   ]
  },
  {
   "cell_type": "code",
   "execution_count": 197,
   "id": "7a546576-372d-442e-8191-96b33146612d",
   "metadata": {},
   "outputs": [
    {
     "data": {
      "text/plain": [
       "'fair'"
      ]
     },
     "execution_count": 197,
     "metadata": {},
     "output_type": "execute_result"
    }
   ],
   "source": [
    "Car.vehical_type(4000)"
   ]
  },
  {
   "cell_type": "code",
   "execution_count": 199,
   "id": "9ec9dbfa-3b9f-4c49-a54f-5461e3b19d85",
   "metadata": {},
   "outputs": [
    {
     "data": {
      "text/plain": [
       "'fair'"
      ]
     },
     "execution_count": 199,
     "metadata": {},
     "output_type": "execute_result"
    }
   ],
   "source": [
    "s.vehical_type(2000)"
   ]
  },
  {
   "cell_type": "code",
   "execution_count": 67,
   "id": "0d81c32f-640c-43b0-9033-8963682e53f7",
   "metadata": {},
   "outputs": [],
   "source": [
    "# magic method\n",
    "class Fraction:\n",
    "    def __init__(self, n, d):\n",
    "        self.num = n\n",
    "        self.den = d\n",
    "        # print(f'{self.num}/{self.den}')\n",
    "    def __str__(self):\n",
    "        return f'{self.num}/{self.den}'\n",
    "    def __add__(self, v):\n",
    "        res_num = self.num*v.den + self.den*v.num\n",
    "        res_den = self.den*v.den\n",
    "        return Fraction(res_num, res_den)\n",
    "    def __sub__(self,v):\n",
    "        res_num = self.num*v.den - self.den*v.num\n",
    "        res_den = self.den*v.den\n",
    "        return Fraction(res_num, res_den)\n",
    "    def __mul__(self, v):\n",
    "        res_num = self.num*v.num\n",
    "        res_den = self.den*v.den\n",
    "        return Fraction(res_num, res_den)\n",
    "    def __truediv__(self,v):\n",
    "        res_num = self.num*v.den\n",
    "        res_den = self.den*v.num\n",
    "        return Fraction(res_num, res_den)"
   ]
  },
  {
   "cell_type": "code",
   "execution_count": 71,
   "id": "aa658562-506f-4a74-ae29-3bd23f55a440",
   "metadata": {},
   "outputs": [
    {
     "name": "stdout",
     "output_type": "stream",
     "text": [
      "1/2\n",
      "3/4\n",
      "10/8\n",
      "-2/8\n",
      "3/8\n",
      "4/6\n"
     ]
    }
   ],
   "source": [
    "a = Fraction(1,2)\n",
    "b = Fraction(3,4)\n",
    "print(a)\n",
    "print(b)\n",
    "c=a+b\n",
    "print(c)\n",
    "d=a-b\n",
    "print(d)\n",
    "m = a*b\n",
    "print(m)\n",
    "div= a/b\n",
    "print(div)"
   ]
  },
  {
   "cell_type": "code",
   "execution_count": 272,
   "id": "478e1328-61de-418d-bebb-a9d070f74fc6",
   "metadata": {},
   "outputs": [],
   "source": [
    "# agreegation\n",
    "class Address:\n",
    "    def __init__(self, faltno, society, city, pin):\n",
    "        self.flatno = faltno\n",
    "        self.society = society\n",
    "        self.city = city\n",
    "        self.pin = pin\n",
    "    def change_address(new_faltno, new_society, new_city, new_pin):\n",
    "        self.flatno = new_faltno\n",
    "        self.society = new_society\n",
    "        self.city = new_city\n",
    "        self.pin = new_pin\n",
    "\n",
    "class employee:\n",
    "    def __init__(self,name, gender, address):\n",
    "        self.name = name\n",
    "        self.gender= gender\n",
    "        self.address = address\n",
    "        print(f\"my name is {self.name}\")\n",
    "    def update_profile(self, new_name,new_gender,new_address):\n",
    "        self.name = new_name\n",
    "        self.gender= new_gender\n",
    "        self.address = new_address\n"
   ]
  },
  {
   "cell_type": "code",
   "execution_count": 274,
   "id": "7b751dd9-af26-42fd-a18d-155274ecea72",
   "metadata": {},
   "outputs": [],
   "source": [
    "add = Address(304, 'prateek', 'ghaziabad', 201009)"
   ]
  },
  {
   "cell_type": "code",
   "execution_count": 276,
   "id": "2fcf9d34-19a0-4007-b541-335e977a2a33",
   "metadata": {
    "scrolled": true
   },
   "outputs": [
    {
     "name": "stdout",
     "output_type": "stream",
     "text": [
      "my name is Shubham\n"
     ]
    },
    {
     "data": {
      "text/plain": [
       "'Shubham'"
      ]
     },
     "execution_count": 276,
     "metadata": {},
     "output_type": "execute_result"
    }
   ],
   "source": [
    "a = employee('Shubham', 'M', add)\n",
    "a.name"
   ]
  },
  {
   "cell_type": "code",
   "execution_count": 278,
   "id": "afad9bdd-d31b-4e5e-ad16-34d6e53566de",
   "metadata": {},
   "outputs": [
    {
     "data": {
      "text/plain": [
       "'M'"
      ]
     },
     "execution_count": 278,
     "metadata": {},
     "output_type": "execute_result"
    }
   ],
   "source": [
    "a.gender"
   ]
  },
  {
   "cell_type": "code",
   "execution_count": 280,
   "id": "857b68e0-891e-4928-a2f1-00c059bbb68f",
   "metadata": {},
   "outputs": [
    {
     "data": {
      "text/plain": [
       "201009"
      ]
     },
     "execution_count": 280,
     "metadata": {},
     "output_type": "execute_result"
    }
   ],
   "source": [
    "a.address.pin"
   ]
  },
  {
   "cell_type": "code",
   "execution_count": 282,
   "id": "a4ba581a-63ec-4e38-89e9-53403c154872",
   "metadata": {},
   "outputs": [
    {
     "data": {
      "text/plain": [
       "'ghaziabad'"
      ]
     },
     "execution_count": 282,
     "metadata": {},
     "output_type": "execute_result"
    }
   ],
   "source": [
    "a.address.city"
   ]
  },
  {
   "cell_type": "code",
   "execution_count": 284,
   "id": "f9275c03-2b81-4d5c-bec6-9c75fc075b4d",
   "metadata": {},
   "outputs": [
    {
     "data": {
      "text/plain": [
       "'prateek'"
      ]
     },
     "execution_count": 284,
     "metadata": {},
     "output_type": "execute_result"
    }
   ],
   "source": [
    "a.address.society"
   ]
  },
  {
   "cell_type": "code",
   "execution_count": 286,
   "id": "13623be7-d716-42ed-8d40-aa2eaa89a703",
   "metadata": {},
   "outputs": [],
   "source": [
    "add1 = Address(304, 'prateek', 'Noida', 200100)"
   ]
  },
  {
   "cell_type": "code",
   "execution_count": 288,
   "id": "5c2c93f9-9a4d-4917-b737-ff79ee5b82db",
   "metadata": {},
   "outputs": [
    {
     "data": {
      "text/plain": [
       "'sourabh'"
      ]
     },
     "execution_count": 288,
     "metadata": {},
     "output_type": "execute_result"
    }
   ],
   "source": [
    "a.update_profile('sourabh', 'M', add1)\n",
    "a.name"
   ]
  },
  {
   "cell_type": "code",
   "execution_count": 290,
   "id": "0002380d-5bf7-4c3d-b00b-76ee1b948a4a",
   "metadata": {},
   "outputs": [
    {
     "data": {
      "text/plain": [
       "'M'"
      ]
     },
     "execution_count": 290,
     "metadata": {},
     "output_type": "execute_result"
    }
   ],
   "source": [
    "a.gender"
   ]
  },
  {
   "cell_type": "code",
   "execution_count": 292,
   "id": "47968694-b671-4163-814e-ddde3bf9d0de",
   "metadata": {},
   "outputs": [
    {
     "data": {
      "text/plain": [
       "200100"
      ]
     },
     "execution_count": 292,
     "metadata": {},
     "output_type": "execute_result"
    }
   ],
   "source": [
    "a.address.pin"
   ]
  },
  {
   "cell_type": "code",
   "execution_count": 294,
   "id": "aa8ebc7c-dc62-44f1-bfd1-9ee01393672e",
   "metadata": {},
   "outputs": [
    {
     "data": {
      "text/plain": [
       "'prateek'"
      ]
     },
     "execution_count": 294,
     "metadata": {},
     "output_type": "execute_result"
    }
   ],
   "source": [
    "a.address.society"
   ]
  },
  {
   "cell_type": "code",
   "execution_count": 296,
   "id": "b7144231-4f9c-462d-afc8-8d2e827adfac",
   "metadata": {},
   "outputs": [
    {
     "data": {
      "text/plain": [
       "'Noida'"
      ]
     },
     "execution_count": 296,
     "metadata": {},
     "output_type": "execute_result"
    }
   ],
   "source": [
    "a.address.city"
   ]
  },
  {
   "cell_type": "code",
   "execution_count": 300,
   "id": "ac1695dc-d82b-4ec0-b451-d9b30eac8c15",
   "metadata": {},
   "outputs": [],
   "source": [
    "# agreegation\n",
    "class Address:\n",
    "    def __init__(self, faltno, society, city, pin):\n",
    "        self.flatno = faltno\n",
    "        self.society = society\n",
    "        self.city = city\n",
    "        self.pin = pin\n",
    "    def change_address(self, new_faltno, new_society, new_city, new_pin):\n",
    "        self.flatno = new_faltno\n",
    "        self.society = new_society\n",
    "        self.city = new_city\n",
    "        self.pin = new_pin\n",
    "\n",
    "class employee:\n",
    "    def __init__(self,name, gender, address):\n",
    "        self.name = name\n",
    "        self.gender= gender\n",
    "        self.address = address\n",
    "        print(f\"my name is {self.name}\")\n",
    "    def update_profile(self, new_name,new_gender,new_faltno, new_society, new_city, new_pin):\n",
    "        self.name = new_name\n",
    "        self.gender= new_gender\n",
    "        self.address.change_address(new_faltno, new_society, new_city, new_pin)\n"
   ]
  },
  {
   "cell_type": "code",
   "execution_count": 314,
   "id": "9867ed55-c5b6-4100-9dbb-665f227f41b1",
   "metadata": {},
   "outputs": [],
   "source": [
    "add = Address(304, 'prateek', 'ghaziabad', 201009)"
   ]
  },
  {
   "cell_type": "code",
   "execution_count": 316,
   "id": "73a25aba-01f8-4429-adcc-3cc47521e51e",
   "metadata": {},
   "outputs": [
    {
     "name": "stdout",
     "output_type": "stream",
     "text": [
      "my name is Shubham\n"
     ]
    },
    {
     "data": {
      "text/plain": [
       "'Shubham'"
      ]
     },
     "execution_count": 316,
     "metadata": {},
     "output_type": "execute_result"
    }
   ],
   "source": [
    "a = employee('Shubham', 'M', add)\n",
    "a.name"
   ]
  },
  {
   "cell_type": "code",
   "execution_count": 318,
   "id": "926e42be-616d-44f4-8fed-484046b4c03f",
   "metadata": {},
   "outputs": [
    {
     "data": {
      "text/plain": [
       "'ghaziabad'"
      ]
     },
     "execution_count": 318,
     "metadata": {},
     "output_type": "execute_result"
    }
   ],
   "source": [
    "a.address.city"
   ]
  },
  {
   "cell_type": "code",
   "execution_count": 320,
   "id": "db2aa1f8-1388-4894-8210-2c9c27269f50",
   "metadata": {},
   "outputs": [
    {
     "data": {
      "text/plain": [
       "201009"
      ]
     },
     "execution_count": 320,
     "metadata": {},
     "output_type": "execute_result"
    }
   ],
   "source": [
    "a.address.pin"
   ]
  },
  {
   "cell_type": "code",
   "execution_count": 326,
   "id": "4755b7c0-ad9a-49b6-9eb0-0af4d7bc0f92",
   "metadata": {},
   "outputs": [],
   "source": [
    "a.update_profile('sourabh', 'M',304, 'prateek', 'Noida', 200100)"
   ]
  },
  {
   "cell_type": "code",
   "execution_count": 328,
   "id": "9cd778f0-0fc6-4e98-8f23-79dad145748f",
   "metadata": {},
   "outputs": [
    {
     "data": {
      "text/plain": [
       "'sourabh'"
      ]
     },
     "execution_count": 328,
     "metadata": {},
     "output_type": "execute_result"
    }
   ],
   "source": [
    "a.name"
   ]
  },
  {
   "cell_type": "code",
   "execution_count": 330,
   "id": "fe0f080a-233a-41d5-962f-6f2f7a4d9cf7",
   "metadata": {},
   "outputs": [
    {
     "data": {
      "text/plain": [
       "'M'"
      ]
     },
     "execution_count": 330,
     "metadata": {},
     "output_type": "execute_result"
    }
   ],
   "source": [
    "a.gender"
   ]
  },
  {
   "cell_type": "code",
   "execution_count": 332,
   "id": "0cab4c16-bd4a-4ca4-9ec3-a7a8f547f2ca",
   "metadata": {},
   "outputs": [
    {
     "data": {
      "text/plain": [
       "'Noida'"
      ]
     },
     "execution_count": 332,
     "metadata": {},
     "output_type": "execute_result"
    }
   ],
   "source": [
    "a.address.city"
   ]
  },
  {
   "cell_type": "code",
   "execution_count": 336,
   "id": "1cd200aa-856d-499b-b5c2-0ee70a143722",
   "metadata": {
    "scrolled": true
   },
   "outputs": [
    {
     "data": {
      "text/plain": [
       "200100"
      ]
     },
     "execution_count": 336,
     "metadata": {},
     "output_type": "execute_result"
    }
   ],
   "source": [
    "a.address.pin"
   ]
  },
  {
   "cell_type": "code",
   "execution_count": 153,
   "id": "76515cdf-4a8f-4e6e-903c-f3b905b791c2",
   "metadata": {},
   "outputs": [],
   "source": [
    "# inheritance\n",
    "class Phone: # Parent Class\n",
    "    def __init__(self, model, price, network):\n",
    "        self.__model, self.price, self.network = model, price, network\n",
    "        print('this is Outdated Phone')\n",
    "    def call(self):\n",
    "        print('calling')\n",
    "    def sms(self):\n",
    "        print('message')\n",
    "    def game(self):\n",
    "        if self.price>2000:\n",
    "            print('snake', 'colour')\n",
    "        else:\n",
    "            print('snake')\n",
    "        \n",
    "class Smartphone(Phone): # Child Class\n",
    "    def __init__(self, model, price, os, brand, network):\n",
    "        super().__init__(model, price, network) # super can not access encapsulated \n",
    "                                                    # variable of parant class\n",
    "        print('this is Smartphone')\n",
    "        self.os, self.brand = os, brand\n",
    "    def game(self): # method overridding\n",
    "        super().game()\n",
    "        print('all games')\n",
    "    def mod(self):\n",
    "        print(self.__model)"
   ]
  },
  {
   "cell_type": "code",
   "execution_count": 155,
   "id": "01d82835-66e9-421d-aa56-c85e5cc48967",
   "metadata": {},
   "outputs": [
    {
     "name": "stdout",
     "output_type": "stream",
     "text": [
      "this is Outdated Phone\n",
      "this is Smartphone\n"
     ]
    }
   ],
   "source": [
    "s = Smartphone('iphone13', 50000, 'ios18', 'Apple', '5G')"
   ]
  },
  {
   "cell_type": "code",
   "execution_count": 157,
   "id": "1d3c1edb-d0a6-4af5-b5d0-194b3d6f30d0",
   "metadata": {},
   "outputs": [
    {
     "data": {
      "text/plain": [
       "'iphone13'"
      ]
     },
     "execution_count": 157,
     "metadata": {},
     "output_type": "execute_result"
    }
   ],
   "source": [
    "s._Phone__model"
   ]
  },
  {
   "cell_type": "code",
   "execution_count": 159,
   "id": "702bf8e2-4842-4ba8-bc25-a14151b3836e",
   "metadata": {
    "scrolled": true
   },
   "outputs": [
    {
     "name": "stdout",
     "output_type": "stream",
     "text": [
      "calling\n"
     ]
    }
   ],
   "source": [
    "s.call()"
   ]
  },
  {
   "cell_type": "code",
   "execution_count": 161,
   "id": "c3dd99f4-fbec-4565-bbf2-96f7aca8e3fc",
   "metadata": {},
   "outputs": [
    {
     "name": "stdout",
     "output_type": "stream",
     "text": [
      "snake colour\n",
      "all games\n"
     ]
    }
   ],
   "source": [
    "s.game()"
   ]
  },
  {
   "cell_type": "code",
   "execution_count": 163,
   "id": "a2018f28-923c-4620-8746-ecf2ce3e00b6",
   "metadata": {},
   "outputs": [
    {
     "name": "stdout",
     "output_type": "stream",
     "text": [
      "message\n"
     ]
    }
   ],
   "source": [
    "s.sms()"
   ]
  },
  {
   "cell_type": "code",
   "execution_count": 166,
   "id": "3e0586fc-b989-4c69-ab6c-733c661fb799",
   "metadata": {},
   "outputs": [
    {
     "ename": "AttributeError",
     "evalue": "'Smartphone' object has no attribute '_Smartphone__model'",
     "output_type": "error",
     "traceback": [
      "\u001b[1;31m---------------------------------------------------------------------------\u001b[0m",
      "\u001b[1;31mAttributeError\u001b[0m                            Traceback (most recent call last)",
      "Cell \u001b[1;32mIn[166], line 1\u001b[0m\n\u001b[1;32m----> 1\u001b[0m s\u001b[38;5;241m.\u001b[39mmod()\n",
      "Cell \u001b[1;32mIn[153], line 25\u001b[0m, in \u001b[0;36mSmartphone.mod\u001b[1;34m(self)\u001b[0m\n\u001b[0;32m     24\u001b[0m \u001b[38;5;28;01mdef\u001b[39;00m \u001b[38;5;21mmod\u001b[39m(\u001b[38;5;28mself\u001b[39m):\n\u001b[1;32m---> 25\u001b[0m     \u001b[38;5;28mprint\u001b[39m(\u001b[38;5;28mself\u001b[39m\u001b[38;5;241m.\u001b[39m__model)\n",
      "\u001b[1;31mAttributeError\u001b[0m: 'Smartphone' object has no attribute '_Smartphone__model'"
     ]
    }
   ],
   "source": [
    "s.mod()"
   ]
  },
  {
   "cell_type": "code",
   "execution_count": 168,
   "id": "db234dac-79e3-4b98-b92e-9c450be7bf99",
   "metadata": {},
   "outputs": [],
   "source": [
    "# polymorphism\n",
    "# poly = many\n",
    "# morphism - act\n",
    "# method overloading\n",
    "def area(h = None, b = None, r = None):\n",
    "    if r:\n",
    "        print('Area of Circle :')\n",
    "        return 3.14*r**2\n",
    "    else:\n",
    "        print('Area of Rectangle :')\n",
    "        return b*h"
   ]
  },
  {
   "cell_type": "code",
   "execution_count": 170,
   "id": "cb4b2ba7-34e2-410a-83f3-02723e7deab5",
   "metadata": {},
   "outputs": [
    {
     "name": "stdout",
     "output_type": "stream",
     "text": [
      "Area of Circle :\n"
     ]
    },
    {
     "data": {
      "text/plain": [
       "78.5"
      ]
     },
     "execution_count": 170,
     "metadata": {},
     "output_type": "execute_result"
    }
   ],
   "source": [
    "area(r=5)"
   ]
  },
  {
   "cell_type": "code",
   "execution_count": 172,
   "id": "79d921a6-57bb-4ce5-b9cd-3162f35e7056",
   "metadata": {},
   "outputs": [
    {
     "name": "stdout",
     "output_type": "stream",
     "text": [
      "Area of Rectangle :\n"
     ]
    },
    {
     "data": {
      "text/plain": [
       "10"
      ]
     },
     "execution_count": 172,
     "metadata": {},
     "output_type": "execute_result"
    }
   ],
   "source": [
    "area(b=2,h=5)"
   ]
  },
  {
   "cell_type": "code",
   "execution_count": 176,
   "id": "fcea771b-fca4-4089-96bd-3e48cc1affd8",
   "metadata": {},
   "outputs": [],
   "source": [
    "# Multihead Inheritance\n",
    "class A:\n",
    "    def m1(self):\n",
    "        return 20\n",
    "class B(A):\n",
    "    def m1(self):\n",
    "        return 30\n",
    "    def m2(self):\n",
    "        return 40\n",
    "class C(B):\n",
    "    def m2(self):\n",
    "        return 20"
   ]
  },
  {
   "cell_type": "code",
   "execution_count": 178,
   "id": "b9cf4365-11aa-46ff-8f18-b108b142ffe3",
   "metadata": {},
   "outputs": [
    {
     "name": "stdout",
     "output_type": "stream",
     "text": [
      "70\n"
     ]
    }
   ],
   "source": [
    "obj1=A()\n",
    "obj2=B()\n",
    "obj3=C()\n",
    "print(obj1.m1()+obj3.m1()+obj3.m2())"
   ]
  },
  {
   "cell_type": "code",
   "execution_count": 174,
   "id": "59da3968-ab3c-4420-a8f2-2c5b7a1cb2e9",
   "metadata": {},
   "outputs": [
    {
     "data": {
      "text/plain": [
       "70"
      ]
     },
     "execution_count": 174,
     "metadata": {},
     "output_type": "execute_result"
    }
   ],
   "source": [
    "20+30+20"
   ]
  },
  {
   "cell_type": "code",
   "execution_count": 180,
   "id": "59291ad1-c9e8-4d10-98f1-11b530fbf8c0",
   "metadata": {},
   "outputs": [
    {
     "name": "stdout",
     "output_type": "stream",
     "text": [
      "70\n"
     ]
    }
   ],
   "source": [
    "# Multihead Inheritance\n",
    "class A:\n",
    "    def m1(self):\n",
    "        return 20\n",
    "class B(A):\n",
    "    def m1(self):\n",
    "        val=super().m1()+30\n",
    "        return val\n",
    "class C(B):\n",
    "    def m1(self):\n",
    "        val=super().m1()+20\n",
    "        return val\n",
    "obj = C()\n",
    "print(obj.m1())"
   ]
  },
  {
   "cell_type": "code",
   "execution_count": 182,
   "id": "aa8cbce1-fe57-40e9-8177-4a630913980a",
   "metadata": {},
   "outputs": [
    {
     "name": "stdout",
     "output_type": "stream",
     "text": [
      "50\n"
     ]
    }
   ],
   "source": [
    "# Hierarchical Inheritance\n",
    "class B:\n",
    "    def m1(self):\n",
    "        val=30\n",
    "        return val\n",
    "class C(B):\n",
    "    def m1(self):\n",
    "        val=super().m1()+20\n",
    "        return val\n",
    "class D(B):\n",
    "    def m1(self):\n",
    "        val=super().m1()+20\n",
    "        return val\n",
    "obj = C()\n",
    "print(obj.m1())"
   ]
  },
  {
   "cell_type": "code",
   "execution_count": 184,
   "id": "6b43947a-e491-476c-8005-31e97c9a578a",
   "metadata": {},
   "outputs": [
    {
     "name": "stdout",
     "output_type": "stream",
     "text": [
      "3\n",
      "10\n"
     ]
    }
   ],
   "source": [
    "# Mutiple inheritance\n",
    "class A:\n",
    "    def m1(self):\n",
    "        val1=10\n",
    "        return val1\n",
    "class B:\n",
    "    v=3\n",
    "    def m1(self):\n",
    "        val2=20\n",
    "        return val2\n",
    "class C(A,B):\n",
    "    def m3(self):\n",
    "        val3=super().m1()\n",
    "        print(super().v)\n",
    "        return val3\n",
    "obj = C()\n",
    "print(obj.m3())"
   ]
  },
  {
   "cell_type": "code",
   "execution_count": 186,
   "id": "38059570-c3b1-4140-824a-624a3e74fe37",
   "metadata": {},
   "outputs": [
    {
     "name": "stdout",
     "output_type": "stream",
     "text": [
      "10\n"
     ]
    }
   ],
   "source": [
    "print(obj.m1())"
   ]
  },
  {
   "cell_type": "code",
   "execution_count": 188,
   "id": "8f7eed02-88a0-42b3-9ad2-6a8a0400cfcb",
   "metadata": {},
   "outputs": [
    {
     "name": "stdout",
     "output_type": "stream",
     "text": [
      "60\n"
     ]
    }
   ],
   "source": [
    "class X:\n",
    "    def calc(self):\n",
    "        return 10\n",
    "\n",
    "class Y(X):\n",
    "    def calc(self):\n",
    "        val = super().calc() + 20\n",
    "        return val\n",
    "\n",
    "class Z(Y):\n",
    "    def calc(self):\n",
    "        val = super().calc() * 2\n",
    "        return val\n",
    "\n",
    "obj = Z()\n",
    "print(obj.calc())\n"
   ]
  },
  {
   "cell_type": "code",
   "execution_count": 190,
   "id": "c8804aa5-283e-4492-8d0c-cf973cd28c4c",
   "metadata": {},
   "outputs": [
    {
     "name": "stdout",
     "output_type": "stream",
     "text": [
      "Class P and Class R\n"
     ]
    }
   ],
   "source": [
    "class P:\n",
    "    def show(self):\n",
    "        return \"Class P\"\n",
    "\n",
    "class Q:\n",
    "    def show(self):\n",
    "        return \"Class Q\"\n",
    "\n",
    "class R(P, Q):\n",
    "    def show(self):\n",
    "        val = super().show() + \" and Class R\"\n",
    "        return val\n",
    "\n",
    "obj = R()\n",
    "print(obj.show())\n"
   ]
  },
  {
   "cell_type": "code",
   "execution_count": 192,
   "id": "c3b4fa63-f507-458b-ac4f-92f06e615257",
   "metadata": {},
   "outputs": [
    {
     "name": "stdout",
     "output_type": "stream",
     "text": [
      "A -> E -> D -> C -> B -> F\n"
     ]
    }
   ],
   "source": [
    "class A:\n",
    "    def display(self):\n",
    "        return \"A\"\n",
    "\n",
    "class B(A):\n",
    "    def display(self):\n",
    "        return super().display() + \" -> B\"\n",
    "\n",
    "class C(A):\n",
    "    def display(self):\n",
    "        return super().display() + \" -> C\"\n",
    "\n",
    "class D(A):\n",
    "    def display(self):\n",
    "        return super().display() + \" -> D\"\n",
    "    \n",
    "class E(A):\n",
    "    def display(self):\n",
    "        return super().display() + \" -> E\"\n",
    "    \n",
    "class F(B,C,D,E):    \n",
    "    def display(self):\n",
    "        return super().display() + \" -> F\"\n",
    "\n",
    "obj = F()\n",
    "print(obj.display())\n"
   ]
  },
  {
   "cell_type": "code",
   "execution_count": 194,
   "id": "70acdca9-6ae9-49ce-8bc0-974abd178aa4",
   "metadata": {},
   "outputs": [],
   "source": [
    "# A-E-D-C-B-F"
   ]
  },
  {
   "cell_type": "code",
   "execution_count": 196,
   "id": "50b80be6-05a0-42c4-a2d8-4a96b08d2935",
   "metadata": {},
   "outputs": [
    {
     "name": "stdout",
     "output_type": "stream",
     "text": [
      "Parent1 Constructor\n",
      "Child Constructor\n"
     ]
    }
   ],
   "source": [
    "class Parent1:\n",
    "    def __init__(self):\n",
    "        print(\"Parent1 Constructor\")\n",
    "\n",
    "class Parent2:\n",
    "    def __init__(self):\n",
    "        print(\"Parent2 Constructor\")\n",
    "\n",
    "class Child(Parent1, Parent2):\n",
    "    def __init__(self):\n",
    "        super().__init__()\n",
    "        print(\"Child Constructor\")\n",
    "\n",
    "obj = Child()\n"
   ]
  },
  {
   "cell_type": "code",
   "execution_count": null,
   "id": "c8cbc6c8-b0fa-4e82-a854-1fb743a268d5",
   "metadata": {},
   "outputs": [],
   "source": []
  }
 ],
 "metadata": {
  "kernelspec": {
   "display_name": "Python 3 (ipykernel)",
   "language": "python",
   "name": "python3"
  },
  "language_info": {
   "codemirror_mode": {
    "name": "ipython",
    "version": 3
   },
   "file_extension": ".py",
   "mimetype": "text/x-python",
   "name": "python",
   "nbconvert_exporter": "python",
   "pygments_lexer": "ipython3",
   "version": "3.12.7"
  }
 },
 "nbformat": 4,
 "nbformat_minor": 5
}
