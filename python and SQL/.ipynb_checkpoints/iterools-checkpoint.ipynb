{
 "cells": [
  {
   "cell_type": "code",
   "execution_count": 2,
   "id": "1870ba0c-db03-44e5-83ed-4ca0df4db45e",
   "metadata": {
    "id": "1870ba0c-db03-44e5-83ed-4ca0df4db45e"
   },
   "outputs": [],
   "source": [
    "import itertools"
   ]
  },
  {
   "cell_type": "code",
   "execution_count": 3,
   "id": "973ac9d0-d7d0-4170-bdc3-3ea90eb76ec2",
   "metadata": {
    "id": "973ac9d0-d7d0-4170-bdc3-3ea90eb76ec2",
    "outputId": "89e65a99-d93c-47bf-e208-7b02fe128989",
    "scrolled": true
   },
   "outputs": [
    {
     "data": {
      "text/plain": [
       "['__doc__',\n",
       " '__loader__',\n",
       " '__name__',\n",
       " '__package__',\n",
       " '__spec__',\n",
       " '_grouper',\n",
       " '_tee',\n",
       " '_tee_dataobject',\n",
       " 'accumulate',\n",
       " 'batched',\n",
       " 'chain',\n",
       " 'combinations',\n",
       " 'combinations_with_replacement',\n",
       " 'compress',\n",
       " 'count',\n",
       " 'cycle',\n",
       " 'dropwhile',\n",
       " 'filterfalse',\n",
       " 'groupby',\n",
       " 'islice',\n",
       " 'pairwise',\n",
       " 'permutations',\n",
       " 'product',\n",
       " 'repeat',\n",
       " 'starmap',\n",
       " 'takewhile',\n",
       " 'tee',\n",
       " 'zip_longest']"
      ]
     },
     "execution_count": 3,
     "metadata": {},
     "output_type": "execute_result"
    }
   ],
   "source": [
    "dir(itertools)"
   ]
  },
  {
   "cell_type": "code",
   "execution_count": 4,
   "id": "f28add68-9116-45cc-9bef-6d20d29f00b0",
   "metadata": {
    "id": "f28add68-9116-45cc-9bef-6d20d29f00b0",
    "outputId": "9e3d9a96-5a08-4cc5-edc3-0717c07e61d2",
    "scrolled": true
   },
   "outputs": [
    {
     "name": "stdout",
     "output_type": "stream",
     "text": [
      "Help on class cycle in module itertools:\n",
      "\n",
      "class cycle(builtins.object)\n",
      " |  cycle(iterable, /)\n",
      " |\n",
      " |  Return elements from the iterable until it is exhausted. Then repeat the sequence indefinitely.\n",
      " |\n",
      " |  Methods defined here:\n",
      " |\n",
      " |  __getattribute__(self, name, /)\n",
      " |      Return getattr(self, name).\n",
      " |\n",
      " |  __iter__(self, /)\n",
      " |      Implement iter(self).\n",
      " |\n",
      " |  __next__(self, /)\n",
      " |      Implement next(self).\n",
      " |\n",
      " |  __reduce__(...)\n",
      " |      Return state information for pickling.\n",
      " |\n",
      " |  __setstate__(...)\n",
      " |      Set state information for unpickling.\n",
      " |\n",
      " |  ----------------------------------------------------------------------\n",
      " |  Static methods defined here:\n",
      " |\n",
      " |  __new__(*args, **kwargs)\n",
      " |      Create and return a new object.  See help(type) for accurate signature.\n",
      "\n"
     ]
    }
   ],
   "source": [
    "help(itertools.cycle)"
   ]
  },
  {
   "cell_type": "code",
   "execution_count": 5,
   "id": "c12420d2-1060-4e73-a201-bc369b8ae40d",
   "metadata": {
    "id": "c12420d2-1060-4e73-a201-bc369b8ae40d",
    "outputId": "7377b261-5385-4884-8e9f-b9f858981951"
   },
   "outputs": [
    {
     "data": {
      "text/plain": [
       "[2, 11, 21, 29]"
      ]
     },
     "execution_count": 5,
     "metadata": {},
     "output_type": "execute_result"
    }
   ],
   "source": [
    "list(itertools.accumulate([2, 9, 10, 8]))"
   ]
  },
  {
   "cell_type": "code",
   "execution_count": 6,
   "id": "16f922c4-beeb-43d4-bdc0-323883bb4992",
   "metadata": {
    "id": "16f922c4-beeb-43d4-bdc0-323883bb4992"
   },
   "outputs": [],
   "source": [
    "g1= itertools.accumulate([2, 9, 10, 8])"
   ]
  },
  {
   "cell_type": "code",
   "execution_count": 7,
   "id": "77bbf21a-e1c4-403f-a2aa-c2767eee96fd",
   "metadata": {
    "id": "77bbf21a-e1c4-403f-a2aa-c2767eee96fd"
   },
   "outputs": [
    {
     "name": "stdout",
     "output_type": "stream",
     "text": [
      "2\n",
      "11\n",
      "21\n",
      "29\n"
     ]
    }
   ],
   "source": [
    "for i in g1:\n",
    "    print(i)\n",
    "# [i for i in g1]"
   ]
  },
  {
   "cell_type": "code",
   "execution_count": 8,
   "id": "ae05d89d-52c8-49cd-8d6c-1633e1ebbc0f",
   "metadata": {
    "id": "ae05d89d-52c8-49cd-8d6c-1633e1ebbc0f"
   },
   "outputs": [],
   "source": [
    "import operator"
   ]
  },
  {
   "cell_type": "code",
   "execution_count": 10,
   "id": "ac4dd8a7-7f4f-48ec-b915-a49acfc5c39e",
   "metadata": {
    "id": "ac4dd8a7-7f4f-48ec-b915-a49acfc5c39e"
   },
   "outputs": [
    {
     "data": {
      "text/plain": [
       "[2, 18, 180, 1440]"
      ]
     },
     "execution_count": 10,
     "metadata": {},
     "output_type": "execute_result"
    }
   ],
   "source": [
    "g2 = itertools.accumulate([2, 9, 10, 8], func=operator.mul, initial=None)\n",
    "list(g2)"
   ]
  },
  {
   "cell_type": "code",
   "execution_count": 53,
   "id": "0871ccd7-c0fe-4995-9059-ef98d2ec147a",
   "metadata": {
    "id": "0871ccd7-c0fe-4995-9059-ef98d2ec147a",
    "outputId": "d0d41fee-1909-4e8b-ec43-f952ce9f2785"
   },
   "outputs": [
    {
     "data": {
      "text/plain": [
       "[2, 18, 180, 1440]"
      ]
     },
     "execution_count": 53,
     "metadata": {},
     "output_type": "execute_result"
    }
   ],
   "source": [
    "[i for i in g2]"
   ]
  },
  {
   "cell_type": "code",
   "execution_count": 11,
   "id": "ceb26a75-58fd-41a6-836d-b710a3a7f30c",
   "metadata": {
    "id": "ceb26a75-58fd-41a6-836d-b710a3a7f30c"
   },
   "outputs": [],
   "source": [
    "x = [[1,2], [3, 4]]"
   ]
  },
  {
   "cell_type": "code",
   "execution_count": 12,
   "id": "def45667-1882-4988-8026-8332c0c10282",
   "metadata": {
    "id": "def45667-1882-4988-8026-8332c0c10282"
   },
   "outputs": [],
   "source": [
    "y = [1,2,3,4]"
   ]
  },
  {
   "cell_type": "code",
   "execution_count": 13,
   "id": "ab47065e-e4fe-40e7-a972-f71ab411d1db",
   "metadata": {
    "id": "ab47065e-e4fe-40e7-a972-f71ab411d1db",
    "outputId": "eacb09dd-14de-4eb1-be40-4e84a0382bfd"
   },
   "outputs": [
    {
     "data": {
      "text/plain": [
       "[1, 2, 3, 4]"
      ]
     },
     "execution_count": 13,
     "metadata": {},
     "output_type": "execute_result"
    }
   ],
   "source": [
    "list(itertools.chain(*x))"
   ]
  },
  {
   "cell_type": "code",
   "execution_count": 14,
   "id": "4d346929-5531-4f5d-818d-99dcd16534c2",
   "metadata": {
    "id": "4d346929-5531-4f5d-818d-99dcd16534c2"
   },
   "outputs": [],
   "source": [
    "z = [[2,3], 4]"
   ]
  },
  {
   "cell_type": "code",
   "execution_count": 15,
   "id": "6b56567d-50dc-440c-8cb3-07ac87443b7b",
   "metadata": {
    "id": "6b56567d-50dc-440c-8cb3-07ac87443b7b",
    "outputId": "650e9b3b-09de-4135-8168-ee5af3366cd1"
   },
   "outputs": [
    {
     "ename": "TypeError",
     "evalue": "'int' object is not iterable",
     "output_type": "error",
     "traceback": [
      "\u001b[1;31m---------------------------------------------------------------------------\u001b[0m",
      "\u001b[1;31mTypeError\u001b[0m                                 Traceback (most recent call last)",
      "Cell \u001b[1;32mIn[15], line 1\u001b[0m\n\u001b[1;32m----> 1\u001b[0m \u001b[38;5;28mlist\u001b[39m(itertools\u001b[38;5;241m.\u001b[39mchain(\u001b[38;5;241m*\u001b[39mz))\n",
      "\u001b[1;31mTypeError\u001b[0m: 'int' object is not iterable"
     ]
    }
   ],
   "source": [
    "list(itertools.chain(*z))"
   ]
  },
  {
   "cell_type": "code",
   "execution_count": 16,
   "id": "33a3f6db-4003-42dd-b5df-bc7d51258bdd",
   "metadata": {
    "id": "33a3f6db-4003-42dd-b5df-bc7d51258bdd",
    "outputId": "49de8fa2-5541-43a5-b814-9e81e6b6581e"
   },
   "outputs": [
    {
     "ename": "TypeError",
     "evalue": "'int' object is not iterable",
     "output_type": "error",
     "traceback": [
      "\u001b[1;31m---------------------------------------------------------------------------\u001b[0m",
      "\u001b[1;31mTypeError\u001b[0m                                 Traceback (most recent call last)",
      "Cell \u001b[1;32mIn[16], line 1\u001b[0m\n\u001b[1;32m----> 1\u001b[0m \u001b[38;5;28;01mfor\u001b[39;00m i \u001b[38;5;129;01min\u001b[39;00m \u001b[38;5;241m1\u001b[39m:\n\u001b[0;32m      2\u001b[0m     \u001b[38;5;28mprint\u001b[39m(i)\n",
      "\u001b[1;31mTypeError\u001b[0m: 'int' object is not iterable"
     ]
    }
   ],
   "source": [
    "for i in 1:\n",
    "    print(i)"
   ]
  },
  {
   "cell_type": "code",
   "execution_count": 17,
   "id": "caba47bc-2adc-4ba3-b22b-430634afbfbd",
   "metadata": {
    "id": "caba47bc-2adc-4ba3-b22b-430634afbfbd"
   },
   "outputs": [],
   "source": [
    "x2 = [[1,2], [[3]], [[[[[1]]]]]]"
   ]
  },
  {
   "cell_type": "code",
   "execution_count": 19,
   "id": "9d87f2b0-e871-4cda-b2f0-eea23ec14ac8",
   "metadata": {
    "id": "9d87f2b0-e871-4cda-b2f0-eea23ec14ac8",
    "outputId": "3d56f40a-a9b6-4bb9-b936-8c61b678ef0e"
   },
   "outputs": [
    {
     "data": {
      "text/plain": [
       "[1, 2, [3], [[[[1]]]]]"
      ]
     },
     "execution_count": 19,
     "metadata": {},
     "output_type": "execute_result"
    }
   ],
   "source": [
    "list(itertools.chain(*x2))"
   ]
  },
  {
   "cell_type": "code",
   "execution_count": 20,
   "id": "aeb8bfb8-e703-4509-9dc5-632991037723",
   "metadata": {
    "id": "aeb8bfb8-e703-4509-9dc5-632991037723"
   },
   "outputs": [],
   "source": [
    "c1 = itertools.combinations([9, 10, 2, 1], 2)"
   ]
  },
  {
   "cell_type": "code",
   "execution_count": 22,
   "id": "7fc4eb7a-b0a2-45ee-9b37-4051e1b60611",
   "metadata": {
    "id": "7fc4eb7a-b0a2-45ee-9b37-4051e1b60611",
    "outputId": "5a3ed68b-7c7a-477f-8f32-d768b0b764bc"
   },
   "outputs": [
    {
     "data": {
      "text/plain": [
       "[(9, 10), (9, 2), (9, 1), (10, 2), (10, 1), (2, 1)]"
      ]
     },
     "execution_count": 22,
     "metadata": {},
     "output_type": "execute_result"
    }
   ],
   "source": [
    "list(c1)"
   ]
  },
  {
   "cell_type": "code",
   "execution_count": 23,
   "id": "c12e7ef0-8ed5-4309-bf62-288dc7aae2bb",
   "metadata": {
    "id": "c12e7ef0-8ed5-4309-bf62-288dc7aae2bb",
    "outputId": "e91772e9-96f5-417e-9073-559730a3029b"
   },
   "outputs": [],
   "source": [
    "for i in c1:\n",
    "    print(i)"
   ]
  },
  {
   "cell_type": "code",
   "execution_count": 77,
   "id": "52bf81f6-dea2-47f3-8666-7176b261480a",
   "metadata": {
    "id": "52bf81f6-dea2-47f3-8666-7176b261480a"
   },
   "outputs": [],
   "source": [
    "## C(4,2) = 4!/2!2! = n!/((r!)*(n-r)!)"
   ]
  },
  {
   "cell_type": "code",
   "execution_count": 24,
   "id": "bce1695c-d81c-4f99-85b2-e0795e1023e3",
   "metadata": {
    "id": "bce1695c-d81c-4f99-85b2-e0795e1023e3"
   },
   "outputs": [
    {
     "data": {
      "text/plain": [
       "[(9, 9),\n",
       " (9, 10),\n",
       " (9, 2),\n",
       " (9, 1),\n",
       " (10, 10),\n",
       " (10, 2),\n",
       " (10, 1),\n",
       " (2, 2),\n",
       " (2, 1),\n",
       " (1, 1)]"
      ]
     },
     "execution_count": 24,
     "metadata": {},
     "output_type": "execute_result"
    }
   ],
   "source": [
    "c1 = itertools.combinations_with_replacement([9, 10, 2, 1], 2)\n",
    "list(c1)"
   ]
  },
  {
   "cell_type": "code",
   "execution_count": 81,
   "id": "bee5fe8c-ab7b-4b19-85bc-57d61ab7dea3",
   "metadata": {
    "id": "bee5fe8c-ab7b-4b19-85bc-57d61ab7dea3",
    "outputId": "0ec0b1a8-6326-433c-c337-32e05df04437"
   },
   "outputs": [
    {
     "name": "stdout",
     "output_type": "stream",
     "text": [
      "(9, 9)\n",
      "(9, 10)\n",
      "(9, 2)\n",
      "(9, 1)\n",
      "(10, 10)\n",
      "(10, 2)\n",
      "(10, 1)\n",
      "(2, 2)\n",
      "(2, 1)\n",
      "(1, 1)\n"
     ]
    }
   ],
   "source": [
    "for i in c1:\n",
    "    print(i)"
   ]
  },
  {
   "cell_type": "code",
   "execution_count": null,
   "id": "81efe2dc-1518-414d-a2bc-04bf11e0f1db",
   "metadata": {
    "id": "81efe2dc-1518-414d-a2bc-04bf11e0f1db"
   },
   "outputs": [],
   "source": []
  },
  {
   "cell_type": "markdown",
   "id": "2ffddec3-0892-4de6-9cb7-ded84591b440",
   "metadata": {
    "id": "2ffddec3-0892-4de6-9cb7-ded84591b440"
   },
   "source": [
    "### 3"
   ]
  },
  {
   "cell_type": "code",
   "execution_count": 23,
   "id": "d43955f7-51a0-4151-b4c0-4f134de69ee9",
   "metadata": {
    "id": "d43955f7-51a0-4151-b4c0-4f134de69ee9"
   },
   "outputs": [],
   "source": [
    "x = [1, 20, 10, 9, 11]"
   ]
  },
  {
   "cell_type": "code",
   "execution_count": 24,
   "id": "d0394248-20f0-4113-835d-225d1c197021",
   "metadata": {
    "id": "d0394248-20f0-4113-835d-225d1c197021"
   },
   "outputs": [],
   "source": [
    "b = [1, -2, 0, 0, 1]"
   ]
  },
  {
   "cell_type": "code",
   "execution_count": 25,
   "id": "0ac8f369-c042-4516-a57a-83c0310f1b43",
   "metadata": {
    "id": "0ac8f369-c042-4516-a57a-83c0310f1b43",
    "outputId": "045aac7f-8353-443e-816a-18d8230bd86b"
   },
   "outputs": [
    {
     "data": {
      "text/plain": [
       "[1, 20, 11]"
      ]
     },
     "execution_count": 25,
     "metadata": {},
     "output_type": "execute_result"
    }
   ],
   "source": [
    "list(itertools.compress(x, b))"
   ]
  },
  {
   "cell_type": "code",
   "execution_count": 26,
   "id": "78ec60ee-7c9e-46f5-88d5-9914a9660d0a",
   "metadata": {
    "id": "78ec60ee-7c9e-46f5-88d5-9914a9660d0a",
    "outputId": "6466a4e0-a71e-4521-8b91-ce033afda39e"
   },
   "outputs": [
    {
     "name": "stdout",
     "output_type": "stream",
     "text": [
      "10\n",
      "12\n",
      "14\n",
      "16\n",
      "18\n",
      "20\n",
      "22\n",
      "24\n",
      "26\n",
      "28\n",
      "30\n"
     ]
    }
   ],
   "source": [
    "for i in itertools.count(start=10, step = 2):\n",
    "    print(i)\n",
    "    if i >= 30:\n",
    "        break"
   ]
  },
  {
   "cell_type": "code",
   "execution_count": 27,
   "id": "c229396c-6d3c-42a7-a9bb-96a29e10f4d5",
   "metadata": {
    "id": "c229396c-6d3c-42a7-a9bb-96a29e10f4d5"
   },
   "outputs": [],
   "source": [
    "iterble = itertools.cycle([1, 10, 11, 2])"
   ]
  },
  {
   "cell_type": "code",
   "execution_count": 28,
   "id": "e5223f9a-4b92-4c21-b3b8-49359bf3a840",
   "metadata": {
    "id": "e5223f9a-4b92-4c21-b3b8-49359bf3a840",
    "outputId": "49853dd2-9876-4a24-da1e-1e2973c7d493"
   },
   "outputs": [
    {
     "name": "stdout",
     "output_type": "stream",
     "text": [
      "1\n",
      "10\n",
      "11\n",
      "2\n",
      "1\n",
      "10\n",
      "11\n",
      "2\n",
      "1\n",
      "10\n",
      "11\n",
      "2\n",
      "1\n",
      "10\n",
      "11\n",
      "2\n",
      "1\n",
      "10\n",
      "11\n",
      "2\n",
      "1\n"
     ]
    }
   ],
   "source": [
    "for idx, i in enumerate(iterble, 0):\n",
    "    print(i)\n",
    "    if idx >= 20:\n",
    "        break"
   ]
  },
  {
   "cell_type": "code",
   "execution_count": 97,
   "id": "8fbba38b-8551-4139-a7be-cea3e491816a",
   "metadata": {
    "id": "8fbba38b-8551-4139-a7be-cea3e491816a",
    "outputId": "36f027ea-32a5-452a-a9de-30e216a2a03c",
    "scrolled": true
   },
   "outputs": [
    {
     "name": "stdout",
     "output_type": "stream",
     "text": [
      "Help on class dropwhile in module itertools:\n",
      "\n",
      "class dropwhile(builtins.object)\n",
      " |  dropwhile(predicate, iterable, /)\n",
      " |\n",
      " |  Drop items from the iterable while predicate(item) is true.\n",
      " |\n",
      " |  Afterwards, return every element until the iterable is exhausted.\n",
      " |\n",
      " |  Methods defined here:\n",
      " |\n",
      " |  __getattribute__(self, name, /)\n",
      " |      Return getattr(self, name).\n",
      " |\n",
      " |  __iter__(self, /)\n",
      " |      Implement iter(self).\n",
      " |\n",
      " |  __next__(self, /)\n",
      " |      Implement next(self).\n",
      " |\n",
      " |  __reduce__(...)\n",
      " |      Return state information for pickling.\n",
      " |\n",
      " |  __setstate__(...)\n",
      " |      Set state information for unpickling.\n",
      " |\n",
      " |  ----------------------------------------------------------------------\n",
      " |  Static methods defined here:\n",
      " |\n",
      " |  __new__(*args, **kwargs)\n",
      " |      Create and return a new object.  See help(type) for accurate signature.\n",
      "\n"
     ]
    }
   ],
   "source": [
    "help(itertools.dropwhile)"
   ]
  },
  {
   "cell_type": "code",
   "execution_count": 99,
   "id": "7b2723e5-7ef6-4e22-aad1-5a0396928ce0",
   "metadata": {
    "id": "7b2723e5-7ef6-4e22-aad1-5a0396928ce0"
   },
   "outputs": [],
   "source": [
    "c1 = itertools.dropwhile(lambda x: x < 5, [1, 2, 3, 10, 11, 12, 1, 0])"
   ]
  },
  {
   "cell_type": "code",
   "execution_count": 101,
   "id": "da51ddb8-a176-4499-83ed-2104c877ddac",
   "metadata": {
    "id": "da51ddb8-a176-4499-83ed-2104c877ddac",
    "outputId": "75c69710-0ea0-4a12-a5d3-db30ef48c7d1"
   },
   "outputs": [
    {
     "name": "stdout",
     "output_type": "stream",
     "text": [
      "10\n",
      "11\n",
      "12\n",
      "1\n",
      "0\n"
     ]
    }
   ],
   "source": [
    "for i in c1:\n",
    "    print(i)"
   ]
  },
  {
   "cell_type": "code",
   "execution_count": 103,
   "id": "8e6726eb-b1b2-479a-99a2-47ab33bbbec3",
   "metadata": {
    "id": "8e6726eb-b1b2-479a-99a2-47ab33bbbec3"
   },
   "outputs": [],
   "source": [
    "c1 = itertools.dropwhile(lambda x: x < 5, [11, 2, 3, 10, 11, 12, 1, 0])"
   ]
  },
  {
   "cell_type": "code",
   "execution_count": 105,
   "id": "eb018427-1f90-4b5b-96e8-f44039ea8d62",
   "metadata": {
    "id": "eb018427-1f90-4b5b-96e8-f44039ea8d62",
    "outputId": "74e1c97b-c42e-4551-eb18-9d2eb82d3cd4"
   },
   "outputs": [
    {
     "name": "stdout",
     "output_type": "stream",
     "text": [
      "11\n",
      "2\n",
      "3\n",
      "10\n",
      "11\n",
      "12\n",
      "1\n",
      "0\n"
     ]
    }
   ],
   "source": [
    "for i in c1:\n",
    "    print(i)"
   ]
  },
  {
   "cell_type": "code",
   "execution_count": 107,
   "id": "466953e2-77fb-4f5b-968c-8d7b9bc71588",
   "metadata": {
    "id": "466953e2-77fb-4f5b-968c-8d7b9bc71588",
    "outputId": "610bade3-35c3-4545-dd43-8947800fb9ac",
    "scrolled": true
   },
   "outputs": [
    {
     "name": "stdout",
     "output_type": "stream",
     "text": [
      "Help on class filterfalse in module itertools:\n",
      "\n",
      "class filterfalse(builtins.object)\n",
      " |  filterfalse(function, iterable, /)\n",
      " |\n",
      " |  Return those items of iterable for which function(item) is false.\n",
      " |\n",
      " |  If function is None, return the items that are false.\n",
      " |\n",
      " |  Methods defined here:\n",
      " |\n",
      " |  __getattribute__(self, name, /)\n",
      " |      Return getattr(self, name).\n",
      " |\n",
      " |  __iter__(self, /)\n",
      " |      Implement iter(self).\n",
      " |\n",
      " |  __next__(self, /)\n",
      " |      Implement next(self).\n",
      " |\n",
      " |  __reduce__(...)\n",
      " |      Return state information for pickling.\n",
      " |\n",
      " |  ----------------------------------------------------------------------\n",
      " |  Static methods defined here:\n",
      " |\n",
      " |  __new__(*args, **kwargs)\n",
      " |      Create and return a new object.  See help(type) for accurate signature.\n",
      "\n"
     ]
    }
   ],
   "source": [
    "help(itertools.filterfalse)"
   ]
  },
  {
   "cell_type": "code",
   "execution_count": 109,
   "id": "9100cf13-eb14-4c41-ab6b-f0238322c3fc",
   "metadata": {
    "id": "9100cf13-eb14-4c41-ab6b-f0238322c3fc"
   },
   "outputs": [],
   "source": [
    "c1 = itertools.filterfalse(lambda x: x%2==0, [1, 2, 3, 4, 5])"
   ]
  },
  {
   "cell_type": "code",
   "execution_count": 111,
   "id": "a0bb5737-2f3b-466c-ae50-77f3459ff5c5",
   "metadata": {
    "id": "a0bb5737-2f3b-466c-ae50-77f3459ff5c5",
    "outputId": "6855d8b3-1080-478d-eca3-264ec1a7f5c5"
   },
   "outputs": [
    {
     "name": "stdout",
     "output_type": "stream",
     "text": [
      "1\n",
      "3\n",
      "5\n"
     ]
    }
   ],
   "source": [
    "for i in c1:\n",
    "    print(i)"
   ]
  },
  {
   "cell_type": "code",
   "execution_count": 113,
   "id": "14db4e21-ce60-4477-babe-bdbfd27cddaa",
   "metadata": {
    "id": "14db4e21-ce60-4477-babe-bdbfd27cddaa"
   },
   "outputs": [],
   "source": [
    "c2 = filter(lambda x: x%2==0, [1, 2, 3, 4, 5])"
   ]
  },
  {
   "cell_type": "code",
   "execution_count": 115,
   "id": "f7b16f79-792e-4fb2-beb9-f769947645d2",
   "metadata": {
    "id": "f7b16f79-792e-4fb2-beb9-f769947645d2",
    "outputId": "8ecc43a8-260c-4c3e-dcd8-1f562eb4da4d"
   },
   "outputs": [
    {
     "name": "stdout",
     "output_type": "stream",
     "text": [
      "2\n",
      "4\n"
     ]
    }
   ],
   "source": [
    "for i in c2:\n",
    "    print(i)"
   ]
  },
  {
   "cell_type": "code",
   "execution_count": 117,
   "id": "bdd48a09-e851-4f17-9270-d91469510f47",
   "metadata": {
    "id": "bdd48a09-e851-4f17-9270-d91469510f47",
    "outputId": "b972370e-b902-463a-d760-8c28afadf99e",
    "scrolled": true
   },
   "outputs": [
    {
     "name": "stdout",
     "output_type": "stream",
     "text": [
      "Help on class groupby in module itertools:\n",
      "\n",
      "class groupby(builtins.object)\n",
      " |  groupby(iterable, key=None)\n",
      " |\n",
      " |  make an iterator that returns consecutive keys and groups from the iterable\n",
      " |\n",
      " |  iterable\n",
      " |    Elements to divide into groups according to the key function.\n",
      " |  key\n",
      " |    A function for computing the group category for each element.\n",
      " |    If the key function is not specified or is None, the element itself\n",
      " |    is used for grouping.\n",
      " |\n",
      " |  Methods defined here:\n",
      " |\n",
      " |  __getattribute__(self, name, /)\n",
      " |      Return getattr(self, name).\n",
      " |\n",
      " |  __iter__(self, /)\n",
      " |      Implement iter(self).\n",
      " |\n",
      " |  __next__(self, /)\n",
      " |      Implement next(self).\n",
      " |\n",
      " |  __reduce__(...)\n",
      " |      Return state information for pickling.\n",
      " |\n",
      " |  __setstate__(...)\n",
      " |      Set state information for unpickling.\n",
      " |\n",
      " |  ----------------------------------------------------------------------\n",
      " |  Static methods defined here:\n",
      " |\n",
      " |  __new__(*args, **kwargs)\n",
      " |      Create and return a new object.  See help(type) for accurate signature.\n",
      "\n"
     ]
    }
   ],
   "source": [
    "help(itertools.groupby)"
   ]
  },
  {
   "cell_type": "code",
   "execution_count": 119,
   "id": "99c92158-8c71-4f4d-832f-eff80eac3473",
   "metadata": {
    "id": "99c92158-8c71-4f4d-832f-eff80eac3473"
   },
   "outputs": [],
   "source": [
    "g = itertools.groupby(\"aaabbbbbbbcccccddddaaaabbbb\", key=lambda x: x==\"a\")"
   ]
  },
  {
   "cell_type": "code",
   "execution_count": 120,
   "id": "d721fa5b-24c5-45b9-9f15-945bbb84758f",
   "metadata": {
    "id": "d721fa5b-24c5-45b9-9f15-945bbb84758f",
    "outputId": "8ea3e3e7-2e49-4745-a8b6-a4b13721869b"
   },
   "outputs": [
    {
     "name": "stdout",
     "output_type": "stream",
     "text": [
      "True 3\n",
      "False 16\n",
      "True 4\n",
      "False 4\n"
     ]
    }
   ],
   "source": [
    "for i in g:\n",
    "    print(i[0], len(list(i[1])))"
   ]
  },
  {
   "cell_type": "code",
   "execution_count": 122,
   "id": "7667686f-48a6-42de-84ab-7924d838c487",
   "metadata": {
    "id": "7667686f-48a6-42de-84ab-7924d838c487"
   },
   "outputs": [
    {
     "data": {
      "text/plain": [
       "'ccccbbbbbbbcccccbbbbbbbb'"
      ]
     },
     "execution_count": 122,
     "metadata": {},
     "output_type": "execute_result"
    }
   ],
   "source": [
    "\"ccccbbbbbbbcccccbbbbbbbb\""
   ]
  },
  {
   "cell_type": "code",
   "execution_count": 124,
   "id": "d0133858-d35d-4b05-be9a-aa6b77251cd0",
   "metadata": {
    "id": "d0133858-d35d-4b05-be9a-aa6b77251cd0"
   },
   "outputs": [],
   "source": [
    "d = {}"
   ]
  },
  {
   "cell_type": "code",
   "execution_count": 126,
   "id": "8035cb66-5d2a-4c71-aeb3-7e8dd523f7fd",
   "metadata": {
    "id": "8035cb66-5d2a-4c71-aeb3-7e8dd523f7fd"
   },
   "outputs": [],
   "source": [
    "d[True]  = []\n",
    "d[False] = []"
   ]
  },
  {
   "cell_type": "code",
   "execution_count": 128,
   "id": "d56260a3-3652-4dd7-a7df-e5085a757840",
   "metadata": {
    "id": "d56260a3-3652-4dd7-a7df-e5085a757840",
    "outputId": "791fb43f-a34e-4a7b-ab33-5d2a4abdcc6b"
   },
   "outputs": [
    {
     "data": {
      "text/plain": [
       "{True: [], False: []}"
      ]
     },
     "execution_count": 128,
     "metadata": {},
     "output_type": "execute_result"
    }
   ],
   "source": [
    "d"
   ]
  },
  {
   "cell_type": "code",
   "execution_count": 130,
   "id": "fc485923-754c-49c5-bb99-0e47b7b10a91",
   "metadata": {
    "id": "fc485923-754c-49c5-bb99-0e47b7b10a91"
   },
   "outputs": [],
   "source": [
    "for i in g:\n",
    "    d[i[0]] = d[i[0]] + list(i[1])"
   ]
  },
  {
   "cell_type": "code",
   "execution_count": 132,
   "id": "5737d1dc-1860-42af-9979-bde680dda386",
   "metadata": {
    "id": "5737d1dc-1860-42af-9979-bde680dda386",
    "outputId": "3ec1b126-4558-4bc1-ccab-ae6a718dd09a"
   },
   "outputs": [
    {
     "data": {
      "text/plain": [
       "{True: [], False: []}"
      ]
     },
     "execution_count": 132,
     "metadata": {},
     "output_type": "execute_result"
    }
   ],
   "source": [
    "d"
   ]
  },
  {
   "cell_type": "code",
   "execution_count": 134,
   "id": "192a37e1-1963-4f87-a339-cc376a0987b9",
   "metadata": {
    "id": "192a37e1-1963-4f87-a339-cc376a0987b9"
   },
   "outputs": [],
   "source": [
    "import itertools"
   ]
  },
  {
   "cell_type": "code",
   "execution_count": 136,
   "id": "605d4cc6-17b2-4df2-b8fa-fe5d5d9fa077",
   "metadata": {
    "id": "605d4cc6-17b2-4df2-b8fa-fe5d5d9fa077",
    "outputId": "e8ccab91-4c53-4f2b-9122-c7bf9e31e93c"
   },
   "outputs": [
    {
     "data": {
      "text/plain": [
       "['__doc__',\n",
       " '__loader__',\n",
       " '__name__',\n",
       " '__package__',\n",
       " '__spec__',\n",
       " '_grouper',\n",
       " '_tee',\n",
       " '_tee_dataobject',\n",
       " 'accumulate',\n",
       " 'batched',\n",
       " 'chain',\n",
       " 'combinations',\n",
       " 'combinations_with_replacement',\n",
       " 'compress',\n",
       " 'count',\n",
       " 'cycle',\n",
       " 'dropwhile',\n",
       " 'filterfalse',\n",
       " 'groupby',\n",
       " 'islice',\n",
       " 'pairwise',\n",
       " 'permutations',\n",
       " 'product',\n",
       " 'repeat',\n",
       " 'starmap',\n",
       " 'takewhile',\n",
       " 'tee',\n",
       " 'zip_longest']"
      ]
     },
     "execution_count": 136,
     "metadata": {},
     "output_type": "execute_result"
    }
   ],
   "source": [
    "dir(itertools)"
   ]
  },
  {
   "cell_type": "code",
   "execution_count": 138,
   "id": "b7b5d5fc-468f-400d-b6cd-3a9ee4eece0e",
   "metadata": {
    "id": "b7b5d5fc-468f-400d-b6cd-3a9ee4eece0e",
    "outputId": "dbbc390c-77b1-4208-8309-85c45da94e3a"
   },
   "outputs": [
    {
     "name": "stdout",
     "output_type": "stream",
     "text": [
      "Help on class islice in module itertools:\n",
      "\n",
      "class islice(builtins.object)\n",
      " |  islice(iterable, stop) --> islice object\n",
      " |  islice(iterable, start, stop[, step]) --> islice object\n",
      " |\n",
      " |  Return an iterator whose next() method returns selected values from an\n",
      " |  iterable.  If start is specified, will skip all preceding elements;\n",
      " |  otherwise, start defaults to zero.  Step defaults to one.  If\n",
      " |  specified as another value, step determines how many values are\n",
      " |  skipped between successive calls.  Works like a slice() on a list\n",
      " |  but returns an iterator.\n",
      " |\n",
      " |  Methods defined here:\n",
      " |\n",
      " |  __getattribute__(self, name, /)\n",
      " |      Return getattr(self, name).\n",
      " |\n",
      " |  __iter__(self, /)\n",
      " |      Implement iter(self).\n",
      " |\n",
      " |  __next__(self, /)\n",
      " |      Implement next(self).\n",
      " |\n",
      " |  __reduce__(...)\n",
      " |      Return state information for pickling.\n",
      " |\n",
      " |  __setstate__(...)\n",
      " |      Set state information for unpickling.\n",
      " |\n",
      " |  ----------------------------------------------------------------------\n",
      " |  Static methods defined here:\n",
      " |\n",
      " |  __new__(*args, **kwargs)\n",
      " |      Create and return a new object.  See help(type) for accurate signature.\n",
      "\n"
     ]
    }
   ],
   "source": [
    "help(itertools.islice)"
   ]
  },
  {
   "cell_type": "code",
   "execution_count": 140,
   "id": "0eb49291-9f36-4b81-8657-8fcb4df77642",
   "metadata": {
    "id": "0eb49291-9f36-4b81-8657-8fcb4df77642",
    "outputId": "fd0cf00e-dc78-4831-9baf-ccacc6dee08d"
   },
   "outputs": [
    {
     "data": {
      "text/plain": [
       "'oKn'"
      ]
     },
     "execution_count": 140,
     "metadata": {},
     "output_type": "execute_result"
    }
   ],
   "source": [
    "\"LionKing\"[2:8:2]"
   ]
  },
  {
   "cell_type": "code",
   "execution_count": 141,
   "id": "8d95f299-674f-41bc-baf4-18bffe0bf34d",
   "metadata": {
    "id": "8d95f299-674f-41bc-baf4-18bffe0bf34d",
    "outputId": "9d59e0ec-ff21-4475-eccc-837689141665"
   },
   "outputs": [
    {
     "name": "stdout",
     "output_type": "stream",
     "text": [
      "o\n",
      "K\n",
      "n\n"
     ]
    }
   ],
   "source": [
    "for i in itertools.islice(\"LionKing\", 2, 8, 2):\n",
    "    print(i)"
   ]
  },
  {
   "cell_type": "code",
   "execution_count": 143,
   "id": "2b7b72f4-e0bd-4088-bd87-3e2e7e7a8a37",
   "metadata": {
    "id": "2b7b72f4-e0bd-4088-bd87-3e2e7e7a8a37"
   },
   "outputs": [],
   "source": [
    "## ABC -> Triangle -> BAC , CAB , ACB -> combination\n",
    "## ABC -> Sequence -> ABC != BAC != CAB etc -> permutation\n"
   ]
  },
  {
   "cell_type": "code",
   "execution_count": 29,
   "id": "74b842e4-c4ab-48b7-9068-0f8fecea8c9f",
   "metadata": {
    "id": "74b842e4-c4ab-48b7-9068-0f8fecea8c9f",
    "outputId": "6fd5311d-1774-4e74-c8fe-83f51cdc593d"
   },
   "outputs": [
    {
     "name": "stdout",
     "output_type": "stream",
     "text": [
      "(10, 12, 31)\n",
      "(10, 12, 14)\n",
      "(10, 31, 12)\n",
      "(10, 31, 14)\n",
      "(10, 14, 12)\n",
      "(10, 14, 31)\n",
      "(12, 10, 31)\n",
      "(12, 10, 14)\n",
      "(12, 31, 10)\n",
      "(12, 31, 14)\n",
      "(12, 14, 10)\n",
      "(12, 14, 31)\n",
      "(31, 10, 12)\n",
      "(31, 10, 14)\n",
      "(31, 12, 10)\n",
      "(31, 12, 14)\n",
      "(31, 14, 10)\n",
      "(31, 14, 12)\n",
      "(14, 10, 12)\n",
      "(14, 10, 31)\n",
      "(14, 12, 10)\n",
      "(14, 12, 31)\n",
      "(14, 31, 10)\n",
      "(14, 31, 12)\n"
     ]
    }
   ],
   "source": [
    "for i in itertools.permutations([10,12,31,14], 3):\n",
    "    print(i)"
   ]
  },
  {
   "cell_type": "code",
   "execution_count": 146,
   "id": "657d4652-b016-4720-a0b3-2220d80c17f6",
   "metadata": {
    "id": "657d4652-b016-4720-a0b3-2220d80c17f6",
    "outputId": "6a14ceb9-68db-45c2-8198-9478c65ed14c"
   },
   "outputs": [
    {
     "data": {
      "text/plain": [
       "24"
      ]
     },
     "execution_count": 146,
     "metadata": {},
     "output_type": "execute_result"
    }
   ],
   "source": [
    "4 * 3 * 2"
   ]
  },
  {
   "cell_type": "code",
   "execution_count": 30,
   "id": "da17e91a-2dbf-4dab-a6f8-02f80e1b5e25",
   "metadata": {
    "id": "da17e91a-2dbf-4dab-a6f8-02f80e1b5e25",
    "outputId": "e49ff8ce-61bc-4949-cc01-a5160d8f89d5"
   },
   "outputs": [
    {
     "name": "stdout",
     "output_type": "stream",
     "text": [
      "(1, 4)\n",
      "(1, 5)\n",
      "(2, 4)\n",
      "(2, 5)\n",
      "(3, 4)\n",
      "(3, 5)\n",
      "(10, 4)\n",
      "(10, 5)\n"
     ]
    }
   ],
   "source": [
    "for i in itertools.product([1,2,3,10] , [4, 5]):\n",
    "    print(i)"
   ]
  },
  {
   "cell_type": "code",
   "execution_count": 150,
   "id": "00935efb-dc8c-4efe-94c3-88d42b5f1d61",
   "metadata": {
    "id": "00935efb-dc8c-4efe-94c3-88d42b5f1d61"
   },
   "outputs": [],
   "source": [
    "x = ['1', '2' , '10']"
   ]
  },
  {
   "cell_type": "code",
   "execution_count": 153,
   "id": "79bc73c0-2569-4096-aec9-ba27039b496d",
   "metadata": {
    "id": "79bc73c0-2569-4096-aec9-ba27039b496d",
    "outputId": "f68372e8-e53e-42ff-b332-0a1c68009b15"
   },
   "outputs": [
    {
     "name": "stdout",
     "output_type": "stream",
     "text": [
      "1\n",
      "2\n",
      "10\n"
     ]
    }
   ],
   "source": [
    "for i in map(int, x):\n",
    "    print(i)"
   ]
  },
  {
   "cell_type": "code",
   "execution_count": 154,
   "id": "0d116033-5c8d-47a6-a809-4e24e4998199",
   "metadata": {
    "id": "0d116033-5c8d-47a6-a809-4e24e4998199"
   },
   "outputs": [],
   "source": [
    "def addN(x, N):\n",
    "    return x + N"
   ]
  },
  {
   "cell_type": "code",
   "execution_count": 157,
   "id": "1e003eb9-a8ff-4101-b187-0c8d9eef6946",
   "metadata": {
    "id": "1e003eb9-a8ff-4101-b187-0c8d9eef6946"
   },
   "outputs": [],
   "source": [
    "x = [9, 6, 11, 2, 10, 4]"
   ]
  },
  {
   "cell_type": "code",
   "execution_count": 159,
   "id": "82c42055-36ef-41ae-814a-0e6489e78d44",
   "metadata": {
    "id": "82c42055-36ef-41ae-814a-0e6489e78d44",
    "outputId": "e5adf46a-6d89-4d06-c1a4-e5c2b55dc91f"
   },
   "outputs": [
    {
     "data": {
      "text/plain": [
       "[9, 7, 13, 5, 14, 9]"
      ]
     },
     "execution_count": 159,
     "metadata": {},
     "output_type": "execute_result"
    }
   ],
   "source": [
    "[ i + idx for idx, i in enumerate(x, 0)]"
   ]
  },
  {
   "cell_type": "code",
   "execution_count": 163,
   "id": "01811756-e97f-4532-8749-a2394a3c24a1",
   "metadata": {
    "id": "01811756-e97f-4532-8749-a2394a3c24a1",
    "outputId": "04d8c349-428a-4b56-8f3c-cbacff5ee2e7"
   },
   "outputs": [
    {
     "data": {
      "text/plain": [
       "[9, 7, 13, 5, 14, 9]"
      ]
     },
     "execution_count": 163,
     "metadata": {},
     "output_type": "execute_result"
    }
   ],
   "source": [
    "[i for i in itertools.starmap(addN, enumerate(x, 0))]"
   ]
  },
  {
   "cell_type": "code",
   "execution_count": 165,
   "id": "64e1b0b2-b35f-4281-9947-49d0a3d59200",
   "metadata": {
    "id": "64e1b0b2-b35f-4281-9947-49d0a3d59200",
    "outputId": "656a11ee-cbfc-4510-cd00-4d7b91a79c85"
   },
   "outputs": [
    {
     "data": {
      "text/plain": [
       "<itertools.starmap at 0x1862d0e6f80>"
      ]
     },
     "execution_count": 165,
     "metadata": {},
     "output_type": "execute_result"
    }
   ],
   "source": [
    "itertools.starmap(addN, [(9, 0), (6,1), (11,2)])"
   ]
  },
  {
   "cell_type": "code",
   "execution_count": 167,
   "id": "81d51c8b-7bcb-488b-893b-2216586a2695",
   "metadata": {
    "id": "81d51c8b-7bcb-488b-893b-2216586a2695"
   },
   "outputs": [],
   "source": [
    "a, b, c = itertools.tee([1,10,3], 3)"
   ]
  },
  {
   "cell_type": "code",
   "execution_count": 169,
   "id": "827fc0d9-5421-4aea-bbc8-29615d83534f",
   "metadata": {
    "id": "827fc0d9-5421-4aea-bbc8-29615d83534f",
    "outputId": "e7d54417-5c7c-4c94-a787-4d385cdabe48"
   },
   "outputs": [
    {
     "data": {
      "text/plain": [
       "<itertools._tee at 0x1862db5b240>"
      ]
     },
     "execution_count": 169,
     "metadata": {},
     "output_type": "execute_result"
    }
   ],
   "source": [
    "a"
   ]
  },
  {
   "cell_type": "code",
   "execution_count": 170,
   "id": "4478cf14-597b-4b61-82e1-a01e6bc8faa4",
   "metadata": {
    "id": "4478cf14-597b-4b61-82e1-a01e6bc8faa4",
    "outputId": "d9591fac-35c8-4085-c14f-78d06f33ff34"
   },
   "outputs": [
    {
     "data": {
      "text/plain": [
       "<itertools._tee at 0x1862dbe6100>"
      ]
     },
     "execution_count": 170,
     "metadata": {},
     "output_type": "execute_result"
    }
   ],
   "source": [
    "b"
   ]
  },
  {
   "cell_type": "code",
   "execution_count": 172,
   "id": "f6072c0e-bb9d-4d54-8026-50b1efdfb239",
   "metadata": {
    "id": "f6072c0e-bb9d-4d54-8026-50b1efdfb239",
    "outputId": "b1eb5f1d-b72b-4806-9472-891dc886513a"
   },
   "outputs": [
    {
     "data": {
      "text/plain": [
       "<itertools._tee at 0x1862dbe5f40>"
      ]
     },
     "execution_count": 172,
     "metadata": {},
     "output_type": "execute_result"
    }
   ],
   "source": [
    "c"
   ]
  },
  {
   "cell_type": "code",
   "execution_count": 174,
   "id": "4dc9e3ba-bfc7-4807-959b-c23a701e6780",
   "metadata": {
    "id": "4dc9e3ba-bfc7-4807-959b-c23a701e6780"
   },
   "outputs": [],
   "source": [
    "x = [1, 10, 9]\n",
    "y = [8, 9]"
   ]
  },
  {
   "cell_type": "code",
   "execution_count": 177,
   "id": "804347d5-d5c2-49cf-ae7f-485ee54a1ef4",
   "metadata": {
    "id": "804347d5-d5c2-49cf-ae7f-485ee54a1ef4",
    "outputId": "e048de0b-1217-42f5-fe9b-43cbd87f1dfc"
   },
   "outputs": [
    {
     "data": {
      "text/plain": [
       "[(1, 8), (10, 9)]"
      ]
     },
     "execution_count": 177,
     "metadata": {},
     "output_type": "execute_result"
    }
   ],
   "source": [
    "list(zip(x, y))"
   ]
  },
  {
   "cell_type": "code",
   "execution_count": 179,
   "id": "00d7b050-dc0c-49ab-8a78-97455aad1030",
   "metadata": {
    "id": "00d7b050-dc0c-49ab-8a78-97455aad1030",
    "outputId": "07f8db4a-06e5-4ada-c64f-3fe957241ff4"
   },
   "outputs": [
    {
     "data": {
      "text/plain": [
       "[(1, 8), (10, 9), (9, 100)]"
      ]
     },
     "execution_count": 179,
     "metadata": {},
     "output_type": "execute_result"
    }
   ],
   "source": [
    "list(itertools.zip_longest(x, y,  fillvalue = 100))"
   ]
  },
  {
   "cell_type": "code",
   "execution_count": 181,
   "id": "617d28a0-8b4e-45f7-9be4-87b05bb0dbe4",
   "metadata": {
    "id": "617d28a0-8b4e-45f7-9be4-87b05bb0dbe4",
    "outputId": "04126e4d-28c1-4e83-fc3d-45f40c1f7137"
   },
   "outputs": [
    {
     "name": "stdout",
     "output_type": "stream",
     "text": [
      "Help on class zip_longest in module itertools:\n",
      "\n",
      "class zip_longest(builtins.object)\n",
      " |  zip_longest(iter1 [,iter2 [...]], [fillvalue=None]) --> zip_longest object\n",
      " |\n",
      " |  Return a zip_longest object whose .__next__() method returns a tuple where\n",
      " |  the i-th element comes from the i-th iterable argument.  The .__next__()\n",
      " |  method continues until the longest iterable in the argument sequence\n",
      " |  is exhausted and then it raises StopIteration.  When the shorter iterables\n",
      " |  are exhausted, the fillvalue is substituted in their place.  The fillvalue\n",
      " |  defaults to None or can be specified by a keyword argument.\n",
      " |\n",
      " |  Methods defined here:\n",
      " |\n",
      " |  __getattribute__(self, name, /)\n",
      " |      Return getattr(self, name).\n",
      " |\n",
      " |  __iter__(self, /)\n",
      " |      Implement iter(self).\n",
      " |\n",
      " |  __next__(self, /)\n",
      " |      Implement next(self).\n",
      " |\n",
      " |  __reduce__(...)\n",
      " |      Return state information for pickling.\n",
      " |\n",
      " |  __setstate__(...)\n",
      " |      Set state information for unpickling.\n",
      " |\n",
      " |  ----------------------------------------------------------------------\n",
      " |  Static methods defined here:\n",
      " |\n",
      " |  __new__(*args, **kwargs)\n",
      " |      Create and return a new object.  See help(type) for accurate signature.\n",
      "\n"
     ]
    }
   ],
   "source": [
    "help(itertools.zip_longest)"
   ]
  },
  {
   "cell_type": "code",
   "execution_count": null,
   "id": "ecefd41d-af7e-4f12-ba8a-91e626b8ecf4",
   "metadata": {
    "id": "ecefd41d-af7e-4f12-ba8a-91e626b8ecf4"
   },
   "outputs": [],
   "source": [
    "def fun(i=0,k=k l=[], s=''):\n",
    "    s+=S[i]\n",
    "    if i>=k:\n",
    "        i"
   ]
  },
  {
   "cell_type": "code",
   "execution_count": null,
   "id": "35c26911-ee1a-4d36-b06e-6d074327fa70",
   "metadata": {},
   "outputs": [],
   "source": []
  },
  {
   "cell_type": "code",
   "execution_count": null,
   "id": "b0524d6a-de21-4930-a921-6b8a47c691b1",
   "metadata": {},
   "outputs": [],
   "source": []
  }
 ],
 "metadata": {
  "colab": {
   "provenance": [],
   "toc_visible": true
  },
  "kernelspec": {
   "display_name": "Python 3 (ipykernel)",
   "language": "python",
   "name": "python3"
  },
  "language_info": {
   "codemirror_mode": {
    "name": "ipython",
    "version": 3
   },
   "file_extension": ".py",
   "mimetype": "text/x-python",
   "name": "python",
   "nbconvert_exporter": "python",
   "pygments_lexer": "ipython3",
   "version": "3.12.7"
  }
 },
 "nbformat": 4,
 "nbformat_minor": 5
}
