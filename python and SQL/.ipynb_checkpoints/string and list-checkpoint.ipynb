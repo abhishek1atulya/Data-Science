{
 "cells": [
  {
   "cell_type": "markdown",
   "id": "4ead4018",
   "metadata": {},
   "source": [
    "## STRING"
   ]
  },
  {
   "cell_type": "code",
   "execution_count": 1,
   "id": "26993b50",
   "metadata": {
    "scrolled": true
   },
   "outputs": [
    {
     "name": "stdout",
     "output_type": "stream",
     "text": [
      "Help on class str in module builtins:\n",
      "\n",
      "class str(object)\n",
      " |  str(object='') -> str\n",
      " |  str(bytes_or_buffer[, encoding[, errors]]) -> str\n",
      " |\n",
      " |  Create a new string object from the given object. If encoding or\n",
      " |  errors is specified, then the object must expose a data buffer\n",
      " |  that will be decoded using the given encoding and error handler.\n",
      " |  Otherwise, returns the result of object.__str__() (if defined)\n",
      " |  or repr(object).\n",
      " |  encoding defaults to sys.getdefaultencoding().\n",
      " |  errors defaults to 'strict'.\n",
      " |\n",
      " |  Methods defined here:\n",
      " |\n",
      " |  __add__(self, value, /)\n",
      " |      Return self+value.\n",
      " |\n",
      " |  __contains__(self, key, /)\n",
      " |      Return bool(key in self).\n",
      " |\n",
      " |  __eq__(self, value, /)\n",
      " |      Return self==value.\n",
      " |\n",
      " |  __format__(self, format_spec, /)\n",
      " |      Return a formatted version of the string as described by format_spec.\n",
      " |\n",
      " |  __ge__(self, value, /)\n",
      " |      Return self>=value.\n",
      " |\n",
      " |  __getitem__(self, key, /)\n",
      " |      Return self[key].\n",
      " |\n",
      " |  __getnewargs__(...)\n",
      " |\n",
      " |  __gt__(self, value, /)\n",
      " |      Return self>value.\n",
      " |\n",
      " |  __hash__(self, /)\n",
      " |      Return hash(self).\n",
      " |\n",
      " |  __iter__(self, /)\n",
      " |      Implement iter(self).\n",
      " |\n",
      " |  __le__(self, value, /)\n",
      " |      Return self<=value.\n",
      " |\n",
      " |  __len__(self, /)\n",
      " |      Return len(self).\n",
      " |\n",
      " |  __lt__(self, value, /)\n",
      " |      Return self<value.\n",
      " |\n",
      " |  __mod__(self, value, /)\n",
      " |      Return self%value.\n",
      " |\n",
      " |  __mul__(self, value, /)\n",
      " |      Return self*value.\n",
      " |\n",
      " |  __ne__(self, value, /)\n",
      " |      Return self!=value.\n",
      " |\n",
      " |  __repr__(self, /)\n",
      " |      Return repr(self).\n",
      " |\n",
      " |  __rmod__(self, value, /)\n",
      " |      Return value%self.\n",
      " |\n",
      " |  __rmul__(self, value, /)\n",
      " |      Return value*self.\n",
      " |\n",
      " |  __sizeof__(self, /)\n",
      " |      Return the size of the string in memory, in bytes.\n",
      " |\n",
      " |  __str__(self, /)\n",
      " |      Return str(self).\n",
      " |\n",
      " |  capitalize(self, /)\n",
      " |      Return a capitalized version of the string.\n",
      " |\n",
      " |      More specifically, make the first character have upper case and the rest lower\n",
      " |      case.\n",
      " |\n",
      " |  casefold(self, /)\n",
      " |      Return a version of the string suitable for caseless comparisons.\n",
      " |\n",
      " |  center(self, width, fillchar=' ', /)\n",
      " |      Return a centered string of length width.\n",
      " |\n",
      " |      Padding is done using the specified fill character (default is a space).\n",
      " |\n",
      " |  count(...)\n",
      " |      S.count(sub[, start[, end]]) -> int\n",
      " |\n",
      " |      Return the number of non-overlapping occurrences of substring sub in\n",
      " |      string S[start:end].  Optional arguments start and end are\n",
      " |      interpreted as in slice notation.\n",
      " |\n",
      " |  encode(self, /, encoding='utf-8', errors='strict')\n",
      " |      Encode the string using the codec registered for encoding.\n",
      " |\n",
      " |      encoding\n",
      " |        The encoding in which to encode the string.\n",
      " |      errors\n",
      " |        The error handling scheme to use for encoding errors.\n",
      " |        The default is 'strict' meaning that encoding errors raise a\n",
      " |        UnicodeEncodeError.  Other possible values are 'ignore', 'replace' and\n",
      " |        'xmlcharrefreplace' as well as any other name registered with\n",
      " |        codecs.register_error that can handle UnicodeEncodeErrors.\n",
      " |\n",
      " |  endswith(...)\n",
      " |      S.endswith(suffix[, start[, end]]) -> bool\n",
      " |\n",
      " |      Return True if S ends with the specified suffix, False otherwise.\n",
      " |      With optional start, test S beginning at that position.\n",
      " |      With optional end, stop comparing S at that position.\n",
      " |      suffix can also be a tuple of strings to try.\n",
      " |\n",
      " |  expandtabs(self, /, tabsize=8)\n",
      " |      Return a copy where all tab characters are expanded using spaces.\n",
      " |\n",
      " |      If tabsize is not given, a tab size of 8 characters is assumed.\n",
      " |\n",
      " |  find(...)\n",
      " |      S.find(sub[, start[, end]]) -> int\n",
      " |\n",
      " |      Return the lowest index in S where substring sub is found,\n",
      " |      such that sub is contained within S[start:end].  Optional\n",
      " |      arguments start and end are interpreted as in slice notation.\n",
      " |\n",
      " |      Return -1 on failure.\n",
      " |\n",
      " |  format(...)\n",
      " |      S.format(*args, **kwargs) -> str\n",
      " |\n",
      " |      Return a formatted version of S, using substitutions from args and kwargs.\n",
      " |      The substitutions are identified by braces ('{' and '}').\n",
      " |\n",
      " |  format_map(...)\n",
      " |      S.format_map(mapping) -> str\n",
      " |\n",
      " |      Return a formatted version of S, using substitutions from mapping.\n",
      " |      The substitutions are identified by braces ('{' and '}').\n",
      " |\n",
      " |  index(...)\n",
      " |      S.index(sub[, start[, end]]) -> int\n",
      " |\n",
      " |      Return the lowest index in S where substring sub is found,\n",
      " |      such that sub is contained within S[start:end].  Optional\n",
      " |      arguments start and end are interpreted as in slice notation.\n",
      " |\n",
      " |      Raises ValueError when the substring is not found.\n",
      " |\n",
      " |  isalnum(self, /)\n",
      " |      Return True if the string is an alpha-numeric string, False otherwise.\n",
      " |\n",
      " |      A string is alpha-numeric if all characters in the string are alpha-numeric and\n",
      " |      there is at least one character in the string.\n",
      " |\n",
      " |  isalpha(self, /)\n",
      " |      Return True if the string is an alphabetic string, False otherwise.\n",
      " |\n",
      " |      A string is alphabetic if all characters in the string are alphabetic and there\n",
      " |      is at least one character in the string.\n",
      " |\n",
      " |  isascii(self, /)\n",
      " |      Return True if all characters in the string are ASCII, False otherwise.\n",
      " |\n",
      " |      ASCII characters have code points in the range U+0000-U+007F.\n",
      " |      Empty string is ASCII too.\n",
      " |\n",
      " |  isdecimal(self, /)\n",
      " |      Return True if the string is a decimal string, False otherwise.\n",
      " |\n",
      " |      A string is a decimal string if all characters in the string are decimal and\n",
      " |      there is at least one character in the string.\n",
      " |\n",
      " |  isdigit(self, /)\n",
      " |      Return True if the string is a digit string, False otherwise.\n",
      " |\n",
      " |      A string is a digit string if all characters in the string are digits and there\n",
      " |      is at least one character in the string.\n",
      " |\n",
      " |  isidentifier(self, /)\n",
      " |      Return True if the string is a valid Python identifier, False otherwise.\n",
      " |\n",
      " |      Call keyword.iskeyword(s) to test whether string s is a reserved identifier,\n",
      " |      such as \"def\" or \"class\".\n",
      " |\n",
      " |  islower(self, /)\n",
      " |      Return True if the string is a lowercase string, False otherwise.\n",
      " |\n",
      " |      A string is lowercase if all cased characters in the string are lowercase and\n",
      " |      there is at least one cased character in the string.\n",
      " |\n",
      " |  isnumeric(self, /)\n",
      " |      Return True if the string is a numeric string, False otherwise.\n",
      " |\n",
      " |      A string is numeric if all characters in the string are numeric and there is at\n",
      " |      least one character in the string.\n",
      " |\n",
      " |  isprintable(self, /)\n",
      " |      Return True if the string is printable, False otherwise.\n",
      " |\n",
      " |      A string is printable if all of its characters are considered printable in\n",
      " |      repr() or if it is empty.\n",
      " |\n",
      " |  isspace(self, /)\n",
      " |      Return True if the string is a whitespace string, False otherwise.\n",
      " |\n",
      " |      A string is whitespace if all characters in the string are whitespace and there\n",
      " |      is at least one character in the string.\n",
      " |\n",
      " |  istitle(self, /)\n",
      " |      Return True if the string is a title-cased string, False otherwise.\n",
      " |\n",
      " |      In a title-cased string, upper- and title-case characters may only\n",
      " |      follow uncased characters and lowercase characters only cased ones.\n",
      " |\n",
      " |  isupper(self, /)\n",
      " |      Return True if the string is an uppercase string, False otherwise.\n",
      " |\n",
      " |      A string is uppercase if all cased characters in the string are uppercase and\n",
      " |      there is at least one cased character in the string.\n",
      " |\n",
      " |  join(self, iterable, /)\n",
      " |      Concatenate any number of strings.\n",
      " |\n",
      " |      The string whose method is called is inserted in between each given string.\n",
      " |      The result is returned as a new string.\n",
      " |\n",
      " |      Example: '.'.join(['ab', 'pq', 'rs']) -> 'ab.pq.rs'\n",
      " |\n",
      " |  ljust(self, width, fillchar=' ', /)\n",
      " |      Return a left-justified string of length width.\n",
      " |\n",
      " |      Padding is done using the specified fill character (default is a space).\n",
      " |\n",
      " |  lower(self, /)\n",
      " |      Return a copy of the string converted to lowercase.\n",
      " |\n",
      " |  lstrip(self, chars=None, /)\n",
      " |      Return a copy of the string with leading whitespace removed.\n",
      " |\n",
      " |      If chars is given and not None, remove characters in chars instead.\n",
      " |\n",
      " |  partition(self, sep, /)\n",
      " |      Partition the string into three parts using the given separator.\n",
      " |\n",
      " |      This will search for the separator in the string.  If the separator is found,\n",
      " |      returns a 3-tuple containing the part before the separator, the separator\n",
      " |      itself, and the part after it.\n",
      " |\n",
      " |      If the separator is not found, returns a 3-tuple containing the original string\n",
      " |      and two empty strings.\n",
      " |\n",
      " |  removeprefix(self, prefix, /)\n",
      " |      Return a str with the given prefix string removed if present.\n",
      " |\n",
      " |      If the string starts with the prefix string, return string[len(prefix):].\n",
      " |      Otherwise, return a copy of the original string.\n",
      " |\n",
      " |  removesuffix(self, suffix, /)\n",
      " |      Return a str with the given suffix string removed if present.\n",
      " |\n",
      " |      If the string ends with the suffix string and that suffix is not empty,\n",
      " |      return string[:-len(suffix)]. Otherwise, return a copy of the original\n",
      " |      string.\n",
      " |\n",
      " |  replace(self, old, new, count=-1, /)\n",
      " |      Return a copy with all occurrences of substring old replaced by new.\n",
      " |\n",
      " |        count\n",
      " |          Maximum number of occurrences to replace.\n",
      " |          -1 (the default value) means replace all occurrences.\n",
      " |\n",
      " |      If the optional argument count is given, only the first count occurrences are\n",
      " |      replaced.\n",
      " |\n",
      " |  rfind(...)\n",
      " |      S.rfind(sub[, start[, end]]) -> int\n",
      " |\n",
      " |      Return the highest index in S where substring sub is found,\n",
      " |      such that sub is contained within S[start:end].  Optional\n",
      " |      arguments start and end are interpreted as in slice notation.\n",
      " |\n",
      " |      Return -1 on failure.\n",
      " |\n",
      " |  rindex(...)\n",
      " |      S.rindex(sub[, start[, end]]) -> int\n",
      " |\n",
      " |      Return the highest index in S where substring sub is found,\n",
      " |      such that sub is contained within S[start:end].  Optional\n",
      " |      arguments start and end are interpreted as in slice notation.\n",
      " |\n",
      " |      Raises ValueError when the substring is not found.\n",
      " |\n",
      " |  rjust(self, width, fillchar=' ', /)\n",
      " |      Return a right-justified string of length width.\n",
      " |\n",
      " |      Padding is done using the specified fill character (default is a space).\n",
      " |\n",
      " |  rpartition(self, sep, /)\n",
      " |      Partition the string into three parts using the given separator.\n",
      " |\n",
      " |      This will search for the separator in the string, starting at the end. If\n",
      " |      the separator is found, returns a 3-tuple containing the part before the\n",
      " |      separator, the separator itself, and the part after it.\n",
      " |\n",
      " |      If the separator is not found, returns a 3-tuple containing two empty strings\n",
      " |      and the original string.\n",
      " |\n",
      " |  rsplit(self, /, sep=None, maxsplit=-1)\n",
      " |      Return a list of the substrings in the string, using sep as the separator string.\n",
      " |\n",
      " |        sep\n",
      " |          The separator used to split the string.\n",
      " |\n",
      " |          When set to None (the default value), will split on any whitespace\n",
      " |          character (including \\n \\r \\t \\f and spaces) and will discard\n",
      " |          empty strings from the result.\n",
      " |        maxsplit\n",
      " |          Maximum number of splits.\n",
      " |          -1 (the default value) means no limit.\n",
      " |\n",
      " |      Splitting starts at the end of the string and works to the front.\n",
      " |\n",
      " |  rstrip(self, chars=None, /)\n",
      " |      Return a copy of the string with trailing whitespace removed.\n",
      " |\n",
      " |      If chars is given and not None, remove characters in chars instead.\n",
      " |\n",
      " |  split(self, /, sep=None, maxsplit=-1)\n",
      " |      Return a list of the substrings in the string, using sep as the separator string.\n",
      " |\n",
      " |        sep\n",
      " |          The separator used to split the string.\n",
      " |\n",
      " |          When set to None (the default value), will split on any whitespace\n",
      " |          character (including \\n \\r \\t \\f and spaces) and will discard\n",
      " |          empty strings from the result.\n",
      " |        maxsplit\n",
      " |          Maximum number of splits.\n",
      " |          -1 (the default value) means no limit.\n",
      " |\n",
      " |      Splitting starts at the front of the string and works to the end.\n",
      " |\n",
      " |      Note, str.split() is mainly useful for data that has been intentionally\n",
      " |      delimited.  With natural text that includes punctuation, consider using\n",
      " |      the regular expression module.\n",
      " |\n",
      " |  splitlines(self, /, keepends=False)\n",
      " |      Return a list of the lines in the string, breaking at line boundaries.\n",
      " |\n",
      " |      Line breaks are not included in the resulting list unless keepends is given and\n",
      " |      true.\n",
      " |\n",
      " |  startswith(...)\n",
      " |      S.startswith(prefix[, start[, end]]) -> bool\n",
      " |\n",
      " |      Return True if S starts with the specified prefix, False otherwise.\n",
      " |      With optional start, test S beginning at that position.\n",
      " |      With optional end, stop comparing S at that position.\n",
      " |      prefix can also be a tuple of strings to try.\n",
      " |\n",
      " |  strip(self, chars=None, /)\n",
      " |      Return a copy of the string with leading and trailing whitespace removed.\n",
      " |\n",
      " |      If chars is given and not None, remove characters in chars instead.\n",
      " |\n",
      " |  swapcase(self, /)\n",
      " |      Convert uppercase characters to lowercase and lowercase characters to uppercase.\n",
      " |\n",
      " |  title(self, /)\n",
      " |      Return a version of the string where each word is titlecased.\n",
      " |\n",
      " |      More specifically, words start with uppercased characters and all remaining\n",
      " |      cased characters have lower case.\n",
      " |\n",
      " |  translate(self, table, /)\n",
      " |      Replace each character in the string using the given translation table.\n",
      " |\n",
      " |        table\n",
      " |          Translation table, which must be a mapping of Unicode ordinals to\n",
      " |          Unicode ordinals, strings, or None.\n",
      " |\n",
      " |      The table must implement lookup/indexing via __getitem__, for instance a\n",
      " |      dictionary or list.  If this operation raises LookupError, the character is\n",
      " |      left untouched.  Characters mapped to None are deleted.\n",
      " |\n",
      " |  upper(self, /)\n",
      " |      Return a copy of the string converted to uppercase.\n",
      " |\n",
      " |  zfill(self, width, /)\n",
      " |      Pad a numeric string with zeros on the left, to fill a field of the given width.\n",
      " |\n",
      " |      The string is never truncated.\n",
      " |\n",
      " |  ----------------------------------------------------------------------\n",
      " |  Static methods defined here:\n",
      " |\n",
      " |  __new__(*args, **kwargs)\n",
      " |      Create and return a new object.  See help(type) for accurate signature.\n",
      " |\n",
      " |  maketrans(...)\n",
      " |      Return a translation table usable for str.translate().\n",
      " |\n",
      " |      If there is only one argument, it must be a dictionary mapping Unicode\n",
      " |      ordinals (integers) or characters to Unicode ordinals, strings or None.\n",
      " |      Character keys will be then converted to ordinals.\n",
      " |      If there are two arguments, they must be strings of equal length, and\n",
      " |      in the resulting dictionary, each character in x will be mapped to the\n",
      " |      character at the same position in y. If there is a third argument, it\n",
      " |      must be a string, whose characters will be mapped to None in the result.\n",
      "\n"
     ]
    }
   ],
   "source": [
    "help(str)"
   ]
  },
  {
   "cell_type": "code",
   "execution_count": null,
   "id": "402e8381",
   "metadata": {},
   "outputs": [],
   "source": [
    "s='hello \\nstring'\n",
    "print(s)\n",
    "a = repr(s)\n",
    "print(a)"
   ]
  },
  {
   "cell_type": "code",
   "execution_count": null,
   "id": "d721db78",
   "metadata": {},
   "outputs": [],
   "source": [
    "s='twinkle'\n",
    "s.__sizeof__()"
   ]
  },
  {
   "cell_type": "code",
   "execution_count": null,
   "id": "20a37a5a",
   "metadata": {},
   "outputs": [],
   "source": [
    "s='string'\n",
    "p = iter(s)\n",
    "p"
   ]
  },
  {
   "cell_type": "code",
   "execution_count": null,
   "id": "56338966-e096-42af-af49-5a0170886dc3",
   "metadata": {},
   "outputs": [],
   "source": [
    "int('1c264f3a8c0',base=16)"
   ]
  },
  {
   "cell_type": "code",
   "execution_count": null,
   "id": "9d5e06bf-624e-4a4e-bf83-2ff6db8e5aaa",
   "metadata": {},
   "outputs": [],
   "source": [
    "id(p)"
   ]
  },
  {
   "cell_type": "code",
   "execution_count": null,
   "id": "a3536c36-a093-4f54-8220-bc45641ccf47",
   "metadata": {
    "scrolled": true
   },
   "outputs": [],
   "source": [
    "id(s)"
   ]
  },
  {
   "cell_type": "code",
   "execution_count": null,
   "id": "bd44987d-e472-4ee3-9bfc-9dabd07f7c21",
   "metadata": {
    "scrolled": true
   },
   "outputs": [],
   "source": [
    "int('1237653',base=8)"
   ]
  },
  {
   "cell_type": "code",
   "execution_count": null,
   "id": "3b86edaa-4c7f-43db-bc8a-c99e77a74083",
   "metadata": {},
   "outputs": [],
   "source": [
    "next(p)"
   ]
  },
  {
   "cell_type": "code",
   "execution_count": null,
   "id": "e9208940-469e-4014-a7f1-a74948cc8412",
   "metadata": {
    "scrolled": true
   },
   "outputs": [],
   "source": [
    "next(p)"
   ]
  },
  {
   "cell_type": "code",
   "execution_count": null,
   "id": "dd145ac6-da86-4ed9-94ca-467d1a2dec70",
   "metadata": {},
   "outputs": [],
   "source": [
    "p = reversed(s)"
   ]
  },
  {
   "cell_type": "code",
   "execution_count": null,
   "id": "6fb9df12-85de-478f-a25f-535c094e990a",
   "metadata": {},
   "outputs": [],
   "source": [
    "next(p)"
   ]
  },
  {
   "cell_type": "code",
   "execution_count": null,
   "id": "8ac2b3f1-7f40-4fad-87be-af45e514e8fa",
   "metadata": {},
   "outputs": [],
   "source": [
    "s='string'\n",
    "for p in reversed(s):\n",
    "    print(p)\n",
    "    print('something')\n",
    "print(s)"
   ]
  },
  {
   "cell_type": "code",
   "execution_count": null,
   "id": "9b55a010-a58b-4c86-a64c-1dda70c89dd4",
   "metadata": {},
   "outputs": [],
   "source": [
    "range(-10)"
   ]
  },
  {
   "cell_type": "code",
   "execution_count": 4,
   "id": "d1b5486d-272b-4e04-b75c-62db071447d8",
   "metadata": {},
   "outputs": [
    {
     "name": "stdout",
     "output_type": "stream",
     "text": [
      "1\n",
      "3\n",
      "5\n",
      "7\n",
      "9\n"
     ]
    }
   ],
   "source": [
    "for i in range(1,10,2):\n",
    "    print(i)"
   ]
  },
  {
   "cell_type": "code",
   "execution_count": 5,
   "id": "55b5191d-714c-4438-88bb-286c3c77e5b4",
   "metadata": {},
   "outputs": [
    {
     "data": {
      "text/plain": [
       "'2  '"
      ]
     },
     "execution_count": 5,
     "metadata": {},
     "output_type": "execute_result"
    }
   ],
   "source": [
    "str(2).ljust(2)"
   ]
  },
  {
   "cell_type": "code",
   "execution_count": 8,
   "id": "381cf266-5935-488e-89bc-0050c88bc330",
   "metadata": {},
   "outputs": [
    {
     "name": "stdout",
     "output_type": "stream",
     "text": [
      "2   3   6   8   15 \n",
      "4   6   12  16  30 \n",
      "6   9   18  24  45 \n",
      "8   12  24  32  60 \n",
      "10  15  30  40  75 \n",
      "12  18  36  48  90 \n",
      "14  21  42  56  105\n",
      "16  24  48  64  120\n",
      "18  27  54  72  135\n",
      "20  30  60  80  150\n"
     ]
    }
   ],
   "source": [
    "# create tables of 2,3,6,8,15\n",
    "for i in range(1,11):\n",
    "    print(str(i*2).ljust(2),str(i*3).ljust(2),str(i*6).ljust(2),str(i*8).ljust(2),str(i*15).ljust(3), sep='  ')"
   ]
  },
  {
   "cell_type": "code",
   "execution_count": 9,
   "id": "280387a8-8582-416f-bc7e-907970a5fe9a",
   "metadata": {},
   "outputs": [],
   "source": [
    "#     *\n",
    "#    * *\n",
    "#   *   *\n",
    "#  *     *\n",
    "# * * * * *\n",
    "# 2*n-1"
   ]
  },
  {
   "cell_type": "code",
   "execution_count": 11,
   "id": "e949d9fe-3a8b-4418-9f29-823031b65e1e",
   "metadata": {},
   "outputs": [
    {
     "name": "stdin",
     "output_type": "stream",
     "text": [
      "enter the number 8\n"
     ]
    },
    {
     "name": "stdout",
     "output_type": "stream",
     "text": [
      "       *       \n",
      "      ***      \n",
      "     *****     \n",
      "    *******    \n",
      "   *********   \n",
      "  ***********  \n",
      " ************* \n",
      "***************\n"
     ]
    }
   ],
   "source": [
    "n = int(input('enter the number'))\n",
    "s= '*'\n",
    "for i in range(1,n+1):\n",
    "    ns = (i*2-1)*s\n",
    "    print(ns.center(2*n-1))"
   ]
  },
  {
   "cell_type": "code",
   "execution_count": 19,
   "id": "67bb27ed-f92a-4d38-b5d6-6c8626c828d4",
   "metadata": {},
   "outputs": [
    {
     "name": "stdin",
     "output_type": "stream",
     "text": [
      "enter the number 7\n"
     ]
    },
    {
     "name": "stdout",
     "output_type": "stream",
     "text": [
      "      *      \n",
      "     *#*     \n",
      "    *###*    \n",
      "   *#####*   \n",
      "  *#######*  \n",
      " *#########* \n",
      "* * * * * * *\n"
     ]
    }
   ],
   "source": [
    "n = int(input('enter the number'))\n",
    "s='*'\n",
    "print(s.center(2*n-1))\n",
    "for i in range(1,n-1):\n",
    "    ns = s+'#'*(2*i-1)+s\n",
    "    print(ns.center(2*n-1))\n",
    "sp=' '\n",
    "nss = (s+sp)*n\n",
    "print(nss[:-1])"
   ]
  },
  {
   "cell_type": "code",
   "execution_count": 22,
   "id": "95aa5bdb-35e3-405e-8ec3-9d1ea72d354a",
   "metadata": {},
   "outputs": [
    {
     "name": "stdin",
     "output_type": "stream",
     "text": [
      "enter the number 9\n"
     ]
    },
    {
     "name": "stdout",
     "output_type": "stream",
     "text": [
      "*                \n",
      "*#*              \n",
      "*###*            \n",
      "*#####*          \n",
      "*#######*        \n",
      "*#########*      \n",
      "*###########*    \n",
      "*#############*  \n",
      "* * * * * * * * *\n"
     ]
    }
   ],
   "source": [
    "# *\n",
    "# * *\n",
    "# *   *\n",
    "# *     *\n",
    "# *       *\n",
    "# * * * * * *\n",
    "n = int(input('enter the number'))\n",
    "s='*'\n",
    "print(s.ljust(2*n-1))\n",
    "for i in range(1,n-1):\n",
    "    ns = s+'#'*(2*i-1)+s\n",
    "    print(ns.ljust(2*n-1))\n",
    "sp=' '\n",
    "nss = (s+sp)*n\n",
    "print(nss[:-1])"
   ]
  },
  {
   "cell_type": "code",
   "execution_count": 23,
   "id": "67a75ff9",
   "metadata": {},
   "outputs": [
    {
     "name": "stdout",
     "output_type": "stream",
     "text": [
      "HELLO, WORLD!\n"
     ]
    }
   ],
   "source": [
    "# imp\n",
    "s = \"hello world\"\n",
    "result = s.upper()\n",
    "print(result) "
   ]
  },
  {
   "cell_type": "code",
   "execution_count": 33,
   "id": "f0d53baf-1113-46f9-b2fa-d166578e0dc4",
   "metadata": {},
   "outputs": [
    {
     "data": {
      "text/plain": [
       "'HELLO WORLD!'"
      ]
     },
     "execution_count": 33,
     "metadata": {},
     "output_type": "execute_result"
    }
   ],
   "source": [
    "s = \"Hello world!\"\n",
    "d = 32\n",
    "ns= ''\n",
    "for i in s:\n",
    "    if i.islower():\n",
    "        c = chr(ord(i)-32)\n",
    "        ns+=c\n",
    "    else:\n",
    "        ns+=i\n",
    "ns"
   ]
  },
  {
   "cell_type": "code",
   "execution_count": 24,
   "id": "6162e19b-7568-4846-b211-46981a2a2e12",
   "metadata": {},
   "outputs": [
    {
     "name": "stdout",
     "output_type": "stream",
     "text": [
      "HELLO, WORLD!\n"
     ]
    }
   ],
   "source": [
    "s = \"hello, world!\"\n",
    "# Q get 'HELLO, WORLD!' without using upper method hint -> use ord() and chr() functions\n",
    "s = \"Hello, world!\"\n",
    "translation_table = {ord('o'): ord('O'), ord('l'): \"L\", ord('r'):'R', ord('e'):'E',ord('d'):\"D\", ord('w'):'W'}\n",
    "result = s.translate(translation_table)\n",
    "print(result) "
   ]
  },
  {
   "cell_type": "code",
   "execution_count": 10,
   "id": "9d51da8c",
   "metadata": {},
   "outputs": [
    {
     "name": "stdout",
     "output_type": "stream",
     "text": [
      "He0, w0Rd!\n",
      "He0, w0rd!\n"
     ]
    }
   ],
   "source": [
    "s = \"Hello, world!\"\n",
    "translation_table = {ord('o'): ord('0'), ord('l'): None, ord('r'):'R'}\n",
    "result = s.translate(translation_table)\n",
    "print(result) \n",
    "s = \"Hello, world!\"\n",
    "translation_table = str.maketrans({'o': '0', 'l': None})\n",
    "result = s.translate(translation_table)\n",
    "print(result) "
   ]
  },
  {
   "cell_type": "code",
   "execution_count": 11,
   "id": "061490d4",
   "metadata": {},
   "outputs": [
    {
     "name": "stdout",
     "output_type": "stream",
     "text": [
      "Hello World 0Abs Trs\n"
     ]
    }
   ],
   "source": [
    "# impo\n",
    "s = \"hello world 0abs trs\"\n",
    "result = s.title()\n",
    "print(result) "
   ]
  },
  {
   "cell_type": "code",
   "execution_count": 12,
   "id": "e09fe21b",
   "metadata": {},
   "outputs": [
    {
     "name": "stdout",
     "output_type": "stream",
     "text": [
      "hELLO, wORLD!\n"
     ]
    }
   ],
   "source": [
    "# impo\n",
    "s = \"Hello, World!\"\n",
    "result = s.swapcase()\n",
    "print(result)  "
   ]
  },
  {
   "cell_type": "code",
   "execution_count": 15,
   "id": "193af203",
   "metadata": {},
   "outputs": [
    {
     "name": "stdout",
     "output_type": "stream",
     "text": [
      "Hello, world!\n",
      "Hello, world!\n",
      "Hello, world!\n"
     ]
    }
   ],
   "source": [
    "# imp\n",
    "s = \"   Hello, world!   \"\n",
    "result = s.strip()\n",
    "print(result)  \n",
    "s = \"-+-Hello, world!-+-\"\n",
    "result = s.strip(\"-+\")\n",
    "print(result)  \n",
    "# Example with default behavior (removing whitespace)\n",
    "s = \"   Hello, world!   \"\n",
    "result = s.strip()\n",
    "print(result) "
   ]
  },
  {
   "cell_type": "code",
   "execution_count": 16,
   "id": "d0c65160-0bf6-451c-b3e0-792b38eeca73",
   "metadata": {},
   "outputs": [
    {
     "data": {
      "text/plain": [
       "'4526096 acs'"
      ]
     },
     "execution_count": 16,
     "metadata": {},
     "output_type": "execute_result"
    }
   ],
   "source": [
    "s=' 123124526096 acs d abccba'\n",
    "s.strip(' 123abcd')\n",
    "# '123124526096 acs d abccb'\n",
    "# '23124526096 acs d abcc'\n",
    "# '3124526096 acs d abc'\n",
    "# '124526096 acs d ab'\n",
    "# '124526096 acs d a'\n",
    "# '24526096 acs d '\n",
    "# '4526096 acs d'\n",
    "# '4526096 acs '\n",
    "# '4526096 acs'"
   ]
  },
  {
   "cell_type": "code",
   "execution_count": 17,
   "id": "a90588cf-a864-44e8-83ef-2c9fb0288550",
   "metadata": {},
   "outputs": [
    {
     "data": {
      "text/plain": [
       "' 123124526096 acs'"
      ]
     },
     "execution_count": 17,
     "metadata": {},
     "output_type": "execute_result"
    }
   ],
   "source": [
    "s=' 123124526096 acs d abccba'\n",
    "s.rstrip(' 123abcd')\n",
    "# ' 123124526096 acs'"
   ]
  },
  {
   "cell_type": "code",
   "execution_count": 18,
   "id": "f3fad676-e220-4dbb-b8e1-d1381d846349",
   "metadata": {},
   "outputs": [
    {
     "data": {
      "text/plain": [
       "'4526096 acs d abccba'"
      ]
     },
     "execution_count": 18,
     "metadata": {},
     "output_type": "execute_result"
    }
   ],
   "source": [
    "s=' 123124526096 acs d abccba'\n",
    "s.lstrip(' 123abcd')\n",
    "# '4526096 acs d abccba'"
   ]
  },
  {
   "cell_type": "code",
   "execution_count": 19,
   "id": "3ea95e08",
   "metadata": {},
   "outputs": [
    {
     "name": "stdout",
     "output_type": "stream",
     "text": [
      "True\n",
      "False\n",
      "False\n"
     ]
    }
   ],
   "source": [
    "# imp\n",
    "s = \"my Hello, world!\"\n",
    "prefixes = (\"Hi\", \"Hello\",'my')\n",
    "result = s.startswith(prefixes)\n",
    "print(result) \n",
    "prefix = \"Hello\"\n",
    "result = s.startswith(prefix)\n",
    "print(result) \n",
    "s = \"Hello, world!\"\n",
    "prefix = \"Hi\"\n",
    "result = s.startswith(prefix)\n",
    "print(result)  "
   ]
  },
  {
   "cell_type": "code",
   "execution_count": 20,
   "id": "7f7da5b2-610b-4b15-9fbe-4bdeff2aff9c",
   "metadata": {},
   "outputs": [
    {
     "name": "stdout",
     "output_type": "stream",
     "text": [
      "True\n",
      "True\n",
      "False\n"
     ]
    }
   ],
   "source": [
    "# imp\n",
    "s = \"my Hello, world!\"\n",
    "suffixes = (\"Hi\", \"world!\",'my')\n",
    "result = s.endswith(suffixes)\n",
    "print(result) \n",
    "suffix = \"Hello\"\n",
    "result = s.endswith('ld!')\n",
    "print(result) \n",
    "s = \"Hello, world!\"\n",
    "suffix = \"Hi\"\n",
    "result = s.endswith(suffix)\n",
    "print(result)  "
   ]
  },
  {
   "cell_type": "code",
   "execution_count": 34,
   "id": "4896f76c",
   "metadata": {},
   "outputs": [
    {
     "data": {
      "text/plain": [
       "17"
      ]
     },
     "execution_count": 34,
     "metadata": {},
     "output_type": "execute_result"
    }
   ],
   "source": [
    "s='this is my string'\n",
    "len(s)"
   ]
  },
  {
   "cell_type": "code",
   "execution_count": 35,
   "id": "08857cf3",
   "metadata": {},
   "outputs": [
    {
     "name": "stdout",
     "output_type": "stream",
     "text": [
      "['Line 1', 'Line 2', 'Line 3']\n",
      "['Line 1\\n', 'Line 2\\n', 'Line 3\\n']\n"
     ]
    }
   ],
   "source": [
    "s = \"Line 1\\nLine 2\\nLine 3\\n\"\n",
    "result = s.splitlines()\n",
    "print(result) \n",
    "# Example with keepends=True\n",
    "s = \"Line 1\\nLine 2\\nLine 3\\n\"\n",
    "result = s.splitlines(keepends=True)\n",
    "print(result)  "
   ]
  },
  {
   "cell_type": "code",
   "execution_count": 37,
   "id": "1813353b-2bf4-4b06-8d7c-625fd37d12fc",
   "metadata": {},
   "outputs": [
    {
     "name": "stdout",
     "output_type": "stream",
     "text": [
      "Line 1\n",
      "Line 2\n",
      "Line 3\n",
      "['Line 1', 'Line 2', 'Line 3']\n"
     ]
    }
   ],
   "source": [
    "s = \"Line 1\\nLine 2\\nLine 3\"\n",
    "print(s)\n",
    "result = s.split('\\n')\n",
    "print(result) "
   ]
  },
  {
   "cell_type": "code",
   "execution_count": 45,
   "id": "18a3aab5",
   "metadata": {},
   "outputs": [
    {
     "name": "stdout",
     "output_type": "stream",
     "text": [
      "['apple', 'banana', 'orange', 'pineapple']\n",
      "['apple', 'ban', '', '', '', '', 'ana', 'orange']\n"
     ]
    }
   ],
   "source": [
    "# impo\n",
    "s = \"apple,banana,orange,pineapple\"\n",
    "result = s.split(',')\n",
    "print(result) \n",
    "# Example with default separator (whitespace)\n",
    "s = \"apple ban     ana orange\"\n",
    "result = s.split(' ')\n",
    "print(result) "
   ]
  },
  {
   "cell_type": "code",
   "execution_count": 46,
   "id": "322b007e-02e0-4dac-915e-39f68f483578",
   "metadata": {},
   "outputs": [
    {
     "name": "stdout",
     "output_type": "stream",
     "text": [
      "['apple', 'banana', 'orange']\n"
     ]
    }
   ],
   "source": [
    "s = \"apple banana      orange\"\n",
    "result = s.split()\n",
    "print(result) "
   ]
  },
  {
   "cell_type": "code",
   "execution_count": 55,
   "id": "5919bc20-ff4c-4647-a05e-a1e96c4ce72b",
   "metadata": {},
   "outputs": [
    {
     "name": "stdout",
     "output_type": "stream",
     "text": [
      "['apple', 'banana', '', '', '', '', '', 'orange']\n"
     ]
    }
   ],
   "source": [
    "s = \"apple banana      orange\"\n",
    "result = s.split(' ')\n",
    "print(result)"
   ]
  },
  {
   "cell_type": "code",
   "execution_count": 53,
   "id": "42688c8b-3845-46c9-8669-fde2a74babf1",
   "metadata": {},
   "outputs": [
    {
     "data": {
      "text/plain": [
       "'abhishek'"
      ]
     },
     "execution_count": 53,
     "metadata": {},
     "output_type": "execute_result"
    }
   ],
   "source": [
    "s= 'abhishek kumar atulya'\n",
    "s.split()[0]"
   ]
  },
  {
   "cell_type": "code",
   "execution_count": 56,
   "id": "cb2886c1-5dbb-4db3-b097-d97a5cb331a3",
   "metadata": {},
   "outputs": [
    {
     "name": "stdout",
     "output_type": "stream",
     "text": [
      "['apple', 'banana,orange']\n",
      "['apple', 'banana', 'orange']\n"
     ]
    }
   ],
   "source": [
    "s = \"apple,banana,orange\"\n",
    "result = s.split(\",\", maxsplit=1)\n",
    "print(result)  \n",
    "# Example with default separator (whitespace)\n",
    "s = \"apple banana orange\"\n",
    "result = s.split()\n",
    "print(result) "
   ]
  },
  {
   "cell_type": "code",
   "execution_count": 57,
   "id": "4aeae088",
   "metadata": {},
   "outputs": [
    {
     "name": "stdout",
     "output_type": "stream",
     "text": [
      "['apple,banana', 'orange']\n",
      "['apple', 'banana', 'orange']\n"
     ]
    }
   ],
   "source": [
    "s = \"apple,banana,orange\"\n",
    "result = s.rsplit(\",\", maxsplit=1)\n",
    "print(result)  \n",
    "# Example with default separator (whitespace)\n",
    "s = \"apple banana orange\"\n",
    "result = s.rsplit()\n",
    "print(result) "
   ]
  },
  {
   "cell_type": "code",
   "execution_count": null,
   "id": "3abc893c",
   "metadata": {},
   "outputs": [],
   "source": [
    "a = input('enter the number ')"
   ]
  },
  {
   "cell_type": "code",
   "execution_count": null,
   "id": "f2eca5e4",
   "metadata": {},
   "outputs": [],
   "source": [
    "a"
   ]
  },
  {
   "cell_type": "code",
   "execution_count": null,
   "id": "27ddab8d",
   "metadata": {},
   "outputs": [],
   "source": [
    "a=4\n",
    "type(a)"
   ]
  },
  {
   "cell_type": "code",
   "execution_count": null,
   "id": "da52be60",
   "metadata": {},
   "outputs": [],
   "source": [
    "float(a)"
   ]
  },
  {
   "cell_type": "code",
   "execution_count": null,
   "id": "00214a91",
   "metadata": {},
   "outputs": [],
   "source": [
    "a='1233'\n",
    "type(a)"
   ]
  },
  {
   "cell_type": "code",
   "execution_count": null,
   "id": "3990ff35",
   "metadata": {},
   "outputs": [],
   "source": [
    "a=float(a)\n",
    "a"
   ]
  },
  {
   "cell_type": "code",
   "execution_count": 59,
   "id": "c8a80c66",
   "metadata": {},
   "outputs": [
    {
     "name": "stdout",
     "output_type": "stream",
     "text": [
      "('Hello', ',', ' hello, world!')\n",
      "('Hello, world!', '', '')\n"
     ]
    }
   ],
   "source": [
    "s = \"Hello, hello, world!\"\n",
    "sep = \",\"\n",
    "result = s.partition(sep)\n",
    "print(result) \n",
    "# Example with separator not found\n",
    "s = \"Hello, world!\"\n",
    "sep = \"z\"\n",
    "result = s.partition(sep)\n",
    "print(result) "
   ]
  },
  {
   "cell_type": "code",
   "execution_count": 60,
   "id": "b21b8a3b-2af2-480b-b51c-e10ad963ae3b",
   "metadata": {},
   "outputs": [
    {
     "name": "stdout",
     "output_type": "stream",
     "text": [
      "('Hello, hello', ',', ' world!')\n",
      "('', '', 'Hello, world!')\n"
     ]
    }
   ],
   "source": [
    "s = \"Hello, hello, world!\"\n",
    "sep = \",\"\n",
    "result = s.rpartition(sep)\n",
    "print(result) \n",
    "# Example with separator not found\n",
    "s = \"Hello, world!\"\n",
    "sep = \"z\"\n",
    "result = s.rpartition(sep)\n",
    "print(result) "
   ]
  },
  {
   "cell_type": "code",
   "execution_count": 65,
   "id": "4eee0716",
   "metadata": {},
   "outputs": [
    {
     "name": "stdout",
     "output_type": "stream",
     "text": [
      "Hello, Python!\n",
      "Hello, Python, Python!, hello, hello\n"
     ]
    }
   ],
   "source": [
    "# impo\n",
    "s = \"Hello, world!\"\n",
    "old_substring = \"world\"\n",
    "new_substring = \"Python\"\n",
    "result = s.replace(old_substring, new_substring)\n",
    "print(result)  \n",
    "# Example with count parameter\n",
    "s = \"Hello, hello, hello!, hello, hello\"\n",
    "old_substring = \"hello\"\n",
    "new_substring = \"Python\"\n",
    "result = s.replace(old_substring, new_substring,2)\n",
    "print(result)  "
   ]
  },
  {
   "cell_type": "code",
   "execution_count": 66,
   "id": "9dd30239",
   "metadata": {},
   "outputs": [
    {
     "name": "stdout",
     "output_type": "stream",
     "text": [
      "Hello\n",
      "Hello, world!\n"
     ]
    }
   ],
   "source": [
    "# impo\n",
    "s = \"Hello, world!\"\n",
    "suffix = \", world!\"\n",
    "result = s.removesuffix(suffix)\n",
    "print(result) \n",
    "# Example with a suffix that doesn't match\n",
    "suffix = \"!as\"\n",
    "result = s.removesuffix(suffix)\n",
    "print(result)  "
   ]
  },
  {
   "cell_type": "code",
   "execution_count": 67,
   "id": "fc932e2b",
   "metadata": {},
   "outputs": [
    {
     "name": "stdout",
     "output_type": "stream",
     "text": [
      ", world!\n",
      "Hello, world!\n"
     ]
    }
   ],
   "source": [
    "s = \"Hello, world!\"\n",
    "result = s.removeprefix('Hello')\n",
    "print(result)\n",
    "# Example with a prefix that doesn't match\n",
    "prefix = \"Hi, \"\n",
    "result = s.removeprefix(prefix)\n",
    "print(result)  "
   ]
  },
  {
   "cell_type": "code",
   "execution_count": 69,
   "id": "d843ddf5",
   "metadata": {},
   "outputs": [
    {
     "name": "stdout",
     "output_type": "stream",
     "text": [
      "HELLO * WORLD\n"
     ]
    },
    {
     "data": {
      "text/plain": [
       "'Hello * world'"
      ]
     },
     "execution_count": 69,
     "metadata": {},
     "output_type": "execute_result"
    }
   ],
   "source": [
    "# very impo\n",
    "iterable = [\"HELLO\", \"WORLD\"]\n",
    "s = \" * \"\n",
    "# join needs a uterable value which contains strings only\n",
    "result = s.join(iterable)\n",
    "print(result)\n",
    "\n",
    "iterable = (\"Hello\", \"world\")\n",
    "result = s.join(iterable)\n",
    "result"
   ]
  },
  {
   "cell_type": "code",
   "execution_count": 70,
   "id": "0b52cf7a-9706-4ce0-a2f6-2a9ae78c148c",
   "metadata": {},
   "outputs": [],
   "source": [
    "s = \"this is my python class where I'm learning string\"\n",
    "l= s.split()"
   ]
  },
  {
   "cell_type": "code",
   "execution_count": 71,
   "id": "df51510e-0c30-403f-b205-a1e468d7787b",
   "metadata": {},
   "outputs": [
    {
     "data": {
      "text/plain": [
       "['this', 'is', 'my', 'python', 'class', 'where', \"I'm\", 'learning', 'string']"
      ]
     },
     "execution_count": 71,
     "metadata": {},
     "output_type": "execute_result"
    }
   ],
   "source": [
    "l"
   ]
  },
  {
   "cell_type": "code",
   "execution_count": 72,
   "id": "2a9ed612",
   "metadata": {},
   "outputs": [
    {
     "data": {
      "text/plain": [
       "\"this is my python class where I'm learning string\""
      ]
     },
     "execution_count": 72,
     "metadata": {},
     "output_type": "execute_result"
    }
   ],
   "source": [
    "' '.join(l)"
   ]
  },
  {
   "cell_type": "code",
   "execution_count": 73,
   "id": "f379a397",
   "metadata": {},
   "outputs": [
    {
     "name": "stdout",
     "output_type": "stream",
     "text": [
      "12 4 13\n"
     ]
    },
    {
     "data": {
      "text/plain": [
       "'Hello 4 world 4 my 4 name 4 is 4 something'"
      ]
     },
     "execution_count": 73,
     "metadata": {},
     "output_type": "execute_result"
    }
   ],
   "source": [
    "# very impo\n",
    "iterable = ['12','13']\n",
    "s = \" 4 \"\n",
    "result = s.join(iterable)\n",
    "print(result)  \n",
    "iterable = [\"Hello\", \"world\", 'my', 'name', 'is', 'something']\n",
    "result = s.join(iterable)\n",
    "result "
   ]
  },
  {
   "cell_type": "code",
   "execution_count": 74,
   "id": "a2d57805",
   "metadata": {},
   "outputs": [
    {
     "name": "stdout",
     "output_type": "stream",
     "text": [
      "True\n",
      "False\n"
     ]
    }
   ],
   "source": [
    "# impo\n",
    "s = \"HELLO 4WORLD\"\n",
    "print(s.isupper())  \n",
    "s = \"Hello world\"\n",
    "print(s.isupper()) "
   ]
  },
  {
   "cell_type": "code",
   "execution_count": 75,
   "id": "83a02d5b",
   "metadata": {},
   "outputs": [
    {
     "name": "stdout",
     "output_type": "stream",
     "text": [
      "False\n",
      "True\n"
     ]
    }
   ],
   "source": [
    "s = \"Hello, world!\"\n",
    "print(s.istitle())\n",
    "s = \"Hello, World!\"\n",
    "print(s.istitle())"
   ]
  },
  {
   "cell_type": "code",
   "execution_count": 76,
   "id": "c0e2e258",
   "metadata": {},
   "outputs": [
    {
     "name": "stdout",
     "output_type": "stream",
     "text": [
      "True\n",
      "False\n"
     ]
    }
   ],
   "source": [
    "s='     '\n",
    "print(s.isspace())\n",
    "s='  s  dbj  '\n",
    "print(s.isspace())"
   ]
  },
  {
   "cell_type": "code",
   "execution_count": null,
   "id": "ba38e3e5",
   "metadata": {},
   "outputs": [],
   "source": [
    "s='  vd  vdjewd  ugeduy  '"
   ]
  },
  {
   "cell_type": "code",
   "execution_count": 77,
   "id": "2e9beee0",
   "metadata": {},
   "outputs": [
    {
     "name": "stdout",
     "output_type": "stream",
     "text": [
      "True\n",
      "False\n"
     ]
    }
   ],
   "source": [
    "s = \"Hello, world!\"\n",
    "print(s.isprintable())\n",
    "s = \"Hello, \\n world!\"\n",
    "print(s.isprintable())"
   ]
  },
  {
   "cell_type": "code",
   "execution_count": 78,
   "id": "79617610",
   "metadata": {},
   "outputs": [
    {
     "name": "stdout",
     "output_type": "stream",
     "text": [
      "True\n",
      "False\n"
     ]
    }
   ],
   "source": [
    "s = '12344'\n",
    "print(s.isnumeric())\n",
    "s = '12344.5'\n",
    "print(s.isnumeric())"
   ]
  },
  {
   "cell_type": "code",
   "execution_count": 79,
   "id": "e41aed9b",
   "metadata": {
    "scrolled": true
   },
   "outputs": [
    {
     "name": "stdout",
     "output_type": "stream",
     "text": [
      "False\n",
      "False\n"
     ]
    }
   ],
   "source": [
    "c = \"hello world\"\n",
    "print(s.islower())\n",
    "s = \"Hello world\"\n",
    "print(s.islower())"
   ]
  },
  {
   "cell_type": "markdown",
   "id": "b454e2fd",
   "metadata": {},
   "source": [
    "An identifier is a name used to identify a variable, function, class, module, or other object.\n",
    "\n",
    "Python identifiers have the following rules:\n",
    "\n",
    "1. It must start with a letter (a-z, A-Z) or an underscore (_).\n",
    "2. The remaining characters can be letters, digits (0-9), or underscores.\n",
    "3. It cannot be a keyword or a built-in function name."
   ]
  },
  {
   "cell_type": "code",
   "execution_count": 80,
   "id": "01bb38bb",
   "metadata": {
    "scrolled": true
   },
   "outputs": [
    {
     "name": "stdout",
     "output_type": "stream",
     "text": [
      "True\n",
      "False\n"
     ]
    }
   ],
   "source": [
    "s='c9'\n",
    "print(s.isidentifier())\n",
    "s='9c'\n",
    "print(s.isidentifier())"
   ]
  },
  {
   "cell_type": "markdown",
   "id": "be8b9ccc",
   "metadata": {},
   "source": [
    "## LIST"
   ]
  },
  {
   "cell_type": "code",
   "execution_count": 1,
   "id": "fc87c55e",
   "metadata": {
    "scrolled": true
   },
   "outputs": [
    {
     "name": "stdout",
     "output_type": "stream",
     "text": [
      "Help on class list in module builtins:\n",
      "\n",
      "class list(object)\n",
      " |  list(iterable=(), /)\n",
      " |\n",
      " |  Built-in mutable sequence.\n",
      " |\n",
      " |  If no argument is given, the constructor creates a new empty list.\n",
      " |  The argument must be an iterable if specified.\n",
      " |\n",
      " |  Methods defined here:\n",
      " |\n",
      " |  __add__(self, value, /)\n",
      " |      Return self+value.\n",
      " |\n",
      " |  __contains__(self, key, /)\n",
      " |      Return bool(key in self).\n",
      " |\n",
      " |  __delitem__(self, key, /)\n",
      " |      Delete self[key].\n",
      " |\n",
      " |  __eq__(self, value, /)\n",
      " |      Return self==value.\n",
      " |\n",
      " |  __ge__(self, value, /)\n",
      " |      Return self>=value.\n",
      " |\n",
      " |  __getattribute__(self, name, /)\n",
      " |      Return getattr(self, name).\n",
      " |\n",
      " |  __getitem__(self, index, /)\n",
      " |      Return self[index].\n",
      " |\n",
      " |  __gt__(self, value, /)\n",
      " |      Return self>value.\n",
      " |\n",
      " |  __iadd__(self, value, /)\n",
      " |      Implement self+=value.\n",
      " |\n",
      " |  __imul__(self, value, /)\n",
      " |      Implement self*=value.\n",
      " |\n",
      " |  __init__(self, /, *args, **kwargs)\n",
      " |      Initialize self.  See help(type(self)) for accurate signature.\n",
      " |\n",
      " |  __iter__(self, /)\n",
      " |      Implement iter(self).\n",
      " |\n",
      " |  __le__(self, value, /)\n",
      " |      Return self<=value.\n",
      " |\n",
      " |  __len__(self, /)\n",
      " |      Return len(self).\n",
      " |\n",
      " |  __lt__(self, value, /)\n",
      " |      Return self<value.\n",
      " |\n",
      " |  __mul__(self, value, /)\n",
      " |      Return self*value.\n",
      " |\n",
      " |  __ne__(self, value, /)\n",
      " |      Return self!=value.\n",
      " |\n",
      " |  __repr__(self, /)\n",
      " |      Return repr(self).\n",
      " |\n",
      " |  __reversed__(self, /)\n",
      " |      Return a reverse iterator over the list.\n",
      " |\n",
      " |  __rmul__(self, value, /)\n",
      " |      Return value*self.\n",
      " |\n",
      " |  __setitem__(self, key, value, /)\n",
      " |      Set self[key] to value.\n",
      " |\n",
      " |  __sizeof__(self, /)\n",
      " |      Return the size of the list in memory, in bytes.\n",
      " |\n",
      " |  append(self, object, /)\n",
      " |      Append object to the end of the list.\n",
      " |\n",
      " |  clear(self, /)\n",
      " |      Remove all items from list.\n",
      " |\n",
      " |  copy(self, /)\n",
      " |      Return a shallow copy of the list.\n",
      " |\n",
      " |  count(self, value, /)\n",
      " |      Return number of occurrences of value.\n",
      " |\n",
      " |  extend(self, iterable, /)\n",
      " |      Extend list by appending elements from the iterable.\n",
      " |\n",
      " |  index(self, value, start=0, stop=9223372036854775807, /)\n",
      " |      Return first index of value.\n",
      " |\n",
      " |      Raises ValueError if the value is not present.\n",
      " |\n",
      " |  insert(self, index, object, /)\n",
      " |      Insert object before index.\n",
      " |\n",
      " |  pop(self, index=-1, /)\n",
      " |      Remove and return item at index (default last).\n",
      " |\n",
      " |      Raises IndexError if list is empty or index is out of range.\n",
      " |\n",
      " |  remove(self, value, /)\n",
      " |      Remove first occurrence of value.\n",
      " |\n",
      " |      Raises ValueError if the value is not present.\n",
      " |\n",
      " |  reverse(self, /)\n",
      " |      Reverse *IN PLACE*.\n",
      " |\n",
      " |  sort(self, /, *, key=None, reverse=False)\n",
      " |      Sort the list in ascending order and return None.\n",
      " |\n",
      " |      The sort is in-place (i.e. the list itself is modified) and stable (i.e. the\n",
      " |      order of two equal elements is maintained).\n",
      " |\n",
      " |      If a key function is given, apply it once to each list item and sort them,\n",
      " |      ascending or descending, according to their function values.\n",
      " |\n",
      " |      The reverse flag can be set to sort in descending order.\n",
      " |\n",
      " |  ----------------------------------------------------------------------\n",
      " |  Class methods defined here:\n",
      " |\n",
      " |  __class_getitem__(...)\n",
      " |      See PEP 585\n",
      " |\n",
      " |  ----------------------------------------------------------------------\n",
      " |  Static methods defined here:\n",
      " |\n",
      " |  __new__(*args, **kwargs)\n",
      " |      Create and return a new object.  See help(type) for accurate signature.\n",
      " |\n",
      " |  ----------------------------------------------------------------------\n",
      " |  Data and other attributes defined here:\n",
      " |\n",
      " |  __hash__ = None\n",
      "\n"
     ]
    }
   ],
   "source": [
    "help(list)"
   ]
  },
  {
   "cell_type": "code",
   "execution_count": 2,
   "id": "6d3c2ecb",
   "metadata": {},
   "outputs": [],
   "source": [
    "l=[1,2,3,4,5,6,7]"
   ]
  },
  {
   "cell_type": "code",
   "execution_count": 3,
   "id": "89c00008",
   "metadata": {},
   "outputs": [],
   "source": [
    "l.clear()"
   ]
  },
  {
   "cell_type": "code",
   "execution_count": 4,
   "id": "1144dc42",
   "metadata": {
    "scrolled": true
   },
   "outputs": [
    {
     "data": {
      "text/plain": [
       "[]"
      ]
     },
     "execution_count": 4,
     "metadata": {},
     "output_type": "execute_result"
    }
   ],
   "source": [
    "l"
   ]
  },
  {
   "cell_type": "code",
   "execution_count": 5,
   "id": "22412a9d",
   "metadata": {},
   "outputs": [
    {
     "name": "stdout",
     "output_type": "stream",
     "text": [
      "[1, 2, 3, 4, 5, 6, 7] [1, 2, 3, 4, 5, 6, 7]\n",
      "[1, 2, 3, 4, 5, 6] [1, 2, 3, 4, 5, 6]\n"
     ]
    }
   ],
   "source": [
    "l=[1,2,3,4,5,6,7]\n",
    "m=l\n",
    "print(m, l)\n",
    "l.pop()\n",
    "print(m,l)"
   ]
  },
  {
   "cell_type": "code",
   "execution_count": 6,
   "id": "daa710c4",
   "metadata": {},
   "outputs": [
    {
     "name": "stdout",
     "output_type": "stream",
     "text": [
      "[1, 2, 3, 4, 5, 6, 7] [1, 2, 3, 4, 5, 6, 7]\n",
      "[1, 2, 3, 4, 5, 6, 7] [1, 2, 3, 4, 5, 6]\n"
     ]
    }
   ],
   "source": [
    "l=[1,2,3,4,5,6,7]\n",
    "m=l.copy()\n",
    "print(m,l)\n",
    "l.pop()\n",
    "print(m,l)"
   ]
  },
  {
   "cell_type": "code",
   "execution_count": 7,
   "id": "60b03cd7",
   "metadata": {},
   "outputs": [
    {
     "data": {
      "text/plain": [
       "[1, 2, 3, 4, 5, 6, 7, 8]"
      ]
     },
     "execution_count": 7,
     "metadata": {},
     "output_type": "execute_result"
    }
   ],
   "source": [
    "l = [1,2,3,4]\n",
    "l2=[5,6,7,8]\n",
    "l+l2"
   ]
  },
  {
   "cell_type": "code",
   "execution_count": 10,
   "id": "a8034dba",
   "metadata": {},
   "outputs": [
    {
     "data": {
      "text/plain": [
       "True"
      ]
     },
     "execution_count": 10,
     "metadata": {},
     "output_type": "execute_result"
    }
   ],
   "source": [
    "1 in l"
   ]
  },
  {
   "cell_type": "code",
   "execution_count": 11,
   "id": "08ec2984",
   "metadata": {},
   "outputs": [],
   "source": [
    "del l[1]"
   ]
  },
  {
   "cell_type": "code",
   "execution_count": 12,
   "id": "dfa2b0c9",
   "metadata": {},
   "outputs": [
    {
     "data": {
      "text/plain": [
       "[1, 3, 4]"
      ]
     },
     "execution_count": 12,
     "metadata": {},
     "output_type": "execute_result"
    }
   ],
   "source": [
    "l"
   ]
  },
  {
   "cell_type": "code",
   "execution_count": 16,
   "id": "e1ff08b9",
   "metadata": {},
   "outputs": [],
   "source": [
    "l1=['A',1,2,3,4]\n",
    "l2=['A',1,2,3,4,5]"
   ]
  },
  {
   "cell_type": "code",
   "execution_count": 17,
   "id": "371feede",
   "metadata": {},
   "outputs": [
    {
     "data": {
      "text/plain": [
       "True"
      ]
     },
     "execution_count": 17,
     "metadata": {},
     "output_type": "execute_result"
    }
   ],
   "source": [
    "l2>l1"
   ]
  },
  {
   "cell_type": "code",
   "execution_count": 18,
   "id": "e8ac5b64",
   "metadata": {},
   "outputs": [
    {
     "data": {
      "text/plain": [
       "['A', 1, 2, 3, 4, 'A', 1, 2, 3, 4]"
      ]
     },
     "execution_count": 18,
     "metadata": {},
     "output_type": "execute_result"
    }
   ],
   "source": [
    "l1*2"
   ]
  },
  {
   "cell_type": "code",
   "execution_count": 19,
   "id": "73e60dd3",
   "metadata": {},
   "outputs": [
    {
     "data": {
      "text/plain": [
       "['A', 1, 2, 3, 4]"
      ]
     },
     "execution_count": 19,
     "metadata": {},
     "output_type": "execute_result"
    }
   ],
   "source": [
    "l1"
   ]
  },
  {
   "cell_type": "code",
   "execution_count": 20,
   "id": "76894613",
   "metadata": {},
   "outputs": [],
   "source": [
    "l1*=2 # l1=l1*2"
   ]
  },
  {
   "cell_type": "code",
   "execution_count": 21,
   "id": "8a2163cf",
   "metadata": {},
   "outputs": [
    {
     "data": {
      "text/plain": [
       "['A', 1, 2, 3, 4, 'A', 1, 2, 3, 4]"
      ]
     },
     "execution_count": 21,
     "metadata": {},
     "output_type": "execute_result"
    }
   ],
   "source": [
    "l1"
   ]
  },
  {
   "cell_type": "code",
   "execution_count": 22,
   "id": "e92f3d26",
   "metadata": {},
   "outputs": [
    {
     "data": {
      "text/plain": [
       "[12, 1, 2, 3, 4, 'A', 1, 2, 3, 4]"
      ]
     },
     "execution_count": 22,
     "metadata": {},
     "output_type": "execute_result"
    }
   ],
   "source": [
    "l1[0]=12\n",
    "l1"
   ]
  },
  {
   "cell_type": "code",
   "execution_count": 23,
   "id": "fd3edd2f",
   "metadata": {},
   "outputs": [
    {
     "data": {
      "text/plain": [
       "168"
      ]
     },
     "execution_count": 23,
     "metadata": {},
     "output_type": "execute_result"
    }
   ],
   "source": [
    "l1.__sizeof__()"
   ]
  },
  {
   "cell_type": "code",
   "execution_count": 29,
   "id": "7e9945f6",
   "metadata": {},
   "outputs": [],
   "source": [
    "L1=[1, 12, 3, 4, 1, 2, 3, 4,'A','A','B']"
   ]
  },
  {
   "cell_type": "code",
   "execution_count": 30,
   "id": "77019f5b",
   "metadata": {},
   "outputs": [
    {
     "data": {
      "text/plain": [
       "2"
      ]
     },
     "execution_count": 30,
     "metadata": {},
     "output_type": "execute_result"
    }
   ],
   "source": [
    "L1.count('A')"
   ]
  },
  {
   "cell_type": "code",
   "execution_count": 31,
   "id": "3d62a4d8",
   "metadata": {},
   "outputs": [
    {
     "data": {
      "text/plain": [
       "[1, 12, 3, 4, 1, 2, 3, 4, 'A', 'A', 'B', 1]"
      ]
     },
     "execution_count": 31,
     "metadata": {},
     "output_type": "execute_result"
    }
   ],
   "source": [
    "L1.append(1)\n",
    "L1"
   ]
  },
  {
   "cell_type": "code",
   "execution_count": 32,
   "id": "d2ed540c",
   "metadata": {},
   "outputs": [
    {
     "data": {
      "text/plain": [
       "[1, 12, 3, 4, 1, 2, 3, 4, 'A', 'A', 'B', 1, 11, 22, 33, 44]"
      ]
     },
     "execution_count": 32,
     "metadata": {},
     "output_type": "execute_result"
    }
   ],
   "source": [
    "L1.extend((11,22,33,44))\n",
    "L1"
   ]
  },
  {
   "cell_type": "code",
   "execution_count": 33,
   "id": "37bb9ba7",
   "metadata": {},
   "outputs": [],
   "source": [
    "l1 = [1,2,3,4]\n",
    "l2=(5,6,7,8)\n",
    "l1+=l2"
   ]
  },
  {
   "cell_type": "code",
   "execution_count": 34,
   "id": "32b2e3bf",
   "metadata": {},
   "outputs": [
    {
     "data": {
      "text/plain": [
       "[1, 2, 3, 4, 5, 6, 7, 8]"
      ]
     },
     "execution_count": 34,
     "metadata": {},
     "output_type": "execute_result"
    }
   ],
   "source": [
    "l1"
   ]
  },
  {
   "cell_type": "code",
   "execution_count": 35,
   "id": "b361ade1",
   "metadata": {},
   "outputs": [],
   "source": [
    "l = [1,2.4,90,'string', 'god',2.5,4,'cat',30,'dog',5,7,10]"
   ]
  },
  {
   "cell_type": "code",
   "execution_count": null,
   "id": "1df4e719",
   "metadata": {
    "scrolled": true
   },
   "outputs": [],
   "source": [
    "l[1]"
   ]
  },
  {
   "cell_type": "code",
   "execution_count": null,
   "id": "06be44bb",
   "metadata": {},
   "outputs": [],
   "source": [
    "l[1:6:2]"
   ]
  },
  {
   "cell_type": "code",
   "execution_count": null,
   "id": "e78c2d40",
   "metadata": {
    "scrolled": true
   },
   "outputs": [],
   "source": [
    "l[-1:-7:-1]"
   ]
  },
  {
   "cell_type": "code",
   "execution_count": null,
   "id": "2d845c94",
   "metadata": {},
   "outputs": [],
   "source": [
    "l[::-1]"
   ]
  },
  {
   "cell_type": "code",
   "execution_count": null,
   "id": "3e8cae0a",
   "metadata": {},
   "outputs": [],
   "source": [
    "l"
   ]
  },
  {
   "cell_type": "code",
   "execution_count": null,
   "id": "5dc18648",
   "metadata": {
    "scrolled": true
   },
   "outputs": [],
   "source": [
    "l[0:0]"
   ]
  },
  {
   "cell_type": "code",
   "execution_count": null,
   "id": "08b15886",
   "metadata": {},
   "outputs": [],
   "source": [
    "l[2:5]"
   ]
  },
  {
   "cell_type": "code",
   "execution_count": null,
   "id": "2ea91d27",
   "metadata": {},
   "outputs": [],
   "source": [
    "l[-2:0:-1]"
   ]
  },
  {
   "cell_type": "code",
   "execution_count": null,
   "id": "8b08cc55",
   "metadata": {},
   "outputs": [],
   "source": [
    "l[0:-5:1]"
   ]
  },
  {
   "cell_type": "code",
   "execution_count": null,
   "id": "734dfdde",
   "metadata": {},
   "outputs": [],
   "source": [
    "l[2:9:-1]"
   ]
  },
  {
   "cell_type": "code",
   "execution_count": null,
   "id": "1657e461",
   "metadata": {
    "scrolled": true
   },
   "outputs": [],
   "source": [
    "l[-9:0]"
   ]
  },
  {
   "cell_type": "code",
   "execution_count": null,
   "id": "29a71ab7",
   "metadata": {},
   "outputs": [],
   "source": [
    "l[-5:-2]"
   ]
  },
  {
   "cell_type": "code",
   "execution_count": null,
   "id": "7a5c5c6b",
   "metadata": {},
   "outputs": [],
   "source": [
    "len(l)"
   ]
  },
  {
   "cell_type": "code",
   "execution_count": null,
   "id": "bc656de4",
   "metadata": {},
   "outputs": [],
   "source": [
    "l"
   ]
  },
  {
   "cell_type": "code",
   "execution_count": null,
   "id": "dbad967d",
   "metadata": {},
   "outputs": [],
   "source": [
    "l.append(1)"
   ]
  },
  {
   "cell_type": "code",
   "execution_count": null,
   "id": "7865d37e",
   "metadata": {},
   "outputs": [],
   "source": [
    "l"
   ]
  },
  {
   "cell_type": "code",
   "execution_count": null,
   "id": "3076038f",
   "metadata": {},
   "outputs": [],
   "source": [
    "l.pop()"
   ]
  },
  {
   "cell_type": "code",
   "execution_count": null,
   "id": "d6a33460",
   "metadata": {},
   "outputs": [],
   "source": [
    "l"
   ]
  },
  {
   "cell_type": "code",
   "execution_count": null,
   "id": "b203f1d0",
   "metadata": {},
   "outputs": [],
   "source": [
    "l.pop(4)"
   ]
  },
  {
   "cell_type": "code",
   "execution_count": null,
   "id": "18e0d103",
   "metadata": {},
   "outputs": [],
   "source": [
    "l"
   ]
  },
  {
   "cell_type": "code",
   "execution_count": null,
   "id": "1a449c6c",
   "metadata": {},
   "outputs": [],
   "source": []
  },
  {
   "cell_type": "code",
   "execution_count": null,
   "id": "72431c59",
   "metadata": {},
   "outputs": [],
   "source": [
    "l"
   ]
  },
  {
   "cell_type": "code",
   "execution_count": 36,
   "id": "dfa3a144",
   "metadata": {},
   "outputs": [],
   "source": [
    "l = [1,2,3,4,6,7,94,6,8,10,23]"
   ]
  },
  {
   "cell_type": "code",
   "execution_count": 37,
   "id": "5e45a813",
   "metadata": {},
   "outputs": [
    {
     "data": {
      "text/plain": [
       "[1, 2, 3, 4, 6, 'value', 7, 94, 6, 8, 10, 23]"
      ]
     },
     "execution_count": 37,
     "metadata": {},
     "output_type": "execute_result"
    }
   ],
   "source": [
    "l.insert(5,'value')\n",
    "l"
   ]
  },
  {
   "cell_type": "code",
   "execution_count": 38,
   "id": "54a61257",
   "metadata": {},
   "outputs": [],
   "source": [
    "l=[1,2,4,5,6]\n",
    "m=[1,2,4,3]"
   ]
  },
  {
   "cell_type": "code",
   "execution_count": 39,
   "id": "7d59f2b5",
   "metadata": {},
   "outputs": [
    {
     "data": {
      "text/plain": [
       "[16, 2, 4, 5, 6]"
      ]
     },
     "execution_count": 39,
     "metadata": {},
     "output_type": "execute_result"
    }
   ],
   "source": [
    "l[0]=16\n",
    "l"
   ]
  },
  {
   "cell_type": "code",
   "execution_count": 40,
   "id": "10b5e6da",
   "metadata": {},
   "outputs": [
    {
     "data": {
      "text/plain": [
       "4"
      ]
     },
     "execution_count": 40,
     "metadata": {},
     "output_type": "execute_result"
    }
   ],
   "source": [
    "l.index(6)"
   ]
  },
  {
   "cell_type": "code",
   "execution_count": 41,
   "id": "e1978441",
   "metadata": {
    "scrolled": true
   },
   "outputs": [
    {
     "data": {
      "text/plain": [
       "[16, 2, 4, 5, 6]"
      ]
     },
     "execution_count": 41,
     "metadata": {},
     "output_type": "execute_result"
    }
   ],
   "source": [
    "l"
   ]
  },
  {
   "cell_type": "code",
   "execution_count": 43,
   "id": "57f9315d",
   "metadata": {},
   "outputs": [
    {
     "name": "stdout",
     "output_type": "stream",
     "text": [
      "6\n",
      "5\n",
      "4\n",
      "2\n",
      "16\n"
     ]
    }
   ],
   "source": [
    "for i in reversed(l):\n",
    "    print(i)"
   ]
  },
  {
   "cell_type": "code",
   "execution_count": 44,
   "id": "6a04ed8e",
   "metadata": {},
   "outputs": [],
   "source": [
    "l.extend([1,2,3])"
   ]
  },
  {
   "cell_type": "code",
   "execution_count": 45,
   "id": "baf56f12",
   "metadata": {},
   "outputs": [
    {
     "data": {
      "text/plain": [
       "[16, 2, 4, 5, 6, 1, 2, 3]"
      ]
     },
     "execution_count": 45,
     "metadata": {},
     "output_type": "execute_result"
    }
   ],
   "source": [
    "l"
   ]
  },
  {
   "cell_type": "code",
   "execution_count": 46,
   "id": "c3284ec2",
   "metadata": {},
   "outputs": [
    {
     "data": {
      "text/plain": [
       "[16, 2, 4, 5, 6, 2, 3]"
      ]
     },
     "execution_count": 46,
     "metadata": {},
     "output_type": "execute_result"
    }
   ],
   "source": [
    "l.remove(1)\n",
    "l"
   ]
  },
  {
   "cell_type": "code",
   "execution_count": 47,
   "id": "5cacddf2",
   "metadata": {},
   "outputs": [],
   "source": [
    "l.sort()"
   ]
  },
  {
   "cell_type": "code",
   "execution_count": 48,
   "id": "1078da8d",
   "metadata": {},
   "outputs": [
    {
     "data": {
      "text/plain": [
       "[2, 2, 3, 4, 5, 6, 16]"
      ]
     },
     "execution_count": 48,
     "metadata": {},
     "output_type": "execute_result"
    }
   ],
   "source": [
    "l"
   ]
  },
  {
   "cell_type": "code",
   "execution_count": 49,
   "id": "df3d02e7",
   "metadata": {},
   "outputs": [
    {
     "data": {
      "text/plain": [
       "[16, 6, 5, 4, 3, 2, 2]"
      ]
     },
     "execution_count": 49,
     "metadata": {},
     "output_type": "execute_result"
    }
   ],
   "source": [
    "l.sort(reverse=True)\n",
    "l"
   ]
  },
  {
   "cell_type": "code",
   "execution_count": null,
   "id": "659f567f",
   "metadata": {},
   "outputs": [],
   "source": [
    "n = int(input('enter the number  '))\n",
    "if n%2==0:\n",
    "    print('even')\n",
    "else:\n",
    "    print('odd')"
   ]
  },
  {
   "cell_type": "code",
   "execution_count": null,
   "id": "34f78bf6",
   "metadata": {},
   "outputs": [],
   "source": [
    "5%2"
   ]
  },
  {
   "cell_type": "markdown",
   "id": "db9a4a05",
   "metadata": {},
   "source": [
    "#### this is string bfguieghoeij kerjnglekrnv kjenvweinrveoignvoewirgo jnfvkjenfvifvnefivneiv kjnefvierheoiurr jebfiuer"
   ]
  },
  {
   "cell_type": "markdown",
   "id": "60683113",
   "metadata": {},
   "source": [
    "Write a Python function to calculate the factorial of a given number. Use a\n",
    " for loop and a condition to handle the case when the input number is negative."
   ]
  },
  {
   "cell_type": "markdown",
   "id": "05124bd2",
   "metadata": {},
   "source": [
    "Write a Python function to find and return the maximum element from a\n",
    " given list. Use a for loop and a condition to update the maximum value as you iterate\n",
    " through the list"
   ]
  },
  {
   "cell_type": "markdown",
   "id": "8130294e",
   "metadata": {},
   "source": [
    "Write a Python function to count the number of even and odd numbers in a\n",
    " given list. Use a for loop and conditions to classify numbers as even or odd"
   ]
  },
  {
   "cell_type": "markdown",
   "id": "eed4edbb",
   "metadata": {},
   "source": [
    "Write a Python function to generate a list of Fibonacci numbers up to a\n",
    " specified limit. Use a for loop and conditions to generate Fibonacci numbers until the\n",
    " limit is reached"
   ]
  },
  {
   "cell_type": "code",
   "execution_count": null,
   "id": "d319511e",
   "metadata": {},
   "outputs": [],
   "source": []
  }
 ],
 "metadata": {
  "kernelspec": {
   "display_name": "Python 3 (ipykernel)",
   "language": "python",
   "name": "python3"
  },
  "language_info": {
   "codemirror_mode": {
    "name": "ipython",
    "version": 3
   },
   "file_extension": ".py",
   "mimetype": "text/x-python",
   "name": "python",
   "nbconvert_exporter": "python",
   "pygments_lexer": "ipython3",
   "version": "3.12.7"
  }
 },
 "nbformat": 4,
 "nbformat_minor": 5
}
