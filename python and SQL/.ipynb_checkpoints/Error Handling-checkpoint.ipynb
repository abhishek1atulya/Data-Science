{
 "cells": [
  {
   "cell_type": "code",
   "execution_count": 1,
   "id": "840873b2-a07c-4ee9-8cfe-67c5f4d7ef0b",
   "metadata": {},
   "outputs": [
    {
     "name": "stdout",
     "output_type": "stream",
     "text": [
      "this is Try Block\n",
      "There is some error in try block, that's why except block is running \n",
      "this block will always excecute whether there is an error in try block or not\n"
     ]
    }
   ],
   "source": [
    "try:\n",
    "    print('this is Try Block')\n",
    "    s=2+'j'\n",
    "    print('no Error and the value of s =',s )\n",
    "except:\n",
    "    print(\"There is some error in try block, that's why except block is running \")\n",
    "else:\n",
    "    print(\"There is no error in try block, that's why else block is running \")\n",
    "finally:\n",
    "    print('this block will always excecute whether there is an error in try block or not')\n",
    "    "
   ]
  },
  {
   "cell_type": "code",
   "execution_count": 2,
   "id": "38306cdb-d70d-4e4e-bf29-9166b9c92769",
   "metadata": {},
   "outputs": [
    {
     "name": "stdout",
     "output_type": "stream",
     "text": [
      "this is Try Block\n",
      "no Error and the value of s = 4\n",
      "There is no error in try block, that's why else block is running \n",
      "this block will always excecute whether there is an error in try block or not\n"
     ]
    }
   ],
   "source": [
    "try:\n",
    "    print('this is Try Block')\n",
    "    s=2+2\n",
    "    print('no Error and the value of s =',s )\n",
    "except:\n",
    "    print(\"There is some error in try block, that's why except block is running \")\n",
    "else:\n",
    "    print(\"There is no error in try block, that's why else block is running \")\n",
    "finally:\n",
    "    print('this block will always excecute whether there is an error in try block or not')\n",
    "    "
   ]
  },
  {
   "cell_type": "code",
   "execution_count": 5,
   "id": "60fd38f5-c95a-4bf5-9dfb-6600f8605c55",
   "metadata": {},
   "outputs": [
    {
     "name": "stdout",
     "output_type": "stream",
     "text": [
      "this is Try Block\n",
      "There is some error in try block, that's why except block is running \n",
      "this block will always excecute whether there is an error in try block or not\n"
     ]
    }
   ],
   "source": [
    "try:\n",
    "    print('this is Try Block')\n",
    "    s=2+'j'\n",
    "    print('no Error and the value of s =',s )\n",
    "except TypeError:\n",
    "    print(\"There is some error in try block, that's why except block is running \")\n",
    "else:\n",
    "    print(\"There is no error in try block, that's why else block is running \")\n",
    "finally:\n",
    "    print('this block will always excecute whether there is an error in try block or not')\n",
    "    "
   ]
  },
  {
   "cell_type": "code",
   "execution_count": 6,
   "id": "f63928a5-e997-476a-aa37-1936d92c50c3",
   "metadata": {},
   "outputs": [
    {
     "ename": "NameError",
     "evalue": "name 'a' is not defined",
     "output_type": "error",
     "traceback": [
      "\u001b[1;31m---------------------------------------------------------------------------\u001b[0m",
      "\u001b[1;31mNameError\u001b[0m                                 Traceback (most recent call last)",
      "Cell \u001b[1;32mIn[6], line 1\u001b[0m\n\u001b[1;32m----> 1\u001b[0m a\u001b[38;5;241m+\u001b[39mb\n",
      "\u001b[1;31mNameError\u001b[0m: name 'a' is not defined"
     ]
    }
   ],
   "source": [
    "a+b"
   ]
  },
  {
   "cell_type": "code",
   "execution_count": 3,
   "id": "f5a748ae-b799-4d5d-8c96-d80fd842d3e8",
   "metadata": {},
   "outputs": [
    {
     "ename": "TypeError",
     "evalue": "unsupported operand type(s) for +: 'int' and 'str'",
     "output_type": "error",
     "traceback": [
      "\u001b[1;31m---------------------------------------------------------------------------\u001b[0m",
      "\u001b[1;31mTypeError\u001b[0m                                 Traceback (most recent call last)",
      "Cell \u001b[1;32mIn[3], line 1\u001b[0m\n\u001b[1;32m----> 1\u001b[0m \u001b[38;5;241m2\u001b[39m\u001b[38;5;241m+\u001b[39m\u001b[38;5;124m'\u001b[39m\u001b[38;5;124mi\u001b[39m\u001b[38;5;124m'\u001b[39m\n",
      "\u001b[1;31mTypeError\u001b[0m: unsupported operand type(s) for +: 'int' and 'str'"
     ]
    }
   ],
   "source": [
    "2+'i'"
   ]
  },
  {
   "cell_type": "code",
   "execution_count": 7,
   "id": "119df6c9-ff28-4a7d-9079-4e9102b2c360",
   "metadata": {},
   "outputs": [
    {
     "ename": "TypeError",
     "evalue": "unsupported operand type(s) for -: 'int' and 'str'",
     "output_type": "error",
     "traceback": [
      "\u001b[1;31m---------------------------------------------------------------------------\u001b[0m",
      "\u001b[1;31mTypeError\u001b[0m                                 Traceback (most recent call last)",
      "Cell \u001b[1;32mIn[7], line 1\u001b[0m\n\u001b[1;32m----> 1\u001b[0m \u001b[38;5;241m2\u001b[39m\u001b[38;5;241m-\u001b[39m\u001b[38;5;124m'\u001b[39m\u001b[38;5;124mi\u001b[39m\u001b[38;5;124m'\u001b[39m\n",
      "\u001b[1;31mTypeError\u001b[0m: unsupported operand type(s) for -: 'int' and 'str'"
     ]
    }
   ],
   "source": [
    "2-'i'"
   ]
  },
  {
   "cell_type": "code",
   "execution_count": 8,
   "id": "b3c7f240-b93f-4bcf-9945-a3b3ba41bf46",
   "metadata": {},
   "outputs": [
    {
     "data": {
      "text/plain": [
       "2"
      ]
     },
     "execution_count": 8,
     "metadata": {},
     "output_type": "execute_result"
    }
   ],
   "source": [
    "int('2')"
   ]
  },
  {
   "cell_type": "code",
   "execution_count": 9,
   "id": "8ddddddc-b990-4349-9099-a8e393da5bb8",
   "metadata": {},
   "outputs": [
    {
     "ename": "ValueError",
     "evalue": "invalid literal for int() with base 10: 'e'",
     "output_type": "error",
     "traceback": [
      "\u001b[1;31m---------------------------------------------------------------------------\u001b[0m",
      "\u001b[1;31mValueError\u001b[0m                                Traceback (most recent call last)",
      "Cell \u001b[1;32mIn[9], line 1\u001b[0m\n\u001b[1;32m----> 1\u001b[0m \u001b[38;5;28mint\u001b[39m(\u001b[38;5;124m'\u001b[39m\u001b[38;5;124me\u001b[39m\u001b[38;5;124m'\u001b[39m)\n",
      "\u001b[1;31mValueError\u001b[0m: invalid literal for int() with base 10: 'e'"
     ]
    }
   ],
   "source": [
    "int('e')"
   ]
  },
  {
   "cell_type": "code",
   "execution_count": 10,
   "id": "27d0d268-f211-4899-a2c7-18e59880200b",
   "metadata": {},
   "outputs": [
    {
     "ename": "IndentationError",
     "evalue": "expected an indented block after 'if' statement on line 1 (305276065.py, line 2)",
     "output_type": "error",
     "traceback": [
      "\u001b[1;36m  Cell \u001b[1;32mIn[10], line 2\u001b[1;36m\u001b[0m\n\u001b[1;33m    print('True')\u001b[0m\n\u001b[1;37m    ^\u001b[0m\n\u001b[1;31mIndentationError\u001b[0m\u001b[1;31m:\u001b[0m expected an indented block after 'if' statement on line 1\n"
     ]
    }
   ],
   "source": [
    "if 3>2:\n",
    "print('True')"
   ]
  },
  {
   "cell_type": "code",
   "execution_count": 11,
   "id": "10bd1785-4ec1-4dc6-bc4c-c1d1af616f99",
   "metadata": {},
   "outputs": [
    {
     "ename": "TypeError",
     "evalue": "unsupported operand type(s) for +: 'int' and 'str'",
     "output_type": "error",
     "traceback": [
      "\u001b[1;31m---------------------------------------------------------------------------\u001b[0m",
      "\u001b[1;31mTypeError\u001b[0m                                 Traceback (most recent call last)",
      "Cell \u001b[1;32mIn[11], line 1\u001b[0m\n\u001b[1;32m----> 1\u001b[0m \u001b[38;5;241m2\u001b[39m\u001b[38;5;241m+\u001b[39m\u001b[38;5;124m'\u001b[39m\u001b[38;5;124mj\u001b[39m\u001b[38;5;124m'\u001b[39m\n",
      "\u001b[1;31mTypeError\u001b[0m: unsupported operand type(s) for +: 'int' and 'str'"
     ]
    }
   ],
   "source": [
    "2+'j'"
   ]
  },
  {
   "cell_type": "code",
   "execution_count": 12,
   "id": "f213fa0b-68c5-45c2-885b-3770332d85e5",
   "metadata": {},
   "outputs": [
    {
     "ename": "NameError",
     "evalue": "name 'a' is not defined",
     "output_type": "error",
     "traceback": [
      "\u001b[1;31m---------------------------------------------------------------------------\u001b[0m",
      "\u001b[1;31mNameError\u001b[0m                                 Traceback (most recent call last)",
      "Cell \u001b[1;32mIn[12], line 1\u001b[0m\n\u001b[1;32m----> 1\u001b[0m a\u001b[38;5;241m+\u001b[39m\u001b[38;5;241m5\u001b[39m\n",
      "\u001b[1;31mNameError\u001b[0m: name 'a' is not defined"
     ]
    }
   ],
   "source": [
    "a+5"
   ]
  },
  {
   "cell_type": "code",
   "execution_count": 13,
   "id": "7687fb05-6c6b-4ccf-9b3b-707b95e02ac7",
   "metadata": {},
   "outputs": [
    {
     "ename": "ZeroDivisionError",
     "evalue": "division by zero",
     "output_type": "error",
     "traceback": [
      "\u001b[1;31m---------------------------------------------------------------------------\u001b[0m",
      "\u001b[1;31mZeroDivisionError\u001b[0m                         Traceback (most recent call last)",
      "Cell \u001b[1;32mIn[13], line 1\u001b[0m\n\u001b[1;32m----> 1\u001b[0m \u001b[38;5;241m2\u001b[39m\u001b[38;5;241m/\u001b[39m\u001b[38;5;241m0\u001b[39m\n",
      "\u001b[1;31mZeroDivisionError\u001b[0m: division by zero"
     ]
    }
   ],
   "source": [
    "2/0"
   ]
  },
  {
   "cell_type": "code",
   "execution_count": 14,
   "id": "3d1c8ab0-6cf3-41cd-a7d1-94209465e597",
   "metadata": {},
   "outputs": [
    {
     "name": "stdout",
     "output_type": "stream",
     "text": [
      "this is Try Block\n",
      "unsupported operand type(s) for +: 'int' and 'str'\n",
      "There is some error in try block, that's why except block is running \n",
      "this block will always excecute whether there is an error in try block or not\n"
     ]
    }
   ],
   "source": [
    "try:\n",
    "    print('this is Try Block')\n",
    "    s=2+'n'\n",
    "    print('no Error and the value of s =',s )\n",
    "except TypeError as t:\n",
    "    print(t)\n",
    "    print(\"There is some error in try block, that's why except block is running \")\n",
    "else:\n",
    "    print(\"There is no error in try block, that's why else block is running \")\n",
    "finally:\n",
    "    print('this block will always excecute whether there is an error in try block or not')\n",
    "    "
   ]
  },
  {
   "cell_type": "code",
   "execution_count": 15,
   "id": "637cd6ce-90ba-4674-8658-6d6c48cca844",
   "metadata": {},
   "outputs": [
    {
     "name": "stdout",
     "output_type": "stream",
     "text": [
      "this is Try Block\n",
      "name 'k' is not defined\n",
      "There is some error in try block, that's why except block is running \n",
      "this block will always excecute whether there is an error in try block or not\n"
     ]
    }
   ],
   "source": [
    "try:\n",
    "    print('this is Try Block')\n",
    "    s=2+k\n",
    "    print('no Error and the value of s =',s )\n",
    "except Exception as e:\n",
    "    print(e)\n",
    "    print(\"There is some error in try block, that's why except block is running \")\n",
    "else:\n",
    "    print(\"There is no error in try block, that's why else block is running \")\n",
    "finally:\n",
    "    print('this block will always excecute whether there is an error in try block or not')\n",
    "    "
   ]
  },
  {
   "cell_type": "code",
   "execution_count": 16,
   "id": "3800c57d-9ec7-4755-ab08-68c7c2a89aee",
   "metadata": {},
   "outputs": [
    {
     "name": "stdout",
     "output_type": "stream",
     "text": [
      "this is Try Block\n",
      "division by zero\n",
      "There is some error in try block, that's why except block is running \n",
      "this block will always excecute whether there is an error in try block or not\n"
     ]
    }
   ],
   "source": [
    "try:\n",
    "    print('this is Try Block')\n",
    "    s=2/0\n",
    "    print('no Error and the value of s =',s )\n",
    "except Exception as e:\n",
    "    print(e)\n",
    "    print(\"There is some error in try block, that's why except block is running \")\n",
    "else:\n",
    "    print(\"There is no error in try block, that's why else block is running \")\n",
    "finally:\n",
    "    print('this block will always excecute whether there is an error in try block or not')\n",
    "    "
   ]
  },
  {
   "cell_type": "code",
   "execution_count": 19,
   "id": "f08f0366-bafa-4e07-a4a9-d3c7f665e24f",
   "metadata": {},
   "outputs": [
    {
     "ename": "Zero",
     "evalue": "Infinty",
     "output_type": "error",
     "traceback": [
      "\u001b[1;31m---------------------------------------------------------------------------\u001b[0m",
      "\u001b[1;31mZero\u001b[0m                                      Traceback (most recent call last)",
      "Cell \u001b[1;32mIn[19], line 13\u001b[0m\n\u001b[0;32m     10\u001b[0m     \u001b[38;5;28;01melse\u001b[39;00m:\n\u001b[0;32m     11\u001b[0m         \u001b[38;5;28;01mreturn\u001b[39;00m n\u001b[38;5;241m/\u001b[39md\n\u001b[1;32m---> 13\u001b[0m div(\u001b[38;5;241m1\u001b[39m,\u001b[38;5;241m0\u001b[39m)\n",
      "Cell \u001b[1;32mIn[19], line 9\u001b[0m, in \u001b[0;36mdiv\u001b[1;34m(n, d)\u001b[0m\n\u001b[0;32m      7\u001b[0m \u001b[38;5;28;01mdef\u001b[39;00m \u001b[38;5;21mdiv\u001b[39m(n,d):\n\u001b[0;32m      8\u001b[0m     \u001b[38;5;28;01mif\u001b[39;00m d\u001b[38;5;241m==\u001b[39m\u001b[38;5;241m0\u001b[39m:\n\u001b[1;32m----> 9\u001b[0m         \u001b[38;5;28;01mraise\u001b[39;00m Zero(\u001b[38;5;124m'\u001b[39m\u001b[38;5;124mInfinty\u001b[39m\u001b[38;5;124m'\u001b[39m)\n\u001b[0;32m     10\u001b[0m     \u001b[38;5;28;01melse\u001b[39;00m:\n\u001b[0;32m     11\u001b[0m         \u001b[38;5;28;01mreturn\u001b[39;00m n\u001b[38;5;241m/\u001b[39md\n",
      "\u001b[1;31mZero\u001b[0m: Infinty"
     ]
    }
   ],
   "source": [
    "class Zero(Exception):\n",
    "    def __init__(self,m):\n",
    "        self.m = m\n",
    "    def __str__(self):\n",
    "        return f'{self.m}'\n",
    "\n",
    "def div(n,d):\n",
    "    if d==0:\n",
    "        raise Zero('Infinty')\n",
    "    else:\n",
    "        return n/d\n",
    "\n",
    "div(1,0)"
   ]
  },
  {
   "cell_type": "code",
   "execution_count": 20,
   "id": "433ea5c3-0093-4bd0-bfe3-dcc02321e6db",
   "metadata": {},
   "outputs": [],
   "source": [
    "class LowBalance(Exception):\n",
    "    def __init__(self,message):\n",
    "        self.message=message\n",
    "    def __str__(self):\n",
    "        return self.message"
   ]
  },
  {
   "cell_type": "code",
   "execution_count": 21,
   "id": "67b14b60-cf78-4cf7-97ba-a6cb9f4942d8",
   "metadata": {},
   "outputs": [],
   "source": [
    "class Atm:\n",
    "    def __init__(self, Balance):\n",
    "        self.Balance = Balance\n",
    "    def withdraw(self):\n",
    "        n = int(input('Enter the amount : ')) \n",
    "        if n>self.Balance:\n",
    "            raise LowBalance('Your account balance is Low')\n",
    "        else:\n",
    "            self.Balance-=n\n",
    "            print('withdrwal successsfull')"
   ]
  },
  {
   "cell_type": "code",
   "execution_count": 22,
   "id": "fbefe538-9541-4240-a2c6-64e4db20266e",
   "metadata": {},
   "outputs": [],
   "source": [
    "a = Atm(1000)"
   ]
  },
  {
   "cell_type": "code",
   "execution_count": 23,
   "id": "3c03e2d8-46a8-4e3e-8053-a39c2f79d14f",
   "metadata": {},
   "outputs": [
    {
     "name": "stdin",
     "output_type": "stream",
     "text": [
      "Enter the amount :  2000\n"
     ]
    },
    {
     "ename": "LowBalance",
     "evalue": "Your account balance is Low",
     "output_type": "error",
     "traceback": [
      "\u001b[1;31m---------------------------------------------------------------------------\u001b[0m",
      "\u001b[1;31mLowBalance\u001b[0m                                Traceback (most recent call last)",
      "Cell \u001b[1;32mIn[23], line 1\u001b[0m\n\u001b[1;32m----> 1\u001b[0m a\u001b[38;5;241m.\u001b[39mwithdraw()\n",
      "Cell \u001b[1;32mIn[21], line 7\u001b[0m, in \u001b[0;36mAtm.withdraw\u001b[1;34m(self)\u001b[0m\n\u001b[0;32m      5\u001b[0m n \u001b[38;5;241m=\u001b[39m \u001b[38;5;28mint\u001b[39m(\u001b[38;5;28minput\u001b[39m(\u001b[38;5;124m'\u001b[39m\u001b[38;5;124mEnter the amount : \u001b[39m\u001b[38;5;124m'\u001b[39m)) \n\u001b[0;32m      6\u001b[0m \u001b[38;5;28;01mif\u001b[39;00m n\u001b[38;5;241m>\u001b[39m\u001b[38;5;28mself\u001b[39m\u001b[38;5;241m.\u001b[39mBalance:\n\u001b[1;32m----> 7\u001b[0m     \u001b[38;5;28;01mraise\u001b[39;00m LowBalance(\u001b[38;5;124m'\u001b[39m\u001b[38;5;124mYour account balance is Low\u001b[39m\u001b[38;5;124m'\u001b[39m)\n\u001b[0;32m      8\u001b[0m \u001b[38;5;28;01melse\u001b[39;00m:\n\u001b[0;32m      9\u001b[0m     \u001b[38;5;28mself\u001b[39m\u001b[38;5;241m.\u001b[39mBalance\u001b[38;5;241m-\u001b[39m\u001b[38;5;241m=\u001b[39mn\n",
      "\u001b[1;31mLowBalance\u001b[0m: Your account balance is Low"
     ]
    }
   ],
   "source": [
    "a.withdraw()"
   ]
  },
  {
   "cell_type": "markdown",
   "id": "2b03212d-c632-4beb-9c97-03fa54429f6b",
   "metadata": {},
   "source": [
    "write a funtion devide_numbers(n1,n2) that takes two numbers and returns their divions the function should handled the following exceptions\n",
    "\n",
    "1> Zerodivion error\n",
    "2> Type error\n",
    "3> other exceptions"
   ]
  },
  {
   "cell_type": "code",
   "execution_count": null,
   "id": "d5427f78-6967-47c5-9fa5-7561f083a621",
   "metadata": {},
   "outputs": [],
   "source": [
    "def division(n1,n2):\n",
    "    try:\n",
    "        return n1/n2\n",
    "    except Exception as e:\n",
    "        print(e)\n",
    "#     return n1/n2"
   ]
  },
  {
   "cell_type": "code",
   "execution_count": null,
   "id": "ab6d2418-58e9-4cb6-8fb0-8d534b81a48e",
   "metadata": {},
   "outputs": [],
   "source": [
    "division(1,'a')\n",
    "for i in range(10):\n",
    "    print(i)"
   ]
  },
  {
   "cell_type": "code",
   "execution_count": null,
   "id": "9f815076-9709-492f-b393-fdb31be89b7a",
   "metadata": {},
   "outputs": [],
   "source": [
    "class Zero(ZeroDivisionError):\n",
    "    def __init__(self,message):\n",
    "        self.message=message\n",
    "    def __str__(self):\n",
    "        return self.message"
   ]
  },
  {
   "cell_type": "code",
   "execution_count": null,
   "id": "c36a76a7-0b93-42e2-bcb3-26fdc5c76a93",
   "metadata": {},
   "outputs": [],
   "source": [
    "def division(n1,n2):\n",
    "    if n2==0:\n",
    "        raise Zero(f'denumerator is zero')\n",
    "    try:\n",
    "        return n1/n2\n",
    "    except Zero as e:\n",
    "        print(e)\n",
    "#     return n1/n2"
   ]
  },
  {
   "cell_type": "code",
   "execution_count": null,
   "id": "0d42a76b-dc2c-4c6a-9014-e80c4ac00757",
   "metadata": {},
   "outputs": [],
   "source": [
    "division(1,0)"
   ]
  },
  {
   "cell_type": "code",
   "execution_count": null,
   "id": "943c7106-03b2-45ba-b841-8fe8d3831dd7",
   "metadata": {},
   "outputs": [],
   "source": []
  }
 ],
 "metadata": {
  "kernelspec": {
   "display_name": "Python 3 (ipykernel)",
   "language": "python",
   "name": "python3"
  },
  "language_info": {
   "codemirror_mode": {
    "name": "ipython",
    "version": 3
   },
   "file_extension": ".py",
   "mimetype": "text/x-python",
   "name": "python",
   "nbconvert_exporter": "python",
   "pygments_lexer": "ipython3",
   "version": "3.12.7"
  }
 },
 "nbformat": 4,
 "nbformat_minor": 5
}
