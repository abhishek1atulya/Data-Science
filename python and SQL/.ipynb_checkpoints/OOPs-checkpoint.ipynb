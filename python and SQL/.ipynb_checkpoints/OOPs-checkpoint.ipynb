{
 "cells": [
  {
   "cell_type": "code",
   "execution_count": 18,
   "id": "d42984d8",
   "metadata": {},
   "outputs": [],
   "source": [
    "class Back:\n",
    "    def __init__(self,cost,sn,no=4): #constructor\n",
    "        self.cost= cost\n",
    "        print(cost.self)"
   ]
  },
  {
   "cell_type": "code",
   "execution_count": 31,
   "id": "781cfafb",
   "metadata": {},
   "outputs": [],
   "source": [
    "class Hashback:\n",
    "    def __init__(self,cost,sn,no=4): #constructor\n",
    "        self.cost= cost\n",
    "        print(self.cost)\n",
    "        print(id(self))\n",
    "    def model(self):\n",
    "        print('this is hashback')"
   ]
  },
  {
   "cell_type": "code",
   "execution_count": 32,
   "id": "e378c555",
   "metadata": {},
   "outputs": [
    {
     "name": "stdout",
     "output_type": "stream",
     "text": [
      "10000\n",
      "1696730068256\n"
     ]
    }
   ],
   "source": [
    "a=Hashback(10000,'be 6e')"
   ]
  },
  {
   "cell_type": "code",
   "execution_count": 30,
   "id": "f07742e5",
   "metadata": {},
   "outputs": [
    {
     "data": {
      "text/plain": [
       "1696757171152"
      ]
     },
     "execution_count": 30,
     "metadata": {},
     "output_type": "execute_result"
    }
   ],
   "source": [
    "id(a)"
   ]
  },
  {
   "cell_type": "code",
   "execution_count": 33,
   "id": "43729630",
   "metadata": {},
   "outputs": [
    {
     "name": "stdout",
     "output_type": "stream",
     "text": [
      "this is hashback\n"
     ]
    }
   ],
   "source": [
    "a.model()"
   ]
  },
  {
   "cell_type": "code",
   "execution_count": 3,
   "id": "aba0a4c5",
   "metadata": {},
   "outputs": [],
   "source": [
    "class Atm:\n",
    "#     class variable\n",
    "    cash=100000000\n",
    "    def __init__(self):\n",
    "        self.balance = 0 # intance variable\n",
    "        self.pin = ''\n",
    "        self.statement=[]\n",
    "        self.menu()\n",
    "    def menu(self):\n",
    "        n = input(\n",
    "            '''\n",
    "            Enter 1 to set pin\n",
    "            Enter 2 to deposit\n",
    "            Enter 3 to withdraw\n",
    "            Enter 4 to check balance\n",
    "            Enter 5 to access mini statement\n",
    "            Enter any otherthing to exit\n",
    "        ''')\n",
    "        if n=='1':\n",
    "            self.set_pin()\n",
    "        elif n=='2':\n",
    "            self.deposit()\n",
    "        elif n=='3':\n",
    "            self.withdraw()\n",
    "        elif n=='4':\n",
    "            self.check_balance()\n",
    "        elif n=='5':\n",
    "            self.mini_statement()\n",
    "        else:\n",
    "            print('have a good day')\n",
    "\n",
    "    def set_pin(self):\n",
    "        self.pin=input('enter your pin: ')\n",
    "        print('Pin set successfully')\n",
    "        self.menu()\n",
    "    def deposit(self,c=0):\n",
    "        s = input('enter your pin: ')\n",
    "        if s==self.pin:\n",
    "            n = int(input('enter the amount: '))\n",
    "            self.balance+=n\n",
    "            print('Amount Deposit successfull')\n",
    "            self.statement.append({'deposited :':n})\n",
    "            self.menu()\n",
    "        else:\n",
    "            print(' Worng pin please retry ')\n",
    "            c+=1\n",
    "            if c<3:\n",
    "                self.deposit(c)\n",
    "    def withdraw(self,c=0):\n",
    "        s = input('enter your pin: ')\n",
    "        if s==self.pin:\n",
    "            n = int(input('enter the amount: '))\n",
    "            if n<=self.balance:\n",
    "                self.balance-=n\n",
    "                print('Amount withdraw successfully')\n",
    "                self.statement.append({'withdrawal :':n})\n",
    "                self.menu()\n",
    "            else:\n",
    "                print('insuffient balance please retry ')\n",
    "                c+=1\n",
    "                if c<3:\n",
    "                    self.withdraw(c)\n",
    "                else:\n",
    "                    self.menu()\n",
    "        else:\n",
    "            print(' Worng pin please retry ')\n",
    "            c+=1\n",
    "            if c<3:\n",
    "                self.withdraw(c)\n",
    "            else:\n",
    "                self.menu()\n",
    "    def check_balance(self,c=0):\n",
    "        s = input('enter your pin: ')\n",
    "        if s==self.pin:\n",
    "            print('your account balance is: ',self.balance)\n",
    "            self.menu()\n",
    "        else:\n",
    "            print(' Worng pin please retry ')\n",
    "            c+=1\n",
    "            if c<3:\n",
    "                self.check_balance(c)\n",
    "    def mini_statement(self,c=0):\n",
    "        s = input('enter your pin: ')\n",
    "        if s==self.pin:\n",
    "            print('your account statements: ',self.statement[-3:])\n",
    "            self.menu()\n",
    "        else:\n",
    "            print(' Worng pin please retry ')\n",
    "            c+=1\n",
    "            if c<3:\n",
    "                self.mini_statement(c)"
   ]
  },
  {
   "cell_type": "code",
   "execution_count": 4,
   "id": "da56e324",
   "metadata": {},
   "outputs": [
    {
     "name": "stdout",
     "output_type": "stream",
     "text": [
      "\n",
      "            Enter 1 to set pin\n",
      "            Enter 2 to deposit\n",
      "            Enter 3 to withdraw\n",
      "            Enter 4 to check balance\n",
      "            Enter 5 to access mini statement\n",
      "            Enter any otherthing to exit\n",
      "        1\n",
      "enter your pin: 1234\n",
      "Pin set successfully\n",
      "\n",
      "            Enter 1 to set pin\n",
      "            Enter 2 to deposit\n",
      "            Enter 3 to withdraw\n",
      "            Enter 4 to check balance\n",
      "            Enter 5 to access mini statement\n",
      "            Enter any otherthing to exit\n",
      "        2\n",
      "enter your pin: 1000\n",
      " Worng pin please retry \n",
      "enter your pin: 1234\n",
      "enter the amount: 1000\n",
      "Amount Deposit successfull\n",
      "\n",
      "            Enter 1 to set pin\n",
      "            Enter 2 to deposit\n",
      "            Enter 3 to withdraw\n",
      "            Enter 4 to check balance\n",
      "            Enter 5 to access mini statement\n",
      "            Enter any otherthing to exit\n",
      "        3\n",
      "enter your pin: 1234\n",
      "enter the amount: 200\n",
      "Amount withdraw successfully\n",
      "\n",
      "            Enter 1 to set pin\n",
      "            Enter 2 to deposit\n",
      "            Enter 3 to withdraw\n",
      "            Enter 4 to check balance\n",
      "            Enter 5 to access mini statement\n",
      "            Enter any otherthing to exit\n",
      "        4\n",
      "enter your pin: 1234\n",
      "your account balance is:  800\n",
      "\n",
      "            Enter 1 to set pin\n",
      "            Enter 2 to deposit\n",
      "            Enter 3 to withdraw\n",
      "            Enter 4 to check balance\n",
      "            Enter 5 to access mini statement\n",
      "            Enter any otherthing to exit\n",
      "        5\n",
      "enter your pin: 1234\n",
      "your account statements:  [{'deposited :': 1000}, {'withdrawal :': 200}]\n",
      "\n",
      "            Enter 1 to set pin\n",
      "            Enter 2 to deposit\n",
      "            Enter 3 to withdraw\n",
      "            Enter 4 to check balance\n",
      "            Enter 5 to access mini statement\n",
      "            Enter any otherthing to exit\n",
      "        a\n",
      "have a good day\n"
     ]
    }
   ],
   "source": [
    "a=Atm()"
   ]
  },
  {
   "cell_type": "code",
   "execution_count": 65,
   "id": "92f92c07",
   "metadata": {
    "scrolled": true
   },
   "outputs": [
    {
     "data": {
      "text/plain": [
       "100000000"
      ]
     },
     "execution_count": 65,
     "metadata": {},
     "output_type": "execute_result"
    }
   ],
   "source": [
    "Atm.cash"
   ]
  },
  {
   "cell_type": "code",
   "execution_count": 66,
   "id": "d4b5a9f5",
   "metadata": {},
   "outputs": [
    {
     "data": {
      "text/plain": [
       "100000000"
      ]
     },
     "execution_count": 66,
     "metadata": {},
     "output_type": "execute_result"
    }
   ],
   "source": [
    "a.cash"
   ]
  },
  {
   "cell_type": "code",
   "execution_count": null,
   "id": "d52b2825",
   "metadata": {},
   "outputs": [],
   "source": [
    "# a.check_balance()"
   ]
  },
  {
   "cell_type": "code",
   "execution_count": 67,
   "id": "ecc98c0c",
   "metadata": {},
   "outputs": [
    {
     "data": {
      "text/plain": [
       "0"
      ]
     },
     "execution_count": 67,
     "metadata": {},
     "output_type": "execute_result"
    }
   ],
   "source": [
    "a.balance"
   ]
  },
  {
   "cell_type": "code",
   "execution_count": 5,
   "id": "2e671144",
   "metadata": {},
   "outputs": [
    {
     "data": {
      "text/plain": [
       "'1234'"
      ]
     },
     "execution_count": 5,
     "metadata": {},
     "output_type": "execute_result"
    }
   ],
   "source": [
    "a."
   ]
  },
  {
   "cell_type": "code",
   "execution_count": 68,
   "id": "7f38afd7",
   "metadata": {},
   "outputs": [],
   "source": [
    "a.balance=10"
   ]
  },
  {
   "cell_type": "code",
   "execution_count": null,
   "id": "b0d7d264",
   "metadata": {},
   "outputs": [],
   "source": [
    "a.check_balance()"
   ]
  },
  {
   "cell_type": "code",
   "execution_count": 69,
   "id": "cc266a26",
   "metadata": {},
   "outputs": [
    {
     "data": {
      "text/plain": [
       "100000000"
      ]
     },
     "execution_count": 69,
     "metadata": {},
     "output_type": "execute_result"
    }
   ],
   "source": [
    "a.cash"
   ]
  },
  {
   "cell_type": "code",
   "execution_count": 70,
   "id": "cd90496d",
   "metadata": {},
   "outputs": [],
   "source": [
    "Atm.cash=5000000"
   ]
  },
  {
   "cell_type": "code",
   "execution_count": 71,
   "id": "b5ca924f",
   "metadata": {},
   "outputs": [
    {
     "data": {
      "text/plain": [
       "5000000"
      ]
     },
     "execution_count": 71,
     "metadata": {},
     "output_type": "execute_result"
    }
   ],
   "source": [
    "a.cash"
   ]
  },
  {
   "cell_type": "code",
   "execution_count": 72,
   "id": "1a38b77e",
   "metadata": {},
   "outputs": [],
   "source": [
    "a.cash=7000000"
   ]
  },
  {
   "cell_type": "code",
   "execution_count": 73,
   "id": "fde25d41",
   "metadata": {},
   "outputs": [
    {
     "data": {
      "text/plain": [
       "7000000"
      ]
     },
     "execution_count": 73,
     "metadata": {},
     "output_type": "execute_result"
    }
   ],
   "source": [
    "a.cash"
   ]
  },
  {
   "cell_type": "code",
   "execution_count": 74,
   "id": "6c2664ea",
   "metadata": {},
   "outputs": [
    {
     "data": {
      "text/plain": [
       "5000000"
      ]
     },
     "execution_count": 74,
     "metadata": {},
     "output_type": "execute_result"
    }
   ],
   "source": [
    "Atm.cash"
   ]
  },
  {
   "cell_type": "code",
   "execution_count": 75,
   "id": "012e951d",
   "metadata": {},
   "outputs": [],
   "source": [
    "b=Atm()"
   ]
  },
  {
   "cell_type": "code",
   "execution_count": 76,
   "id": "324324bf",
   "metadata": {},
   "outputs": [
    {
     "data": {
      "text/plain": [
       "5000000"
      ]
     },
     "execution_count": 76,
     "metadata": {},
     "output_type": "execute_result"
    }
   ],
   "source": [
    "b.cash"
   ]
  },
  {
   "cell_type": "code",
   "execution_count": 77,
   "id": "454afad2",
   "metadata": {},
   "outputs": [
    {
     "data": {
      "text/plain": [
       "7000000"
      ]
     },
     "execution_count": 77,
     "metadata": {},
     "output_type": "execute_result"
    }
   ],
   "source": [
    "a.cash"
   ]
  },
  {
   "cell_type": "code",
   "execution_count": 78,
   "id": "721b5c93",
   "metadata": {},
   "outputs": [
    {
     "data": {
      "text/plain": [
       "1696769971808"
      ]
     },
     "execution_count": 78,
     "metadata": {},
     "output_type": "execute_result"
    }
   ],
   "source": [
    "id(a)"
   ]
  },
  {
   "cell_type": "code",
   "execution_count": 79,
   "id": "14baf7dd",
   "metadata": {},
   "outputs": [
    {
     "data": {
      "text/plain": [
       "1696769968496"
      ]
     },
     "execution_count": 79,
     "metadata": {},
     "output_type": "execute_result"
    }
   ],
   "source": [
    "id(b)"
   ]
  },
  {
   "cell_type": "code",
   "execution_count": 10,
   "id": "4a133fed",
   "metadata": {},
   "outputs": [],
   "source": [
    "# encapsulation\n",
    "class Atm:\n",
    "#     class variable\n",
    "    cash=100000000\n",
    "    def __init__(self):\n",
    "        self.__balance = 0 # intance variable\n",
    "        self.__pin = ''\n",
    "        self.statement=[]\n",
    "        self.menu()\n",
    "    def menu(self):\n",
    "        n = input(\n",
    "            '''\n",
    "            Enter 1 to set __pin\n",
    "            Enter 2 to deposit\n",
    "            Enter 3 to withdraw\n",
    "            Enter 4 to check balance\n",
    "            Enter 5 to access mini statement\n",
    "            Enter any otherthing to exit\n",
    "        ''')\n",
    "        if n=='1':\n",
    "            self.set_pin()\n",
    "        elif n=='2':\n",
    "            self.deposit()\n",
    "        elif n=='3':\n",
    "            self.withdraw()\n",
    "        elif n=='4':\n",
    "            self.check_balance()\n",
    "        elif n=='5':\n",
    "            self.mini_statement()\n",
    "        else:\n",
    "            print('have a good day')\n",
    "\n",
    "    def set___pin(self):\n",
    "        self.__pin=input('enter you pin: ')\n",
    "        print('__pin set successfully')\n",
    "        self.menu()\n",
    "    def deposit(self,c=0):\n",
    "        s = input('enter you pin: ')\n",
    "        if s==self.__pin:\n",
    "            n = int(input('enter the amount: '))\n",
    "            self.__balance+=n\n",
    "            print('Amount Deposit successfull')\n",
    "            self.statement.append({'deposited :':n})\n",
    "            self.menu()\n",
    "        else:\n",
    "            print(' Worng __pin please retry ')\n",
    "            c+=1\n",
    "            if c<3:\n",
    "                self.deposit(c)\n",
    "    def withdraw(self,c=0):\n",
    "        s = input('enter you pin: ')\n",
    "        if s==self.__pin:\n",
    "            n = int(input('enter the amount: '))\n",
    "            if n<=self.__balance:\n",
    "                self.__balance-=n\n",
    "                print('Amount withdraw successfully')\n",
    "                self.statement.append({'withdrawal :':n})\n",
    "                self.menu()\n",
    "            else:\n",
    "                print('insuffient balance please retry ')\n",
    "                c+=1\n",
    "                if c<3:\n",
    "                    self.withdraw(c)\n",
    "                else:\n",
    "                    self.menu()\n",
    "        else:\n",
    "            print(' Worng __pin please retry ')\n",
    "            c+=1\n",
    "            if c<3:\n",
    "                self.withdraw(c)\n",
    "            else:\n",
    "                self.menu()\n",
    "    def check_balance(self,c=0):\n",
    "        s = input('enter you pin: ')\n",
    "        if s==self.__pin:\n",
    "            print('your account balance is: ',self.__balance)\n",
    "            self.menu()\n",
    "        else:\n",
    "            print(' Worng __pin please retry ')\n",
    "            c+=1\n",
    "            if c<3:\n",
    "                self.check_balance(c)\n",
    "    def mini_statement(self,c=0):\n",
    "        s = input('enter you pin: ')\n",
    "        if s==self.__pin:\n",
    "            print('your account statements: ',self.statement[-3:])\n",
    "            self.menu()\n",
    "        else:\n",
    "            print(' Worng __pin please retry ')\n",
    "            c+=1\n",
    "            if c<3:\n",
    "                self.mini_statement(c)"
   ]
  },
  {
   "cell_type": "code",
   "execution_count": 11,
   "id": "81bc65f3",
   "metadata": {},
   "outputs": [
    {
     "name": "stdout",
     "output_type": "stream",
     "text": [
      "\n",
      "            Enter 1 to set __pin\n",
      "            Enter 2 to deposit\n",
      "            Enter 3 to withdraw\n",
      "            Enter 4 to check balance\n",
      "            Enter 5 to access mini statement\n",
      "            Enter any otherthing to exit\n",
      "        0\n",
      "have a good day\n"
     ]
    }
   ],
   "source": [
    "a=Atm()"
   ]
  },
  {
   "cell_type": "code",
   "execution_count": 9,
   "id": "0731bea8",
   "metadata": {},
   "outputs": [
    {
     "data": {
      "text/plain": [
       "0"
      ]
     },
     "execution_count": 9,
     "metadata": {},
     "output_type": "execute_result"
    }
   ],
   "source": [
    "a._Atm__balance"
   ]
  },
  {
   "cell_type": "code",
   "execution_count": 14,
   "id": "7364443a",
   "metadata": {},
   "outputs": [
    {
     "data": {
      "text/plain": [
       "''"
      ]
     },
     "execution_count": 14,
     "metadata": {},
     "output_type": "execute_result"
    }
   ],
   "source": [
    "a._Atm__pin"
   ]
  },
  {
   "cell_type": "code",
   "execution_count": 44,
   "id": "09e2d986",
   "metadata": {},
   "outputs": [],
   "source": [
    "# magic methods\n",
    "class Fraction:\n",
    "    def __init__(self,n,d):\n",
    "        self.n=n\n",
    "        self.d=d\n",
    "        hc = self.hcf(n,d)\n",
    "        self.n = n//hc\n",
    "        self.d = d//hc\n",
    "        if self.d==1:\n",
    "            print(self.n)\n",
    "        else:\n",
    "            print(f'{self.n}/{self.d}')\n",
    "    \n",
    "    def __add__(self,f):\n",
    "        print('adding')\n",
    "        temp_n = self.n*f.d+self.d*f.n\n",
    "        temp_d = self.d*f.d\n",
    "        hc = self.hcf(temp_d,temp_n)\n",
    "        temp_d//=hc\n",
    "        temp_n//=hc\n",
    "        return Fraction(temp_n,temp_d)\n",
    "    def __str__(self):\n",
    "        if self.d==1:\n",
    "            return f'{self.n}'\n",
    "        else:\n",
    "            return f'{self.n}/{self.d}'\n",
    "    def __truediv__(self,f):\n",
    "        pass\n",
    "    def __mul__(self,f):\n",
    "        pass\n",
    "#     def\n",
    "    \n",
    "    def hcf(self,n,d):\n",
    "        HCF = 1\n",
    "        minimum = min(self.n ,self.d)\n",
    "        c = int(minimum ** (1/2))\n",
    "        for i in range(2,c+1):\n",
    "            if minimum % i == 0 :\n",
    "                temp = minimum // i\n",
    "                if max(n,d)%temp == 0:\n",
    "                    HCF = temp\n",
    "                    break\n",
    "        return HCF"
   ]
  },
  {
   "cell_type": "code",
   "execution_count": 45,
   "id": "f22ec48f",
   "metadata": {},
   "outputs": [
    {
     "name": "stdout",
     "output_type": "stream",
     "text": [
      "2/3\n"
     ]
    }
   ],
   "source": [
    "a=Fraction(12,18)"
   ]
  },
  {
   "cell_type": "code",
   "execution_count": 46,
   "id": "96d5053a",
   "metadata": {},
   "outputs": [
    {
     "name": "stdout",
     "output_type": "stream",
     "text": [
      "3/2\n"
     ]
    }
   ],
   "source": [
    "b=Fraction(21,14)"
   ]
  },
  {
   "cell_type": "code",
   "execution_count": 47,
   "id": "a3f520e1",
   "metadata": {},
   "outputs": [],
   "source": [
    "a/b"
   ]
  },
  {
   "cell_type": "code",
   "execution_count": 48,
   "id": "0b02e86f",
   "metadata": {},
   "outputs": [
    {
     "name": "stdout",
     "output_type": "stream",
     "text": [
      "2/3\n"
     ]
    }
   ],
   "source": [
    "print(a)"
   ]
  },
  {
   "cell_type": "code",
   "execution_count": 49,
   "id": "6f8a63ef",
   "metadata": {},
   "outputs": [
    {
     "name": "stdout",
     "output_type": "stream",
     "text": [
      "3/2\n"
     ]
    }
   ],
   "source": [
    "print(b)"
   ]
  },
  {
   "cell_type": "code",
   "execution_count": 50,
   "id": "fd2146ed",
   "metadata": {},
   "outputs": [
    {
     "name": "stdout",
     "output_type": "stream",
     "text": [
      "adding\n"
     ]
    }
   ],
   "source": [
    "a+b"
   ]
  },
  {
   "cell_type": "code",
   "execution_count": 51,
   "id": "d747ee2d",
   "metadata": {},
   "outputs": [
    {
     "name": "stdout",
     "output_type": "stream",
     "text": [
      "adding\n"
     ]
    }
   ],
   "source": [
    "a.__add__(b)"
   ]
  },
  {
   "cell_type": "code",
   "execution_count": 52,
   "id": "aada0b00",
   "metadata": {},
   "outputs": [
    {
     "data": {
      "text/plain": [
       "'123098'"
      ]
     },
     "execution_count": 52,
     "metadata": {},
     "output_type": "execute_result"
    }
   ],
   "source": [
    "str(123).__add__('098')"
   ]
  },
  {
   "cell_type": "code",
   "execution_count": null,
   "id": "f87941e3",
   "metadata": {},
   "outputs": [],
   "source": []
  }
 ],
 "metadata": {
  "kernelspec": {
   "display_name": "Python 3 (ipykernel)",
   "language": "python",
   "name": "python3"
  },
  "language_info": {
   "codemirror_mode": {
    "name": "ipython",
    "version": 3
   },
   "file_extension": ".py",
   "mimetype": "text/x-python",
   "name": "python",
   "nbconvert_exporter": "python",
   "pygments_lexer": "ipython3",
   "version": "3.10.9"
  }
 },
 "nbformat": 4,
 "nbformat_minor": 5
}
