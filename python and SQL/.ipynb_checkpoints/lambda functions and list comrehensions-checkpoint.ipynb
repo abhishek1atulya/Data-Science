{
 "cells": [
  {
   "cell_type": "code",
   "execution_count": 1,
   "id": "9c75b18e",
   "metadata": {},
   "outputs": [],
   "source": [
    "def fun(a,b):\n",
    "    pass\n",
    "    return 1"
   ]
  },
  {
   "cell_type": "code",
   "execution_count": 28,
   "id": "6231f8c8-febb-40a8-92f7-f5e6379897a4",
   "metadata": {},
   "outputs": [
    {
     "ename": "SyntaxError",
     "evalue": "invalid syntax (3622611521.py, line 1)",
     "output_type": "error",
     "traceback": [
      "\u001b[1;36m  Cell \u001b[1;32mIn[28], line 1\u001b[1;36m\u001b[0m\n\u001b[1;33m    print('something',2) a= 2 if False else print('nothing')\u001b[0m\n\u001b[1;37m                         ^\u001b[0m\n\u001b[1;31mSyntaxError\u001b[0m\u001b[1;31m:\u001b[0m invalid syntax\n"
     ]
    }
   ],
   "source": [
    "print('something') if False else print('nothing')"
   ]
  },
  {
   "cell_type": "code",
   "execution_count": 34,
   "id": "7e6c24d6-0324-48f7-94b9-7e9a0a8111cc",
   "metadata": {},
   "outputs": [
    {
     "name": "stdout",
     "output_type": "stream",
     "text": [
      "2\n"
     ]
    }
   ],
   "source": [
    "if True:\n",
    "    print(a)\n",
    "    a\n",
    "else:\n",
    "    print(a)"
   ]
  },
  {
   "cell_type": "code",
   "execution_count": 26,
   "id": "3ef06223-4ab0-4c59-a4c5-1e7f02b5da63",
   "metadata": {},
   "outputs": [
    {
     "data": {
      "text/plain": [
       "[2]"
      ]
     },
     "execution_count": 26,
     "metadata": {},
     "output_type": "execute_result"
    }
   ],
   "source": [
    "l = []\n",
    "l.append(1) if False else  l.append(2)\n",
    "l"
   ]
  },
  {
   "cell_type": "code",
   "execution_count": 42,
   "id": "83377c2e",
   "metadata": {},
   "outputs": [
    {
     "name": "stdout",
     "output_type": "stream",
     "text": [
      "maximum\n"
     ]
    }
   ],
   "source": [
    "# syntext\n",
    "# a funtion withput name\n",
    "# lambda input: result/expression condional statement always use else\n",
    "(lambda a,b : print('maximum') if a>b else b)(8,4)"
   ]
  },
  {
   "cell_type": "code",
   "execution_count": 47,
   "id": "013f55c3-18a9-4306-8650-2ef65ac959e5",
   "metadata": {},
   "outputs": [
    {
     "data": {
      "text/plain": [
       "[2, 8, 2, 14, 56, 10, 12]"
      ]
     },
     "execution_count": 47,
     "metadata": {},
     "output_type": "execute_result"
    }
   ],
   "source": [
    "l = [1,2,3,7,5,8,2,14,56,9,10,12]\n",
    "list(filter(lambda a: True if a%2==0 else False, l))"
   ]
  },
  {
   "cell_type": "code",
   "execution_count": 41,
   "id": "0f1aeb0e",
   "metadata": {
    "scrolled": true
   },
   "outputs": [
    {
     "name": "stdout",
     "output_type": "stream",
     "text": [
      "maximum\n"
     ]
    }
   ],
   "source": [
    "f(8,4)"
   ]
  },
  {
   "cell_type": "code",
   "execution_count": 53,
   "id": "babc4ac3",
   "metadata": {},
   "outputs": [
    {
     "data": {
      "text/plain": [
       "True"
      ]
     },
     "execution_count": 53,
     "metadata": {},
     "output_type": "execute_result"
    }
   ],
   "source": [
    "(lambda a: True if a%2==0 else False)(6)"
   ]
  },
  {
   "cell_type": "code",
   "execution_count": 50,
   "id": "550ec44c",
   "metadata": {},
   "outputs": [
    {
     "data": {
      "text/plain": [
       "False"
      ]
     },
     "execution_count": 50,
     "metadata": {},
     "output_type": "execute_result"
    }
   ],
   "source": [
    "even(7)"
   ]
  },
  {
   "cell_type": "code",
   "execution_count": 17,
   "id": "ef2b584d-eda4-48e7-9604-def6e3b4a3f9",
   "metadata": {},
   "outputs": [
    {
     "data": {
      "text/plain": [
       "[3, 4, 5, 6, 7, 10]"
      ]
     },
     "execution_count": 17,
     "metadata": {},
     "output_type": "execute_result"
    }
   ],
   "source": [
    "l = [1,2,3,4,5,6,7,10]\n",
    "list(filter(lambda a: True if a>2 else False, l))"
   ]
  },
  {
   "cell_type": "code",
   "execution_count": 56,
   "id": "7b407ee3-1079-4ebf-a06f-447fc5f4488a",
   "metadata": {
    "scrolled": true
   },
   "outputs": [
    {
     "data": {
      "text/plain": [
       "4"
      ]
     },
     "execution_count": 56,
     "metadata": {},
     "output_type": "execute_result"
    }
   ],
   "source": [
    "(lambda a: a**2)(2)"
   ]
  },
  {
   "cell_type": "code",
   "execution_count": 59,
   "id": "e0fb69bf",
   "metadata": {},
   "outputs": [
    {
     "data": {
      "text/plain": [
       "[(1, 'one'),\n",
       " (2, 'two'),\n",
       " (6, 'six'),\n",
       " (3, 'Three'),\n",
       " (54, 'fiftyfour'),\n",
       " (789, 'seveneightynine')]"
      ]
     },
     "execution_count": 59,
     "metadata": {},
     "output_type": "execute_result"
    }
   ],
   "source": [
    "# sorted(l,key=fun)\n",
    "l=[(1,'one'), (3,'Three'),(2,'two'),(54,'fiftyfour'), (6,'six'), (789,'seveneightynine')]\n",
    "# sort the aboe list by len of the string \n",
    "# output-->\n",
    "# [(1,'one'),(2,'two'),(6,'six'), (3,'Three'),(54,'fiftyfour'), (789,'seveneightynine')]\n",
    "sorted(l, key = lambda a: len(a[1]))"
   ]
  },
  {
   "cell_type": "markdown",
   "id": "8851dda9",
   "metadata": {},
   "source": [
    "use map,filter,sorted,lambda,input,string\n",
    "\n",
    "\n",
    "create a lambda function to calculate the square of a number and use it with map function to get the square of the numbers"
   ]
  },
  {
   "cell_type": "code",
   "execution_count": 62,
   "id": "649f5029",
   "metadata": {},
   "outputs": [
    {
     "data": {
      "text/plain": [
       "[1, 4, 9, 16, 25, 36, 49]"
      ]
     },
     "execution_count": 62,
     "metadata": {},
     "output_type": "execute_result"
    }
   ],
   "source": [
    "l= [1,2,3,4,5,6,7]\n",
    "list(map(lambda a: a**2, l))"
   ]
  },
  {
   "cell_type": "code",
   "execution_count": 68,
   "id": "da4088d4",
   "metadata": {
    "scrolled": true
   },
   "outputs": [
    {
     "data": {
      "text/plain": [
       "[{'name': 'ankit', 'age': 20},\n",
       " {'name': 'sahshi', 'age': 24},\n",
       " {'name': 'aditi', 'age': 25},\n",
       " {'name': 'sam', 'age': 30},\n",
       " {'name': 'amit', 'age': 35},\n",
       " {'name': 'jocky', 'age': 45},\n",
       " {'name': 'john', 'age': 50}]"
      ]
     },
     "execution_count": 68,
     "metadata": {},
     "output_type": "execute_result"
    }
   ],
   "source": [
    "\n",
    "ld=[{'name':'john', 'age':50},\n",
    "    {'name':'sam', 'age':30},\n",
    "    {'name':'jocky', 'age':45},\n",
    "    {'name':'ankit', 'age':20},\n",
    "    {'name':'amit', 'age':35},\n",
    "    {'name':'aditi', 'age':25},\n",
    "    {'name':'sahshi', 'age':24}]\n",
    "# output-->\n",
    "# [\n",
    "# {'name':'ankit', 'age':20},\n",
    "# {'name':'sahshi', 'age':24},\n",
    "# {'name':'aditi', 'age':25},\n",
    "# {'name':'sam', 'age':30},\n",
    "# {'name':'amit', 'age':35},\n",
    "# {'name':'jocky', 'age':45},\n",
    "# {'name':'john', 'age':50}\n",
    "# ]\n",
    "sorted(ld,key = lambda a: a['age'])"
   ]
  },
  {
   "cell_type": "code",
   "execution_count": 23,
   "id": "b9b4eaf2",
   "metadata": {},
   "outputs": [
    {
     "data": {
      "text/plain": [
       "[{'name': 'ankit', 'age': 20},\n",
       " {'name': 'sahshi', 'age': 24},\n",
       " {'name': 'aditi', 'age': 25},\n",
       " {'name': 'sam', 'age': 30},\n",
       " {'name': 'amit', 'age': 35}]"
      ]
     },
     "execution_count": 23,
     "metadata": {},
     "output_type": "execute_result"
    }
   ],
   "source": [
    "sorted(list(filter(lambda a: True if a['age']<=35 else False,ld)),key=lambda a: a['age'])"
   ]
  },
  {
   "cell_type": "code",
   "execution_count": 2,
   "id": "bb04bbfd",
   "metadata": {
    "scrolled": true
   },
   "outputs": [
    {
     "data": {
      "text/plain": [
       "[0, 2, 4, 6, 8, 10, 12, 14, 16, 18]"
      ]
     },
     "execution_count": 2,
     "metadata": {},
     "output_type": "execute_result"
    }
   ],
   "source": [
    "# list comprehension\n",
    "# syntex\n",
    "# [result/expression for loop condional statement]\n",
    "[i for i in range(20) if i%2==0]"
   ]
  },
  {
   "cell_type": "code",
   "execution_count": 1,
   "id": "c2cab99f-c8fc-4e33-8041-e6bca8cddcc2",
   "metadata": {},
   "outputs": [
    {
     "data": {
      "text/plain": [
       "[0, 7, 14, 21, 28, 35, 42, 49]"
      ]
     },
     "execution_count": 1,
     "metadata": {},
     "output_type": "execute_result"
    }
   ],
   "source": [
    "[i for i in range(50) if i%7==0]"
   ]
  },
  {
   "cell_type": "code",
   "execution_count": 12,
   "id": "28c50f9a",
   "metadata": {},
   "outputs": [
    {
     "data": {
      "text/plain": [
       "[0, 2, 4, 6, 8, 10, 12, 14, 16, 18]"
      ]
     },
     "execution_count": 12,
     "metadata": {},
     "output_type": "execute_result"
    }
   ],
   "source": [
    "l=[]\n",
    "for i in range(20):\n",
    "    if i%2==0:\n",
    "        l.append(i)\n",
    "\n",
    "l"
   ]
  },
  {
   "cell_type": "code",
   "execution_count": 3,
   "id": "05812c16",
   "metadata": {},
   "outputs": [
    {
     "data": {
      "text/plain": [
       "[2, 3, 5, 7, 11, 13, 17, 19, 23, 29, 31, 37, 41, 43, 47]"
      ]
     },
     "execution_count": 3,
     "metadata": {},
     "output_type": "execute_result"
    }
   ],
   "source": [
    "def prime(n):\n",
    "    if n==2 or n==3:\n",
    "        return True\n",
    "    s=int(n**(1/2))\n",
    "    for i in range(2,s+1):\n",
    "        if n%i==0:\n",
    "            return False\n",
    "    return True\n",
    "[i for i in range(2,50) if prime(i)]"
   ]
  },
  {
   "cell_type": "code",
   "execution_count": null,
   "id": "a1f1a780-09ac-4c33-9d2e-ebee996f82e9",
   "metadata": {},
   "outputs": [],
   "source": []
  },
  {
   "cell_type": "code",
   "execution_count": 8,
   "id": "d8ce982f",
   "metadata": {},
   "outputs": [
    {
     "data": {
      "text/plain": [
       "[[1, 4, 0, 5], [2, 5, 9, 6], [3, 6, 8, 7]]"
      ]
     },
     "execution_count": 8,
     "metadata": {},
     "output_type": "execute_result"
    }
   ],
   "source": [
    "# matrix transpose\n",
    "l=[\n",
    "    [1,2,3],\n",
    "    [4,5,6],\n",
    "    [0,9,8],\n",
    "    [5,6,7]\n",
    "]\n",
    "# l[0][0],l[1][0],l[2][0],l[3][0]\n",
    "# output-->\n",
    "# [\n",
    "#     [1,4,0,5],\n",
    "#     [2,5,9,6],\n",
    "#     [3,6,8,7]\n",
    "# ]\n",
    "[[l[j][i] for j in range(len(l))] for i in range(len(l[0]))]"
   ]
  },
  {
   "cell_type": "code",
   "execution_count": 10,
   "id": "2e065316-1219-48e4-9e4d-78d76917dda9",
   "metadata": {},
   "outputs": [
    {
     "data": {
      "text/plain": [
       "[[1, 4, 0, 5], [2, 5, 9, 6], [3, 6, 8, 7]]"
      ]
     },
     "execution_count": 10,
     "metadata": {},
     "output_type": "execute_result"
    }
   ],
   "source": [
    "m=[]\n",
    "for i in range(len(l[0])):\n",
    "    a=[]\n",
    "    for j in range(len(l)):\n",
    "        a.append(l[j][i])\n",
    "    m.append(a)\n",
    "m"
   ]
  },
  {
   "cell_type": "code",
   "execution_count": 31,
   "id": "6e21ab61",
   "metadata": {},
   "outputs": [
    {
     "data": {
      "text/plain": [
       "9"
      ]
     },
     "execution_count": 31,
     "metadata": {},
     "output_type": "execute_result"
    }
   ],
   "source": [
    "# pythagorial triplets\n",
    "# a**2+b**2=c**2 (a,b,c)\n",
    "# ex- [(3,4,5),(6,8,10),(5,12,13)]"
   ]
  },
  {
   "cell_type": "code",
   "execution_count": 13,
   "id": "4e3e7274",
   "metadata": {},
   "outputs": [
    {
     "name": "stdout",
     "output_type": "stream",
     "text": [
      "(3, 4, 5) (5, 12, 13) (6, 8, 10) (8, 15, 17) (9, 12, 15) "
     ]
    }
   ],
   "source": [
    "for a in range(1,20):\n",
    "    for b in range(a+1,20):\n",
    "        for c in range(b+1,20):\n",
    "            if a**2+b**2==c**2:\n",
    "                print((a,b,c),end=' ' )"
   ]
  },
  {
   "cell_type": "code",
   "execution_count": 14,
   "id": "1d505aa0",
   "metadata": {},
   "outputs": [
    {
     "data": {
      "text/plain": [
       "[(3, 4, 5), (5, 12, 13), (6, 8, 10), (8, 15, 17), (9, 12, 15)]"
      ]
     },
     "execution_count": 14,
     "metadata": {},
     "output_type": "execute_result"
    }
   ],
   "source": [
    "[(a,b,c) for a in range(1,20) for b in range(a+1,20) for c in range(b+1,20) if a**2+b**2==c**2]"
   ]
  },
  {
   "cell_type": "code",
   "execution_count": 15,
   "id": "3eadb203",
   "metadata": {},
   "outputs": [
    {
     "name": "stdin",
     "output_type": "stream",
     "text": [
      " 1 one 2 two 3 three 4 four 5 five 6 six 7 seven 8 eight\n"
     ]
    },
    {
     "data": {
      "text/plain": [
       "['1',\n",
       " 'one',\n",
       " '2',\n",
       " 'two',\n",
       " '3',\n",
       " 'three',\n",
       " '4',\n",
       " 'four',\n",
       " '5',\n",
       " 'five',\n",
       " '6',\n",
       " 'six',\n",
       " '7',\n",
       " 'seven',\n",
       " '8',\n",
       " 'eight']"
      ]
     },
     "execution_count": 15,
     "metadata": {},
     "output_type": "execute_result"
    }
   ],
   "source": [
    "# use only two lines of code \n",
    "# take input from users in form of '1 one 2 two 3 three 4 four 5 five 6 six 7 seven 8 eight'\n",
    "# first take the input and split it and then by using list comprehentsion start paring\n",
    "# filter the even number pair\n",
    "# square the numbers\n",
    "# output: [(4, 'two'), (16, 'four'), (36, 'six'), (64,'eight')]\n",
    "n = input().split()\n",
    "n"
   ]
  },
  {
   "cell_type": "code",
   "execution_count": 21,
   "id": "581cb3eb-d3ab-4a36-8cdf-2af22602fd1b",
   "metadata": {},
   "outputs": [
    {
     "data": {
      "text/plain": [
       "[(4, 'two'), (16, 'four'), (36, 'six'), (64, 'eight')]"
      ]
     },
     "execution_count": 21,
     "metadata": {},
     "output_type": "execute_result"
    }
   ],
   "source": [
    "list(map(lambda a: (a[0]**2, a[1]) , filter(lambda a: True if a[0]%2==0 else False, [(int(n[i]),n[i+1]) for i in range(0,len(n),2)])))"
   ]
  },
  {
   "cell_type": "code",
   "execution_count": null,
   "id": "b6b5528e-f1ff-4183-8a40-4dd8d9afe584",
   "metadata": {},
   "outputs": [],
   "source": []
  }
 ],
 "metadata": {
  "kernelspec": {
   "display_name": "Python 3 (ipykernel)",
   "language": "python",
   "name": "python3"
  },
  "language_info": {
   "codemirror_mode": {
    "name": "ipython",
    "version": 3
   },
   "file_extension": ".py",
   "mimetype": "text/x-python",
   "name": "python",
   "nbconvert_exporter": "python",
   "pygments_lexer": "ipython3",
   "version": "3.12.7"
  }
 },
 "nbformat": 4,
 "nbformat_minor": 5
}
