{
 "cells": [
  {
   "cell_type": "code",
   "execution_count": 1,
   "id": "25692a75",
   "metadata": {},
   "outputs": [],
   "source": [
    "# syntex\n",
    "# for variable in iterale value/generator:\n",
    "#     some line of code\n",
    "#     1 line code\n",
    "#     2nd line code\n",
    "#     if variable ==5:\n",
    "#          break"
   ]
  },
  {
   "cell_type": "code",
   "execution_count": 2,
   "id": "a14fa000",
   "metadata": {},
   "outputs": [
    {
     "name": "stdout",
     "output_type": "stream",
     "text": [
      "enter the number: 2000000011\n",
      "this is prime\n"
     ]
    }
   ],
   "source": [
    "# prime number\n",
    "n = int(input('enter the number: '))\n",
    "if 1<n<=3 or n==5:\n",
    "    print('this is prime')\n",
    "elif n==4 or n<=1:\n",
    "    print('not prime')\n",
    "if n>0:\n",
    "    s = int(n**(1/2))+1\n",
    "for i in range(2,s+1):\n",
    "    if n%i==0:\n",
    "        print('this is not prime')\n",
    "        break\n",
    "    elif i==s:\n",
    "        print('this is prime')\n",
    "        break"
   ]
  },
  {
   "cell_type": "code",
   "execution_count": 3,
   "id": "32cb20d2",
   "metadata": {},
   "outputs": [
    {
     "data": {
      "text/plain": [
       "2000000011"
      ]
     },
     "execution_count": 3,
     "metadata": {},
     "output_type": "execute_result"
    }
   ],
   "source": [
    "2000000011"
   ]
  },
  {
   "cell_type": "code",
   "execution_count": 4,
   "id": "08826ef3",
   "metadata": {},
   "outputs": [
    {
     "data": {
      "text/plain": [
       "15.5"
      ]
     },
     "execution_count": 4,
     "metadata": {},
     "output_type": "execute_result"
    }
   ],
   "source": [
    "31/2"
   ]
  },
  {
   "cell_type": "code",
   "execution_count": 5,
   "id": "b3ef824d",
   "metadata": {},
   "outputs": [
    {
     "data": {
      "text/plain": [
       "10.333333333333334"
      ]
     },
     "execution_count": 5,
     "metadata": {},
     "output_type": "execute_result"
    }
   ],
   "source": [
    "31/3"
   ]
  },
  {
   "cell_type": "code",
   "execution_count": 6,
   "id": "f7a42b97",
   "metadata": {},
   "outputs": [
    {
     "data": {
      "text/plain": [
       "7.75"
      ]
     },
     "execution_count": 6,
     "metadata": {},
     "output_type": "execute_result"
    }
   ],
   "source": [
    "31/4"
   ]
  },
  {
   "cell_type": "code",
   "execution_count": 7,
   "id": "75425167",
   "metadata": {},
   "outputs": [
    {
     "data": {
      "text/plain": [
       "6.2"
      ]
     },
     "execution_count": 7,
     "metadata": {},
     "output_type": "execute_result"
    }
   ],
   "source": [
    "31/5"
   ]
  },
  {
   "cell_type": "code",
   "execution_count": 8,
   "id": "9696141d",
   "metadata": {},
   "outputs": [
    {
     "data": {
      "text/plain": [
       "3.875"
      ]
     },
     "execution_count": 8,
     "metadata": {},
     "output_type": "execute_result"
    }
   ],
   "source": [
    "31/8"
   ]
  },
  {
   "cell_type": "code",
   "execution_count": 9,
   "id": "2ec3c4bb",
   "metadata": {},
   "outputs": [
    {
     "data": {
      "text/plain": [
       "(2, 3, 4, 5, 6)"
      ]
     },
     "execution_count": 9,
     "metadata": {},
     "output_type": "execute_result"
    }
   ],
   "source": [
    "2,3,4,5,6"
   ]
  },
  {
   "cell_type": "code",
   "execution_count": 10,
   "id": "16e1ffb5",
   "metadata": {},
   "outputs": [
    {
     "data": {
      "text/plain": [
       "6"
      ]
     },
     "execution_count": 10,
     "metadata": {},
     "output_type": "execute_result"
    }
   ],
   "source": [
    "int(31**(1/2))+1"
   ]
  },
  {
   "cell_type": "code",
   "execution_count": 11,
   "id": "824ad6ae",
   "metadata": {},
   "outputs": [],
   "source": [
    "# find if the numer is odd or even \n",
    "# find the smallest factor of a number which is grater than 1\n",
    "# ex1 - 15 - 1,3,5,15 -> 3\n",
    "# ex2 - 35 - 1,5,7,35 -> 5\n",
    "# ex3 - 24 - 1,2,3,4,6,8,24 -> 2"
   ]
  },
  {
   "cell_type": "code",
   "execution_count": null,
   "id": "ec507873",
   "metadata": {},
   "outputs": [],
   "source": []
  }
 ],
 "metadata": {
  "kernelspec": {
   "display_name": "Python 3 (ipykernel)",
   "language": "python",
   "name": "python3"
  },
  "language_info": {
   "codemirror_mode": {
    "name": "ipython",
    "version": 3
   },
   "file_extension": ".py",
   "mimetype": "text/x-python",
   "name": "python",
   "nbconvert_exporter": "python",
   "pygments_lexer": "ipython3",
   "version": "3.10.9"
  }
 },
 "nbformat": 4,
 "nbformat_minor": 5
}
