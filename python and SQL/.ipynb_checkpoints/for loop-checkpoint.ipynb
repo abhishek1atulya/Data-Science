{
 "cells": [
  {
   "cell_type": "code",
   "execution_count": null,
   "id": "0db572aa-e715-43d1-8998-1beed159df13",
   "metadata": {},
   "outputs": [],
   "source": [
    "# integer and float\n",
    "\n",
    "# * :-***\n",
    "# 2*3\n",
    "#  :-***\n",
    "# s=2\n",
    "# s*=3\n",
    "# s\n",
    "# ** :-***\n",
    "# % :-***\n",
    "# + :-***\n",
    "# += :-***\n",
    "# - :-***\n",
    "# -= :-***\n",
    "# / :-***\n",
    "# /= :-***\n",
    "# // :-***\n",
    "# == :-***\n",
    "# != :-***\n",
    "\n",
    "# and :-***\n",
    "# or :-***\n",
    "# in :-***\n",
    "# not :-***\n",
    "# not in :-***\n",
    "\n",
    "# type :-***\n",
    "# id :-**\n",
    "# str :-***\n",
    "# int :-***\n",
    "# float :-***\n",
    "# input :-***"
   ]
  },
  {
   "cell_type": "code",
   "execution_count": 2,
   "id": "82c5dc3c-0ecf-4af3-9612-d32ebc1ea78d",
   "metadata": {},
   "outputs": [
    {
     "data": {
      "text/plain": [
       "3"
      ]
     },
     "execution_count": 2,
     "metadata": {},
     "output_type": "execute_result"
    }
   ],
   "source": [
    "a=2\n",
    "a=a+1 # a+=1\n",
    "a"
   ]
  },
  {
   "cell_type": "code",
   "execution_count": 7,
   "id": "6939020b-9a00-4730-872e-cbbb5804002b",
   "metadata": {},
   "outputs": [
    {
     "data": {
      "text/plain": [
       "8"
      ]
     },
     "execution_count": 7,
     "metadata": {},
     "output_type": "execute_result"
    }
   ],
   "source": [
    "a+=1\n",
    "a"
   ]
  },
  {
   "cell_type": "code",
   "execution_count": 8,
   "id": "c23d167d-c18e-41aa-b34a-7255c8b9526d",
   "metadata": {},
   "outputs": [
    {
     "data": {
      "text/plain": [
       "8"
      ]
     },
     "execution_count": 8,
     "metadata": {},
     "output_type": "execute_result"
    }
   ],
   "source": [
    "a"
   ]
  },
  {
   "cell_type": "code",
   "execution_count": 24,
   "id": "0dd565c1-cb6b-441f-a329-e17deeda3757",
   "metadata": {},
   "outputs": [
    {
     "data": {
      "text/plain": [
       "2.0"
      ]
     },
     "execution_count": 24,
     "metadata": {},
     "output_type": "execute_result"
    }
   ],
   "source": [
    "a/=2\n",
    "a"
   ]
  },
  {
   "cell_type": "code",
   "execution_count": 25,
   "id": "842df49d-dcde-4951-aa69-df6fb1960612",
   "metadata": {},
   "outputs": [
    {
     "data": {
      "text/plain": [
       "1"
      ]
     },
     "execution_count": 25,
     "metadata": {},
     "output_type": "execute_result"
    }
   ],
   "source": [
    "3%2"
   ]
  },
  {
   "cell_type": "code",
   "execution_count": 26,
   "id": "e2d3c21d-b4b5-4bdb-9c1b-87b6a9b084db",
   "metadata": {},
   "outputs": [
    {
     "data": {
      "text/plain": [
       "20"
      ]
     },
     "execution_count": 26,
     "metadata": {},
     "output_type": "execute_result"
    }
   ],
   "source": [
    "20%35\n",
    "# 5\n",
    "# 15\n",
    "# 20\n",
    "# 0"
   ]
  },
  {
   "cell_type": "code",
   "execution_count": 27,
   "id": "d028a3f9-3a92-4d66-b1cd-cb8d873371e8",
   "metadata": {},
   "outputs": [
    {
     "data": {
      "text/plain": [
       "True"
      ]
     },
     "execution_count": 27,
     "metadata": {},
     "output_type": "execute_result"
    }
   ],
   "source": [
    "not None"
   ]
  },
  {
   "cell_type": "markdown",
   "id": "73072e7d-01fc-4c02-8a82-3f45cde9f8cc",
   "metadata": {},
   "source": [
    "### Conditional Statement"
   ]
  },
  {
   "cell_type": "code",
   "execution_count": null,
   "id": "51e0a973-21ed-4725-9f2d-257409716a3d",
   "metadata": {},
   "outputs": [],
   "source": [
    "# syntex\n",
    "# if bool:\n",
    "    # pass(some lines of code)\n",
    "# elif bool: (it always comes after if)\n",
    "    #pass(some lines of code)\n",
    "# elif bool: (it always comes after if)\n",
    "    #pass(some lines of code)\n",
    "# else:\n",
    "#     pass(some lines of code)"
   ]
  },
  {
   "cell_type": "code",
   "execution_count": 29,
   "id": "94d44d33-0aa8-4b38-9d81-d5a0e002ba24",
   "metadata": {},
   "outputs": [
    {
     "data": {
      "text/plain": [
       "False"
      ]
     },
     "execution_count": 29,
     "metadata": {},
     "output_type": "execute_result"
    }
   ],
   "source": [
    "5<2"
   ]
  },
  {
   "cell_type": "code",
   "execution_count": 42,
   "id": "88d6bdda-16ea-40c7-8d4e-f02773c719d5",
   "metadata": {},
   "outputs": [
    {
     "name": "stdout",
     "output_type": "stream",
     "text": [
      "something\n"
     ]
    }
   ],
   "source": [
    "if True:\n",
    "    print('something')\n",
    "elif True:\n",
    "    print('anything')\n",
    "    "
   ]
  },
  {
   "cell_type": "code",
   "execution_count": 47,
   "id": "682f3d2c-2a7f-4400-8fef-883abfa963d6",
   "metadata": {},
   "outputs": [
    {
     "name": "stdout",
     "output_type": "stream",
     "text": [
      "else\n",
      "multiple if\n"
     ]
    }
   ],
   "source": [
    "if False:\n",
    "    print('something')\n",
    "elif None:\n",
    "    print('anything')\n",
    "elif 0:\n",
    "    print('kuchh bhi')\n",
    "else:\n",
    "    print('else')\n",
    "if True:\n",
    "    print('multiple if')"
   ]
  },
  {
   "cell_type": "code",
   "execution_count": 49,
   "id": "d7758b46-a033-4a4d-9689-8351bbb4188d",
   "metadata": {},
   "outputs": [
    {
     "name": "stdout",
     "output_type": "stream",
     "text": [
      "something\n"
     ]
    }
   ],
   "source": [
    "if 3:\n",
    "    print('something')"
   ]
  },
  {
   "cell_type": "code",
   "execution_count": 33,
   "id": "f350000e-8c24-4953-84e7-09cbc49ccbea",
   "metadata": {},
   "outputs": [],
   "source": [
    "if None:\n",
    "    print('something')"
   ]
  },
  {
   "cell_type": "code",
   "execution_count": 39,
   "id": "59cf01bc-b75d-46b8-a6a0-ce7ff6ea68af",
   "metadata": {},
   "outputs": [
    {
     "name": "stdout",
     "output_type": "stream",
     "text": [
      "qwertyuio\n"
     ]
    }
   ],
   "source": [
    "if 0:\n",
    "    print('kuchh bhi')\n",
    "    print('something')\n",
    "    print('anything')\n",
    "print('qwertyuio')"
   ]
  },
  {
   "cell_type": "code",
   "execution_count": 66,
   "id": "0932a936-de4e-4c93-92fc-da3656dd15f0",
   "metadata": {},
   "outputs": [
    {
     "name": "stdin",
     "output_type": "stream",
     "text": [
      "enter the number 21\n"
     ]
    },
    {
     "name": "stdout",
     "output_type": "stream",
     "text": [
      "21 is not divisible by any of above value\n"
     ]
    }
   ],
   "source": [
    "n = int(input('enter the number'))\n",
    "if n%3==0:\n",
    "    if n%6==0:\n",
    "        print(f'{n} is divisible by 6 and 3')\n",
    "elif n%3==0:\n",
    "    print(f'{n} is divisible by 3')\n",
    "if n%16==0:\n",
    "    print(f'{n} is divisible by 16')\n",
    "elif n%8==0:\n",
    "    print(f'{n} is divisible by 8')\n",
    "elif n%4==0:\n",
    "    print(f'{n} is divisible by 4')\n",
    "elif n%2==0:\n",
    "    print(f'{n} is divisible by 2')\n",
    "else:\n",
    "    print(f'{n} is not divisible by any of above value')"
   ]
  },
  {
   "cell_type": "code",
   "execution_count": 56,
   "id": "9477ccae-64cc-452e-ac64-1e71710548cd",
   "metadata": {},
   "outputs": [
    {
     "data": {
      "text/plain": [
       "12"
      ]
     },
     "execution_count": 56,
     "metadata": {},
     "output_type": "execute_result"
    }
   ],
   "source": [
    "12%16"
   ]
  },
  {
   "cell_type": "code",
   "execution_count": 55,
   "id": "2ddf0c52-9ff9-4a78-aac8-f89cd57fd123",
   "metadata": {
    "scrolled": true
   },
   "outputs": [
    {
     "data": {
      "text/plain": [
       "False"
      ]
     },
     "execution_count": 55,
     "metadata": {},
     "output_type": "execute_result"
    }
   ],
   "source": [
    "12%16==0"
   ]
  },
  {
   "cell_type": "code",
   "execution_count": 51,
   "id": "d3657c04-c552-4298-8f2c-59de5a60bf1b",
   "metadata": {},
   "outputs": [
    {
     "data": {
      "text/plain": [
       "0"
      ]
     },
     "execution_count": 51,
     "metadata": {},
     "output_type": "execute_result"
    }
   ],
   "source": [
    "32%16"
   ]
  },
  {
   "cell_type": "code",
   "execution_count": 68,
   "id": "d59f5cd8-24cd-4e5b-abb3-0c87ac425b55",
   "metadata": {},
   "outputs": [
    {
     "name": "stdin",
     "output_type": "stream",
     "text": [
      "enter the number:  32\n"
     ]
    },
    {
     "name": "stdout",
     "output_type": "stream",
     "text": [
      "even\n"
     ]
    }
   ],
   "source": [
    "# write the code to check even number\n",
    "n = int(input('enter the number: '))\n",
    "if n%2==0:\n",
    "    print('even')\n",
    "else:\n",
    "    print('odd')"
   ]
  },
  {
   "cell_type": "code",
   "execution_count": 3,
   "id": "24cd4116-f304-454e-902e-27b3f965a934",
   "metadata": {},
   "outputs": [
    {
     "name": "stdin",
     "output_type": "stream",
     "text": [
      "enter the number:  100000007\n"
     ]
    },
    {
     "name": "stdout",
     "output_type": "stream",
     "text": [
      "prime\n"
     ]
    }
   ],
   "source": [
    "# write the code to check prime number\n",
    "n = int(input('enter the number: '))\n",
    "for i in range(2,n):\n",
    "    if n%i==0:\n",
    "        print('Not prime')\n",
    "        break\n",
    "    elif i==n-1:\n",
    "        print('prime')"
   ]
  },
  {
   "cell_type": "code",
   "execution_count": 1,
   "id": "4624d7ed-30fa-4004-a3b1-50700c77412b",
   "metadata": {},
   "outputs": [
    {
     "name": "stdin",
     "output_type": "stream",
     "text": [
      "enter the number:  50\n"
     ]
    },
    {
     "name": "stdout",
     "output_type": "stream",
     "text": [
      "3\n",
      "4 Not prime\n",
      "5\n",
      "6 Not prime\n",
      "7\n",
      "8 Not prime\n",
      "9 Not prime\n",
      "10 Not prime\n",
      "11\n",
      "12 Not prime\n",
      "13\n",
      "14 Not prime\n",
      "15 Not prime\n",
      "16 Not prime\n",
      "17\n",
      "18 Not prime\n",
      "19\n",
      "20 Not prime\n",
      "21 Not prime\n",
      "22 Not prime\n",
      "23\n",
      "24 Not prime\n",
      "25 Not prime\n",
      "26 Not prime\n",
      "27 Not prime\n",
      "28 Not prime\n",
      "29\n",
      "30 Not prime\n",
      "31\n",
      "32 Not prime\n",
      "33 Not prime\n",
      "34 Not prime\n",
      "35 Not prime\n",
      "36 Not prime\n",
      "37\n",
      "38 Not prime\n",
      "39 Not prime\n",
      "40 Not prime\n",
      "41\n",
      "42 Not prime\n",
      "43\n",
      "44 Not prime\n",
      "45 Not prime\n",
      "46 Not prime\n",
      "47\n",
      "48 Not prime\n",
      "49 Not prime\n"
     ]
    }
   ],
   "source": [
    "n = int(input('enter the number: '))\n",
    "for j in range(3,n):\n",
    "    # print(j)\n",
    "    for i in range(2,j):\n",
    "        # print(i)\n",
    "        if j%i==0:\n",
    "            print(j, 'Not prime')\n",
    "            break\n",
    "        elif i==j-1:\n",
    "            print(j)\n",
    "            pass"
   ]
  },
  {
   "cell_type": "code",
   "execution_count": 25,
   "id": "76347bec-0145-4ffe-a97c-dad1f597b46c",
   "metadata": {},
   "outputs": [
    {
     "name": "stdin",
     "output_type": "stream",
     "text": [
      "enter the number:  100000007\n"
     ]
    },
    {
     "name": "stdout",
     "output_type": "stream",
     "text": [
      "prime\n"
     ]
    }
   ],
   "source": [
    "# write the code to check prime number\n",
    "n = int(input('enter the number: '))\n",
    "for i in range(2,n):\n",
    "    if n%i==0:\n",
    "        print('Not prime')\n",
    "        break\n",
    "    elif i==n-1:\n",
    "        print('prime')"
   ]
  },
  {
   "cell_type": "code",
   "execution_count": 28,
   "id": "70ed5c12-9a70-4138-a474-f3e2bd7db610",
   "metadata": {},
   "outputs": [
    {
     "name": "stdin",
     "output_type": "stream",
     "text": [
      "enter the number:  100000007\n"
     ]
    },
    {
     "name": "stdout",
     "output_type": "stream",
     "text": [
      "prime\n"
     ]
    }
   ],
   "source": [
    "# write the code to check prime number\n",
    "n = int(input('enter the number: '))\n",
    "s= int(n**(1/2))\n",
    "for i in range(2,s+1):\n",
    "    if n%i==0:\n",
    "        print('Not prime')\n",
    "        break\n",
    "    elif i==s:\n",
    "        print('prime')"
   ]
  },
  {
   "cell_type": "code",
   "execution_count": 32,
   "id": "5a5d58ad-d13e-4a01-b2a2-8deb4eb23a5d",
   "metadata": {
    "scrolled": true
   },
   "outputs": [
    {
     "name": "stdin",
     "output_type": "stream",
     "text": [
      "enter the number:  1000\n"
     ]
    },
    {
     "name": "stdout",
     "output_type": "stream",
     "text": [
      "4 Not prime\n",
      "5\n",
      "6 Not prime\n",
      "7\n",
      "8 Not prime\n",
      "9 Not prime\n",
      "10 Not prime\n",
      "11\n",
      "12 Not prime\n",
      "13\n",
      "14 Not prime\n",
      "15 Not prime\n",
      "16 Not prime\n",
      "17\n",
      "18 Not prime\n",
      "19\n",
      "20 Not prime\n",
      "21 Not prime\n",
      "22 Not prime\n",
      "23\n",
      "24 Not prime\n",
      "25 Not prime\n",
      "26 Not prime\n",
      "27 Not prime\n",
      "28 Not prime\n",
      "29\n",
      "30 Not prime\n",
      "31\n",
      "32 Not prime\n",
      "33 Not prime\n",
      "34 Not prime\n",
      "35 Not prime\n",
      "36 Not prime\n",
      "37\n",
      "38 Not prime\n",
      "39 Not prime\n",
      "40 Not prime\n",
      "41\n",
      "42 Not prime\n",
      "43\n",
      "44 Not prime\n",
      "45 Not prime\n",
      "46 Not prime\n",
      "47\n",
      "48 Not prime\n",
      "49 Not prime\n",
      "50 Not prime\n",
      "51 Not prime\n",
      "52 Not prime\n",
      "53\n",
      "54 Not prime\n",
      "55 Not prime\n",
      "56 Not prime\n",
      "57 Not prime\n",
      "58 Not prime\n",
      "59\n",
      "60 Not prime\n",
      "61\n",
      "62 Not prime\n",
      "63 Not prime\n",
      "64 Not prime\n",
      "65 Not prime\n",
      "66 Not prime\n",
      "67\n",
      "68 Not prime\n",
      "69 Not prime\n",
      "70 Not prime\n",
      "71\n",
      "72 Not prime\n",
      "73\n",
      "74 Not prime\n",
      "75 Not prime\n",
      "76 Not prime\n",
      "77 Not prime\n",
      "78 Not prime\n",
      "79\n",
      "80 Not prime\n",
      "81 Not prime\n",
      "82 Not prime\n",
      "83\n",
      "84 Not prime\n",
      "85 Not prime\n",
      "86 Not prime\n",
      "87 Not prime\n",
      "88 Not prime\n",
      "89\n",
      "90 Not prime\n",
      "91 Not prime\n",
      "92 Not prime\n",
      "93 Not prime\n",
      "94 Not prime\n",
      "95 Not prime\n",
      "96 Not prime\n",
      "97\n",
      "98 Not prime\n",
      "99 Not prime\n",
      "100 Not prime\n",
      "101\n",
      "102 Not prime\n",
      "103\n",
      "104 Not prime\n",
      "105 Not prime\n",
      "106 Not prime\n",
      "107\n",
      "108 Not prime\n",
      "109\n",
      "110 Not prime\n",
      "111 Not prime\n",
      "112 Not prime\n",
      "113\n",
      "114 Not prime\n",
      "115 Not prime\n",
      "116 Not prime\n",
      "117 Not prime\n",
      "118 Not prime\n",
      "119 Not prime\n",
      "120 Not prime\n",
      "121 Not prime\n",
      "122 Not prime\n",
      "123 Not prime\n",
      "124 Not prime\n",
      "125 Not prime\n",
      "126 Not prime\n",
      "127\n",
      "128 Not prime\n",
      "129 Not prime\n",
      "130 Not prime\n",
      "131\n",
      "132 Not prime\n",
      "133 Not prime\n",
      "134 Not prime\n",
      "135 Not prime\n",
      "136 Not prime\n",
      "137\n",
      "138 Not prime\n",
      "139\n",
      "140 Not prime\n",
      "141 Not prime\n",
      "142 Not prime\n",
      "143 Not prime\n",
      "144 Not prime\n",
      "145 Not prime\n",
      "146 Not prime\n",
      "147 Not prime\n",
      "148 Not prime\n",
      "149\n",
      "150 Not prime\n",
      "151\n",
      "152 Not prime\n",
      "153 Not prime\n",
      "154 Not prime\n",
      "155 Not prime\n",
      "156 Not prime\n",
      "157\n",
      "158 Not prime\n",
      "159 Not prime\n",
      "160 Not prime\n",
      "161 Not prime\n",
      "162 Not prime\n",
      "163\n",
      "164 Not prime\n",
      "165 Not prime\n",
      "166 Not prime\n",
      "167\n",
      "168 Not prime\n",
      "169 Not prime\n",
      "170 Not prime\n",
      "171 Not prime\n",
      "172 Not prime\n",
      "173\n",
      "174 Not prime\n",
      "175 Not prime\n",
      "176 Not prime\n",
      "177 Not prime\n",
      "178 Not prime\n",
      "179\n",
      "180 Not prime\n",
      "181\n",
      "182 Not prime\n",
      "183 Not prime\n",
      "184 Not prime\n",
      "185 Not prime\n",
      "186 Not prime\n",
      "187 Not prime\n",
      "188 Not prime\n",
      "189 Not prime\n",
      "190 Not prime\n",
      "191\n",
      "192 Not prime\n",
      "193\n",
      "194 Not prime\n",
      "195 Not prime\n",
      "196 Not prime\n",
      "197\n",
      "198 Not prime\n",
      "199\n",
      "200 Not prime\n",
      "201 Not prime\n",
      "202 Not prime\n",
      "203 Not prime\n",
      "204 Not prime\n",
      "205 Not prime\n",
      "206 Not prime\n",
      "207 Not prime\n",
      "208 Not prime\n",
      "209 Not prime\n",
      "210 Not prime\n",
      "211\n",
      "212 Not prime\n",
      "213 Not prime\n",
      "214 Not prime\n",
      "215 Not prime\n",
      "216 Not prime\n",
      "217 Not prime\n",
      "218 Not prime\n",
      "219 Not prime\n",
      "220 Not prime\n",
      "221 Not prime\n",
      "222 Not prime\n",
      "223\n",
      "224 Not prime\n",
      "225 Not prime\n",
      "226 Not prime\n",
      "227\n",
      "228 Not prime\n",
      "229\n",
      "230 Not prime\n",
      "231 Not prime\n",
      "232 Not prime\n",
      "233\n",
      "234 Not prime\n",
      "235 Not prime\n",
      "236 Not prime\n",
      "237 Not prime\n",
      "238 Not prime\n",
      "239\n",
      "240 Not prime\n",
      "241\n",
      "242 Not prime\n",
      "243 Not prime\n",
      "244 Not prime\n",
      "245 Not prime\n",
      "246 Not prime\n",
      "247 Not prime\n",
      "248 Not prime\n",
      "249 Not prime\n",
      "250 Not prime\n",
      "251\n",
      "252 Not prime\n",
      "253 Not prime\n",
      "254 Not prime\n",
      "255 Not prime\n",
      "256 Not prime\n",
      "257\n",
      "258 Not prime\n",
      "259 Not prime\n",
      "260 Not prime\n",
      "261 Not prime\n",
      "262 Not prime\n",
      "263\n",
      "264 Not prime\n",
      "265 Not prime\n",
      "266 Not prime\n",
      "267 Not prime\n",
      "268 Not prime\n",
      "269\n",
      "270 Not prime\n",
      "271\n",
      "272 Not prime\n",
      "273 Not prime\n",
      "274 Not prime\n",
      "275 Not prime\n",
      "276 Not prime\n",
      "277\n",
      "278 Not prime\n",
      "279 Not prime\n",
      "280 Not prime\n",
      "281\n",
      "282 Not prime\n",
      "283\n",
      "284 Not prime\n",
      "285 Not prime\n",
      "286 Not prime\n",
      "287 Not prime\n",
      "288 Not prime\n",
      "289 Not prime\n",
      "290 Not prime\n",
      "291 Not prime\n",
      "292 Not prime\n",
      "293\n",
      "294 Not prime\n",
      "295 Not prime\n",
      "296 Not prime\n",
      "297 Not prime\n",
      "298 Not prime\n",
      "299 Not prime\n",
      "300 Not prime\n",
      "301 Not prime\n",
      "302 Not prime\n",
      "303 Not prime\n",
      "304 Not prime\n",
      "305 Not prime\n",
      "306 Not prime\n",
      "307\n",
      "308 Not prime\n",
      "309 Not prime\n",
      "310 Not prime\n",
      "311\n",
      "312 Not prime\n",
      "313\n",
      "314 Not prime\n",
      "315 Not prime\n",
      "316 Not prime\n",
      "317\n",
      "318 Not prime\n",
      "319 Not prime\n",
      "320 Not prime\n",
      "321 Not prime\n",
      "322 Not prime\n",
      "323 Not prime\n",
      "324 Not prime\n",
      "325 Not prime\n",
      "326 Not prime\n",
      "327 Not prime\n",
      "328 Not prime\n",
      "329 Not prime\n",
      "330 Not prime\n",
      "331\n",
      "332 Not prime\n",
      "333 Not prime\n",
      "334 Not prime\n",
      "335 Not prime\n",
      "336 Not prime\n",
      "337\n",
      "338 Not prime\n",
      "339 Not prime\n",
      "340 Not prime\n",
      "341 Not prime\n",
      "342 Not prime\n",
      "343 Not prime\n",
      "344 Not prime\n",
      "345 Not prime\n",
      "346 Not prime\n",
      "347\n",
      "348 Not prime\n",
      "349\n",
      "350 Not prime\n",
      "351 Not prime\n",
      "352 Not prime\n",
      "353\n",
      "354 Not prime\n",
      "355 Not prime\n",
      "356 Not prime\n",
      "357 Not prime\n",
      "358 Not prime\n",
      "359\n",
      "360 Not prime\n",
      "361 Not prime\n",
      "362 Not prime\n",
      "363 Not prime\n",
      "364 Not prime\n",
      "365 Not prime\n",
      "366 Not prime\n",
      "367\n",
      "368 Not prime\n",
      "369 Not prime\n",
      "370 Not prime\n",
      "371 Not prime\n",
      "372 Not prime\n",
      "373\n",
      "374 Not prime\n",
      "375 Not prime\n",
      "376 Not prime\n",
      "377 Not prime\n",
      "378 Not prime\n",
      "379\n",
      "380 Not prime\n",
      "381 Not prime\n",
      "382 Not prime\n",
      "383\n",
      "384 Not prime\n",
      "385 Not prime\n",
      "386 Not prime\n",
      "387 Not prime\n",
      "388 Not prime\n",
      "389\n",
      "390 Not prime\n",
      "391 Not prime\n",
      "392 Not prime\n",
      "393 Not prime\n",
      "394 Not prime\n",
      "395 Not prime\n",
      "396 Not prime\n",
      "397\n",
      "398 Not prime\n",
      "399 Not prime\n",
      "400 Not prime\n",
      "401\n",
      "402 Not prime\n",
      "403 Not prime\n",
      "404 Not prime\n",
      "405 Not prime\n",
      "406 Not prime\n",
      "407 Not prime\n",
      "408 Not prime\n",
      "409\n",
      "410 Not prime\n",
      "411 Not prime\n",
      "412 Not prime\n",
      "413 Not prime\n",
      "414 Not prime\n",
      "415 Not prime\n",
      "416 Not prime\n",
      "417 Not prime\n",
      "418 Not prime\n",
      "419\n",
      "420 Not prime\n",
      "421\n",
      "422 Not prime\n",
      "423 Not prime\n",
      "424 Not prime\n",
      "425 Not prime\n",
      "426 Not prime\n",
      "427 Not prime\n",
      "428 Not prime\n",
      "429 Not prime\n",
      "430 Not prime\n",
      "431\n",
      "432 Not prime\n",
      "433\n",
      "434 Not prime\n",
      "435 Not prime\n",
      "436 Not prime\n",
      "437 Not prime\n",
      "438 Not prime\n",
      "439\n",
      "440 Not prime\n",
      "441 Not prime\n",
      "442 Not prime\n",
      "443\n",
      "444 Not prime\n",
      "445 Not prime\n",
      "446 Not prime\n",
      "447 Not prime\n",
      "448 Not prime\n",
      "449\n",
      "450 Not prime\n",
      "451 Not prime\n",
      "452 Not prime\n",
      "453 Not prime\n",
      "454 Not prime\n",
      "455 Not prime\n",
      "456 Not prime\n",
      "457\n",
      "458 Not prime\n",
      "459 Not prime\n",
      "460 Not prime\n",
      "461\n",
      "462 Not prime\n",
      "463\n",
      "464 Not prime\n",
      "465 Not prime\n",
      "466 Not prime\n",
      "467\n",
      "468 Not prime\n",
      "469 Not prime\n",
      "470 Not prime\n",
      "471 Not prime\n",
      "472 Not prime\n",
      "473 Not prime\n",
      "474 Not prime\n",
      "475 Not prime\n",
      "476 Not prime\n",
      "477 Not prime\n",
      "478 Not prime\n",
      "479\n",
      "480 Not prime\n",
      "481 Not prime\n",
      "482 Not prime\n",
      "483 Not prime\n",
      "484 Not prime\n",
      "485 Not prime\n",
      "486 Not prime\n",
      "487\n",
      "488 Not prime\n",
      "489 Not prime\n",
      "490 Not prime\n",
      "491\n",
      "492 Not prime\n",
      "493 Not prime\n",
      "494 Not prime\n",
      "495 Not prime\n",
      "496 Not prime\n",
      "497 Not prime\n",
      "498 Not prime\n",
      "499\n",
      "500 Not prime\n",
      "501 Not prime\n",
      "502 Not prime\n",
      "503\n",
      "504 Not prime\n",
      "505 Not prime\n",
      "506 Not prime\n",
      "507 Not prime\n",
      "508 Not prime\n",
      "509\n",
      "510 Not prime\n",
      "511 Not prime\n",
      "512 Not prime\n",
      "513 Not prime\n",
      "514 Not prime\n",
      "515 Not prime\n",
      "516 Not prime\n",
      "517 Not prime\n",
      "518 Not prime\n",
      "519 Not prime\n",
      "520 Not prime\n",
      "521\n",
      "522 Not prime\n",
      "523\n",
      "524 Not prime\n",
      "525 Not prime\n",
      "526 Not prime\n",
      "527 Not prime\n",
      "528 Not prime\n",
      "529 Not prime\n",
      "530 Not prime\n",
      "531 Not prime\n",
      "532 Not prime\n",
      "533 Not prime\n",
      "534 Not prime\n",
      "535 Not prime\n",
      "536 Not prime\n",
      "537 Not prime\n",
      "538 Not prime\n",
      "539 Not prime\n",
      "540 Not prime\n",
      "541\n",
      "542 Not prime\n",
      "543 Not prime\n",
      "544 Not prime\n",
      "545 Not prime\n",
      "546 Not prime\n",
      "547\n",
      "548 Not prime\n",
      "549 Not prime\n",
      "550 Not prime\n",
      "551 Not prime\n",
      "552 Not prime\n",
      "553 Not prime\n",
      "554 Not prime\n",
      "555 Not prime\n",
      "556 Not prime\n",
      "557\n",
      "558 Not prime\n",
      "559 Not prime\n",
      "560 Not prime\n",
      "561 Not prime\n",
      "562 Not prime\n",
      "563\n",
      "564 Not prime\n",
      "565 Not prime\n",
      "566 Not prime\n",
      "567 Not prime\n",
      "568 Not prime\n",
      "569\n",
      "570 Not prime\n",
      "571\n",
      "572 Not prime\n",
      "573 Not prime\n",
      "574 Not prime\n",
      "575 Not prime\n",
      "576 Not prime\n",
      "577\n",
      "578 Not prime\n",
      "579 Not prime\n",
      "580 Not prime\n",
      "581 Not prime\n",
      "582 Not prime\n",
      "583 Not prime\n",
      "584 Not prime\n",
      "585 Not prime\n",
      "586 Not prime\n",
      "587\n",
      "588 Not prime\n",
      "589 Not prime\n",
      "590 Not prime\n",
      "591 Not prime\n",
      "592 Not prime\n",
      "593\n",
      "594 Not prime\n",
      "595 Not prime\n",
      "596 Not prime\n",
      "597 Not prime\n",
      "598 Not prime\n",
      "599\n",
      "600 Not prime\n",
      "601\n",
      "602 Not prime\n",
      "603 Not prime\n",
      "604 Not prime\n",
      "605 Not prime\n",
      "606 Not prime\n",
      "607\n",
      "608 Not prime\n",
      "609 Not prime\n",
      "610 Not prime\n",
      "611 Not prime\n",
      "612 Not prime\n",
      "613\n",
      "614 Not prime\n",
      "615 Not prime\n",
      "616 Not prime\n",
      "617\n",
      "618 Not prime\n",
      "619\n",
      "620 Not prime\n",
      "621 Not prime\n",
      "622 Not prime\n",
      "623 Not prime\n",
      "624 Not prime\n",
      "625 Not prime\n",
      "626 Not prime\n",
      "627 Not prime\n",
      "628 Not prime\n",
      "629 Not prime\n",
      "630 Not prime\n",
      "631\n",
      "632 Not prime\n",
      "633 Not prime\n",
      "634 Not prime\n",
      "635 Not prime\n",
      "636 Not prime\n",
      "637 Not prime\n",
      "638 Not prime\n",
      "639 Not prime\n",
      "640 Not prime\n",
      "641\n",
      "642 Not prime\n",
      "643\n",
      "644 Not prime\n",
      "645 Not prime\n",
      "646 Not prime\n",
      "647\n",
      "648 Not prime\n",
      "649 Not prime\n",
      "650 Not prime\n",
      "651 Not prime\n",
      "652 Not prime\n",
      "653\n",
      "654 Not prime\n",
      "655 Not prime\n",
      "656 Not prime\n",
      "657 Not prime\n",
      "658 Not prime\n",
      "659\n",
      "660 Not prime\n",
      "661\n",
      "662 Not prime\n",
      "663 Not prime\n",
      "664 Not prime\n",
      "665 Not prime\n",
      "666 Not prime\n",
      "667 Not prime\n",
      "668 Not prime\n",
      "669 Not prime\n",
      "670 Not prime\n",
      "671 Not prime\n",
      "672 Not prime\n",
      "673\n",
      "674 Not prime\n",
      "675 Not prime\n",
      "676 Not prime\n",
      "677\n",
      "678 Not prime\n",
      "679 Not prime\n",
      "680 Not prime\n",
      "681 Not prime\n",
      "682 Not prime\n",
      "683\n",
      "684 Not prime\n",
      "685 Not prime\n",
      "686 Not prime\n",
      "687 Not prime\n",
      "688 Not prime\n",
      "689 Not prime\n",
      "690 Not prime\n",
      "691\n",
      "692 Not prime\n",
      "693 Not prime\n",
      "694 Not prime\n",
      "695 Not prime\n",
      "696 Not prime\n",
      "697 Not prime\n",
      "698 Not prime\n",
      "699 Not prime\n",
      "700 Not prime\n",
      "701\n",
      "702 Not prime\n",
      "703 Not prime\n",
      "704 Not prime\n",
      "705 Not prime\n",
      "706 Not prime\n",
      "707 Not prime\n",
      "708 Not prime\n",
      "709\n",
      "710 Not prime\n",
      "711 Not prime\n",
      "712 Not prime\n",
      "713 Not prime\n",
      "714 Not prime\n",
      "715 Not prime\n",
      "716 Not prime\n",
      "717 Not prime\n",
      "718 Not prime\n",
      "719\n",
      "720 Not prime\n",
      "721 Not prime\n",
      "722 Not prime\n",
      "723 Not prime\n",
      "724 Not prime\n",
      "725 Not prime\n",
      "726 Not prime\n",
      "727\n",
      "728 Not prime\n",
      "729 Not prime\n",
      "730 Not prime\n",
      "731 Not prime\n",
      "732 Not prime\n",
      "733\n",
      "734 Not prime\n",
      "735 Not prime\n",
      "736 Not prime\n",
      "737 Not prime\n",
      "738 Not prime\n",
      "739\n",
      "740 Not prime\n",
      "741 Not prime\n",
      "742 Not prime\n",
      "743\n",
      "744 Not prime\n",
      "745 Not prime\n",
      "746 Not prime\n",
      "747 Not prime\n",
      "748 Not prime\n",
      "749 Not prime\n",
      "750 Not prime\n",
      "751\n",
      "752 Not prime\n",
      "753 Not prime\n",
      "754 Not prime\n",
      "755 Not prime\n",
      "756 Not prime\n",
      "757\n",
      "758 Not prime\n",
      "759 Not prime\n",
      "760 Not prime\n",
      "761\n",
      "762 Not prime\n",
      "763 Not prime\n",
      "764 Not prime\n",
      "765 Not prime\n",
      "766 Not prime\n",
      "767 Not prime\n",
      "768 Not prime\n",
      "769\n",
      "770 Not prime\n",
      "771 Not prime\n",
      "772 Not prime\n",
      "773\n",
      "774 Not prime\n",
      "775 Not prime\n",
      "776 Not prime\n",
      "777 Not prime\n",
      "778 Not prime\n",
      "779 Not prime\n",
      "780 Not prime\n",
      "781 Not prime\n",
      "782 Not prime\n",
      "783 Not prime\n",
      "784 Not prime\n",
      "785 Not prime\n",
      "786 Not prime\n",
      "787\n",
      "788 Not prime\n",
      "789 Not prime\n",
      "790 Not prime\n",
      "791 Not prime\n",
      "792 Not prime\n",
      "793 Not prime\n",
      "794 Not prime\n",
      "795 Not prime\n",
      "796 Not prime\n",
      "797\n",
      "798 Not prime\n",
      "799 Not prime\n",
      "800 Not prime\n",
      "801 Not prime\n",
      "802 Not prime\n",
      "803 Not prime\n",
      "804 Not prime\n",
      "805 Not prime\n",
      "806 Not prime\n",
      "807 Not prime\n",
      "808 Not prime\n",
      "809\n",
      "810 Not prime\n",
      "811\n",
      "812 Not prime\n",
      "813 Not prime\n",
      "814 Not prime\n",
      "815 Not prime\n",
      "816 Not prime\n",
      "817 Not prime\n",
      "818 Not prime\n",
      "819 Not prime\n",
      "820 Not prime\n",
      "821\n",
      "822 Not prime\n",
      "823\n",
      "824 Not prime\n",
      "825 Not prime\n",
      "826 Not prime\n",
      "827\n",
      "828 Not prime\n",
      "829\n",
      "830 Not prime\n",
      "831 Not prime\n",
      "832 Not prime\n",
      "833 Not prime\n",
      "834 Not prime\n",
      "835 Not prime\n",
      "836 Not prime\n",
      "837 Not prime\n",
      "838 Not prime\n",
      "839\n",
      "840 Not prime\n",
      "841 Not prime\n",
      "842 Not prime\n",
      "843 Not prime\n",
      "844 Not prime\n",
      "845 Not prime\n",
      "846 Not prime\n",
      "847 Not prime\n",
      "848 Not prime\n",
      "849 Not prime\n",
      "850 Not prime\n",
      "851 Not prime\n",
      "852 Not prime\n",
      "853\n",
      "854 Not prime\n",
      "855 Not prime\n",
      "856 Not prime\n",
      "857\n",
      "858 Not prime\n",
      "859\n",
      "860 Not prime\n",
      "861 Not prime\n",
      "862 Not prime\n",
      "863\n",
      "864 Not prime\n",
      "865 Not prime\n",
      "866 Not prime\n",
      "867 Not prime\n",
      "868 Not prime\n",
      "869 Not prime\n",
      "870 Not prime\n",
      "871 Not prime\n",
      "872 Not prime\n",
      "873 Not prime\n",
      "874 Not prime\n",
      "875 Not prime\n",
      "876 Not prime\n",
      "877\n",
      "878 Not prime\n",
      "879 Not prime\n",
      "880 Not prime\n",
      "881\n",
      "882 Not prime\n",
      "883\n",
      "884 Not prime\n",
      "885 Not prime\n",
      "886 Not prime\n",
      "887\n",
      "888 Not prime\n",
      "889 Not prime\n",
      "890 Not prime\n",
      "891 Not prime\n",
      "892 Not prime\n",
      "893 Not prime\n",
      "894 Not prime\n",
      "895 Not prime\n",
      "896 Not prime\n",
      "897 Not prime\n",
      "898 Not prime\n",
      "899 Not prime\n",
      "900 Not prime\n",
      "901 Not prime\n",
      "902 Not prime\n",
      "903 Not prime\n",
      "904 Not prime\n",
      "905 Not prime\n",
      "906 Not prime\n",
      "907\n",
      "908 Not prime\n",
      "909 Not prime\n",
      "910 Not prime\n",
      "911\n",
      "912 Not prime\n",
      "913 Not prime\n",
      "914 Not prime\n",
      "915 Not prime\n",
      "916 Not prime\n",
      "917 Not prime\n",
      "918 Not prime\n",
      "919\n",
      "920 Not prime\n",
      "921 Not prime\n",
      "922 Not prime\n",
      "923 Not prime\n",
      "924 Not prime\n",
      "925 Not prime\n",
      "926 Not prime\n",
      "927 Not prime\n",
      "928 Not prime\n",
      "929\n",
      "930 Not prime\n",
      "931 Not prime\n",
      "932 Not prime\n",
      "933 Not prime\n",
      "934 Not prime\n",
      "935 Not prime\n",
      "936 Not prime\n",
      "937\n",
      "938 Not prime\n",
      "939 Not prime\n",
      "940 Not prime\n",
      "941\n",
      "942 Not prime\n",
      "943 Not prime\n",
      "944 Not prime\n",
      "945 Not prime\n",
      "946 Not prime\n",
      "947\n",
      "948 Not prime\n",
      "949 Not prime\n",
      "950 Not prime\n",
      "951 Not prime\n",
      "952 Not prime\n",
      "953\n",
      "954 Not prime\n",
      "955 Not prime\n",
      "956 Not prime\n",
      "957 Not prime\n",
      "958 Not prime\n",
      "959 Not prime\n",
      "960 Not prime\n",
      "961 Not prime\n",
      "962 Not prime\n",
      "963 Not prime\n",
      "964 Not prime\n",
      "965 Not prime\n",
      "966 Not prime\n",
      "967\n",
      "968 Not prime\n",
      "969 Not prime\n",
      "970 Not prime\n",
      "971\n",
      "972 Not prime\n",
      "973 Not prime\n",
      "974 Not prime\n",
      "975 Not prime\n",
      "976 Not prime\n",
      "977\n",
      "978 Not prime\n",
      "979 Not prime\n",
      "980 Not prime\n",
      "981 Not prime\n",
      "982 Not prime\n",
      "983\n",
      "984 Not prime\n",
      "985 Not prime\n",
      "986 Not prime\n",
      "987 Not prime\n",
      "988 Not prime\n",
      "989 Not prime\n",
      "990 Not prime\n",
      "991\n",
      "992 Not prime\n",
      "993 Not prime\n",
      "994 Not prime\n",
      "995 Not prime\n",
      "996 Not prime\n",
      "997\n",
      "998 Not prime\n",
      "999 Not prime\n"
     ]
    }
   ],
   "source": [
    "# to get prime numbers bwtween 3 to n\n",
    "n = int(input('enter the number: '))\n",
    "for j in range(3,n):\n",
    "    s=int(j**(1/2))\n",
    "    # print(j)\n",
    "    for i in range(2,s+1):\n",
    "        # print(i)\n",
    "        if j%i==0:\n",
    "            print(j, 'Not prime')\n",
    "            break\n",
    "        elif i==s:\n",
    "            print(j)\n",
    "            pass"
   ]
  },
  {
   "cell_type": "code",
   "execution_count": 38,
   "id": "42e26d20-6203-4e78-a127-6c985dd5418c",
   "metadata": {},
   "outputs": [
    {
     "name": "stdin",
     "output_type": "stream",
     "text": [
      "enter the number:  1000\n"
     ]
    },
    {
     "name": "stdout",
     "output_type": "stream",
     "text": [
      "number of primes =  166\n",
      "number of times if condition is being running=  5287\n"
     ]
    }
   ],
   "source": [
    "# to count prime numbers bwtween 3 to n\n",
    "s1=0\n",
    "c=0\n",
    "n = int(input('enter the number: '))\n",
    "for j in range(3,n):\n",
    "    s=int(j**(1/2))\n",
    "    # print(j)\n",
    "    for i in range(2,s+1):\n",
    "        # print(i)\n",
    "        s1+=1\n",
    "        if j%i==0:\n",
    "            # print(j, 'Not prime')\n",
    "            break\n",
    "        elif i==s:\n",
    "            c+=1\n",
    "print('number of primes = ', c)\n",
    "print('number of times if condition is being running= ', s1)"
   ]
  },
  {
   "cell_type": "code",
   "execution_count": 39,
   "id": "b680a3a4-5caa-4d5d-a63f-95bb6db56722",
   "metadata": {},
   "outputs": [
    {
     "name": "stdin",
     "output_type": "stream",
     "text": [
      "enter the number:  1000\n"
     ]
    },
    {
     "name": "stdout",
     "output_type": "stream",
     "text": [
      "number of primes =  167\n",
      "number of times if condition is being running=  78021\n"
     ]
    }
   ],
   "source": [
    "s1=0\n",
    "c=0\n",
    "n = int(input('enter the number: '))\n",
    "for j in range(3,n):\n",
    "    # print(j)\n",
    "    for i in range(2,j):\n",
    "        # print(i)\n",
    "        s1+=1\n",
    "        if j%i==0:\n",
    "            # print(j, 'Not prime')\n",
    "            break\n",
    "        elif i==j-1:\n",
    "            c+=1\n",
    "            pass\n",
    "print('number of primes = ', c)\n",
    "print('number of times if condition is being running= ', s1)"
   ]
  },
  {
   "cell_type": "code",
   "execution_count": 44,
   "id": "c6fe1608-d9db-4fc3-851a-cbd929b7f6dc",
   "metadata": {},
   "outputs": [
    {
     "name": "stdin",
     "output_type": "stream",
     "text": [
      "enter any string:  asdfg\n"
     ]
    },
    {
     "name": "stdout",
     "output_type": "stream",
     "text": [
      "this is not palindrome\n"
     ]
    }
   ],
   "source": [
    "# check if the given string is palindrome or not\n",
    "# 'asdfdsa'-palindrome\n",
    "# 'asdfsa' - palindrome\n",
    "s=input('enter any string: ')\n",
    "for i in range(len(s)):\n",
    "    if s[i]!=s[-1-i]:\n",
    "        print('this is not palindrome' )\n",
    "        break\n",
    "    elif i==len(s)-1:\n",
    "        print('this is palindrome')\n"
   ]
  },
  {
   "cell_type": "code",
   "execution_count": 41,
   "id": "b5397074-782d-46f6-9fc7-dc91a6bd99bf",
   "metadata": {},
   "outputs": [
    {
     "data": {
      "text/plain": [
       "5"
      ]
     },
     "execution_count": 41,
     "metadata": {},
     "output_type": "execute_result"
    }
   ],
   "source": [
    "len(s)"
   ]
  },
  {
   "cell_type": "code",
   "execution_count": 2,
   "id": "3de95fad-0165-4811-97c2-109f7a565a20",
   "metadata": {},
   "outputs": [
    {
     "name": "stdin",
     "output_type": "stream",
     "text": [
      "enter any string:  123456787654321\n"
     ]
    },
    {
     "name": "stdout",
     "output_type": "stream",
     "text": [
      "this is palindrome\n"
     ]
    }
   ],
   "source": [
    "s=input('enter any string: ')\n",
    "for i in range(len(s)//2+1):\n",
    "    if s[i]!=s[-1-i]:\n",
    "        print('this is not palindrome' )\n",
    "        break\n",
    "    elif i==len(s)//2:\n",
    "        print('this is palindrome')"
   ]
  },
  {
   "cell_type": "code",
   "execution_count": 3,
   "id": "5478bf0a-d9b6-4f16-9e3f-cabefd6467b3",
   "metadata": {},
   "outputs": [
    {
     "name": "stdin",
     "output_type": "stream",
     "text": [
      "enter any string:  123456787654321\n"
     ]
    },
    {
     "name": "stdout",
     "output_type": "stream",
     "text": [
      "this is palindrome\n"
     ]
    }
   ],
   "source": [
    "s=input('enter any string: ')\n",
    "a=s[::-1]\n",
    "if s==a:\n",
    "    print('this is palindrome')\n",
    "else:\n",
    "    print('this is not palindrome')"
   ]
  },
  {
   "cell_type": "code",
   "execution_count": 12,
   "id": "b4cc0966-4bdb-47c8-b391-97108375674c",
   "metadata": {},
   "outputs": [
    {
     "data": {
      "text/plain": [
       "True"
      ]
     },
     "execution_count": 12,
     "metadata": {},
     "output_type": "execute_result"
    }
   ],
   "source": [
    "# add to binary numbers\n",
    "# a=1010101001\n",
    "# b=    100101\n",
    "1011001110==1011001110"
   ]
  },
  {
   "cell_type": "code",
   "execution_count": null,
   "id": "a715675d-dc35-4e83-989c-b30672bc6ee5",
   "metadata": {},
   "outputs": [],
   "source": [
    "10"
   ]
  },
  {
   "cell_type": "code",
   "execution_count": null,
   "id": "628eabc5-7d37-430e-9326-e0986666a22c",
   "metadata": {},
   "outputs": [],
   "source": [
    "1999202\n",
    "+ 17289"
   ]
  },
  {
   "cell_type": "code",
   "execution_count": null,
   "id": "740c0849-39c5-4246-9193-55e4ab5c0fbd",
   "metadata": {},
   "outputs": [],
   "source": [
    "6491"
   ]
  },
  {
   "cell_type": "code",
   "execution_count": 10,
   "id": "159c45d4-aa75-463f-b562-ccd5d41d15c6",
   "metadata": {},
   "outputs": [
    {
     "data": {
      "text/plain": [
       "718"
      ]
     },
     "execution_count": 10,
     "metadata": {},
     "output_type": "execute_result"
    }
   ],
   "source": [
    "int('1010101001', base=2)+int('100101',base=2)"
   ]
  },
  {
   "cell_type": "code",
   "execution_count": 9,
   "id": "4b068527-8e12-4edb-a675-a6245d77b552",
   "metadata": {},
   "outputs": [
    {
     "data": {
      "text/plain": [
       "37"
      ]
     },
     "execution_count": 9,
     "metadata": {},
     "output_type": "execute_result"
    }
   ],
   "source": [
    "int('100101',base=2)"
   ]
  },
  {
   "cell_type": "code",
   "execution_count": 11,
   "id": "27f38dd6-e43c-4436-9677-4bdb76330b79",
   "metadata": {},
   "outputs": [
    {
     "data": {
      "text/plain": [
       "'0b1011001110'"
      ]
     },
     "execution_count": 11,
     "metadata": {},
     "output_type": "execute_result"
    }
   ],
   "source": [
    "bin(718)"
   ]
  },
  {
   "cell_type": "code",
   "execution_count": 36,
   "id": "8faceaa7-2ab5-4c3f-a7ee-90c5bf5dc961",
   "metadata": {},
   "outputs": [
    {
     "data": {
      "text/plain": [
       "10016491"
      ]
     },
     "execution_count": 36,
     "metadata": {},
     "output_type": "execute_result"
    }
   ],
   "source": [
    "9999202+17289"
   ]
  },
  {
   "cell_type": "code",
   "execution_count": 38,
   "id": "fddc6d04-ddaa-4598-bc67-ee02c237cade",
   "metadata": {},
   "outputs": [
    {
     "data": {
      "text/plain": [
       "10016491"
      ]
     },
     "execution_count": 38,
     "metadata": {},
     "output_type": "execute_result"
    }
   ],
   "source": [
    "a=9999202\n",
    "b=  17289\n",
    "s3 = s1.zfill(len(str(b)))\n",
    "s4 = s2.zfill(len(str(a)))\n",
    "c=0\n",
    "s=''\n",
    "for i in range(len(s3)):\n",
    "    f = int(s3[-1-i])+int(s4[-1-i])+c\n",
    "    s= str(f%10)+s\n",
    "    c=f//10\n",
    "if c:\n",
    "    s=str(c)+s\n",
    "int(s)"
   ]
  },
  {
   "cell_type": "code",
   "execution_count": 24,
   "id": "17f217e5-270e-4764-b7a4-922df502c8a2",
   "metadata": {},
   "outputs": [
    {
     "data": {
      "text/plain": [
       "0"
      ]
     },
     "execution_count": 24,
     "metadata": {},
     "output_type": "execute_result"
    }
   ],
   "source": [
    "9//10"
   ]
  },
  {
   "cell_type": "code",
   "execution_count": 53,
   "id": "609555cc-e2c0-460b-bca9-092d0f9911f4",
   "metadata": {},
   "outputs": [
    {
     "name": "stdout",
     "output_type": "stream",
     "text": [
      "0 1 1 2 3 5 8 13 21 34 "
     ]
    }
   ],
   "source": [
    "# fibbonacci series\n",
    "a=0\n",
    "b=1\n",
    "n=10\n",
    "print(a, end=' ')\n",
    "print(b, end=' ')\n",
    "# 0,1,1,2,3,5,8,13,21,34,55,89\n",
    "for i in range(n-2):\n",
    "    c=a+b\n",
    "    a=b\n",
    "    b=c\n",
    "    print(c, end=' ')"
   ]
  },
  {
   "cell_type": "code",
   "execution_count": 61,
   "id": "a61725e3-4337-4796-a9ec-d3fd134885fb",
   "metadata": {},
   "outputs": [
    {
     "name": "stdout",
     "output_type": "stream",
     "text": [
      "0 1 1 2 4 8 16 32 64 128 "
     ]
    }
   ],
   "source": [
    "# fibbonacci series\n",
    "a=0\n",
    "b=1\n",
    "n=10\n",
    "print(a, end=' ')\n",
    "print(b, end=' ')\n",
    "# 0,1,1,2,3,5,8,13,21,34,55,89\n",
    "for i in range(n-2):\n",
    "    c=a+b\n",
    "    b=c\n",
    "    a=b\n",
    "    print(c, end=' ')"
   ]
  },
  {
   "cell_type": "code",
   "execution_count": 62,
   "id": "e95f2cf9-f856-4223-b3eb-699a5a4b3adf",
   "metadata": {},
   "outputs": [
    {
     "data": {
      "text/plain": [
       "8"
      ]
     },
     "execution_count": 62,
     "metadata": {},
     "output_type": "execute_result"
    }
   ],
   "source": [
    "a=0,\n",
    "b=1,\n",
    "c=1,\n",
    "b=1,\n",
    "a=1\n",
    "1\n",
    "c=2\n",
    "b=2\n",
    "a=2\n",
    "2\n",
    "c=4\n",
    "b=4\n",
    "a=4\n",
    "4\n",
    "c=8\n",
    "b=8\n",
    "a=8\n",
    "8"
   ]
  },
  {
   "cell_type": "code",
   "execution_count": 49,
   "id": "5093078f-1b54-4fda-9de8-2685d6b44fc4",
   "metadata": {},
   "outputs": [
    {
     "name": "stdout",
     "output_type": "stream",
     "text": [
      "1 5\n"
     ]
    }
   ],
   "source": [
    "# a=1\n",
    "# b=5\n",
    "a,b=1,5\n",
    "print(a,b)"
   ]
  },
  {
   "cell_type": "code",
   "execution_count": 57,
   "id": "919d71ab-fdd8-4675-b44c-09ad37c785d8",
   "metadata": {},
   "outputs": [
    {
     "name": "stdout",
     "output_type": "stream",
     "text": [
      "0 1 2 3 5 8 13 21 34 55 "
     ]
    }
   ],
   "source": [
    "a=0\n",
    "b=1\n",
    "n=10\n",
    "print(a, end=' ')\n",
    "print(b, end=' ')\n",
    "# 0,1,1,2,3,5,8,13,21,34,55,89\n",
    "for i in range(n-2):\n",
    "    a,b=b,a+b\n",
    "    print(a+b, end=' ')"
   ]
  },
  {
   "cell_type": "code",
   "execution_count": 56,
   "id": "ab8fd877-2ed2-46d9-a718-05002a674671",
   "metadata": {},
   "outputs": [
    {
     "name": "stdout",
     "output_type": "stream",
     "text": [
      "0 1 2 3 5 8 13 21 34 55 "
     ]
    }
   ],
   "source": [
    "a=0\n",
    "b=1\n",
    "n=10\n",
    "print(a, end=' ')\n",
    "print(b, end=' ')\n",
    "# 0,1,1,2,3,5,8,13,21,34,55,89\n",
    "for i in range(n-2):\n",
    "    b,a=a+b,b\n",
    "    print(a+b, end=' ')"
   ]
  },
  {
   "cell_type": "code",
   "execution_count": null,
   "id": "72878654-d1dd-4eb3-bc4d-858b008225b9",
   "metadata": {},
   "outputs": [],
   "source": []
  }
 ],
 "metadata": {
  "kernelspec": {
   "display_name": "Python 3 (ipykernel)",
   "language": "python",
   "name": "python3"
  },
  "language_info": {
   "codemirror_mode": {
    "name": "ipython",
    "version": 3
   },
   "file_extension": ".py",
   "mimetype": "text/x-python",
   "name": "python",
   "nbconvert_exporter": "python",
   "pygments_lexer": "ipython3",
   "version": "3.12.7"
  }
 },
 "nbformat": 4,
 "nbformat_minor": 5
}
