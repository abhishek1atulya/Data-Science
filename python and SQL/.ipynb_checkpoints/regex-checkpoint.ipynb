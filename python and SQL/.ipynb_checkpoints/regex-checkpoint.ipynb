{
  "cells": [
    {
      "cell_type": "markdown",
      "id": "223a2cf8-6d17-4d56-912f-e3c0a5af4a23",
      "metadata": {
        "id": "223a2cf8-6d17-4d56-912f-e3c0a5af4a23"
      },
      "source": [
        "### Python Standard Library\n",
        "#### 1. Regex (re module)"
      ]
    },
    {
      "cell_type": "code",
      "execution_count": null,
      "id": "262b96bf-e4ef-44d9-8951-07a2fb432220",
      "metadata": {
        "id": "262b96bf-e4ef-44d9-8951-07a2fb432220"
      },
      "outputs": [],
      "source": [
        "import re"
      ]
    },
    {
      "cell_type": "code",
      "execution_count": null,
      "id": "84bd71c1-b3b7-4381-b27b-d3fff09946e9",
      "metadata": {
        "id": "84bd71c1-b3b7-4381-b27b-d3fff09946e9",
        "outputId": "2b082261-f96d-45d0-e123-1ecbee59f788"
      },
      "outputs": [
        {
          "data": {
            "text/plain": [
              "['A',\n",
              " 'ASCII',\n",
              " 'DEBUG',\n",
              " 'DOTALL',\n",
              " 'I',\n",
              " 'IGNORECASE',\n",
              " 'L',\n",
              " 'LOCALE',\n",
              " 'M',\n",
              " 'MULTILINE',\n",
              " 'Match',\n",
              " 'Pattern',\n",
              " 'RegexFlag',\n",
              " 'S',\n",
              " 'Scanner',\n",
              " 'T',\n",
              " 'TEMPLATE',\n",
              " 'U',\n",
              " 'UNICODE',\n",
              " 'VERBOSE',\n",
              " 'X',\n",
              " '_MAXCACHE',\n",
              " '__all__',\n",
              " '__builtins__',\n",
              " '__cached__',\n",
              " '__doc__',\n",
              " '__file__',\n",
              " '__loader__',\n",
              " '__name__',\n",
              " '__package__',\n",
              " '__spec__',\n",
              " '__version__',\n",
              " '_cache',\n",
              " '_compile',\n",
              " '_compile_repl',\n",
              " '_expand',\n",
              " '_locale',\n",
              " '_pickle',\n",
              " '_special_chars_map',\n",
              " '_subx',\n",
              " 'compile',\n",
              " 'copyreg',\n",
              " 'enum',\n",
              " 'error',\n",
              " 'escape',\n",
              " 'findall',\n",
              " 'finditer',\n",
              " 'fullmatch',\n",
              " 'functools',\n",
              " 'match',\n",
              " 'purge',\n",
              " 'search',\n",
              " 'split',\n",
              " 'sre_compile',\n",
              " 'sre_parse',\n",
              " 'sub',\n",
              " 'subn',\n",
              " 'template']"
            ]
          },
          "execution_count": 2,
          "metadata": {},
          "output_type": "execute_result"
        }
      ],
      "source": [
        "dir(re)"
      ]
    },
    {
      "cell_type": "code",
      "execution_count": null,
      "id": "8cc0fec0-ad3e-4ad6-bbe1-a81540964140",
      "metadata": {
        "id": "8cc0fec0-ad3e-4ad6-bbe1-a81540964140"
      },
      "outputs": [],
      "source": [
        "### 1. find(search) (re.search, re.match)\n",
        "### 2. extract(pull something out) (re.findall)\n",
        "### 3. substitution(re.sub)\n",
        "\n",
        "#### re.compile, re.finditer, re.split"
      ]
    },
    {
      "cell_type": "code",
      "execution_count": null,
      "id": "bc0442b2-2c48-4837-bcb0-73a001d598f5",
      "metadata": {
        "id": "bc0442b2-2c48-4837-bcb0-73a001d598f5"
      },
      "outputs": [],
      "source": [
        "string = \"abcdef1234\""
      ]
    },
    {
      "cell_type": "code",
      "execution_count": null,
      "id": "d71d791c-aa2e-47b0-8e78-175000319363",
      "metadata": {
        "id": "d71d791c-aa2e-47b0-8e78-175000319363",
        "outputId": "c9adc9fb-a917-4abd-f930-02a7998d33fc"
      },
      "outputs": [
        {
          "name": "stdout",
          "output_type": "stream",
          "text": [
            "Help on function search in module re:\n",
            "\n",
            "search(pattern, string, flags=0)\n",
            "    Scan through string looking for a match to the pattern, returning\n",
            "    a Match object, or None if no match was found.\n",
            "\n"
          ]
        }
      ],
      "source": [
        "help(re.search)"
      ]
    },
    {
      "cell_type": "code",
      "execution_count": null,
      "id": "81569197-359d-493c-8092-71540b48848c",
      "metadata": {
        "id": "81569197-359d-493c-8092-71540b48848c"
      },
      "outputs": [],
      "source": [
        "## Numbers: \\d\n",
        "## one or more numbers : \\d+\n",
        "## zero or more numbers : \\d*\n",
        "## not a number: \\D\n",
        "\n",
        "## \\w -> word -> [a-zA-Z0-9_]\n",
        "## \\W -> not a word\n",
        "## \\s -> space\n",
        "## \\S -> Not a space\n"
      ]
    },
    {
      "cell_type": "code",
      "execution_count": null,
      "id": "7e47ecbb-23f3-4705-bd04-a64201b312d6",
      "metadata": {
        "id": "7e47ecbb-23f3-4705-bd04-a64201b312d6",
        "outputId": "4c0e00c6-3f57-4385-fbce-1c20db307bff"
      },
      "outputs": [
        {
          "data": {
            "text/plain": [
              "<re.Match object; span=(6, 10), match='1234'>"
            ]
          },
          "execution_count": 6,
          "metadata": {},
          "output_type": "execute_result"
        }
      ],
      "source": [
        "re.search(\"\\\\d+\", string)"
      ]
    },
    {
      "cell_type": "code",
      "execution_count": null,
      "id": "5b6a16c4-c280-430a-81a3-1aa12fd4b0f3",
      "metadata": {
        "id": "5b6a16c4-c280-430a-81a3-1aa12fd4b0f3",
        "outputId": "d99f4493-30ca-4a20-8c83-45b984a35f6c"
      },
      "outputs": [
        {
          "data": {
            "text/plain": [
              "<re.Match object; span=(6, 10), match='1234'>"
            ]
          },
          "execution_count": 7,
          "metadata": {},
          "output_type": "execute_result"
        }
      ],
      "source": [
        "re.search(r\"\\d+\", string)"
      ]
    },
    {
      "cell_type": "code",
      "execution_count": null,
      "id": "2ed75d09-b9d5-4581-8af0-e63094401b22",
      "metadata": {
        "id": "2ed75d09-b9d5-4581-8af0-e63094401b22"
      },
      "outputs": [],
      "source": [
        "rc = re.compile(r\"\\d+\")"
      ]
    },
    {
      "cell_type": "code",
      "execution_count": null,
      "id": "83344d0a-228b-4d7d-a958-5fd8496e7a7d",
      "metadata": {
        "id": "83344d0a-228b-4d7d-a958-5fd8496e7a7d",
        "outputId": "3764021d-0bde-4970-8f4d-19d9c0d19f1a"
      },
      "outputs": [
        {
          "data": {
            "text/plain": [
              "<re.Match object; span=(6, 10), match='1234'>"
            ]
          },
          "execution_count": 9,
          "metadata": {},
          "output_type": "execute_result"
        }
      ],
      "source": [
        "re.search(rc, string)"
      ]
    },
    {
      "cell_type": "code",
      "execution_count": null,
      "id": "d048a45b-8944-40f0-93cd-9b10454dfc5f",
      "metadata": {
        "id": "d048a45b-8944-40f0-93cd-9b10454dfc5f"
      },
      "outputs": [],
      "source": [
        "exp = re.search(r\"\\d+\", string)"
      ]
    },
    {
      "cell_type": "code",
      "execution_count": null,
      "id": "feb5b551-d837-4d51-ac6e-ae47c5883241",
      "metadata": {
        "id": "feb5b551-d837-4d51-ac6e-ae47c5883241",
        "outputId": "46d94c2e-4bc0-4bdf-96b5-2cad476c561b"
      },
      "outputs": [
        {
          "data": {
            "text/plain": [
              "['__class__',\n",
              " '__class_getitem__',\n",
              " '__copy__',\n",
              " '__deepcopy__',\n",
              " '__delattr__',\n",
              " '__dir__',\n",
              " '__doc__',\n",
              " '__eq__',\n",
              " '__format__',\n",
              " '__ge__',\n",
              " '__getattribute__',\n",
              " '__getitem__',\n",
              " '__gt__',\n",
              " '__hash__',\n",
              " '__init__',\n",
              " '__init_subclass__',\n",
              " '__le__',\n",
              " '__lt__',\n",
              " '__ne__',\n",
              " '__new__',\n",
              " '__reduce__',\n",
              " '__reduce_ex__',\n",
              " '__repr__',\n",
              " '__setattr__',\n",
              " '__sizeof__',\n",
              " '__str__',\n",
              " '__subclasshook__',\n",
              " 'end',\n",
              " 'endpos',\n",
              " 'expand',\n",
              " 'group',\n",
              " 'groupdict',\n",
              " 'groups',\n",
              " 'lastgroup',\n",
              " 'lastindex',\n",
              " 'pos',\n",
              " 're',\n",
              " 'regs',\n",
              " 'span',\n",
              " 'start',\n",
              " 'string']"
            ]
          },
          "execution_count": 11,
          "metadata": {},
          "output_type": "execute_result"
        }
      ],
      "source": [
        "dir(exp)"
      ]
    },
    {
      "cell_type": "code",
      "execution_count": null,
      "id": "e6d66776-240d-4c20-a400-b82e378d9f87",
      "metadata": {
        "id": "e6d66776-240d-4c20-a400-b82e378d9f87",
        "outputId": "2c880dd2-da5f-4274-8495-5e2214de3094"
      },
      "outputs": [
        {
          "data": {
            "text/plain": [
              "'1234'"
            ]
          },
          "execution_count": 13,
          "metadata": {},
          "output_type": "execute_result"
        }
      ],
      "source": [
        "exp.group()"
      ]
    },
    {
      "cell_type": "code",
      "execution_count": null,
      "id": "b6198b5b-0254-4140-af80-98f41ed41aab",
      "metadata": {
        "id": "b6198b5b-0254-4140-af80-98f41ed41aab",
        "outputId": "bfa9cb64-d74b-4128-aad6-90d2ef0f45d1"
      },
      "outputs": [
        {
          "data": {
            "text/plain": [
              "6"
            ]
          },
          "execution_count": 15,
          "metadata": {},
          "output_type": "execute_result"
        }
      ],
      "source": [
        "exp.start()"
      ]
    },
    {
      "cell_type": "code",
      "execution_count": null,
      "id": "964d7e59-1456-44dc-9de6-858a4c3660a8",
      "metadata": {
        "id": "964d7e59-1456-44dc-9de6-858a4c3660a8",
        "outputId": "8f4094f2-0bcb-4fd4-877b-4ccb2d811844"
      },
      "outputs": [
        {
          "data": {
            "text/plain": [
              "(6, 10)"
            ]
          },
          "execution_count": 16,
          "metadata": {},
          "output_type": "execute_result"
        }
      ],
      "source": [
        "exp.span()"
      ]
    },
    {
      "cell_type": "code",
      "execution_count": null,
      "id": "fa0da529-3445-4340-8cb3-8faedd7afe0d",
      "metadata": {
        "id": "fa0da529-3445-4340-8cb3-8faedd7afe0d",
        "outputId": "a0045f9b-00cf-4298-d1d9-67b6faae93ba"
      },
      "outputs": [
        {
          "data": {
            "text/plain": [
              "10"
            ]
          },
          "execution_count": 17,
          "metadata": {},
          "output_type": "execute_result"
        }
      ],
      "source": [
        "exp.end()"
      ]
    },
    {
      "cell_type": "code",
      "execution_count": null,
      "id": "542a0dec-daba-42d9-8d17-0686ed7444de",
      "metadata": {
        "id": "542a0dec-daba-42d9-8d17-0686ed7444de"
      },
      "outputs": [],
      "source": [
        "exp2 = re.search(r\"(\\d+)\", string)"
      ]
    },
    {
      "cell_type": "code",
      "execution_count": null,
      "id": "5914134e-16fe-4633-a3de-b0469ca7c39f",
      "metadata": {
        "id": "5914134e-16fe-4633-a3de-b0469ca7c39f",
        "outputId": "e777d371-3d41-4c9a-d83a-c0e7e58a2644"
      },
      "outputs": [
        {
          "data": {
            "text/plain": [
              "('1234',)"
            ]
          },
          "execution_count": 19,
          "metadata": {},
          "output_type": "execute_result"
        }
      ],
      "source": [
        "exp2.groups()"
      ]
    },
    {
      "cell_type": "code",
      "execution_count": null,
      "id": "e32bf166-fd80-4feb-bdfa-5204b44cdd0c",
      "metadata": {
        "id": "e32bf166-fd80-4feb-bdfa-5204b44cdd0c"
      },
      "outputs": [],
      "source": [
        "### Regular expression () -> capturing groups"
      ]
    },
    {
      "cell_type": "code",
      "execution_count": null,
      "id": "0a0e48eb-d209-48eb-a592-315240c78f48",
      "metadata": {
        "id": "0a0e48eb-d209-48eb-a592-315240c78f48",
        "outputId": "c6c17e66-bc5a-467f-f72a-e00d5bb8d3a2"
      },
      "outputs": [
        {
          "data": {
            "text/plain": [
              "'1234'"
            ]
          },
          "execution_count": 21,
          "metadata": {},
          "output_type": "execute_result"
        }
      ],
      "source": [
        "exp2.group()"
      ]
    },
    {
      "cell_type": "code",
      "execution_count": null,
      "id": "868732f8-b809-4208-bb7c-da1a916e67f9",
      "metadata": {
        "id": "868732f8-b809-4208-bb7c-da1a916e67f9"
      },
      "outputs": [],
      "source": [
        "string = \"abcdef1234dafdf788\""
      ]
    },
    {
      "cell_type": "code",
      "execution_count": null,
      "id": "26b6a198-83a0-4137-a3ef-5324294cb0dd",
      "metadata": {
        "id": "26b6a198-83a0-4137-a3ef-5324294cb0dd"
      },
      "outputs": [],
      "source": [
        "exp3 = re.search(r\"(?P<first>\\d+)[a-zA-Z]+(?P<second>\\d+)\", string)"
      ]
    },
    {
      "cell_type": "code",
      "execution_count": null,
      "id": "9f281c6f-e403-4284-a285-9dec7ab4cd9a",
      "metadata": {
        "id": "9f281c6f-e403-4284-a285-9dec7ab4cd9a",
        "outputId": "e57d1e4a-4164-4d4a-8183-12d5ec21fce9"
      },
      "outputs": [
        {
          "data": {
            "text/plain": [
              "('1234', '788')"
            ]
          },
          "execution_count": 38,
          "metadata": {},
          "output_type": "execute_result"
        }
      ],
      "source": [
        "exp3.groups()"
      ]
    },
    {
      "cell_type": "code",
      "execution_count": null,
      "id": "5736ccaa-cda2-4540-ac2e-8e5fa9cf9ecc",
      "metadata": {
        "id": "5736ccaa-cda2-4540-ac2e-8e5fa9cf9ecc"
      },
      "outputs": [],
      "source": [
        "## \\d+ -> [0-9]+"
      ]
    },
    {
      "cell_type": "code",
      "execution_count": null,
      "id": "9fbc9816-384d-482c-8a59-5f6949d938b9",
      "metadata": {
        "id": "9fbc9816-384d-482c-8a59-5f6949d938b9",
        "outputId": "10b59537-bf4a-4f90-9926-7ddcff2cacd2"
      },
      "outputs": [
        {
          "data": {
            "text/plain": [
              "{'first': '1234', 'second': '788'}"
            ]
          },
          "execution_count": 40,
          "metadata": {},
          "output_type": "execute_result"
        }
      ],
      "source": [
        "exp3.groupdict()"
      ]
    },
    {
      "cell_type": "code",
      "execution_count": null,
      "id": "a49eefb1-60eb-4d1c-8282-ef62987d1926",
      "metadata": {
        "id": "a49eefb1-60eb-4d1c-8282-ef62987d1926",
        "outputId": "e4ec9f17-6499-41ce-bd76-c6465b122055"
      },
      "outputs": [
        {
          "name": "stdout",
          "output_type": "stream",
          "text": [
            "Help on function match in module re:\n",
            "\n",
            "match(pattern, string, flags=0)\n",
            "    Try to apply the pattern at the start of the string, returning\n",
            "    a Match object, or None if no match was found.\n",
            "\n"
          ]
        }
      ],
      "source": [
        "help(re.match)"
      ]
    },
    {
      "cell_type": "code",
      "execution_count": null,
      "id": "0c63352c-24c2-4ec1-9b10-48480b55047f",
      "metadata": {
        "id": "0c63352c-24c2-4ec1-9b10-48480b55047f"
      },
      "outputs": [],
      "source": [
        "## re.findall\n",
        "import re"
      ]
    },
    {
      "cell_type": "markdown",
      "id": "8d7960ee-68b2-4290-8591-946101267704",
      "metadata": {
        "id": "8d7960ee-68b2-4290-8591-946101267704"
      },
      "source": [
        "re.findall and re.finditer"
      ]
    },
    {
      "cell_type": "code",
      "execution_count": null,
      "id": "8d794d22-efef-47f5-93a0-c5cd62dc92fb",
      "metadata": {
        "id": "8d794d22-efef-47f5-93a0-c5cd62dc92fb"
      },
      "outputs": [],
      "source": [
        "x = \"ab123dfsd3456abdef890\""
      ]
    },
    {
      "cell_type": "code",
      "execution_count": null,
      "id": "a356c337-0e88-400d-b78f-bd7eab344a46",
      "metadata": {
        "id": "a356c337-0e88-400d-b78f-bd7eab344a46",
        "outputId": "58b3f8e0-f9d4-408e-d68a-670be96afe0f"
      },
      "outputs": [
        {
          "data": {
            "text/plain": [
              "True"
            ]
          },
          "execution_count": 146,
          "metadata": {},
          "output_type": "execute_result"
        }
      ],
      "source": [
        "bool(re.search(r'\\d+', x))"
      ]
    },
    {
      "cell_type": "code",
      "execution_count": null,
      "id": "e1cb29a0-fc66-4e16-9733-8914573eec81",
      "metadata": {
        "id": "e1cb29a0-fc66-4e16-9733-8914573eec81",
        "outputId": "10ee4546-9365-4c37-bed7-6a2dfa8aadaa"
      },
      "outputs": [
        {
          "data": {
            "text/plain": [
              "False"
            ]
          },
          "execution_count": 149,
          "metadata": {},
          "output_type": "execute_result"
        }
      ],
      "source": [
        "bool(re.search(r'%', x))"
      ]
    },
    {
      "cell_type": "code",
      "execution_count": null,
      "id": "46ddc96e-9094-4029-877e-f9f065a456d8",
      "metadata": {
        "id": "46ddc96e-9094-4029-877e-f9f065a456d8",
        "outputId": "4ec45199-f276-49fe-d498-94966330c2da"
      },
      "outputs": [
        {
          "data": {
            "text/plain": [
              "['123', '3456', '890']"
            ]
          },
          "execution_count": 150,
          "metadata": {},
          "output_type": "execute_result"
        }
      ],
      "source": [
        "re.findall(r'\\d+', x)"
      ]
    },
    {
      "cell_type": "code",
      "execution_count": null,
      "id": "d8dde216-1631-4855-993e-04bc544e0422",
      "metadata": {
        "id": "d8dde216-1631-4855-993e-04bc544e0422"
      },
      "outputs": [],
      "source": [
        "y = [\"abc=123\", \"def=908\", \"fgi=899\"]"
      ]
    },
    {
      "cell_type": "code",
      "execution_count": null,
      "id": "76605ade-c711-4bfe-9701-a0416b675099",
      "metadata": {
        "id": "76605ade-c711-4bfe-9701-a0416b675099",
        "outputId": "a6d63d0c-c3fe-42fc-db27-e5154adff510"
      },
      "outputs": [
        {
          "name": "stdout",
          "output_type": "stream",
          "text": [
            "[('abc', '123')]\n",
            "[('def', '908')]\n",
            "[('fgi', '899')]\n"
          ]
        }
      ],
      "source": [
        "for item in y:\n",
        "    #print(item.split('='))\n",
        "    print(re.findall(r'(\\w+)=(\\w+)', item))"
      ]
    },
    {
      "cell_type": "code",
      "execution_count": null,
      "id": "35873b8f-d21f-4279-a9fa-b1c405ed0fc7",
      "metadata": {
        "id": "35873b8f-d21f-4279-a9fa-b1c405ed0fc7",
        "outputId": "f5f493fa-1b9e-4ae7-a3aa-952594225931"
      },
      "outputs": [
        {
          "data": {
            "text/plain": [
              "[[('abc', '123')], [('def', '908')], [('fgi', '899')]]"
            ]
          },
          "execution_count": 158,
          "metadata": {},
          "output_type": "execute_result"
        }
      ],
      "source": [
        "[re.findall(r'(\\w+)=(\\w+)', item) for item in y]"
      ]
    },
    {
      "cell_type": "code",
      "execution_count": null,
      "id": "73f9b44b-397e-491b-80c5-1a3be57c32d5",
      "metadata": {
        "id": "73f9b44b-397e-491b-80c5-1a3be57c32d5"
      },
      "outputs": [],
      "source": [
        "gen1 = iter([1, 23, 10])"
      ]
    },
    {
      "cell_type": "code",
      "execution_count": null,
      "id": "cf0bce36-3920-42bc-afa2-4bcd04748935",
      "metadata": {
        "id": "cf0bce36-3920-42bc-afa2-4bcd04748935",
        "outputId": "dda56a80-db16-416e-e6af-f8a68daffc4c"
      },
      "outputs": [
        {
          "data": {
            "text/plain": [
              "<list_iterator at 0x7fd9bc32a130>"
            ]
          },
          "execution_count": 160,
          "metadata": {},
          "output_type": "execute_result"
        }
      ],
      "source": [
        "gen1"
      ]
    },
    {
      "cell_type": "code",
      "execution_count": null,
      "id": "545b90a0-fcfa-4715-88a6-231d1aff1c11",
      "metadata": {
        "id": "545b90a0-fcfa-4715-88a6-231d1aff1c11",
        "outputId": "942691db-0df8-4bd2-d9f5-8ee8b72698ee"
      },
      "outputs": [
        {
          "data": {
            "text/plain": [
              "[1, 23, 10]"
            ]
          },
          "execution_count": 163,
          "metadata": {},
          "output_type": "execute_result"
        }
      ],
      "source": [
        "list(gen1)"
      ]
    },
    {
      "cell_type": "code",
      "execution_count": null,
      "id": "12e41802-34f3-4585-b0ba-16a708fcfc85",
      "metadata": {
        "id": "12e41802-34f3-4585-b0ba-16a708fcfc85",
        "outputId": "8513c3aa-5a64-4043-9b48-25a25cf353e9"
      },
      "outputs": [
        {
          "data": {
            "text/plain": [
              "[]"
            ]
          },
          "execution_count": 164,
          "metadata": {},
          "output_type": "execute_result"
        }
      ],
      "source": [
        "list(gen1)"
      ]
    },
    {
      "cell_type": "code",
      "execution_count": null,
      "id": "f4fca34a-646b-4474-88f1-a7b5d2baa9da",
      "metadata": {
        "id": "f4fca34a-646b-4474-88f1-a7b5d2baa9da",
        "outputId": "a9a5ae97-85ec-44a4-99d8-3cc74e4d9666"
      },
      "outputs": [
        {
          "data": {
            "text/plain": [
              "1"
            ]
          },
          "execution_count": 166,
          "metadata": {},
          "output_type": "execute_result"
        }
      ],
      "source": [
        "next(gen1)"
      ]
    },
    {
      "cell_type": "code",
      "execution_count": null,
      "id": "e46a7cd3-64de-4267-91db-48580adb6108",
      "metadata": {
        "id": "e46a7cd3-64de-4267-91db-48580adb6108",
        "outputId": "199934c0-6f2d-4e7b-bd31-ce9c1dd645c5"
      },
      "outputs": [
        {
          "data": {
            "text/plain": [
              "23"
            ]
          },
          "execution_count": 167,
          "metadata": {},
          "output_type": "execute_result"
        }
      ],
      "source": [
        "next(gen1)"
      ]
    },
    {
      "cell_type": "code",
      "execution_count": null,
      "id": "568f95ec-e19a-4d3f-9354-20c4038973d7",
      "metadata": {
        "id": "568f95ec-e19a-4d3f-9354-20c4038973d7",
        "outputId": "929d0144-7f9e-4226-c6be-fe91384c19ac"
      },
      "outputs": [
        {
          "data": {
            "text/plain": [
              "10"
            ]
          },
          "execution_count": 168,
          "metadata": {},
          "output_type": "execute_result"
        }
      ],
      "source": [
        "next(gen1)"
      ]
    },
    {
      "cell_type": "code",
      "execution_count": null,
      "id": "cdc83dce-d330-4447-89ae-81f11f07e3a8",
      "metadata": {
        "id": "cdc83dce-d330-4447-89ae-81f11f07e3a8",
        "outputId": "bdf98662-8204-43b0-c14a-c965a4fb573d"
      },
      "outputs": [
        {
          "ename": "StopIteration",
          "evalue": "",
          "output_type": "error",
          "traceback": [
            "\u001b[0;31m---------------------------------------------------------------------------\u001b[0m",
            "\u001b[0;31mStopIteration\u001b[0m                             Traceback (most recent call last)",
            "\u001b[0;32m/tmp/ipykernel_11259/3608331878.py\u001b[0m in \u001b[0;36m<module>\u001b[0;34m\u001b[0m\n\u001b[0;32m----> 1\u001b[0;31m \u001b[0mnext\u001b[0m\u001b[0;34m(\u001b[0m\u001b[0mgen1\u001b[0m\u001b[0;34m)\u001b[0m\u001b[0;34m\u001b[0m\u001b[0;34m\u001b[0m\u001b[0m\n\u001b[0m",
            "\u001b[0;31mStopIteration\u001b[0m: "
          ]
        }
      ],
      "source": [
        "next(gen1)"
      ]
    },
    {
      "cell_type": "code",
      "execution_count": null,
      "id": "6290c4bb-8be5-44d3-ba53-a1d328fb1137",
      "metadata": {
        "id": "6290c4bb-8be5-44d3-ba53-a1d328fb1137",
        "outputId": "d67992f5-ecbd-4dc8-ad11-25ed0b7db596"
      },
      "outputs": [
        {
          "data": {
            "text/plain": [
              "[('abc', '123'), ('def', '908'), ('fgi', '899')]"
            ]
          },
          "execution_count": 171,
          "metadata": {},
          "output_type": "execute_result"
        }
      ],
      "source": [
        "[next(re.finditer(r'(\\w+)=(\\w+)', item)).groups() for item in y]"
      ]
    },
    {
      "cell_type": "code",
      "execution_count": null,
      "id": "2dca63d2-74c3-42f1-87f8-1a3223c4010e",
      "metadata": {
        "id": "2dca63d2-74c3-42f1-87f8-1a3223c4010e",
        "outputId": "82d9e6db-81de-493d-f97b-a9269888bdaa"
      },
      "outputs": [
        {
          "data": {
            "text/plain": [
              "['abc=123', 'def=908', 'fgi=899']"
            ]
          },
          "execution_count": 172,
          "metadata": {},
          "output_type": "execute_result"
        }
      ],
      "source": [
        "[next(re.finditer(r'(\\w+)=(\\w+)', item)).group(0) for item in y]"
      ]
    },
    {
      "cell_type": "code",
      "execution_count": null,
      "id": "6f9ac8ca-9c34-4f99-8750-42937ec7a1ff",
      "metadata": {
        "id": "6f9ac8ca-9c34-4f99-8750-42937ec7a1ff",
        "outputId": "3f2029cb-bbeb-4ce4-ea23-04ccdcf2600c"
      },
      "outputs": [
        {
          "data": {
            "text/plain": [
              "['abc', 'def', 'fgi']"
            ]
          },
          "execution_count": 173,
          "metadata": {},
          "output_type": "execute_result"
        }
      ],
      "source": [
        "[next(re.finditer(r'(\\w+)=(\\w+)', item)).group(1) for item in y]"
      ]
    },
    {
      "cell_type": "code",
      "execution_count": null,
      "id": "dc599c50-f4e2-4205-86a7-2056adc1676d",
      "metadata": {
        "id": "dc599c50-f4e2-4205-86a7-2056adc1676d",
        "outputId": "22ca2e1a-ec07-4c06-deae-398636b93562"
      },
      "outputs": [
        {
          "data": {
            "text/plain": [
              "['123', '908', '899']"
            ]
          },
          "execution_count": 174,
          "metadata": {},
          "output_type": "execute_result"
        }
      ],
      "source": [
        "[next(re.finditer(r'(\\w+)=(\\w+)', item)).group(2) for item in y]"
      ]
    },
    {
      "cell_type": "code",
      "execution_count": null,
      "id": "66733d05-8626-4e80-b84f-087907a17aa2",
      "metadata": {
        "id": "66733d05-8626-4e80-b84f-087907a17aa2"
      },
      "outputs": [],
      "source": [
        "x = \"abdef1232\""
      ]
    },
    {
      "cell_type": "code",
      "execution_count": null,
      "id": "2de9ce1f-2423-498e-aa57-16e503290495",
      "metadata": {
        "id": "2de9ce1f-2423-498e-aa57-16e503290495",
        "outputId": "834cd40a-cdb5-4179-991d-6f7a8a746585"
      },
      "outputs": [
        {
          "data": {
            "text/plain": [
              "'abdef-1232'"
            ]
          },
          "execution_count": 206,
          "metadata": {},
          "output_type": "execute_result"
        }
      ],
      "source": [
        "re.sub(r'(\\d+)', r'-\\1', x)"
      ]
    },
    {
      "cell_type": "code",
      "execution_count": null,
      "id": "9be129b0-1910-4acd-a5a5-822820a26d0e",
      "metadata": {
        "id": "9be129b0-1910-4acd-a5a5-822820a26d0e"
      },
      "outputs": [],
      "source": [
        "y = \"Arvind356\""
      ]
    },
    {
      "cell_type": "code",
      "execution_count": null,
      "id": "99b264c4-8946-42e1-aa39-94cf9235cd9c",
      "metadata": {
        "id": "99b264c4-8946-42e1-aa39-94cf9235cd9c"
      },
      "outputs": [],
      "source": [
        "#outcome = 356 Arvind"
      ]
    },
    {
      "cell_type": "code",
      "execution_count": null,
      "id": "2039d090-be95-4478-9ded-4fbeb0eb3c89",
      "metadata": {
        "id": "2039d090-be95-4478-9ded-4fbeb0eb3c89",
        "outputId": "1818aef5-3974-4d84-a646-16271562dd55"
      },
      "outputs": [
        {
          "data": {
            "text/plain": [
              "'356 Arvind'"
            ]
          },
          "execution_count": 210,
          "metadata": {},
          "output_type": "execute_result"
        }
      ],
      "source": [
        "re.sub(r'([a-zA-Z]+)(\\d+)', r\"\\2 \\1\", y)"
      ]
    },
    {
      "cell_type": "code",
      "execution_count": null,
      "id": "a736a2b3-e48a-4cb5-86ae-0a78731cbfc7",
      "metadata": {
        "id": "a736a2b3-e48a-4cb5-86ae-0a78731cbfc7",
        "outputId": "77fa06dc-b746-413f-994f-9d741d06e6b3"
      },
      "outputs": [
        {
          "data": {
            "text/plain": [
              "'356 Arvind'"
            ]
          },
          "execution_count": 212,
          "metadata": {},
          "output_type": "execute_result"
        }
      ],
      "source": [
        "re.sub(r'(([a-zA-Z]+)(\\d+))', r\"\\3 \\2\", y)"
      ]
    },
    {
      "cell_type": "code",
      "execution_count": null,
      "id": "377b4041-c5ba-4387-93b1-ad216aa1ed9c",
      "metadata": {
        "id": "377b4041-c5ba-4387-93b1-ad216aa1ed9c",
        "outputId": "a1a76f69-28c1-4080-defe-3be059a9b77f"
      },
      "outputs": [
        {
          "data": {
            "text/plain": [
              "('356 Arvind', 1)"
            ]
          },
          "execution_count": 213,
          "metadata": {},
          "output_type": "execute_result"
        }
      ],
      "source": [
        "re.subn(r'(([a-zA-Z]+)(\\d+))', r\"\\3 \\2\", y)"
      ]
    },
    {
      "cell_type": "code",
      "execution_count": null,
      "id": "ec2653d6-69f5-491d-a6d2-d2656cfc3f42",
      "metadata": {
        "id": "ec2653d6-69f5-491d-a6d2-d2656cfc3f42"
      },
      "outputs": [],
      "source": [
        "y = \"abd123dafa390dfadf23\""
      ]
    },
    {
      "cell_type": "code",
      "execution_count": null,
      "id": "13682ad8-ae8f-4d81-871d-93fbb4d60962",
      "metadata": {
        "id": "13682ad8-ae8f-4d81-871d-93fbb4d60962",
        "outputId": "3f3698a6-683c-4a4d-8208-d4f5f31dceae"
      },
      "outputs": [
        {
          "data": {
            "text/plain": [
              "('abdXdafaXdfadfX', 3)"
            ]
          },
          "execution_count": 215,
          "metadata": {},
          "output_type": "execute_result"
        }
      ],
      "source": [
        "re.subn(r'\\d+', 'X', y)"
      ]
    },
    {
      "cell_type": "code",
      "execution_count": null,
      "id": "3fbcc7fc-36db-4adf-aaa4-0abf3c3a55a2",
      "metadata": {
        "id": "3fbcc7fc-36db-4adf-aaa4-0abf3c3a55a2",
        "outputId": "1cc41e0a-b161-4a2a-b08d-6a7c61d3cc12"
      },
      "outputs": [
        {
          "data": {
            "text/plain": [
              "'abdXdafa390dfadf23'"
            ]
          },
          "execution_count": 216,
          "metadata": {},
          "output_type": "execute_result"
        }
      ],
      "source": [
        "re.sub(r'\\d+', 'X', y, count=1)"
      ]
    },
    {
      "cell_type": "code",
      "execution_count": null,
      "id": "480af7c8-91a1-4708-a2b5-d3b2317b174a",
      "metadata": {
        "id": "480af7c8-91a1-4708-a2b5-d3b2317b174a"
      },
      "outputs": [],
      "source": [
        "num = {\"one\": 1 , \"two\":2}"
      ]
    },
    {
      "cell_type": "code",
      "execution_count": null,
      "id": "d678affd-fd75-4dd6-b6cf-cc2cafc31f4c",
      "metadata": {
        "id": "d678affd-fd75-4dd6-b6cf-cc2cafc31f4c"
      },
      "outputs": [],
      "source": [
        "statement = \"This is the one man show who lost his two jobs\""
      ]
    },
    {
      "cell_type": "code",
      "execution_count": null,
      "id": "89c8282d-6fd5-42d1-bc40-77f5ffbf4d3d",
      "metadata": {
        "id": "89c8282d-6fd5-42d1-bc40-77f5ffbf4d3d",
        "outputId": "ff567944-9bed-45ea-ef53-4004d9a7dc5a"
      },
      "outputs": [
        {
          "data": {
            "text/plain": [
              "'This is the 1 man show who lost his 2 jobs'"
            ]
          },
          "execution_count": 220,
          "metadata": {},
          "output_type": "execute_result"
        }
      ],
      "source": [
        "re.sub(r'one|two', lambda x: str(num[x.group(0)]), statement)"
      ]
    },
    {
      "cell_type": "code",
      "execution_count": null,
      "id": "79c5b9ff-47b8-4042-a59c-42a135a83c74",
      "metadata": {
        "id": "79c5b9ff-47b8-4042-a59c-42a135a83c74",
        "outputId": "7ddba396-94c7-4343-c1ea-37e77b9e746b"
      },
      "outputs": [
        {
          "name": "stdout",
          "output_type": "stream",
          "text": [
            "Help on function sub in module re:\n",
            "\n",
            "sub(pattern, repl, string, count=0, flags=0)\n",
            "    Return the string obtained by replacing the leftmost\n",
            "    non-overlapping occurrences of the pattern in string by the\n",
            "    replacement repl.  repl can be either a string or a callable;\n",
            "    if a string, backslash escapes in it are processed.  If it is\n",
            "    a callable, it's passed the Match object and must return\n",
            "    a replacement string to be used.\n",
            "\n"
          ]
        }
      ],
      "source": [
        "help(re.sub)"
      ]
    },
    {
      "cell_type": "code",
      "execution_count": null,
      "id": "82ebf553-e73a-42fa-b193-87f9e63304b6",
      "metadata": {
        "id": "82ebf553-e73a-42fa-b193-87f9e63304b6"
      },
      "outputs": [],
      "source": [
        "x = \"This1234\""
      ]
    },
    {
      "cell_type": "code",
      "execution_count": null,
      "id": "23826a25-6a8b-4394-8203-484537d42e74",
      "metadata": {
        "id": "23826a25-6a8b-4394-8203-484537d42e74",
        "outputId": "520b4c65-5a17-40c5-8b7b-cacac6d0ad86"
      },
      "outputs": [
        {
          "data": {
            "text/plain": [
              "'sihT1234'"
            ]
          },
          "execution_count": 223,
          "metadata": {},
          "output_type": "execute_result"
        }
      ],
      "source": [
        "re.sub(r'[a-zA-Z]+', lambda x: x.group(0)[::-1] , x)"
      ]
    },
    {
      "cell_type": "code",
      "execution_count": null,
      "id": "40f287ed-44f0-4d9b-8327-b68544934d21",
      "metadata": {
        "id": "40f287ed-44f0-4d9b-8327-b68544934d21",
        "outputId": "126d7f44-c2e1-44f9-bacf-993243983ad4"
      },
      "outputs": [
        {
          "data": {
            "text/plain": [
              "'4321sihT'"
            ]
          },
          "execution_count": 224,
          "metadata": {},
          "output_type": "execute_result"
        }
      ],
      "source": [
        "x[::-1]"
      ]
    },
    {
      "cell_type": "code",
      "execution_count": null,
      "id": "4aad9e20-a860-4a33-b525-a4b8aca2ce8f",
      "metadata": {
        "id": "4aad9e20-a860-4a33-b525-a4b8aca2ce8f"
      },
      "outputs": [],
      "source": [
        "## special characters (re.escape) replacement\n",
        "## flags\n",
        "## example"
      ]
    },
    {
      "cell_type": "code",
      "execution_count": null,
      "id": "14439d31-f34f-4cd1-9aa8-179417701e8f",
      "metadata": {
        "id": "14439d31-f34f-4cd1-9aa8-179417701e8f"
      },
      "outputs": [],
      "source": [
        "## ^ $ + * .\n",
        "## _ /"
      ]
    },
    {
      "cell_type": "code",
      "execution_count": null,
      "id": "89358814-8529-4b63-a0e4-48128d921ade",
      "metadata": {
        "id": "89358814-8529-4b63-a0e4-48128d921ade"
      },
      "outputs": [],
      "source": [
        "x = \"*(45$%\""
      ]
    },
    {
      "cell_type": "code",
      "execution_count": null,
      "id": "c663d1f4-cf9a-40fe-8659-cfff9c02d6dd",
      "metadata": {
        "id": "c663d1f4-cf9a-40fe-8659-cfff9c02d6dd"
      },
      "outputs": [],
      "source": [
        "import re"
      ]
    },
    {
      "cell_type": "code",
      "execution_count": null,
      "id": "4469995d-ccf9-4398-abb0-9c2356f47238",
      "metadata": {
        "id": "4469995d-ccf9-4398-abb0-9c2356f47238",
        "outputId": "4b861215-a0c2-41bf-e6cf-4f4a9e125038"
      },
      "outputs": [
        {
          "data": {
            "text/plain": [
              "'*(45%'"
            ]
          },
          "execution_count": 24,
          "metadata": {},
          "output_type": "execute_result"
        }
      ],
      "source": [
        "re.sub(r'\\$', '' ,x)"
      ]
    },
    {
      "cell_type": "code",
      "execution_count": null,
      "id": "2cd1de73-ff52-413e-b48b-f6761eeec362",
      "metadata": {
        "id": "2cd1de73-ff52-413e-b48b-f6761eeec362",
        "outputId": "a76dd5b1-304e-44fe-fd5a-3727dc7272df"
      },
      "outputs": [
        {
          "data": {
            "text/plain": [
              "'*(45%'"
            ]
          },
          "execution_count": 28,
          "metadata": {},
          "output_type": "execute_result"
        }
      ],
      "source": [
        "re.sub(re.escape(\"$\"), '', x)"
      ]
    },
    {
      "cell_type": "code",
      "execution_count": null,
      "id": "d8615eeb-08dc-4786-8586-d8df9115c1b7",
      "metadata": {
        "id": "d8615eeb-08dc-4786-8586-d8df9115c1b7"
      },
      "outputs": [],
      "source": [
        "rc = re.compile(r\"%\")"
      ]
    },
    {
      "cell_type": "code",
      "execution_count": null,
      "id": "c3fc2582-b39a-4c1d-805b-2d01af2fde90",
      "metadata": {
        "id": "c3fc2582-b39a-4c1d-805b-2d01af2fde90",
        "outputId": "4bf82fc1-fb75-40a7-ec6e-3e0f4f11b0be"
      },
      "outputs": [
        {
          "data": {
            "text/plain": [
              "'*(45$'"
            ]
          },
          "execution_count": 31,
          "metadata": {},
          "output_type": "execute_result"
        }
      ],
      "source": [
        "rc.sub('', x)"
      ]
    },
    {
      "cell_type": "code",
      "execution_count": null,
      "id": "9ba509cd-1a7a-4f13-9176-9d940326555d",
      "metadata": {
        "id": "9ba509cd-1a7a-4f13-9176-9d940326555d"
      },
      "outputs": [],
      "source": [
        "x = \"\"\"this is a string\n",
        "with a newline\"\"\""
      ]
    },
    {
      "cell_type": "code",
      "execution_count": null,
      "id": "921251ff-cafe-415d-959e-b2cfd1c64245",
      "metadata": {
        "id": "921251ff-cafe-415d-959e-b2cfd1c64245",
        "outputId": "5f2b3dca-5577-4ecd-bb46-408911e30f13"
      },
      "outputs": [
        {
          "data": {
            "text/plain": [
              "['this is a string\\nwith a newline']"
            ]
          },
          "execution_count": 47,
          "metadata": {},
          "output_type": "execute_result"
        }
      ],
      "source": [
        "re.findall(r'.+', x,re.DOTALL)"
      ]
    },
    {
      "cell_type": "code",
      "execution_count": null,
      "id": "c20b66fb-ccaa-41b4-add3-48cad8b4004b",
      "metadata": {
        "id": "c20b66fb-ccaa-41b4-add3-48cad8b4004b"
      },
      "outputs": [],
      "source": [
        "y = \"this is a string without any newline\""
      ]
    },
    {
      "cell_type": "code",
      "execution_count": null,
      "id": "b830c9d2-91ba-4c2f-b434-82c7c84a6788",
      "metadata": {
        "id": "b830c9d2-91ba-4c2f-b434-82c7c84a6788",
        "outputId": "76719165-071f-4e8f-d91c-6b7ed7dbe478"
      },
      "outputs": [
        {
          "data": {
            "text/plain": [
              "['this is a string without any newline']"
            ]
          },
          "execution_count": 42,
          "metadata": {},
          "output_type": "execute_result"
        }
      ],
      "source": [
        "re.findall(r'.+', y)"
      ]
    },
    {
      "cell_type": "code",
      "execution_count": null,
      "id": "b6aa9a30-d8d0-44d6-86c4-c79975a5612a",
      "metadata": {
        "id": "b6aa9a30-d8d0-44d6-86c4-c79975a5612a",
        "outputId": "037b38a4-8d0f-4ec5-ffa2-d88281f191ca"
      },
      "outputs": [
        {
          "data": {
            "text/plain": [
              "['this', 'with']"
            ]
          },
          "execution_count": 46,
          "metadata": {},
          "output_type": "execute_result"
        }
      ],
      "source": [
        "re.findall(r'^\\w+',x, re.MULTILINE)"
      ]
    },
    {
      "cell_type": "code",
      "execution_count": null,
      "id": "576a68bd-5bd1-49b6-b5d0-d66500a104f3",
      "metadata": {
        "id": "576a68bd-5bd1-49b6-b5d0-d66500a104f3"
      },
      "outputs": [],
      "source": [
        "z = \"abc ABC\""
      ]
    },
    {
      "cell_type": "code",
      "execution_count": null,
      "id": "d81bd307-0318-43f7-af5b-5c121578b38e",
      "metadata": {
        "id": "d81bd307-0318-43f7-af5b-5c121578b38e",
        "outputId": "df3349bf-1cd1-41e9-9a60-8b63b911a0da"
      },
      "outputs": [
        {
          "data": {
            "text/plain": [
              "['abc', 'ABC']"
            ]
          },
          "execution_count": 56,
          "metadata": {},
          "output_type": "execute_result"
        }
      ],
      "source": [
        "re.findall(r'[A-Z]+', z, re.IGNORECASE|re.MULTILINE)"
      ]
    },
    {
      "cell_type": "code",
      "execution_count": null,
      "id": "e1a019a7-8275-4c85-bdba-866546a0b132",
      "metadata": {
        "id": "e1a019a7-8275-4c85-bdba-866546a0b132",
        "outputId": "f16fa4ab-37fe-43d8-fcc6-ed4476da01d6"
      },
      "outputs": [
        {
          "data": {
            "text/plain": [
              "['ABC']"
            ]
          },
          "execution_count": 55,
          "metadata": {},
          "output_type": "execute_result"
        }
      ],
      "source": [
        "re.findall(r'[A-Z]+', z)"
      ]
    },
    {
      "cell_type": "code",
      "execution_count": null,
      "id": "9f49e2b7-cbae-49bc-8467-48bda19efeb1",
      "metadata": {
        "id": "9f49e2b7-cbae-49bc-8467-48bda19efeb1"
      },
      "outputs": [],
      "source": [
        "x = \"123abgdf\""
      ]
    },
    {
      "cell_type": "code",
      "execution_count": null,
      "id": "1521de5b-2671-42fa-a309-10f1302b2000",
      "metadata": {
        "id": "1521de5b-2671-42fa-a309-10f1302b2000",
        "outputId": "3fe85ffb-7c93-4798-e4e5-0b9c8680340c"
      },
      "outputs": [
        {
          "data": {
            "text/plain": [
              "['123abgdf']"
            ]
          },
          "execution_count": 62,
          "metadata": {},
          "output_type": "execute_result"
        }
      ],
      "source": [
        "re.findall(\n",
        "\"\"\"\n",
        "\\d+ # this is for digit\n",
        "[a-z]+ ## this is for alphabet\n",
        "\n",
        "\"\"\", x, re.VERBOSE)"
      ]
    },
    {
      "cell_type": "markdown",
      "id": "18cfb7d7-a748-463d-b436-d62dd7e7171b",
      "metadata": {
        "id": "18cfb7d7-a748-463d-b436-d62dd7e7171b"
      },
      "source": [
        "### collections and itertools, functools"
      ]
    },
    {
      "cell_type": "code",
      "execution_count": null,
      "id": "de8c99ad-e514-4c09-9635-36c4955b4014",
      "metadata": {
        "id": "de8c99ad-e514-4c09-9635-36c4955b4014"
      },
      "outputs": [],
      "source": [
        "import operator\n",
        "\n",
        "from operator import add, mul, truediv, sub"
      ]
    },
    {
      "cell_type": "code",
      "execution_count": null,
      "id": "b8785801-171f-4d22-ab91-98671be368eb",
      "metadata": {
        "id": "b8785801-171f-4d22-ab91-98671be368eb"
      },
      "outputs": [],
      "source": [
        "def myFunc(a, b, operation):\n",
        "    return operation(a, b)"
      ]
    },
    {
      "cell_type": "code",
      "execution_count": null,
      "id": "47f75fd3-5a12-4a3a-8320-5af1f968f6f0",
      "metadata": {
        "id": "47f75fd3-5a12-4a3a-8320-5af1f968f6f0",
        "outputId": "f1854ba2-2f8e-44da-d1d3-e1add19c23f4"
      },
      "outputs": [
        {
          "data": {
            "text/plain": [
              "0.6666666666666666"
            ]
          },
          "execution_count": 43,
          "metadata": {},
          "output_type": "execute_result"
        }
      ],
      "source": [
        "myFunc(2,3,operator.truediv)"
      ]
    },
    {
      "cell_type": "code",
      "execution_count": null,
      "id": "b91c39bf-a120-4758-86e6-e84b5bca7835",
      "metadata": {
        "id": "b91c39bf-a120-4758-86e6-e84b5bca7835",
        "outputId": "d3f567db-2a95-40b6-9f5a-61a2e23904c1"
      },
      "outputs": [
        {
          "name": "stdout",
          "output_type": "stream",
          "text": [
            "6\n",
            "5\n",
            "0.6666666666666666\n",
            "-1\n"
          ]
        }
      ],
      "source": [
        "for item in [mul, add, truediv, sub]:\n",
        "    print(myFunc(2,3, item))"
      ]
    },
    {
      "cell_type": "code",
      "execution_count": null,
      "id": "d8b3ee45-bfb4-4f83-9e48-29b8aa0c2010",
      "metadata": {
        "id": "d8b3ee45-bfb4-4f83-9e48-29b8aa0c2010",
        "outputId": "6a52a09d-3ae5-4af2-bec7-1d84b0edc31b"
      },
      "outputs": [
        {
          "data": {
            "text/plain": [
              "[2, 3, 4, 3, 4, 5]"
            ]
          },
          "execution_count": 50,
          "metadata": {},
          "output_type": "execute_result"
        }
      ],
      "source": [
        "add([2, 3, 4], [3, 4, 5])"
      ]
    },
    {
      "cell_type": "code",
      "execution_count": null,
      "id": "4d8f5982-7218-426c-bbb6-f4902d41ed74",
      "metadata": {
        "id": "4d8f5982-7218-426c-bbb6-f4902d41ed74"
      },
      "outputs": [],
      "source": [
        "x = [[2,3], [4, 5], [65, 9], [0, 9]]"
      ]
    },
    {
      "cell_type": "code",
      "execution_count": null,
      "id": "c5b40a8c-2cc6-434c-9357-b27f6ecdcb6a",
      "metadata": {
        "id": "c5b40a8c-2cc6-434c-9357-b27f6ecdcb6a",
        "outputId": "ab500402-5a2c-43df-aa3a-ac4db599f181"
      },
      "outputs": [
        {
          "data": {
            "text/plain": [
              "[2, 3, 4, 5, 65, 9]"
            ]
          },
          "execution_count": 57,
          "metadata": {},
          "output_type": "execute_result"
        }
      ],
      "source": [
        "[2, 3, 4, 5, 65, 9]"
      ]
    },
    {
      "cell_type": "code",
      "execution_count": null,
      "id": "67e3458a-cf0f-433e-984c-6891c069b349",
      "metadata": {
        "id": "67e3458a-cf0f-433e-984c-6891c069b349"
      },
      "outputs": [],
      "source": [
        "from functools import reduce"
      ]
    },
    {
      "cell_type": "code",
      "execution_count": null,
      "id": "590060db-4b3f-4c70-aec2-3d97e792f5c4",
      "metadata": {
        "id": "590060db-4b3f-4c70-aec2-3d97e792f5c4",
        "outputId": "f09f4ad7-7635-4c0b-c3e5-798af63b7b9e"
      },
      "outputs": [
        {
          "ename": "TypeError",
          "evalue": "unsupported operand type(s) for -: 'list' and 'list'",
          "output_type": "error",
          "traceback": [
            "\u001b[0;31m---------------------------------------------------------------------------\u001b[0m",
            "\u001b[0;31mTypeError\u001b[0m                                 Traceback (most recent call last)",
            "\u001b[0;32m/tmp/ipykernel_9126/2706170968.py\u001b[0m in \u001b[0;36m<module>\u001b[0;34m\u001b[0m\n\u001b[1;32m      1\u001b[0m \u001b[0;31m#%%timeit\u001b[0m\u001b[0;34m\u001b[0m\u001b[0;34m\u001b[0m\u001b[0;34m\u001b[0m\u001b[0m\n\u001b[0;32m----> 2\u001b[0;31m \u001b[0mreduce\u001b[0m\u001b[0;34m(\u001b[0m\u001b[0msub\u001b[0m\u001b[0;34m,\u001b[0m \u001b[0mx\u001b[0m\u001b[0;34m)\u001b[0m\u001b[0;34m\u001b[0m\u001b[0;34m\u001b[0m\u001b[0m\n\u001b[0m",
            "\u001b[0;31mTypeError\u001b[0m: unsupported operand type(s) for -: 'list' and 'list'"
          ]
        }
      ],
      "source": [
        "#%%timeit\n",
        "reduce(sub, x)"
      ]
    },
    {
      "cell_type": "code",
      "execution_count": null,
      "id": "f34da2ce-32e5-4eb2-a15c-6cb578211571",
      "metadata": {
        "id": "f34da2ce-32e5-4eb2-a15c-6cb578211571"
      },
      "outputs": [],
      "source": [
        "from itertools import chain"
      ]
    },
    {
      "cell_type": "code",
      "execution_count": null,
      "id": "c5ea25cb-6b6e-44f5-b72a-36fe5c56ee30",
      "metadata": {
        "id": "c5ea25cb-6b6e-44f5-b72a-36fe5c56ee30",
        "outputId": "2f638fec-d6b0-491f-b3f7-2f6787e35e9a"
      },
      "outputs": [
        {
          "name": "stdout",
          "output_type": "stream",
          "text": [
            "454 ns ± 7.86 ns per loop (mean ± std. dev. of 7 runs, 1000000 loops each)\n"
          ]
        }
      ],
      "source": [
        "%%timeit\n",
        "list(chain(*x))"
      ]
    },
    {
      "cell_type": "code",
      "execution_count": null,
      "id": "74ccb6f3-9706-47eb-8bd0-20e53e145966",
      "metadata": {
        "id": "74ccb6f3-9706-47eb-8bd0-20e53e145966",
        "outputId": "41a39afb-001d-4893-93c8-e203e531bacb"
      },
      "outputs": [
        {
          "data": {
            "text/plain": [
              "0.041666666666666664"
            ]
          },
          "execution_count": 80,
          "metadata": {},
          "output_type": "execute_result"
        }
      ],
      "source": [
        "#%%timeit\n",
        "reduce(truediv,[1,2,3,4])"
      ]
    },
    {
      "cell_type": "code",
      "execution_count": null,
      "id": "d0f48c9a-ac1a-40fa-88f1-d53b9d8b5c11",
      "metadata": {
        "id": "d0f48c9a-ac1a-40fa-88f1-d53b9d8b5c11",
        "outputId": "011a390d-8a61-4fb3-c70f-42d30dda4136"
      },
      "outputs": [
        {
          "data": {
            "text/plain": [
              "0.041666666666666664"
            ]
          },
          "execution_count": 81,
          "metadata": {},
          "output_type": "execute_result"
        }
      ],
      "source": [
        "((1/2)/3)/4"
      ]
    },
    {
      "cell_type": "code",
      "execution_count": null,
      "id": "0740c739-a458-42c6-a054-e17b3bf3ec28",
      "metadata": {
        "id": "0740c739-a458-42c6-a054-e17b3bf3ec28",
        "outputId": "97893c7f-397a-47f4-e68f-539fdfac8a4f"
      },
      "outputs": [
        {
          "name": "stdout",
          "output_type": "stream",
          "text": [
            "183 ns ± 2.32 ns per loop (mean ± std. dev. of 7 runs, 10000000 loops each)\n"
          ]
        }
      ],
      "source": [
        "%%timeit\n",
        "sum([1,2,3,4])"
      ]
    },
    {
      "cell_type": "code",
      "execution_count": null,
      "id": "e8500ed4-1323-4e85-8132-3ff3204ff5b5",
      "metadata": {
        "id": "e8500ed4-1323-4e85-8132-3ff3204ff5b5"
      },
      "outputs": [],
      "source": [
        "x =[1] + [2]"
      ]
    },
    {
      "cell_type": "code",
      "execution_count": null,
      "id": "f89c627f-bce9-41c2-9e5e-734182028c77",
      "metadata": {
        "id": "f89c627f-bce9-41c2-9e5e-734182028c77",
        "outputId": "e3abc0e2-f721-4c6e-9c65-3e1dc24a0b1c"
      },
      "outputs": [
        {
          "ename": "TypeError",
          "evalue": "unsupported operand type(s) for -: 'list' and 'list'",
          "output_type": "error",
          "traceback": [
            "\u001b[0;31m---------------------------------------------------------------------------\u001b[0m",
            "\u001b[0;31mTypeError\u001b[0m                                 Traceback (most recent call last)",
            "\u001b[0;32m/tmp/ipykernel_9126/3368749471.py\u001b[0m in \u001b[0;36m<module>\u001b[0;34m\u001b[0m\n\u001b[0;32m----> 1\u001b[0;31m \u001b[0;34m[\u001b[0m\u001b[0;36m1\u001b[0m\u001b[0;34m]\u001b[0m \u001b[0;34m-\u001b[0m \u001b[0;34m[\u001b[0m\u001b[0;36m2\u001b[0m\u001b[0;34m]\u001b[0m\u001b[0;34m\u001b[0m\u001b[0;34m\u001b[0m\u001b[0m\n\u001b[0m",
            "\u001b[0;31mTypeError\u001b[0m: unsupported operand type(s) for -: 'list' and 'list'"
          ]
        }
      ],
      "source": [
        "[1] - [2]"
      ]
    },
    {
      "cell_type": "code",
      "execution_count": null,
      "id": "409e97c5-9971-41cb-a6c2-b59ee5c5efb4",
      "metadata": {
        "id": "409e97c5-9971-41cb-a6c2-b59ee5c5efb4"
      },
      "outputs": [],
      "source": [
        "from operator import itemgetter"
      ]
    },
    {
      "cell_type": "code",
      "execution_count": null,
      "id": "358dc9ce-e9d2-4c00-9cd0-47af4dfbac69",
      "metadata": {
        "id": "358dc9ce-e9d2-4c00-9cd0-47af4dfbac69"
      },
      "outputs": [],
      "source": [
        "x = itemgetter(2)"
      ]
    },
    {
      "cell_type": "code",
      "execution_count": null,
      "id": "d5934dfa-b89c-447d-87b1-ef0fee2f649b",
      "metadata": {
        "id": "d5934dfa-b89c-447d-87b1-ef0fee2f649b",
        "outputId": "8a9a0718-7648-43a6-e011-d489ff48e4ba"
      },
      "outputs": [
        {
          "data": {
            "text/plain": [
              "operator.itemgetter"
            ]
          },
          "execution_count": 95,
          "metadata": {},
          "output_type": "execute_result"
        }
      ],
      "source": [
        "type(x)"
      ]
    },
    {
      "cell_type": "code",
      "execution_count": null,
      "id": "9b87c482-f7ed-48b9-b541-4077fe00fc68",
      "metadata": {
        "id": "9b87c482-f7ed-48b9-b541-4077fe00fc68"
      },
      "outputs": [],
      "source": [
        "y = ( 1, 10, 9, 0, 8, 11)"
      ]
    },
    {
      "cell_type": "code",
      "execution_count": null,
      "id": "a4d43a64-ae92-401f-94b4-784f09a5e528",
      "metadata": {
        "id": "a4d43a64-ae92-401f-94b4-784f09a5e528",
        "outputId": "2172cd26-a053-4f45-c42d-d6c7be37ab19"
      },
      "outputs": [
        {
          "data": {
            "text/plain": [
              "9"
            ]
          },
          "execution_count": 88,
          "metadata": {},
          "output_type": "execute_result"
        }
      ],
      "source": [
        "x(y)"
      ]
    },
    {
      "cell_type": "code",
      "execution_count": null,
      "id": "d4fd9ab0-ca78-4fd0-b172-7882f2f99c17",
      "metadata": {
        "id": "d4fd9ab0-ca78-4fd0-b172-7882f2f99c17"
      },
      "outputs": [],
      "source": [
        "z = [(1, 10), (-1, 11), (2, 110),  (2, -1), (0, -1)]"
      ]
    },
    {
      "cell_type": "code",
      "execution_count": null,
      "id": "3184b11e-c8b6-4308-bc11-1fc74f841057",
      "metadata": {
        "id": "3184b11e-c8b6-4308-bc11-1fc74f841057",
        "outputId": "fbecf661-0991-4635-9d6c-92dc3c8da578"
      },
      "outputs": [
        {
          "data": {
            "text/plain": [
              "[(0, -1), (1, 10), (-1, 11), (2, 110)]"
            ]
          },
          "execution_count": 102,
          "metadata": {},
          "output_type": "execute_result"
        }
      ],
      "source": [
        "[(0,-1), (1, 10), (-1, 11), (2, 110)]"
      ]
    },
    {
      "cell_type": "code",
      "execution_count": null,
      "id": "d42da528-6ee0-491c-b81a-83edd740cb58",
      "metadata": {
        "id": "d42da528-6ee0-491c-b81a-83edd740cb58",
        "outputId": "b1ced6dd-e676-4816-ee73-f3f1e7911863"
      },
      "outputs": [
        {
          "data": {
            "text/plain": [
              "[(0, -1), (2, -1), (1, 10), (-1, 11), (2, 110)]"
            ]
          },
          "execution_count": 106,
          "metadata": {},
          "output_type": "execute_result"
        }
      ],
      "source": [
        "sorted(z, key= itemgetter(1, 0))"
      ]
    },
    {
      "cell_type": "code",
      "execution_count": null,
      "id": "a772aff6-a8c8-4d2c-bc58-56b0935683ed",
      "metadata": {
        "id": "a772aff6-a8c8-4d2c-bc58-56b0935683ed",
        "outputId": "4a3649ee-9656-4795-f93f-4e84e0580ec3"
      },
      "outputs": [
        {
          "data": {
            "text/plain": [
              "[(0, -1), (2, -1), (1, 10), (-1, 11), (2, 110)]"
            ]
          },
          "execution_count": 105,
          "metadata": {},
          "output_type": "execute_result"
        }
      ],
      "source": [
        "sorted(z, key= lambda x: (x[1], x[0]))"
      ]
    },
    {
      "cell_type": "code",
      "execution_count": null,
      "id": "58de3d43-125e-4928-bac7-972116e1d62f",
      "metadata": {
        "id": "58de3d43-125e-4928-bac7-972116e1d62f"
      },
      "outputs": [],
      "source": [
        "[10, 11, 110, -1]"
      ]
    },
    {
      "cell_type": "code",
      "execution_count": null,
      "id": "adf859d6-a684-494d-a818-2bdff3a86cb3",
      "metadata": {
        "id": "adf859d6-a684-494d-a818-2bdff3a86cb3"
      },
      "outputs": [],
      "source": [
        "import itertools"
      ]
    },
    {
      "cell_type": "code",
      "execution_count": null,
      "id": "40c98a2d-3c63-4a92-a5a5-a783bc2f3f8c",
      "metadata": {
        "id": "40c98a2d-3c63-4a92-a5a5-a783bc2f3f8c"
      },
      "outputs": [],
      "source": []
    }
  ],
  "metadata": {
    "kernelspec": {
      "display_name": "Python 3",
      "language": "python",
      "name": "python3"
    },
    "language_info": {
      "codemirror_mode": {
        "name": "ipython",
        "version": 3
      },
      "file_extension": ".py",
      "mimetype": "text/x-python",
      "name": "python",
      "nbconvert_exporter": "python",
      "pygments_lexer": "ipython3",
      "version": "3.9.5"
    },
    "colab": {
      "provenance": []
    }
  },
  "nbformat": 4,
  "nbformat_minor": 5
}