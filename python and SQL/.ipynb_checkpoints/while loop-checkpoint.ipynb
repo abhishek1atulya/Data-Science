{
 "cells": [
  {
   "cell_type": "code",
   "execution_count": null,
   "id": "3edf1453",
   "metadata": {},
   "outputs": [],
   "source": [
    "# while loop\n",
    "# syntext\n",
    "# while bool:\n",
    "#     pass\n",
    "l=[1,2,3,4,5,6]\n",
    "a=l.pop()\n",
    "print(l,a)"
   ]
  },
  {
   "cell_type": "code",
   "execution_count": null,
   "id": "97b56290-1c0c-4dc0-ad3b-beb38c5ffd1f",
   "metadata": {},
   "outputs": [],
   "source": [
    "bool([123])"
   ]
  },
  {
   "cell_type": "code",
   "execution_count": null,
   "id": "af27a546-d458-48f4-8183-a09f7e0c211d",
   "metadata": {},
   "outputs": [],
   "source": [
    "1\n",
    "2\n",
    "3\n",
    "4\n",
    "5\n",
    "6"
   ]
  },
  {
   "cell_type": "code",
   "execution_count": null,
   "id": "ab81ac25",
   "metadata": {},
   "outputs": [],
   "source": [
    "l=[1,2,3,4,5,6]\n",
    "for i in range(len(l)):\n",
    "    print(i)\n",
    "    l.pop()"
   ]
  },
  {
   "cell_type": "code",
   "execution_count": null,
   "id": "c8d93f78-7c1d-4f2a-9ee2-fc2d3403caa3",
   "metadata": {},
   "outputs": [],
   "source": [
    "list(range(6))"
   ]
  },
  {
   "cell_type": "code",
   "execution_count": null,
   "id": "9a4c51d2-ce41-46e1-9a15-74030d38ed50",
   "metadata": {},
   "outputs": [],
   "source": [
    "# range(6)\n",
    "# range(5)\n",
    "# range(4)"
   ]
  },
  {
   "cell_type": "code",
   "execution_count": null,
   "id": "28d8917f-09d0-4963-a502-e4355cb585b2",
   "metadata": {},
   "outputs": [],
   "source": [
    "l=[1,2,3,4,5,6]\n",
    "for i in l:\n",
    "    print(i)\n",
    "    l.pop()"
   ]
  },
  {
   "cell_type": "code",
   "execution_count": null,
   "id": "a8902f1e-7efc-4659-abe3-68b4a2aac6ac",
   "metadata": {},
   "outputs": [],
   "source": [
    "for i in range(5):\n",
    "    print(i)\n",
    "print(i)"
   ]
  },
  {
   "cell_type": "code",
   "execution_count": null,
   "id": "f7764901",
   "metadata": {},
   "outputs": [],
   "source": [
    "l=[1,2,3,4,5,6,7]\n",
    "for i in l:\n",
    "    l.pop()\n",
    "    print(i,l)"
   ]
  },
  {
   "cell_type": "code",
   "execution_count": null,
   "id": "2856eb4b",
   "metadata": {},
   "outputs": [],
   "source": [
    "i=2\n",
    "while i<5:\n",
    "    print(i)\n",
    "    i+=1"
   ]
  },
  {
   "cell_type": "code",
   "execution_count": 1,
   "id": "02a06b77",
   "metadata": {},
   "outputs": [
    {
     "name": "stdout",
     "output_type": "stream",
     "text": [
      "0\n",
      "1\n",
      "2\n",
      "3\n",
      "4\n"
     ]
    }
   ],
   "source": [
    "i=0\n",
    "f=True\n",
    "while f:\n",
    "    print(i)\n",
    "    i+=1\n",
    "    if i==5:\n",
    "        f=False"
   ]
  },
  {
   "cell_type": "code",
   "execution_count": 2,
   "id": "b88899b6-9c65-4d9e-a040-6cd098efe51a",
   "metadata": {},
   "outputs": [
    {
     "name": "stdout",
     "output_type": "stream",
     "text": [
      "1\n",
      "2\n",
      "3\n",
      "4\n",
      "5\n"
     ]
    }
   ],
   "source": [
    "i=0\n",
    "while True:\n",
    "    i+=1\n",
    "    print(i)\n",
    "    if i==5:\n",
    "        break"
   ]
  },
  {
   "cell_type": "code",
   "execution_count": 3,
   "id": "762f45f3",
   "metadata": {},
   "outputs": [
    {
     "name": "stdout",
     "output_type": "stream",
     "text": [
      "1\n",
      "2\n",
      "3\n",
      "4\n"
     ]
    }
   ],
   "source": [
    "i=0\n",
    "while True:\n",
    "    i+=1\n",
    "    if i==5:\n",
    "        break\n",
    "    print(i)"
   ]
  },
  {
   "cell_type": "code",
   "execution_count": 4,
   "id": "e6c89c7d-621c-4af8-93bc-ba733493ab7e",
   "metadata": {},
   "outputs": [
    {
     "data": {
      "text/plain": [
       "True"
      ]
     },
     "execution_count": 4,
     "metadata": {},
     "output_type": "execute_result"
    }
   ],
   "source": [
    "bool(5)"
   ]
  },
  {
   "cell_type": "code",
   "execution_count": 5,
   "id": "35b11cb6-66b1-45b2-a0d9-7aa9a7b0f949",
   "metadata": {},
   "outputs": [
    {
     "name": "stdout",
     "output_type": "stream",
     "text": [
      "0\n",
      "1\n"
     ]
    }
   ],
   "source": [
    "i=0\n",
    "while 5:\n",
    "    print(i)\n",
    "    i+=1\n",
    "    if i==2:\n",
    "        break\n",
    "   "
   ]
  },
  {
   "cell_type": "code",
   "execution_count": 6,
   "id": "3a6b8e64",
   "metadata": {},
   "outputs": [
    {
     "name": "stdout",
     "output_type": "stream",
     "text": [
      "1\n",
      "2\n",
      "3\n",
      "4\n",
      "5\n"
     ]
    }
   ],
   "source": [
    "# pass and continue\n",
    "i=0\n",
    "while i<5:\n",
    "    i+=1\n",
    "    if i==2:\n",
    "        pass # do nothing\n",
    "    print(i)"
   ]
  },
  {
   "cell_type": "code",
   "execution_count": 7,
   "id": "a660c68f",
   "metadata": {},
   "outputs": [
    {
     "name": "stdout",
     "output_type": "stream",
     "text": [
      "1\n",
      "3\n",
      "4\n",
      "5\n"
     ]
    }
   ],
   "source": [
    "i=0\n",
    "while i<5:\n",
    "    i+=1\n",
    "    if i==2:\n",
    "        continue # skip the value\n",
    "    print(i)"
   ]
  },
  {
   "cell_type": "code",
   "execution_count": 8,
   "id": "5bc5dcb6",
   "metadata": {},
   "outputs": [
    {
     "name": "stdout",
     "output_type": "stream",
     "text": [
      "1\n",
      "2\n",
      "3\n",
      "4\n",
      "5\n"
     ]
    }
   ],
   "source": [
    "i=0\n",
    "while i<5:\n",
    "    i+=1\n",
    "    print(i)\n",
    "    if i==5:\n",
    "        continue\n",
    "   "
   ]
  },
  {
   "cell_type": "code",
   "execution_count": 9,
   "id": "f8105bfa-54d6-4723-aa48-a1c52a6e6fe2",
   "metadata": {},
   "outputs": [
    {
     "name": "stdout",
     "output_type": "stream",
     "text": [
      "[0, 1, 1, 2, 3, 5, 8, 13, 21, 34, 55, 89, 144, 233, 377]\n"
     ]
    }
   ],
   "source": [
    "l=[0,1] # [0,1,1,2,3,5,8,13,] #fibbonacci series\n",
    "while len(l)<15:\n",
    "    s=l[-1]+l[-2]\n",
    "    l.append(s)\n",
    "    # print(s,l)\n",
    "print(l)"
   ]
  },
  {
   "cell_type": "code",
   "execution_count": 11,
   "id": "39e15a90",
   "metadata": {},
   "outputs": [
    {
     "name": "stdin",
     "output_type": "stream",
     "text": [
      "enter the number:  1\n",
      "enter the number:  2\n"
     ]
    },
    {
     "data": {
      "text/plain": [
       "[1, 2, 3, 5, 8, 13, 21, 34, 55, 89]"
      ]
     },
     "execution_count": 11,
     "metadata": {},
     "output_type": "execute_result"
    }
   ],
   "source": [
    "a= int(input('enter the number: '))\n",
    "b= int(input('enter the number: '))\n",
    "l=[a,b]\n",
    "while len(l)<10:\n",
    "    l.append(l[-1]+l[-2])\n",
    "l"
   ]
  },
  {
   "cell_type": "code",
   "execution_count": 16,
   "id": "15dba615-2d63-4c97-9fc8-39c88eb33377",
   "metadata": {},
   "outputs": [
    {
     "name": "stdout",
     "output_type": "stream",
     "text": [
      "1 2\n"
     ]
    }
   ],
   "source": [
    "print(1, end=' ')\n",
    "print(2)"
   ]
  },
  {
   "cell_type": "code",
   "execution_count": 12,
   "id": "a41f44b3",
   "metadata": {},
   "outputs": [
    {
     "name": "stdin",
     "output_type": "stream",
     "text": [
      "enter the number:  0\n",
      "enter the number:  1\n"
     ]
    },
    {
     "name": "stdout",
     "output_type": "stream",
     "text": [
      "0 1 1 2 3 5 8 13 21 34 "
     ]
    }
   ],
   "source": [
    "a= int(input('enter the number: '))\n",
    "b= int(input('enter the number: '))\n",
    "print(a,b,end=' ')\n",
    "c=0\n",
    "while c<8:\n",
    "    s=a+b\n",
    "    a,b = b,s\n",
    "    print(s,end = ' ')\n",
    "    c+=1"
   ]
  },
  {
   "cell_type": "code",
   "execution_count": 17,
   "id": "a5bf46e8",
   "metadata": {},
   "outputs": [
    {
     "name": "stdin",
     "output_type": "stream",
     "text": [
      "enter the number:  0\n",
      "enter the number:  1\n",
      "enter the number:  350\n"
     ]
    },
    {
     "name": "stdout",
     "output_type": "stream",
     "text": [
      "0 1 1 2 3 5 8 13 21 34 55 89 144 233 "
     ]
    }
   ],
   "source": [
    "# last_element of fibbonacci series should be less than n=350, start value with a=0, b=1\n",
    "a = int(input('enter the number: '))\n",
    "b = int(input('enter the number: '))\n",
    "n = int(input('enter the number: '))\n",
    "s=0\n",
    "print(a,end=' ')\n",
    "while s<n:\n",
    "    s=a+b\n",
    "    a,b=b,s\n",
    "    print(a,end=' ')\n",
    "    \n",
    "    "
   ]
  },
  {
   "cell_type": "code",
   "execution_count": null,
   "id": "f9edd68c-9520-47cb-9fce-10dc46f623ff",
   "metadata": {},
   "outputs": [],
   "source": [
    "# merge sort\n",
    "l1=[-2,-1,0,1,2,3,3,4,5]\n",
    "l2=[2,2,3,4,5,6,7,8]\n",
    "# l = [0,1,2,2,2,3,3,3,4,4,5,5,6,7,8] # result\n",
    "i=0\n",
    "j=0\n",
    "l=[]\n",
    "while i<len(l1) and j<len(l2):\n",
    "    if l1[i]<=l2[j]:\n",
    "        l.append(l1[i])\n",
    "        i+=1\n",
    "    else:\n",
    "        l.append(l2[j])\n",
    "        j+=1\n",
    "\n",
    "l.extend(l2[j+1:])\n",
    "l.extend(l1[i+1:])\n",
    "l"
   ]
  },
  {
   "cell_type": "code",
   "execution_count": null,
   "id": "caf68909-ce8c-4544-a16b-5b55017fbc7b",
   "metadata": {},
   "outputs": [],
   "source": [
    "# [1,3,2,4,5,2,6,2,8,0,1]\n",
    "# [1,3,2,4,5], [2,6,2,8,0,1]\n",
    "# [1,3,2], [4,5], [2,6,2], [8,0,1]\n",
    "# [1,3,],[2], [4],[5], [2,6], [2], [8,0], [1]\n",
    "# [1],[3],[2],[4],[5],[2],[6],[2],[8],[0],[1]\n",
    "# [1,3],[2,4],[4,5],[2,6],[2,8],[0,1]\n",
    "# [1,2,3,4],[2,4,5,6],[0,1,2,8]\n",
    "# [1,2,2,3,]"
   ]
  },
  {
   "cell_type": "code",
   "execution_count": null,
   "id": "1cc96152-1195-4962-831d-b1969cdd86b0",
   "metadata": {},
   "outputs": [],
   "source": []
  }
 ],
 "metadata": {
  "kernelspec": {
   "display_name": "Python 3 (ipykernel)",
   "language": "python",
   "name": "python3"
  },
  "language_info": {
   "codemirror_mode": {
    "name": "ipython",
    "version": 3
   },
   "file_extension": ".py",
   "mimetype": "text/x-python",
   "name": "python",
   "nbconvert_exporter": "python",
   "pygments_lexer": "ipython3",
   "version": "3.12.7"
  }
 },
 "nbformat": 4,
 "nbformat_minor": 5
}
