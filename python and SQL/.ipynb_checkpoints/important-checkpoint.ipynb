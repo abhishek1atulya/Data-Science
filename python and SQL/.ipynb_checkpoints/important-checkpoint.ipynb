{
 "cells": [
  {
   "cell_type": "code",
   "execution_count": 3,
   "id": "c3d8b1d1-fa22-4e9d-8421-e1e1b73108b1",
   "metadata": {
    "scrolled": true
   },
   "outputs": [
    {
     "data": {
      "text/plain": [
       "2"
      ]
     },
     "execution_count": 3,
     "metadata": {},
     "output_type": "execute_result"
    }
   ],
   "source": [
    "15//6"
   ]
  },
  {
   "cell_type": "code",
   "execution_count": 9,
   "id": "1994c0db-9a4a-428d-b468-2dfd2b23dbda",
   "metadata": {},
   "outputs": [
    {
     "data": {
      "text/plain": [
       "13"
      ]
     },
     "execution_count": 9,
     "metadata": {},
     "output_type": "execute_result"
    }
   ],
   "source": [
    "f= '13'\n",
    "int(f)"
   ]
  },
  {
   "cell_type": "code",
   "execution_count": 7,
   "id": "47008ae9-801a-499d-b1f1-4444b619ac79",
   "metadata": {},
   "outputs": [
    {
     "data": {
      "text/plain": [
       "True"
      ]
     },
     "execution_count": 7,
     "metadata": {},
     "output_type": "execute_result"
    }
   ],
   "source": [
    "5>2 and 5<7 and 2<=2"
   ]
  },
  {
   "cell_type": "code",
   "execution_count": 11,
   "id": "ccb87683",
   "metadata": {},
   "outputs": [
    {
     "data": {
      "text/plain": [
       "6"
      ]
     },
     "execution_count": 11,
     "metadata": {},
     "output_type": "execute_result"
    }
   ],
   "source": [
    "# integer and float\n",
    "\n",
    "# * :-***\n",
    "# 2*3\n",
    "# *= :-***\n",
    "# s=2\n",
    "# s*=3\n",
    "# s\n",
    "# ** :-***\n",
    "# % :-***\n",
    "# + :-***\n",
    "# += :-***\n",
    "# - :-***\n",
    "# -= :-***\n",
    "# / :-***\n",
    "# /= :-***\n",
    "# // :-***\n",
    "# == :-***\n",
    "# != :-***\n",
    "\n",
    "# and :-***\n",
    "# or :-***\n",
    "# in :-***\n",
    "# not :-***\n",
    "# not in :-***\n",
    "\n",
    "# type :-***\n",
    "# id :-**\n",
    "# str :-***\n",
    "# int :-***\n",
    "# float :-***\n",
    "# input :-***"
   ]
  },
  {
   "cell_type": "code",
   "execution_count": 12,
   "id": "89f88237",
   "metadata": {},
   "outputs": [],
   "source": [
    "# string\n",
    "\n",
    "# magic method / operator\n",
    "\n",
    "# + :- **\n",
    "# += :- ***\n",
    "# in :- ***\n",
    "# == :- ***\n",
    "# * :- **\n",
    "# [] slicing and index :- ****\n",
    "# f :- **\n",
    "\n",
    "# method / functions\n",
    "\n",
    "# str- ***\n",
    "# reversed\n",
    "# len() :- ***\n",
    "# capitalize :- *\n",
    "# center :- *\n",
    "# count() :- **\n",
    "# endswith:- *\n",
    "# find:- **\n",
    "# index:- **\n",
    "# format:- *\n",
    "# isalpha:- *\n",
    "# isdecimal:- *\n",
    "# islower:- *\n",
    "# isspace:- *\n",
    "# join:- ***\n",
    "# lower:- **\n",
    "# replace:- *\n",
    "# split:- ***\n",
    "# strip:- ***\n",
    "# title:- *\n",
    "# upper:- **"
   ]
  },
  {
   "cell_type": "code",
   "execution_count": null,
   "id": "1eaba49d-8ce4-4623-ae7e-b88a503a8cab",
   "metadata": {},
   "outputs": [],
   "source": []
  },
  {
   "cell_type": "code",
   "execution_count": 13,
   "id": "4108fe5a",
   "metadata": {},
   "outputs": [],
   "source": [
    "# list\n",
    "\n",
    "# magic method / operator\n",
    "\n",
    "# + :- *\n",
    "# += :- *\n",
    "# in :- **\n",
    "# == :- **\n",
    "# [] slicing and index :- ***\n",
    "# len :- ***\n",
    "# l[i]=value :- ***\n",
    "\n",
    "# method / functions\n",
    "\n",
    "# list- ***\n",
    "# append:- ***\n",
    "# copy:- *\n",
    "# count:- **\n",
    "# extend:- **\n",
    "# index:- ***\n",
    "# insert:- **\n",
    "# pop:- **\n",
    "# remove:- **\n",
    "# reverse:- **\n",
    "# sort:- ***"
   ]
  },
  {
   "cell_type": "code",
   "execution_count": 14,
   "id": "91a34933",
   "metadata": {},
   "outputs": [],
   "source": [
    "# dictionary\n",
    "\n",
    "# magic method / operator\n",
    "\n",
    "# in :- *\n",
    "# [key] :- ***\n",
    "# [key]=value :- ***\n",
    "\n",
    "# method / functions\n",
    "\n",
    "# reversed :- **\n",
    "# get :- **\n",
    "# items:- **\n",
    "# keys :- **\n",
    "# pop :- *\n",
    "# values :- **\n",
    "# setdefault :- **\n",
    "# update :- *"
   ]
  },
  {
   "cell_type": "code",
   "execution_count": 15,
   "id": "e1728479",
   "metadata": {},
   "outputs": [],
   "source": [
    "# set\n",
    "# magic method / operator\n",
    "# & :- **\n",
    "# in :- *\n",
    "# == :- **\n",
    "# > :- *\n",
    "# &= :- *\n",
    "# |= :- *\n",
    "# ^ :- *\n",
    "# len :- ***\n",
    "# - :- *\n",
    "\n",
    "# method / functions\n",
    "\n",
    "# add :- ***\n",
    "# discard :- ***\n",
    "# remove :- ***\n",
    "# update :- **\n",
    "# set :- ***"
   ]
  },
  {
   "cell_type": "code",
   "execution_count": 16,
   "id": "762eb3ff",
   "metadata": {},
   "outputs": [],
   "source": [
    "# tuple\n",
    "\n",
    "# magic method / operator\n",
    "\n",
    "# + :-*\n",
    "# in :-**\n",
    "# [indexing and slicing] :-***\n",
    "# hash :-*\n",
    "# * :-*\n",
    "# methods / functions\n",
    "\n",
    "# count :-**\n",
    "# index :-***"
   ]
  },
  {
   "cell_type": "code",
   "execution_count": 17,
   "id": "bfc6b28f",
   "metadata": {},
   "outputs": [],
   "source": [
    "# condional statment(if,elif,else) :-*******\n",
    "# for loop :-*******\n",
    "# while loop :-*******"
   ]
  }
 ],
 "metadata": {
  "kernelspec": {
   "display_name": "Python 3 (ipykernel)",
   "language": "python",
   "name": "python3"
  },
  "language_info": {
   "codemirror_mode": {
    "name": "ipython",
    "version": 3
   },
   "file_extension": ".py",
   "mimetype": "text/x-python",
   "name": "python",
   "nbconvert_exporter": "python",
   "pygments_lexer": "ipython3",
   "version": "3.12.7"
  }
 },
 "nbformat": 4,
 "nbformat_minor": 5
}
