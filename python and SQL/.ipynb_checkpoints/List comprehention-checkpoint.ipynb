{
 "cells": [
  {
   "cell_type": "code",
   "execution_count": 1,
   "id": "2cb8af9d",
   "metadata": {},
   "outputs": [],
   "source": [
    "# it creates the iterable value\n",
    "# [output for loop conditional statement]"
   ]
  },
  {
   "cell_type": "code",
   "execution_count": 8,
   "id": "57607d86",
   "metadata": {},
   "outputs": [
    {
     "ename": "SyntaxError",
     "evalue": "invalid syntax (2522874266.py, line 1)",
     "output_type": "error",
     "traceback": [
      "\u001b[1;36m  Cell \u001b[1;32mIn[8], line 1\u001b[1;36m\u001b[0m\n\u001b[1;33m    [i for i in range(20) if i%2==0 else i+1]\u001b[0m\n\u001b[1;37m                                    ^\u001b[0m\n\u001b[1;31mSyntaxError\u001b[0m\u001b[1;31m:\u001b[0m invalid syntax\n"
     ]
    }
   ],
   "source": [
    "[i for i in range(20) if i%2==0]"
   ]
  },
  {
   "cell_type": "code",
   "execution_count": 7,
   "id": "ab28dabc",
   "metadata": {},
   "outputs": [
    {
     "ename": "SyntaxError",
     "evalue": "invalid syntax. Perhaps you forgot a comma? (1074145786.py, line 2)",
     "output_type": "error",
     "traceback": [
      "\u001b[1;36m  Cell \u001b[1;32mIn[7], line 2\u001b[1;36m\u001b[0m\n\u001b[1;33m    dict([key value for key value in enumerate(l)])\u001b[0m\n\u001b[1;37m          ^\u001b[0m\n\u001b[1;31mSyntaxError\u001b[0m\u001b[1;31m:\u001b[0m invalid syntax. Perhaps you forgot a comma?\n"
     ]
    }
   ],
   "source": [
    "[i for i in range(2,20) if prime(i)]"
   ]
  },
  {
   "cell_type": "code",
   "execution_count": 10,
   "id": "93f57e72",
   "metadata": {},
   "outputs": [],
   "source": [
    "a=lambda i,j: i+j if (i+j)%2==0 else None"
   ]
  },
  {
   "cell_type": "code",
   "execution_count": 13,
   "id": "6d25669b",
   "metadata": {},
   "outputs": [],
   "source": [
    "a(1,4)"
   ]
  },
  {
   "cell_type": "code",
   "execution_count": 14,
   "id": "9c78f3e6",
   "metadata": {},
   "outputs": [],
   "source": [
    "# map(fun,iterable) fun:- anyvalue\n",
    "# filter(fun,ietrable) fun:- bool"
   ]
  },
  {
   "cell_type": "code",
   "execution_count": 15,
   "id": "ea7b505c",
   "metadata": {},
   "outputs": [],
   "source": [
    "def prime(n):\n",
    "    if n<2:\n",
    "        return False\n",
    "    elif 4>n>2:\n",
    "        return True\n",
    "    else:\n",
    "        s= int(n**(1/2))\n",
    "        for i in range(2,s+1):\n",
    "            if n%i==0:\n",
    "                return False\n",
    "        return True"
   ]
  },
  {
   "cell_type": "code",
   "execution_count": 17,
   "id": "e0313e0e",
   "metadata": {},
   "outputs": [
    {
     "data": {
      "text/plain": [
       "[2, 3, 5, 7, 11, 13, 17, 19, 23, 29, 31, 37, 41, 43, 47]"
      ]
     },
     "execution_count": 17,
     "metadata": {},
     "output_type": "execute_result"
    }
   ],
   "source": [
    "list(filter(prime,range(2,50)))"
   ]
  },
  {
   "cell_type": "code",
   "execution_count": 20,
   "id": "638f1e77",
   "metadata": {},
   "outputs": [
    {
     "data": {
      "text/plain": [
       "[(2, 21, 2),\n",
       " (3, 31, 3),\n",
       " (5, 51, 5),\n",
       " (7, 71, 7),\n",
       " (11, 111, 11),\n",
       " (13, 131, 13),\n",
       " (17, 171, 17),\n",
       " (19, 191, 19),\n",
       " (23, 231, 23),\n",
       " (29, 291, 29),\n",
       " (31, 31, 31),\n",
       " (37, 37, 37),\n",
       " (41, 41, 41),\n",
       " (43, 43, 43),\n",
       " (47, 47, 47)]"
      ]
     },
     "execution_count": 20,
     "metadata": {},
     "output_type": "execute_result"
    }
   ],
   "source": [
    "l1=[2, 3, 5, 7, 11, 13, 17, 19, 23, 29, 31, 37, 41, 43, 47]\n",
    "l2=[21, 31, 51, 71, 111, 131, 171, 191, 231, 291, 31, 37, 41, 43, 47]\n",
    "l3=[2, 3, 5, 7, 11, 13, 17, 19, 23, 29, 31, 37, 41, 43, 47]\n",
    "list(zip(l1,l2,l3))"
   ]
  },
  {
   "cell_type": "code",
   "execution_count": 21,
   "id": "4bcc1d47",
   "metadata": {},
   "outputs": [
    {
     "data": {
      "text/plain": [
       "1234"
      ]
     },
     "execution_count": 21,
     "metadata": {},
     "output_type": "execute_result"
    }
   ],
   "source": [
    "abs(-1234)"
   ]
  },
  {
   "cell_type": "code",
   "execution_count": 22,
   "id": "4af37fe7",
   "metadata": {},
   "outputs": [
    {
     "data": {
      "text/plain": [
       "False"
      ]
     },
     "execution_count": 22,
     "metadata": {},
     "output_type": "execute_result"
    }
   ],
   "source": [
    "all([True,False,True])"
   ]
  },
  {
   "cell_type": "code",
   "execution_count": 23,
   "id": "602c1072",
   "metadata": {},
   "outputs": [
    {
     "data": {
      "text/plain": [
       "True"
      ]
     },
     "execution_count": 23,
     "metadata": {},
     "output_type": "execute_result"
    }
   ],
   "source": [
    "all([True,True,True])"
   ]
  },
  {
   "cell_type": "code",
   "execution_count": 24,
   "id": "e822709b",
   "metadata": {},
   "outputs": [
    {
     "data": {
      "text/plain": [
       "True"
      ]
     },
     "execution_count": 24,
     "metadata": {},
     "output_type": "execute_result"
    }
   ],
   "source": [
    "any([True,False,True])"
   ]
  },
  {
   "cell_type": "code",
   "execution_count": 25,
   "id": "1466e55d",
   "metadata": {},
   "outputs": [
    {
     "data": {
      "text/plain": [
       "False"
      ]
     },
     "execution_count": 25,
     "metadata": {},
     "output_type": "execute_result"
    }
   ],
   "source": [
    "any([False,False,False])"
   ]
  },
  {
   "cell_type": "code",
   "execution_count": 28,
   "id": "67bd813d",
   "metadata": {},
   "outputs": [
    {
     "data": {
      "text/plain": [
       "\"'a'\""
      ]
     },
     "execution_count": 28,
     "metadata": {},
     "output_type": "execute_result"
    }
   ],
   "source": [
    "ascii('a')"
   ]
  },
  {
   "cell_type": "code",
   "execution_count": 29,
   "id": "659da47b",
   "metadata": {},
   "outputs": [
    {
     "data": {
      "text/plain": [
       "4"
      ]
     },
     "execution_count": 29,
     "metadata": {},
     "output_type": "execute_result"
    }
   ],
   "source": [
    "eval('1+1*3')"
   ]
  },
  {
   "cell_type": "code",
   "execution_count": 31,
   "id": "ead45845",
   "metadata": {},
   "outputs": [
    {
     "data": {
      "text/plain": [
       "4"
      ]
     },
     "execution_count": 31,
     "metadata": {},
     "output_type": "execute_result"
    }
   ],
   "source": [
    "eval('x**2+2*x+1',{'x':1})"
   ]
  },
  {
   "cell_type": "code",
   "execution_count": 32,
   "id": "3d8c3553",
   "metadata": {},
   "outputs": [
    {
     "data": {
      "text/plain": [
       "2.35"
      ]
     },
     "execution_count": 32,
     "metadata": {},
     "output_type": "execute_result"
    }
   ],
   "source": [
    "round(2.3454,2)"
   ]
  },
  {
   "cell_type": "code",
   "execution_count": 33,
   "id": "be6c4e35",
   "metadata": {},
   "outputs": [
    {
     "data": {
      "text/plain": [
       "'0b1100'"
      ]
     },
     "execution_count": 33,
     "metadata": {},
     "output_type": "execute_result"
    }
   ],
   "source": [
    "bin(12)"
   ]
  },
  {
   "cell_type": "code",
   "execution_count": 35,
   "id": "d42dd5b5",
   "metadata": {},
   "outputs": [
    {
     "data": {
      "text/plain": [
       "False"
      ]
     },
     "execution_count": 35,
     "metadata": {},
     "output_type": "execute_result"
    }
   ],
   "source": [
    "bool(None)"
   ]
  },
  {
   "cell_type": "code",
   "execution_count": 40,
   "id": "a5b9190e",
   "metadata": {},
   "outputs": [
    {
     "data": {
      "text/plain": [
       "[4, 5]"
      ]
     },
     "execution_count": 40,
     "metadata": {},
     "output_type": "execute_result"
    }
   ],
   "source": [
    "[1,2,3,4,5,6,7,8,9,0][slice(3,5)]"
   ]
  },
  {
   "cell_type": "code",
   "execution_count": 42,
   "id": "fff8f4cb",
   "metadata": {},
   "outputs": [
    {
     "data": {
      "text/plain": [
       "{'__name__': '__main__',\n",
       " '__doc__': 'Automatically created module for IPython interactive environment',\n",
       " '__package__': None,\n",
       " '__loader__': None,\n",
       " '__spec__': None,\n",
       " '__builtin__': <module 'builtins' (built-in)>,\n",
       " '__builtins__': <module 'builtins' (built-in)>,\n",
       " '_ih': ['',\n",
       "  '# it creates the iterable value\\n# [output for loop conditional statement]',\n",
       "  '[i for i in range(20) if i%2==0]',\n",
       "  '(i for i in range(20) if i%2==0)',\n",
       "  '{i for i in range(20) if i%2==0}',\n",
       "  '[i for i in range(20) if i%2==0]',\n",
       "  'l=[0, 2, 4, 6, 8, 10, 12, 14, 16, 18]\\ndict([key,value for key value in enumerate(l)])',\n",
       "  'l=[0, 2, 4, 6, 8, 10, 12, 14, 16, 18]\\ndict([key value for key value in enumerate(l)])',\n",
       "  '[i for i in range(20) if i%2==0 else i+1]',\n",
       "  'lambda i,j: i+j if (i+j)%2==0 else None',\n",
       "  'a=lambda i,j: i+j if (i+j)%2==0 else None',\n",
       "  'a(1,3)',\n",
       "  'a(1,5)',\n",
       "  'a(1,4)',\n",
       "  '# map(fun,iterable)\\n# filter(fun,ietrable)',\n",
       "  'def prime(n):\\n    if n<2:\\n        return False\\n    elif 4>n>2:\\n        return True\\n    else:\\n        s= int(n**(1/2))\\n        for i in range(2,s+1):\\n            if n%i==0:\\n                return False\\n        return True',\n",
       "  'list(filter(prime,range(2,100)))',\n",
       "  'list(filter(prime,range(2,50)))',\n",
       "  '[2, 3, 5, 7, 11, 13, 17, 19, 23, 29, 31, 37, 41, 43, 47]\\n[21, 31, 51, 71, 111, 131, 171, 191, 231, 291, 31, 37, 41, 43, 47]',\n",
       "  'l1=[2, 3, 5, 7, 11, 13, 17, 19, 23, 29, 31, 37, 41, 43, 47]\\nl2=[21, 31, 51, 71, 111, 131, 171, 191, 231, 291, 31, 37, 41, 43, 47]\\nlist(zip(l1,l2))',\n",
       "  'l1=[2, 3, 5, 7, 11, 13, 17, 19, 23, 29, 31, 37, 41, 43, 47]\\nl2=[21, 31, 51, 71, 111, 131, 171, 191, 231, 291, 31, 37, 41, 43, 47]\\nl3=[2, 3, 5, 7, 11, 13, 17, 19, 23, 29, 31, 37, 41, 43, 47]\\nlist(zip(l1,l2,l3))',\n",
       "  'abs(-1234)',\n",
       "  'all([True,False,True])',\n",
       "  'all([True,True,True])',\n",
       "  'any([True,False,True])',\n",
       "  'any([False,False,False])',\n",
       "  \"ascii('12')\",\n",
       "  'ascii(12)',\n",
       "  \"ascii('a')\",\n",
       "  \"eval('1+1*3')\",\n",
       "  \"eval('x**2+2*x+1',x=1)\",\n",
       "  \"eval('x**2+2*x+1',{'x':1})\",\n",
       "  'round(2.3454,2)',\n",
       "  'bin(12)',\n",
       "  \"bool('a')\",\n",
       "  'bool(None)',\n",
       "  'slice(3,5,2)',\n",
       "  'list(slice(3,5,2))',\n",
       "  'slice(3,5,2)',\n",
       "  '[1,2,3,4,5,6,7,8,9,0][slice(3,5,2)]',\n",
       "  '[1,2,3,4,5,6,7,8,9,0][slice(3,5)]',\n",
       "  'global()',\n",
       "  'globals()'],\n",
       " '_oh': {2: [0, 2, 4, 6, 8, 10, 12, 14, 16, 18],\n",
       "  3: <generator object <genexpr> at 0x000001A383982180>,\n",
       "  4: {0, 2, 4, 6, 8, 10, 12, 14, 16, 18},\n",
       "  5: [0, 2, 4, 6, 8, 10, 12, 14, 16, 18],\n",
       "  9: <function __main__.<lambda>(i, j)>,\n",
       "  11: 4,\n",
       "  12: 6,\n",
       "  16: [2,\n",
       "   3,\n",
       "   5,\n",
       "   7,\n",
       "   11,\n",
       "   13,\n",
       "   17,\n",
       "   19,\n",
       "   23,\n",
       "   29,\n",
       "   31,\n",
       "   37,\n",
       "   41,\n",
       "   43,\n",
       "   47,\n",
       "   53,\n",
       "   59,\n",
       "   61,\n",
       "   67,\n",
       "   71,\n",
       "   73,\n",
       "   79,\n",
       "   83,\n",
       "   89,\n",
       "   97],\n",
       "  17: [2, 3, 5, 7, 11, 13, 17, 19, 23, 29, 31, 37, 41, 43, 47],\n",
       "  18: [21, 31, 51, 71, 111, 131, 171, 191, 231, 291, 31, 37, 41, 43, 47],\n",
       "  19: [(2, 21),\n",
       "   (3, 31),\n",
       "   (5, 51),\n",
       "   (7, 71),\n",
       "   (11, 111),\n",
       "   (13, 131),\n",
       "   (17, 171),\n",
       "   (19, 191),\n",
       "   (23, 231),\n",
       "   (29, 291),\n",
       "   (31, 31),\n",
       "   (37, 37),\n",
       "   (41, 41),\n",
       "   (43, 43),\n",
       "   (47, 47)],\n",
       "  20: [(2, 21, 2),\n",
       "   (3, 31, 3),\n",
       "   (5, 51, 5),\n",
       "   (7, 71, 7),\n",
       "   (11, 111, 11),\n",
       "   (13, 131, 13),\n",
       "   (17, 171, 17),\n",
       "   (19, 191, 19),\n",
       "   (23, 231, 23),\n",
       "   (29, 291, 29),\n",
       "   (31, 31, 31),\n",
       "   (37, 37, 37),\n",
       "   (41, 41, 41),\n",
       "   (43, 43, 43),\n",
       "   (47, 47, 47)],\n",
       "  21: 1234,\n",
       "  22: False,\n",
       "  23: True,\n",
       "  24: True,\n",
       "  25: False,\n",
       "  26: \"'12'\",\n",
       "  27: '12',\n",
       "  28: \"'a'\",\n",
       "  29: 4,\n",
       "  31: 4,\n",
       "  32: 2.35,\n",
       "  33: '0b1100',\n",
       "  34: True,\n",
       "  35: False,\n",
       "  36: slice(3, 5, 2),\n",
       "  38: slice(3, 5, 2),\n",
       "  39: [4],\n",
       "  40: [4, 5]},\n",
       " '_dh': [WindowsPath('C:/Users/ABC/Untitled Folder/Untitled Folder 1')],\n",
       " 'In': ['',\n",
       "  '# it creates the iterable value\\n# [output for loop conditional statement]',\n",
       "  '[i for i in range(20) if i%2==0]',\n",
       "  '(i for i in range(20) if i%2==0)',\n",
       "  '{i for i in range(20) if i%2==0}',\n",
       "  '[i for i in range(20) if i%2==0]',\n",
       "  'l=[0, 2, 4, 6, 8, 10, 12, 14, 16, 18]\\ndict([key,value for key value in enumerate(l)])',\n",
       "  'l=[0, 2, 4, 6, 8, 10, 12, 14, 16, 18]\\ndict([key value for key value in enumerate(l)])',\n",
       "  '[i for i in range(20) if i%2==0 else i+1]',\n",
       "  'lambda i,j: i+j if (i+j)%2==0 else None',\n",
       "  'a=lambda i,j: i+j if (i+j)%2==0 else None',\n",
       "  'a(1,3)',\n",
       "  'a(1,5)',\n",
       "  'a(1,4)',\n",
       "  '# map(fun,iterable)\\n# filter(fun,ietrable)',\n",
       "  'def prime(n):\\n    if n<2:\\n        return False\\n    elif 4>n>2:\\n        return True\\n    else:\\n        s= int(n**(1/2))\\n        for i in range(2,s+1):\\n            if n%i==0:\\n                return False\\n        return True',\n",
       "  'list(filter(prime,range(2,100)))',\n",
       "  'list(filter(prime,range(2,50)))',\n",
       "  '[2, 3, 5, 7, 11, 13, 17, 19, 23, 29, 31, 37, 41, 43, 47]\\n[21, 31, 51, 71, 111, 131, 171, 191, 231, 291, 31, 37, 41, 43, 47]',\n",
       "  'l1=[2, 3, 5, 7, 11, 13, 17, 19, 23, 29, 31, 37, 41, 43, 47]\\nl2=[21, 31, 51, 71, 111, 131, 171, 191, 231, 291, 31, 37, 41, 43, 47]\\nlist(zip(l1,l2))',\n",
       "  'l1=[2, 3, 5, 7, 11, 13, 17, 19, 23, 29, 31, 37, 41, 43, 47]\\nl2=[21, 31, 51, 71, 111, 131, 171, 191, 231, 291, 31, 37, 41, 43, 47]\\nl3=[2, 3, 5, 7, 11, 13, 17, 19, 23, 29, 31, 37, 41, 43, 47]\\nlist(zip(l1,l2,l3))',\n",
       "  'abs(-1234)',\n",
       "  'all([True,False,True])',\n",
       "  'all([True,True,True])',\n",
       "  'any([True,False,True])',\n",
       "  'any([False,False,False])',\n",
       "  \"ascii('12')\",\n",
       "  'ascii(12)',\n",
       "  \"ascii('a')\",\n",
       "  \"eval('1+1*3')\",\n",
       "  \"eval('x**2+2*x+1',x=1)\",\n",
       "  \"eval('x**2+2*x+1',{'x':1})\",\n",
       "  'round(2.3454,2)',\n",
       "  'bin(12)',\n",
       "  \"bool('a')\",\n",
       "  'bool(None)',\n",
       "  'slice(3,5,2)',\n",
       "  'list(slice(3,5,2))',\n",
       "  'slice(3,5,2)',\n",
       "  '[1,2,3,4,5,6,7,8,9,0][slice(3,5,2)]',\n",
       "  '[1,2,3,4,5,6,7,8,9,0][slice(3,5)]',\n",
       "  'global()',\n",
       "  'globals()'],\n",
       " 'Out': {2: [0, 2, 4, 6, 8, 10, 12, 14, 16, 18],\n",
       "  3: <generator object <genexpr> at 0x000001A383982180>,\n",
       "  4: {0, 2, 4, 6, 8, 10, 12, 14, 16, 18},\n",
       "  5: [0, 2, 4, 6, 8, 10, 12, 14, 16, 18],\n",
       "  9: <function __main__.<lambda>(i, j)>,\n",
       "  11: 4,\n",
       "  12: 6,\n",
       "  16: [2,\n",
       "   3,\n",
       "   5,\n",
       "   7,\n",
       "   11,\n",
       "   13,\n",
       "   17,\n",
       "   19,\n",
       "   23,\n",
       "   29,\n",
       "   31,\n",
       "   37,\n",
       "   41,\n",
       "   43,\n",
       "   47,\n",
       "   53,\n",
       "   59,\n",
       "   61,\n",
       "   67,\n",
       "   71,\n",
       "   73,\n",
       "   79,\n",
       "   83,\n",
       "   89,\n",
       "   97],\n",
       "  17: [2, 3, 5, 7, 11, 13, 17, 19, 23, 29, 31, 37, 41, 43, 47],\n",
       "  18: [21, 31, 51, 71, 111, 131, 171, 191, 231, 291, 31, 37, 41, 43, 47],\n",
       "  19: [(2, 21),\n",
       "   (3, 31),\n",
       "   (5, 51),\n",
       "   (7, 71),\n",
       "   (11, 111),\n",
       "   (13, 131),\n",
       "   (17, 171),\n",
       "   (19, 191),\n",
       "   (23, 231),\n",
       "   (29, 291),\n",
       "   (31, 31),\n",
       "   (37, 37),\n",
       "   (41, 41),\n",
       "   (43, 43),\n",
       "   (47, 47)],\n",
       "  20: [(2, 21, 2),\n",
       "   (3, 31, 3),\n",
       "   (5, 51, 5),\n",
       "   (7, 71, 7),\n",
       "   (11, 111, 11),\n",
       "   (13, 131, 13),\n",
       "   (17, 171, 17),\n",
       "   (19, 191, 19),\n",
       "   (23, 231, 23),\n",
       "   (29, 291, 29),\n",
       "   (31, 31, 31),\n",
       "   (37, 37, 37),\n",
       "   (41, 41, 41),\n",
       "   (43, 43, 43),\n",
       "   (47, 47, 47)],\n",
       "  21: 1234,\n",
       "  22: False,\n",
       "  23: True,\n",
       "  24: True,\n",
       "  25: False,\n",
       "  26: \"'12'\",\n",
       "  27: '12',\n",
       "  28: \"'a'\",\n",
       "  29: 4,\n",
       "  31: 4,\n",
       "  32: 2.35,\n",
       "  33: '0b1100',\n",
       "  34: True,\n",
       "  35: False,\n",
       "  36: slice(3, 5, 2),\n",
       "  38: slice(3, 5, 2),\n",
       "  39: [4],\n",
       "  40: [4, 5]},\n",
       " 'get_ipython': <bound method InteractiveShell.get_ipython of <ipykernel.zmqshell.ZMQInteractiveShell object at 0x000001A383614280>>,\n",
       " 'exit': <IPython.core.autocall.ZMQExitAutocall at 0x1a383617ca0>,\n",
       " 'quit': <IPython.core.autocall.ZMQExitAutocall at 0x1a383617ca0>,\n",
       " 'open': <function io.open(file, mode='r', buffering=-1, encoding=None, errors=None, newline=None, closefd=True, opener=None)>,\n",
       " '_': [4, 5],\n",
       " '__': [4],\n",
       " '___': slice(3, 5, 2),\n",
       " '_i': 'global()',\n",
       " '_ii': '[1,2,3,4,5,6,7,8,9,0][slice(3,5)]',\n",
       " '_iii': '[1,2,3,4,5,6,7,8,9,0][slice(3,5,2)]',\n",
       " '_i1': '# it creates the iterable value\\n# [output for loop conditional statement]',\n",
       " '_i2': '[i for i in range(20) if i%2==0]',\n",
       " '_2': [0, 2, 4, 6, 8, 10, 12, 14, 16, 18],\n",
       " '_i3': '(i for i in range(20) if i%2==0)',\n",
       " '_3': <generator object <genexpr> at 0x000001A383982180>,\n",
       " '_i4': '{i for i in range(20) if i%2==0}',\n",
       " '_4': {0, 2, 4, 6, 8, 10, 12, 14, 16, 18},\n",
       " '_i5': '[i for i in range(20) if i%2==0]',\n",
       " '_5': [0, 2, 4, 6, 8, 10, 12, 14, 16, 18],\n",
       " '_i6': 'l=[0, 2, 4, 6, 8, 10, 12, 14, 16, 18]\\ndict([key,value for key value in enumerate(l)])',\n",
       " '_i7': 'l=[0, 2, 4, 6, 8, 10, 12, 14, 16, 18]\\ndict([key value for key value in enumerate(l)])',\n",
       " '_i8': '[i for i in range(20) if i%2==0 else i+1]',\n",
       " '_i9': 'lambda i,j: i+j if (i+j)%2==0 else None',\n",
       " '_9': <function __main__.<lambda>(i, j)>,\n",
       " '_i10': 'a=lambda i,j: i+j if (i+j)%2==0 else None',\n",
       " 'a': <function __main__.<lambda>(i, j)>,\n",
       " '_i11': 'a(1,3)',\n",
       " '_11': 4,\n",
       " '_i12': 'a(1,5)',\n",
       " '_12': 6,\n",
       " '_i13': 'a(1,4)',\n",
       " '_i14': '# map(fun,iterable)\\n# filter(fun,ietrable)',\n",
       " '_i15': 'def prime(n):\\n    if n<2:\\n        return False\\n    elif 4>n>2:\\n        return True\\n    else:\\n        s= int(n**(1/2))\\n        for i in range(2,s+1):\\n            if n%i==0:\\n                return False\\n        return True',\n",
       " 'prime': <function __main__.prime(n)>,\n",
       " '_i16': 'list(filter(prime,range(2,100)))',\n",
       " '_16': [2,\n",
       "  3,\n",
       "  5,\n",
       "  7,\n",
       "  11,\n",
       "  13,\n",
       "  17,\n",
       "  19,\n",
       "  23,\n",
       "  29,\n",
       "  31,\n",
       "  37,\n",
       "  41,\n",
       "  43,\n",
       "  47,\n",
       "  53,\n",
       "  59,\n",
       "  61,\n",
       "  67,\n",
       "  71,\n",
       "  73,\n",
       "  79,\n",
       "  83,\n",
       "  89,\n",
       "  97],\n",
       " '_i17': 'list(filter(prime,range(2,50)))',\n",
       " '_17': [2, 3, 5, 7, 11, 13, 17, 19, 23, 29, 31, 37, 41, 43, 47],\n",
       " '_i18': '[2, 3, 5, 7, 11, 13, 17, 19, 23, 29, 31, 37, 41, 43, 47]\\n[21, 31, 51, 71, 111, 131, 171, 191, 231, 291, 31, 37, 41, 43, 47]',\n",
       " '_18': [21, 31, 51, 71, 111, 131, 171, 191, 231, 291, 31, 37, 41, 43, 47],\n",
       " '_i19': 'l1=[2, 3, 5, 7, 11, 13, 17, 19, 23, 29, 31, 37, 41, 43, 47]\\nl2=[21, 31, 51, 71, 111, 131, 171, 191, 231, 291, 31, 37, 41, 43, 47]\\nlist(zip(l1,l2))',\n",
       " 'l1': [2, 3, 5, 7, 11, 13, 17, 19, 23, 29, 31, 37, 41, 43, 47],\n",
       " 'l2': [21, 31, 51, 71, 111, 131, 171, 191, 231, 291, 31, 37, 41, 43, 47],\n",
       " '_19': [(2, 21),\n",
       "  (3, 31),\n",
       "  (5, 51),\n",
       "  (7, 71),\n",
       "  (11, 111),\n",
       "  (13, 131),\n",
       "  (17, 171),\n",
       "  (19, 191),\n",
       "  (23, 231),\n",
       "  (29, 291),\n",
       "  (31, 31),\n",
       "  (37, 37),\n",
       "  (41, 41),\n",
       "  (43, 43),\n",
       "  (47, 47)],\n",
       " '_i20': 'l1=[2, 3, 5, 7, 11, 13, 17, 19, 23, 29, 31, 37, 41, 43, 47]\\nl2=[21, 31, 51, 71, 111, 131, 171, 191, 231, 291, 31, 37, 41, 43, 47]\\nl3=[2, 3, 5, 7, 11, 13, 17, 19, 23, 29, 31, 37, 41, 43, 47]\\nlist(zip(l1,l2,l3))',\n",
       " 'l3': [2, 3, 5, 7, 11, 13, 17, 19, 23, 29, 31, 37, 41, 43, 47],\n",
       " '_20': [(2, 21, 2),\n",
       "  (3, 31, 3),\n",
       "  (5, 51, 5),\n",
       "  (7, 71, 7),\n",
       "  (11, 111, 11),\n",
       "  (13, 131, 13),\n",
       "  (17, 171, 17),\n",
       "  (19, 191, 19),\n",
       "  (23, 231, 23),\n",
       "  (29, 291, 29),\n",
       "  (31, 31, 31),\n",
       "  (37, 37, 37),\n",
       "  (41, 41, 41),\n",
       "  (43, 43, 43),\n",
       "  (47, 47, 47)],\n",
       " '_i21': 'abs(-1234)',\n",
       " '_21': 1234,\n",
       " '_i22': 'all([True,False,True])',\n",
       " '_22': False,\n",
       " '_i23': 'all([True,True,True])',\n",
       " '_23': True,\n",
       " '_i24': 'any([True,False,True])',\n",
       " '_24': True,\n",
       " '_i25': 'any([False,False,False])',\n",
       " '_25': False,\n",
       " '_i26': \"ascii('12')\",\n",
       " '_26': \"'12'\",\n",
       " '_i27': 'ascii(12)',\n",
       " '_27': '12',\n",
       " '_i28': \"ascii('a')\",\n",
       " '_28': \"'a'\",\n",
       " '_i29': \"eval('1+1*3')\",\n",
       " '_29': 4,\n",
       " '_i30': \"eval('x**2+2*x+1',x=1)\",\n",
       " '_i31': \"eval('x**2+2*x+1',{'x':1})\",\n",
       " '_31': 4,\n",
       " '_i32': 'round(2.3454,2)',\n",
       " '_32': 2.35,\n",
       " '_i33': 'bin(12)',\n",
       " '_33': '0b1100',\n",
       " '_i34': \"bool('a')\",\n",
       " '_34': True,\n",
       " '_i35': 'bool(None)',\n",
       " '_35': False,\n",
       " '_i36': 'slice(3,5,2)',\n",
       " '_36': slice(3, 5, 2),\n",
       " '_i37': 'list(slice(3,5,2))',\n",
       " '_i38': 'slice(3,5,2)',\n",
       " '_38': slice(3, 5, 2),\n",
       " '_i39': '[1,2,3,4,5,6,7,8,9,0][slice(3,5,2)]',\n",
       " '_39': [4],\n",
       " '_i40': '[1,2,3,4,5,6,7,8,9,0][slice(3,5)]',\n",
       " '_40': [4, 5],\n",
       " '_i41': 'global()',\n",
       " '_i42': 'globals()'}"
      ]
     },
     "execution_count": 42,
     "metadata": {},
     "output_type": "execute_result"
    }
   ],
   "source": [
    "globals()"
   ]
  },
  {
   "cell_type": "code",
   "execution_count": 43,
   "id": "a04c1d52",
   "metadata": {},
   "outputs": [
    {
     "data": {
      "text/plain": [
       "True"
      ]
     },
     "execution_count": 43,
     "metadata": {},
     "output_type": "execute_result"
    }
   ],
   "source": [
    "isinstance(1,int)"
   ]
  },
  {
   "cell_type": "code",
   "execution_count": 45,
   "id": "ff57a0a9",
   "metadata": {},
   "outputs": [
    {
     "data": {
      "text/plain": [
       "False"
      ]
     },
     "execution_count": 45,
     "metadata": {},
     "output_type": "execute_result"
    }
   ],
   "source": [
    "isinstance('1,int', int)"
   ]
  },
  {
   "cell_type": "code",
   "execution_count": 46,
   "id": "9067aaf0",
   "metadata": {},
   "outputs": [
    {
     "data": {
      "text/plain": [
       "True"
      ]
     },
     "execution_count": 46,
     "metadata": {},
     "output_type": "execute_result"
    }
   ],
   "source": [
    "isinstance('1,int', str)"
   ]
  },
  {
   "cell_type": "code",
   "execution_count": 47,
   "id": "b5952880",
   "metadata": {},
   "outputs": [
    {
     "data": {
      "text/plain": [
       "8"
      ]
     },
     "execution_count": 47,
     "metadata": {},
     "output_type": "execute_result"
    }
   ],
   "source": [
    "2**3"
   ]
  },
  {
   "cell_type": "code",
   "execution_count": 48,
   "id": "823bab95",
   "metadata": {},
   "outputs": [
    {
     "data": {
      "text/plain": [
       "8"
      ]
     },
     "execution_count": 48,
     "metadata": {},
     "output_type": "execute_result"
    }
   ],
   "source": [
    "pow(2,3)"
   ]
  },
  {
   "cell_type": "code",
   "execution_count": 49,
   "id": "c62b9aac",
   "metadata": {},
   "outputs": [
    {
     "name": "stdout",
     "output_type": "stream",
     "text": [
      "[1, 2, 3, 4]\n",
      "[0, 9, 8, 7]\n",
      "[3, 4, 5, 6]\n"
     ]
    }
   ],
   "source": [
    "m=[[1,2,3,4],[0,9,8,7],[3,4,5,6]]\n",
    "for i in m:\n",
    "    print(i)"
   ]
  },
  {
   "cell_type": "code",
   "execution_count": 51,
   "id": "c24c4504",
   "metadata": {},
   "outputs": [
    {
     "name": "stdout",
     "output_type": "stream",
     "text": [
      "[1, 0, 3]\n",
      "[2, 9, 4]\n",
      "[3, 8, 5]\n",
      "[4, 7, 6]\n"
     ]
    }
   ],
   "source": [
    "t=[[1,0,3],[2,9,4],[3,8,5],[4,7,6]]\n",
    "for i in t:\n",
    "    print(i)"
   ]
  },
  {
   "cell_type": "code",
   "execution_count": 54,
   "id": "d8648656",
   "metadata": {},
   "outputs": [
    {
     "name": "stdout",
     "output_type": "stream",
     "text": [
      "[1, 0, 3]\n",
      "[2, 9, 4]\n",
      "[3, 8, 5]\n",
      "[4, 7, 6]\n"
     ]
    }
   ],
   "source": [
    "m=[[1,2,3,4],[0,9,8,7],[3,4,5,6]]\n",
    "mt=[[m[i][j] for i in range(len(m))] for j in range(len(m[0]))]\n",
    "for i in mt:\n",
    "    print(i)"
   ]
  },
  {
   "cell_type": "code",
   "execution_count": null,
   "id": "45b03453",
   "metadata": {},
   "outputs": [],
   "source": [
    "a**2+b**2==c**2\n",
    "[(3,4,5),(6,8,10),(5,12,13)]"
   ]
  },
  {
   "cell_type": "code",
   "execution_count": 56,
   "id": "b91d54ce",
   "metadata": {},
   "outputs": [
    {
     "data": {
      "text/plain": [
       "[(3, 4, 5), (5, 12, 13), (6, 8, 10), (8, 15, 17), (9, 12, 15)]"
      ]
     },
     "execution_count": 56,
     "metadata": {},
     "output_type": "execute_result"
    }
   ],
   "source": [
    "[(i,j,k) for i in range(1,20) for j in range(i,20) for k in range(j,20) if i**2+j**2==k**2]            "
   ]
  },
  {
   "cell_type": "code",
   "execution_count": 66,
   "id": "494aea72",
   "metadata": {},
   "outputs": [],
   "source": [
    "# sorted(l,key=func,reverse=False)\n",
    "ld=[{'name':'john', 'age':50},{'name':'sam', 'age':30},{'name':'jocky', 'age':45},{'name':'ankit', 'age':20}]"
   ]
  },
  {
   "cell_type": "code",
   "execution_count": 73,
   "id": "330cdcdf",
   "metadata": {},
   "outputs": [
    {
     "data": {
      "text/plain": [
       "[{'name': 'ankit', 'age': 20},\n",
       " {'name': 'sam', 'age': 30},\n",
       " {'name': 'jocky', 'age': 45},\n",
       " {'name': 'john', 'age': 50}]"
      ]
     },
     "execution_count": 73,
     "metadata": {},
     "output_type": "execute_result"
    }
   ],
   "source": [
    "sorted(ld,key=lambda a:a['age'])"
   ]
  },
  {
   "cell_type": "code",
   "execution_count": 76,
   "id": "6742ebba",
   "metadata": {},
   "outputs": [
    {
     "data": {
      "text/plain": [
       "[{'name': 'jocky', 'age': 45}, {'name': 'john', 'age': 50}]"
      ]
     },
     "execution_count": 76,
     "metadata": {},
     "output_type": "execute_result"
    }
   ],
   "source": [
    "sorted(filter(lambda a: True if a['age']>30 else False, ld),key=lambda a:a['age'])"
   ]
  },
  {
   "cell_type": "code",
   "execution_count": 62,
   "id": "eb23315a",
   "metadata": {
    "scrolled": true
   },
   "outputs": [
    {
     "data": {
      "text/plain": [
       "[2, 10, 12, 13, 14, 16, 151, 614]"
      ]
     },
     "execution_count": 62,
     "metadata": {},
     "output_type": "execute_result"
    }
   ],
   "source": [
    "l=[10,2,14,13,151,614,12,16]\n",
    "sorted(l)"
   ]
  },
  {
   "cell_type": "code",
   "execution_count": 63,
   "id": "c5473c19",
   "metadata": {},
   "outputs": [
    {
     "data": {
      "text/plain": [
       "[10, 2, 14, 13, 151, 614, 12, 16]"
      ]
     },
     "execution_count": 63,
     "metadata": {},
     "output_type": "execute_result"
    }
   ],
   "source": [
    "l"
   ]
  },
  {
   "cell_type": "code",
   "execution_count": 64,
   "id": "8c050438",
   "metadata": {},
   "outputs": [],
   "source": [
    "l.sort()"
   ]
  },
  {
   "cell_type": "code",
   "execution_count": 65,
   "id": "c60ba780",
   "metadata": {},
   "outputs": [
    {
     "data": {
      "text/plain": [
       "[2, 10, 12, 13, 14, 16, 151, 614]"
      ]
     },
     "execution_count": 65,
     "metadata": {},
     "output_type": "execute_result"
    }
   ],
   "source": [
    "l"
   ]
  },
  {
   "cell_type": "markdown",
   "id": "6a0d7849",
   "metadata": {},
   "source": [
    "create a lambda function to calculate the square of a number and use it map function to get the square of the numbers"
   ]
  },
  {
   "cell_type": "code",
   "execution_count": 77,
   "id": "31560ff5",
   "metadata": {},
   "outputs": [
    {
     "data": {
      "text/plain": [
       "[1, 4, 9, 16, 25]"
      ]
     },
     "execution_count": 77,
     "metadata": {},
     "output_type": "execute_result"
    }
   ],
   "source": [
    "l=1,2,3,4,5\n",
    "list(map(lambda a: a**2,l))"
   ]
  },
  {
   "cell_type": "code",
   "execution_count": 80,
   "id": "d1367f43",
   "metadata": {},
   "outputs": [
    {
     "name": "stdout",
     "output_type": "stream",
     "text": [
      "1 one 2 two 3 three 4 four 5 five 6 six 7 seven\n"
     ]
    }
   ],
   "source": [
    "n = input().split()"
   ]
  },
  {
   "cell_type": "code",
   "execution_count": 91,
   "id": "c17a5047",
   "metadata": {},
   "outputs": [
    {
     "data": {
      "text/plain": [
       "[(4, 'two'), (16, 'four'), (36, 'six')]"
      ]
     },
     "execution_count": 91,
     "metadata": {},
     "output_type": "execute_result"
    }
   ],
   "source": [
    "list(map(lambda a : (int(a[0])**2,a[1]), list(filter(lambda a: True if int(a[0])%2==0 else False, [(n[i], n[i+1]) for i in range(0,len(n),2)]))))"
   ]
  },
  {
   "cell_type": "code",
   "execution_count": null,
   "id": "ed8f3665",
   "metadata": {},
   "outputs": [],
   "source": []
  }
 ],
 "metadata": {
  "kernelspec": {
   "display_name": "Python 3 (ipykernel)",
   "language": "python",
   "name": "python3"
  },
  "language_info": {
   "codemirror_mode": {
    "name": "ipython",
    "version": 3
   },
   "file_extension": ".py",
   "mimetype": "text/x-python",
   "name": "python",
   "nbconvert_exporter": "python",
   "pygments_lexer": "ipython3",
   "version": "3.10.9"
  }
 },
 "nbformat": 4,
 "nbformat_minor": 5
}
